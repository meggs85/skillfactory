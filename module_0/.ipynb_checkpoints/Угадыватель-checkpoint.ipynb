{
 "cells": [
  {
   "cell_type": "code",
   "execution_count": 9,
   "metadata": {},
   "outputs": [
    {
     "name": "stdout",
     "output_type": "stream",
     "text": [
      "Алгоритм угадывает число на отрезке длины 100 в среднем за 5 попыток\n",
      "Алгоритм угадывает число на отрезке длины 1000 в среднем за 8 попыток\n",
      "Алгоритм угадывает число на отрезке длины 10000 в среднем за 12 попыток\n",
      "Алгоритм угадывает число на отрезке длины 100000 в среднем за 15 попыток\n"
     ]
    }
   ],
   "source": [
    "import numpy as np\n",
    "\n",
    "def game_dichotomy(num_min, num_max, number):\n",
    "    '''Поиск заданного числа на отрезке [num_min, num_max] методом дихотомии,        \n",
    "       Функция принимает загаданное число и возвращает число попыток'''\n",
    "    \n",
    "    count = 0\n",
    "    while True: # вместо цикла и анализа предыдущих шагов через _prev более канонично обойтись рекурсией, но для наглядности - оставил цикл\n",
    "        if (count == 0): # исходные значения для первой итерации\n",
    "            lim_max = num_max+1 # верхняя граница зоны поиска\n",
    "            lim_min = num_min-1 # нижняя граница зоны поиска\n",
    "            predict = (num_max - num_min) // 2   # первичный прогноз <- весь отрезок пополам  \n",
    "            error_prev = number-predict # ошибка на предыдущем шаге\n",
    "            predict_prev = predict # прогноз на предыдущем шаге\n",
    "            \n",
    "        count+=1 # количество шагов (попыток)\n",
    "        \n",
    "        error = number-predict # ошибка. По сути нас интересует лишь ее знак\n",
    "        direction_change = float(error) * float(error_prev) < 0 # ошибка сменила знак? float() страхует от переполнения, если отрезок длинный\n",
    "        \n",
    "        #print(f\"predict {predict} -> error {error} | error_prev {error_prev} | lim_max {lim_max} | lim_min {lim_min} \")\n",
    "        \n",
    "        if (error == 0): \n",
    "            return(count) # угадали\n",
    "        elif (error > 0): # недобор\n",
    "            if (direction_change):\n",
    "                lim_max = predict_prev # из перебора в недобор => верхнюю границу поиска переставляем на предыдущий прогноз \n",
    "            predict_prev = predict\n",
    "            predict += (lim_max - predict) // 2   # прогоз <- правая часть отрезка пополам\n",
    "        else: # перебор\n",
    "            if (direction_change):\n",
    "                lim_min = predict_prev # из недобора в перебор => нижнюю границу поиска переставляем на предыдущий прогноз\n",
    "            predict_prev = predict\n",
    "            predict -= (predict - lim_min) // 2   # прогоз <- левая часть отрезка пополам\n",
    "        \n",
    "        error_prev = error\n",
    "        \n",
    "        \n",
    "def score_game(game_core, num_min, num_max, sample_size):\n",
    "    '''Скоринг алгоритма по числу итераций. \n",
    "    Запускаем игру sample_size раз, чтобы узнать, как быстро игра угадывает число'''\n",
    "    count_ls = []\n",
    "    np.random.seed(1)  \n",
    "    random_array = np.random.randint(num_min, num_max+1, size=(sample_size)) # повторить экспееримент sample_size раз\n",
    "    for number in random_array:\n",
    "        count_ls.append(game_core(num_min, num_max, number))\n",
    "    score = int(np.mean(count_ls))\n",
    "    print(f\"Алгоритм угадывает число на отрезке длины {num_max-num_min+1} в среднем за {score} попыток\")\n",
    "    return(score)\n",
    "\n",
    "\n",
    "'''\n",
    "В качестве угадывающего алгоритма я применил метод дихотомии. \n",
    "Для отрезка 1..100 (как в исходной задаче проекта) - алгоритм угадывает число за 5 попыток.\n",
    "Далее я провел небольшое исследование: полностью параметризовал всю задачу и проанализировал сложность алгоритма \n",
    "в зависимости от варьируемой длины отрезка поиска.\n",
    "Логарифмическая сложность дихотомии очевидна и наглядно подтверждается.\n",
    "'''\n",
    "num_min = 1 # нижняя граница зоны поиска\n",
    "num_max = 100 # верхняя граница зоны поиска\n",
    "sample_size = 1000 # число повторений эксперимента\n",
    "\n",
    "for n in range(0, 4):\n",
    "    score_game(game_dichotomy, num_min, num_max * 10**n, sample_size) # O(n) на разных отрезках (лоарифмический масштаб) "
   ]
  },
  {
   "cell_type": "code",
   "execution_count": null,
   "metadata": {},
   "outputs": [],
   "source": []
  },
  {
   "cell_type": "code",
   "execution_count": null,
   "metadata": {},
   "outputs": [],
   "source": []
  },
  {
   "cell_type": "code",
   "execution_count": null,
   "metadata": {},
   "outputs": [],
   "source": []
  }
 ],
 "metadata": {
  "kernelspec": {
   "display_name": "Python 3",
   "language": "python",
   "name": "python3"
  },
  "language_info": {
   "codemirror_mode": {
    "name": "ipython",
    "version": 3
   },
   "file_extension": ".py",
   "mimetype": "text/x-python",
   "name": "python",
   "nbconvert_exporter": "python",
   "pygments_lexer": "ipython3",
   "version": "3.8.3"
  }
 },
 "nbformat": 4,
 "nbformat_minor": 4
}
