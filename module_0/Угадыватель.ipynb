{
 "cells": [
  {
   "cell_type": "code",
   "execution_count": 1,
   "metadata": {},
   "outputs": [
    {
     "ename": "NameError",
     "evalue": "name 'game' is not defined",
     "output_type": "error",
     "traceback": [
      "\u001b[1;31m---------------------------------------------------------------------------\u001b[0m",
      "\u001b[1;31mNameError\u001b[0m                                 Traceback (most recent call last)",
      "\u001b[1;32m<ipython-input-1-749e20711bb6>\u001b[0m in \u001b[0;36m<module>\u001b[1;34m\u001b[0m\n\u001b[0;32m     55\u001b[0m \u001b[1;33m\u001b[0m\u001b[0m\n\u001b[0;32m     56\u001b[0m \u001b[1;32mfor\u001b[0m \u001b[0mn\u001b[0m \u001b[1;32min\u001b[0m \u001b[0mrange\u001b[0m\u001b[1;33m(\u001b[0m\u001b[1;36m0\u001b[0m\u001b[1;33m,\u001b[0m \u001b[1;36m4\u001b[0m\u001b[1;33m)\u001b[0m\u001b[1;33m:\u001b[0m\u001b[1;33m\u001b[0m\u001b[1;33m\u001b[0m\u001b[0m\n\u001b[1;32m---> 57\u001b[1;33m     \u001b[0mscore_game\u001b[0m\u001b[1;33m(\u001b[0m\u001b[0mgame\u001b[0m\u001b[1;33m,\u001b[0m \u001b[0mnum_min\u001b[0m\u001b[1;33m,\u001b[0m \u001b[0mnum_max\u001b[0m \u001b[1;33m*\u001b[0m \u001b[1;36m10\u001b[0m\u001b[1;33m**\u001b[0m\u001b[0mn\u001b[0m\u001b[1;33m,\u001b[0m \u001b[0msample_size\u001b[0m\u001b[1;33m)\u001b[0m \u001b[1;31m# O(n) at cases of n in logariphmic scale\u001b[0m\u001b[1;33m\u001b[0m\u001b[1;33m\u001b[0m\u001b[0m\n\u001b[0m",
      "\u001b[1;31mNameError\u001b[0m: name 'game' is not defined"
     ]
    }
   ],
   "source": [
    "import numpy as np\n",
    "\n",
    "def game_dichotomy(num_min, num_max, number):\n",
    "    '''Метод дихотомии отрезка на основе знака ошибки.\n",
    "       Функция принимает загаданное число и возвращает число попыток'''\n",
    "    \n",
    "    count = 0\n",
    "    while True:\n",
    "        if (count == 0): # initialization at first iteration\n",
    "            predict = (num_max - num_min) // 2 # first predict - dihotomy  \n",
    "            lim_max = num_max+1\n",
    "            lim_min = num_min-1\n",
    "            error_prev = number-predict\n",
    "            predict_prev = predict\n",
    "            \n",
    "        count+=1\n",
    "        \n",
    "        error = number-predict\n",
    "        direction_change = float(error) * float(error_prev) < 0 # error changed sign? float() protects from overflow\n",
    "        \n",
    "        #print(f\"predict {predict} -> error {error} | error_prev {error_prev} | lim_max {lim_max} | lim_min {lim_min} \")\n",
    "        \n",
    "        if (error == 0): \n",
    "            return(count) # break if got it\n",
    "        elif (error > 0):\n",
    "            if (direction_change):\n",
    "                lim_max = predict_prev # too much => search scope change from previous predict to right middle \n",
    "            predict_prev = predict\n",
    "            predict += (lim_max - predict) // 2 # middle of right part\n",
    "        else:\n",
    "            if (direction_change):\n",
    "                lim_min = predict_prev # too small => search scope change from left middle to previous predict\n",
    "            predict_prev = predict\n",
    "            predict -= (predict - lim_min) // 2 # middle of left part\n",
    "        \n",
    "        error_prev = error\n",
    "        \n",
    "def score_game(game_core, num_min, num_max, sample_size):\n",
    "    '''Запускаем игру sample_size раз, чтобы узнать, как быстро игра угадывает число'''\n",
    "    count_ls = []\n",
    "    np.random.seed(1)  \n",
    "    random_array = np.random.randint(num_min, num_max+1, size=(sample_size))\n",
    "    for number in random_array:\n",
    "        count_ls.append(game_dichotomy(num_min, num_max, number))\n",
    "    score = int(np.mean(count_ls))\n",
    "    print(f\"Алгоритм угадывает число на отрезке длины {num_max-num_min+1} в среднем за {score} попыток\")\n",
    "    return(score)\n",
    "\n",
    "\n",
    "num_min = 1 # begin scope\n",
    "num_max = 100 # end scope\n",
    "sample_size = 1000 # repeatings of experiment\n",
    "\n",
    "for n in range(0, 4):\n",
    "    score_game(game_dichotomy, num_min, num_max * 10**n, sample_size) # O(n) at cases of n in logariphmic scale"
   ]
  },
  {
   "cell_type": "code",
   "execution_count": null,
   "metadata": {},
   "outputs": [],
   "source": []
  },
  {
   "cell_type": "code",
   "execution_count": null,
   "metadata": {},
   "outputs": [],
   "source": []
  },
  {
   "cell_type": "code",
   "execution_count": null,
   "metadata": {},
   "outputs": [],
   "source": []
  }
 ],
 "metadata": {
  "kernelspec": {
   "display_name": "Python 3",
   "language": "python",
   "name": "python3"
  },
  "language_info": {
   "codemirror_mode": {
    "name": "ipython",
    "version": 3
   },
   "file_extension": ".py",
   "mimetype": "text/x-python",
   "name": "python",
   "nbconvert_exporter": "python",
   "pygments_lexer": "ipython3",
   "version": "3.8.3"
  }
 },
 "nbformat": 4,
 "nbformat_minor": 4
}
