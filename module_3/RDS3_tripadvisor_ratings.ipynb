{
 "cells": [
  {
   "cell_type": "code",
   "execution_count": 1,
   "metadata": {},
   "outputs": [
    {
     "name": "stdout",
     "output_type": "stream",
     "text": [
      "<class 'pandas.core.frame.DataFrame'>\n",
      "RangeIndex: 40000 entries, 0 to 39999\n",
      "Data columns (total 10 columns):\n",
      " #   Column             Non-Null Count  Dtype  \n",
      "---  ------             --------------  -----  \n",
      " 0   Restaurant_id      40000 non-null  object \n",
      " 1   City               40000 non-null  object \n",
      " 2   Cuisine Style      30717 non-null  object \n",
      " 3   Ranking            40000 non-null  float64\n",
      " 4   Rating             40000 non-null  float64\n",
      " 5   Price Range        26114 non-null  object \n",
      " 6   Number of Reviews  37457 non-null  float64\n",
      " 7   Reviews            40000 non-null  object \n",
      " 8   URL_TA             40000 non-null  object \n",
      " 9   ID_TA              40000 non-null  object \n",
      "dtypes: float64(3), object(7)\n",
      "memory usage: 3.1+ MB\n"
     ]
    }
   ],
   "source": [
    "import pandas as pd\n",
    "pd.set_option('display.max_colwidth', None)\n",
    "\n",
    "df = pd.read_csv('main_task.csv')\n",
    "df.info()\n",
    "df = df.drop(['Restaurant_id', 'URL_TA', 'ID_TA'], axis = 1)\n",
    "\n"
   ]
  },
  {
   "cell_type": "code",
   "execution_count": 2,
   "metadata": {},
   "outputs": [
    {
     "data": {
      "text/plain": [
       "$$ - $$$    18412\n",
       "$            6279\n",
       "$$$$         1423\n",
       "Name: Price Range, dtype: int64"
      ]
     },
     "metadata": {},
     "output_type": "display_data"
    },
    {
     "data": {
      "text/plain": [
       "<matplotlib.axes._subplots.AxesSubplot at 0x1eb5cb77e80>"
      ]
     },
     "execution_count": 2,
     "metadata": {},
     "output_type": "execute_result"
    },
    {
     "data": {
      "image/png": "[encoded data removed]",
      "text/plain": [
       "<Figure size 432x288 with 1 Axes>"
      ]
     },
     "metadata": {
      "needs_background": "light"
     },
     "output_type": "display_data"
    }
   ],
   "source": [
    "def replace_price(x):\n",
    "    if x=='$': return 1\n",
    "    if x=='$$ - $$$': return 2\n",
    "    if x=='$$$$': return 3\n",
    "    return x\n",
    "\n",
    "display(df['Price Range'].value_counts())\n",
    "df['Price Range'] = df['Price Range'].apply(lambda x: replace_price(x)) #новый признак! (на основе старого) - ординарное значение ценовой категории\n",
    "df['Price Range'].fillna(df['Price Range'].median(), inplace=True)\n",
    "df['Price Range'].hist()"
   ]
  },
  {
   "cell_type": "code",
   "execution_count": 3,
   "metadata": {},
   "outputs": [
    {
     "name": "stdout",
     "output_type": "stream",
     "text": [
      "London        5757\n",
      "Paris         4897\n",
      "Madrid        3108\n",
      "Barcelona     2734\n",
      "Berlin        2155\n",
      "Milan         2133\n",
      "Rome          2078\n",
      "Prague        1443\n",
      "Lisbon        1300\n",
      "Vienna        1166\n",
      "Amsterdam     1086\n",
      "Brussels      1060\n",
      "Hamburg        949\n",
      "Munich         893\n",
      "Lyon           892\n",
      "Stockholm      820\n",
      "Budapest       816\n",
      "Warsaw         727\n",
      "Dublin         673\n",
      "Copenhagen     659\n",
      "Athens         628\n",
      "Edinburgh      596\n",
      "Zurich         538\n",
      "Oporto         513\n",
      "Geneva         481\n",
      "Krakow         443\n",
      "Oslo           385\n",
      "Helsinki       376\n",
      "Bratislava     301\n",
      "Luxembourg     210\n",
      "Ljubljana      183\n",
      "Name: City, dtype: int64\n",
      "31\n"
     ]
    }
   ],
   "source": [
    "print(df.City.value_counts())\n",
    "print(df.City.nunique())"
   ]
  },
  {
   "cell_type": "code",
   "execution_count": 4,
   "metadata": {},
   "outputs": [],
   "source": [
    "df['Cuisine Style'] = df['Cuisine Style'].fillna(\"\")"
   ]
  },
  {
   "cell_type": "code",
   "execution_count": 5,
   "metadata": {},
   "outputs": [],
   "source": [
    "styles = df['Cuisine Style'].sum()\n",
    "styles = styles.replace('\\'', '')\n",
    "styles = styles.replace(', ', ',')\n",
    "styles = styles.replace('][',',')\n",
    "styles = styles.replace(']','')\n",
    "styles = styles.replace('[','')\n",
    "styles = styles.split(',')\n",
    "styles = pd.Series(styles)\n",
    "styles.value_counts()\n",
    "\n",
    "df['Cuisine Style'] = df['Cuisine Style'].apply(lambda x: x.replace('[\\'',''))\n",
    "df['Cuisine Style'] = df['Cuisine Style'].apply(lambda x: x.replace('\\']',''))\n",
    "df['Cuisine Style'] = df['Cuisine Style'].apply(lambda x: x.split('\\', \\''))\n",
    "\n",
    "#df['num_styles'] = df['Cuisine Style'].apply(lambda x: 1 if len(x)==0 else len(x)) # новый признак! количество кухонь\n",
    "#df['num_styles'].mean()\n",
    "\n",
    "df['num_styles'] = df['Cuisine Style'].apply(lambda x: None if len(x)==0 else len(x)) # новый признак! количество кухонь\n",
    "num_styles_median = df['num_styles'].median()\n",
    "df['num_styles'] = df['num_styles'].fillna(num_styles_median)"
   ]
  },
  {
   "cell_type": "code",
   "execution_count": 6,
   "metadata": {},
   "outputs": [],
   "source": [
    "import re\n",
    "from datetime import datetime\n",
    "\n",
    "now_d = datetime.now().date()\n",
    "max_d = datetime.strptime(\"01/01/1900\", \"%m/%d/%Y\").date()\n",
    "min_d = now_d\n",
    "for i in range(0,len(df)):\n",
    "    groups_rew_dates = re.findall('\\d\\d\\/\\d\\d\\/\\d\\d\\d\\d', df.Reviews.iloc[i])\n",
    "    dates = [datetime.strptime(x, \"%m/%d/%Y\").date() for x in groups_rew_dates]\n",
    "    if len(dates)>0 : \n",
    "        df.loc[i,'last_date_newness']=abs((now_d-max(dates)).days) # новый признак! новизна последнего отзыва в датасете \n",
    "        for j in range(0,len(dates)):\n",
    "            if dates[j]>max_d:\n",
    "                max_d = dates[j]\n",
    "            if dates[j]<min_d:\n",
    "                min_d = dates[j]\n",
    "    if len(dates)==2:\n",
    "        diff = dates[0]-dates[1]\n",
    "        df.loc[i,'dates_diff']=abs(diff.days) # новый признак! расстояние между датами отзывыв в днях в датасете\n",
    "    df.loc[i,'num_reviews'] = len(dates) # новый признак! количество отзывов в датасете\n",
    "        "
   ]
  },
  {
   "cell_type": "code",
   "execution_count": 7,
   "metadata": {},
   "outputs": [
    {
     "data": {
      "text/plain": [
       "datetime.date(2018, 2, 26)"
      ]
     },
     "execution_count": 7,
     "metadata": {},
     "output_type": "execute_result"
    }
   ],
   "source": [
    "max_d"
   ]
  },
  {
   "cell_type": "code",
   "execution_count": 8,
   "metadata": {},
   "outputs": [
    {
     "data": {
      "text/plain": [
       "datetime.date(2004, 4, 21)"
      ]
     },
     "execution_count": 8,
     "metadata": {},
     "output_type": "execute_result"
    }
   ],
   "source": [
    "min_d"
   ]
  },
  {
   "cell_type": "code",
   "execution_count": 9,
   "metadata": {},
   "outputs": [
    {
     "data": {
      "text/plain": [
       "count    40000.000000\n",
       "mean      1410.305525\n",
       "std        337.159940\n",
       "min       1143.000000\n",
       "25%       1234.000000\n",
       "50%       1296.000000\n",
       "75%       1426.000000\n",
       "max       6202.000000\n",
       "Name: last_date_newness, dtype: float64"
      ]
     },
     "execution_count": 9,
     "metadata": {},
     "output_type": "execute_result"
    }
   ],
   "source": [
    "df.last_date_newness = df.last_date_newness.fillna(df.last_date_newness.median())\n",
    "df.last_date_newness.describe()"
   ]
  },
  {
   "cell_type": "code",
   "execution_count": 10,
   "metadata": {},
   "outputs": [
    {
     "data": {
      "text/plain": [
       "count    40000.000000\n",
       "mean       121.115900\n",
       "std        191.165283\n",
       "min          0.000000\n",
       "25%         34.000000\n",
       "50%         67.000000\n",
       "75%        120.000000\n",
       "max       3207.000000\n",
       "Name: dates_diff, dtype: float64"
      ]
     },
     "execution_count": 10,
     "metadata": {},
     "output_type": "execute_result"
    }
   ],
   "source": [
    "median_dates_diff = df[(df.num_reviews==2)]['dates_diff'].median()\n",
    "df.dates_diff = df.dates_diff.fillna(median_dates_diff)\n",
    "df.dates_diff.describe()"
   ]
  },
  {
   "cell_type": "code",
   "execution_count": 11,
   "metadata": {},
   "outputs": [
    {
     "data": {
      "text/html": [
       "<div>\n",
       "<style scoped>\n",
       "    .dataframe tbody tr th:only-of-type {\n",
       "        vertical-align: middle;\n",
       "    }\n",
       "\n",
       "    .dataframe tbody tr th {\n",
       "        vertical-align: top;\n",
       "    }\n",
       "\n",
       "    .dataframe thead th {\n",
       "        text-align: right;\n",
       "    }\n",
       "</style>\n",
       "<table border=\"1\" class=\"dataframe\">\n",
       "  <thead>\n",
       "    <tr style=\"text-align: right;\">\n",
       "      <th></th>\n",
       "      <th>Ranking</th>\n",
       "      <th>Rating</th>\n",
       "      <th>Price Range</th>\n",
       "      <th>Number of Reviews</th>\n",
       "      <th>num_styles</th>\n",
       "      <th>last_date_newness</th>\n",
       "      <th>dates_diff</th>\n",
       "      <th>num_reviews</th>\n",
       "    </tr>\n",
       "  </thead>\n",
       "  <tbody>\n",
       "    <tr>\n",
       "      <th>Ranking</th>\n",
       "      <td>True</td>\n",
       "      <td>False</td>\n",
       "      <td>False</td>\n",
       "      <td>False</td>\n",
       "      <td>False</td>\n",
       "      <td>False</td>\n",
       "      <td>False</td>\n",
       "      <td>False</td>\n",
       "    </tr>\n",
       "    <tr>\n",
       "      <th>Rating</th>\n",
       "      <td>False</td>\n",
       "      <td>True</td>\n",
       "      <td>False</td>\n",
       "      <td>False</td>\n",
       "      <td>False</td>\n",
       "      <td>False</td>\n",
       "      <td>False</td>\n",
       "      <td>False</td>\n",
       "    </tr>\n",
       "    <tr>\n",
       "      <th>Price Range</th>\n",
       "      <td>False</td>\n",
       "      <td>False</td>\n",
       "      <td>True</td>\n",
       "      <td>False</td>\n",
       "      <td>False</td>\n",
       "      <td>False</td>\n",
       "      <td>False</td>\n",
       "      <td>False</td>\n",
       "    </tr>\n",
       "    <tr>\n",
       "      <th>Number of Reviews</th>\n",
       "      <td>False</td>\n",
       "      <td>False</td>\n",
       "      <td>False</td>\n",
       "      <td>True</td>\n",
       "      <td>False</td>\n",
       "      <td>False</td>\n",
       "      <td>False</td>\n",
       "      <td>False</td>\n",
       "    </tr>\n",
       "    <tr>\n",
       "      <th>num_styles</th>\n",
       "      <td>False</td>\n",
       "      <td>False</td>\n",
       "      <td>False</td>\n",
       "      <td>False</td>\n",
       "      <td>True</td>\n",
       "      <td>False</td>\n",
       "      <td>False</td>\n",
       "      <td>False</td>\n",
       "    </tr>\n",
       "    <tr>\n",
       "      <th>last_date_newness</th>\n",
       "      <td>False</td>\n",
       "      <td>False</td>\n",
       "      <td>False</td>\n",
       "      <td>False</td>\n",
       "      <td>False</td>\n",
       "      <td>True</td>\n",
       "      <td>False</td>\n",
       "      <td>False</td>\n",
       "    </tr>\n",
       "    <tr>\n",
       "      <th>dates_diff</th>\n",
       "      <td>False</td>\n",
       "      <td>False</td>\n",
       "      <td>False</td>\n",
       "      <td>False</td>\n",
       "      <td>False</td>\n",
       "      <td>False</td>\n",
       "      <td>True</td>\n",
       "      <td>False</td>\n",
       "    </tr>\n",
       "    <tr>\n",
       "      <th>num_reviews</th>\n",
       "      <td>False</td>\n",
       "      <td>False</td>\n",
       "      <td>False</td>\n",
       "      <td>False</td>\n",
       "      <td>False</td>\n",
       "      <td>False</td>\n",
       "      <td>False</td>\n",
       "      <td>True</td>\n",
       "    </tr>\n",
       "  </tbody>\n",
       "</table>\n",
       "</div>"
      ],
      "text/plain": [
       "                   Ranking  Rating  Price Range  Number of Reviews  \\\n",
       "Ranking               True   False        False              False   \n",
       "Rating               False    True        False              False   \n",
       "Price Range          False   False         True              False   \n",
       "Number of Reviews    False   False        False               True   \n",
       "num_styles           False   False        False              False   \n",
       "last_date_newness    False   False        False              False   \n",
       "dates_diff           False   False        False              False   \n",
       "num_reviews          False   False        False              False   \n",
       "\n",
       "                   num_styles  last_date_newness  dates_diff  num_reviews  \n",
       "Ranking                 False              False       False        False  \n",
       "Rating                  False              False       False        False  \n",
       "Price Range             False              False       False        False  \n",
       "Number of Reviews       False              False       False        False  \n",
       "num_styles               True              False       False        False  \n",
       "last_date_newness       False               True       False        False  \n",
       "dates_diff              False              False        True        False  \n",
       "num_reviews             False              False       False         True  "
      ]
     },
     "metadata": {},
     "output_type": "display_data"
    },
    {
     "data": {
      "text/plain": [
       "0.43283523643356786"
      ]
     },
     "execution_count": 11,
     "metadata": {},
     "output_type": "execute_result"
    },
    {
     "data": {
      "image/png": "[encoded data removed]",
      "text/plain": [
       "<Figure size 432x288 with 2 Axes>"
      ]
     },
     "metadata": {
      "needs_background": "light"
     },
     "output_type": "display_data"
    }
   ],
   "source": [
    "#корреляция числовых признаков без dummies\n",
    "import numpy as np\n",
    "import seaborn as sns\n",
    "C = df.corr()\n",
    "sns.heatmap(C)\n",
    "display(abs(C)>0.7) \n",
    "np.linalg.det(C) # оценим вырожденность матрицы"
   ]
  },
  {
   "cell_type": "code",
   "execution_count": 12,
   "metadata": {},
   "outputs": [],
   "source": [
    "#переделываем категориальные пр. в dummies\n",
    "cities = pd.get_dummies(df.City, 'city')\n",
    "df = pd.concat([df, cities], axis=1)\n",
    "\n",
    "\n",
    "df_styles = pd.DataFrame(df['Cuisine Style'])\n",
    "for i in range(0,len(df_styles)):\n",
    "    for x in df.loc[i,'Cuisine Style']:\n",
    "        df_styles.loc[i,'style_'+x] = 1 #1 - если встречается\n",
    "\n",
    "df_styles = df_styles.drop(['Cuisine Style'], axis = 1)\n",
    "df_styles = df_styles.fillna(0) #0 - если не встречается\n",
    "df = pd.concat([df, df_styles], axis=1)\n",
    "\n"
   ]
  },
  {
   "cell_type": "code",
   "execution_count": 13,
   "metadata": {},
   "outputs": [
    {
     "data": {
      "text/plain": [
       "count    40000.000000\n",
       "mean      3676.028525\n",
       "std       3708.749567\n",
       "min          1.000000\n",
       "25%        973.000000\n",
       "50%       2285.000000\n",
       "75%       5260.000000\n",
       "max      16444.000000\n",
       "Name: Ranking, dtype: float64"
      ]
     },
     "execution_count": 13,
     "metadata": {},
     "output_type": "execute_result"
    },
    {
     "data": {
      "image/png": "[encoded data removed]",
      "text/plain": [
       "<Figure size 432x288 with 1 Axes>"
      ]
     },
     "metadata": {
      "needs_background": "light"
     },
     "output_type": "display_data"
    }
   ],
   "source": [
    "#смотрим распределение 'Ranking'\n",
    "df.Ranking.hist()\n",
    "df.Ranking.describe()"
   ]
  },
  {
   "cell_type": "code",
   "execution_count": 14,
   "metadata": {},
   "outputs": [
    {
     "data": {
      "text/plain": [
       "count    40000.000000\n",
       "mean       118.987675\n",
       "std        286.989212\n",
       "min          2.000000\n",
       "25%         10.000000\n",
       "50%         33.000000\n",
       "75%        105.000000\n",
       "max       9660.000000\n",
       "Name: Number of Reviews, dtype: float64"
      ]
     },
     "execution_count": 14,
     "metadata": {},
     "output_type": "execute_result"
    },
    {
     "data": {
      "image/png": "[encoded data removed]",
      "text/plain": [
       "<Figure size 432x288 with 1 Axes>"
      ]
     },
     "metadata": {
      "needs_background": "light"
     },
     "output_type": "display_data"
    }
   ],
   "source": [
    "#смотрим распределение 'Number of Reviews'\n",
    "df['Number of Reviews'].hist( bins=100)\n",
    "df['Number of Reviews'].fillna(df['Number of Reviews'].median(), inplace=True)\n",
    "df['Number of Reviews'].describe()\n"
   ]
  },
  {
   "cell_type": "code",
   "execution_count": 15,
   "metadata": {},
   "outputs": [
    {
     "data": {
      "text/plain": [
       "4.0    13692\n",
       "4.5    10929\n",
       "3.5     6824\n",
       "5.0     3879\n",
       "3.0     2955\n",
       "2.5      915\n",
       "2.0      466\n",
       "1.0      201\n",
       "1.5      139\n",
       "Name: Rating, dtype: int64"
      ]
     },
     "metadata": {},
     "output_type": "display_data"
    },
    {
     "data": {
      "text/plain": [
       "count    40000.000000\n",
       "mean         3.993037\n",
       "std          0.668417\n",
       "min          1.000000\n",
       "25%          3.500000\n",
       "50%          4.000000\n",
       "75%          4.500000\n",
       "max          5.000000\n",
       "Name: Rating, dtype: float64"
      ]
     },
     "execution_count": 15,
     "metadata": {},
     "output_type": "execute_result"
    },
    {
     "data": {
      "image/png": "[encoded data removed]",
      "text/plain": [
       "<Figure size 432x288 with 1 Axes>"
      ]
     },
     "metadata": {
      "needs_background": "light"
     },
     "output_type": "display_data"
    }
   ],
   "source": [
    "#смотрим распределение таргета \n",
    "df.Rating.hist()\n",
    "display(df.Rating.value_counts())\n",
    "df.Rating.describe()"
   ]
  },
  {
   "cell_type": "code",
   "execution_count": 16,
   "metadata": {},
   "outputs": [
    {
     "data": {
      "text/html": [
       "<div>\n",
       "<style scoped>\n",
       "    .dataframe tbody tr th:only-of-type {\n",
       "        vertical-align: middle;\n",
       "    }\n",
       "\n",
       "    .dataframe tbody tr th {\n",
       "        vertical-align: top;\n",
       "    }\n",
       "\n",
       "    .dataframe thead th {\n",
       "        text-align: right;\n",
       "    }\n",
       "</style>\n",
       "<table border=\"1\" class=\"dataframe\">\n",
       "  <thead>\n",
       "    <tr style=\"text-align: right;\">\n",
       "      <th></th>\n",
       "      <th>Ranking</th>\n",
       "      <th>Price Range</th>\n",
       "      <th>Number of Reviews</th>\n",
       "      <th>num_styles</th>\n",
       "      <th>last_date_newness</th>\n",
       "      <th>dates_diff</th>\n",
       "      <th>num_reviews</th>\n",
       "      <th>city_Amsterdam</th>\n",
       "      <th>city_Athens</th>\n",
       "      <th>city_Barcelona</th>\n",
       "      <th>...</th>\n",
       "      <th>style_Uzbek</th>\n",
       "      <th>style_Salvadoran</th>\n",
       "      <th>style_Yunnan</th>\n",
       "      <th>style_Native American</th>\n",
       "      <th>style_Canadian</th>\n",
       "      <th>style_Xinjiang</th>\n",
       "      <th>style_Burmese</th>\n",
       "      <th>style_Fujian</th>\n",
       "      <th>style_Welsh</th>\n",
       "      <th>style_Latvian</th>\n",
       "    </tr>\n",
       "  </thead>\n",
       "  <tbody>\n",
       "    <tr>\n",
       "      <th>0</th>\n",
       "      <td>5570.0</td>\n",
       "      <td>2.0</td>\n",
       "      <td>194.0</td>\n",
       "      <td>3</td>\n",
       "      <td>1200.0</td>\n",
       "      <td>41.0</td>\n",
       "      <td>2.0</td>\n",
       "      <td>0</td>\n",
       "      <td>0</td>\n",
       "      <td>0</td>\n",
       "      <td>...</td>\n",
       "      <td>0.0</td>\n",
       "      <td>0.0</td>\n",
       "      <td>0.0</td>\n",
       "      <td>0.0</td>\n",
       "      <td>0.0</td>\n",
       "      <td>0.0</td>\n",
       "      <td>0.0</td>\n",
       "      <td>0.0</td>\n",
       "      <td>0.0</td>\n",
       "      <td>0.0</td>\n",
       "    </tr>\n",
       "    <tr>\n",
       "      <th>1</th>\n",
       "      <td>1537.0</td>\n",
       "      <td>2.0</td>\n",
       "      <td>10.0</td>\n",
       "      <td>1</td>\n",
       "      <td>1378.0</td>\n",
       "      <td>382.0</td>\n",
       "      <td>2.0</td>\n",
       "      <td>0</td>\n",
       "      <td>0</td>\n",
       "      <td>0</td>\n",
       "      <td>...</td>\n",
       "      <td>0.0</td>\n",
       "      <td>0.0</td>\n",
       "      <td>0.0</td>\n",
       "      <td>0.0</td>\n",
       "      <td>0.0</td>\n",
       "      <td>0.0</td>\n",
       "      <td>0.0</td>\n",
       "      <td>0.0</td>\n",
       "      <td>0.0</td>\n",
       "      <td>0.0</td>\n",
       "    </tr>\n",
       "    <tr>\n",
       "      <th>2</th>\n",
       "      <td>353.0</td>\n",
       "      <td>3.0</td>\n",
       "      <td>688.0</td>\n",
       "      <td>7</td>\n",
       "      <td>1192.0</td>\n",
       "      <td>2.0</td>\n",
       "      <td>2.0</td>\n",
       "      <td>0</td>\n",
       "      <td>0</td>\n",
       "      <td>0</td>\n",
       "      <td>...</td>\n",
       "      <td>0.0</td>\n",
       "      <td>0.0</td>\n",
       "      <td>0.0</td>\n",
       "      <td>0.0</td>\n",
       "      <td>0.0</td>\n",
       "      <td>0.0</td>\n",
       "      <td>0.0</td>\n",
       "      <td>0.0</td>\n",
       "      <td>0.0</td>\n",
       "      <td>0.0</td>\n",
       "    </tr>\n",
       "    <tr>\n",
       "      <th>3</th>\n",
       "      <td>3458.0</td>\n",
       "      <td>2.0</td>\n",
       "      <td>3.0</td>\n",
       "      <td>1</td>\n",
       "      <td>1296.0</td>\n",
       "      <td>67.0</td>\n",
       "      <td>0.0</td>\n",
       "      <td>0</td>\n",
       "      <td>0</td>\n",
       "      <td>0</td>\n",
       "      <td>...</td>\n",
       "      <td>0.0</td>\n",
       "      <td>0.0</td>\n",
       "      <td>0.0</td>\n",
       "      <td>0.0</td>\n",
       "      <td>0.0</td>\n",
       "      <td>0.0</td>\n",
       "      <td>0.0</td>\n",
       "      <td>0.0</td>\n",
       "      <td>0.0</td>\n",
       "      <td>0.0</td>\n",
       "    </tr>\n",
       "    <tr>\n",
       "      <th>4</th>\n",
       "      <td>621.0</td>\n",
       "      <td>2.0</td>\n",
       "      <td>84.0</td>\n",
       "      <td>3</td>\n",
       "      <td>1243.0</td>\n",
       "      <td>272.0</td>\n",
       "      <td>2.0</td>\n",
       "      <td>0</td>\n",
       "      <td>0</td>\n",
       "      <td>0</td>\n",
       "      <td>...</td>\n",
       "      <td>0.0</td>\n",
       "      <td>0.0</td>\n",
       "      <td>0.0</td>\n",
       "      <td>0.0</td>\n",
       "      <td>0.0</td>\n",
       "      <td>0.0</td>\n",
       "      <td>0.0</td>\n",
       "      <td>0.0</td>\n",
       "      <td>0.0</td>\n",
       "      <td>0.0</td>\n",
       "    </tr>\n",
       "    <tr>\n",
       "      <th>...</th>\n",
       "      <td>...</td>\n",
       "      <td>...</td>\n",
       "      <td>...</td>\n",
       "      <td>...</td>\n",
       "      <td>...</td>\n",
       "      <td>...</td>\n",
       "      <td>...</td>\n",
       "      <td>...</td>\n",
       "      <td>...</td>\n",
       "      <td>...</td>\n",
       "      <td>...</td>\n",
       "      <td>...</td>\n",
       "      <td>...</td>\n",
       "      <td>...</td>\n",
       "      <td>...</td>\n",
       "      <td>...</td>\n",
       "      <td>...</td>\n",
       "      <td>...</td>\n",
       "      <td>...</td>\n",
       "      <td>...</td>\n",
       "      <td>...</td>\n",
       "    </tr>\n",
       "    <tr>\n",
       "      <th>39995</th>\n",
       "      <td>500.0</td>\n",
       "      <td>2.0</td>\n",
       "      <td>79.0</td>\n",
       "      <td>4</td>\n",
       "      <td>1215.0</td>\n",
       "      <td>34.0</td>\n",
       "      <td>2.0</td>\n",
       "      <td>0</td>\n",
       "      <td>0</td>\n",
       "      <td>0</td>\n",
       "      <td>...</td>\n",
       "      <td>0.0</td>\n",
       "      <td>0.0</td>\n",
       "      <td>0.0</td>\n",
       "      <td>0.0</td>\n",
       "      <td>0.0</td>\n",
       "      <td>0.0</td>\n",
       "      <td>0.0</td>\n",
       "      <td>0.0</td>\n",
       "      <td>0.0</td>\n",
       "      <td>0.0</td>\n",
       "    </tr>\n",
       "    <tr>\n",
       "      <th>39996</th>\n",
       "      <td>6341.0</td>\n",
       "      <td>2.0</td>\n",
       "      <td>542.0</td>\n",
       "      <td>5</td>\n",
       "      <td>1210.0</td>\n",
       "      <td>9.0</td>\n",
       "      <td>2.0</td>\n",
       "      <td>0</td>\n",
       "      <td>0</td>\n",
       "      <td>0</td>\n",
       "      <td>...</td>\n",
       "      <td>0.0</td>\n",
       "      <td>0.0</td>\n",
       "      <td>0.0</td>\n",
       "      <td>0.0</td>\n",
       "      <td>0.0</td>\n",
       "      <td>0.0</td>\n",
       "      <td>0.0</td>\n",
       "      <td>0.0</td>\n",
       "      <td>0.0</td>\n",
       "      <td>0.0</td>\n",
       "    </tr>\n",
       "    <tr>\n",
       "      <th>39997</th>\n",
       "      <td>1652.0</td>\n",
       "      <td>2.0</td>\n",
       "      <td>4.0</td>\n",
       "      <td>2</td>\n",
       "      <td>1623.0</td>\n",
       "      <td>3127.0</td>\n",
       "      <td>2.0</td>\n",
       "      <td>0</td>\n",
       "      <td>0</td>\n",
       "      <td>0</td>\n",
       "      <td>...</td>\n",
       "      <td>0.0</td>\n",
       "      <td>0.0</td>\n",
       "      <td>0.0</td>\n",
       "      <td>0.0</td>\n",
       "      <td>0.0</td>\n",
       "      <td>0.0</td>\n",
       "      <td>0.0</td>\n",
       "      <td>0.0</td>\n",
       "      <td>0.0</td>\n",
       "      <td>0.0</td>\n",
       "    </tr>\n",
       "    <tr>\n",
       "      <th>39998</th>\n",
       "      <td>641.0</td>\n",
       "      <td>2.0</td>\n",
       "      <td>70.0</td>\n",
       "      <td>5</td>\n",
       "      <td>1373.0</td>\n",
       "      <td>23.0</td>\n",
       "      <td>2.0</td>\n",
       "      <td>0</td>\n",
       "      <td>0</td>\n",
       "      <td>0</td>\n",
       "      <td>...</td>\n",
       "      <td>0.0</td>\n",
       "      <td>0.0</td>\n",
       "      <td>0.0</td>\n",
       "      <td>0.0</td>\n",
       "      <td>0.0</td>\n",
       "      <td>0.0</td>\n",
       "      <td>0.0</td>\n",
       "      <td>0.0</td>\n",
       "      <td>0.0</td>\n",
       "      <td>0.0</td>\n",
       "    </tr>\n",
       "    <tr>\n",
       "      <th>39999</th>\n",
       "      <td>4827.0</td>\n",
       "      <td>2.0</td>\n",
       "      <td>260.0</td>\n",
       "      <td>1</td>\n",
       "      <td>1900.0</td>\n",
       "      <td>1306.0</td>\n",
       "      <td>2.0</td>\n",
       "      <td>0</td>\n",
       "      <td>0</td>\n",
       "      <td>0</td>\n",
       "      <td>...</td>\n",
       "      <td>0.0</td>\n",
       "      <td>0.0</td>\n",
       "      <td>0.0</td>\n",
       "      <td>0.0</td>\n",
       "      <td>0.0</td>\n",
       "      <td>0.0</td>\n",
       "      <td>0.0</td>\n",
       "      <td>0.0</td>\n",
       "      <td>0.0</td>\n",
       "      <td>0.0</td>\n",
       "    </tr>\n",
       "  </tbody>\n",
       "</table>\n",
       "<p>40000 rows × 164 columns</p>\n",
       "</div>"
      ],
      "text/plain": [
       "       Ranking  Price Range  Number of Reviews  num_styles  last_date_newness  \\\n",
       "0       5570.0          2.0              194.0           3             1200.0   \n",
       "1       1537.0          2.0               10.0           1             1378.0   \n",
       "2        353.0          3.0              688.0           7             1192.0   \n",
       "3       3458.0          2.0                3.0           1             1296.0   \n",
       "4        621.0          2.0               84.0           3             1243.0   \n",
       "...        ...          ...                ...         ...                ...   \n",
       "39995    500.0          2.0               79.0           4             1215.0   \n",
       "39996   6341.0          2.0              542.0           5             1210.0   \n",
       "39997   1652.0          2.0                4.0           2             1623.0   \n",
       "39998    641.0          2.0               70.0           5             1373.0   \n",
       "39999   4827.0          2.0              260.0           1             1900.0   \n",
       "\n",
       "       dates_diff  num_reviews  city_Amsterdam  city_Athens  city_Barcelona  \\\n",
       "0            41.0          2.0               0            0               0   \n",
       "1           382.0          2.0               0            0               0   \n",
       "2             2.0          2.0               0            0               0   \n",
       "3            67.0          0.0               0            0               0   \n",
       "4           272.0          2.0               0            0               0   \n",
       "...           ...          ...             ...          ...             ...   \n",
       "39995        34.0          2.0               0            0               0   \n",
       "39996         9.0          2.0               0            0               0   \n",
       "39997      3127.0          2.0               0            0               0   \n",
       "39998        23.0          2.0               0            0               0   \n",
       "39999      1306.0          2.0               0            0               0   \n",
       "\n",
       "       ...  style_Uzbek  style_Salvadoran  style_Yunnan  \\\n",
       "0      ...          0.0               0.0           0.0   \n",
       "1      ...          0.0               0.0           0.0   \n",
       "2      ...          0.0               0.0           0.0   \n",
       "3      ...          0.0               0.0           0.0   \n",
       "4      ...          0.0               0.0           0.0   \n",
       "...    ...          ...               ...           ...   \n",
       "39995  ...          0.0               0.0           0.0   \n",
       "39996  ...          0.0               0.0           0.0   \n",
       "39997  ...          0.0               0.0           0.0   \n",
       "39998  ...          0.0               0.0           0.0   \n",
       "39999  ...          0.0               0.0           0.0   \n",
       "\n",
       "       style_Native American  style_Canadian  style_Xinjiang  style_Burmese  \\\n",
       "0                        0.0             0.0             0.0            0.0   \n",
       "1                        0.0             0.0             0.0            0.0   \n",
       "2                        0.0             0.0             0.0            0.0   \n",
       "3                        0.0             0.0             0.0            0.0   \n",
       "4                        0.0             0.0             0.0            0.0   \n",
       "...                      ...             ...             ...            ...   \n",
       "39995                    0.0             0.0             0.0            0.0   \n",
       "39996                    0.0             0.0             0.0            0.0   \n",
       "39997                    0.0             0.0             0.0            0.0   \n",
       "39998                    0.0             0.0             0.0            0.0   \n",
       "39999                    0.0             0.0             0.0            0.0   \n",
       "\n",
       "       style_Fujian  style_Welsh  style_Latvian  \n",
       "0               0.0          0.0            0.0  \n",
       "1               0.0          0.0            0.0  \n",
       "2               0.0          0.0            0.0  \n",
       "3               0.0          0.0            0.0  \n",
       "4               0.0          0.0            0.0  \n",
       "...             ...          ...            ...  \n",
       "39995           0.0          0.0            0.0  \n",
       "39996           0.0          0.0            0.0  \n",
       "39997           0.0          0.0            0.0  \n",
       "39998           0.0          0.0            0.0  \n",
       "39999           0.0          0.0            0.0  \n",
       "\n",
       "[40000 rows x 164 columns]"
      ]
     },
     "metadata": {},
     "output_type": "display_data"
    }
   ],
   "source": [
    "\n",
    "X = df.drop(['Rating','Cuisine Style','Reviews','City'], axis = 1)\n",
    "display(X)\n",
    "y = df['Rating']\n",
    "# Загружаем специальный инструмент для разбивки:\n",
    "from sklearn.model_selection import train_test_split\n",
    "# Наборы данных с меткой \"train\" будут использоваться для обучения модели, \"test\" - для тестирования.\n",
    "# Для тестирования мы будем использовать 25% от исходного датасета.\n",
    "X_train, X_test, y_train, y_test = train_test_split(X, y, test_size=0.25)\n",
    "\n"
   ]
  },
  {
   "cell_type": "code",
   "execution_count": 17,
   "metadata": {},
   "outputs": [
    {
     "name": "stdout",
     "output_type": "stream",
     "text": [
      "MAE: 0.20971350000000002\n"
     ]
    }
   ],
   "source": [
    "from sklearn.ensemble import RandomForestRegressor # инструмент для создания и обучения модели\n",
    "from sklearn import metrics # инструменты для оценки точности модели\n",
    "\n",
    "# Создаём модель\n",
    "regr = RandomForestRegressor(n_estimators=100)\n",
    "\n",
    "# Обучаем модель на тестовом наборе данных\n",
    "regr.fit(X_train, y_train)\n",
    "\n",
    "# Используем обученную модель для предсказания рейтинга ресторанов в тестовой выборке.\n",
    "y_pred = regr.predict(X_test)\n",
    "\n",
    "# Сравниваем предсказанные значения (y_pred) с реальными (y_test), и смотрим насколько они в среднем отличаются\n",
    "# Метрика называется Mean Absolute Error (MAE) и показывает среднее отклонение предсказанных значений от фактических.\n",
    "print('MAE:', metrics.mean_absolute_error(y_test, y_pred))"
   ]
  },
  {
   "cell_type": "code",
   "execution_count": 18,
   "metadata": {},
   "outputs": [],
   "source": [
    "#идеи: что еще можно сделать\n",
    "#1) посмотреть матрицу корреляций на предмет \"главных компонент\" \n",
    "#2) поиграться с параметрами модели\n",
    "#3) поиграться с полиномиальными признаками из наиболее весомых главных компонент\n",
    "#4) стандартизировать датасет (хотя не факт что для случайного леса это что-то даст)\n",
    "#5) спарсить отзывы из источника с помощью selenium, прогнать через алгоритм выявления \"хороших\" и \"плохих\" масок\n",
    "#6) определить тональность текста во всех отзывах с помощью ИНС (?) целесообразно ли - не знаю, т к ИНС тоже на чем-то обучать нужно \n",
    "#7) проанализировать частоту и новизну спарсенных отзывов, а не тех, что в изначальном датасете"
   ]
  },
  {
   "cell_type": "code",
   "execution_count": null,
   "metadata": {},
   "outputs": [],
   "source": []
  },
  {
   "cell_type": "code",
   "execution_count": null,
   "metadata": {},
   "outputs": [],
   "source": [
    "\n"
   ]
  },
  {
   "cell_type": "code",
   "execution_count": null,
   "metadata": {},
   "outputs": [],
   "source": []
  }
 ],
 "metadata": {
  "kernelspec": {
   "display_name": "Python 3",
   "language": "python",
   "name": "python3"
  },
  "language_info": {
   "codemirror_mode": {
    "name": "ipython",
    "version": 3
   },
   "file_extension": ".py",
   "mimetype": "text/x-python",
   "name": "python",
   "nbconvert_exporter": "python",
   "pygments_lexer": "ipython3",
   "version": "3.8.3"
  },
  "varInspector": {
   "cols": {
    "lenName": 16,
    "lenType": 16,
    "lenVar": 40
   },
   "kernels_config": {
    "python": {
     "delete_cmd_postfix": "",
     "delete_cmd_prefix": "del ",
     "library": "var_list.py",
     "varRefreshCmd": "print(var_dic_list())"
    },
    "r": {
     "delete_cmd_postfix": ") ",
     "delete_cmd_prefix": "rm(",
     "library": "var_list.r",
     "varRefreshCmd": "cat(var_dic_list()) "
    }
   },
   "types_to_exclude": [
    "module",
    "function",
    "builtin_function_or_method",
    "instance",
    "_Feature"
   ],
   "window_display": false
  }
 },
 "nbformat": 4,
 "nbformat_minor": 4
}
