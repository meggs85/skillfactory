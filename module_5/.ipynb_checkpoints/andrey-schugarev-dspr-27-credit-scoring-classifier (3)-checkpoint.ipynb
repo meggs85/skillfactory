{
 "cells": [
  {
   "cell_type": "code",
   "execution_count": 1,
   "metadata": {
    "_cell_guid": "b1076dfc-b9ad-4769-8c92-a6c4dae69d19",
    "_uuid": "8f2839f25d086af736a60e9eeb907d3b93b6e0e5",
    "execution": {
     "iopub.execute_input": "2021-07-16T17:56:05.748310Z",
     "iopub.status.busy": "2021-07-16T17:56:05.747902Z",
     "iopub.status.idle": "2021-07-16T17:56:05.759182Z",
     "shell.execute_reply": "2021-07-16T17:56:05.758209Z",
     "shell.execute_reply.started": "2021-07-16T17:56:05.748279Z"
    }
   },
   "outputs": [],
   "source": [
    "# This Python 3 environment comes with many helpful analytics libraries installed\n",
    "# It is defined by the kaggle/python Docker image: https://github.com/kaggle/docker-python\n",
    "# For example, here's several helpful packages to load\n",
    "\n",
    "import numpy as np # linear algebra\n",
    "import pandas as pd # data processing, CSV file I/O (e.g. pd.read_csv)\n",
    "\n",
    "# Input data files are available in the read-only \"../input/\" directory\n",
    "# For example, running this (by clicking run or pressing Shift+Enter) will list all files under the input directory\n",
    "\n",
    "import os\n",
    "for dirname, _, filenames in os.walk('/kaggle/input'):\n",
    "    for filename in filenames:\n",
    "        print(os.path.join(dirname, filename))\n",
    "\n",
    "# You can write up to 20GB to the current directory (/kaggle/working/) that gets preserved as output when you create a version using \"Save & Run All\" \n",
    "# You can also write temporary files to /kaggle/temp/, but they won't be saved outside of the current session"
   ]
  },
  {
   "cell_type": "code",
   "execution_count": 2,
   "metadata": {
    "execution": {
     "iopub.execute_input": "2021-07-16T17:56:05.761556Z",
     "iopub.status.busy": "2021-07-16T17:56:05.761161Z",
     "iopub.status.idle": "2021-07-16T17:56:05.775684Z",
     "shell.execute_reply": "2021-07-16T17:56:05.774452Z",
     "shell.execute_reply.started": "2021-07-16T17:56:05.761525Z"
    }
   },
   "outputs": [],
   "source": [
    "import pandas as pd\n",
    "import datetime\n",
    "#import pandas_profiling\n",
    "import numpy as np\n",
    "import matplotlib.pyplot as plt\n",
    "import seaborn as sns \n",
    "%matplotlib inline\n",
    "\n",
    "from sklearn.feature_selection import f_classif, mutual_info_classif\n",
    "from sklearn.preprocessing import LabelEncoder, OneHotEncoder, StandardScaler\n",
    "from sklearn.metrics import plot_confusion_matrix\n",
    "from sklearn.preprocessing import PolynomialFeatures\n",
    "from sklearn.model_selection import train_test_split,GridSearchCV\n",
    "from sklearn.metrics import auc, roc_auc_score, roc_curve\n",
    "from sklearn.linear_model import LogisticRegression\n",
    "from sklearn.metrics import accuracy_score, precision_score, recall_score, f1_score\n",
    "from sklearn.model_selection import cross_validate\n",
    "from sklearn.metrics import confusion_matrix, ConfusionMatrixDisplay\n",
    "from scipy.stats import randint\n",
    "from sklearn.tree import DecisionTreeClassifier\n",
    "from sklearn.model_selection import RandomizedSearchCV\n",
    "\n",
    "\n",
    "#from mlxtend.feature_selection import ExhaustiveFeatureSelector as EFS\n",
    "from math import log as log\n",
    "import os"
   ]
  },
  {
   "cell_type": "markdown",
   "metadata": {},
   "source": [
    "# Information"
   ]
  },
  {
   "cell_type": "code",
   "execution_count": 3,
   "metadata": {
    "execution": {
     "iopub.execute_input": "2021-07-16T17:56:05.778697Z",
     "iopub.status.busy": "2021-07-16T17:56:05.778249Z",
     "iopub.status.idle": "2021-07-16T17:56:05.793833Z",
     "shell.execute_reply": "2021-07-16T17:56:05.792771Z",
     "shell.execute_reply.started": "2021-07-16T17:56:05.778622Z"
    }
   },
   "outputs": [],
   "source": [
    "path = '/kaggle/input/sf-dst-scoring/'"
   ]
  },
  {
   "cell_type": "code",
   "execution_count": 4,
   "metadata": {
    "execution": {
     "iopub.execute_input": "2021-07-16T17:56:05.795474Z",
     "iopub.status.busy": "2021-07-16T17:56:05.795183Z",
     "iopub.status.idle": "2021-07-16T17:56:06.089999Z",
     "shell.execute_reply": "2021-07-16T17:56:06.088843Z",
     "shell.execute_reply.started": "2021-07-16T17:56:05.795446Z"
    }
   },
   "outputs": [
    {
     "ename": "FileNotFoundError",
     "evalue": "[Errno 2] File /kaggle/input/sf-dst-scoring/train.csv does not exist: '/kaggle/input/sf-dst-scoring/train.csv'",
     "output_type": "error",
     "traceback": [
      "\u001b[1;31m---------------------------------------------------------------------------\u001b[0m",
      "\u001b[1;31mFileNotFoundError\u001b[0m                         Traceback (most recent call last)",
      "\u001b[1;32m<ipython-input-4-b987f9a7315c>\u001b[0m in \u001b[0;36m<module>\u001b[1;34m\u001b[0m\n\u001b[1;32m----> 1\u001b[1;33m \u001b[0mtrain\u001b[0m \u001b[1;33m=\u001b[0m \u001b[0mpd\u001b[0m\u001b[1;33m.\u001b[0m\u001b[0mread_csv\u001b[0m\u001b[1;33m(\u001b[0m\u001b[0mpath\u001b[0m \u001b[1;33m+\u001b[0m\u001b[1;34m'train.csv'\u001b[0m\u001b[1;33m)\u001b[0m\u001b[1;33m\u001b[0m\u001b[1;33m\u001b[0m\u001b[0m\n\u001b[0m\u001b[0;32m      2\u001b[0m \u001b[0mtest\u001b[0m \u001b[1;33m=\u001b[0m \u001b[0mpd\u001b[0m\u001b[1;33m.\u001b[0m\u001b[0mread_csv\u001b[0m\u001b[1;33m(\u001b[0m\u001b[0mpath\u001b[0m \u001b[1;33m+\u001b[0m\u001b[1;34m'test.csv'\u001b[0m\u001b[1;33m)\u001b[0m\u001b[1;33m\u001b[0m\u001b[1;33m\u001b[0m\u001b[0m\n\u001b[0;32m      3\u001b[0m \u001b[0msample\u001b[0m \u001b[1;33m=\u001b[0m \u001b[0mpd\u001b[0m\u001b[1;33m.\u001b[0m\u001b[0mread_csv\u001b[0m\u001b[1;33m(\u001b[0m\u001b[0mpath\u001b[0m \u001b[1;33m+\u001b[0m\u001b[1;34m'sample_submission.csv'\u001b[0m\u001b[1;33m)\u001b[0m\u001b[1;33m\u001b[0m\u001b[1;33m\u001b[0m\u001b[0m\n",
      "\u001b[1;32mC:\\ProgramData\\Anaconda3\\lib\\site-packages\\pandas\\io\\parsers.py\u001b[0m in \u001b[0;36mparser_f\u001b[1;34m(filepath_or_buffer, sep, delimiter, header, names, index_col, usecols, squeeze, prefix, mangle_dupe_cols, dtype, engine, converters, true_values, false_values, skipinitialspace, skiprows, skipfooter, nrows, na_values, keep_default_na, na_filter, verbose, skip_blank_lines, parse_dates, infer_datetime_format, keep_date_col, date_parser, dayfirst, cache_dates, iterator, chunksize, compression, thousands, decimal, lineterminator, quotechar, quoting, doublequote, escapechar, comment, encoding, dialect, error_bad_lines, warn_bad_lines, delim_whitespace, low_memory, memory_map, float_precision)\u001b[0m\n\u001b[0;32m    674\u001b[0m         )\n\u001b[0;32m    675\u001b[0m \u001b[1;33m\u001b[0m\u001b[0m\n\u001b[1;32m--> 676\u001b[1;33m         \u001b[1;32mreturn\u001b[0m \u001b[0m_read\u001b[0m\u001b[1;33m(\u001b[0m\u001b[0mfilepath_or_buffer\u001b[0m\u001b[1;33m,\u001b[0m \u001b[0mkwds\u001b[0m\u001b[1;33m)\u001b[0m\u001b[1;33m\u001b[0m\u001b[1;33m\u001b[0m\u001b[0m\n\u001b[0m\u001b[0;32m    677\u001b[0m \u001b[1;33m\u001b[0m\u001b[0m\n\u001b[0;32m    678\u001b[0m     \u001b[0mparser_f\u001b[0m\u001b[1;33m.\u001b[0m\u001b[0m__name__\u001b[0m \u001b[1;33m=\u001b[0m \u001b[0mname\u001b[0m\u001b[1;33m\u001b[0m\u001b[1;33m\u001b[0m\u001b[0m\n",
      "\u001b[1;32mC:\\ProgramData\\Anaconda3\\lib\\site-packages\\pandas\\io\\parsers.py\u001b[0m in \u001b[0;36m_read\u001b[1;34m(filepath_or_buffer, kwds)\u001b[0m\n\u001b[0;32m    446\u001b[0m \u001b[1;33m\u001b[0m\u001b[0m\n\u001b[0;32m    447\u001b[0m     \u001b[1;31m# Create the parser.\u001b[0m\u001b[1;33m\u001b[0m\u001b[1;33m\u001b[0m\u001b[1;33m\u001b[0m\u001b[0m\n\u001b[1;32m--> 448\u001b[1;33m     \u001b[0mparser\u001b[0m \u001b[1;33m=\u001b[0m \u001b[0mTextFileReader\u001b[0m\u001b[1;33m(\u001b[0m\u001b[0mfp_or_buf\u001b[0m\u001b[1;33m,\u001b[0m \u001b[1;33m**\u001b[0m\u001b[0mkwds\u001b[0m\u001b[1;33m)\u001b[0m\u001b[1;33m\u001b[0m\u001b[1;33m\u001b[0m\u001b[0m\n\u001b[0m\u001b[0;32m    449\u001b[0m \u001b[1;33m\u001b[0m\u001b[0m\n\u001b[0;32m    450\u001b[0m     \u001b[1;32mif\u001b[0m \u001b[0mchunksize\u001b[0m \u001b[1;32mor\u001b[0m \u001b[0miterator\u001b[0m\u001b[1;33m:\u001b[0m\u001b[1;33m\u001b[0m\u001b[1;33m\u001b[0m\u001b[0m\n",
      "\u001b[1;32mC:\\ProgramData\\Anaconda3\\lib\\site-packages\\pandas\\io\\parsers.py\u001b[0m in \u001b[0;36m__init__\u001b[1;34m(self, f, engine, **kwds)\u001b[0m\n\u001b[0;32m    878\u001b[0m             \u001b[0mself\u001b[0m\u001b[1;33m.\u001b[0m\u001b[0moptions\u001b[0m\u001b[1;33m[\u001b[0m\u001b[1;34m\"has_index_names\"\u001b[0m\u001b[1;33m]\u001b[0m \u001b[1;33m=\u001b[0m \u001b[0mkwds\u001b[0m\u001b[1;33m[\u001b[0m\u001b[1;34m\"has_index_names\"\u001b[0m\u001b[1;33m]\u001b[0m\u001b[1;33m\u001b[0m\u001b[1;33m\u001b[0m\u001b[0m\n\u001b[0;32m    879\u001b[0m \u001b[1;33m\u001b[0m\u001b[0m\n\u001b[1;32m--> 880\u001b[1;33m         \u001b[0mself\u001b[0m\u001b[1;33m.\u001b[0m\u001b[0m_make_engine\u001b[0m\u001b[1;33m(\u001b[0m\u001b[0mself\u001b[0m\u001b[1;33m.\u001b[0m\u001b[0mengine\u001b[0m\u001b[1;33m)\u001b[0m\u001b[1;33m\u001b[0m\u001b[1;33m\u001b[0m\u001b[0m\n\u001b[0m\u001b[0;32m    881\u001b[0m \u001b[1;33m\u001b[0m\u001b[0m\n\u001b[0;32m    882\u001b[0m     \u001b[1;32mdef\u001b[0m \u001b[0mclose\u001b[0m\u001b[1;33m(\u001b[0m\u001b[0mself\u001b[0m\u001b[1;33m)\u001b[0m\u001b[1;33m:\u001b[0m\u001b[1;33m\u001b[0m\u001b[1;33m\u001b[0m\u001b[0m\n",
      "\u001b[1;32mC:\\ProgramData\\Anaconda3\\lib\\site-packages\\pandas\\io\\parsers.py\u001b[0m in \u001b[0;36m_make_engine\u001b[1;34m(self, engine)\u001b[0m\n\u001b[0;32m   1112\u001b[0m     \u001b[1;32mdef\u001b[0m \u001b[0m_make_engine\u001b[0m\u001b[1;33m(\u001b[0m\u001b[0mself\u001b[0m\u001b[1;33m,\u001b[0m \u001b[0mengine\u001b[0m\u001b[1;33m=\u001b[0m\u001b[1;34m\"c\"\u001b[0m\u001b[1;33m)\u001b[0m\u001b[1;33m:\u001b[0m\u001b[1;33m\u001b[0m\u001b[1;33m\u001b[0m\u001b[0m\n\u001b[0;32m   1113\u001b[0m         \u001b[1;32mif\u001b[0m \u001b[0mengine\u001b[0m \u001b[1;33m==\u001b[0m \u001b[1;34m\"c\"\u001b[0m\u001b[1;33m:\u001b[0m\u001b[1;33m\u001b[0m\u001b[1;33m\u001b[0m\u001b[0m\n\u001b[1;32m-> 1114\u001b[1;33m             \u001b[0mself\u001b[0m\u001b[1;33m.\u001b[0m\u001b[0m_engine\u001b[0m \u001b[1;33m=\u001b[0m \u001b[0mCParserWrapper\u001b[0m\u001b[1;33m(\u001b[0m\u001b[0mself\u001b[0m\u001b[1;33m.\u001b[0m\u001b[0mf\u001b[0m\u001b[1;33m,\u001b[0m \u001b[1;33m**\u001b[0m\u001b[0mself\u001b[0m\u001b[1;33m.\u001b[0m\u001b[0moptions\u001b[0m\u001b[1;33m)\u001b[0m\u001b[1;33m\u001b[0m\u001b[1;33m\u001b[0m\u001b[0m\n\u001b[0m\u001b[0;32m   1115\u001b[0m         \u001b[1;32melse\u001b[0m\u001b[1;33m:\u001b[0m\u001b[1;33m\u001b[0m\u001b[1;33m\u001b[0m\u001b[0m\n\u001b[0;32m   1116\u001b[0m             \u001b[1;32mif\u001b[0m \u001b[0mengine\u001b[0m \u001b[1;33m==\u001b[0m \u001b[1;34m\"python\"\u001b[0m\u001b[1;33m:\u001b[0m\u001b[1;33m\u001b[0m\u001b[1;33m\u001b[0m\u001b[0m\n",
      "\u001b[1;32mC:\\ProgramData\\Anaconda3\\lib\\site-packages\\pandas\\io\\parsers.py\u001b[0m in \u001b[0;36m__init__\u001b[1;34m(self, src, **kwds)\u001b[0m\n\u001b[0;32m   1889\u001b[0m         \u001b[0mkwds\u001b[0m\u001b[1;33m[\u001b[0m\u001b[1;34m\"usecols\"\u001b[0m\u001b[1;33m]\u001b[0m \u001b[1;33m=\u001b[0m \u001b[0mself\u001b[0m\u001b[1;33m.\u001b[0m\u001b[0musecols\u001b[0m\u001b[1;33m\u001b[0m\u001b[1;33m\u001b[0m\u001b[0m\n\u001b[0;32m   1890\u001b[0m \u001b[1;33m\u001b[0m\u001b[0m\n\u001b[1;32m-> 1891\u001b[1;33m         \u001b[0mself\u001b[0m\u001b[1;33m.\u001b[0m\u001b[0m_reader\u001b[0m \u001b[1;33m=\u001b[0m \u001b[0mparsers\u001b[0m\u001b[1;33m.\u001b[0m\u001b[0mTextReader\u001b[0m\u001b[1;33m(\u001b[0m\u001b[0msrc\u001b[0m\u001b[1;33m,\u001b[0m \u001b[1;33m**\u001b[0m\u001b[0mkwds\u001b[0m\u001b[1;33m)\u001b[0m\u001b[1;33m\u001b[0m\u001b[1;33m\u001b[0m\u001b[0m\n\u001b[0m\u001b[0;32m   1892\u001b[0m         \u001b[0mself\u001b[0m\u001b[1;33m.\u001b[0m\u001b[0munnamed_cols\u001b[0m \u001b[1;33m=\u001b[0m \u001b[0mself\u001b[0m\u001b[1;33m.\u001b[0m\u001b[0m_reader\u001b[0m\u001b[1;33m.\u001b[0m\u001b[0munnamed_cols\u001b[0m\u001b[1;33m\u001b[0m\u001b[1;33m\u001b[0m\u001b[0m\n\u001b[0;32m   1893\u001b[0m \u001b[1;33m\u001b[0m\u001b[0m\n",
      "\u001b[1;32mpandas\\_libs\\parsers.pyx\u001b[0m in \u001b[0;36mpandas._libs.parsers.TextReader.__cinit__\u001b[1;34m()\u001b[0m\n",
      "\u001b[1;32mpandas\\_libs\\parsers.pyx\u001b[0m in \u001b[0;36mpandas._libs.parsers.TextReader._setup_parser_source\u001b[1;34m()\u001b[0m\n",
      "\u001b[1;31mFileNotFoundError\u001b[0m: [Errno 2] File /kaggle/input/sf-dst-scoring/train.csv does not exist: '/kaggle/input/sf-dst-scoring/train.csv'"
     ]
    }
   ],
   "source": [
    "train = pd.read_csv(path +'train.csv')\n",
    "test = pd.read_csv(path +'test.csv')\n",
    "sample = pd.read_csv(path +'sample_submission.csv')"
   ]
  },
  {
   "cell_type": "code",
   "execution_count": null,
   "metadata": {
    "execution": {
     "iopub.execute_input": "2021-07-16T17:56:06.093445Z",
     "iopub.status.busy": "2021-07-16T17:56:06.093042Z",
     "iopub.status.idle": "2021-07-16T17:56:06.181048Z",
     "shell.execute_reply": "2021-07-16T17:56:06.179949Z",
     "shell.execute_reply.started": "2021-07-16T17:56:06.093412Z"
    }
   },
   "outputs": [],
   "source": [
    "print(train.info())\n",
    "print('Train size: ', train.shape)\n",
    "train.head()\n"
   ]
  },
  {
   "cell_type": "code",
   "execution_count": null,
   "metadata": {
    "execution": {
     "iopub.execute_input": "2021-07-16T17:56:06.184636Z",
     "iopub.status.busy": "2021-07-16T17:56:06.184164Z",
     "iopub.status.idle": "2021-07-16T17:56:06.241961Z",
     "shell.execute_reply": "2021-07-16T17:56:06.240889Z",
     "shell.execute_reply.started": "2021-07-16T17:56:06.184589Z"
    }
   },
   "outputs": [],
   "source": [
    "train.isna().sum()"
   ]
  },
  {
   "cell_type": "code",
   "execution_count": null,
   "metadata": {
    "execution": {
     "iopub.execute_input": "2021-07-16T17:56:06.243763Z",
     "iopub.status.busy": "2021-07-16T17:56:06.243445Z",
     "iopub.status.idle": "2021-07-16T17:56:06.283004Z",
     "shell.execute_reply": "2021-07-16T17:56:06.282142Z",
     "shell.execute_reply.started": "2021-07-16T17:56:06.243732Z"
    }
   },
   "outputs": [],
   "source": [
    "test.isna().sum()"
   ]
  },
  {
   "cell_type": "markdown",
   "metadata": {},
   "source": [
    "хмм.. пропуски в education, Y/N - чисто бинарные значения в некоторых признаках"
   ]
  },
  {
   "cell_type": "code",
   "execution_count": null,
   "metadata": {
    "execution": {
     "iopub.execute_input": "2021-07-16T17:56:06.284973Z",
     "iopub.status.busy": "2021-07-16T17:56:06.284577Z",
     "iopub.status.idle": "2021-07-16T17:56:06.342362Z",
     "shell.execute_reply": "2021-07-16T17:56:06.341031Z",
     "shell.execute_reply.started": "2021-07-16T17:56:06.284931Z"
    }
   },
   "outputs": [],
   "source": [
    "print(test.info())\n",
    "print('Test size: ', test.shape)\n",
    "test.head(5)"
   ]
  },
  {
   "cell_type": "code",
   "execution_count": null,
   "metadata": {
    "execution": {
     "iopub.execute_input": "2021-07-16T17:56:06.344007Z",
     "iopub.status.busy": "2021-07-16T17:56:06.343717Z",
     "iopub.status.idle": "2021-07-16T17:56:06.368813Z",
     "shell.execute_reply": "2021-07-16T17:56:06.367603Z",
     "shell.execute_reply.started": "2021-07-16T17:56:06.343980Z"
    }
   },
   "outputs": [],
   "source": [
    "print(sample.info())\n",
    "print(sample.shape)\n",
    "sample.head(5)"
   ]
  },
  {
   "cell_type": "code",
   "execution_count": null,
   "metadata": {
    "execution": {
     "iopub.execute_input": "2021-07-16T17:56:06.370612Z",
     "iopub.status.busy": "2021-07-16T17:56:06.370320Z",
     "iopub.status.idle": "2021-07-16T17:56:06.504250Z",
     "shell.execute_reply": "2021-07-16T17:56:06.502904Z",
     "shell.execute_reply.started": "2021-07-16T17:56:06.370585Z"
    }
   },
   "outputs": [],
   "source": [
    "# распределение классов в трейне\n",
    "plot = sns.countplot(train['default'])"
   ]
  },
  {
   "cell_type": "markdown",
   "metadata": {},
   "source": [
    "## *Data Description:*\n",
    "client_id - identification\n",
    "\n",
    "education - education level\n",
    "\n",
    "sex - sex\n",
    "\n",
    "age - age\n",
    "\n",
    "car - binary/ has a car or not\n",
    "\n",
    "car_type - whether car is international\n",
    "\n",
    "decline_app_cnt - declined application count in the past\n",
    "\n",
    "good_work - binary/ has 'good' work or not\n",
    "\n",
    "bki_request_cnt - requests to BKI\n",
    "\n",
    "home_address - category of home address\n",
    "\n",
    "work_address - category of work address\n",
    "\n",
    "income - income\n",
    "\n",
    "foreign_passport - binary/ has foreign passport\n",
    "\n",
    "sna - connection with bank employee\n",
    "\n",
    "first_time - age of information about the client\n",
    "\n",
    "score_bki - BKI score\n",
    "\n",
    "region_rating - region rating\n",
    "\n",
    "app_date - application date\n",
    "\n",
    "default - default flag"
   ]
  },
  {
   "cell_type": "markdown",
   "metadata": {},
   "source": [
    "# EDA: классифицируем признаки по типу."
   ]
  },
  {
   "cell_type": "code",
   "execution_count": null,
   "metadata": {
    "execution": {
     "iopub.execute_input": "2021-07-16T17:56:06.505753Z",
     "iopub.status.busy": "2021-07-16T17:56:06.505486Z",
     "iopub.status.idle": "2021-07-16T17:56:06.511939Z",
     "shell.execute_reply": "2021-07-16T17:56:06.510542Z",
     "shell.execute_reply.started": "2021-07-16T17:56:06.505727Z"
    }
   },
   "outputs": [],
   "source": [
    "num_cols = ['age','decline_app_cnt','score_bki','income','bki_request_cnt','region_rating'] \n",
    "cat_cols = ['work_address','home_address','sna','first_time'] \n",
    "bin_cols = ['sex','car','car_type','good_work','foreign_passport'] \n",
    "ord_cols = ['education'] # порядковый!\n",
    "target_col = 'default'"
   ]
  },
  {
   "cell_type": "code",
   "execution_count": null,
   "metadata": {
    "execution": {
     "iopub.execute_input": "2021-07-16T17:56:06.513867Z",
     "iopub.status.busy": "2021-07-16T17:56:06.513551Z",
     "iopub.status.idle": "2021-07-16T17:56:06.791894Z",
     "shell.execute_reply": "2021-07-16T17:56:06.790612Z",
     "shell.execute_reply.started": "2021-07-16T17:56:06.513839Z"
    }
   },
   "outputs": [],
   "source": [
    "plot = sns.countplot(train['education'])"
   ]
  },
  {
   "cell_type": "markdown",
   "metadata": {},
   "source": [
    "В education прослеживается явно ординарная природа. Закодируем.\n",
    "SHC - school,\n",
    "UGR - undergraduate = бакалавр,\n",
    "GRD = graduate degree,\n",
    "а PGR+ACD = (postgraduate, academic) - объединим в 1\n",
    "В прочих признаках закодируем Y/N, male/female -> 1,0  и прочие категориальные метки"
   ]
  },
  {
   "cell_type": "code",
   "execution_count": null,
   "metadata": {
    "execution": {
     "iopub.execute_input": "2021-07-16T17:56:06.793939Z",
     "iopub.status.busy": "2021-07-16T17:56:06.793623Z",
     "iopub.status.idle": "2021-07-16T17:56:07.077136Z",
     "shell.execute_reply": "2021-07-16T17:56:07.075802Z",
     "shell.execute_reply.started": "2021-07-16T17:56:06.793910Z"
    }
   },
   "outputs": [],
   "source": [
    "def ReplaceEdu(x):\n",
    "    if x=='SCH': return 0\n",
    "    if x=='UGR': return 1\n",
    "    if x=='GRD': return 2\n",
    "    if x=='PGR': return 3\n",
    "    if x=='ACD': return 3\n",
    "    return None\n",
    "\n",
    "def Encode(df):\n",
    "    mapp = {}\n",
    "    label_encoder = LabelEncoder()\n",
    "    for col in bin_cols:\n",
    "        df[col] = label_encoder.fit_transform(df[col])\n",
    "        mapp[col] = dict(enumerate(label_encoder.classes_))\n",
    "\n",
    "\n",
    "    mappc = {}\n",
    "    enc = OneHotEncoder()\n",
    "    for col in cat_cols:\n",
    "        df[col] = label_encoder.fit_transform(df[col])\n",
    "        mappc[col] = dict(enumerate(label_encoder.classes_))\n",
    "        \n",
    "    print(mapp)\n",
    "    print(mappc)        \n",
    "    return df\n",
    "\n",
    "train.education = train.education.apply(lambda x: ReplaceEdu(x))\n",
    "test.education = test.education.apply(lambda x: ReplaceEdu(x))\n",
    "train = Encode(train)\n",
    "test = Encode(test)\n",
    "    \n",
    "\n"
   ]
  },
  {
   "cell_type": "code",
   "execution_count": null,
   "metadata": {
    "execution": {
     "iopub.execute_input": "2021-07-16T17:56:07.082638Z",
     "iopub.status.busy": "2021-07-16T17:56:07.082325Z",
     "iopub.status.idle": "2021-07-16T17:56:07.103058Z",
     "shell.execute_reply": "2021-07-16T17:56:07.101601Z",
     "shell.execute_reply.started": "2021-07-16T17:56:07.082607Z"
    }
   },
   "outputs": [],
   "source": [
    "train.head(5)"
   ]
  },
  {
   "cell_type": "code",
   "execution_count": null,
   "metadata": {
    "execution": {
     "iopub.execute_input": "2021-07-16T17:56:07.107067Z",
     "iopub.status.busy": "2021-07-16T17:56:07.106674Z",
     "iopub.status.idle": "2021-07-16T17:56:07.129832Z",
     "shell.execute_reply": "2021-07-16T17:56:07.128624Z",
     "shell.execute_reply.started": "2021-07-16T17:56:07.107030Z"
    }
   },
   "outputs": [],
   "source": [
    "test.head(5)"
   ]
  },
  {
   "cell_type": "code",
   "execution_count": null,
   "metadata": {
    "execution": {
     "iopub.execute_input": "2021-07-16T17:56:07.132540Z",
     "iopub.status.busy": "2021-07-16T17:56:07.132179Z",
     "iopub.status.idle": "2021-07-16T17:56:07.211000Z",
     "shell.execute_reply": "2021-07-16T17:56:07.210267Z",
     "shell.execute_reply.started": "2021-07-16T17:56:07.132509Z"
    }
   },
   "outputs": [],
   "source": [
    "# разметим для простоты\n",
    "train['sample'] = 1   # train\n",
    "test['sample'] = 0    # test\n",
    "test['default'] = -1  \n",
    "data = train.append(test, sort=False).reset_index(drop=True)\n",
    "print(data.info())\n",
    "data.shape"
   ]
  },
  {
   "cell_type": "code",
   "execution_count": null,
   "metadata": {
    "execution": {
     "iopub.execute_input": "2021-07-16T17:56:07.212282Z",
     "iopub.status.busy": "2021-07-16T17:56:07.211956Z",
     "iopub.status.idle": "2021-07-16T17:56:07.339216Z",
     "shell.execute_reply": "2021-07-16T17:56:07.338301Z",
     "shell.execute_reply.started": "2021-07-16T17:56:07.212249Z"
    }
   },
   "outputs": [],
   "source": [
    "data.describe()"
   ]
  },
  {
   "cell_type": "markdown",
   "metadata": {},
   "source": [
    "# анализируем вещественные признаки"
   ]
  },
  {
   "cell_type": "code",
   "execution_count": null,
   "metadata": {
    "execution": {
     "iopub.execute_input": "2021-07-16T17:56:07.340786Z",
     "iopub.status.busy": "2021-07-16T17:56:07.340419Z",
     "iopub.status.idle": "2021-07-16T17:56:09.066772Z",
     "shell.execute_reply": "2021-07-16T17:56:09.064220Z",
     "shell.execute_reply.started": "2021-07-16T17:56:07.340747Z"
    }
   },
   "outputs": [],
   "source": [
    "# Let's look at numerical data\n",
    "fig, axes = plt.subplots(2, 3, figsize=(25,15))\n",
    "\n",
    "for i,col in enumerate(num_cols):\n",
    "    sns.distplot(data[col], kde=False, ax=axes.flat[i], color=\"b\")"
   ]
  },
  {
   "cell_type": "markdown",
   "metadata": {},
   "source": [
    "### распределение 'decline_app_cnt', 'income', 'bki_request_cnt' смещено влево. прологарифмируем их, чтобы добиться более \"правильной\" нормальности."
   ]
  },
  {
   "cell_type": "code",
   "execution_count": null,
   "metadata": {
    "execution": {
     "iopub.execute_input": "2021-07-16T17:56:09.068619Z",
     "iopub.status.busy": "2021-07-16T17:56:09.068336Z",
     "iopub.status.idle": "2021-07-16T17:56:09.801919Z",
     "shell.execute_reply": "2021-07-16T17:56:09.800563Z",
     "shell.execute_reply.started": "2021-07-16T17:56:09.068591Z"
    }
   },
   "outputs": [],
   "source": [
    "fig, axes = plt.subplots(1, 3, figsize=(10,7))\n",
    "for i,col in enumerate(['decline_app_cnt', 'income', 'bki_request_cnt']):\n",
    "    data[col] = np.log(data[col] + 1)\n",
    "    sns.distplot(data[col][data[col] > 0].dropna(), ax=axes.flat[i],kde = False, rug=False,color=\"r\")\n",
    "    \n",
    "    "
   ]
  },
  {
   "cell_type": "markdown",
   "metadata": {},
   "source": [
    "## так-то лучше."
   ]
  },
  {
   "cell_type": "code",
   "execution_count": null,
   "metadata": {
    "execution": {
     "iopub.execute_input": "2021-07-16T17:56:09.803811Z",
     "iopub.status.busy": "2021-07-16T17:56:09.803476Z",
     "iopub.status.idle": "2021-07-16T17:56:10.991857Z",
     "shell.execute_reply": "2021-07-16T17:56:10.990470Z",
     "shell.execute_reply.started": "2021-07-16T17:56:09.803782Z"
    }
   },
   "outputs": [],
   "source": [
    "def boxplot(col):\n",
    "    fig, axes = plt.subplots(figsize = (14, 4))\n",
    "    sns.boxplot(x='default', y=col, data=data[data['sample']==1],ax=axes)\n",
    "    axes.set_title('Boxplot for ' + col)\n",
    "    plt.show()\n",
    "    \n",
    "for col in num_cols:\n",
    "    boxplot(col)"
   ]
  },
  {
   "cell_type": "markdown",
   "metadata": {},
   "source": [
    "## Простые закономерности для дефолтных граждан (по сравнению с недефолтными):\n",
    "\n",
    "* младше\n",
    "\n",
    "* скоринг БКИ выше.\n",
    "\n",
    "* Region rating влияет.\n",
    "\n",
    "* BKI requests (кол-во обращений в БКИ) выше.\n",
    "\n",
    "* income (доход) ниже."
   ]
  },
  {
   "cell_type": "code",
   "execution_count": null,
   "metadata": {
    "execution": {
     "iopub.execute_input": "2021-07-16T17:56:10.993961Z",
     "iopub.status.busy": "2021-07-16T17:56:10.993555Z",
     "iopub.status.idle": "2021-07-16T17:56:11.156528Z",
     "shell.execute_reply": "2021-07-16T17:56:11.155034Z",
     "shell.execute_reply.started": "2021-07-16T17:56:10.993921Z"
    }
   },
   "outputs": [],
   "source": [
    "data.education.value_counts().plot(kind=\"bar\",figsize=(8,6),color=\"r\")"
   ]
  },
  {
   "cell_type": "markdown",
   "metadata": {},
   "source": [
    "# заполним пропуски в education творческим методом - машинного обучения, решая задачу классификации\n",
    "но для упрощения введем 2 функции, которые помогут нам в будущем при любом машинном обучении в задаче классификации"
   ]
  },
  {
   "cell_type": "code",
   "execution_count": null,
   "metadata": {
    "execution": {
     "iopub.execute_input": "2021-07-16T17:56:11.159812Z",
     "iopub.status.busy": "2021-07-16T17:56:11.159382Z",
     "iopub.status.idle": "2021-07-16T17:56:11.184736Z",
     "shell.execute_reply": "2021-07-16T17:56:11.183506Z",
     "shell.execute_reply.started": "2021-07-16T17:56:11.159769Z"
    }
   },
   "outputs": [],
   "source": [
    "# метод универсально готовит train/test выборку для любой ML задачи по размеченным признакам. \n",
    "# выдергивает из датафрейма numpy-массив данных, кодирует категориальный признаки в One-hot, \n",
    "# числовые и ординальные нормализует, а бинарные просто копирует,\n",
    "# затем генерит полиномиальные и нормализует, и режет все это на train/valid части\n",
    "def GetSelection(df, num_cols, bin_cols, cat_cols, ord_cols, target_col, \n",
    "                 test_size=0.2, shuffle=True, random_state=42):\n",
    "    #удалим из ML-выборки лишние бессмысленные признаки (если они там есть)\n",
    "    try:\n",
    "        df = df.drop(['sample'], axis=1)\n",
    "    except:\n",
    "        pass\n",
    "    \n",
    "    try:\n",
    "        df = df.drop(['client_id'], axis=1)\n",
    "    except:\n",
    "        pass\n",
    "    \n",
    "    labels = df.columns.to_list()\n",
    "    \n",
    "    X_cat = OneHotEncoder(sparse = False).fit_transform(df[cat_cols].values)\n",
    "    X_bin = df[bin_cols].values\n",
    "    X_num_ord = StandardScaler().fit_transform(df[num_cols+ord_cols].values)\n",
    "    \n",
    "    poly_numord = PolynomialFeatures(degree=2) #полиномиальные степени 2 для численных и ординальных с полной комбинаторикой\n",
    "    poly_bin = PolynomialFeatures(degree=2, interaction_only=True) #полиномиальные степени 2 для бинарных только с разно-признаковыми сочетаниями\n",
    "    \n",
    "    X_numord_poly = StandardScaler().fit_transform(poly_numord.fit_transform(df[num_cols+ord_cols].values))\n",
    "    X_bin_poly = poly_bin.fit_transform(df[bin_cols].values)\n",
    "    #X = np.hstack([X_num_ord, X_cat, X_bin])\n",
    "    \n",
    "    X = np.hstack([X_num_ord, X_cat, X_bin, X_numord_poly, X_bin_poly])\n",
    "    Y = df[target_col].values\n",
    "    \n",
    "    \n",
    "    if (test_size==1.0):\n",
    "        return X,Y\n",
    "\n",
    "    X_train, X_valid, Y_train, Y_valid = train_test_split(X, Y, test_size=test_size, shuffle=shuffle, random_state=random_state)\n",
    "    return X_train, X_valid, Y_train, Y_valid\n",
    "\n",
    "\n",
    "#подсчет и визуализация F1, Confusion matrix и ROC AUC на train/test\n",
    "def CalcMetrics(X_train, X_test, \n",
    "                Y_train, Y_test,\n",
    "                Y_train_pred, Y_test_pred, multiclass=False):\n",
    "    \n",
    "    if multiclass:\n",
    "        print('[train] precision = {:.2f}'.format(precision_score(Y_train, Y_train_pred, average='micro')))\n",
    "        print('[valid] precision = {:.2f}'.format(precision_score(Y_test, Y_test_pred, average='micro')))\n",
    "        print('[train] recall = {:.2f}'.format(recall_score(Y_train, Y_train_pred, average='micro')))\n",
    "        print('[valid] recall = {:.2f}'.format(recall_score(Y_test, Y_test_pred, average='micro')))    \n",
    "        print('[train] F1-score = {:.2f}'.format(f1_score(Y_train, Y_train_pred, average='micro')))\n",
    "        print('[valid] F1-score = {:.2f}'.format(f1_score(Y_test, Y_test_pred, average='micro')))\n",
    "        cm = confusion_matrix(Y_test, Y_test_pred)\n",
    "        cmd = ConfusionMatrixDisplay(cm)\n",
    "        cmd.plot()\n",
    "        cmd.ax_.set(xlabel='Predicted', ylabel='True')     \n",
    "        return \n",
    "\n",
    "    \n",
    "    print('[train] precision = {:.2f}'.format(precision_score(Y_train, Y_train_pred, average='binary')))\n",
    "    print('[valid] precision = {:.2f}'.format(precision_score(Y_test, Y_test_pred, average='binary')))\n",
    "    print('[train] recall = {:.2f}'.format(recall_score(Y_train, Y_train_pred, average='binary')))\n",
    "    print('[valid] recall = {:.2f}'.format(recall_score(Y_test, Y_test_pred, average='binary')))    \n",
    "    print('[train] F1-score = {:.2f}'.format(f1_score(Y_train, Y_train_pred, average='binary')))\n",
    "    print('[valid] F1-score = {:.2f}'.format(f1_score(Y_test, Y_test_pred, average='binary')))\n",
    "    cm = confusion_matrix(Y_test, Y_test_pred)\n",
    "    cmd = ConfusionMatrixDisplay(cm)\n",
    "    cmd.plot()\n",
    "    cmd.ax_.set(xlabel='Predicted', ylabel='True')     \n",
    "    \n",
    "    # считаем вероятности и ROCAUC обучающей (X_train, y_train) выборки\n",
    "    y_train_probs = classifier.predict_proba(X_train)\n",
    "    y_train_probs = y_train_probs[:,1]\n",
    "    fpr_train, tpr_train, threshold_train = roc_curve(Y_train, y_train_probs)\n",
    "    roc_auc_train = roc_auc_score(Y_train, y_train_probs)\n",
    "\n",
    "    # считаем метрики тестовой (X_test, y_test) выборки\n",
    "    Y_pred_probs = classifier.predict_proba(X_test)\n",
    "    Y_pred_probs = Y_pred_probs[:,1]\n",
    "    fpr_test, tpr_test, threshold_test = roc_curve(Y_test, Y_pred_probs)\n",
    "    roc_auc_test = roc_auc_score(Y_test, Y_pred_probs)\n",
    "\n",
    "    # строи графики метрик\n",
    "    plt.figure()\n",
    "    plt.plot([0, 1], label='Baseline', linestyle = '--')\n",
    "    plt.plot(fpr_train, tpr_train, label = 'Train')\n",
    "    plt.plot(fpr_test, tpr_test, label = 'Test')\n",
    "    plt.title('Logistic Regression ROC AUC Train = {a} \\n Logistic Regression ROC AUC Test = {b}'\n",
    "              .format(a = roc_auc_train.round(3), b = roc_auc_test.round(3)))\n",
    "    plt.ylabel('True Positive Rate')\n",
    "    plt.xlabel('False Positive Rate')\n",
    "    plt.legend(loc = 'lower right')\n",
    "    plt.show()"
   ]
  },
  {
   "cell_type": "code",
   "execution_count": null,
   "metadata": {
    "execution": {
     "iopub.execute_input": "2021-07-16T17:56:11.186789Z",
     "iopub.status.busy": "2021-07-16T17:56:11.186470Z",
     "iopub.status.idle": "2021-07-16T17:56:11.203591Z",
     "shell.execute_reply": "2021-07-16T17:56:11.201463Z",
     "shell.execute_reply.started": "2021-07-16T17:56:11.186760Z"
    }
   },
   "outputs": [],
   "source": [
    "\n",
    "print(\"Пропусков:\",data.education.isna().sum())"
   ]
  },
  {
   "cell_type": "code",
   "execution_count": null,
   "metadata": {
    "execution": {
     "iopub.execute_input": "2021-07-16T17:56:11.206318Z",
     "iopub.status.busy": "2021-07-16T17:56:11.205824Z",
     "iopub.status.idle": "2021-07-16T17:56:13.955843Z",
     "shell.execute_reply": "2021-07-16T17:56:13.954366Z",
     "shell.execute_reply.started": "2021-07-16T17:56:11.206269Z"
    }
   },
   "outputs": [],
   "source": [
    "from sklearn.tree import DecisionTreeClassifier\n",
    "dfGood = data[~pd.isna(data.education)] #часть данных с непропущенными значениями\n",
    "dfMissed = data[pd.isna(data.education)] #часть данных с пропущенными значениями\n",
    "if len(dfMissed)>0:\n",
    "    print('найдено', len(dfMissed), 'пропусков')\n",
    "\n",
    "\n",
    "    X_train, X_valid, Y_train, Y_valid = GetSelection(dfGood,\n",
    "                    num_cols = num_cols,\n",
    "                    bin_cols = bin_cols,\n",
    "                    cat_cols = cat_cols,\n",
    "                    ord_cols = [],\n",
    "                    target_col = 'education') #вот только default мы выкинем, циклическая рефлексия нам некстати потом.\n",
    "\n",
    "\n",
    "    classifier = DecisionTreeClassifier(max_depth=9, random_state = 42, class_weight = 'balanced')\n",
    "    classifier.fit(X_train, Y_train)\n",
    "    Y_pred = classifier.predict(X_valid)\n",
    "    Y_train_pred = classifier.predict(X_train)\n",
    "    CalcMetrics(X_train, X_valid, Y_train, Y_valid, Y_train_pred, Y_pred, multiclass=True)\n",
    "\n",
    "    X_valid, Y_valid = GetSelection(dfMissed,\n",
    "                    num_cols = num_cols,\n",
    "                    bin_cols = bin_cols,\n",
    "                    cat_cols = cat_cols,\n",
    "                    ord_cols = [],\n",
    "                    target_col = 'education',\n",
    "                    test_size=1.0)\n",
    "    dfMissed.education = classifier.predict(X_valid)\n",
    "\n",
    "    data.loc[dfMissed.index, 'education'] = dfMissed\n",
    "    data.education = data.education.astype(int)\n",
    "    print('education:')\n",
    "    display(data.education.value_counts())"
   ]
  },
  {
   "cell_type": "markdown",
   "metadata": {},
   "source": [
    "F1 на train/test демонстрирует отсутствие overfitting. Confusion matrix выглядит без сильных перекосов."
   ]
  },
  {
   "cell_type": "code",
   "execution_count": null,
   "metadata": {
    "execution": {
     "iopub.execute_input": "2021-07-16T17:56:13.958132Z",
     "iopub.status.busy": "2021-07-16T17:56:13.957677Z",
     "iopub.status.idle": "2021-07-16T17:56:13.965487Z",
     "shell.execute_reply": "2021-07-16T17:56:13.964003Z",
     "shell.execute_reply.started": "2021-07-16T17:56:13.958071Z"
    }
   },
   "outputs": [],
   "source": [
    "print(\"Пропусков:\",data.education.isna().sum())\n"
   ]
  },
  {
   "cell_type": "markdown",
   "metadata": {},
   "source": [
    "вот и хорошо! пропусков в education больше нет."
   ]
  },
  {
   "cell_type": "markdown",
   "metadata": {},
   "source": [
    "Смотрим зависимость дохода от уровня образования"
   ]
  },
  {
   "cell_type": "code",
   "execution_count": null,
   "metadata": {
    "execution": {
     "iopub.execute_input": "2021-07-16T17:56:13.967737Z",
     "iopub.status.busy": "2021-07-16T17:56:13.967330Z",
     "iopub.status.idle": "2021-07-16T17:56:14.183308Z",
     "shell.execute_reply": "2021-07-16T17:56:14.181974Z",
     "shell.execute_reply.started": "2021-07-16T17:56:13.967696Z"
    }
   },
   "outputs": [],
   "source": [
    "plt.figure(figsize=(15, 8))\n",
    "sns.boxplot(x=\"education\", y=\"income\", data=data, showfliers=False)"
   ]
  },
  {
   "cell_type": "code",
   "execution_count": null,
   "metadata": {
    "execution": {
     "iopub.execute_input": "2021-07-16T17:56:14.185489Z",
     "iopub.status.busy": "2021-07-16T17:56:14.185050Z",
     "iopub.status.idle": "2021-07-16T17:56:14.810333Z",
     "shell.execute_reply": "2021-07-16T17:56:14.808944Z",
     "shell.execute_reply.started": "2021-07-16T17:56:14.185446Z"
    }
   },
   "outputs": [],
   "source": [
    "plt.rcParams['figure.figsize'] = (15,10)\n",
    "sns.heatmap(data[num_cols + ord_cols].corr(), vmin=0, vmax=1, annot = True) "
   ]
  },
  {
   "cell_type": "markdown",
   "metadata": {},
   "source": [
    "тут все хорошо."
   ]
  },
  {
   "cell_type": "code",
   "execution_count": null,
   "metadata": {
    "execution": {
     "iopub.execute_input": "2021-07-16T17:56:14.811832Z",
     "iopub.status.busy": "2021-07-16T17:56:14.811576Z",
     "iopub.status.idle": "2021-07-16T17:56:15.055370Z",
     "shell.execute_reply": "2021-07-16T17:56:15.054330Z",
     "shell.execute_reply.started": "2021-07-16T17:56:14.811807Z"
    }
   },
   "outputs": [],
   "source": [
    "imp_num = pd.Series(f_classif(data[num_cols+ord_cols].values, data[target_col].values)[0], index = num_cols+ord_cols)\n",
    "imp_num.sort_values(inplace = True)\n",
    "imp_num.plot(kind = 'barh')"
   ]
  },
  {
   "cell_type": "code",
   "execution_count": null,
   "metadata": {
    "execution": {
     "iopub.execute_input": "2021-07-16T17:56:15.056803Z",
     "iopub.status.busy": "2021-07-16T17:56:15.056521Z",
     "iopub.status.idle": "2021-07-16T17:56:15.490424Z",
     "shell.execute_reply": "2021-07-16T17:56:15.489555Z",
     "shell.execute_reply.started": "2021-07-16T17:56:15.056776Z"
    }
   },
   "outputs": [],
   "source": [
    "sns.heatmap(data[bin_cols + cat_cols].corr(method='spearman').abs(), vmin=0, vmax=1)"
   ]
  },
  {
   "cell_type": "markdown",
   "metadata": {},
   "source": [
    "### Упс... car-car_type, home_address-work_address - многовато. удалим. Но сначала посмотрим важность для целевой переменной с помощью ANOVA"
   ]
  },
  {
   "cell_type": "code",
   "execution_count": null,
   "metadata": {
    "execution": {
     "iopub.execute_input": "2021-07-16T17:56:15.491902Z",
     "iopub.status.busy": "2021-07-16T17:56:15.491622Z",
     "iopub.status.idle": "2021-07-16T17:56:16.307356Z",
     "shell.execute_reply": "2021-07-16T17:56:16.306036Z",
     "shell.execute_reply.started": "2021-07-16T17:56:15.491875Z"
    }
   },
   "outputs": [],
   "source": [
    "imp_cat = pd.Series(mutual_info_classif(data[bin_cols+cat_cols].values, data[target_col].values,\n",
    "                                     discrete_features =True), index = bin_cols + cat_cols)\n",
    "imp_cat.sort_values(inplace = True)\n",
    "imp_cat.plot(kind = 'barh')"
   ]
  },
  {
   "cell_type": "markdown",
   "metadata": {},
   "source": [
    "# т.о. 'car', 'work_address' мы исключаем из входных данных"
   ]
  },
  {
   "cell_type": "code",
   "execution_count": null,
   "metadata": {
    "execution": {
     "iopub.execute_input": "2021-07-16T17:56:16.309812Z",
     "iopub.status.busy": "2021-07-16T17:56:16.309314Z",
     "iopub.status.idle": "2021-07-16T17:56:16.314998Z",
     "shell.execute_reply": "2021-07-16T17:56:16.313706Z",
     "shell.execute_reply.started": "2021-07-16T17:56:16.309749Z"
    }
   },
   "outputs": [],
   "source": [
    "bin_cols.remove('car')\n",
    "cat_cols.remove('work_address')"
   ]
  },
  {
   "cell_type": "markdown",
   "metadata": {},
   "source": [
    "# *Feature engineering*"
   ]
  },
  {
   "cell_type": "code",
   "execution_count": null,
   "metadata": {
    "execution": {
     "iopub.execute_input": "2021-07-16T17:56:16.317404Z",
     "iopub.status.busy": "2021-07-16T17:56:16.316901Z",
     "iopub.status.idle": "2021-07-16T17:57:00.659679Z",
     "shell.execute_reply": "2021-07-16T17:57:00.658480Z",
     "shell.execute_reply.started": "2021-07-16T17:56:16.317340Z"
    }
   },
   "outputs": [],
   "source": [
    "data['app_date'] = pd.to_datetime(data.app_date)\n",
    "data['app_date'] = data['app_date'].apply(lambda x: (x - data['app_date'].min()).days) # число дней с минимальной даты"
   ]
  },
  {
   "cell_type": "code",
   "execution_count": null,
   "metadata": {
    "execution": {
     "iopub.execute_input": "2021-07-16T17:57:00.661337Z",
     "iopub.status.busy": "2021-07-16T17:57:00.661002Z",
     "iopub.status.idle": "2021-07-16T17:57:00.671472Z",
     "shell.execute_reply": "2021-07-16T17:57:00.670374Z",
     "shell.execute_reply.started": "2021-07-16T17:57:00.661308Z"
    }
   },
   "outputs": [],
   "source": [
    "#средний доход для возраста\n",
    "mean_income = data.groupby('age')['income'].mean().to_dict() #средний доход для возраста\n",
    "data['mean_income_age'] = data['age'].map(mean_income)\n",
    "num_cols += ['mean_income_age']"
   ]
  },
  {
   "cell_type": "code",
   "execution_count": null,
   "metadata": {
    "execution": {
     "iopub.execute_input": "2021-07-16T17:57:00.672762Z",
     "iopub.status.busy": "2021-07-16T17:57:00.672492Z",
     "iopub.status.idle": "2021-07-16T17:57:00.687844Z",
     "shell.execute_reply": "2021-07-16T17:57:00.686490Z",
     "shell.execute_reply.started": "2021-07-16T17:57:00.672737Z"
    }
   },
   "outputs": [],
   "source": [
    "#макс доход для возраста\n",
    "max_income = data.groupby('age')['income'].max().to_dict()\n",
    "data['max_income_age'] = data['age'].map(max_income)\n",
    "num_cols += ['max_income_age']"
   ]
  },
  {
   "cell_type": "code",
   "execution_count": null,
   "metadata": {
    "execution": {
     "iopub.execute_input": "2021-07-16T17:57:00.689679Z",
     "iopub.status.busy": "2021-07-16T17:57:00.689289Z",
     "iopub.status.idle": "2021-07-16T17:57:00.698488Z",
     "shell.execute_reply": "2021-07-16T17:57:00.697194Z",
     "shell.execute_reply.started": "2021-07-16T17:57:00.689640Z"
    }
   },
   "outputs": [],
   "source": [
    "# нормализуем доход по отношению к макс. доходу возраста\n",
    "data[\"normalized_income\"] = abs((data.income - data.mean_income_age)/data.max_income_age)\n",
    "num_cols += ['normalized_income']"
   ]
  },
  {
   "cell_type": "code",
   "execution_count": null,
   "metadata": {
    "execution": {
     "iopub.execute_input": "2021-07-16T17:57:00.700486Z",
     "iopub.status.busy": "2021-07-16T17:57:00.700024Z",
     "iopub.status.idle": "2021-07-16T17:57:00.712997Z",
     "shell.execute_reply": "2021-07-16T17:57:00.711873Z",
     "shell.execute_reply.started": "2021-07-16T17:57:00.700451Z"
    }
   },
   "outputs": [],
   "source": [
    "# requests to BKI by age\n",
    "mean_bki = data.groupby('age')['bki_request_cnt'].mean().to_dict()\n",
    "data['mean_requests_age'] = data['age'].map(mean_bki)\n",
    "num_cols += ['mean_requests_age']"
   ]
  },
  {
   "cell_type": "code",
   "execution_count": null,
   "metadata": {
    "execution": {
     "iopub.execute_input": "2021-07-16T17:57:00.714480Z",
     "iopub.status.busy": "2021-07-16T17:57:00.714203Z",
     "iopub.status.idle": "2021-07-16T17:57:00.728230Z",
     "shell.execute_reply": "2021-07-16T17:57:00.726921Z",
     "shell.execute_reply.started": "2021-07-16T17:57:00.714455Z"
    }
   },
   "outputs": [],
   "source": [
    "# mean BKI requests by income\n",
    "mean_bki_inc = data.groupby('income')['bki_request_cnt'].mean().to_dict()\n",
    "data['mean_requests_income'] = data['income'].map(mean_bki_inc)\n",
    "num_cols += ['mean_requests_income']"
   ]
  },
  {
   "cell_type": "code",
   "execution_count": null,
   "metadata": {
    "execution": {
     "iopub.execute_input": "2021-07-16T17:57:00.730788Z",
     "iopub.status.busy": "2021-07-16T17:57:00.730128Z",
     "iopub.status.idle": "2021-07-16T17:57:00.745560Z",
     "shell.execute_reply": "2021-07-16T17:57:00.744221Z",
     "shell.execute_reply.started": "2021-07-16T17:57:00.730736Z"
    }
   },
   "outputs": [],
   "source": [
    "# Mean income by region\n",
    "mean_income_rat = data.groupby('region_rating')['income'].mean().to_dict()\n",
    "data['mean_income_region'] = data['region_rating'].map(mean_income_rat)\n",
    "num_cols += ['mean_income_region']"
   ]
  },
  {
   "cell_type": "markdown",
   "metadata": {},
   "source": [
    "обобщим эту идею на комбинации разных численных признаков, где может быть взаимосвязь, обернем логику в функцию: "
   ]
  },
  {
   "cell_type": "code",
   "execution_count": null,
   "metadata": {
    "execution": {
     "iopub.execute_input": "2021-07-16T17:57:00.747549Z",
     "iopub.status.busy": "2021-07-16T17:57:00.747123Z",
     "iopub.status.idle": "2021-07-16T17:57:00.974966Z",
     "shell.execute_reply": "2021-07-16T17:57:00.973643Z",
     "shell.execute_reply.started": "2021-07-16T17:57:00.747514Z"
    }
   },
   "outputs": [],
   "source": [
    "#Отображение значения x_col на среднее f_col для этого значения. \n",
    "def ConnectFeatures(df, f_col, x_col):\n",
    "    global num_cols\n",
    "    new_vals = df.groupby(x_col)[f_col].mean().to_dict()\n",
    "    new_colname = f_col+'_'+x_col\n",
    "    df[new_colname] = df[x_col].map(new_vals)\n",
    "    num_cols += [new_colname]\n",
    "    return df\n",
    "    \n",
    "data = ConnectFeatures(data, 'income', 'education')\n",
    "data = ConnectFeatures(data, 'income', 'decline_app_cnt')\n",
    "data = ConnectFeatures(data, 'income', 'bki_request_cnt')\n",
    "data = ConnectFeatures(data, 'age', 'education')\n",
    "data = ConnectFeatures(data, 'bki_request_cnt', 'education')\n",
    "data = ConnectFeatures(data, 'bki_request_cnt', 'decline_app_cnt')\n",
    "data = ConnectFeatures(data, 'decline_app_cnt', 'score_bki')\n",
    "data = ConnectFeatures(data, 'decline_app_cnt', 'bki_request_cnt')\n",
    "data = ConnectFeatures(data, 'decline_app_cnt', 'age')\n",
    "\n"
   ]
  },
  {
   "cell_type": "code",
   "execution_count": null,
   "metadata": {
    "execution": {
     "iopub.execute_input": "2021-07-16T17:57:00.976836Z",
     "iopub.status.busy": "2021-07-16T17:57:00.976455Z",
     "iopub.status.idle": "2021-07-16T17:57:00.984251Z",
     "shell.execute_reply": "2021-07-16T17:57:00.983230Z",
     "shell.execute_reply.started": "2021-07-16T17:57:00.976798Z"
    }
   },
   "outputs": [],
   "source": [
    "\n",
    "data.columns"
   ]
  },
  {
   "cell_type": "markdown",
   "metadata": {},
   "source": [
    "посмотрим на выбросы в числовых признаках..."
   ]
  },
  {
   "cell_type": "code",
   "execution_count": null,
   "metadata": {
    "execution": {
     "iopub.execute_input": "2021-07-16T17:57:00.986566Z",
     "iopub.status.busy": "2021-07-16T17:57:00.986233Z",
     "iopub.status.idle": "2021-07-16T17:57:01.234481Z",
     "shell.execute_reply": "2021-07-16T17:57:01.233322Z",
     "shell.execute_reply.started": "2021-07-16T17:57:00.986532Z"
    }
   },
   "outputs": [],
   "source": [
    "\n",
    "for col in num_cols:\n",
    "    median = data[col].median()\n",
    "    IQR = data[col].quantile(0.75) - data[col].quantile(0.25)\n",
    "    perc25 = data[col].quantile(0.25)\n",
    "    perc75 = data[col].quantile(0.75)\n",
    "    print(\"Columns: \", col)\n",
    "    print('25%: {},'.format(perc25), '75%: {},'.format(perc75), \n",
    "          \"IQR: {}, \".format(IQR),\"Borderline: [{f}, {l}].\".format(f=perc25 - 1.5*IQR, l=perc75 + 1.5*IQR))\n"
   ]
  },
  {
   "cell_type": "markdown",
   "metadata": {},
   "source": [
    "# Modeling"
   ]
  },
  {
   "cell_type": "code",
   "execution_count": null,
   "metadata": {
    "execution": {
     "iopub.execute_input": "2021-07-16T17:57:01.236260Z",
     "iopub.status.busy": "2021-07-16T17:57:01.235908Z",
     "iopub.status.idle": "2021-07-16T17:57:02.493019Z",
     "shell.execute_reply": "2021-07-16T17:57:02.492256Z",
     "shell.execute_reply.started": "2021-07-16T17:57:01.236208Z"
    }
   },
   "outputs": [],
   "source": [
    "train_df = data.query('sample == 1')\n",
    "\n",
    "X_train, X_valid, Y_train, Y_valid = GetSelection(train_df,\n",
    "                num_cols = num_cols,\n",
    "                bin_cols = bin_cols,\n",
    "                cat_cols = cat_cols,\n",
    "                ord_cols = ord_cols,\n",
    "                target_col = target_col,\n",
    "                test_size=0.2,\n",
    "                random_state=42)\n",
    "\n"
   ]
  },
  {
   "cell_type": "markdown",
   "metadata": {},
   "source": [
    "сначала делаем модель безничего, только с max_iter=1000, random_state=42. как отправную точку"
   ]
  },
  {
   "cell_type": "code",
   "execution_count": null,
   "metadata": {
    "execution": {
     "iopub.execute_input": "2021-07-16T17:57:02.494952Z",
     "iopub.status.busy": "2021-07-16T17:57:02.494440Z",
     "iopub.status.idle": "2021-07-16T17:57:19.753419Z",
     "shell.execute_reply": "2021-07-16T17:57:19.752451Z",
     "shell.execute_reply.started": "2021-07-16T17:57:02.494920Z"
    }
   },
   "outputs": [],
   "source": [
    "classifier = LogisticRegression(max_iter=300, random_state=42)\n",
    "classifier.fit(X_train, Y_train)\n",
    "Y_pred = classifier.predict(X_valid)\n",
    "Y_train_pred = classifier.predict(X_train)\n",
    "CalcMetrics(X_train, X_valid, Y_train, Y_valid, Y_train_pred, Y_pred)"
   ]
  },
  {
   "cell_type": "markdown",
   "metadata": {},
   "source": [
    "как и следовало ожидать, без балансировки она плохо предсказывает дефолтных клиентов, заточена всем говорить \"да\". class_weight=balanced исправит проблему."
   ]
  },
  {
   "cell_type": "code",
   "execution_count": null,
   "metadata": {
    "execution": {
     "iopub.execute_input": "2021-07-16T17:57:19.755231Z",
     "iopub.status.busy": "2021-07-16T17:57:19.754741Z",
     "iopub.status.idle": "2021-07-16T17:57:37.014065Z",
     "shell.execute_reply": "2021-07-16T17:57:37.013227Z",
     "shell.execute_reply.started": "2021-07-16T17:57:19.755197Z"
    }
   },
   "outputs": [],
   "source": [
    "classifier = LogisticRegression(class_weight='balanced', max_iter=300, random_state=42)\n",
    "classifier.fit(X_train, Y_train)\n",
    "Y_pred = classifier.predict(X_valid)\n",
    "Y_train_pred = classifier.predict(X_train)\n",
    "CalcMetrics(X_train, X_valid, Y_train, Y_valid, Y_train_pred, Y_pred)"
   ]
  },
  {
   "cell_type": "markdown",
   "metadata": {},
   "source": [
    "Предсказания стали более сбалансированы.\n",
    "Теперь добавим поиск оптимальных гиперпараметров"
   ]
  },
  {
   "cell_type": "code",
   "execution_count": null,
   "metadata": {
    "execution": {
     "iopub.execute_input": "2021-07-16T17:57:37.015374Z",
     "iopub.status.busy": "2021-07-16T17:57:37.015063Z",
     "iopub.status.idle": "2021-07-16T17:57:37.025905Z",
     "shell.execute_reply": "2021-07-16T17:57:37.024355Z",
     "shell.execute_reply.started": "2021-07-16T17:57:37.015347Z"
    }
   },
   "outputs": [],
   "source": [
    "\n",
    "from sklearn.model_selection import GridSearchCV\n",
    "# ищем оптимальные значения гиперпараметров\n",
    "model = LogisticRegression(class_weight='balanced', random_state=42)\n",
    "param_grid = [\n",
    "    {\n",
    "        'penalty': ['none', 'l1', 'l2', 'elasticnet'], \n",
    "        'class_weight': ['balanced'],\n",
    "        'solver': ['newton-cg', 'liblinear', 'lbfgs', 'sag', 'saga'], \n",
    "        'multi_class': ['auto','ovr', 'multinomial'],\n",
    "        'C':[0.1, 0.3, 0.5, 0.8, 1]\n",
    "    }\n",
    "]\n",
    "\n",
    "'''\n",
    "ПОИСК ЗАНИМАЕТ НЕСКОЛЬКО ЧАСОВ! ниже написал его результаты работы за ночь\n",
    "\n",
    "gridsearch = GridSearchCV(model, param_grid, scoring='roc_auc', n_jobs=-1)\n",
    "gridsearch.fit(X_train, Y_train)\n",
    "model = gridsearch.best_estimator_\n",
    "## печатаем параметры\n",
    "best_parameters = model.get_params()\n",
    "for param_name in best_parameters:\n",
    "    print(param_name, best_parameters[param_name], '\\n')\n",
    "    \n",
    "\n",
    "'''        \n"
   ]
  },
  {
   "cell_type": "markdown",
   "metadata": {},
   "source": [
    "C 0.1 \n",
    "\n",
    "class_weight balanced \n",
    "\n",
    "dual False \n",
    "\n",
    "fit_intercept True \n",
    "\n",
    "intercept_scaling 1 \n",
    "\n",
    "l1_ratio None \n",
    "\n",
    "max_iter 100 \n",
    "\n",
    "multi_class multinomial \n",
    "\n",
    "n_jobs None \n",
    "\n",
    "penalty l2 \n",
    "\n",
    "random_state 42 \n",
    "\n",
    "solver lbfgs \n",
    "\n",
    "tol 0.0001 \n",
    "\n",
    "verbose 0 \n",
    "\n",
    "warm_start False "
   ]
  },
  {
   "cell_type": "code",
   "execution_count": null,
   "metadata": {
    "execution": {
     "iopub.execute_input": "2021-07-16T17:57:37.028010Z",
     "iopub.status.busy": "2021-07-16T17:57:37.027598Z",
     "iopub.status.idle": "2021-07-16T17:58:48.085522Z",
     "shell.execute_reply": "2021-07-16T17:58:48.084362Z",
     "shell.execute_reply.started": "2021-07-16T17:57:37.027969Z"
    }
   },
   "outputs": [],
   "source": [
    "classifier = LogisticRegression(random_state = 42,\n",
    "                                max_iter = 300,\n",
    "                                class_weight = 'balanced',\n",
    "                                \n",
    "                                C = 0.1,\n",
    "                                dual = False,\n",
    "                                fit_intercept = True,\n",
    "                                intercept_scaling = 1, \n",
    "                                l1_ratio = None, \n",
    "                                multi_class = 'multinomial', \n",
    "                                n_jobs = -1,\n",
    "                                penalty ='l2',\n",
    "                                solver = 'lbfgs', \n",
    "                                tol = 0.0001, \n",
    "                                verbose = 0, \n",
    "                                warm_start = False\n",
    "                               )\n",
    "\n",
    "classifier.fit(X_train, Y_train)\n",
    "Y_train_pred = classifier.predict(X_train)\n",
    "Y_pred = classifier.predict(X_valid)\n",
    "CalcMetrics(X_train, X_valid, Y_train, Y_valid, Y_train_pred, Y_pred)"
   ]
  },
  {
   "cell_type": "markdown",
   "metadata": {},
   "source": [
    "в итоге получили сбалансированную модель, предсказывающую с ROC AUC = 0.74 "
   ]
  },
  {
   "cell_type": "markdown",
   "metadata": {},
   "source": [
    "сделаем предсказания по тестовому набору и запишем в submission."
   ]
  },
  {
   "cell_type": "code",
   "execution_count": null,
   "metadata": {
    "execution": {
     "iopub.execute_input": "2021-07-16T17:58:48.088795Z",
     "iopub.status.busy": "2021-07-16T17:58:48.088347Z",
     "iopub.status.idle": "2021-07-16T17:58:48.718431Z",
     "shell.execute_reply": "2021-07-16T17:58:48.717317Z",
     "shell.execute_reply.started": "2021-07-16T17:58:48.088751Z"
    }
   },
   "outputs": [],
   "source": [
    "test_df = data.query('sample == 0')\n",
    "X_test, Y_test = GetSelection(test_df,\n",
    "                num_cols = num_cols,\n",
    "                bin_cols = bin_cols,\n",
    "                cat_cols = cat_cols,\n",
    "                ord_cols = ord_cols,\n",
    "                target_col = target_col,\n",
    "                test_size=1.0,\n",
    "                random_state=42)\n",
    "\n",
    "Y_pred = classifier.predict(X_test)\n",
    "Y_pred_probs = classifier.predict_proba(X_test)\n",
    "Y_pred_probs = Y_pred_probs[:,1]\n",
    "\n",
    "results_df = pd.DataFrame(data={'client_id':test['client_id'], 'default':Y_pred_probs})\n",
    "results_df.to_csv('submission.csv', index=False)\n",
    "results_df"
   ]
  }
 ],
 "metadata": {
  "kernelspec": {
   "display_name": "Python 3",
   "language": "python",
   "name": "python3"
  },
  "language_info": {
   "codemirror_mode": {
    "name": "ipython",
    "version": 3
   },
   "file_extension": ".py",
   "mimetype": "text/x-python",
   "name": "python",
   "nbconvert_exporter": "python",
   "pygments_lexer": "ipython3",
   "version": "3.8.3"
  },
  "varInspector": {
   "cols": {
    "lenName": 16,
    "lenType": 16,
    "lenVar": 40
   },
   "kernels_config": {
    "python": {
     "delete_cmd_postfix": "",
     "delete_cmd_prefix": "del ",
     "library": "var_list.py",
     "varRefreshCmd": "print(var_dic_list())"
    },
    "r": {
     "delete_cmd_postfix": ") ",
     "delete_cmd_prefix": "rm(",
     "library": "var_list.r",
     "varRefreshCmd": "cat(var_dic_list()) "
    }
   },
   "types_to_exclude": [
    "module",
    "function",
    "builtin_function_or_method",
    "instance",
    "_Feature"
   ],
   "window_display": false
  }
 },
 "nbformat": 4,
 "nbformat_minor": 4
}
