{
 "cells": [
  {
   "cell_type": "code",
   "execution_count": 66,
   "metadata": {},
   "outputs": [
    {
     "name": "stdout",
     "output_type": "stream",
     "text": [
      "Ваш алгоритм угадывает число на отрезке длины 100 в среднем за 6 попыток\n",
      "Ваш алгоритм угадывает число на отрезке длины 1000 в среднем за 9 попыток\n",
      "Ваш алгоритм угадывает число на отрезке длины 10000 в среднем за 12 попыток\n",
      "Ваш алгоритм угадывает число на отрезке длины 100000 в среднем за 16 попыток\n"
     ]
    }
   ],
   "source": [
    "import numpy as np\n",
    "\n",
    "\n",
    "def game_dichotomy(num_min, num_max, number):\n",
    "    '''Метод дихотомии на основе ошибки.\n",
    "       Функция принимает загаданное число и возвращает число попыток'''\n",
    "    \n",
    "    count = 0\n",
    "    while True:\n",
    "        if (count == 0): \n",
    "            predict = np.random.randint(num_min, num_max+1) # предполагаемое число\n",
    "            lim_max = num_max+1\n",
    "            lim_min = num_min-1\n",
    "            error_prev = number-predict\n",
    "            predict_prev = predict\n",
    "            \n",
    "        count+=1\n",
    "        \n",
    "        error = number-predict\n",
    "        direction_change = float(error) * float(error_prev) < 0 # ошибка поменяла знак? float() - защита от переполнения\n",
    "        \n",
    "        #print(f\"predict {predict} -> error {error} | error_prev {error_prev} | lim_max {lim_max} | lim_min {lim_min} \")\n",
    "        \n",
    "        if (error == 0): \n",
    "            return(count) # выход из цикла, если угадали\n",
    "        elif (error > 0):\n",
    "            if (direction_change):\n",
    "                lim_max = predict_prev # меняем ориентир дихотомии\n",
    "            predict_prev = predict\n",
    "            predict += (lim_max - predict) // 2 # дихотомия вправо\n",
    "        else:\n",
    "            if (direction_change):\n",
    "                lim_min = predict_prev # меняем ориентир дихотомии\n",
    "            predict_prev = predict\n",
    "            predict -= (predict - lim_min) // 2 # дихотомия влево\n",
    "        \n",
    "        error_prev = error\n",
    "        \n",
    "def score_game(game_core, num_min, num_max, sample_size):\n",
    "    '''Запускаем игру sample_size раз, чтобы узнать, как быстро игра угадывает число'''\n",
    "    count_ls = []\n",
    "    np.random.seed(1)  \n",
    "    random_array = np.random.randint(num_min, num_max+1, size=(sample_size))\n",
    "    for number in random_array:\n",
    "        count_ls.append(game_dichotomy(num_min, num_max, number))\n",
    "    score = int(np.mean(count_ls))\n",
    "    print(f\"Ваш алгоритм угадывает число на отрезке длины {num_max-num_min+1} в среднем за {score} попыток\")\n",
    "    return(score)\n",
    "\n",
    "\n",
    "\n",
    "num_min = 1 # начало отрезка\n",
    "num_max = 100 # конец отрезка\n",
    "sample_size = 1000 # число испытаний эксперимента\n",
    "\n",
    "for n in range(0, 4):\n",
    "    score_game(game, num_min, num_max * 10**n, sample_size) # проверяем характер сложности алгоритма на разных отрезках в логарифмическом масштабе"
   ]
  },
  {
   "cell_type": "code",
   "execution_count": null,
   "metadata": {},
   "outputs": [],
   "source": []
  },
  {
   "cell_type": "code",
   "execution_count": null,
   "metadata": {},
   "outputs": [],
   "source": []
  }
 ],
 "metadata": {
  "kernelspec": {
   "display_name": "Python 3",
   "language": "python",
   "name": "python3"
  }
 },
 "nbformat": 4,
 "nbformat_minor": 4
}
