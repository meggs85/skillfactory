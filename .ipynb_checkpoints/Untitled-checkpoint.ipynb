{
 "cells": [
  {
   "cell_type": "code",
   "execution_count": 17,
   "metadata": {},
   "outputs": [
    {
     "data": {
      "text/plain": [
       "['Капустин', 'Козлов', 'Сидоров']"
      ]
     },
     "execution_count": 17,
     "metadata": {},
     "output_type": "execute_result"
    }
   ],
   "source": [
    "sparta = ['Иванов', 'Петров', 'Сидоров', 'Зайцев', 'Дятлов', \n",
    "          'Козлов', 'Лисичкин', 'Огурцов', 'Капустин', 'Арбузов']\n",
    "\n",
    "sparta[-2:1:-3]"
   ]
  },
  {
   "cell_type": "code",
   "execution_count": 21,
   "metadata": {},
   "outputs": [
    {
     "name": "stdout",
     "output_type": "stream",
     "text": [
      "[1, 4, 9, 16, 25, 36, 49, 64, 81, 100]\n"
     ]
    }
   ],
   "source": [
    "my_list = []\n",
    "for number in range(1,11):\n",
    "    my_list.append(number**2)\n",
    "print(my_list)"
   ]
  },
  {
   "cell_type": "code",
   "execution_count": 31,
   "metadata": {},
   "outputs": [
    {
     "name": "stdout",
     "output_type": "stream",
     "text": [
      "408\n"
     ]
    }
   ],
   "source": [
    "my_list = []\n",
    "result = 0\n",
    "for i in range(51):\n",
    "    if (i % 3 == 0):\n",
    "        my_list.append(i)\n",
    "        result += i;\n",
    "print(sum)"
   ]
  },
  {
   "cell_type": "code",
   "execution_count": 28,
   "metadata": {},
   "outputs": [
    {
     "name": "stdout",
     "output_type": "stream",
     "text": [
      "['а', 'а', 'а', 'б', 'б', 'п', 'п', 'я']\n"
     ]
    },
    {
     "data": {
      "text/plain": [
       "3"
      ]
     },
     "execution_count": 28,
     "metadata": {},
     "output_type": "execute_result"
    }
   ],
   "source": [
    "fruits = 'яблоко банан апельсин баклажан перец помидор арбуз ананас'.split()\n",
    "my_list = []\n",
    "for fruit in fruits:\n",
    "    my_list.append(fruit[0])\n",
    "my_list.sort()\n",
    "print(my_list)\n",
    "my_list.count(my_list[0]) "
   ]
  },
  {
   "cell_type": "code",
   "execution_count": 34,
   "metadata": {},
   "outputs": [
    {
     "name": "stdout",
     "output_type": "stream",
     "text": [
      "[10, 5, 7, 6, 7, 5, 7]\n",
      "15\n"
     ]
    }
   ],
   "source": [
    "raw_list = ['переменные', 'циклы', 'условия', 'списки', 'словари', 'файлы', 'функции']\n",
    "my_list = []\n",
    "for x in raw_list:\n",
    "    my_list.append(len(x))\n",
    "print(my_list)\n",
    "result = min(my_list) + max(my_list)\n",
    "print(result)"
   ]
  },
  {
   "cell_type": "code",
   "execution_count": 37,
   "metadata": {},
   "outputs": [],
   "source": [
    "#Дан список raw_list (содержимое списка приведено в начале кода). Найдите минимальное (x_min) и максимальное (x_max) значения элементов данного списка.\n",
    "\n",
    "#Создайте новый список my_list, состоящий из элементов списка raw_list, умноженных на x_min, если элемент является чётным числом, и на x_max, в случае если элемент нечётный.\n",
    "\n",
    "#Найдите максимальное значение списка my_list. Результат присвойте переменной result.\n",
    "raw_list = [2, 8, 10, 23, 64, 49, 11, 52, 71, 14]\n",
    "x_min = min(raw_list)\n",
    "x_max = max(raw_list)\n",
    "my_list = []\n",
    "for x in raw_list:\n",
    "    if (x % 2 == 0):\n",
    "        my_list.append(x*x_min)\n",
    "    else:\n",
    "        my_list.append(x*x_max)\n",
    "result = max(my_list)\n"
   ]
  },
  {
   "cell_type": "code",
   "execution_count": 43,
   "metadata": {},
   "outputs": [
    {
     "name": "stdout",
     "output_type": "stream",
     "text": [
      "['1 11', '1 12', '1 13', '1 14', '1 15', '1 16', '1 17', '1 18', '1 19', '2 11', '2 12', '2 13', '2 14', '2 15', '2 16', '2 17', '2 18', '2 19', '3 11', '3 12', '3 13', '3 14', '3 15', '3 16', '3 17', '3 18', '3 19', '4 11', '4 12', '4 13', '4 14', '4 15', '4 16', '4 17', '4 18', '4 19', '5 11', '5 12', '5 13', '5 14', '5 15', '5 16', '5 17', '5 18', '5 19', '6 11', '6 12', '6 13', '6 14', '6 15', '6 16', '6 17', '6 18', '6 19', '7 11', '7 12', '7 13', '7 14', '7 15', '7 16', '7 17', '7 18', '7 19', '8 11', '8 12', '8 13', '8 14', '8 15', '8 16', '8 17', '8 18', '8 19', '9 11', '9 12', '9 13', '9 14', '9 15', '9 16', '9 17', '9 18', '9 19']\n"
     ]
    }
   ],
   "source": [
    "powers = [str(x)+\" \"+str(y) for x in range(1, 10) for y in range(11,20)]\n",
    "print(powers)"
   ]
  },
  {
   "cell_type": "code",
   "execution_count": 54,
   "metadata": {},
   "outputs": [
    {
     "name": "stdout",
     "output_type": "stream",
     "text": [
      "9 _ 0\n",
      "9 _ 1\n",
      "9 _ 2\n",
      "9 _ 3\n",
      "9 _ 4\n",
      "9 _ 5\n",
      "9 _ 6\n",
      "9 _ 7\n",
      "9 _ 8\n",
      "9 _ 9\n",
      "[9, 10, 11, 12, 13, 14, 15, 16, 17, 18]\n"
     ]
    }
   ],
   "source": [
    "my_list = []\n",
    "for x in range(90, 100):\n",
    "    first_digit = x//10\n",
    "    last_digit = x%10\n",
    "    print(first_digit, '_', last_digit)\n",
    "    my_list.append(first_digit + last_digit)\n",
    "print(my_list)"
   ]
  },
  {
   "cell_type": "code",
   "execution_count": 61,
   "metadata": {},
   "outputs": [
    {
     "name": "stdout",
     "output_type": "stream",
     "text": [
      "{'Мария Никитина': '+79033923029', 'Егор Савичев': '+78125849204', 'Александр Пахомов': '+79053049385', 'Алина Егорова': '+79265748370', 'Руслан Башаров': '+79030598495'}\n",
      "+79265748370\n"
     ]
    }
   ],
   "source": [
    "my_list ={\n",
    "'Мария Никитина' : '+79033923029' ,\n",
    "'Егор Савичев' : '+78125849204', \n",
    "'Александр Пахомов' : '+79053049385',\n",
    "'Алина Егорова' : '+79265748370' ,\n",
    "'Руслан Башаров' : '+79030598495' \n",
    "}\n",
    "print(my_list)\n",
    "print(my_list['Алина Егорова'])"
   ]
  },
  {
   "cell_type": "code",
   "execution_count": 71,
   "metadata": {},
   "outputs": [
    {
     "name": "stdout",
     "output_type": "stream",
     "text": [
      "{'Россия': 'A', 'Египет': 'A'}\n"
     ]
    }
   ],
   "source": [
    "draw_dict = {\n",
    "'Россия': 'A',\n",
    "'Португалия': 'B',\n",
    "'Франция': 'C',\n",
    "'Дания': 'C',\n",
    "'Египет': 'A'\n",
    "}\n",
    "\n",
    "draw_new = {}\n",
    "for k,v in draw_dict.items():\n",
    "    if (v=='A'):\n",
    "        draw_new.setdefault(k,'A')\n",
    "\n",
    "print(draw_new)"
   ]
  },
  {
   "cell_type": "code",
   "execution_count": 72,
   "metadata": {},
   "outputs": [
    {
     "name": "stdout",
     "output_type": "stream",
     "text": [
      "13841\n"
     ]
    }
   ],
   "source": [
    "d = {'2019-04-01':2504, '2019-04-02':4994, '2019-04-03':6343}\n",
    "\n",
    "sum = 0\n",
    "for x in d.values():\n",
    "    sum += x\n",
    "print(sum)"
   ]
  },
  {
   "cell_type": "code",
   "execution_count": 13,
   "metadata": {},
   "outputs": [
    {
     "name": "stdout",
     "output_type": "stream",
     "text": [
      "Ботинки для горных лыж ATOMIC Hawx Prime 100\n",
      "Ботинки для сноуборда DC Tucknee\n",
      "[{'id': '100412', 'position': 'Ботинки для горных лыж ATOMIC Hawx Prime 100', 'count': 9}, {'id': '100803', 'position': 'Ботинки для сноуборда DC Tucknee', 'count': 20}]\n"
     ]
    }
   ],
   "source": [
    "csv_dict = [\n",
    "    {'id': '100412', 'position': 'Ботинки для горных лыж ATOMIC Hawx Prime 100', 'count': 9},\n",
    "    {'id': '100728', 'position': 'Скейтборд Jdbug RT03', 'count': 32},\n",
    "    {'id': '100732', 'position': 'Роллерсерф Razor RipStik Bright', 'count': 11},\n",
    "    {'id': '100803', 'position': 'Ботинки для сноуборда DC Tucknee', 'count': 20},\n",
    "    {'id': '100898', 'position': 'Шагомер Omron HJA-306', 'count': 2},\n",
    "    {'id': '100934', 'position': 'Пульсометр Beurer PM62', 'count': 17},\n",
    "]\n",
    "\n",
    "csv_dict_boots = []\n",
    "\n",
    "for record in csv_dict:\n",
    "    if record['position'].find('Ботинки') !=-1:\n",
    "        print(record['position'])\n",
    "        csv_dict_boots += [record]\n",
    "        \n",
    "print(csv_dict_boots)         "
   ]
  },
  {
   "cell_type": "code",
   "execution_count": 18,
   "metadata": {},
   "outputs": [
    {
     "name": "stdout",
     "output_type": "stream",
     "text": [
      "98\n",
      "98\n"
     ]
    }
   ],
   "source": [
    "results = [\n",
    "{'cost': 98, 'source': 'vk'},\n",
    "{'cost': 153, 'source': 'yandex'},\n",
    "{'cost': 110, 'source': 'facebook'},\n",
    "]\n",
    "\n",
    "print(min([x['cost'] for x in results]))\n",
    "print(res)"
   ]
  },
  {
   "cell_type": "code",
   "execution_count": 43,
   "metadata": {},
   "outputs": [
    {
     "name": "stdout",
     "output_type": "stream",
     "text": [
      "225\n"
     ]
    }
   ],
   "source": [
    "bodycount = {\n",
    "\t'Проклятие Черной жемчужины': {\n",
    "\t\t'человек': 17\n",
    "\t}, \n",
    "\n",
    "\t'Сундук мертвеца': {\n",
    "\t\t'человек': 56,\n",
    "\t\t'раков-отшельников': 1\n",
    "\t},\n",
    "\n",
    "\t'На краю света': {\n",
    "\t\t'человек': 88\n",
    "\t},\n",
    "\n",
    "\t'На странных берегах': {\n",
    "\t\t'человек': 56,\n",
    "\t\t'русалок': 2,\n",
    "\t\t'ядовитых жаб': 3,\n",
    "\t\t'пиратов зомби': 2\n",
    "\t}\n",
    "}\n",
    "\n",
    "\n",
    "s = 0\n",
    "for rec in bodycount.values():\n",
    "    for v in rec.values():\n",
    "        s += v\n",
    "print(s)"
   ]
  },
  {
   "cell_type": "code",
   "execution_count": 78,
   "metadata": {},
   "outputs": [
    {
     "name": "stdout",
     "output_type": "stream",
     "text": [
      "62526\n",
      "61944\n",
      "27115\n",
      "27115\n",
      "27115\n",
      "27115\n",
      "27115\n",
      "27115\n",
      "27115\n",
      "27115\n",
      "27115\n",
      "27115\n",
      "27115\n",
      "62017\n",
      "63120\n",
      "59883\n",
      "2913\n",
      "62940\n",
      "63149\n",
      "45391\n",
      "18923\n",
      "63019\n",
      "18923\n",
      "18923\n",
      "15759\n",
      "62007\n",
      "62941\n",
      "51009\n",
      "62236\n",
      "44682\n",
      "39709\n",
      "60459\n",
      "62144\n",
      "60459\n",
      "60459\n",
      "60459\n",
      "60459\n",
      "60459\n",
      "60459\n",
      "52492\n",
      "52492\n",
      "60459\n",
      "60459\n",
      "60459\n",
      "60459\n",
      "60459\n",
      "52492\n",
      "18923\n",
      "25301\n",
      "18923\n",
      "33645\n",
      "62089\n",
      "26705\n",
      "1103\n",
      "62439\n",
      "44196\n",
      "62602\n",
      "62602\n",
      "62602\n",
      "62602\n",
      "62602\n",
      "62602\n",
      "62602\n",
      "62602\n",
      "62602\n",
      "62602\n",
      "62602\n",
      "50149\n",
      "57009\n",
      "57207\n",
      "32792\n",
      "27323\n",
      "24500\n",
      "24500\n",
      "58330\n",
      "61245\n",
      "19799\n",
      "56544\n",
      "56544\n",
      "56544\n",
      "56544\n",
      "56544\n",
      "56544\n",
      "56544\n",
      "56544\n",
      "23207\n",
      "23207\n",
      "23207\n",
      "23207\n",
      "48128\n",
      "58113\n",
      "58113\n",
      "58113\n",
      "58113\n",
      "58113\n",
      "58113\n",
      "58113\n",
      "57613\n",
      "61244\n",
      "53666\n",
      "53018\n",
      "53666\n",
      "41737\n",
      "61078\n",
      "20820\n",
      "41737\n",
      "49700\n",
      "Counter({60459: 5, 62602: 2, 58113: 1})\n"
     ]
    }
   ],
   "source": [
    "import json\n",
    "import collections\n",
    "with open('data.json', 'rb') as infile:\n",
    "    data = json.load(infile)\n",
    "c = collections.Counter()\n",
    "for user in data['events_data']:    \n",
    "    client_id = user['client_id']\n",
    "    category = user['category']\n",
    "    print(client_id)\n",
    "    if (category=='report'):\n",
    "        c[client_id] += 1\n",
    "print(c)    \n",
    " "
   ]
  },
  {
   "cell_type": "code",
   "execution_count": 102,
   "metadata": {},
   "outputs": [
    {
     "name": "stdout",
     "output_type": "stream",
     "text": [
      "устройства,\n"
     ]
    }
   ],
   "source": [
    "proverb = 'Программисты - это устройства, преобразующие кофеин в код.'\n",
    "result = proverb.split()[3]\n",
    "print(result)"
   ]
  },
  {
   "cell_type": "code",
   "execution_count": 103,
   "metadata": {},
   "outputs": [],
   "source": [
    "proverb = 'Программисты - это устройства, преобразующие кофеин в код.'"
   ]
  },
  {
   "cell_type": "code",
   "execution_count": 130,
   "metadata": {},
   "outputs": [
    {
     "name": "stdout",
     "output_type": "stream",
     "text": [
      "Пормит  т срйта рорзюи оенвкд\n",
      "ргамсы-эоутосв,пебаущекфи  о.\n",
      "рПгоарммсиыт- э оту тсорсйвт,ап ербоарузщюеик фоие н вок.д\n"
     ]
    }
   ],
   "source": [
    "n = len(proverb)\n",
    "l1 = proverb[0:n:2]\n",
    "l2 = proverb[1:n:2]\n",
    "print(l1)    \n",
    "print(l2)\n",
    "new_proverb = \"\"\n",
    "n = max([len(l2), len(l1)])\n",
    "for i in range(n):\n",
    "    new_proverb += l2[i]\n",
    "    new_proverb += l1[i]\n",
    "    \n",
    "print(new_proverb)\n"
   ]
  },
  {
   "cell_type": "code",
   "execution_count": 145,
   "metadata": {},
   "outputs": [
    {
     "name": "stdout",
     "output_type": "stream",
     "text": [
      "Слово \"программирование\" - это не палиндром\n"
     ]
    }
   ],
   "source": [
    "basic_word = 'программирование'\n",
    "n = len(basic_word)\n",
    "inverted_word = basic_word[n:0:-1]+basic_word[0]\n",
    "if (basic_word==inverted_word):\n",
    "    print('Слово \\\"{}\\\" является палиндромом'.format(basic_word))\n",
    "else:\n",
    "    print('Слово \\\"{}\\\" - это не палиндром'.format(basic_word))\n"
   ]
  },
  {
   "cell_type": "code",
   "execution_count": 147,
   "metadata": {},
   "outputs": [
    {
     "name": "stdout",
     "output_type": "stream",
     "text": [
      "это\n"
     ]
    }
   ],
   "source": [
    "proverb = 'Хорошо написанная программа - это программа, написанная 2 раза'\n",
    "\n",
    "while True:\n",
    "    index = proverb.find('программа')\n",
    "    if index == -1:\n",
    "        break\n",
    "    secret = proverb[:index].split()[-1]\n",
    "    proverb = proverb[index+9:] \n",
    "print(secret)"
   ]
  },
  {
   "cell_type": "code",
   "execution_count": 148,
   "metadata": {},
   "outputs": [
    {
     "name": "stdout",
     "output_type": "stream",
     "text": [
      "asd.ru\n"
     ]
    }
   ],
   "source": [
    "email = \"qwe@asd.ru\"\n",
    "print(email.split('@')[1])\n"
   ]
  },
  {
   "cell_type": "code",
   "execution_count": 156,
   "metadata": {},
   "outputs": [
    {
     "name": "stdout",
     "output_type": "stream",
     "text": [
      "14\n"
     ]
    }
   ],
   "source": [
    "number = 56.257\n",
    "sum = 0\n",
    "for c in str(number).split('.')[1]:\n",
    "    sum += int(c)\n",
    " \n",
    "\n",
    "print(sum)"
   ]
  },
  {
   "cell_type": "code",
   "execution_count": 167,
   "metadata": {},
   "outputs": [
    {
     "name": "stdout",
     "output_type": "stream",
     "text": [
      "{'mail.ru': 3, 'yandex.ru': 5, 'gmail.com': 2}\n"
     ]
    }
   ],
   "source": [
    "import collections\n",
    "\n",
    "emails_list = ['vasya@mail.ru', \n",
    "          'akakiy@yandex.ru', \n",
    "          'spyderman@yandex.ru', \n",
    "          'XFiles@gmail.com', \n",
    "          'hello@mail.ru', \n",
    "          'noname@gmail.com', \n",
    "          'DonaldTrump@mail.ru', \n",
    "          'a768#af@yandex.ru', \n",
    "          'Ivan_Ivanovich@yandex.ru', \n",
    "          'thebestmail@yandex.ru']\n",
    "cnt = collections.Counter()\n",
    "emails_dict  = {}\n",
    "for email in emails_list:\n",
    "    domain = email.split('@')[1]\n",
    "    cnt[domain] += 1\n",
    "    emails_dict [domain] = cnt[domain]\n",
    "print(emails_dict)\n"
   ]
  },
  {
   "cell_type": "code",
   "execution_count": 168,
   "metadata": {},
   "outputs": [
    {
     "name": "stdout",
     "output_type": "stream",
     "text": [
      "лучшее\n"
     ]
    }
   ],
   "source": [
    "string = 'Интернет-открытки - это лучшее средство для мужчины сказать женщине о своих чувствах прямо в глаза.'\n",
    "secret = string[24:30]\n",
    "new_string = string.replace(secret.lower(), secret.upper()) \n",
    "print(secret)"
   ]
  },
  {
   "cell_type": "code",
   "execution_count": 169,
   "metadata": {},
   "outputs": [
    {
     "name": "stdout",
     "output_type": "stream",
     "text": [
      "Тяжёлая интернет:)зависимость :) это когда ты выходишь из интернета:) а он из тебя нет:)\n"
     ]
    }
   ],
   "source": [
    "string = 'Тяжёлая интернет-зависимость - это когда ты выходишь из интернета, а он из тебя нет.'\n",
    "ch = ['-', ',', '.']\n",
    "\n",
    "for c in ch:\n",
    "    string = string.replace(c, ':)')\n",
    "    \n",
    "print(string)"
   ]
  },
  {
   "cell_type": "code",
   "execution_count": 174,
   "metadata": {},
   "outputs": [
    {
     "name": "stdout",
     "output_type": "stream",
     "text": [
      "С - согласная буква\n",
      "е - гласная буква\n",
      "в - согласная буква\n",
      "а - гласная буква\n",
      "с - согласная буква\n",
      "т - согласная буква\n",
      "и - гласная буква\n",
      "а - гласная буква\n",
      "н - согласная буква\n"
     ]
    }
   ],
   "source": [
    "name = 'Севастиан'\n",
    "gl = ['а', 'и', 'о', 'у', 'ы', 'е', 'ё', 'ю', 'я', 'э']\n",
    "for l in name:\n",
    "    if (str(l).lower() in gl):\n",
    "        print('{} - гласная буква'.format(l))\n",
    "    else:\n",
    "        print('{} - согласная буква'.format(l))\n",
    "    "
   ]
  },
  {
   "cell_type": "code",
   "execution_count": 210,
   "metadata": {},
   "outputs": [
    {
     "name": "stdout",
     "output_type": "stream",
     "text": [
      "5.0\n"
     ]
    },
    {
     "data": {
      "text/plain": [
       "5.0"
      ]
     },
     "execution_count": 210,
     "metadata": {},
     "output_type": "execute_result"
    }
   ],
   "source": [
    " \n",
    "\n",
    "def get_median(list):\n",
    "    l = sorted(list)\n",
    "    idx = len(l)//2 - 1\n",
    "    if (len(l)%2==0): \n",
    "        r = (l[idx]+l[idx+1])/2\n",
    "    else:\n",
    "        r = l[idx+1]\n",
    "    print(r)\n",
    "    return r \n",
    "\n",
    "get_median([3, 3, 7, 9])"
   ]
  },
  {
   "cell_type": "code",
   "execution_count": 214,
   "metadata": {},
   "outputs": [
    {
     "name": "stdout",
     "output_type": "stream",
     "text": [
      "65.48741737670277\n"
     ]
    },
    {
     "data": {
      "text/plain": [
       "'€0.02'"
      ]
     },
     "execution_count": 214,
     "metadata": {},
     "output_type": "execute_result"
    }
   ],
   "source": [
    "from random import random # добавьте функцию get_euro_rate\n",
    "def get_euro_rate():    \n",
    "    return 65 + (85-65)*random()\n",
    "\n",
    "# используйте get_euro_rate в следующей функции\n",
    "def to_euro(price):  \n",
    "    exchange_rate = get_euro_rate()\n",
    "    print(exchange_rate)\n",
    "    rounded = round(price/exchange_rate, 2)  \n",
    "    return '€' + str(rounded)\n",
    "\n",
    "to_euro(1)"
   ]
  },
  {
   "cell_type": "code",
   "execution_count": 220,
   "metadata": {},
   "outputs": [
    {
     "name": "stdout",
     "output_type": "stream",
     "text": [
      "10\n"
     ]
    }
   ],
   "source": [
    "s = 0\n",
    "for x in [0,1,2,3,4]:\n",
    "    s+=x\n",
    "\n",
    "print(s)"
   ]
  },
  {
   "cell_type": "code",
   "execution_count": 233,
   "metadata": {},
   "outputs": [
    {
     "name": "stdout",
     "output_type": "stream",
     "text": [
      "9\n"
     ]
    }
   ],
   "source": [
    "import re \n",
    "text = 'Разработка языка Python была начата в конце 1980-х годов сотрудником голландского института CWI Гвидо ван Россумом. Для распределённой ОС Amoeba требовался расширяемый скриптовый язык, и Гвидо начал писать Python на досуге, позаимствовав некоторые наработки для языка ABC (Гвидо участвовал в разработке этого языка, ориентированного на обучение программированию). В феврале 1991 года Гвидо опубликовал исходный текст в группе новостей alt.sources. Название языка произошло вовсе не от вида пресмыкающихся. Автор назвал язык в честь популярного британского комедийного телешоу 1970-х \"Летающий цирк Монти Пайтона\".'\n",
    "pattern = re.compile('\\s[аиоуыэеёюя]\\S*\\s+[^аиоуыэеёюя0-9a-z]\\S*', re.I)\n",
    "res = pattern.findall(text)\n",
    "print(len(res))"
   ]
  },
  {
   "cell_type": "code",
   "execution_count": null,
   "metadata": {},
   "outputs": [],
   "source": []
  }
 ],
 "metadata": {
  "kernelspec": {
   "display_name": "Python 3",
   "language": "python",
   "name": "python3"
  },
  "language_info": {
   "codemirror_mode": {
    "name": "ipython",
    "version": 3
   },
   "file_extension": ".py",
   "mimetype": "text/x-python",
   "name": "python",
   "nbconvert_exporter": "python",
   "pygments_lexer": "ipython3",
   "version": "3.8.3"
  }
 },
 "nbformat": 4,
 "nbformat_minor": 4
}
