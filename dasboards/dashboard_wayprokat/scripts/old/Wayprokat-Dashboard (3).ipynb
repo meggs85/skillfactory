{
 "cells": [
  {
   "cell_type": "code",
   "execution_count": 1,
   "metadata": {
    "code_folding": [
     63,
     78,
     81,
     84,
     93,
     99,
     118,
     244,
     264,
     277,
     684,
     693,
     741,
     770,
     778,
     806,
     815,
     922,
     998,
     1007,
     1067,
     1077,
     1084,
     1130
    ],
    "scrolled": true
   },
   "outputs": [
    {
     "name": "stdout",
     "output_type": "stream",
     "text": [
      "последнее обновление БД: Fri Oct  8 10:41:19 2021\n",
      "отсутствует значение плана в файле для направления 01) экшн-камеры для месяца 10\n",
      "отсутствует значение плана в файле для направления 02) Стабилизаторы для месяца 10\n",
      "отсутствует значение плана в файле для направления 03) Игр.приставки Playstation для месяца 10\n",
      "отсутствует значение плана в файле для направления 04) Квадрокоптеры для месяца 10\n",
      "отсутствует значение плана в файле для направления 05) Коляски для месяца 10\n",
      "отсутствует значение плана в файле для направления 09) Телевизоры для месяца 10\n",
      "отсутствует значение плана в файле для направления 10) Проекторы для месяца 10\n",
      "отсутствует значение плана в файле для направления 11) планшеты для месяца 10\n",
      "отсутствует значение плана в файле для направления 12) Ноутбуки для месяца 10\n",
      "отсутствует значение плана в файле для направления 13) Apple ноутбуки для месяца 10\n",
      "отсутствует значение плана в файле для направления 14) Телефоны другие для месяца 10\n",
      "отсутствует значение плана в файле для направления 15) Камера 360 для месяца 10\n",
      "отсутствует значение плана в файле для направления 16) Очки ДР для месяца 10\n",
      "отсутствует значение плана в файле для направления 17) Очки ВР для месяца 10\n",
      "отсутствует значение плана в файле для направления 18) Электросамокаты для месяца 10\n",
      "отсутствует значение плана в файле для направления 19) Сигвеи для месяца 10\n",
      "отсутствует значение плана в файле для направления 20) Моноколеса для месяца 10\n",
      "отсутствует значение плана в файле для направления 21) Пылесосы для месяца 10\n",
      "отсутствует значение плана в файле для направления 22) Металлоискатели для месяца 10\n",
      "отсутствует значение плана в файле для направления 23) Продажа для месяца 10\n",
      "отсутствует значение плана в файле для направления 24) фотозоны для месяца 10\n",
      "отсутствует значение плана в файле для направления 25) светодиодные экраны для месяца 10\n",
      "отсутствует значение плана в файле для направления 26) активности и игры для месяца 10\n",
      "отсутствует значение плана в файле для направления 27) другое (роботы) для месяца 10\n",
      "отсутствует значение плана в файле для направления 28) Очки ВР event для месяца 10\n",
      "отсутствует значение плана в файле для направления 31) МУЛЬТИ для месяца 10\n",
      "отсутствует значение плана в файле для направления 32) Игровые Пк для месяца 10\n",
      "отсутствует значение плана в файле для направления 33) Игровые приставки Xbox для месяца 10\n",
      "отсутствует значение плана в файле для направления 34) телефоны apple для месяца 10\n",
      "отсутствует значение плана в файле для направления 35) Игровые приставки Nintendo для месяца 10\n",
      "выберите, что НЕ учитываем в анализе:\n"
     ]
    },
    {
     "data": {
      "application/vnd.jupyter.widget-view+json": {
       "model_id": "9a20cabed8db4093ae1d265401320ab8",
       "version_major": 2,
       "version_minor": 0
      },
      "text/plain": [
       "Checkbox(value=True, description='Дубль')"
      ]
     },
     "metadata": {},
     "output_type": "display_data"
    },
    {
     "data": {
      "application/vnd.jupyter.widget-view+json": {
       "model_id": "59ae1f2227264df48ca6be40599f14b0",
       "version_major": 2,
       "version_minor": 0
      },
      "text/plain": [
       "Checkbox(value=True, description='Повторная заявка с другого сайта')"
      ]
     },
     "metadata": {},
     "output_type": "display_data"
    },
    {
     "data": {
      "application/vnd.jupyter.widget-view+json": {
       "model_id": "cbc2775d1060435fac147319bf531737",
       "version_major": 2,
       "version_minor": 0
      },
      "text/plain": [
       "Checkbox(value=True, description='Мусор / Спам')"
      ]
     },
     "metadata": {},
     "output_type": "display_data"
    },
    {
     "data": {
      "application/vnd.jupyter.widget-view+json": {
       "model_id": "085feee1dbd346dea81bec901612bdcf",
       "version_major": 2,
       "version_minor": 0
      },
      "text/plain": [
       "Checkbox(value=False, description='Клиент пропал')"
      ]
     },
     "metadata": {},
     "output_type": "display_data"
    },
    {
     "data": {
      "application/vnd.jupyter.widget-view+json": {
       "model_id": "97a59d098fcc4975895615da502ad78c",
       "version_major": 2,
       "version_minor": 0
      },
      "text/plain": [
       "Checkbox(value=False, description='Передумал')"
      ]
     },
     "metadata": {},
     "output_type": "display_data"
    },
    {
     "data": {
      "application/vnd.jupyter.widget-view+json": {
       "model_id": "daa166305e3b4923abd24905e9a06918",
       "version_major": 2,
       "version_minor": 0
      },
      "text/plain": [
       "Checkbox(value=False, description='Дорого')"
      ]
     },
     "metadata": {},
     "output_type": "display_data"
    },
    {
     "data": {
      "application/vnd.jupyter.widget-view+json": {
       "model_id": "d70c2e76f0da49df887c39f1d7468101",
       "version_major": 2,
       "version_minor": 0
      },
      "text/plain": [
       "Checkbox(value=False, description='Не устроил залог')"
      ]
     },
     "metadata": {},
     "output_type": "display_data"
    },
    {
     "data": {
      "application/vnd.jupyter.widget-view+json": {
       "model_id": "90e85ff00a224c13a36dc6a609cbab60",
       "version_major": 2,
       "version_minor": 0
      },
      "text/plain": [
       "Checkbox(value=True, description='Отсутствует техника')"
      ]
     },
     "metadata": {},
     "output_type": "display_data"
    },
    {
     "data": {
      "application/vnd.jupyter.widget-view+json": {
       "model_id": "240a5c70726d4385a0694f03503505c0",
       "version_major": 2,
       "version_minor": 0
      },
      "text/plain": [
       "Checkbox(value=True, description='Закрыт офис')"
      ]
     },
     "metadata": {},
     "output_type": "display_data"
    },
    {
     "data": {
      "application/vnd.jupyter.widget-view+json": {
       "model_id": "8639b3ed44224452b358d1eddb6d90d9",
       "version_major": 2,
       "version_minor": 0
      },
      "text/plain": [
       "Checkbox(value=True, description='Нет курьера')"
      ]
     },
     "metadata": {},
     "output_type": "display_data"
    },
    {
     "name": "stdout",
     "output_type": "stream",
     "text": [
      "___________________________________________________________________________\n",
      "диапазон дат\n"
     ]
    },
    {
     "data": {
      "application/vnd.jupyter.widget-view+json": {
       "model_id": "8170d2998fab4f549ee6ab1197b856fc",
       "version_major": 2,
       "version_minor": 0
      },
      "text/plain": [
       "DatePicker(value=datetime.datetime(2021, 10, 12, 20, 2, 32, 279951), description='Дата1:')"
      ]
     },
     "metadata": {},
     "output_type": "display_data"
    },
    {
     "data": {
      "application/vnd.jupyter.widget-view+json": {
       "model_id": "5e91b1d99a64488fae8accf66d0b5dc4",
       "version_major": 2,
       "version_minor": 0
      },
      "text/plain": [
       "DatePicker(value=datetime.datetime(2021, 10, 12, 20, 2, 32, 279951), description='Дата2:')"
      ]
     },
     "metadata": {},
     "output_type": "display_data"
    },
    {
     "name": "stdout",
     "output_type": "stream",
     "text": [
      "___________________________________________________________________________\n",
      "планы менеджеров\n"
     ]
    },
    {
     "data": {
      "application/vnd.jupyter.widget-view+json": {
       "model_id": "b7dd05acecfb4aa7ae32f84afc0d895f",
       "version_major": 2,
       "version_minor": 0
      },
      "text/plain": [
       "Dropdown(description='План на:', options=(('okt', 10),), value=10)"
      ]
     },
     "metadata": {},
     "output_type": "display_data"
    },
    {
     "data": {
      "application/vnd.jupyter.widget-view+json": {
       "model_id": "34dd3472fb9e4175a693ee4c65fb8a9a",
       "version_major": 2,
       "version_minor": 0
      },
      "text/plain": [
       "BoundedIntText(value=338400, description='Кузнецова Дарья(прокат)', max=1200000, step=10000)"
      ]
     },
     "metadata": {},
     "output_type": "display_data"
    },
    {
     "data": {
      "application/vnd.jupyter.widget-view+json": {
       "model_id": "2beae9de3e60492a8ebdc446aa744b28",
       "version_major": 2,
       "version_minor": 0
      },
      "text/plain": [
       "BoundedIntText(value=175000, description='Кузнецова Дарья(эвент)', max=1200000, step=10000)"
      ]
     },
     "metadata": {},
     "output_type": "display_data"
    },
    {
     "data": {
      "application/vnd.jupyter.widget-view+json": {
       "model_id": "06a9f24e1ee147f09c640cae2ae86637",
       "version_major": 2,
       "version_minor": 0
      },
      "text/plain": [
       "BoundedIntText(value=338400, description='Шутова Виктория(прокат)', max=1200000, step=10000)"
      ]
     },
     "metadata": {},
     "output_type": "display_data"
    },
    {
     "data": {
      "application/vnd.jupyter.widget-view+json": {
       "model_id": "180bda90a1b541c8b574eba0f7c8eeca",
       "version_major": 2,
       "version_minor": 0
      },
      "text/plain": [
       "BoundedIntText(value=122500, description='Шутова Виктория(эвент)', max=1200000, step=10000)"
      ]
     },
     "metadata": {},
     "output_type": "display_data"
    },
    {
     "data": {
      "application/vnd.jupyter.widget-view+json": {
       "model_id": "33d531bd737341c8be2ed814304bea47",
       "version_major": 2,
       "version_minor": 0
      },
      "text/plain": [
       "BoundedIntText(value=267900, description='Симак Наталья(прокат)', max=1200000, step=10000)"
      ]
     },
     "metadata": {},
     "output_type": "display_data"
    },
    {
     "data": {
      "application/vnd.jupyter.widget-view+json": {
       "model_id": "c343bd43bb444a81b58cc37adda59c40",
       "version_major": 2,
       "version_minor": 0
      },
      "text/plain": [
       "BoundedIntText(value=52500, description='Симак Наталья(эвент)', max=1200000, step=10000)"
      ]
     },
     "metadata": {},
     "output_type": "display_data"
    },
    {
     "data": {
      "application/vnd.jupyter.widget-view+json": {
       "model_id": "02fee3c2aed746639eb60519c075ffaa",
       "version_major": 2,
       "version_minor": 0
      },
      "text/plain": [
       "BoundedIntText(value=0, description='Чепрасова Ольга(прокат)', max=1200000, step=10000)"
      ]
     },
     "metadata": {},
     "output_type": "display_data"
    },
    {
     "data": {
      "application/vnd.jupyter.widget-view+json": {
       "model_id": "f8cb33b246044b93805575cebf71e5ec",
       "version_major": 2,
       "version_minor": 0
      },
      "text/plain": [
       "BoundedIntText(value=0, description='Чепрасова Ольга(эвент)', max=1200000, step=10000)"
      ]
     },
     "metadata": {},
     "output_type": "display_data"
    },
    {
     "data": {
      "application/vnd.jupyter.widget-view+json": {
       "model_id": "4389be9b25c8466c9ee235f6e6781f37",
       "version_major": 2,
       "version_minor": 0
      },
      "text/plain": [
       "BoundedIntText(value=197400, description='Алина(прокат)', max=1200000, step=10000)"
      ]
     },
     "metadata": {},
     "output_type": "display_data"
    },
    {
     "data": {
      "application/vnd.jupyter.widget-view+json": {
       "model_id": "b639d4e11d0648cab1e6f6eadd5d38f2",
       "version_major": 2,
       "version_minor": 0
      },
      "text/plain": [
       "BoundedIntText(value=0, description='Алина(эвент)', max=1200000, step=10000)"
      ]
     },
     "metadata": {},
     "output_type": "display_data"
    },
    {
     "data": {
      "application/vnd.jupyter.widget-view+json": {
       "model_id": "0e645385bdb14ab2aedb0a7c0e23ca19",
       "version_major": 2,
       "version_minor": 0
      },
      "text/plain": [
       "BoundedIntText(value=267900, description='3 Стажер(прокат)', max=1200000, step=10000)"
      ]
     },
     "metadata": {},
     "output_type": "display_data"
    },
    {
     "data": {
      "application/vnd.jupyter.widget-view+json": {
       "model_id": "d50e4eb43f7f4249948f3f62714a38ab",
       "version_major": 2,
       "version_minor": 0
      },
      "text/plain": [
       "BoundedIntText(value=0, description='3 Стажер(эвент)', max=1200000, step=10000)"
      ]
     },
     "metadata": {},
     "output_type": "display_data"
    },
    {
     "data": {
      "application/vnd.jupyter.widget-view+json": {
       "model_id": "4d9e81ffa6b34034b855562b80f15e68",
       "version_major": 2,
       "version_minor": 0
      },
      "text/plain": [
       "Button(button_style='success', description='Загрузить', style=ButtonStyle())"
      ]
     },
     "metadata": {},
     "output_type": "display_data"
    },
    {
     "name": "stdout",
     "output_type": "stream",
     "text": [
      "отсутствует значение плана в файле для менеджера Кузнецова Дарья для месяца 6 (прокат)\n",
      "отсутствует значение плана в файле для менеджера Кузнецова Дарья для месяца 6 (event)\n",
      "отсутствует значение плана в файле для менеджера Шутова Виктория для месяца 6 (прокат)\n",
      "отсутствует значение плана в файле для менеджера Шутова Виктория для месяца 6 (event)\n",
      "отсутствует значение плана в файле для менеджера Симак Наталья для месяца 6 (прокат)\n",
      "отсутствует значение плана в файле для менеджера Симак Наталья для месяца 6 (event)\n",
      "отсутствует значение плана в файле для менеджера Чепрасова Ольга для месяца 6 (прокат)\n",
      "отсутствует значение плана в файле для менеджера Чепрасова Ольга для месяца 6 (event)\n",
      "отсутствует значение плана в файле для менеджера Алина для месяца 6 (прокат)\n",
      "отсутствует значение плана в файле для менеджера Алина для месяца 6 (event)\n",
      "отсутствует значение плана в файле для менеджера 3 Стажер для месяца 6 (прокат)\n",
      "отсутствует значение плана в файле для менеджера 3 Стажер для месяца 6 (event)\n",
      "\n",
      "отчет за 2021-06-01 - 2021-10-11 (оценка эффективности менеджеров по мес.6)\n",
      "\n",
      "\n",
      "\n",
      "флаг не учитывать CV отфильтровал 780 сделлок\n",
      "нет незакрытых броней за мес.  jun\n",
      "\n",
      "\n",
      "\n",
      "------------------ОТЧЕТ \"ТОВАР (прокат + event)\"-----------------\n"
     ]
    },
    {
     "data": {
      "text/html": [
       "<div>\n",
       "<style scoped>\n",
       "    .dataframe tbody tr th:only-of-type {\n",
       "        vertical-align: middle;\n",
       "    }\n",
       "\n",
       "    .dataframe tbody tr th {\n",
       "        vertical-align: top;\n",
       "    }\n",
       "\n",
       "    .dataframe thead th {\n",
       "        text-align: right;\n",
       "    }\n",
       "</style>\n",
       "<table border=\"1\" class=\"dataframe\">\n",
       "  <thead>\n",
       "    <tr style=\"text-align: right;\">\n",
       "      <th></th>\n",
       "      <th>новых</th>\n",
       "      <th>новых (%)</th>\n",
       "      <th>броней</th>\n",
       "      <th>успешных</th>\n",
       "      <th>K_повт</th>\n",
       "      <th>потенц. сделок(откр.брони)</th>\n",
       "      <th>потенц. оборот(откр.брони)</th>\n",
       "      <th>потенц. оборот(откр.брони на jun)</th>\n",
       "      <th>Ср.чек</th>\n",
       "      <th>фактич. оборот</th>\n",
       "      <th>средн. цикл аренды</th>\n",
       "      <th>медиан. цикл аренды</th>\n",
       "      <th>прогн.оборот</th>\n",
       "      <th>CV_бронь</th>\n",
       "      <th>новых 3 мес</th>\n",
       "      <th>фактич. оборот 3 мес</th>\n",
       "      <th>план</th>\n",
       "      <th>план по лидам</th>\n",
       "      <th>% выполн. плана по лидам</th>\n",
       "    </tr>\n",
       "  </thead>\n",
       "  <tbody>\n",
       "    <tr>\n",
       "      <th>19) Сигвеи</th>\n",
       "      <td>36.0</td>\n",
       "      <td>0.8</td>\n",
       "      <td>24.0</td>\n",
       "      <td>23.0</td>\n",
       "      <td>17.0</td>\n",
       "      <td>0.0</td>\n",
       "      <td>0.0</td>\n",
       "      <td>0.0</td>\n",
       "      <td>4524.0</td>\n",
       "      <td>104050.0</td>\n",
       "      <td>1.0</td>\n",
       "      <td>1.0</td>\n",
       "      <td>104050.0</td>\n",
       "      <td>67.0</td>\n",
       "      <td>30.0</td>\n",
       "      <td>95950.0</td>\n",
       "      <td>0.0</td>\n",
       "      <td>0</td>\n",
       "      <td>0.0</td>\n",
       "    </tr>\n",
       "    <tr>\n",
       "      <th>15) Камера 360</th>\n",
       "      <td>30.0</td>\n",
       "      <td>0.7</td>\n",
       "      <td>20.0</td>\n",
       "      <td>17.0</td>\n",
       "      <td>11.0</td>\n",
       "      <td>0.0</td>\n",
       "      <td>0.0</td>\n",
       "      <td>0.0</td>\n",
       "      <td>4582.0</td>\n",
       "      <td>77901.0</td>\n",
       "      <td>3.0</td>\n",
       "      <td>1.0</td>\n",
       "      <td>77901.0</td>\n",
       "      <td>67.0</td>\n",
       "      <td>22.0</td>\n",
       "      <td>59801.0</td>\n",
       "      <td>0.0</td>\n",
       "      <td>0</td>\n",
       "      <td>0.0</td>\n",
       "    </tr>\n",
       "    <tr>\n",
       "      <th>28) Очки ВР event</th>\n",
       "      <td>11.0</td>\n",
       "      <td>0.2</td>\n",
       "      <td>7.0</td>\n",
       "      <td>8.0</td>\n",
       "      <td>37.0</td>\n",
       "      <td>0.0</td>\n",
       "      <td>0.0</td>\n",
       "      <td>0.0</td>\n",
       "      <td>29350.0</td>\n",
       "      <td>234800.0</td>\n",
       "      <td>0.0</td>\n",
       "      <td>0.0</td>\n",
       "      <td>234800.0</td>\n",
       "      <td>64.0</td>\n",
       "      <td>6.0</td>\n",
       "      <td>126500.0</td>\n",
       "      <td>0.0</td>\n",
       "      <td>0</td>\n",
       "      <td>0.0</td>\n",
       "    </tr>\n",
       "    <tr>\n",
       "      <th>02) Стабилизаторы</th>\n",
       "      <td>76.0</td>\n",
       "      <td>1.7</td>\n",
       "      <td>46.0</td>\n",
       "      <td>36.0</td>\n",
       "      <td>8.0</td>\n",
       "      <td>1.0</td>\n",
       "      <td>1700.0</td>\n",
       "      <td>0.0</td>\n",
       "      <td>1857.0</td>\n",
       "      <td>66850.0</td>\n",
       "      <td>2.0</td>\n",
       "      <td>1.0</td>\n",
       "      <td>66850.0</td>\n",
       "      <td>61.0</td>\n",
       "      <td>50.0</td>\n",
       "      <td>53550.0</td>\n",
       "      <td>0.0</td>\n",
       "      <td>0</td>\n",
       "      <td>0.0</td>\n",
       "    </tr>\n",
       "    <tr>\n",
       "      <th>20) Моноколеса</th>\n",
       "      <td>15.0</td>\n",
       "      <td>0.3</td>\n",
       "      <td>9.0</td>\n",
       "      <td>8.0</td>\n",
       "      <td>0.0</td>\n",
       "      <td>0.0</td>\n",
       "      <td>0.0</td>\n",
       "      <td>0.0</td>\n",
       "      <td>1650.0</td>\n",
       "      <td>13200.0</td>\n",
       "      <td>0.0</td>\n",
       "      <td>1.0</td>\n",
       "      <td>13200.0</td>\n",
       "      <td>60.0</td>\n",
       "      <td>10.0</td>\n",
       "      <td>10200.0</td>\n",
       "      <td>0.0</td>\n",
       "      <td>0</td>\n",
       "      <td>0.0</td>\n",
       "    </tr>\n",
       "    <tr>\n",
       "      <th>11) планшеты</th>\n",
       "      <td>107.0</td>\n",
       "      <td>2.4</td>\n",
       "      <td>62.0</td>\n",
       "      <td>57.0</td>\n",
       "      <td>15.0</td>\n",
       "      <td>0.0</td>\n",
       "      <td>0.0</td>\n",
       "      <td>0.0</td>\n",
       "      <td>10969.0</td>\n",
       "      <td>625250.0</td>\n",
       "      <td>2.0</td>\n",
       "      <td>1.0</td>\n",
       "      <td>625250.0</td>\n",
       "      <td>58.0</td>\n",
       "      <td>78.0</td>\n",
       "      <td>529250.0</td>\n",
       "      <td>0.0</td>\n",
       "      <td>0</td>\n",
       "      <td>0.0</td>\n",
       "    </tr>\n",
       "    <tr>\n",
       "      <th>01) экшн-камеры</th>\n",
       "      <td>359.0</td>\n",
       "      <td>8.0</td>\n",
       "      <td>207.0</td>\n",
       "      <td>181.0</td>\n",
       "      <td>13.0</td>\n",
       "      <td>4.0</td>\n",
       "      <td>13500.0</td>\n",
       "      <td>0.0</td>\n",
       "      <td>3837.0</td>\n",
       "      <td>694420.0</td>\n",
       "      <td>9.0</td>\n",
       "      <td>9.0</td>\n",
       "      <td>694420.0</td>\n",
       "      <td>58.0</td>\n",
       "      <td>246.0</td>\n",
       "      <td>476170.0</td>\n",
       "      <td>0.0</td>\n",
       "      <td>0</td>\n",
       "      <td>0.0</td>\n",
       "    </tr>\n",
       "    <tr>\n",
       "      <th>22) Металлоискатели</th>\n",
       "      <td>202.0</td>\n",
       "      <td>4.5</td>\n",
       "      <td>101.0</td>\n",
       "      <td>74.0</td>\n",
       "      <td>0.0</td>\n",
       "      <td>2.0</td>\n",
       "      <td>3850.0</td>\n",
       "      <td>0.0</td>\n",
       "      <td>1836.0</td>\n",
       "      <td>135850.0</td>\n",
       "      <td>2.0</td>\n",
       "      <td>2.0</td>\n",
       "      <td>135850.0</td>\n",
       "      <td>50.0</td>\n",
       "      <td>139.0</td>\n",
       "      <td>100150.0</td>\n",
       "      <td>0.0</td>\n",
       "      <td>0</td>\n",
       "      <td>0.0</td>\n",
       "    </tr>\n",
       "    <tr>\n",
       "      <th>12) Ноутбуки</th>\n",
       "      <td>547.0</td>\n",
       "      <td>12.2</td>\n",
       "      <td>251.0</td>\n",
       "      <td>229.0</td>\n",
       "      <td>17.0</td>\n",
       "      <td>6.0</td>\n",
       "      <td>67400.0</td>\n",
       "      <td>0.0</td>\n",
       "      <td>7401.0</td>\n",
       "      <td>1694729.0</td>\n",
       "      <td>11.0</td>\n",
       "      <td>4.0</td>\n",
       "      <td>1694729.0</td>\n",
       "      <td>46.0</td>\n",
       "      <td>397.0</td>\n",
       "      <td>1238861.0</td>\n",
       "      <td>0.0</td>\n",
       "      <td>0</td>\n",
       "      <td>0.0</td>\n",
       "    </tr>\n",
       "    <tr>\n",
       "      <th>04) Квадрокоптеры</th>\n",
       "      <td>195.0</td>\n",
       "      <td>4.4</td>\n",
       "      <td>82.0</td>\n",
       "      <td>57.0</td>\n",
       "      <td>5.0</td>\n",
       "      <td>6.0</td>\n",
       "      <td>24200.0</td>\n",
       "      <td>0.0</td>\n",
       "      <td>8090.0</td>\n",
       "      <td>461128.0</td>\n",
       "      <td>6.0</td>\n",
       "      <td>4.0</td>\n",
       "      <td>461128.0</td>\n",
       "      <td>42.0</td>\n",
       "      <td>131.0</td>\n",
       "      <td>324198.0</td>\n",
       "      <td>0.0</td>\n",
       "      <td>0</td>\n",
       "      <td>0.0</td>\n",
       "    </tr>\n",
       "    <tr>\n",
       "      <th>17) Очки ВР</th>\n",
       "      <td>126.0</td>\n",
       "      <td>2.8</td>\n",
       "      <td>52.0</td>\n",
       "      <td>51.0</td>\n",
       "      <td>13.0</td>\n",
       "      <td>0.0</td>\n",
       "      <td>0.0</td>\n",
       "      <td>0.0</td>\n",
       "      <td>5132.0</td>\n",
       "      <td>261750.0</td>\n",
       "      <td>3.0</td>\n",
       "      <td>2.0</td>\n",
       "      <td>261750.0</td>\n",
       "      <td>41.0</td>\n",
       "      <td>101.0</td>\n",
       "      <td>217350.0</td>\n",
       "      <td>0.0</td>\n",
       "      <td>0</td>\n",
       "      <td>0.0</td>\n",
       "    </tr>\n",
       "    <tr>\n",
       "      <th>33) Игровые приставки Xbox</th>\n",
       "      <td>49.0</td>\n",
       "      <td>1.1</td>\n",
       "      <td>20.0</td>\n",
       "      <td>16.0</td>\n",
       "      <td>25.0</td>\n",
       "      <td>1.0</td>\n",
       "      <td>2200.0</td>\n",
       "      <td>0.0</td>\n",
       "      <td>3522.0</td>\n",
       "      <td>56350.0</td>\n",
       "      <td>3.0</td>\n",
       "      <td>2.0</td>\n",
       "      <td>56350.0</td>\n",
       "      <td>41.0</td>\n",
       "      <td>34.0</td>\n",
       "      <td>34750.0</td>\n",
       "      <td>0.0</td>\n",
       "      <td>0</td>\n",
       "      <td>0.0</td>\n",
       "    </tr>\n",
       "    <tr>\n",
       "      <th>13) Apple ноутбуки</th>\n",
       "      <td>168.0</td>\n",
       "      <td>3.8</td>\n",
       "      <td>66.0</td>\n",
       "      <td>57.0</td>\n",
       "      <td>33.0</td>\n",
       "      <td>4.0</td>\n",
       "      <td>20900.0</td>\n",
       "      <td>0.0</td>\n",
       "      <td>6338.0</td>\n",
       "      <td>361250.0</td>\n",
       "      <td>15.0</td>\n",
       "      <td>9.0</td>\n",
       "      <td>361250.0</td>\n",
       "      <td>39.0</td>\n",
       "      <td>126.0</td>\n",
       "      <td>260650.0</td>\n",
       "      <td>0.0</td>\n",
       "      <td>0</td>\n",
       "      <td>0.0</td>\n",
       "    </tr>\n",
       "    <tr>\n",
       "      <th>10) Проекторы</th>\n",
       "      <td>184.0</td>\n",
       "      <td>4.1</td>\n",
       "      <td>69.0</td>\n",
       "      <td>55.0</td>\n",
       "      <td>3.0</td>\n",
       "      <td>1.0</td>\n",
       "      <td>2300.0</td>\n",
       "      <td>0.0</td>\n",
       "      <td>2358.0</td>\n",
       "      <td>129700.0</td>\n",
       "      <td>2.0</td>\n",
       "      <td>1.0</td>\n",
       "      <td>129700.0</td>\n",
       "      <td>38.0</td>\n",
       "      <td>137.0</td>\n",
       "      <td>96300.0</td>\n",
       "      <td>0.0</td>\n",
       "      <td>0</td>\n",
       "      <td>0.0</td>\n",
       "    </tr>\n",
       "    <tr>\n",
       "      <th>09) Телевизоры</th>\n",
       "      <td>108.0</td>\n",
       "      <td>2.4</td>\n",
       "      <td>40.0</td>\n",
       "      <td>30.0</td>\n",
       "      <td>6.0</td>\n",
       "      <td>4.0</td>\n",
       "      <td>19300.0</td>\n",
       "      <td>0.0</td>\n",
       "      <td>9937.0</td>\n",
       "      <td>298100.0</td>\n",
       "      <td>3.0</td>\n",
       "      <td>1.0</td>\n",
       "      <td>298100.0</td>\n",
       "      <td>37.0</td>\n",
       "      <td>78.0</td>\n",
       "      <td>199100.0</td>\n",
       "      <td>0.0</td>\n",
       "      <td>0</td>\n",
       "      <td>0.0</td>\n",
       "    </tr>\n",
       "    <tr>\n",
       "      <th>03) Игр.приставки Playstation</th>\n",
       "      <td>1127.0</td>\n",
       "      <td>25.2</td>\n",
       "      <td>406.0</td>\n",
       "      <td>371.0</td>\n",
       "      <td>13.0</td>\n",
       "      <td>2.0</td>\n",
       "      <td>4600.0</td>\n",
       "      <td>0.0</td>\n",
       "      <td>3135.0</td>\n",
       "      <td>1163090.0</td>\n",
       "      <td>5.0</td>\n",
       "      <td>3.0</td>\n",
       "      <td>1163090.0</td>\n",
       "      <td>36.0</td>\n",
       "      <td>751.0</td>\n",
       "      <td>759250.0</td>\n",
       "      <td>0.0</td>\n",
       "      <td>0</td>\n",
       "      <td>0.0</td>\n",
       "    </tr>\n",
       "    <tr>\n",
       "      <th>05) Коляски</th>\n",
       "      <td>243.0</td>\n",
       "      <td>5.4</td>\n",
       "      <td>85.0</td>\n",
       "      <td>85.0</td>\n",
       "      <td>2.0</td>\n",
       "      <td>4.0</td>\n",
       "      <td>11600.0</td>\n",
       "      <td>0.0</td>\n",
       "      <td>2834.0</td>\n",
       "      <td>240860.0</td>\n",
       "      <td>10.0</td>\n",
       "      <td>12.0</td>\n",
       "      <td>240860.0</td>\n",
       "      <td>35.0</td>\n",
       "      <td>189.0</td>\n",
       "      <td>191660.0</td>\n",
       "      <td>0.0</td>\n",
       "      <td>0</td>\n",
       "      <td>0.0</td>\n",
       "    </tr>\n",
       "    <tr>\n",
       "      <th>16) Очки ДР</th>\n",
       "      <td>9.0</td>\n",
       "      <td>0.2</td>\n",
       "      <td>3.0</td>\n",
       "      <td>4.0</td>\n",
       "      <td>0.0</td>\n",
       "      <td>0.0</td>\n",
       "      <td>0.0</td>\n",
       "      <td>0.0</td>\n",
       "      <td>16500.0</td>\n",
       "      <td>66000.0</td>\n",
       "      <td>1.0</td>\n",
       "      <td>1.0</td>\n",
       "      <td>66000.0</td>\n",
       "      <td>33.0</td>\n",
       "      <td>8.0</td>\n",
       "      <td>33000.0</td>\n",
       "      <td>0.0</td>\n",
       "      <td>0</td>\n",
       "      <td>0.0</td>\n",
       "    </tr>\n",
       "    <tr>\n",
       "      <th>35) Игровые приставки Nintendo</th>\n",
       "      <td>12.0</td>\n",
       "      <td>0.3</td>\n",
       "      <td>4.0</td>\n",
       "      <td>4.0</td>\n",
       "      <td>0.0</td>\n",
       "      <td>0.0</td>\n",
       "      <td>0.0</td>\n",
       "      <td>0.0</td>\n",
       "      <td>2800.0</td>\n",
       "      <td>11200.0</td>\n",
       "      <td>7.0</td>\n",
       "      <td>5.0</td>\n",
       "      <td>11200.0</td>\n",
       "      <td>33.0</td>\n",
       "      <td>12.0</td>\n",
       "      <td>11200.0</td>\n",
       "      <td>0.0</td>\n",
       "      <td>0</td>\n",
       "      <td>0.0</td>\n",
       "    </tr>\n",
       "    <tr>\n",
       "      <th>32) Игровые Пк</th>\n",
       "      <td>78.0</td>\n",
       "      <td>1.7</td>\n",
       "      <td>25.0</td>\n",
       "      <td>28.0</td>\n",
       "      <td>35.0</td>\n",
       "      <td>0.0</td>\n",
       "      <td>0.0</td>\n",
       "      <td>0.0</td>\n",
       "      <td>9743.0</td>\n",
       "      <td>272801.0</td>\n",
       "      <td>15.0</td>\n",
       "      <td>11.0</td>\n",
       "      <td>272801.0</td>\n",
       "      <td>32.0</td>\n",
       "      <td>63.0</td>\n",
       "      <td>224491.0</td>\n",
       "      <td>0.0</td>\n",
       "      <td>0</td>\n",
       "      <td>0.0</td>\n",
       "    </tr>\n",
       "    <tr>\n",
       "      <th>24) фотозоны</th>\n",
       "      <td>92.0</td>\n",
       "      <td>2.1</td>\n",
       "      <td>27.0</td>\n",
       "      <td>19.0</td>\n",
       "      <td>5.0</td>\n",
       "      <td>4.0</td>\n",
       "      <td>371000.0</td>\n",
       "      <td>0.0</td>\n",
       "      <td>55687.0</td>\n",
       "      <td>1058050.0</td>\n",
       "      <td>1.0</td>\n",
       "      <td>0.0</td>\n",
       "      <td>1058050.0</td>\n",
       "      <td>29.0</td>\n",
       "      <td>68.0</td>\n",
       "      <td>852000.0</td>\n",
       "      <td>0.0</td>\n",
       "      <td>0</td>\n",
       "      <td>0.0</td>\n",
       "    </tr>\n",
       "    <tr>\n",
       "      <th>18) Электросамокаты</th>\n",
       "      <td>300.0</td>\n",
       "      <td>6.7</td>\n",
       "      <td>78.0</td>\n",
       "      <td>58.0</td>\n",
       "      <td>3.0</td>\n",
       "      <td>0.0</td>\n",
       "      <td>0.0</td>\n",
       "      <td>0.0</td>\n",
       "      <td>5319.0</td>\n",
       "      <td>308480.0</td>\n",
       "      <td>5.0</td>\n",
       "      <td>1.0</td>\n",
       "      <td>308480.0</td>\n",
       "      <td>26.0</td>\n",
       "      <td>171.0</td>\n",
       "      <td>185400.0</td>\n",
       "      <td>0.0</td>\n",
       "      <td>0</td>\n",
       "      <td>0.0</td>\n",
       "    </tr>\n",
       "    <tr>\n",
       "      <th>34) телефоны apple</th>\n",
       "      <td>87.0</td>\n",
       "      <td>1.9</td>\n",
       "      <td>23.0</td>\n",
       "      <td>23.0</td>\n",
       "      <td>8.0</td>\n",
       "      <td>0.0</td>\n",
       "      <td>0.0</td>\n",
       "      <td>0.0</td>\n",
       "      <td>6922.0</td>\n",
       "      <td>159200.0</td>\n",
       "      <td>11.0</td>\n",
       "      <td>3.0</td>\n",
       "      <td>159200.0</td>\n",
       "      <td>26.0</td>\n",
       "      <td>82.0</td>\n",
       "      <td>136700.0</td>\n",
       "      <td>0.0</td>\n",
       "      <td>0</td>\n",
       "      <td>0.0</td>\n",
       "    </tr>\n",
       "    <tr>\n",
       "      <th>25) светодиодные экраны</th>\n",
       "      <td>9.0</td>\n",
       "      <td>0.2</td>\n",
       "      <td>2.0</td>\n",
       "      <td>1.0</td>\n",
       "      <td>100.0</td>\n",
       "      <td>0.0</td>\n",
       "      <td>0.0</td>\n",
       "      <td>0.0</td>\n",
       "      <td>18000.0</td>\n",
       "      <td>18000.0</td>\n",
       "      <td>0.0</td>\n",
       "      <td>0.0</td>\n",
       "      <td>18000.0</td>\n",
       "      <td>22.0</td>\n",
       "      <td>6.0</td>\n",
       "      <td>18000.0</td>\n",
       "      <td>0.0</td>\n",
       "      <td>0</td>\n",
       "      <td>0.0</td>\n",
       "    </tr>\n",
       "    <tr>\n",
       "      <th>26) активности и игры</th>\n",
       "      <td>50.0</td>\n",
       "      <td>1.1</td>\n",
       "      <td>10.0</td>\n",
       "      <td>9.0</td>\n",
       "      <td>0.0</td>\n",
       "      <td>3.0</td>\n",
       "      <td>38000.0</td>\n",
       "      <td>0.0</td>\n",
       "      <td>29944.0</td>\n",
       "      <td>269500.0</td>\n",
       "      <td>0.0</td>\n",
       "      <td>0.0</td>\n",
       "      <td>269500.0</td>\n",
       "      <td>20.0</td>\n",
       "      <td>39.0</td>\n",
       "      <td>115000.0</td>\n",
       "      <td>0.0</td>\n",
       "      <td>0</td>\n",
       "      <td>0.0</td>\n",
       "    </tr>\n",
       "    <tr>\n",
       "      <th>14) Телефоны другие</th>\n",
       "      <td>94.0</td>\n",
       "      <td>2.1</td>\n",
       "      <td>13.0</td>\n",
       "      <td>10.0</td>\n",
       "      <td>20.0</td>\n",
       "      <td>0.0</td>\n",
       "      <td>0.0</td>\n",
       "      <td>0.0</td>\n",
       "      <td>7540.0</td>\n",
       "      <td>75400.0</td>\n",
       "      <td>15.0</td>\n",
       "      <td>2.0</td>\n",
       "      <td>75400.0</td>\n",
       "      <td>14.0</td>\n",
       "      <td>53.0</td>\n",
       "      <td>27100.0</td>\n",
       "      <td>0.0</td>\n",
       "      <td>0</td>\n",
       "      <td>0.0</td>\n",
       "    </tr>\n",
       "    <tr>\n",
       "      <th>23) Продажа</th>\n",
       "      <td>49.0</td>\n",
       "      <td>1.1</td>\n",
       "      <td>4.0</td>\n",
       "      <td>4.0</td>\n",
       "      <td>25.0</td>\n",
       "      <td>0.0</td>\n",
       "      <td>0.0</td>\n",
       "      <td>0.0</td>\n",
       "      <td>6536.0</td>\n",
       "      <td>26142.0</td>\n",
       "      <td>3.0</td>\n",
       "      <td>3.0</td>\n",
       "      <td>26142.0</td>\n",
       "      <td>8.0</td>\n",
       "      <td>33.0</td>\n",
       "      <td>26142.0</td>\n",
       "      <td>0.0</td>\n",
       "      <td>0</td>\n",
       "      <td>0.0</td>\n",
       "    </tr>\n",
       "    <tr>\n",
       "      <th>27) другое (роботы)</th>\n",
       "      <td>13.0</td>\n",
       "      <td>0.3</td>\n",
       "      <td>1.0</td>\n",
       "      <td>1.0</td>\n",
       "      <td>0.0</td>\n",
       "      <td>0.0</td>\n",
       "      <td>0.0</td>\n",
       "      <td>0.0</td>\n",
       "      <td>2500.0</td>\n",
       "      <td>2500.0</td>\n",
       "      <td>3.0</td>\n",
       "      <td>3.0</td>\n",
       "      <td>2500.0</td>\n",
       "      <td>8.0</td>\n",
       "      <td>6.0</td>\n",
       "      <td>0.0</td>\n",
       "      <td>0.0</td>\n",
       "      <td>0</td>\n",
       "      <td>0.0</td>\n",
       "    </tr>\n",
       "    <tr>\n",
       "      <th>31) МУЛЬТИ</th>\n",
       "      <td>0.0</td>\n",
       "      <td>0.0</td>\n",
       "      <td>0.0</td>\n",
       "      <td>0.0</td>\n",
       "      <td>0.0</td>\n",
       "      <td>0.0</td>\n",
       "      <td>0.0</td>\n",
       "      <td>0.0</td>\n",
       "      <td>0.0</td>\n",
       "      <td>0.0</td>\n",
       "      <td>0.0</td>\n",
       "      <td>0.0</td>\n",
       "      <td>0.0</td>\n",
       "      <td>0.0</td>\n",
       "      <td>0.0</td>\n",
       "      <td>0.0</td>\n",
       "      <td>0.0</td>\n",
       "      <td>0</td>\n",
       "      <td>0.0</td>\n",
       "    </tr>\n",
       "    <tr>\n",
       "      <th>21) Пылесосы</th>\n",
       "      <td>1.0</td>\n",
       "      <td>0.0</td>\n",
       "      <td>0.0</td>\n",
       "      <td>0.0</td>\n",
       "      <td>0.0</td>\n",
       "      <td>0.0</td>\n",
       "      <td>0.0</td>\n",
       "      <td>0.0</td>\n",
       "      <td>0.0</td>\n",
       "      <td>0.0</td>\n",
       "      <td>0.0</td>\n",
       "      <td>0.0</td>\n",
       "      <td>0.0</td>\n",
       "      <td>0.0</td>\n",
       "      <td>0.0</td>\n",
       "      <td>0.0</td>\n",
       "      <td>0.0</td>\n",
       "      <td>0</td>\n",
       "      <td>0.0</td>\n",
       "    </tr>\n",
       "    <tr>\n",
       "      <th>nan</th>\n",
       "      <td>103.0</td>\n",
       "      <td>2.3</td>\n",
       "      <td>0.0</td>\n",
       "      <td>0.0</td>\n",
       "      <td>0.0</td>\n",
       "      <td>0.0</td>\n",
       "      <td>0.0</td>\n",
       "      <td>0.0</td>\n",
       "      <td>0.0</td>\n",
       "      <td>0.0</td>\n",
       "      <td>0.0</td>\n",
       "      <td>0.0</td>\n",
       "      <td>0.0</td>\n",
       "      <td>0.0</td>\n",
       "      <td>0.0</td>\n",
       "      <td>0.0</td>\n",
       "      <td>0.0</td>\n",
       "      <td>0</td>\n",
       "      <td>0.0</td>\n",
       "    </tr>\n",
       "    <tr>\n",
       "      <th>ВСЕГО</th>\n",
       "      <td>4480.0</td>\n",
       "      <td>100.0</td>\n",
       "      <td>1737.0</td>\n",
       "      <td>1516.0</td>\n",
       "      <td>12.8</td>\n",
       "      <td>42.0</td>\n",
       "      <td>580550.0</td>\n",
       "      <td>0.0</td>\n",
       "      <td>5862.0</td>\n",
       "      <td>8886551.0</td>\n",
       "      <td>6.9</td>\n",
       "      <td>3.0</td>\n",
       "      <td>8886551.0</td>\n",
       "      <td>39.0</td>\n",
       "      <td>3066.0</td>\n",
       "      <td>6402723.0</td>\n",
       "      <td>0.0</td>\n",
       "      <td>0</td>\n",
       "      <td>0.0</td>\n",
       "    </tr>\n",
       "  </tbody>\n",
       "</table>\n",
       "</div>"
      ],
      "text/plain": [
       "                                новых  новых (%)  броней  успешных  K_повт  \\\n",
       "19) Сигвеи                       36.0        0.8    24.0      23.0    17.0   \n",
       "15) Камера 360                   30.0        0.7    20.0      17.0    11.0   \n",
       "28) Очки ВР event                11.0        0.2     7.0       8.0    37.0   \n",
       "02) Стабилизаторы                76.0        1.7    46.0      36.0     8.0   \n",
       "20) Моноколеса                   15.0        0.3     9.0       8.0     0.0   \n",
       "11) планшеты                    107.0        2.4    62.0      57.0    15.0   \n",
       "01) экшн-камеры                 359.0        8.0   207.0     181.0    13.0   \n",
       "22) Металлоискатели             202.0        4.5   101.0      74.0     0.0   \n",
       "12) Ноутбуки                    547.0       12.2   251.0     229.0    17.0   \n",
       "04) Квадрокоптеры               195.0        4.4    82.0      57.0     5.0   \n",
       "17) Очки ВР                     126.0        2.8    52.0      51.0    13.0   \n",
       "33) Игровые приставки Xbox       49.0        1.1    20.0      16.0    25.0   \n",
       "13) Apple ноутбуки              168.0        3.8    66.0      57.0    33.0   \n",
       "10) Проекторы                   184.0        4.1    69.0      55.0     3.0   \n",
       "09) Телевизоры                  108.0        2.4    40.0      30.0     6.0   \n",
       "03) Игр.приставки Playstation  1127.0       25.2   406.0     371.0    13.0   \n",
       "05) Коляски                     243.0        5.4    85.0      85.0     2.0   \n",
       "16) Очки ДР                       9.0        0.2     3.0       4.0     0.0   \n",
       "35) Игровые приставки Nintendo   12.0        0.3     4.0       4.0     0.0   \n",
       "32) Игровые Пк                   78.0        1.7    25.0      28.0    35.0   \n",
       "24) фотозоны                     92.0        2.1    27.0      19.0     5.0   \n",
       "18) Электросамокаты             300.0        6.7    78.0      58.0     3.0   \n",
       "34) телефоны apple               87.0        1.9    23.0      23.0     8.0   \n",
       "25) светодиодные экраны           9.0        0.2     2.0       1.0   100.0   \n",
       "26) активности и игры            50.0        1.1    10.0       9.0     0.0   \n",
       "14) Телефоны другие              94.0        2.1    13.0      10.0    20.0   \n",
       "23) Продажа                      49.0        1.1     4.0       4.0    25.0   \n",
       "27) другое (роботы)              13.0        0.3     1.0       1.0     0.0   \n",
       "31) МУЛЬТИ                        0.0        0.0     0.0       0.0     0.0   \n",
       "21) Пылесосы                      1.0        0.0     0.0       0.0     0.0   \n",
       "nan                             103.0        2.3     0.0       0.0     0.0   \n",
       "ВСЕГО                          4480.0      100.0  1737.0    1516.0    12.8   \n",
       "\n",
       "                                потенц. сделок(откр.брони)  \\\n",
       "19) Сигвеи                                             0.0   \n",
       "15) Камера 360                                         0.0   \n",
       "28) Очки ВР event                                      0.0   \n",
       "02) Стабилизаторы                                      1.0   \n",
       "20) Моноколеса                                         0.0   \n",
       "11) планшеты                                           0.0   \n",
       "01) экшн-камеры                                        4.0   \n",
       "22) Металлоискатели                                    2.0   \n",
       "12) Ноутбуки                                           6.0   \n",
       "04) Квадрокоптеры                                      6.0   \n",
       "17) Очки ВР                                            0.0   \n",
       "33) Игровые приставки Xbox                             1.0   \n",
       "13) Apple ноутбуки                                     4.0   \n",
       "10) Проекторы                                          1.0   \n",
       "09) Телевизоры                                         4.0   \n",
       "03) Игр.приставки Playstation                          2.0   \n",
       "05) Коляски                                            4.0   \n",
       "16) Очки ДР                                            0.0   \n",
       "35) Игровые приставки Nintendo                         0.0   \n",
       "32) Игровые Пк                                         0.0   \n",
       "24) фотозоны                                           4.0   \n",
       "18) Электросамокаты                                    0.0   \n",
       "34) телефоны apple                                     0.0   \n",
       "25) светодиодные экраны                                0.0   \n",
       "26) активности и игры                                  3.0   \n",
       "14) Телефоны другие                                    0.0   \n",
       "23) Продажа                                            0.0   \n",
       "27) другое (роботы)                                    0.0   \n",
       "31) МУЛЬТИ                                             0.0   \n",
       "21) Пылесосы                                           0.0   \n",
       "nan                                                    0.0   \n",
       "ВСЕГО                                                 42.0   \n",
       "\n",
       "                                потенц. оборот(откр.брони)  \\\n",
       "19) Сигвеи                                             0.0   \n",
       "15) Камера 360                                         0.0   \n",
       "28) Очки ВР event                                      0.0   \n",
       "02) Стабилизаторы                                   1700.0   \n",
       "20) Моноколеса                                         0.0   \n",
       "11) планшеты                                           0.0   \n",
       "01) экшн-камеры                                    13500.0   \n",
       "22) Металлоискатели                                 3850.0   \n",
       "12) Ноутбуки                                       67400.0   \n",
       "04) Квадрокоптеры                                  24200.0   \n",
       "17) Очки ВР                                            0.0   \n",
       "33) Игровые приставки Xbox                          2200.0   \n",
       "13) Apple ноутбуки                                 20900.0   \n",
       "10) Проекторы                                       2300.0   \n",
       "09) Телевизоры                                     19300.0   \n",
       "03) Игр.приставки Playstation                       4600.0   \n",
       "05) Коляски                                        11600.0   \n",
       "16) Очки ДР                                            0.0   \n",
       "35) Игровые приставки Nintendo                         0.0   \n",
       "32) Игровые Пк                                         0.0   \n",
       "24) фотозоны                                      371000.0   \n",
       "18) Электросамокаты                                    0.0   \n",
       "34) телефоны apple                                     0.0   \n",
       "25) светодиодные экраны                                0.0   \n",
       "26) активности и игры                              38000.0   \n",
       "14) Телефоны другие                                    0.0   \n",
       "23) Продажа                                            0.0   \n",
       "27) другое (роботы)                                    0.0   \n",
       "31) МУЛЬТИ                                             0.0   \n",
       "21) Пылесосы                                           0.0   \n",
       "nan                                                    0.0   \n",
       "ВСЕГО                                             580550.0   \n",
       "\n",
       "                                потенц. оборот(откр.брони на jun)  Ср.чек  \\\n",
       "19) Сигвеи                                                    0.0  4524.0   \n",
       "15) Камера 360                                                0.0  4582.0   \n",
       "28) Очки ВР event                                             0.0 29350.0   \n",
       "02) Стабилизаторы                                             0.0  1857.0   \n",
       "20) Моноколеса                                                0.0  1650.0   \n",
       "11) планшеты                                                  0.0 10969.0   \n",
       "01) экшн-камеры                                               0.0  3837.0   \n",
       "22) Металлоискатели                                           0.0  1836.0   \n",
       "12) Ноутбуки                                                  0.0  7401.0   \n",
       "04) Квадрокоптеры                                             0.0  8090.0   \n",
       "17) Очки ВР                                                   0.0  5132.0   \n",
       "33) Игровые приставки Xbox                                    0.0  3522.0   \n",
       "13) Apple ноутбуки                                            0.0  6338.0   \n",
       "10) Проекторы                                                 0.0  2358.0   \n",
       "09) Телевизоры                                                0.0  9937.0   \n",
       "03) Игр.приставки Playstation                                 0.0  3135.0   \n",
       "05) Коляски                                                   0.0  2834.0   \n",
       "16) Очки ДР                                                   0.0 16500.0   \n",
       "35) Игровые приставки Nintendo                                0.0  2800.0   \n",
       "32) Игровые Пк                                                0.0  9743.0   \n",
       "24) фотозоны                                                  0.0 55687.0   \n",
       "18) Электросамокаты                                           0.0  5319.0   \n",
       "34) телефоны apple                                            0.0  6922.0   \n",
       "25) светодиодные экраны                                       0.0 18000.0   \n",
       "26) активности и игры                                         0.0 29944.0   \n",
       "14) Телефоны другие                                           0.0  7540.0   \n",
       "23) Продажа                                                   0.0  6536.0   \n",
       "27) другое (роботы)                                           0.0  2500.0   \n",
       "31) МУЛЬТИ                                                    0.0     0.0   \n",
       "21) Пылесосы                                                  0.0     0.0   \n",
       "nan                                                           0.0     0.0   \n",
       "ВСЕГО                                                         0.0  5862.0   \n",
       "\n",
       "                                фактич. оборот  средн. цикл аренды  \\\n",
       "19) Сигвеи                            104050.0                 1.0   \n",
       "15) Камера 360                         77901.0                 3.0   \n",
       "28) Очки ВР event                     234800.0                 0.0   \n",
       "02) Стабилизаторы                      66850.0                 2.0   \n",
       "20) Моноколеса                         13200.0                 0.0   \n",
       "11) планшеты                          625250.0                 2.0   \n",
       "01) экшн-камеры                       694420.0                 9.0   \n",
       "22) Металлоискатели                   135850.0                 2.0   \n",
       "12) Ноутбуки                         1694729.0                11.0   \n",
       "04) Квадрокоптеры                     461128.0                 6.0   \n",
       "17) Очки ВР                           261750.0                 3.0   \n",
       "33) Игровые приставки Xbox             56350.0                 3.0   \n",
       "13) Apple ноутбуки                    361250.0                15.0   \n",
       "10) Проекторы                         129700.0                 2.0   \n",
       "09) Телевизоры                        298100.0                 3.0   \n",
       "03) Игр.приставки Playstation        1163090.0                 5.0   \n",
       "05) Коляски                           240860.0                10.0   \n",
       "16) Очки ДР                            66000.0                 1.0   \n",
       "35) Игровые приставки Nintendo         11200.0                 7.0   \n",
       "32) Игровые Пк                        272801.0                15.0   \n",
       "24) фотозоны                         1058050.0                 1.0   \n",
       "18) Электросамокаты                   308480.0                 5.0   \n",
       "34) телефоны apple                    159200.0                11.0   \n",
       "25) светодиодные экраны                18000.0                 0.0   \n",
       "26) активности и игры                 269500.0                 0.0   \n",
       "14) Телефоны другие                    75400.0                15.0   \n",
       "23) Продажа                            26142.0                 3.0   \n",
       "27) другое (роботы)                     2500.0                 3.0   \n",
       "31) МУЛЬТИ                                 0.0                 0.0   \n",
       "21) Пылесосы                               0.0                 0.0   \n",
       "nan                                        0.0                 0.0   \n",
       "ВСЕГО                                8886551.0                 6.9   \n",
       "\n",
       "                                медиан. цикл аренды  прогн.оборот  CV_бронь  \\\n",
       "19) Сигвеи                                      1.0      104050.0      67.0   \n",
       "15) Камера 360                                  1.0       77901.0      67.0   \n",
       "28) Очки ВР event                               0.0      234800.0      64.0   \n",
       "02) Стабилизаторы                               1.0       66850.0      61.0   \n",
       "20) Моноколеса                                  1.0       13200.0      60.0   \n",
       "11) планшеты                                    1.0      625250.0      58.0   \n",
       "01) экшн-камеры                                 9.0      694420.0      58.0   \n",
       "22) Металлоискатели                             2.0      135850.0      50.0   \n",
       "12) Ноутбуки                                    4.0     1694729.0      46.0   \n",
       "04) Квадрокоптеры                               4.0      461128.0      42.0   \n",
       "17) Очки ВР                                     2.0      261750.0      41.0   \n",
       "33) Игровые приставки Xbox                      2.0       56350.0      41.0   \n",
       "13) Apple ноутбуки                              9.0      361250.0      39.0   \n",
       "10) Проекторы                                   1.0      129700.0      38.0   \n",
       "09) Телевизоры                                  1.0      298100.0      37.0   \n",
       "03) Игр.приставки Playstation                   3.0     1163090.0      36.0   \n",
       "05) Коляски                                    12.0      240860.0      35.0   \n",
       "16) Очки ДР                                     1.0       66000.0      33.0   \n",
       "35) Игровые приставки Nintendo                  5.0       11200.0      33.0   \n",
       "32) Игровые Пк                                 11.0      272801.0      32.0   \n",
       "24) фотозоны                                    0.0     1058050.0      29.0   \n",
       "18) Электросамокаты                             1.0      308480.0      26.0   \n",
       "34) телефоны apple                              3.0      159200.0      26.0   \n",
       "25) светодиодные экраны                         0.0       18000.0      22.0   \n",
       "26) активности и игры                           0.0      269500.0      20.0   \n",
       "14) Телефоны другие                             2.0       75400.0      14.0   \n",
       "23) Продажа                                     3.0       26142.0       8.0   \n",
       "27) другое (роботы)                             3.0        2500.0       8.0   \n",
       "31) МУЛЬТИ                                      0.0           0.0       0.0   \n",
       "21) Пылесосы                                    0.0           0.0       0.0   \n",
       "nan                                             0.0           0.0       0.0   \n",
       "ВСЕГО                                           3.0     8886551.0      39.0   \n",
       "\n",
       "                                новых 3 мес  фактич. оборот 3 мес  план  \\\n",
       "19) Сигвеи                             30.0               95950.0   0.0   \n",
       "15) Камера 360                         22.0               59801.0   0.0   \n",
       "28) Очки ВР event                       6.0              126500.0   0.0   \n",
       "02) Стабилизаторы                      50.0               53550.0   0.0   \n",
       "20) Моноколеса                         10.0               10200.0   0.0   \n",
       "11) планшеты                           78.0              529250.0   0.0   \n",
       "01) экшн-камеры                       246.0              476170.0   0.0   \n",
       "22) Металлоискатели                   139.0              100150.0   0.0   \n",
       "12) Ноутбуки                          397.0             1238861.0   0.0   \n",
       "04) Квадрокоптеры                     131.0              324198.0   0.0   \n",
       "17) Очки ВР                           101.0              217350.0   0.0   \n",
       "33) Игровые приставки Xbox             34.0               34750.0   0.0   \n",
       "13) Apple ноутбуки                    126.0              260650.0   0.0   \n",
       "10) Проекторы                         137.0               96300.0   0.0   \n",
       "09) Телевизоры                         78.0              199100.0   0.0   \n",
       "03) Игр.приставки Playstation         751.0              759250.0   0.0   \n",
       "05) Коляски                           189.0              191660.0   0.0   \n",
       "16) Очки ДР                             8.0               33000.0   0.0   \n",
       "35) Игровые приставки Nintendo         12.0               11200.0   0.0   \n",
       "32) Игровые Пк                         63.0              224491.0   0.0   \n",
       "24) фотозоны                           68.0              852000.0   0.0   \n",
       "18) Электросамокаты                   171.0              185400.0   0.0   \n",
       "34) телефоны apple                     82.0              136700.0   0.0   \n",
       "25) светодиодные экраны                 6.0               18000.0   0.0   \n",
       "26) активности и игры                  39.0              115000.0   0.0   \n",
       "14) Телефоны другие                    53.0               27100.0   0.0   \n",
       "23) Продажа                            33.0               26142.0   0.0   \n",
       "27) другое (роботы)                     6.0                   0.0   0.0   \n",
       "31) МУЛЬТИ                              0.0                   0.0   0.0   \n",
       "21) Пылесосы                            0.0                   0.0   0.0   \n",
       "nan                                     0.0                   0.0   0.0   \n",
       "ВСЕГО                                3066.0             6402723.0   0.0   \n",
       "\n",
       "                                план по лидам  % выполн. плана по лидам  \n",
       "19) Сигвеи                                  0                       0.0  \n",
       "15) Камера 360                              0                       0.0  \n",
       "28) Очки ВР event                           0                       0.0  \n",
       "02) Стабилизаторы                           0                       0.0  \n",
       "20) Моноколеса                              0                       0.0  \n",
       "11) планшеты                                0                       0.0  \n",
       "01) экшн-камеры                             0                       0.0  \n",
       "22) Металлоискатели                         0                       0.0  \n",
       "12) Ноутбуки                                0                       0.0  \n",
       "04) Квадрокоптеры                           0                       0.0  \n",
       "17) Очки ВР                                 0                       0.0  \n",
       "33) Игровые приставки Xbox                  0                       0.0  \n",
       "13) Apple ноутбуки                          0                       0.0  \n",
       "10) Проекторы                               0                       0.0  \n",
       "09) Телевизоры                              0                       0.0  \n",
       "03) Игр.приставки Playstation               0                       0.0  \n",
       "05) Коляски                                 0                       0.0  \n",
       "16) Очки ДР                                 0                       0.0  \n",
       "35) Игровые приставки Nintendo              0                       0.0  \n",
       "32) Игровые Пк                              0                       0.0  \n",
       "24) фотозоны                                0                       0.0  \n",
       "18) Электросамокаты                         0                       0.0  \n",
       "34) телефоны apple                          0                       0.0  \n",
       "25) светодиодные экраны                     0                       0.0  \n",
       "26) активности и игры                       0                       0.0  \n",
       "14) Телефоны другие                         0                       0.0  \n",
       "23) Продажа                                 0                       0.0  \n",
       "27) другое (роботы)                         0                       0.0  \n",
       "31) МУЛЬТИ                                  0                       0.0  \n",
       "21) Пылесосы                                0                       0.0  \n",
       "nan                                         0                       0.0  \n",
       "ВСЕГО                                       0                       0.0  "
      ]
     },
     "metadata": {},
     "output_type": "display_data"
    },
    {
     "name": "stdout",
     "output_type": "stream",
     "text": [
      "\n",
      "\n",
      "\n",
      "\n",
      "\n",
      "\n",
      "------------------ОТЧЕТ \"МЕНЕДЖЕР (прокат)\"-----------------\n"
     ]
    },
    {
     "data": {
      "text/html": [
       "<div>\n",
       "<style scoped>\n",
       "    .dataframe tbody tr th:only-of-type {\n",
       "        vertical-align: middle;\n",
       "    }\n",
       "\n",
       "    .dataframe tbody tr th {\n",
       "        vertical-align: top;\n",
       "    }\n",
       "\n",
       "    .dataframe thead th {\n",
       "        text-align: right;\n",
       "    }\n",
       "</style>\n",
       "<table border=\"1\" class=\"dataframe\">\n",
       "  <thead>\n",
       "    <tr style=\"text-align: right;\">\n",
       "      <th></th>\n",
       "      <th>новых</th>\n",
       "      <th>новых (%)</th>\n",
       "      <th>броней</th>\n",
       "      <th>успешных</th>\n",
       "      <th>K_повт</th>\n",
       "      <th>потенц. сделок(откр.брони)</th>\n",
       "      <th>потенц. оборот(откр.брони)</th>\n",
       "      <th>потенц. оборот(откр.брони на jun)</th>\n",
       "      <th>Ср.чек</th>\n",
       "      <th>фактич. оборот</th>\n",
       "      <th>средн. цикл аренды</th>\n",
       "      <th>медиан. цикл аренды</th>\n",
       "      <th>прогн.оборот</th>\n",
       "      <th>CV_бронь</th>\n",
       "      <th>план</th>\n",
       "      <th>% выполненного плана</th>\n",
       "      <th>прогноз выполнения плана %</th>\n",
       "    </tr>\n",
       "    <tr>\n",
       "      <th>МЕНЕДЖЕР</th>\n",
       "      <th></th>\n",
       "      <th></th>\n",
       "      <th></th>\n",
       "      <th></th>\n",
       "      <th></th>\n",
       "      <th></th>\n",
       "      <th></th>\n",
       "      <th></th>\n",
       "      <th></th>\n",
       "      <th></th>\n",
       "      <th></th>\n",
       "      <th></th>\n",
       "      <th></th>\n",
       "      <th></th>\n",
       "      <th></th>\n",
       "      <th></th>\n",
       "      <th></th>\n",
       "    </tr>\n",
       "  </thead>\n",
       "  <tbody>\n",
       "    <tr>\n",
       "      <th>Карцев Евгений</th>\n",
       "      <td>32.0</td>\n",
       "      <td>0.7</td>\n",
       "      <td>30.0</td>\n",
       "      <td>32.0</td>\n",
       "      <td>28.0</td>\n",
       "      <td>0.0</td>\n",
       "      <td>0.0</td>\n",
       "      <td>0.0</td>\n",
       "      <td>2095.0</td>\n",
       "      <td>67052.0</td>\n",
       "      <td>10.0</td>\n",
       "      <td>1.0</td>\n",
       "      <td>67052.0</td>\n",
       "      <td>94.0</td>\n",
       "      <td>0</td>\n",
       "      <td>0.0</td>\n",
       "      <td>0.0</td>\n",
       "    </tr>\n",
       "    <tr>\n",
       "      <th>Соколов Александр</th>\n",
       "      <td>12.0</td>\n",
       "      <td>0.3</td>\n",
       "      <td>10.0</td>\n",
       "      <td>6.0</td>\n",
       "      <td>0.0</td>\n",
       "      <td>1.0</td>\n",
       "      <td>9600.0</td>\n",
       "      <td>0.0</td>\n",
       "      <td>9679.0</td>\n",
       "      <td>58072.0</td>\n",
       "      <td>3.0</td>\n",
       "      <td>1.0</td>\n",
       "      <td>58072.0</td>\n",
       "      <td>83.0</td>\n",
       "      <td>0</td>\n",
       "      <td>0.0</td>\n",
       "      <td>0.0</td>\n",
       "    </tr>\n",
       "    <tr>\n",
       "      <th>Кузнецова Дарья</th>\n",
       "      <td>620.0</td>\n",
       "      <td>14.2</td>\n",
       "      <td>319.0</td>\n",
       "      <td>283.0</td>\n",
       "      <td>21.0</td>\n",
       "      <td>3.0</td>\n",
       "      <td>51300.0</td>\n",
       "      <td>0.0</td>\n",
       "      <td>7338.0</td>\n",
       "      <td>2076775.0</td>\n",
       "      <td>8.0</td>\n",
       "      <td>3.0</td>\n",
       "      <td>2076775.0</td>\n",
       "      <td>51.0</td>\n",
       "      <td>1</td>\n",
       "      <td>207677500.0</td>\n",
       "      <td>207677500.0</td>\n",
       "    </tr>\n",
       "    <tr>\n",
       "      <th>Шутова Виктория</th>\n",
       "      <td>1040.0</td>\n",
       "      <td>23.8</td>\n",
       "      <td>473.0</td>\n",
       "      <td>436.0</td>\n",
       "      <td>19.0</td>\n",
       "      <td>5.0</td>\n",
       "      <td>23300.0</td>\n",
       "      <td>0.0</td>\n",
       "      <td>4849.0</td>\n",
       "      <td>2114125.0</td>\n",
       "      <td>7.0</td>\n",
       "      <td>3.0</td>\n",
       "      <td>2114125.0</td>\n",
       "      <td>45.0</td>\n",
       "      <td>1</td>\n",
       "      <td>211412500.0</td>\n",
       "      <td>211412500.0</td>\n",
       "    </tr>\n",
       "    <tr>\n",
       "      <th>Симак Наталья</th>\n",
       "      <td>1086.0</td>\n",
       "      <td>24.9</td>\n",
       "      <td>372.0</td>\n",
       "      <td>328.0</td>\n",
       "      <td>3.0</td>\n",
       "      <td>9.0</td>\n",
       "      <td>34050.0</td>\n",
       "      <td>0.0</td>\n",
       "      <td>4254.0</td>\n",
       "      <td>1395340.0</td>\n",
       "      <td>5.0</td>\n",
       "      <td>3.0</td>\n",
       "      <td>1395340.0</td>\n",
       "      <td>34.0</td>\n",
       "      <td>1</td>\n",
       "      <td>139534000.0</td>\n",
       "      <td>139534000.0</td>\n",
       "    </tr>\n",
       "    <tr>\n",
       "      <th>3 Стажер</th>\n",
       "      <td>597.0</td>\n",
       "      <td>13.7</td>\n",
       "      <td>195.0</td>\n",
       "      <td>151.0</td>\n",
       "      <td>5.0</td>\n",
       "      <td>9.0</td>\n",
       "      <td>30300.0</td>\n",
       "      <td>0.0</td>\n",
       "      <td>4435.0</td>\n",
       "      <td>669630.0</td>\n",
       "      <td>5.0</td>\n",
       "      <td>3.0</td>\n",
       "      <td>669630.0</td>\n",
       "      <td>33.0</td>\n",
       "      <td>1</td>\n",
       "      <td>66963000.0</td>\n",
       "      <td>66963000.0</td>\n",
       "    </tr>\n",
       "    <tr>\n",
       "      <th>1 Стажер</th>\n",
       "      <td>727.0</td>\n",
       "      <td>16.7</td>\n",
       "      <td>224.0</td>\n",
       "      <td>190.0</td>\n",
       "      <td>3.0</td>\n",
       "      <td>0.0</td>\n",
       "      <td>0.0</td>\n",
       "      <td>0.0</td>\n",
       "      <td>3189.0</td>\n",
       "      <td>606000.0</td>\n",
       "      <td>6.0</td>\n",
       "      <td>2.0</td>\n",
       "      <td>606000.0</td>\n",
       "      <td>31.0</td>\n",
       "      <td>0</td>\n",
       "      <td>0.0</td>\n",
       "      <td>0.0</td>\n",
       "    </tr>\n",
       "    <tr>\n",
       "      <th>Чепрасова Ольга</th>\n",
       "      <td>144.0</td>\n",
       "      <td>3.3</td>\n",
       "      <td>45.0</td>\n",
       "      <td>42.0</td>\n",
       "      <td>14.0</td>\n",
       "      <td>0.0</td>\n",
       "      <td>0.0</td>\n",
       "      <td>0.0</td>\n",
       "      <td>6474.0</td>\n",
       "      <td>271902.0</td>\n",
       "      <td>10.0</td>\n",
       "      <td>7.0</td>\n",
       "      <td>271902.0</td>\n",
       "      <td>31.0</td>\n",
       "      <td>1</td>\n",
       "      <td>27190200.0</td>\n",
       "      <td>27190200.0</td>\n",
       "    </tr>\n",
       "    <tr>\n",
       "      <th>2 Стажер</th>\n",
       "      <td>54.0</td>\n",
       "      <td>1.2</td>\n",
       "      <td>11.0</td>\n",
       "      <td>9.0</td>\n",
       "      <td>0.0</td>\n",
       "      <td>0.0</td>\n",
       "      <td>0.0</td>\n",
       "      <td>0.0</td>\n",
       "      <td>4523.0</td>\n",
       "      <td>40705.0</td>\n",
       "      <td>5.0</td>\n",
       "      <td>2.0</td>\n",
       "      <td>40705.0</td>\n",
       "      <td>20.0</td>\n",
       "      <td>0</td>\n",
       "      <td>0.0</td>\n",
       "      <td>0.0</td>\n",
       "    </tr>\n",
       "    <tr>\n",
       "      <th>Елена Смоликова</th>\n",
       "      <td>16.0</td>\n",
       "      <td>0.4</td>\n",
       "      <td>2.0</td>\n",
       "      <td>0.0</td>\n",
       "      <td>0.0</td>\n",
       "      <td>2.0</td>\n",
       "      <td>3000.0</td>\n",
       "      <td>0.0</td>\n",
       "      <td>0.0</td>\n",
       "      <td>0.0</td>\n",
       "      <td>0.0</td>\n",
       "      <td>0.0</td>\n",
       "      <td>0.0</td>\n",
       "      <td>12.0</td>\n",
       "      <td>0</td>\n",
       "      <td>0.0</td>\n",
       "      <td>0.0</td>\n",
       "    </tr>\n",
       "    <tr>\n",
       "      <th>Алина</th>\n",
       "      <td>38.0</td>\n",
       "      <td>0.9</td>\n",
       "      <td>3.0</td>\n",
       "      <td>3.0</td>\n",
       "      <td>0.0</td>\n",
       "      <td>3.0</td>\n",
       "      <td>4700.0</td>\n",
       "      <td>0.0</td>\n",
       "      <td>5033.0</td>\n",
       "      <td>15100.0</td>\n",
       "      <td>7.0</td>\n",
       "      <td>7.0</td>\n",
       "      <td>15100.0</td>\n",
       "      <td>8.0</td>\n",
       "      <td>0</td>\n",
       "      <td>0.0</td>\n",
       "      <td>0.0</td>\n",
       "    </tr>\n",
       "    <tr>\n",
       "      <th>Алина</th>\n",
       "      <td>0.0</td>\n",
       "      <td>0.0</td>\n",
       "      <td>0.0</td>\n",
       "      <td>0.0</td>\n",
       "      <td>0.0</td>\n",
       "      <td>0.0</td>\n",
       "      <td>0.0</td>\n",
       "      <td>0.0</td>\n",
       "      <td>0.0</td>\n",
       "      <td>0.0</td>\n",
       "      <td>0.0</td>\n",
       "      <td>0.0</td>\n",
       "      <td>0.0</td>\n",
       "      <td>0.0</td>\n",
       "      <td>1</td>\n",
       "      <td>0.0</td>\n",
       "      <td>0.0</td>\n",
       "    </tr>\n",
       "    <tr>\n",
       "      <th>ВСЕГО</th>\n",
       "      <td>4366.0</td>\n",
       "      <td>100.0</td>\n",
       "      <td>1684.0</td>\n",
       "      <td>1480.0</td>\n",
       "      <td>12.8</td>\n",
       "      <td>32.0</td>\n",
       "      <td>156250.0</td>\n",
       "      <td>0.0</td>\n",
       "      <td>4942.0</td>\n",
       "      <td>7314701.0</td>\n",
       "      <td>7.1</td>\n",
       "      <td>3.0</td>\n",
       "      <td>7314701.0</td>\n",
       "      <td>39.0</td>\n",
       "      <td>6</td>\n",
       "      <td>121911683.3</td>\n",
       "      <td>121911683.3</td>\n",
       "    </tr>\n",
       "  </tbody>\n",
       "</table>\n",
       "</div>"
      ],
      "text/plain": [
       "                   новых  новых (%)  броней  успешных  K_повт  \\\n",
       "МЕНЕДЖЕР                                                        \n",
       "Карцев Евгений      32.0        0.7    30.0      32.0    28.0   \n",
       "Соколов Александр   12.0        0.3    10.0       6.0     0.0   \n",
       "Кузнецова Дарья    620.0       14.2   319.0     283.0    21.0   \n",
       "Шутова Виктория   1040.0       23.8   473.0     436.0    19.0   \n",
       "Симак Наталья     1086.0       24.9   372.0     328.0     3.0   \n",
       "3 Стажер           597.0       13.7   195.0     151.0     5.0   \n",
       "1 Стажер           727.0       16.7   224.0     190.0     3.0   \n",
       "Чепрасова Ольга    144.0        3.3    45.0      42.0    14.0   \n",
       "2 Стажер            54.0        1.2    11.0       9.0     0.0   \n",
       " Елена Смоликова    16.0        0.4     2.0       0.0     0.0   \n",
       " Алина              38.0        0.9     3.0       3.0     0.0   \n",
       "Алина                0.0        0.0     0.0       0.0     0.0   \n",
       "ВСЕГО             4366.0      100.0  1684.0    1480.0    12.8   \n",
       "\n",
       "                   потенц. сделок(откр.брони)  потенц. оборот(откр.брони)  \\\n",
       "МЕНЕДЖЕР                                                                    \n",
       "Карцев Евгений                            0.0                         0.0   \n",
       "Соколов Александр                         1.0                      9600.0   \n",
       "Кузнецова Дарья                           3.0                     51300.0   \n",
       "Шутова Виктория                           5.0                     23300.0   \n",
       "Симак Наталья                             9.0                     34050.0   \n",
       "3 Стажер                                  9.0                     30300.0   \n",
       "1 Стажер                                  0.0                         0.0   \n",
       "Чепрасова Ольга                           0.0                         0.0   \n",
       "2 Стажер                                  0.0                         0.0   \n",
       " Елена Смоликова                          2.0                      3000.0   \n",
       " Алина                                    3.0                      4700.0   \n",
       "Алина                                     0.0                         0.0   \n",
       "ВСЕГО                                    32.0                    156250.0   \n",
       "\n",
       "                   потенц. оборот(откр.брони на jun)  Ср.чек  фактич. оборот  \\\n",
       "МЕНЕДЖЕР                                                                       \n",
       "Карцев Евгений                                   0.0  2095.0         67052.0   \n",
       "Соколов Александр                                0.0  9679.0         58072.0   \n",
       "Кузнецова Дарья                                  0.0  7338.0       2076775.0   \n",
       "Шутова Виктория                                  0.0  4849.0       2114125.0   \n",
       "Симак Наталья                                    0.0  4254.0       1395340.0   \n",
       "3 Стажер                                         0.0  4435.0        669630.0   \n",
       "1 Стажер                                         0.0  3189.0        606000.0   \n",
       "Чепрасова Ольга                                  0.0  6474.0        271902.0   \n",
       "2 Стажер                                         0.0  4523.0         40705.0   \n",
       " Елена Смоликова                                 0.0     0.0             0.0   \n",
       " Алина                                           0.0  5033.0         15100.0   \n",
       "Алина                                            0.0     0.0             0.0   \n",
       "ВСЕГО                                            0.0  4942.0       7314701.0   \n",
       "\n",
       "                   средн. цикл аренды  медиан. цикл аренды  прогн.оборот  \\\n",
       "МЕНЕДЖЕР                                                                   \n",
       "Карцев Евгений                   10.0                  1.0       67052.0   \n",
       "Соколов Александр                 3.0                  1.0       58072.0   \n",
       "Кузнецова Дарья                   8.0                  3.0     2076775.0   \n",
       "Шутова Виктория                   7.0                  3.0     2114125.0   \n",
       "Симак Наталья                     5.0                  3.0     1395340.0   \n",
       "3 Стажер                          5.0                  3.0      669630.0   \n",
       "1 Стажер                          6.0                  2.0      606000.0   \n",
       "Чепрасова Ольга                  10.0                  7.0      271902.0   \n",
       "2 Стажер                          5.0                  2.0       40705.0   \n",
       " Елена Смоликова                  0.0                  0.0           0.0   \n",
       " Алина                            7.0                  7.0       15100.0   \n",
       "Алина                             0.0                  0.0           0.0   \n",
       "ВСЕГО                             7.1                  3.0     7314701.0   \n",
       "\n",
       "                   CV_бронь  план  % выполненного плана  \\\n",
       "МЕНЕДЖЕР                                                  \n",
       "Карцев Евгений         94.0     0                   0.0   \n",
       "Соколов Александр      83.0     0                   0.0   \n",
       "Кузнецова Дарья        51.0     1           207677500.0   \n",
       "Шутова Виктория        45.0     1           211412500.0   \n",
       "Симак Наталья          34.0     1           139534000.0   \n",
       "3 Стажер               33.0     1            66963000.0   \n",
       "1 Стажер               31.0     0                   0.0   \n",
       "Чепрасова Ольга        31.0     1            27190200.0   \n",
       "2 Стажер               20.0     0                   0.0   \n",
       " Елена Смоликова       12.0     0                   0.0   \n",
       " Алина                  8.0     0                   0.0   \n",
       "Алина                   0.0     1                   0.0   \n",
       "ВСЕГО                  39.0     6           121911683.3   \n",
       "\n",
       "                   прогноз выполнения плана %  \n",
       "МЕНЕДЖЕР                                       \n",
       "Карцев Евгений                            0.0  \n",
       "Соколов Александр                         0.0  \n",
       "Кузнецова Дарья                   207677500.0  \n",
       "Шутова Виктория                   211412500.0  \n",
       "Симак Наталья                     139534000.0  \n",
       "3 Стажер                           66963000.0  \n",
       "1 Стажер                                  0.0  \n",
       "Чепрасова Ольга                    27190200.0  \n",
       "2 Стажер                                  0.0  \n",
       " Елена Смоликова                          0.0  \n",
       " Алина                                    0.0  \n",
       "Алина                                     0.0  \n",
       "ВСЕГО                             121911683.3  "
      ]
     },
     "metadata": {},
     "output_type": "display_data"
    },
    {
     "name": "stdout",
     "output_type": "stream",
     "text": [
      "\n",
      "\n",
      "\n",
      "\n",
      "\n",
      "\n",
      "------------------ОТЧЕТ \"МЕНЕДЖЕР (event)\"-----------------\n"
     ]
    },
    {
     "data": {
      "text/html": [
       "<div>\n",
       "<style scoped>\n",
       "    .dataframe tbody tr th:only-of-type {\n",
       "        vertical-align: middle;\n",
       "    }\n",
       "\n",
       "    .dataframe tbody tr th {\n",
       "        vertical-align: top;\n",
       "    }\n",
       "\n",
       "    .dataframe thead th {\n",
       "        text-align: right;\n",
       "    }\n",
       "</style>\n",
       "<table border=\"1\" class=\"dataframe\">\n",
       "  <thead>\n",
       "    <tr style=\"text-align: right;\">\n",
       "      <th></th>\n",
       "      <th>новых</th>\n",
       "      <th>новых (%)</th>\n",
       "      <th>броней</th>\n",
       "      <th>успешных</th>\n",
       "      <th>K_повт</th>\n",
       "      <th>потенц. сделок(откр.брони)</th>\n",
       "      <th>потенц. оборот(откр.брони)</th>\n",
       "      <th>потенц. оборот(откр.брони на jun)</th>\n",
       "      <th>Ср.чек</th>\n",
       "      <th>фактич. оборот</th>\n",
       "      <th>средн. цикл аренды</th>\n",
       "      <th>медиан. цикл аренды</th>\n",
       "      <th>прогн.оборот</th>\n",
       "      <th>CV_бронь</th>\n",
       "      <th>план</th>\n",
       "      <th>% выполненного плана</th>\n",
       "      <th>прогноз выполнения плана %</th>\n",
       "    </tr>\n",
       "    <tr>\n",
       "      <th>МЕНЕДЖЕР</th>\n",
       "      <th></th>\n",
       "      <th></th>\n",
       "      <th></th>\n",
       "      <th></th>\n",
       "      <th></th>\n",
       "      <th></th>\n",
       "      <th></th>\n",
       "      <th></th>\n",
       "      <th></th>\n",
       "      <th></th>\n",
       "      <th></th>\n",
       "      <th></th>\n",
       "      <th></th>\n",
       "      <th></th>\n",
       "      <th></th>\n",
       "      <th></th>\n",
       "      <th></th>\n",
       "    </tr>\n",
       "  </thead>\n",
       "  <tbody>\n",
       "    <tr>\n",
       "      <th>1 Стажер</th>\n",
       "      <td>1.0</td>\n",
       "      <td>1.8</td>\n",
       "      <td>1.0</td>\n",
       "      <td>0.0</td>\n",
       "      <td>0.0</td>\n",
       "      <td>0.0</td>\n",
       "      <td>0.0</td>\n",
       "      <td>0.0</td>\n",
       "      <td>0.0</td>\n",
       "      <td>0.0</td>\n",
       "      <td>0.0</td>\n",
       "      <td>0.0</td>\n",
       "      <td>0.0</td>\n",
       "      <td>100.0</td>\n",
       "      <td>0</td>\n",
       "      <td>0.0</td>\n",
       "      <td>0.0</td>\n",
       "    </tr>\n",
       "    <tr>\n",
       "      <th>Шутова Виктория</th>\n",
       "      <td>15.0</td>\n",
       "      <td>26.3</td>\n",
       "      <td>15.0</td>\n",
       "      <td>12.0</td>\n",
       "      <td>16.0</td>\n",
       "      <td>2.0</td>\n",
       "      <td>277000.0</td>\n",
       "      <td>0.0</td>\n",
       "      <td>26742.0</td>\n",
       "      <td>320900.0</td>\n",
       "      <td>0.0</td>\n",
       "      <td>0.0</td>\n",
       "      <td>320900.0</td>\n",
       "      <td>100.0</td>\n",
       "      <td>1</td>\n",
       "      <td>32090000.0</td>\n",
       "      <td>32090000.0</td>\n",
       "    </tr>\n",
       "    <tr>\n",
       "      <th>Кузнецова Дарья</th>\n",
       "      <td>36.0</td>\n",
       "      <td>63.2</td>\n",
       "      <td>34.0</td>\n",
       "      <td>23.0</td>\n",
       "      <td>13.0</td>\n",
       "      <td>6.0</td>\n",
       "      <td>134000.0</td>\n",
       "      <td>0.0</td>\n",
       "      <td>52433.0</td>\n",
       "      <td>1205950.0</td>\n",
       "      <td>1.0</td>\n",
       "      <td>0.0</td>\n",
       "      <td>1205950.0</td>\n",
       "      <td>94.0</td>\n",
       "      <td>1</td>\n",
       "      <td>120595000.0</td>\n",
       "      <td>120595000.0</td>\n",
       "    </tr>\n",
       "    <tr>\n",
       "      <th>Симак Наталья</th>\n",
       "      <td>3.0</td>\n",
       "      <td>5.3</td>\n",
       "      <td>2.0</td>\n",
       "      <td>1.0</td>\n",
       "      <td>0.0</td>\n",
       "      <td>2.0</td>\n",
       "      <td>13300.0</td>\n",
       "      <td>0.0</td>\n",
       "      <td>45000.0</td>\n",
       "      <td>45000.0</td>\n",
       "      <td>3.0</td>\n",
       "      <td>3.0</td>\n",
       "      <td>45000.0</td>\n",
       "      <td>67.0</td>\n",
       "      <td>1</td>\n",
       "      <td>4500000.0</td>\n",
       "      <td>4500000.0</td>\n",
       "    </tr>\n",
       "    <tr>\n",
       "      <th>3 Стажер</th>\n",
       "      <td>2.0</td>\n",
       "      <td>3.5</td>\n",
       "      <td>1.0</td>\n",
       "      <td>0.0</td>\n",
       "      <td>0.0</td>\n",
       "      <td>0.0</td>\n",
       "      <td>0.0</td>\n",
       "      <td>0.0</td>\n",
       "      <td>0.0</td>\n",
       "      <td>0.0</td>\n",
       "      <td>0.0</td>\n",
       "      <td>0.0</td>\n",
       "      <td>0.0</td>\n",
       "      <td>50.0</td>\n",
       "      <td>1</td>\n",
       "      <td>0.0</td>\n",
       "      <td>0.0</td>\n",
       "    </tr>\n",
       "    <tr>\n",
       "      <th>Алина</th>\n",
       "      <td>0.0</td>\n",
       "      <td>0.0</td>\n",
       "      <td>0.0</td>\n",
       "      <td>0.0</td>\n",
       "      <td>0.0</td>\n",
       "      <td>0.0</td>\n",
       "      <td>0.0</td>\n",
       "      <td>0.0</td>\n",
       "      <td>0.0</td>\n",
       "      <td>0.0</td>\n",
       "      <td>0.0</td>\n",
       "      <td>0.0</td>\n",
       "      <td>0.0</td>\n",
       "      <td>0.0</td>\n",
       "      <td>1</td>\n",
       "      <td>0.0</td>\n",
       "      <td>0.0</td>\n",
       "    </tr>\n",
       "    <tr>\n",
       "      <th>Чепрасова Ольга</th>\n",
       "      <td>0.0</td>\n",
       "      <td>0.0</td>\n",
       "      <td>0.0</td>\n",
       "      <td>0.0</td>\n",
       "      <td>0.0</td>\n",
       "      <td>0.0</td>\n",
       "      <td>0.0</td>\n",
       "      <td>0.0</td>\n",
       "      <td>0.0</td>\n",
       "      <td>0.0</td>\n",
       "      <td>0.0</td>\n",
       "      <td>0.0</td>\n",
       "      <td>0.0</td>\n",
       "      <td>0.0</td>\n",
       "      <td>1</td>\n",
       "      <td>0.0</td>\n",
       "      <td>0.0</td>\n",
       "    </tr>\n",
       "    <tr>\n",
       "      <th>ВСЕГО</th>\n",
       "      <td>57.0</td>\n",
       "      <td>100.0</td>\n",
       "      <td>53.0</td>\n",
       "      <td>36.0</td>\n",
       "      <td>13.9</td>\n",
       "      <td>10.0</td>\n",
       "      <td>424300.0</td>\n",
       "      <td>0.0</td>\n",
       "      <td>43662.0</td>\n",
       "      <td>1571850.0</td>\n",
       "      <td>1.1</td>\n",
       "      <td>0.0</td>\n",
       "      <td>1571850.0</td>\n",
       "      <td>93.0</td>\n",
       "      <td>6</td>\n",
       "      <td>26197500.0</td>\n",
       "      <td>26197500.0</td>\n",
       "    </tr>\n",
       "  </tbody>\n",
       "</table>\n",
       "</div>"
      ],
      "text/plain": [
       "                 новых  новых (%)  броней  успешных  K_повт  \\\n",
       "МЕНЕДЖЕР                                                      \n",
       "1 Стажер           1.0        1.8     1.0       0.0     0.0   \n",
       "Шутова Виктория   15.0       26.3    15.0      12.0    16.0   \n",
       "Кузнецова Дарья   36.0       63.2    34.0      23.0    13.0   \n",
       "Симак Наталья      3.0        5.3     2.0       1.0     0.0   \n",
       "3 Стажер           2.0        3.5     1.0       0.0     0.0   \n",
       "Алина              0.0        0.0     0.0       0.0     0.0   \n",
       "Чепрасова Ольга    0.0        0.0     0.0       0.0     0.0   \n",
       "ВСЕГО             57.0      100.0    53.0      36.0    13.9   \n",
       "\n",
       "                 потенц. сделок(откр.брони)  потенц. оборот(откр.брони)  \\\n",
       "МЕНЕДЖЕР                                                                  \n",
       "1 Стажер                                0.0                         0.0   \n",
       "Шутова Виктория                         2.0                    277000.0   \n",
       "Кузнецова Дарья                         6.0                    134000.0   \n",
       "Симак Наталья                           2.0                     13300.0   \n",
       "3 Стажер                                0.0                         0.0   \n",
       "Алина                                   0.0                         0.0   \n",
       "Чепрасова Ольга                         0.0                         0.0   \n",
       "ВСЕГО                                  10.0                    424300.0   \n",
       "\n",
       "                 потенц. оборот(откр.брони на jun)  Ср.чек  фактич. оборот  \\\n",
       "МЕНЕДЖЕР                                                                     \n",
       "1 Стажер                                       0.0     0.0             0.0   \n",
       "Шутова Виктория                                0.0 26742.0        320900.0   \n",
       "Кузнецова Дарья                                0.0 52433.0       1205950.0   \n",
       "Симак Наталья                                  0.0 45000.0         45000.0   \n",
       "3 Стажер                                       0.0     0.0             0.0   \n",
       "Алина                                          0.0     0.0             0.0   \n",
       "Чепрасова Ольга                                0.0     0.0             0.0   \n",
       "ВСЕГО                                          0.0 43662.0       1571850.0   \n",
       "\n",
       "                 средн. цикл аренды  медиан. цикл аренды  прогн.оборот  \\\n",
       "МЕНЕДЖЕР                                                                 \n",
       "1 Стажер                        0.0                  0.0           0.0   \n",
       "Шутова Виктория                 0.0                  0.0      320900.0   \n",
       "Кузнецова Дарья                 1.0                  0.0     1205950.0   \n",
       "Симак Наталья                   3.0                  3.0       45000.0   \n",
       "3 Стажер                        0.0                  0.0           0.0   \n",
       "Алина                           0.0                  0.0           0.0   \n",
       "Чепрасова Ольга                 0.0                  0.0           0.0   \n",
       "ВСЕГО                           1.1                  0.0     1571850.0   \n",
       "\n",
       "                 CV_бронь  план  % выполненного плана  \\\n",
       "МЕНЕДЖЕР                                                \n",
       "1 Стажер            100.0     0                   0.0   \n",
       "Шутова Виктория     100.0     1            32090000.0   \n",
       "Кузнецова Дарья      94.0     1           120595000.0   \n",
       "Симак Наталья        67.0     1             4500000.0   \n",
       "3 Стажер             50.0     1                   0.0   \n",
       "Алина                 0.0     1                   0.0   \n",
       "Чепрасова Ольга       0.0     1                   0.0   \n",
       "ВСЕГО                93.0     6            26197500.0   \n",
       "\n",
       "                 прогноз выполнения плана %  \n",
       "МЕНЕДЖЕР                                     \n",
       "1 Стажер                                0.0  \n",
       "Шутова Виктория                  32090000.0  \n",
       "Кузнецова Дарья                 120595000.0  \n",
       "Симак Наталья                     4500000.0  \n",
       "3 Стажер                                0.0  \n",
       "Алина                                   0.0  \n",
       "Чепрасова Ольга                         0.0  \n",
       "ВСЕГО                            26197500.0  "
      ]
     },
     "metadata": {},
     "output_type": "display_data"
    },
    {
     "name": "stdout",
     "output_type": "stream",
     "text": [
      "\n",
      "\n",
      "\n",
      "\n",
      "\n",
      "\n",
      "------------------ОТЧЕТ \"МЕНЕДЖЕР (прокат + event)\"-----------------\n"
     ]
    },
    {
     "data": {
      "text/html": [
       "<div>\n",
       "<style scoped>\n",
       "    .dataframe tbody tr th:only-of-type {\n",
       "        vertical-align: middle;\n",
       "    }\n",
       "\n",
       "    .dataframe tbody tr th {\n",
       "        vertical-align: top;\n",
       "    }\n",
       "\n",
       "    .dataframe thead th {\n",
       "        text-align: right;\n",
       "    }\n",
       "</style>\n",
       "<table border=\"1\" class=\"dataframe\">\n",
       "  <thead>\n",
       "    <tr style=\"text-align: right;\">\n",
       "      <th></th>\n",
       "      <th>новых</th>\n",
       "      <th>новых (%)</th>\n",
       "      <th>броней</th>\n",
       "      <th>успешных</th>\n",
       "      <th>K_повт</th>\n",
       "      <th>потенц. сделок(откр.брони)</th>\n",
       "      <th>потенц. оборот(откр.брони)</th>\n",
       "      <th>потенц. оборот(откр.брони на jun)</th>\n",
       "      <th>Ср.чек</th>\n",
       "      <th>фактич. оборот</th>\n",
       "      <th>средн. цикл аренды</th>\n",
       "      <th>медиан. цикл аренды</th>\n",
       "      <th>прогн.оборот</th>\n",
       "      <th>CV_бронь</th>\n",
       "      <th>план</th>\n",
       "      <th>% выполненного плана</th>\n",
       "      <th>прогноз выполнения плана %</th>\n",
       "    </tr>\n",
       "    <tr>\n",
       "      <th>МЕНЕДЖЕР</th>\n",
       "      <th></th>\n",
       "      <th></th>\n",
       "      <th></th>\n",
       "      <th></th>\n",
       "      <th></th>\n",
       "      <th></th>\n",
       "      <th></th>\n",
       "      <th></th>\n",
       "      <th></th>\n",
       "      <th></th>\n",
       "      <th></th>\n",
       "      <th></th>\n",
       "      <th></th>\n",
       "      <th></th>\n",
       "      <th></th>\n",
       "      <th></th>\n",
       "      <th></th>\n",
       "    </tr>\n",
       "  </thead>\n",
       "  <tbody>\n",
       "    <tr>\n",
       "      <th>Карцев Евгений</th>\n",
       "      <td>32.0</td>\n",
       "      <td>0.7</td>\n",
       "      <td>30.0</td>\n",
       "      <td>32.0</td>\n",
       "      <td>28.0</td>\n",
       "      <td>0.0</td>\n",
       "      <td>0.0</td>\n",
       "      <td>0.0</td>\n",
       "      <td>2095.0</td>\n",
       "      <td>67052.0</td>\n",
       "      <td>10.0</td>\n",
       "      <td>1.0</td>\n",
       "      <td>67052.0</td>\n",
       "      <td>94.0</td>\n",
       "      <td>0</td>\n",
       "      <td>0.0</td>\n",
       "      <td>0.0</td>\n",
       "    </tr>\n",
       "    <tr>\n",
       "      <th>Кузнецова Дарья</th>\n",
       "      <td>656.0</td>\n",
       "      <td>14.6</td>\n",
       "      <td>353.0</td>\n",
       "      <td>306.0</td>\n",
       "      <td>20.0</td>\n",
       "      <td>9.0</td>\n",
       "      <td>185300.0</td>\n",
       "      <td>0.0</td>\n",
       "      <td>10728.0</td>\n",
       "      <td>3282725.0</td>\n",
       "      <td>7.0</td>\n",
       "      <td>3.0</td>\n",
       "      <td>3282725.0</td>\n",
       "      <td>54.0</td>\n",
       "      <td>2</td>\n",
       "      <td>164136250.0</td>\n",
       "      <td>164136250.0</td>\n",
       "    </tr>\n",
       "    <tr>\n",
       "      <th>Шутова Виктория</th>\n",
       "      <td>1055.0</td>\n",
       "      <td>23.5</td>\n",
       "      <td>488.0</td>\n",
       "      <td>448.0</td>\n",
       "      <td>19.0</td>\n",
       "      <td>7.0</td>\n",
       "      <td>300300.0</td>\n",
       "      <td>0.0</td>\n",
       "      <td>5435.0</td>\n",
       "      <td>2435025.0</td>\n",
       "      <td>7.0</td>\n",
       "      <td>3.0</td>\n",
       "      <td>2435025.0</td>\n",
       "      <td>46.0</td>\n",
       "      <td>2</td>\n",
       "      <td>121751250.0</td>\n",
       "      <td>121751250.0</td>\n",
       "    </tr>\n",
       "    <tr>\n",
       "      <th>Симак Наталья</th>\n",
       "      <td>1091.0</td>\n",
       "      <td>24.4</td>\n",
       "      <td>374.0</td>\n",
       "      <td>329.0</td>\n",
       "      <td>3.0</td>\n",
       "      <td>11.0</td>\n",
       "      <td>47350.0</td>\n",
       "      <td>0.0</td>\n",
       "      <td>4378.0</td>\n",
       "      <td>1440340.0</td>\n",
       "      <td>5.0</td>\n",
       "      <td>3.0</td>\n",
       "      <td>1440340.0</td>\n",
       "      <td>34.0</td>\n",
       "      <td>2</td>\n",
       "      <td>72017000.0</td>\n",
       "      <td>72017000.0</td>\n",
       "    </tr>\n",
       "    <tr>\n",
       "      <th>3 Стажер</th>\n",
       "      <td>600.0</td>\n",
       "      <td>13.4</td>\n",
       "      <td>196.0</td>\n",
       "      <td>151.0</td>\n",
       "      <td>5.0</td>\n",
       "      <td>9.0</td>\n",
       "      <td>30300.0</td>\n",
       "      <td>0.0</td>\n",
       "      <td>4435.0</td>\n",
       "      <td>669630.0</td>\n",
       "      <td>5.0</td>\n",
       "      <td>3.0</td>\n",
       "      <td>669630.0</td>\n",
       "      <td>33.0</td>\n",
       "      <td>2</td>\n",
       "      <td>33481500.0</td>\n",
       "      <td>33481500.0</td>\n",
       "    </tr>\n",
       "    <tr>\n",
       "      <th>1 Стажер</th>\n",
       "      <td>728.0</td>\n",
       "      <td>16.2</td>\n",
       "      <td>225.0</td>\n",
       "      <td>190.0</td>\n",
       "      <td>3.0</td>\n",
       "      <td>0.0</td>\n",
       "      <td>0.0</td>\n",
       "      <td>0.0</td>\n",
       "      <td>3189.0</td>\n",
       "      <td>606000.0</td>\n",
       "      <td>6.0</td>\n",
       "      <td>2.0</td>\n",
       "      <td>606000.0</td>\n",
       "      <td>31.0</td>\n",
       "      <td>0</td>\n",
       "      <td>0.0</td>\n",
       "      <td>0.0</td>\n",
       "    </tr>\n",
       "    <tr>\n",
       "      <th>Чепрасова Ольга</th>\n",
       "      <td>144.0</td>\n",
       "      <td>3.2</td>\n",
       "      <td>45.0</td>\n",
       "      <td>42.0</td>\n",
       "      <td>14.0</td>\n",
       "      <td>0.0</td>\n",
       "      <td>0.0</td>\n",
       "      <td>0.0</td>\n",
       "      <td>6474.0</td>\n",
       "      <td>271902.0</td>\n",
       "      <td>10.0</td>\n",
       "      <td>7.0</td>\n",
       "      <td>271902.0</td>\n",
       "      <td>31.0</td>\n",
       "      <td>2</td>\n",
       "      <td>13595100.0</td>\n",
       "      <td>13595100.0</td>\n",
       "    </tr>\n",
       "    <tr>\n",
       "      <th>2 Стажер</th>\n",
       "      <td>54.0</td>\n",
       "      <td>1.2</td>\n",
       "      <td>11.0</td>\n",
       "      <td>9.0</td>\n",
       "      <td>0.0</td>\n",
       "      <td>0.0</td>\n",
       "      <td>0.0</td>\n",
       "      <td>0.0</td>\n",
       "      <td>4523.0</td>\n",
       "      <td>40705.0</td>\n",
       "      <td>5.0</td>\n",
       "      <td>2.0</td>\n",
       "      <td>40705.0</td>\n",
       "      <td>20.0</td>\n",
       "      <td>0</td>\n",
       "      <td>0.0</td>\n",
       "      <td>0.0</td>\n",
       "    </tr>\n",
       "    <tr>\n",
       "      <th>Соколов Александр</th>\n",
       "      <td>66.0</td>\n",
       "      <td>1.5</td>\n",
       "      <td>10.0</td>\n",
       "      <td>6.0</td>\n",
       "      <td>0.0</td>\n",
       "      <td>1.0</td>\n",
       "      <td>9600.0</td>\n",
       "      <td>0.0</td>\n",
       "      <td>9679.0</td>\n",
       "      <td>58072.0</td>\n",
       "      <td>3.0</td>\n",
       "      <td>1.0</td>\n",
       "      <td>58072.0</td>\n",
       "      <td>15.0</td>\n",
       "      <td>0</td>\n",
       "      <td>0.0</td>\n",
       "      <td>0.0</td>\n",
       "    </tr>\n",
       "    <tr>\n",
       "      <th>Елена Смоликова</th>\n",
       "      <td>16.0</td>\n",
       "      <td>0.4</td>\n",
       "      <td>2.0</td>\n",
       "      <td>0.0</td>\n",
       "      <td>0.0</td>\n",
       "      <td>2.0</td>\n",
       "      <td>3000.0</td>\n",
       "      <td>0.0</td>\n",
       "      <td>0.0</td>\n",
       "      <td>0.0</td>\n",
       "      <td>0.0</td>\n",
       "      <td>0.0</td>\n",
       "      <td>0.0</td>\n",
       "      <td>12.0</td>\n",
       "      <td>0</td>\n",
       "      <td>0.0</td>\n",
       "      <td>0.0</td>\n",
       "    </tr>\n",
       "    <tr>\n",
       "      <th>Алина</th>\n",
       "      <td>38.0</td>\n",
       "      <td>0.8</td>\n",
       "      <td>3.0</td>\n",
       "      <td>3.0</td>\n",
       "      <td>0.0</td>\n",
       "      <td>3.0</td>\n",
       "      <td>4700.0</td>\n",
       "      <td>0.0</td>\n",
       "      <td>5033.0</td>\n",
       "      <td>15100.0</td>\n",
       "      <td>7.0</td>\n",
       "      <td>7.0</td>\n",
       "      <td>15100.0</td>\n",
       "      <td>8.0</td>\n",
       "      <td>0</td>\n",
       "      <td>0.0</td>\n",
       "      <td>0.0</td>\n",
       "    </tr>\n",
       "    <tr>\n",
       "      <th>Алина</th>\n",
       "      <td>0.0</td>\n",
       "      <td>0.0</td>\n",
       "      <td>0.0</td>\n",
       "      <td>0.0</td>\n",
       "      <td>0.0</td>\n",
       "      <td>0.0</td>\n",
       "      <td>0.0</td>\n",
       "      <td>0.0</td>\n",
       "      <td>0.0</td>\n",
       "      <td>0.0</td>\n",
       "      <td>0.0</td>\n",
       "      <td>0.0</td>\n",
       "      <td>0.0</td>\n",
       "      <td>0.0</td>\n",
       "      <td>2</td>\n",
       "      <td>0.0</td>\n",
       "      <td>0.0</td>\n",
       "    </tr>\n",
       "    <tr>\n",
       "      <th>ВСЕГО</th>\n",
       "      <td>4480.0</td>\n",
       "      <td>100.0</td>\n",
       "      <td>1737.0</td>\n",
       "      <td>1516.0</td>\n",
       "      <td>12.8</td>\n",
       "      <td>42.0</td>\n",
       "      <td>580550.0</td>\n",
       "      <td>0.0</td>\n",
       "      <td>5862.0</td>\n",
       "      <td>8886551.0</td>\n",
       "      <td>6.9</td>\n",
       "      <td>3.0</td>\n",
       "      <td>8886551.0</td>\n",
       "      <td>39.0</td>\n",
       "      <td>12</td>\n",
       "      <td>74054591.7</td>\n",
       "      <td>74054591.7</td>\n",
       "    </tr>\n",
       "  </tbody>\n",
       "</table>\n",
       "</div>"
      ],
      "text/plain": [
       "                   новых  новых (%)  броней  успешных  K_повт  \\\n",
       "МЕНЕДЖЕР                                                        \n",
       "Карцев Евгений      32.0        0.7    30.0      32.0    28.0   \n",
       "Кузнецова Дарья    656.0       14.6   353.0     306.0    20.0   \n",
       "Шутова Виктория   1055.0       23.5   488.0     448.0    19.0   \n",
       "Симак Наталья     1091.0       24.4   374.0     329.0     3.0   \n",
       "3 Стажер           600.0       13.4   196.0     151.0     5.0   \n",
       "1 Стажер           728.0       16.2   225.0     190.0     3.0   \n",
       "Чепрасова Ольга    144.0        3.2    45.0      42.0    14.0   \n",
       "2 Стажер            54.0        1.2    11.0       9.0     0.0   \n",
       "Соколов Александр   66.0        1.5    10.0       6.0     0.0   \n",
       " Елена Смоликова    16.0        0.4     2.0       0.0     0.0   \n",
       " Алина              38.0        0.8     3.0       3.0     0.0   \n",
       "Алина                0.0        0.0     0.0       0.0     0.0   \n",
       "ВСЕГО             4480.0      100.0  1737.0    1516.0    12.8   \n",
       "\n",
       "                   потенц. сделок(откр.брони)  потенц. оборот(откр.брони)  \\\n",
       "МЕНЕДЖЕР                                                                    \n",
       "Карцев Евгений                            0.0                         0.0   \n",
       "Кузнецова Дарья                           9.0                    185300.0   \n",
       "Шутова Виктория                           7.0                    300300.0   \n",
       "Симак Наталья                            11.0                     47350.0   \n",
       "3 Стажер                                  9.0                     30300.0   \n",
       "1 Стажер                                  0.0                         0.0   \n",
       "Чепрасова Ольга                           0.0                         0.0   \n",
       "2 Стажер                                  0.0                         0.0   \n",
       "Соколов Александр                         1.0                      9600.0   \n",
       " Елена Смоликова                          2.0                      3000.0   \n",
       " Алина                                    3.0                      4700.0   \n",
       "Алина                                     0.0                         0.0   \n",
       "ВСЕГО                                    42.0                    580550.0   \n",
       "\n",
       "                   потенц. оборот(откр.брони на jun)  Ср.чек  фактич. оборот  \\\n",
       "МЕНЕДЖЕР                                                                       \n",
       "Карцев Евгений                                   0.0  2095.0         67052.0   \n",
       "Кузнецова Дарья                                  0.0 10728.0       3282725.0   \n",
       "Шутова Виктория                                  0.0  5435.0       2435025.0   \n",
       "Симак Наталья                                    0.0  4378.0       1440340.0   \n",
       "3 Стажер                                         0.0  4435.0        669630.0   \n",
       "1 Стажер                                         0.0  3189.0        606000.0   \n",
       "Чепрасова Ольга                                  0.0  6474.0        271902.0   \n",
       "2 Стажер                                         0.0  4523.0         40705.0   \n",
       "Соколов Александр                                0.0  9679.0         58072.0   \n",
       " Елена Смоликова                                 0.0     0.0             0.0   \n",
       " Алина                                           0.0  5033.0         15100.0   \n",
       "Алина                                            0.0     0.0             0.0   \n",
       "ВСЕГО                                            0.0  5862.0       8886551.0   \n",
       "\n",
       "                   средн. цикл аренды  медиан. цикл аренды  прогн.оборот  \\\n",
       "МЕНЕДЖЕР                                                                   \n",
       "Карцев Евгений                   10.0                  1.0       67052.0   \n",
       "Кузнецова Дарья                   7.0                  3.0     3282725.0   \n",
       "Шутова Виктория                   7.0                  3.0     2435025.0   \n",
       "Симак Наталья                     5.0                  3.0     1440340.0   \n",
       "3 Стажер                          5.0                  3.0      669630.0   \n",
       "1 Стажер                          6.0                  2.0      606000.0   \n",
       "Чепрасова Ольга                  10.0                  7.0      271902.0   \n",
       "2 Стажер                          5.0                  2.0       40705.0   \n",
       "Соколов Александр                 3.0                  1.0       58072.0   \n",
       " Елена Смоликова                  0.0                  0.0           0.0   \n",
       " Алина                            7.0                  7.0       15100.0   \n",
       "Алина                             0.0                  0.0           0.0   \n",
       "ВСЕГО                             6.9                  3.0     8886551.0   \n",
       "\n",
       "                   CV_бронь  план  % выполненного плана  \\\n",
       "МЕНЕДЖЕР                                                  \n",
       "Карцев Евгений         94.0     0                   0.0   \n",
       "Кузнецова Дарья        54.0     2           164136250.0   \n",
       "Шутова Виктория        46.0     2           121751250.0   \n",
       "Симак Наталья          34.0     2            72017000.0   \n",
       "3 Стажер               33.0     2            33481500.0   \n",
       "1 Стажер               31.0     0                   0.0   \n",
       "Чепрасова Ольга        31.0     2            13595100.0   \n",
       "2 Стажер               20.0     0                   0.0   \n",
       "Соколов Александр      15.0     0                   0.0   \n",
       " Елена Смоликова       12.0     0                   0.0   \n",
       " Алина                  8.0     0                   0.0   \n",
       "Алина                   0.0     2                   0.0   \n",
       "ВСЕГО                  39.0    12            74054591.7   \n",
       "\n",
       "                   прогноз выполнения плана %  \n",
       "МЕНЕДЖЕР                                       \n",
       "Карцев Евгений                            0.0  \n",
       "Кузнецова Дарья                   164136250.0  \n",
       "Шутова Виктория                   121751250.0  \n",
       "Симак Наталья                      72017000.0  \n",
       "3 Стажер                           33481500.0  \n",
       "1 Стажер                                  0.0  \n",
       "Чепрасова Ольга                    13595100.0  \n",
       "2 Стажер                                  0.0  \n",
       "Соколов Александр                         0.0  \n",
       " Елена Смоликова                          0.0  \n",
       " Алина                                    0.0  \n",
       "Алина                                     0.0  \n",
       "ВСЕГО                              74054591.7  "
      ]
     },
     "metadata": {},
     "output_type": "display_data"
    },
    {
     "name": "stdout",
     "output_type": "stream",
     "text": [
      "\n",
      "\n",
      "\n",
      "\n",
      "\n",
      "\n",
      "------------------ОТЧЕТ отфильтрованный флагом не учитывать в расчете CV \"МЕНЕДЖЕР (прокат)\"-----------------\n"
     ]
    },
    {
     "data": {
      "text/html": [
       "<div>\n",
       "<style scoped>\n",
       "    .dataframe tbody tr th:only-of-type {\n",
       "        vertical-align: middle;\n",
       "    }\n",
       "\n",
       "    .dataframe tbody tr th {\n",
       "        vertical-align: top;\n",
       "    }\n",
       "\n",
       "    .dataframe thead th {\n",
       "        text-align: right;\n",
       "    }\n",
       "</style>\n",
       "<table border=\"1\" class=\"dataframe\">\n",
       "  <thead>\n",
       "    <tr style=\"text-align: right;\">\n",
       "      <th></th>\n",
       "      <th>новых</th>\n",
       "      <th>новых (%)</th>\n",
       "      <th>броней</th>\n",
       "      <th>успешных</th>\n",
       "      <th>K_повт</th>\n",
       "      <th>потенц. сделок(откр.брони)</th>\n",
       "      <th>потенц. оборот(откр.брони)</th>\n",
       "      <th>потенц. оборот(откр.брони на jun)</th>\n",
       "      <th>Ср.чек</th>\n",
       "      <th>фактич. оборот</th>\n",
       "      <th>средн. цикл аренды</th>\n",
       "      <th>медиан. цикл аренды</th>\n",
       "      <th>прогн.оборот</th>\n",
       "      <th>CV_бронь</th>\n",
       "      <th>план</th>\n",
       "      <th>% выполненного плана</th>\n",
       "      <th>прогноз выполнения плана %</th>\n",
       "    </tr>\n",
       "    <tr>\n",
       "      <th>МЕНЕДЖЕР</th>\n",
       "      <th></th>\n",
       "      <th></th>\n",
       "      <th></th>\n",
       "      <th></th>\n",
       "      <th></th>\n",
       "      <th></th>\n",
       "      <th></th>\n",
       "      <th></th>\n",
       "      <th></th>\n",
       "      <th></th>\n",
       "      <th></th>\n",
       "      <th></th>\n",
       "      <th></th>\n",
       "      <th></th>\n",
       "      <th></th>\n",
       "      <th></th>\n",
       "      <th></th>\n",
       "    </tr>\n",
       "  </thead>\n",
       "  <tbody>\n",
       "    <tr>\n",
       "      <th>Карцев Евгений</th>\n",
       "      <td>29.0</td>\n",
       "      <td>0.8</td>\n",
       "      <td>27.0</td>\n",
       "      <td>29.0</td>\n",
       "      <td>31.0</td>\n",
       "      <td>0.0</td>\n",
       "      <td>0.0</td>\n",
       "      <td>0.0</td>\n",
       "      <td>2254.0</td>\n",
       "      <td>65352.0</td>\n",
       "      <td>11.0</td>\n",
       "      <td>1.0</td>\n",
       "      <td>65352.0</td>\n",
       "      <td>93.0</td>\n",
       "      <td>0</td>\n",
       "      <td>0.0</td>\n",
       "      <td>0.0</td>\n",
       "    </tr>\n",
       "    <tr>\n",
       "      <th>Соколов Александр</th>\n",
       "      <td>12.0</td>\n",
       "      <td>0.3</td>\n",
       "      <td>10.0</td>\n",
       "      <td>6.0</td>\n",
       "      <td>0.0</td>\n",
       "      <td>1.0</td>\n",
       "      <td>9600.0</td>\n",
       "      <td>0.0</td>\n",
       "      <td>9679.0</td>\n",
       "      <td>58072.0</td>\n",
       "      <td>3.0</td>\n",
       "      <td>1.0</td>\n",
       "      <td>58072.0</td>\n",
       "      <td>83.0</td>\n",
       "      <td>0</td>\n",
       "      <td>0.0</td>\n",
       "      <td>0.0</td>\n",
       "    </tr>\n",
       "    <tr>\n",
       "      <th>Кузнецова Дарья</th>\n",
       "      <td>553.0</td>\n",
       "      <td>15.4</td>\n",
       "      <td>303.0</td>\n",
       "      <td>269.0</td>\n",
       "      <td>22.0</td>\n",
       "      <td>3.0</td>\n",
       "      <td>51300.0</td>\n",
       "      <td>0.0</td>\n",
       "      <td>7572.0</td>\n",
       "      <td>2036775.0</td>\n",
       "      <td>8.0</td>\n",
       "      <td>3.0</td>\n",
       "      <td>2036775.0</td>\n",
       "      <td>55.0</td>\n",
       "      <td>1</td>\n",
       "      <td>203677500.0</td>\n",
       "      <td>203677500.0</td>\n",
       "    </tr>\n",
       "    <tr>\n",
       "      <th>Шутова Виктория</th>\n",
       "      <td>837.0</td>\n",
       "      <td>23.3</td>\n",
       "      <td>422.0</td>\n",
       "      <td>391.0</td>\n",
       "      <td>21.0</td>\n",
       "      <td>5.0</td>\n",
       "      <td>23300.0</td>\n",
       "      <td>0.0</td>\n",
       "      <td>5016.0</td>\n",
       "      <td>1961375.0</td>\n",
       "      <td>7.0</td>\n",
       "      <td>3.0</td>\n",
       "      <td>1961375.0</td>\n",
       "      <td>50.0</td>\n",
       "      <td>1</td>\n",
       "      <td>196137500.0</td>\n",
       "      <td>196137500.0</td>\n",
       "    </tr>\n",
       "    <tr>\n",
       "      <th>3 Стажер</th>\n",
       "      <td>488.0</td>\n",
       "      <td>13.6</td>\n",
       "      <td>181.0</td>\n",
       "      <td>141.0</td>\n",
       "      <td>6.0</td>\n",
       "      <td>9.0</td>\n",
       "      <td>30300.0</td>\n",
       "      <td>0.0</td>\n",
       "      <td>4528.0</td>\n",
       "      <td>638380.0</td>\n",
       "      <td>5.0</td>\n",
       "      <td>3.0</td>\n",
       "      <td>638380.0</td>\n",
       "      <td>37.0</td>\n",
       "      <td>1</td>\n",
       "      <td>63838000.0</td>\n",
       "      <td>63838000.0</td>\n",
       "    </tr>\n",
       "    <tr>\n",
       "      <th>Симак Наталья</th>\n",
       "      <td>833.0</td>\n",
       "      <td>23.2</td>\n",
       "      <td>306.0</td>\n",
       "      <td>269.0</td>\n",
       "      <td>4.0</td>\n",
       "      <td>8.0</td>\n",
       "      <td>30350.0</td>\n",
       "      <td>0.0</td>\n",
       "      <td>4450.0</td>\n",
       "      <td>1197040.0</td>\n",
       "      <td>6.0</td>\n",
       "      <td>3.0</td>\n",
       "      <td>1197040.0</td>\n",
       "      <td>37.0</td>\n",
       "      <td>1</td>\n",
       "      <td>119704000.0</td>\n",
       "      <td>119704000.0</td>\n",
       "    </tr>\n",
       "    <tr>\n",
       "      <th>1 Стажер</th>\n",
       "      <td>619.0</td>\n",
       "      <td>17.2</td>\n",
       "      <td>212.0</td>\n",
       "      <td>183.0</td>\n",
       "      <td>3.0</td>\n",
       "      <td>0.0</td>\n",
       "      <td>0.0</td>\n",
       "      <td>0.0</td>\n",
       "      <td>3181.0</td>\n",
       "      <td>582100.0</td>\n",
       "      <td>6.0</td>\n",
       "      <td>2.0</td>\n",
       "      <td>582100.0</td>\n",
       "      <td>34.0</td>\n",
       "      <td>0</td>\n",
       "      <td>0.0</td>\n",
       "      <td>0.0</td>\n",
       "    </tr>\n",
       "    <tr>\n",
       "      <th>Чепрасова Ольга</th>\n",
       "      <td>144.0</td>\n",
       "      <td>4.0</td>\n",
       "      <td>45.0</td>\n",
       "      <td>42.0</td>\n",
       "      <td>14.0</td>\n",
       "      <td>0.0</td>\n",
       "      <td>0.0</td>\n",
       "      <td>0.0</td>\n",
       "      <td>6474.0</td>\n",
       "      <td>271902.0</td>\n",
       "      <td>10.0</td>\n",
       "      <td>7.0</td>\n",
       "      <td>271902.0</td>\n",
       "      <td>31.0</td>\n",
       "      <td>1</td>\n",
       "      <td>27190200.0</td>\n",
       "      <td>27190200.0</td>\n",
       "    </tr>\n",
       "    <tr>\n",
       "      <th>2 Стажер</th>\n",
       "      <td>39.0</td>\n",
       "      <td>1.1</td>\n",
       "      <td>9.0</td>\n",
       "      <td>8.0</td>\n",
       "      <td>0.0</td>\n",
       "      <td>0.0</td>\n",
       "      <td>0.0</td>\n",
       "      <td>0.0</td>\n",
       "      <td>4651.0</td>\n",
       "      <td>37205.0</td>\n",
       "      <td>6.0</td>\n",
       "      <td>2.0</td>\n",
       "      <td>37205.0</td>\n",
       "      <td>23.0</td>\n",
       "      <td>0</td>\n",
       "      <td>0.0</td>\n",
       "      <td>0.0</td>\n",
       "    </tr>\n",
       "    <tr>\n",
       "      <th>Елена Смоликова</th>\n",
       "      <td>11.0</td>\n",
       "      <td>0.3</td>\n",
       "      <td>2.0</td>\n",
       "      <td>0.0</td>\n",
       "      <td>0.0</td>\n",
       "      <td>2.0</td>\n",
       "      <td>3000.0</td>\n",
       "      <td>0.0</td>\n",
       "      <td>0.0</td>\n",
       "      <td>0.0</td>\n",
       "      <td>0.0</td>\n",
       "      <td>0.0</td>\n",
       "      <td>0.0</td>\n",
       "      <td>18.0</td>\n",
       "      <td>0</td>\n",
       "      <td>0.0</td>\n",
       "      <td>0.0</td>\n",
       "    </tr>\n",
       "    <tr>\n",
       "      <th>Алина</th>\n",
       "      <td>24.0</td>\n",
       "      <td>0.7</td>\n",
       "      <td>3.0</td>\n",
       "      <td>3.0</td>\n",
       "      <td>0.0</td>\n",
       "      <td>3.0</td>\n",
       "      <td>4700.0</td>\n",
       "      <td>0.0</td>\n",
       "      <td>5033.0</td>\n",
       "      <td>15100.0</td>\n",
       "      <td>7.0</td>\n",
       "      <td>7.0</td>\n",
       "      <td>15100.0</td>\n",
       "      <td>12.0</td>\n",
       "      <td>0</td>\n",
       "      <td>0.0</td>\n",
       "      <td>0.0</td>\n",
       "    </tr>\n",
       "    <tr>\n",
       "      <th>Алина</th>\n",
       "      <td>0.0</td>\n",
       "      <td>0.0</td>\n",
       "      <td>0.0</td>\n",
       "      <td>0.0</td>\n",
       "      <td>0.0</td>\n",
       "      <td>0.0</td>\n",
       "      <td>0.0</td>\n",
       "      <td>0.0</td>\n",
       "      <td>0.0</td>\n",
       "      <td>0.0</td>\n",
       "      <td>0.0</td>\n",
       "      <td>0.0</td>\n",
       "      <td>0.0</td>\n",
       "      <td>0.0</td>\n",
       "      <td>1</td>\n",
       "      <td>0.0</td>\n",
       "      <td>0.0</td>\n",
       "    </tr>\n",
       "    <tr>\n",
       "      <th>ВСЕГО</th>\n",
       "      <td>3589.0</td>\n",
       "      <td>100.0</td>\n",
       "      <td>1520.0</td>\n",
       "      <td>1341.0</td>\n",
       "      <td>14.1</td>\n",
       "      <td>31.0</td>\n",
       "      <td>152550.0</td>\n",
       "      <td>0.0</td>\n",
       "      <td>5118.0</td>\n",
       "      <td>6863301.0</td>\n",
       "      <td>7.2</td>\n",
       "      <td>3.0</td>\n",
       "      <td>6863301.0</td>\n",
       "      <td>42.0</td>\n",
       "      <td>6</td>\n",
       "      <td>114388350.0</td>\n",
       "      <td>114388350.0</td>\n",
       "    </tr>\n",
       "  </tbody>\n",
       "</table>\n",
       "</div>"
      ],
      "text/plain": [
       "                   новых  новых (%)  броней  успешных  K_повт  \\\n",
       "МЕНЕДЖЕР                                                        \n",
       "Карцев Евгений      29.0        0.8    27.0      29.0    31.0   \n",
       "Соколов Александр   12.0        0.3    10.0       6.0     0.0   \n",
       "Кузнецова Дарья    553.0       15.4   303.0     269.0    22.0   \n",
       "Шутова Виктория    837.0       23.3   422.0     391.0    21.0   \n",
       "3 Стажер           488.0       13.6   181.0     141.0     6.0   \n",
       "Симак Наталья      833.0       23.2   306.0     269.0     4.0   \n",
       "1 Стажер           619.0       17.2   212.0     183.0     3.0   \n",
       "Чепрасова Ольга    144.0        4.0    45.0      42.0    14.0   \n",
       "2 Стажер            39.0        1.1     9.0       8.0     0.0   \n",
       " Елена Смоликова    11.0        0.3     2.0       0.0     0.0   \n",
       " Алина              24.0        0.7     3.0       3.0     0.0   \n",
       "Алина                0.0        0.0     0.0       0.0     0.0   \n",
       "ВСЕГО             3589.0      100.0  1520.0    1341.0    14.1   \n",
       "\n",
       "                   потенц. сделок(откр.брони)  потенц. оборот(откр.брони)  \\\n",
       "МЕНЕДЖЕР                                                                    \n",
       "Карцев Евгений                            0.0                         0.0   \n",
       "Соколов Александр                         1.0                      9600.0   \n",
       "Кузнецова Дарья                           3.0                     51300.0   \n",
       "Шутова Виктория                           5.0                     23300.0   \n",
       "3 Стажер                                  9.0                     30300.0   \n",
       "Симак Наталья                             8.0                     30350.0   \n",
       "1 Стажер                                  0.0                         0.0   \n",
       "Чепрасова Ольга                           0.0                         0.0   \n",
       "2 Стажер                                  0.0                         0.0   \n",
       " Елена Смоликова                          2.0                      3000.0   \n",
       " Алина                                    3.0                      4700.0   \n",
       "Алина                                     0.0                         0.0   \n",
       "ВСЕГО                                    31.0                    152550.0   \n",
       "\n",
       "                   потенц. оборот(откр.брони на jun)  Ср.чек  фактич. оборот  \\\n",
       "МЕНЕДЖЕР                                                                       \n",
       "Карцев Евгений                                   0.0  2254.0         65352.0   \n",
       "Соколов Александр                                0.0  9679.0         58072.0   \n",
       "Кузнецова Дарья                                  0.0  7572.0       2036775.0   \n",
       "Шутова Виктория                                  0.0  5016.0       1961375.0   \n",
       "3 Стажер                                         0.0  4528.0        638380.0   \n",
       "Симак Наталья                                    0.0  4450.0       1197040.0   \n",
       "1 Стажер                                         0.0  3181.0        582100.0   \n",
       "Чепрасова Ольга                                  0.0  6474.0        271902.0   \n",
       "2 Стажер                                         0.0  4651.0         37205.0   \n",
       " Елена Смоликова                                 0.0     0.0             0.0   \n",
       " Алина                                           0.0  5033.0         15100.0   \n",
       "Алина                                            0.0     0.0             0.0   \n",
       "ВСЕГО                                            0.0  5118.0       6863301.0   \n",
       "\n",
       "                   средн. цикл аренды  медиан. цикл аренды  прогн.оборот  \\\n",
       "МЕНЕДЖЕР                                                                   \n",
       "Карцев Евгений                   11.0                  1.0       65352.0   \n",
       "Соколов Александр                 3.0                  1.0       58072.0   \n",
       "Кузнецова Дарья                   8.0                  3.0     2036775.0   \n",
       "Шутова Виктория                   7.0                  3.0     1961375.0   \n",
       "3 Стажер                          5.0                  3.0      638380.0   \n",
       "Симак Наталья                     6.0                  3.0     1197040.0   \n",
       "1 Стажер                          6.0                  2.0      582100.0   \n",
       "Чепрасова Ольга                  10.0                  7.0      271902.0   \n",
       "2 Стажер                          6.0                  2.0       37205.0   \n",
       " Елена Смоликова                  0.0                  0.0           0.0   \n",
       " Алина                            7.0                  7.0       15100.0   \n",
       "Алина                             0.0                  0.0           0.0   \n",
       "ВСЕГО                             7.2                  3.0     6863301.0   \n",
       "\n",
       "                   CV_бронь  план  % выполненного плана  \\\n",
       "МЕНЕДЖЕР                                                  \n",
       "Карцев Евгений         93.0     0                   0.0   \n",
       "Соколов Александр      83.0     0                   0.0   \n",
       "Кузнецова Дарья        55.0     1           203677500.0   \n",
       "Шутова Виктория        50.0     1           196137500.0   \n",
       "3 Стажер               37.0     1            63838000.0   \n",
       "Симак Наталья          37.0     1           119704000.0   \n",
       "1 Стажер               34.0     0                   0.0   \n",
       "Чепрасова Ольга        31.0     1            27190200.0   \n",
       "2 Стажер               23.0     0                   0.0   \n",
       " Елена Смоликова       18.0     0                   0.0   \n",
       " Алина                 12.0     0                   0.0   \n",
       "Алина                   0.0     1                   0.0   \n",
       "ВСЕГО                  42.0     6           114388350.0   \n",
       "\n",
       "                   прогноз выполнения плана %  \n",
       "МЕНЕДЖЕР                                       \n",
       "Карцев Евгений                            0.0  \n",
       "Соколов Александр                         0.0  \n",
       "Кузнецова Дарья                   203677500.0  \n",
       "Шутова Виктория                   196137500.0  \n",
       "3 Стажер                           63838000.0  \n",
       "Симак Наталья                     119704000.0  \n",
       "1 Стажер                                  0.0  \n",
       "Чепрасова Ольга                    27190200.0  \n",
       "2 Стажер                                  0.0  \n",
       " Елена Смоликова                          0.0  \n",
       " Алина                                    0.0  \n",
       "Алина                                     0.0  \n",
       "ВСЕГО                             114388350.0  "
      ]
     },
     "metadata": {},
     "output_type": "display_data"
    },
    {
     "name": "stdout",
     "output_type": "stream",
     "text": [
      "\n",
      "\n",
      "\n",
      "\n",
      "\n",
      "\n",
      "------------------ОТЧЕТ отфильтрованный флагом не учитывать в расчете CV \"МЕНЕДЖЕР (event)\"-----------------\n"
     ]
    },
    {
     "data": {
      "text/html": [
       "<div>\n",
       "<style scoped>\n",
       "    .dataframe tbody tr th:only-of-type {\n",
       "        vertical-align: middle;\n",
       "    }\n",
       "\n",
       "    .dataframe tbody tr th {\n",
       "        vertical-align: top;\n",
       "    }\n",
       "\n",
       "    .dataframe thead th {\n",
       "        text-align: right;\n",
       "    }\n",
       "</style>\n",
       "<table border=\"1\" class=\"dataframe\">\n",
       "  <thead>\n",
       "    <tr style=\"text-align: right;\">\n",
       "      <th></th>\n",
       "      <th>новых</th>\n",
       "      <th>новых (%)</th>\n",
       "      <th>броней</th>\n",
       "      <th>успешных</th>\n",
       "      <th>K_повт</th>\n",
       "      <th>потенц. сделок(откр.брони)</th>\n",
       "      <th>потенц. оборот(откр.брони)</th>\n",
       "      <th>потенц. оборот(откр.брони на jun)</th>\n",
       "      <th>Ср.чек</th>\n",
       "      <th>фактич. оборот</th>\n",
       "      <th>средн. цикл аренды</th>\n",
       "      <th>медиан. цикл аренды</th>\n",
       "      <th>прогн.оборот</th>\n",
       "      <th>CV_бронь</th>\n",
       "      <th>план</th>\n",
       "      <th>% выполненного плана</th>\n",
       "      <th>прогноз выполнения плана %</th>\n",
       "    </tr>\n",
       "    <tr>\n",
       "      <th>МЕНЕДЖЕР</th>\n",
       "      <th></th>\n",
       "      <th></th>\n",
       "      <th></th>\n",
       "      <th></th>\n",
       "      <th></th>\n",
       "      <th></th>\n",
       "      <th></th>\n",
       "      <th></th>\n",
       "      <th></th>\n",
       "      <th></th>\n",
       "      <th></th>\n",
       "      <th></th>\n",
       "      <th></th>\n",
       "      <th></th>\n",
       "      <th></th>\n",
       "      <th></th>\n",
       "      <th></th>\n",
       "    </tr>\n",
       "  </thead>\n",
       "  <tbody>\n",
       "    <tr>\n",
       "      <th>Шутова Виктория</th>\n",
       "      <td>14.0</td>\n",
       "      <td>25.9</td>\n",
       "      <td>15.0</td>\n",
       "      <td>12.0</td>\n",
       "      <td>16.0</td>\n",
       "      <td>2.0</td>\n",
       "      <td>277000.0</td>\n",
       "      <td>0.0</td>\n",
       "      <td>26742.0</td>\n",
       "      <td>320900.0</td>\n",
       "      <td>0.0</td>\n",
       "      <td>0.0</td>\n",
       "      <td>320900.0</td>\n",
       "      <td>107.0</td>\n",
       "      <td>1</td>\n",
       "      <td>32090000.0</td>\n",
       "      <td>32090000.0</td>\n",
       "    </tr>\n",
       "    <tr>\n",
       "      <th>1 Стажер</th>\n",
       "      <td>1.0</td>\n",
       "      <td>1.9</td>\n",
       "      <td>1.0</td>\n",
       "      <td>0.0</td>\n",
       "      <td>0.0</td>\n",
       "      <td>0.0</td>\n",
       "      <td>0.0</td>\n",
       "      <td>0.0</td>\n",
       "      <td>0.0</td>\n",
       "      <td>0.0</td>\n",
       "      <td>0.0</td>\n",
       "      <td>0.0</td>\n",
       "      <td>0.0</td>\n",
       "      <td>100.0</td>\n",
       "      <td>0</td>\n",
       "      <td>0.0</td>\n",
       "      <td>0.0</td>\n",
       "    </tr>\n",
       "    <tr>\n",
       "      <th>Кузнецова Дарья</th>\n",
       "      <td>34.0</td>\n",
       "      <td>63.0</td>\n",
       "      <td>33.0</td>\n",
       "      <td>22.0</td>\n",
       "      <td>13.0</td>\n",
       "      <td>6.0</td>\n",
       "      <td>134000.0</td>\n",
       "      <td>0.0</td>\n",
       "      <td>54339.0</td>\n",
       "      <td>1195450.0</td>\n",
       "      <td>1.0</td>\n",
       "      <td>0.0</td>\n",
       "      <td>1195450.0</td>\n",
       "      <td>97.0</td>\n",
       "      <td>1</td>\n",
       "      <td>119545000.0</td>\n",
       "      <td>119545000.0</td>\n",
       "    </tr>\n",
       "    <tr>\n",
       "      <th>Симак Наталья</th>\n",
       "      <td>3.0</td>\n",
       "      <td>5.6</td>\n",
       "      <td>2.0</td>\n",
       "      <td>1.0</td>\n",
       "      <td>0.0</td>\n",
       "      <td>2.0</td>\n",
       "      <td>13300.0</td>\n",
       "      <td>0.0</td>\n",
       "      <td>45000.0</td>\n",
       "      <td>45000.0</td>\n",
       "      <td>3.0</td>\n",
       "      <td>3.0</td>\n",
       "      <td>45000.0</td>\n",
       "      <td>67.0</td>\n",
       "      <td>1</td>\n",
       "      <td>4500000.0</td>\n",
       "      <td>4500000.0</td>\n",
       "    </tr>\n",
       "    <tr>\n",
       "      <th>3 Стажер</th>\n",
       "      <td>2.0</td>\n",
       "      <td>3.7</td>\n",
       "      <td>1.0</td>\n",
       "      <td>0.0</td>\n",
       "      <td>0.0</td>\n",
       "      <td>0.0</td>\n",
       "      <td>0.0</td>\n",
       "      <td>0.0</td>\n",
       "      <td>0.0</td>\n",
       "      <td>0.0</td>\n",
       "      <td>0.0</td>\n",
       "      <td>0.0</td>\n",
       "      <td>0.0</td>\n",
       "      <td>50.0</td>\n",
       "      <td>1</td>\n",
       "      <td>0.0</td>\n",
       "      <td>0.0</td>\n",
       "    </tr>\n",
       "    <tr>\n",
       "      <th>Алина</th>\n",
       "      <td>0.0</td>\n",
       "      <td>0.0</td>\n",
       "      <td>0.0</td>\n",
       "      <td>0.0</td>\n",
       "      <td>0.0</td>\n",
       "      <td>0.0</td>\n",
       "      <td>0.0</td>\n",
       "      <td>0.0</td>\n",
       "      <td>0.0</td>\n",
       "      <td>0.0</td>\n",
       "      <td>0.0</td>\n",
       "      <td>0.0</td>\n",
       "      <td>0.0</td>\n",
       "      <td>0.0</td>\n",
       "      <td>1</td>\n",
       "      <td>0.0</td>\n",
       "      <td>0.0</td>\n",
       "    </tr>\n",
       "    <tr>\n",
       "      <th>Чепрасова Ольга</th>\n",
       "      <td>0.0</td>\n",
       "      <td>0.0</td>\n",
       "      <td>0.0</td>\n",
       "      <td>0.0</td>\n",
       "      <td>0.0</td>\n",
       "      <td>0.0</td>\n",
       "      <td>0.0</td>\n",
       "      <td>0.0</td>\n",
       "      <td>0.0</td>\n",
       "      <td>0.0</td>\n",
       "      <td>0.0</td>\n",
       "      <td>0.0</td>\n",
       "      <td>0.0</td>\n",
       "      <td>0.0</td>\n",
       "      <td>1</td>\n",
       "      <td>0.0</td>\n",
       "      <td>0.0</td>\n",
       "    </tr>\n",
       "    <tr>\n",
       "      <th>ВСЕГО</th>\n",
       "      <td>54.0</td>\n",
       "      <td>100.0</td>\n",
       "      <td>52.0</td>\n",
       "      <td>35.0</td>\n",
       "      <td>14.3</td>\n",
       "      <td>10.0</td>\n",
       "      <td>424300.0</td>\n",
       "      <td>0.0</td>\n",
       "      <td>44610.0</td>\n",
       "      <td>1561350.0</td>\n",
       "      <td>1.2</td>\n",
       "      <td>0.0</td>\n",
       "      <td>1561350.0</td>\n",
       "      <td>96.0</td>\n",
       "      <td>6</td>\n",
       "      <td>26022500.0</td>\n",
       "      <td>26022500.0</td>\n",
       "    </tr>\n",
       "  </tbody>\n",
       "</table>\n",
       "</div>"
      ],
      "text/plain": [
       "                 новых  новых (%)  броней  успешных  K_повт  \\\n",
       "МЕНЕДЖЕР                                                      \n",
       "Шутова Виктория   14.0       25.9    15.0      12.0    16.0   \n",
       "1 Стажер           1.0        1.9     1.0       0.0     0.0   \n",
       "Кузнецова Дарья   34.0       63.0    33.0      22.0    13.0   \n",
       "Симак Наталья      3.0        5.6     2.0       1.0     0.0   \n",
       "3 Стажер           2.0        3.7     1.0       0.0     0.0   \n",
       "Алина              0.0        0.0     0.0       0.0     0.0   \n",
       "Чепрасова Ольга    0.0        0.0     0.0       0.0     0.0   \n",
       "ВСЕГО             54.0      100.0    52.0      35.0    14.3   \n",
       "\n",
       "                 потенц. сделок(откр.брони)  потенц. оборот(откр.брони)  \\\n",
       "МЕНЕДЖЕР                                                                  \n",
       "Шутова Виктория                         2.0                    277000.0   \n",
       "1 Стажер                                0.0                         0.0   \n",
       "Кузнецова Дарья                         6.0                    134000.0   \n",
       "Симак Наталья                           2.0                     13300.0   \n",
       "3 Стажер                                0.0                         0.0   \n",
       "Алина                                   0.0                         0.0   \n",
       "Чепрасова Ольга                         0.0                         0.0   \n",
       "ВСЕГО                                  10.0                    424300.0   \n",
       "\n",
       "                 потенц. оборот(откр.брони на jun)  Ср.чек  фактич. оборот  \\\n",
       "МЕНЕДЖЕР                                                                     \n",
       "Шутова Виктория                                0.0 26742.0        320900.0   \n",
       "1 Стажер                                       0.0     0.0             0.0   \n",
       "Кузнецова Дарья                                0.0 54339.0       1195450.0   \n",
       "Симак Наталья                                  0.0 45000.0         45000.0   \n",
       "3 Стажер                                       0.0     0.0             0.0   \n",
       "Алина                                          0.0     0.0             0.0   \n",
       "Чепрасова Ольга                                0.0     0.0             0.0   \n",
       "ВСЕГО                                          0.0 44610.0       1561350.0   \n",
       "\n",
       "                 средн. цикл аренды  медиан. цикл аренды  прогн.оборот  \\\n",
       "МЕНЕДЖЕР                                                                 \n",
       "Шутова Виктория                 0.0                  0.0      320900.0   \n",
       "1 Стажер                        0.0                  0.0           0.0   \n",
       "Кузнецова Дарья                 1.0                  0.0     1195450.0   \n",
       "Симак Наталья                   3.0                  3.0       45000.0   \n",
       "3 Стажер                        0.0                  0.0           0.0   \n",
       "Алина                           0.0                  0.0           0.0   \n",
       "Чепрасова Ольга                 0.0                  0.0           0.0   \n",
       "ВСЕГО                           1.2                  0.0     1561350.0   \n",
       "\n",
       "                 CV_бронь  план  % выполненного плана  \\\n",
       "МЕНЕДЖЕР                                                \n",
       "Шутова Виктория     107.0     1            32090000.0   \n",
       "1 Стажер            100.0     0                   0.0   \n",
       "Кузнецова Дарья      97.0     1           119545000.0   \n",
       "Симак Наталья        67.0     1             4500000.0   \n",
       "3 Стажер             50.0     1                   0.0   \n",
       "Алина                 0.0     1                   0.0   \n",
       "Чепрасова Ольга       0.0     1                   0.0   \n",
       "ВСЕГО                96.0     6            26022500.0   \n",
       "\n",
       "                 прогноз выполнения плана %  \n",
       "МЕНЕДЖЕР                                     \n",
       "Шутова Виктория                  32090000.0  \n",
       "1 Стажер                                0.0  \n",
       "Кузнецова Дарья                 119545000.0  \n",
       "Симак Наталья                     4500000.0  \n",
       "3 Стажер                                0.0  \n",
       "Алина                                   0.0  \n",
       "Чепрасова Ольга                         0.0  \n",
       "ВСЕГО                            26022500.0  "
      ]
     },
     "metadata": {},
     "output_type": "display_data"
    },
    {
     "name": "stdout",
     "output_type": "stream",
     "text": [
      "\n",
      "\n",
      "\n",
      "\n",
      "\n",
      "\n",
      "------------------ОТЧЕТ отфильтрованный флагом не учитывать в расчете CV \"МЕНЕДЖЕР (прокат + event)\"-----------------\n"
     ]
    },
    {
     "data": {
      "text/html": [
       "<div>\n",
       "<style scoped>\n",
       "    .dataframe tbody tr th:only-of-type {\n",
       "        vertical-align: middle;\n",
       "    }\n",
       "\n",
       "    .dataframe tbody tr th {\n",
       "        vertical-align: top;\n",
       "    }\n",
       "\n",
       "    .dataframe thead th {\n",
       "        text-align: right;\n",
       "    }\n",
       "</style>\n",
       "<table border=\"1\" class=\"dataframe\">\n",
       "  <thead>\n",
       "    <tr style=\"text-align: right;\">\n",
       "      <th></th>\n",
       "      <th>новых</th>\n",
       "      <th>новых (%)</th>\n",
       "      <th>броней</th>\n",
       "      <th>успешных</th>\n",
       "      <th>K_повт</th>\n",
       "      <th>потенц. сделок(откр.брони)</th>\n",
       "      <th>потенц. оборот(откр.брони)</th>\n",
       "      <th>потенц. оборот(откр.брони на jun)</th>\n",
       "      <th>Ср.чек</th>\n",
       "      <th>фактич. оборот</th>\n",
       "      <th>средн. цикл аренды</th>\n",
       "      <th>медиан. цикл аренды</th>\n",
       "      <th>прогн.оборот</th>\n",
       "      <th>CV_бронь</th>\n",
       "      <th>план</th>\n",
       "      <th>% выполненного плана</th>\n",
       "      <th>прогноз выполнения плана %</th>\n",
       "    </tr>\n",
       "    <tr>\n",
       "      <th>МЕНЕДЖЕР</th>\n",
       "      <th></th>\n",
       "      <th></th>\n",
       "      <th></th>\n",
       "      <th></th>\n",
       "      <th></th>\n",
       "      <th></th>\n",
       "      <th></th>\n",
       "      <th></th>\n",
       "      <th></th>\n",
       "      <th></th>\n",
       "      <th></th>\n",
       "      <th></th>\n",
       "      <th></th>\n",
       "      <th></th>\n",
       "      <th></th>\n",
       "      <th></th>\n",
       "      <th></th>\n",
       "    </tr>\n",
       "  </thead>\n",
       "  <tbody>\n",
       "    <tr>\n",
       "      <th>Карцев Евгений</th>\n",
       "      <td>29.0</td>\n",
       "      <td>0.8</td>\n",
       "      <td>27.0</td>\n",
       "      <td>29.0</td>\n",
       "      <td>31.0</td>\n",
       "      <td>0.0</td>\n",
       "      <td>0.0</td>\n",
       "      <td>0.0</td>\n",
       "      <td>2254.0</td>\n",
       "      <td>65352.0</td>\n",
       "      <td>11.0</td>\n",
       "      <td>1.0</td>\n",
       "      <td>65352.0</td>\n",
       "      <td>93.0</td>\n",
       "      <td>0</td>\n",
       "      <td>0.0</td>\n",
       "      <td>0.0</td>\n",
       "    </tr>\n",
       "    <tr>\n",
       "      <th>Кузнецова Дарья</th>\n",
       "      <td>587.0</td>\n",
       "      <td>15.9</td>\n",
       "      <td>336.0</td>\n",
       "      <td>291.0</td>\n",
       "      <td>21.0</td>\n",
       "      <td>9.0</td>\n",
       "      <td>185300.0</td>\n",
       "      <td>0.0</td>\n",
       "      <td>11107.0</td>\n",
       "      <td>3232225.0</td>\n",
       "      <td>8.0</td>\n",
       "      <td>3.0</td>\n",
       "      <td>3232225.0</td>\n",
       "      <td>57.0</td>\n",
       "      <td>2</td>\n",
       "      <td>161611250.0</td>\n",
       "      <td>161611250.0</td>\n",
       "    </tr>\n",
       "    <tr>\n",
       "      <th>Шутова Виктория</th>\n",
       "      <td>851.0</td>\n",
       "      <td>23.0</td>\n",
       "      <td>437.0</td>\n",
       "      <td>403.0</td>\n",
       "      <td>21.0</td>\n",
       "      <td>7.0</td>\n",
       "      <td>300300.0</td>\n",
       "      <td>0.0</td>\n",
       "      <td>5663.0</td>\n",
       "      <td>2282275.0</td>\n",
       "      <td>7.0</td>\n",
       "      <td>3.0</td>\n",
       "      <td>2282275.0</td>\n",
       "      <td>51.0</td>\n",
       "      <td>2</td>\n",
       "      <td>114113750.0</td>\n",
       "      <td>114113750.0</td>\n",
       "    </tr>\n",
       "    <tr>\n",
       "      <th>3 Стажер</th>\n",
       "      <td>491.0</td>\n",
       "      <td>13.3</td>\n",
       "      <td>182.0</td>\n",
       "      <td>141.0</td>\n",
       "      <td>6.0</td>\n",
       "      <td>9.0</td>\n",
       "      <td>30300.0</td>\n",
       "      <td>0.0</td>\n",
       "      <td>4528.0</td>\n",
       "      <td>638380.0</td>\n",
       "      <td>5.0</td>\n",
       "      <td>3.0</td>\n",
       "      <td>638380.0</td>\n",
       "      <td>37.0</td>\n",
       "      <td>2</td>\n",
       "      <td>31919000.0</td>\n",
       "      <td>31919000.0</td>\n",
       "    </tr>\n",
       "    <tr>\n",
       "      <th>Симак Наталья</th>\n",
       "      <td>838.0</td>\n",
       "      <td>22.6</td>\n",
       "      <td>308.0</td>\n",
       "      <td>270.0</td>\n",
       "      <td>4.0</td>\n",
       "      <td>10.0</td>\n",
       "      <td>43650.0</td>\n",
       "      <td>0.0</td>\n",
       "      <td>4600.0</td>\n",
       "      <td>1242040.0</td>\n",
       "      <td>6.0</td>\n",
       "      <td>3.0</td>\n",
       "      <td>1242040.0</td>\n",
       "      <td>37.0</td>\n",
       "      <td>2</td>\n",
       "      <td>62102000.0</td>\n",
       "      <td>62102000.0</td>\n",
       "    </tr>\n",
       "    <tr>\n",
       "      <th>1 Стажер</th>\n",
       "      <td>620.0</td>\n",
       "      <td>16.8</td>\n",
       "      <td>213.0</td>\n",
       "      <td>183.0</td>\n",
       "      <td>3.0</td>\n",
       "      <td>0.0</td>\n",
       "      <td>0.0</td>\n",
       "      <td>0.0</td>\n",
       "      <td>3181.0</td>\n",
       "      <td>582100.0</td>\n",
       "      <td>6.0</td>\n",
       "      <td>2.0</td>\n",
       "      <td>582100.0</td>\n",
       "      <td>34.0</td>\n",
       "      <td>0</td>\n",
       "      <td>0.0</td>\n",
       "      <td>0.0</td>\n",
       "    </tr>\n",
       "    <tr>\n",
       "      <th>Чепрасова Ольга</th>\n",
       "      <td>144.0</td>\n",
       "      <td>3.9</td>\n",
       "      <td>45.0</td>\n",
       "      <td>42.0</td>\n",
       "      <td>14.0</td>\n",
       "      <td>0.0</td>\n",
       "      <td>0.0</td>\n",
       "      <td>0.0</td>\n",
       "      <td>6474.0</td>\n",
       "      <td>271902.0</td>\n",
       "      <td>10.0</td>\n",
       "      <td>7.0</td>\n",
       "      <td>271902.0</td>\n",
       "      <td>31.0</td>\n",
       "      <td>2</td>\n",
       "      <td>13595100.0</td>\n",
       "      <td>13595100.0</td>\n",
       "    </tr>\n",
       "    <tr>\n",
       "      <th>2 Стажер</th>\n",
       "      <td>39.0</td>\n",
       "      <td>1.1</td>\n",
       "      <td>9.0</td>\n",
       "      <td>8.0</td>\n",
       "      <td>0.0</td>\n",
       "      <td>0.0</td>\n",
       "      <td>0.0</td>\n",
       "      <td>0.0</td>\n",
       "      <td>4651.0</td>\n",
       "      <td>37205.0</td>\n",
       "      <td>6.0</td>\n",
       "      <td>2.0</td>\n",
       "      <td>37205.0</td>\n",
       "      <td>23.0</td>\n",
       "      <td>0</td>\n",
       "      <td>0.0</td>\n",
       "      <td>0.0</td>\n",
       "    </tr>\n",
       "    <tr>\n",
       "      <th>Елена Смоликова</th>\n",
       "      <td>11.0</td>\n",
       "      <td>0.3</td>\n",
       "      <td>2.0</td>\n",
       "      <td>0.0</td>\n",
       "      <td>0.0</td>\n",
       "      <td>2.0</td>\n",
       "      <td>3000.0</td>\n",
       "      <td>0.0</td>\n",
       "      <td>0.0</td>\n",
       "      <td>0.0</td>\n",
       "      <td>0.0</td>\n",
       "      <td>0.0</td>\n",
       "      <td>0.0</td>\n",
       "      <td>18.0</td>\n",
       "      <td>0</td>\n",
       "      <td>0.0</td>\n",
       "      <td>0.0</td>\n",
       "    </tr>\n",
       "    <tr>\n",
       "      <th>Соколов Александр</th>\n",
       "      <td>66.0</td>\n",
       "      <td>1.8</td>\n",
       "      <td>10.0</td>\n",
       "      <td>6.0</td>\n",
       "      <td>0.0</td>\n",
       "      <td>1.0</td>\n",
       "      <td>9600.0</td>\n",
       "      <td>0.0</td>\n",
       "      <td>9679.0</td>\n",
       "      <td>58072.0</td>\n",
       "      <td>3.0</td>\n",
       "      <td>1.0</td>\n",
       "      <td>58072.0</td>\n",
       "      <td>15.0</td>\n",
       "      <td>0</td>\n",
       "      <td>0.0</td>\n",
       "      <td>0.0</td>\n",
       "    </tr>\n",
       "    <tr>\n",
       "      <th>Алина</th>\n",
       "      <td>24.0</td>\n",
       "      <td>0.6</td>\n",
       "      <td>3.0</td>\n",
       "      <td>3.0</td>\n",
       "      <td>0.0</td>\n",
       "      <td>3.0</td>\n",
       "      <td>4700.0</td>\n",
       "      <td>0.0</td>\n",
       "      <td>5033.0</td>\n",
       "      <td>15100.0</td>\n",
       "      <td>7.0</td>\n",
       "      <td>7.0</td>\n",
       "      <td>15100.0</td>\n",
       "      <td>12.0</td>\n",
       "      <td>0</td>\n",
       "      <td>0.0</td>\n",
       "      <td>0.0</td>\n",
       "    </tr>\n",
       "    <tr>\n",
       "      <th>Алина</th>\n",
       "      <td>0.0</td>\n",
       "      <td>0.0</td>\n",
       "      <td>0.0</td>\n",
       "      <td>0.0</td>\n",
       "      <td>0.0</td>\n",
       "      <td>0.0</td>\n",
       "      <td>0.0</td>\n",
       "      <td>0.0</td>\n",
       "      <td>0.0</td>\n",
       "      <td>0.0</td>\n",
       "      <td>0.0</td>\n",
       "      <td>0.0</td>\n",
       "      <td>0.0</td>\n",
       "      <td>0.0</td>\n",
       "      <td>2</td>\n",
       "      <td>0.0</td>\n",
       "      <td>0.0</td>\n",
       "    </tr>\n",
       "    <tr>\n",
       "      <th>ВСЕГО</th>\n",
       "      <td>3700.0</td>\n",
       "      <td>100.0</td>\n",
       "      <td>1572.0</td>\n",
       "      <td>1376.0</td>\n",
       "      <td>14.1</td>\n",
       "      <td>41.0</td>\n",
       "      <td>576850.0</td>\n",
       "      <td>0.0</td>\n",
       "      <td>6123.0</td>\n",
       "      <td>8424651.0</td>\n",
       "      <td>7.1</td>\n",
       "      <td>3.0</td>\n",
       "      <td>8424651.0</td>\n",
       "      <td>42.0</td>\n",
       "      <td>12</td>\n",
       "      <td>70205425.0</td>\n",
       "      <td>70205425.0</td>\n",
       "    </tr>\n",
       "  </tbody>\n",
       "</table>\n",
       "</div>"
      ],
      "text/plain": [
       "                   новых  новых (%)  броней  успешных  K_повт  \\\n",
       "МЕНЕДЖЕР                                                        \n",
       "Карцев Евгений      29.0        0.8    27.0      29.0    31.0   \n",
       "Кузнецова Дарья    587.0       15.9   336.0     291.0    21.0   \n",
       "Шутова Виктория    851.0       23.0   437.0     403.0    21.0   \n",
       "3 Стажер           491.0       13.3   182.0     141.0     6.0   \n",
       "Симак Наталья      838.0       22.6   308.0     270.0     4.0   \n",
       "1 Стажер           620.0       16.8   213.0     183.0     3.0   \n",
       "Чепрасова Ольга    144.0        3.9    45.0      42.0    14.0   \n",
       "2 Стажер            39.0        1.1     9.0       8.0     0.0   \n",
       " Елена Смоликова    11.0        0.3     2.0       0.0     0.0   \n",
       "Соколов Александр   66.0        1.8    10.0       6.0     0.0   \n",
       " Алина              24.0        0.6     3.0       3.0     0.0   \n",
       "Алина                0.0        0.0     0.0       0.0     0.0   \n",
       "ВСЕГО             3700.0      100.0  1572.0    1376.0    14.1   \n",
       "\n",
       "                   потенц. сделок(откр.брони)  потенц. оборот(откр.брони)  \\\n",
       "МЕНЕДЖЕР                                                                    \n",
       "Карцев Евгений                            0.0                         0.0   \n",
       "Кузнецова Дарья                           9.0                    185300.0   \n",
       "Шутова Виктория                           7.0                    300300.0   \n",
       "3 Стажер                                  9.0                     30300.0   \n",
       "Симак Наталья                            10.0                     43650.0   \n",
       "1 Стажер                                  0.0                         0.0   \n",
       "Чепрасова Ольга                           0.0                         0.0   \n",
       "2 Стажер                                  0.0                         0.0   \n",
       " Елена Смоликова                          2.0                      3000.0   \n",
       "Соколов Александр                         1.0                      9600.0   \n",
       " Алина                                    3.0                      4700.0   \n",
       "Алина                                     0.0                         0.0   \n",
       "ВСЕГО                                    41.0                    576850.0   \n",
       "\n",
       "                   потенц. оборот(откр.брони на jun)  Ср.чек  фактич. оборот  \\\n",
       "МЕНЕДЖЕР                                                                       \n",
       "Карцев Евгений                                   0.0  2254.0         65352.0   \n",
       "Кузнецова Дарья                                  0.0 11107.0       3232225.0   \n",
       "Шутова Виктория                                  0.0  5663.0       2282275.0   \n",
       "3 Стажер                                         0.0  4528.0        638380.0   \n",
       "Симак Наталья                                    0.0  4600.0       1242040.0   \n",
       "1 Стажер                                         0.0  3181.0        582100.0   \n",
       "Чепрасова Ольга                                  0.0  6474.0        271902.0   \n",
       "2 Стажер                                         0.0  4651.0         37205.0   \n",
       " Елена Смоликова                                 0.0     0.0             0.0   \n",
       "Соколов Александр                                0.0  9679.0         58072.0   \n",
       " Алина                                           0.0  5033.0         15100.0   \n",
       "Алина                                            0.0     0.0             0.0   \n",
       "ВСЕГО                                            0.0  6123.0       8424651.0   \n",
       "\n",
       "                   средн. цикл аренды  медиан. цикл аренды  прогн.оборот  \\\n",
       "МЕНЕДЖЕР                                                                   \n",
       "Карцев Евгений                   11.0                  1.0       65352.0   \n",
       "Кузнецова Дарья                   8.0                  3.0     3232225.0   \n",
       "Шутова Виктория                   7.0                  3.0     2282275.0   \n",
       "3 Стажер                          5.0                  3.0      638380.0   \n",
       "Симак Наталья                     6.0                  3.0     1242040.0   \n",
       "1 Стажер                          6.0                  2.0      582100.0   \n",
       "Чепрасова Ольга                  10.0                  7.0      271902.0   \n",
       "2 Стажер                          6.0                  2.0       37205.0   \n",
       " Елена Смоликова                  0.0                  0.0           0.0   \n",
       "Соколов Александр                 3.0                  1.0       58072.0   \n",
       " Алина                            7.0                  7.0       15100.0   \n",
       "Алина                             0.0                  0.0           0.0   \n",
       "ВСЕГО                             7.1                  3.0     8424651.0   \n",
       "\n",
       "                   CV_бронь  план  % выполненного плана  \\\n",
       "МЕНЕДЖЕР                                                  \n",
       "Карцев Евгений         93.0     0                   0.0   \n",
       "Кузнецова Дарья        57.0     2           161611250.0   \n",
       "Шутова Виктория        51.0     2           114113750.0   \n",
       "3 Стажер               37.0     2            31919000.0   \n",
       "Симак Наталья          37.0     2            62102000.0   \n",
       "1 Стажер               34.0     0                   0.0   \n",
       "Чепрасова Ольга        31.0     2            13595100.0   \n",
       "2 Стажер               23.0     0                   0.0   \n",
       " Елена Смоликова       18.0     0                   0.0   \n",
       "Соколов Александр      15.0     0                   0.0   \n",
       " Алина                 12.0     0                   0.0   \n",
       "Алина                   0.0     2                   0.0   \n",
       "ВСЕГО                  42.0    12            70205425.0   \n",
       "\n",
       "                   прогноз выполнения плана %  \n",
       "МЕНЕДЖЕР                                       \n",
       "Карцев Евгений                            0.0  \n",
       "Кузнецова Дарья                   161611250.0  \n",
       "Шутова Виктория                   114113750.0  \n",
       "3 Стажер                           31919000.0  \n",
       "Симак Наталья                      62102000.0  \n",
       "1 Стажер                                  0.0  \n",
       "Чепрасова Ольга                    13595100.0  \n",
       "2 Стажер                                  0.0  \n",
       " Елена Смоликова                          0.0  \n",
       "Соколов Александр                         0.0  \n",
       " Алина                                    0.0  \n",
       "Алина                                     0.0  \n",
       "ВСЕГО                              70205425.0  "
      ]
     },
     "metadata": {},
     "output_type": "display_data"
    },
    {
     "name": "stdout",
     "output_type": "stream",
     "text": [
      "\n",
      "\n",
      "\n",
      "\n",
      "\n",
      "\n",
      "------------------СВОДНЫЙ ОТЧЕТ по конверсии в бронь(прокат)-----------------\n"
     ]
    },
    {
     "data": {
      "text/html": [
       "<div>\n",
       "<style scoped>\n",
       "    .dataframe tbody tr th:only-of-type {\n",
       "        vertical-align: middle;\n",
       "    }\n",
       "\n",
       "    .dataframe tbody tr th {\n",
       "        vertical-align: top;\n",
       "    }\n",
       "\n",
       "    .dataframe thead tr th {\n",
       "        text-align: left;\n",
       "    }\n",
       "\n",
       "    .dataframe thead tr:last-of-type th {\n",
       "        text-align: right;\n",
       "    }\n",
       "</style>\n",
       "<table border=\"1\" class=\"dataframe\">\n",
       "  <thead>\n",
       "    <tr>\n",
       "      <th>менеджер&gt;</th>\n",
       "      <th colspan=\"2\" halign=\"left\">Алина</th>\n",
       "      <th colspan=\"2\" halign=\"left\">Елена Смоликова</th>\n",
       "      <th colspan=\"2\" halign=\"left\">1 Стажер</th>\n",
       "      <th colspan=\"2\" halign=\"left\">2 Стажер</th>\n",
       "      <th colspan=\"2\" halign=\"left\">3 Стажер</th>\n",
       "      <th colspan=\"2\" halign=\"left\">Карцев Евгений</th>\n",
       "      <th colspan=\"2\" halign=\"left\">Кузнецова Дарья</th>\n",
       "      <th colspan=\"2\" halign=\"left\">Симак Наталья</th>\n",
       "      <th colspan=\"2\" halign=\"left\">Соколов Александр</th>\n",
       "      <th colspan=\"2\" halign=\"left\">Чепрасова Ольга</th>\n",
       "      <th colspan=\"2\" halign=\"left\">Шутова Виктория</th>\n",
       "      <th colspan=\"2\" halign=\"left\">ВСЕГО</th>\n",
       "    </tr>\n",
       "    <tr>\n",
       "      <th>f&gt;</th>\n",
       "      <th>количество</th>\n",
       "      <th>конв.бронь</th>\n",
       "      <th>количество</th>\n",
       "      <th>конв.бронь</th>\n",
       "      <th>количество</th>\n",
       "      <th>конв.бронь</th>\n",
       "      <th>количество</th>\n",
       "      <th>конв.бронь</th>\n",
       "      <th>количество</th>\n",
       "      <th>конв.бронь</th>\n",
       "      <th>количество</th>\n",
       "      <th>конв.бронь</th>\n",
       "      <th>количество</th>\n",
       "      <th>конв.бронь</th>\n",
       "      <th>количество</th>\n",
       "      <th>конв.бронь</th>\n",
       "      <th>количество</th>\n",
       "      <th>конв.бронь</th>\n",
       "      <th>количество</th>\n",
       "      <th>конв.бронь</th>\n",
       "      <th>количество</th>\n",
       "      <th>конв.бронь</th>\n",
       "      <th>количество</th>\n",
       "      <th>конв.бронь</th>\n",
       "    </tr>\n",
       "    <tr>\n",
       "      <th>Направление</th>\n",
       "      <th></th>\n",
       "      <th></th>\n",
       "      <th></th>\n",
       "      <th></th>\n",
       "      <th></th>\n",
       "      <th></th>\n",
       "      <th></th>\n",
       "      <th></th>\n",
       "      <th></th>\n",
       "      <th></th>\n",
       "      <th></th>\n",
       "      <th></th>\n",
       "      <th></th>\n",
       "      <th></th>\n",
       "      <th></th>\n",
       "      <th></th>\n",
       "      <th></th>\n",
       "      <th></th>\n",
       "      <th></th>\n",
       "      <th></th>\n",
       "      <th></th>\n",
       "      <th></th>\n",
       "      <th></th>\n",
       "      <th></th>\n",
       "    </tr>\n",
       "  </thead>\n",
       "  <tbody>\n",
       "    <tr>\n",
       "      <th>01) экшн-камеры</th>\n",
       "      <td>3</td>\n",
       "      <td>0%</td>\n",
       "      <td>0</td>\n",
       "      <td>-</td>\n",
       "      <td>56</td>\n",
       "      <td>45%</td>\n",
       "      <td>11</td>\n",
       "      <td>9%</td>\n",
       "      <td>35</td>\n",
       "      <td>60%</td>\n",
       "      <td>5</td>\n",
       "      <td>100%</td>\n",
       "      <td>50</td>\n",
       "      <td>60%</td>\n",
       "      <td>96</td>\n",
       "      <td>56%</td>\n",
       "      <td>0</td>\n",
       "      <td>-</td>\n",
       "      <td>9</td>\n",
       "      <td>56%</td>\n",
       "      <td>98</td>\n",
       "      <td>67%</td>\n",
       "      <td>363</td>\n",
       "      <td>57%</td>\n",
       "    </tr>\n",
       "    <tr>\n",
       "      <th>02) Стабилизаторы</th>\n",
       "      <td>0</td>\n",
       "      <td>-</td>\n",
       "      <td>0</td>\n",
       "      <td>-</td>\n",
       "      <td>10</td>\n",
       "      <td>70%</td>\n",
       "      <td>1</td>\n",
       "      <td>100%</td>\n",
       "      <td>10</td>\n",
       "      <td>20%</td>\n",
       "      <td>2</td>\n",
       "      <td>100%</td>\n",
       "      <td>13</td>\n",
       "      <td>77%</td>\n",
       "      <td>21</td>\n",
       "      <td>62%</td>\n",
       "      <td>0</td>\n",
       "      <td>-</td>\n",
       "      <td>2</td>\n",
       "      <td>0%</td>\n",
       "      <td>17</td>\n",
       "      <td>65%</td>\n",
       "      <td>76</td>\n",
       "      <td>61%</td>\n",
       "    </tr>\n",
       "    <tr>\n",
       "      <th>03) Игр.приставки Playstation</th>\n",
       "      <td>7</td>\n",
       "      <td>0%</td>\n",
       "      <td>2</td>\n",
       "      <td>0%</td>\n",
       "      <td>247</td>\n",
       "      <td>29%</td>\n",
       "      <td>9</td>\n",
       "      <td>22%</td>\n",
       "      <td>157</td>\n",
       "      <td>25%</td>\n",
       "      <td>3</td>\n",
       "      <td>67%</td>\n",
       "      <td>120</td>\n",
       "      <td>42%</td>\n",
       "      <td>268</td>\n",
       "      <td>32%</td>\n",
       "      <td>0</td>\n",
       "      <td>-</td>\n",
       "      <td>39</td>\n",
       "      <td>31%</td>\n",
       "      <td>279</td>\n",
       "      <td>51%</td>\n",
       "      <td>1131</td>\n",
       "      <td>36%</td>\n",
       "    </tr>\n",
       "    <tr>\n",
       "      <th>04) Квадрокоптеры</th>\n",
       "      <td>0</td>\n",
       "      <td>-</td>\n",
       "      <td>3</td>\n",
       "      <td>67%</td>\n",
       "      <td>28</td>\n",
       "      <td>32%</td>\n",
       "      <td>1</td>\n",
       "      <td>0%</td>\n",
       "      <td>41</td>\n",
       "      <td>44%</td>\n",
       "      <td>0</td>\n",
       "      <td>-</td>\n",
       "      <td>25</td>\n",
       "      <td>68%</td>\n",
       "      <td>51</td>\n",
       "      <td>29%</td>\n",
       "      <td>11</td>\n",
       "      <td>82%</td>\n",
       "      <td>7</td>\n",
       "      <td>14%</td>\n",
       "      <td>29</td>\n",
       "      <td>38%</td>\n",
       "      <td>196</td>\n",
       "      <td>42%</td>\n",
       "    </tr>\n",
       "    <tr>\n",
       "      <th>05) Коляски</th>\n",
       "      <td>4</td>\n",
       "      <td>25%</td>\n",
       "      <td>1</td>\n",
       "      <td>0%</td>\n",
       "      <td>37</td>\n",
       "      <td>41%</td>\n",
       "      <td>4</td>\n",
       "      <td>25%</td>\n",
       "      <td>55</td>\n",
       "      <td>20%</td>\n",
       "      <td>1</td>\n",
       "      <td>100%</td>\n",
       "      <td>16</td>\n",
       "      <td>56%</td>\n",
       "      <td>71</td>\n",
       "      <td>34%</td>\n",
       "      <td>0</td>\n",
       "      <td>-</td>\n",
       "      <td>7</td>\n",
       "      <td>29%</td>\n",
       "      <td>50</td>\n",
       "      <td>42%</td>\n",
       "      <td>246</td>\n",
       "      <td>35%</td>\n",
       "    </tr>\n",
       "    <tr>\n",
       "      <th>09) Телевизоры</th>\n",
       "      <td>1</td>\n",
       "      <td>0%</td>\n",
       "      <td>0</td>\n",
       "      <td>-</td>\n",
       "      <td>11</td>\n",
       "      <td>27%</td>\n",
       "      <td>2</td>\n",
       "      <td>50%</td>\n",
       "      <td>12</td>\n",
       "      <td>17%</td>\n",
       "      <td>0</td>\n",
       "      <td>-</td>\n",
       "      <td>21</td>\n",
       "      <td>57%</td>\n",
       "      <td>23</td>\n",
       "      <td>17%</td>\n",
       "      <td>0</td>\n",
       "      <td>-</td>\n",
       "      <td>1</td>\n",
       "      <td>0%</td>\n",
       "      <td>29</td>\n",
       "      <td>38%</td>\n",
       "      <td>100</td>\n",
       "      <td>33%</td>\n",
       "    </tr>\n",
       "    <tr>\n",
       "      <th>10) Проекторы</th>\n",
       "      <td>0</td>\n",
       "      <td>-</td>\n",
       "      <td>0</td>\n",
       "      <td>-</td>\n",
       "      <td>36</td>\n",
       "      <td>11%</td>\n",
       "      <td>5</td>\n",
       "      <td>20%</td>\n",
       "      <td>25</td>\n",
       "      <td>28%</td>\n",
       "      <td>0</td>\n",
       "      <td>-</td>\n",
       "      <td>25</td>\n",
       "      <td>64%</td>\n",
       "      <td>53</td>\n",
       "      <td>42%</td>\n",
       "      <td>0</td>\n",
       "      <td>-</td>\n",
       "      <td>5</td>\n",
       "      <td>40%</td>\n",
       "      <td>36</td>\n",
       "      <td>47%</td>\n",
       "      <td>185</td>\n",
       "      <td>37%</td>\n",
       "    </tr>\n",
       "    <tr>\n",
       "      <th>11) планшеты</th>\n",
       "      <td>0</td>\n",
       "      <td>-</td>\n",
       "      <td>2</td>\n",
       "      <td>0%</td>\n",
       "      <td>7</td>\n",
       "      <td>29%</td>\n",
       "      <td>0</td>\n",
       "      <td>-</td>\n",
       "      <td>8</td>\n",
       "      <td>38%</td>\n",
       "      <td>1</td>\n",
       "      <td>100%</td>\n",
       "      <td>29</td>\n",
       "      <td>76%</td>\n",
       "      <td>35</td>\n",
       "      <td>46%</td>\n",
       "      <td>0</td>\n",
       "      <td>-</td>\n",
       "      <td>5</td>\n",
       "      <td>40%</td>\n",
       "      <td>26</td>\n",
       "      <td>62%</td>\n",
       "      <td>113</td>\n",
       "      <td>55%</td>\n",
       "    </tr>\n",
       "    <tr>\n",
       "      <th>12) Ноутбуки</th>\n",
       "      <td>7</td>\n",
       "      <td>0%</td>\n",
       "      <td>3</td>\n",
       "      <td>0%</td>\n",
       "      <td>92</td>\n",
       "      <td>28%</td>\n",
       "      <td>6</td>\n",
       "      <td>33%</td>\n",
       "      <td>71</td>\n",
       "      <td>41%</td>\n",
       "      <td>9</td>\n",
       "      <td>100%</td>\n",
       "      <td>109</td>\n",
       "      <td>60%</td>\n",
       "      <td>128</td>\n",
       "      <td>41%</td>\n",
       "      <td>0</td>\n",
       "      <td>-</td>\n",
       "      <td>21</td>\n",
       "      <td>38%</td>\n",
       "      <td>107</td>\n",
       "      <td>55%</td>\n",
       "      <td>553</td>\n",
       "      <td>45%</td>\n",
       "    </tr>\n",
       "    <tr>\n",
       "      <th>13) Apple ноутбуки</th>\n",
       "      <td>3</td>\n",
       "      <td>0%</td>\n",
       "      <td>1</td>\n",
       "      <td>0%</td>\n",
       "      <td>18</td>\n",
       "      <td>28%</td>\n",
       "      <td>0</td>\n",
       "      <td>-</td>\n",
       "      <td>21</td>\n",
       "      <td>29%</td>\n",
       "      <td>6</td>\n",
       "      <td>83%</td>\n",
       "      <td>31</td>\n",
       "      <td>74%</td>\n",
       "      <td>45</td>\n",
       "      <td>20%</td>\n",
       "      <td>0</td>\n",
       "      <td>-</td>\n",
       "      <td>9</td>\n",
       "      <td>22%</td>\n",
       "      <td>34</td>\n",
       "      <td>47%</td>\n",
       "      <td>168</td>\n",
       "      <td>39%</td>\n",
       "    </tr>\n",
       "    <tr>\n",
       "      <th>14) Телефоны другие</th>\n",
       "      <td>0</td>\n",
       "      <td>-</td>\n",
       "      <td>0</td>\n",
       "      <td>-</td>\n",
       "      <td>14</td>\n",
       "      <td>7%</td>\n",
       "      <td>1</td>\n",
       "      <td>0%</td>\n",
       "      <td>12</td>\n",
       "      <td>17%</td>\n",
       "      <td>0</td>\n",
       "      <td>-</td>\n",
       "      <td>9</td>\n",
       "      <td>33%</td>\n",
       "      <td>25</td>\n",
       "      <td>16%</td>\n",
       "      <td>0</td>\n",
       "      <td>-</td>\n",
       "      <td>6</td>\n",
       "      <td>17%</td>\n",
       "      <td>27</td>\n",
       "      <td>7%</td>\n",
       "      <td>94</td>\n",
       "      <td>14%</td>\n",
       "    </tr>\n",
       "    <tr>\n",
       "      <th>15) Камера 360</th>\n",
       "      <td>1</td>\n",
       "      <td>100%</td>\n",
       "      <td>0</td>\n",
       "      <td>-</td>\n",
       "      <td>0</td>\n",
       "      <td>-</td>\n",
       "      <td>0</td>\n",
       "      <td>-</td>\n",
       "      <td>2</td>\n",
       "      <td>100%</td>\n",
       "      <td>1</td>\n",
       "      <td>100%</td>\n",
       "      <td>6</td>\n",
       "      <td>50%</td>\n",
       "      <td>9</td>\n",
       "      <td>67%</td>\n",
       "      <td>0</td>\n",
       "      <td>-</td>\n",
       "      <td>3</td>\n",
       "      <td>33%</td>\n",
       "      <td>8</td>\n",
       "      <td>75%</td>\n",
       "      <td>30</td>\n",
       "      <td>67%</td>\n",
       "    </tr>\n",
       "    <tr>\n",
       "      <th>16) Очки ДР</th>\n",
       "      <td>0</td>\n",
       "      <td>-</td>\n",
       "      <td>0</td>\n",
       "      <td>-</td>\n",
       "      <td>0</td>\n",
       "      <td>-</td>\n",
       "      <td>0</td>\n",
       "      <td>-</td>\n",
       "      <td>0</td>\n",
       "      <td>-</td>\n",
       "      <td>0</td>\n",
       "      <td>-</td>\n",
       "      <td>2</td>\n",
       "      <td>50%</td>\n",
       "      <td>6</td>\n",
       "      <td>17%</td>\n",
       "      <td>0</td>\n",
       "      <td>-</td>\n",
       "      <td>0</td>\n",
       "      <td>-</td>\n",
       "      <td>2</td>\n",
       "      <td>50%</td>\n",
       "      <td>10</td>\n",
       "      <td>30%</td>\n",
       "    </tr>\n",
       "    <tr>\n",
       "      <th>17) Очки ВР</th>\n",
       "      <td>0</td>\n",
       "      <td>-</td>\n",
       "      <td>0</td>\n",
       "      <td>-</td>\n",
       "      <td>10</td>\n",
       "      <td>40%</td>\n",
       "      <td>0</td>\n",
       "      <td>-</td>\n",
       "      <td>20</td>\n",
       "      <td>60%</td>\n",
       "      <td>0</td>\n",
       "      <td>-</td>\n",
       "      <td>23</td>\n",
       "      <td>39%</td>\n",
       "      <td>35</td>\n",
       "      <td>26%</td>\n",
       "      <td>0</td>\n",
       "      <td>-</td>\n",
       "      <td>3</td>\n",
       "      <td>67%</td>\n",
       "      <td>36</td>\n",
       "      <td>44%</td>\n",
       "      <td>127</td>\n",
       "      <td>41%</td>\n",
       "    </tr>\n",
       "    <tr>\n",
       "      <th>18) Электросамокаты</th>\n",
       "      <td>1</td>\n",
       "      <td>0%</td>\n",
       "      <td>0</td>\n",
       "      <td>-</td>\n",
       "      <td>67</td>\n",
       "      <td>18%</td>\n",
       "      <td>8</td>\n",
       "      <td>12%</td>\n",
       "      <td>19</td>\n",
       "      <td>26%</td>\n",
       "      <td>1</td>\n",
       "      <td>100%</td>\n",
       "      <td>41</td>\n",
       "      <td>34%</td>\n",
       "      <td>73</td>\n",
       "      <td>15%</td>\n",
       "      <td>0</td>\n",
       "      <td>-</td>\n",
       "      <td>16</td>\n",
       "      <td>12%</td>\n",
       "      <td>75</td>\n",
       "      <td>43%</td>\n",
       "      <td>301</td>\n",
       "      <td>26%</td>\n",
       "    </tr>\n",
       "    <tr>\n",
       "      <th>19) Сигвеи</th>\n",
       "      <td>0</td>\n",
       "      <td>-</td>\n",
       "      <td>0</td>\n",
       "      <td>-</td>\n",
       "      <td>10</td>\n",
       "      <td>60%</td>\n",
       "      <td>0</td>\n",
       "      <td>-</td>\n",
       "      <td>8</td>\n",
       "      <td>50%</td>\n",
       "      <td>0</td>\n",
       "      <td>-</td>\n",
       "      <td>4</td>\n",
       "      <td>100%</td>\n",
       "      <td>6</td>\n",
       "      <td>50%</td>\n",
       "      <td>0</td>\n",
       "      <td>-</td>\n",
       "      <td>1</td>\n",
       "      <td>100%</td>\n",
       "      <td>7</td>\n",
       "      <td>86%</td>\n",
       "      <td>36</td>\n",
       "      <td>67%</td>\n",
       "    </tr>\n",
       "    <tr>\n",
       "      <th>20) Моноколеса</th>\n",
       "      <td>0</td>\n",
       "      <td>-</td>\n",
       "      <td>0</td>\n",
       "      <td>-</td>\n",
       "      <td>3</td>\n",
       "      <td>67%</td>\n",
       "      <td>0</td>\n",
       "      <td>-</td>\n",
       "      <td>3</td>\n",
       "      <td>67%</td>\n",
       "      <td>0</td>\n",
       "      <td>-</td>\n",
       "      <td>3</td>\n",
       "      <td>33%</td>\n",
       "      <td>4</td>\n",
       "      <td>75%</td>\n",
       "      <td>0</td>\n",
       "      <td>-</td>\n",
       "      <td>1</td>\n",
       "      <td>100%</td>\n",
       "      <td>1</td>\n",
       "      <td>0%</td>\n",
       "      <td>15</td>\n",
       "      <td>60%</td>\n",
       "    </tr>\n",
       "    <tr>\n",
       "      <th>21) Пылесосы</th>\n",
       "      <td>0</td>\n",
       "      <td>-</td>\n",
       "      <td>0</td>\n",
       "      <td>-</td>\n",
       "      <td>0</td>\n",
       "      <td>-</td>\n",
       "      <td>0</td>\n",
       "      <td>-</td>\n",
       "      <td>0</td>\n",
       "      <td>-</td>\n",
       "      <td>0</td>\n",
       "      <td>-</td>\n",
       "      <td>0</td>\n",
       "      <td>-</td>\n",
       "      <td>1</td>\n",
       "      <td>-</td>\n",
       "      <td>0</td>\n",
       "      <td>-</td>\n",
       "      <td>0</td>\n",
       "      <td>-</td>\n",
       "      <td>0</td>\n",
       "      <td>-</td>\n",
       "      <td>1</td>\n",
       "      <td>-</td>\n",
       "    </tr>\n",
       "    <tr>\n",
       "      <th>22) Металлоискатели</th>\n",
       "      <td>2</td>\n",
       "      <td>50%</td>\n",
       "      <td>1</td>\n",
       "      <td>0%</td>\n",
       "      <td>43</td>\n",
       "      <td>60%</td>\n",
       "      <td>2</td>\n",
       "      <td>50%</td>\n",
       "      <td>35</td>\n",
       "      <td>66%</td>\n",
       "      <td>1</td>\n",
       "      <td>100%</td>\n",
       "      <td>22</td>\n",
       "      <td>59%</td>\n",
       "      <td>47</td>\n",
       "      <td>40%</td>\n",
       "      <td>0</td>\n",
       "      <td>-</td>\n",
       "      <td>8</td>\n",
       "      <td>25%</td>\n",
       "      <td>42</td>\n",
       "      <td>36%</td>\n",
       "      <td>203</td>\n",
       "      <td>50%</td>\n",
       "    </tr>\n",
       "    <tr>\n",
       "      <th>23) Продажа</th>\n",
       "      <td>0</td>\n",
       "      <td>-</td>\n",
       "      <td>0</td>\n",
       "      <td>-</td>\n",
       "      <td>10</td>\n",
       "      <td>0%</td>\n",
       "      <td>3</td>\n",
       "      <td>0%</td>\n",
       "      <td>2</td>\n",
       "      <td>0%</td>\n",
       "      <td>0</td>\n",
       "      <td>-</td>\n",
       "      <td>1</td>\n",
       "      <td>0%</td>\n",
       "      <td>12</td>\n",
       "      <td>17%</td>\n",
       "      <td>1</td>\n",
       "      <td>100%</td>\n",
       "      <td>3</td>\n",
       "      <td>0%</td>\n",
       "      <td>16</td>\n",
       "      <td>6%</td>\n",
       "      <td>48</td>\n",
       "      <td>8%</td>\n",
       "    </tr>\n",
       "    <tr>\n",
       "      <th>24) фотозоны</th>\n",
       "      <td>0</td>\n",
       "      <td>-</td>\n",
       "      <td>0</td>\n",
       "      <td>-</td>\n",
       "      <td>0</td>\n",
       "      <td>-</td>\n",
       "      <td>0</td>\n",
       "      <td>-</td>\n",
       "      <td>0</td>\n",
       "      <td>-</td>\n",
       "      <td>0</td>\n",
       "      <td>-</td>\n",
       "      <td>21</td>\n",
       "      <td>-</td>\n",
       "      <td>3</td>\n",
       "      <td>-</td>\n",
       "      <td>0</td>\n",
       "      <td>-</td>\n",
       "      <td>0</td>\n",
       "      <td>-</td>\n",
       "      <td>41</td>\n",
       "      <td>-</td>\n",
       "      <td>65</td>\n",
       "      <td>-</td>\n",
       "    </tr>\n",
       "    <tr>\n",
       "      <th>25) светодиодные экраны</th>\n",
       "      <td>0</td>\n",
       "      <td>-</td>\n",
       "      <td>0</td>\n",
       "      <td>-</td>\n",
       "      <td>0</td>\n",
       "      <td>-</td>\n",
       "      <td>0</td>\n",
       "      <td>-</td>\n",
       "      <td>0</td>\n",
       "      <td>-</td>\n",
       "      <td>0</td>\n",
       "      <td>-</td>\n",
       "      <td>0</td>\n",
       "      <td>-</td>\n",
       "      <td>4</td>\n",
       "      <td>-</td>\n",
       "      <td>0</td>\n",
       "      <td>-</td>\n",
       "      <td>0</td>\n",
       "      <td>-</td>\n",
       "      <td>4</td>\n",
       "      <td>-</td>\n",
       "      <td>8</td>\n",
       "      <td>-</td>\n",
       "    </tr>\n",
       "    <tr>\n",
       "      <th>26) активности и игры</th>\n",
       "      <td>0</td>\n",
       "      <td>-</td>\n",
       "      <td>0</td>\n",
       "      <td>-</td>\n",
       "      <td>0</td>\n",
       "      <td>-</td>\n",
       "      <td>0</td>\n",
       "      <td>-</td>\n",
       "      <td>0</td>\n",
       "      <td>-</td>\n",
       "      <td>0</td>\n",
       "      <td>-</td>\n",
       "      <td>13</td>\n",
       "      <td>0%</td>\n",
       "      <td>10</td>\n",
       "      <td>0%</td>\n",
       "      <td>0</td>\n",
       "      <td>-</td>\n",
       "      <td>1</td>\n",
       "      <td>0%</td>\n",
       "      <td>17</td>\n",
       "      <td>6%</td>\n",
       "      <td>41</td>\n",
       "      <td>2%</td>\n",
       "    </tr>\n",
       "    <tr>\n",
       "      <th>27) другое (роботы)</th>\n",
       "      <td>0</td>\n",
       "      <td>-</td>\n",
       "      <td>0</td>\n",
       "      <td>-</td>\n",
       "      <td>6</td>\n",
       "      <td>17%</td>\n",
       "      <td>0</td>\n",
       "      <td>-</td>\n",
       "      <td>0</td>\n",
       "      <td>-</td>\n",
       "      <td>0</td>\n",
       "      <td>-</td>\n",
       "      <td>4</td>\n",
       "      <td>0%</td>\n",
       "      <td>0</td>\n",
       "      <td>-</td>\n",
       "      <td>0</td>\n",
       "      <td>-</td>\n",
       "      <td>0</td>\n",
       "      <td>-</td>\n",
       "      <td>3</td>\n",
       "      <td>0%</td>\n",
       "      <td>13</td>\n",
       "      <td>8%</td>\n",
       "    </tr>\n",
       "    <tr>\n",
       "      <th>28) Очки ВР event</th>\n",
       "      <td>0</td>\n",
       "      <td>-</td>\n",
       "      <td>0</td>\n",
       "      <td>-</td>\n",
       "      <td>1</td>\n",
       "      <td>-</td>\n",
       "      <td>0</td>\n",
       "      <td>-</td>\n",
       "      <td>0</td>\n",
       "      <td>-</td>\n",
       "      <td>0</td>\n",
       "      <td>-</td>\n",
       "      <td>1</td>\n",
       "      <td>-</td>\n",
       "      <td>1</td>\n",
       "      <td>-</td>\n",
       "      <td>0</td>\n",
       "      <td>-</td>\n",
       "      <td>0</td>\n",
       "      <td>-</td>\n",
       "      <td>1</td>\n",
       "      <td>-</td>\n",
       "      <td>4</td>\n",
       "      <td>-</td>\n",
       "    </tr>\n",
       "    <tr>\n",
       "      <th>32) Игровые Пк</th>\n",
       "      <td>0</td>\n",
       "      <td>-</td>\n",
       "      <td>0</td>\n",
       "      <td>-</td>\n",
       "      <td>8</td>\n",
       "      <td>25%</td>\n",
       "      <td>0</td>\n",
       "      <td>-</td>\n",
       "      <td>12</td>\n",
       "      <td>25%</td>\n",
       "      <td>1</td>\n",
       "      <td>100%</td>\n",
       "      <td>13</td>\n",
       "      <td>31%</td>\n",
       "      <td>22</td>\n",
       "      <td>18%</td>\n",
       "      <td>0</td>\n",
       "      <td>-</td>\n",
       "      <td>2</td>\n",
       "      <td>0%</td>\n",
       "      <td>22</td>\n",
       "      <td>50%</td>\n",
       "      <td>80</td>\n",
       "      <td>31%</td>\n",
       "    </tr>\n",
       "    <tr>\n",
       "      <th>33) Игровые приставки Xbox</th>\n",
       "      <td>0</td>\n",
       "      <td>-</td>\n",
       "      <td>1</td>\n",
       "      <td>0%</td>\n",
       "      <td>4</td>\n",
       "      <td>25%</td>\n",
       "      <td>0</td>\n",
       "      <td>-</td>\n",
       "      <td>6</td>\n",
       "      <td>17%</td>\n",
       "      <td>0</td>\n",
       "      <td>-</td>\n",
       "      <td>14</td>\n",
       "      <td>57%</td>\n",
       "      <td>13</td>\n",
       "      <td>31%</td>\n",
       "      <td>0</td>\n",
       "      <td>-</td>\n",
       "      <td>0</td>\n",
       "      <td>-</td>\n",
       "      <td>10</td>\n",
       "      <td>50%</td>\n",
       "      <td>48</td>\n",
       "      <td>40%</td>\n",
       "    </tr>\n",
       "    <tr>\n",
       "      <th>34) телефоны apple</th>\n",
       "      <td>3</td>\n",
       "      <td>0%</td>\n",
       "      <td>1</td>\n",
       "      <td>0%</td>\n",
       "      <td>8</td>\n",
       "      <td>25%</td>\n",
       "      <td>0</td>\n",
       "      <td>-</td>\n",
       "      <td>20</td>\n",
       "      <td>10%</td>\n",
       "      <td>1</td>\n",
       "      <td>100%</td>\n",
       "      <td>7</td>\n",
       "      <td>29%</td>\n",
       "      <td>22</td>\n",
       "      <td>36%</td>\n",
       "      <td>0</td>\n",
       "      <td>-</td>\n",
       "      <td>1</td>\n",
       "      <td>100%</td>\n",
       "      <td>24</td>\n",
       "      <td>29%</td>\n",
       "      <td>87</td>\n",
       "      <td>26%</td>\n",
       "    </tr>\n",
       "    <tr>\n",
       "      <th>35) Игровые приставки Nintendo</th>\n",
       "      <td>0</td>\n",
       "      <td>-</td>\n",
       "      <td>0</td>\n",
       "      <td>-</td>\n",
       "      <td>2</td>\n",
       "      <td>0%</td>\n",
       "      <td>0</td>\n",
       "      <td>-</td>\n",
       "      <td>2</td>\n",
       "      <td>50%</td>\n",
       "      <td>0</td>\n",
       "      <td>-</td>\n",
       "      <td>2</td>\n",
       "      <td>100%</td>\n",
       "      <td>3</td>\n",
       "      <td>33%</td>\n",
       "      <td>0</td>\n",
       "      <td>-</td>\n",
       "      <td>0</td>\n",
       "      <td>-</td>\n",
       "      <td>3</td>\n",
       "      <td>0%</td>\n",
       "      <td>12</td>\n",
       "      <td>33%</td>\n",
       "    </tr>\n",
       "    <tr>\n",
       "      <th>nan</th>\n",
       "      <td>6</td>\n",
       "      <td>-</td>\n",
       "      <td>1</td>\n",
       "      <td>-</td>\n",
       "      <td>3</td>\n",
       "      <td>-</td>\n",
       "      <td>1</td>\n",
       "      <td>-</td>\n",
       "      <td>21</td>\n",
       "      <td>-</td>\n",
       "      <td>0</td>\n",
       "      <td>-</td>\n",
       "      <td>4</td>\n",
       "      <td>-</td>\n",
       "      <td>7</td>\n",
       "      <td>-</td>\n",
       "      <td>0</td>\n",
       "      <td>-</td>\n",
       "      <td>0</td>\n",
       "      <td>-</td>\n",
       "      <td>4</td>\n",
       "      <td>-</td>\n",
       "      <td>47</td>\n",
       "      <td>-</td>\n",
       "    </tr>\n",
       "    <tr>\n",
       "      <th>ВСЕГО</th>\n",
       "      <td>38</td>\n",
       "      <td>8%</td>\n",
       "      <td>16</td>\n",
       "      <td>12%</td>\n",
       "      <td>731</td>\n",
       "      <td>31%</td>\n",
       "      <td>54</td>\n",
       "      <td>20%</td>\n",
       "      <td>597</td>\n",
       "      <td>33%</td>\n",
       "      <td>32</td>\n",
       "      <td>94%</td>\n",
       "      <td>629</td>\n",
       "      <td>51%</td>\n",
       "      <td>1094</td>\n",
       "      <td>34%</td>\n",
       "      <td>12</td>\n",
       "      <td>83%</td>\n",
       "      <td>150</td>\n",
       "      <td>30%</td>\n",
       "      <td>1048</td>\n",
       "      <td>45%</td>\n",
       "      <td>4401</td>\n",
       "      <td>38%</td>\n",
       "    </tr>\n",
       "  </tbody>\n",
       "</table>\n",
       "</div>"
      ],
      "text/plain": [
       "менеджер>                           Алина             Елена Смоликова  \\\n",
       "f>                             количество конв.бронь       количество   \n",
       "Направление                                                             \n",
       "01) экшн-камеры                         3         0%                0   \n",
       "02) Стабилизаторы                       0          -                0   \n",
       "03) Игр.приставки Playstation           7         0%                2   \n",
       "04) Квадрокоптеры                       0          -                3   \n",
       "05) Коляски                             4        25%                1   \n",
       "09) Телевизоры                          1         0%                0   \n",
       "10) Проекторы                           0          -                0   \n",
       "11) планшеты                            0          -                2   \n",
       "12) Ноутбуки                            7         0%                3   \n",
       "13) Apple ноутбуки                      3         0%                1   \n",
       "14) Телефоны другие                     0          -                0   \n",
       "15) Камера 360                          1       100%                0   \n",
       "16) Очки ДР                             0          -                0   \n",
       "17) Очки ВР                             0          -                0   \n",
       "18) Электросамокаты                     1         0%                0   \n",
       "19) Сигвеи                              0          -                0   \n",
       "20) Моноколеса                          0          -                0   \n",
       "21) Пылесосы                            0          -                0   \n",
       "22) Металлоискатели                     2        50%                1   \n",
       "23) Продажа                             0          -                0   \n",
       "24) фотозоны                            0          -                0   \n",
       "25) светодиодные экраны                 0          -                0   \n",
       "26) активности и игры                   0          -                0   \n",
       "27) другое (роботы)                     0          -                0   \n",
       "28) Очки ВР event                       0          -                0   \n",
       "32) Игровые Пк                          0          -                0   \n",
       "33) Игровые приставки Xbox              0          -                1   \n",
       "34) телефоны apple                      3         0%                1   \n",
       "35) Игровые приставки Nintendo          0          -                0   \n",
       "nan                                     6          -                1   \n",
       "ВСЕГО                                  38         8%               16   \n",
       "\n",
       "менеджер>                                   1 Стажер              2 Стажер  \\\n",
       "f>                             конв.бронь количество конв.бронь количество   \n",
       "Направление                                                                  \n",
       "01) экшн-камеры                         -         56        45%         11   \n",
       "02) Стабилизаторы                       -         10        70%          1   \n",
       "03) Игр.приставки Playstation          0%        247        29%          9   \n",
       "04) Квадрокоптеры                     67%         28        32%          1   \n",
       "05) Коляски                            0%         37        41%          4   \n",
       "09) Телевизоры                          -         11        27%          2   \n",
       "10) Проекторы                           -         36        11%          5   \n",
       "11) планшеты                           0%          7        29%          0   \n",
       "12) Ноутбуки                           0%         92        28%          6   \n",
       "13) Apple ноутбуки                     0%         18        28%          0   \n",
       "14) Телефоны другие                     -         14         7%          1   \n",
       "15) Камера 360                          -          0          -          0   \n",
       "16) Очки ДР                             -          0          -          0   \n",
       "17) Очки ВР                             -         10        40%          0   \n",
       "18) Электросамокаты                     -         67        18%          8   \n",
       "19) Сигвеи                              -         10        60%          0   \n",
       "20) Моноколеса                          -          3        67%          0   \n",
       "21) Пылесосы                            -          0          -          0   \n",
       "22) Металлоискатели                    0%         43        60%          2   \n",
       "23) Продажа                             -         10         0%          3   \n",
       "24) фотозоны                            -          0          -          0   \n",
       "25) светодиодные экраны                 -          0          -          0   \n",
       "26) активности и игры                   -          0          -          0   \n",
       "27) другое (роботы)                     -          6        17%          0   \n",
       "28) Очки ВР event                       -          1          -          0   \n",
       "32) Игровые Пк                          -          8        25%          0   \n",
       "33) Игровые приставки Xbox             0%          4        25%          0   \n",
       "34) телефоны apple                     0%          8        25%          0   \n",
       "35) Игровые приставки Nintendo          -          2         0%          0   \n",
       "nan                                     -          3          -          1   \n",
       "ВСЕГО                                 12%        731        31%         54   \n",
       "\n",
       "менеджер>                                   3 Стажер             \\\n",
       "f>                             конв.бронь количество конв.бронь   \n",
       "Направление                                                       \n",
       "01) экшн-камеры                        9%         35        60%   \n",
       "02) Стабилизаторы                    100%         10        20%   \n",
       "03) Игр.приставки Playstation         22%        157        25%   \n",
       "04) Квадрокоптеры                      0%         41        44%   \n",
       "05) Коляски                           25%         55        20%   \n",
       "09) Телевизоры                        50%         12        17%   \n",
       "10) Проекторы                         20%         25        28%   \n",
       "11) планшеты                            -          8        38%   \n",
       "12) Ноутбуки                          33%         71        41%   \n",
       "13) Apple ноутбуки                      -         21        29%   \n",
       "14) Телефоны другие                    0%         12        17%   \n",
       "15) Камера 360                          -          2       100%   \n",
       "16) Очки ДР                             -          0          -   \n",
       "17) Очки ВР                             -         20        60%   \n",
       "18) Электросамокаты                   12%         19        26%   \n",
       "19) Сигвеи                              -          8        50%   \n",
       "20) Моноколеса                          -          3        67%   \n",
       "21) Пылесосы                            -          0          -   \n",
       "22) Металлоискатели                   50%         35        66%   \n",
       "23) Продажа                            0%          2         0%   \n",
       "24) фотозоны                            -          0          -   \n",
       "25) светодиодные экраны                 -          0          -   \n",
       "26) активности и игры                   -          0          -   \n",
       "27) другое (роботы)                     -          0          -   \n",
       "28) Очки ВР event                       -          0          -   \n",
       "32) Игровые Пк                          -         12        25%   \n",
       "33) Игровые приставки Xbox              -          6        17%   \n",
       "34) телефоны apple                      -         20        10%   \n",
       "35) Игровые приставки Nintendo          -          2        50%   \n",
       "nan                                     -         21          -   \n",
       "ВСЕГО                                 20%        597        33%   \n",
       "\n",
       "менеджер>                      Карцев Евгений            Кузнецова Дарья  \\\n",
       "f>                                 количество конв.бронь      количество   \n",
       "Направление                                                                \n",
       "01) экшн-камеры                             5       100%              50   \n",
       "02) Стабилизаторы                           2       100%              13   \n",
       "03) Игр.приставки Playstation               3        67%             120   \n",
       "04) Квадрокоптеры                           0          -              25   \n",
       "05) Коляски                                 1       100%              16   \n",
       "09) Телевизоры                              0          -              21   \n",
       "10) Проекторы                               0          -              25   \n",
       "11) планшеты                                1       100%              29   \n",
       "12) Ноутбуки                                9       100%             109   \n",
       "13) Apple ноутбуки                          6        83%              31   \n",
       "14) Телефоны другие                         0          -               9   \n",
       "15) Камера 360                              1       100%               6   \n",
       "16) Очки ДР                                 0          -               2   \n",
       "17) Очки ВР                                 0          -              23   \n",
       "18) Электросамокаты                         1       100%              41   \n",
       "19) Сигвеи                                  0          -               4   \n",
       "20) Моноколеса                              0          -               3   \n",
       "21) Пылесосы                                0          -               0   \n",
       "22) Металлоискатели                         1       100%              22   \n",
       "23) Продажа                                 0          -               1   \n",
       "24) фотозоны                                0          -              21   \n",
       "25) светодиодные экраны                     0          -               0   \n",
       "26) активности и игры                       0          -              13   \n",
       "27) другое (роботы)                         0          -               4   \n",
       "28) Очки ВР event                           0          -               1   \n",
       "32) Игровые Пк                              1       100%              13   \n",
       "33) Игровые приставки Xbox                  0          -              14   \n",
       "34) телефоны apple                          1       100%               7   \n",
       "35) Игровые приставки Nintendo              0          -               2   \n",
       "nan                                         0          -               4   \n",
       "ВСЕГО                                      32        94%             629   \n",
       "\n",
       "менеджер>                                 Симак Наталья             \\\n",
       "f>                             конв.бронь    количество конв.бронь   \n",
       "Направление                                                          \n",
       "01) экшн-камеры                       60%            96        56%   \n",
       "02) Стабилизаторы                     77%            21        62%   \n",
       "03) Игр.приставки Playstation         42%           268        32%   \n",
       "04) Квадрокоптеры                     68%            51        29%   \n",
       "05) Коляски                           56%            71        34%   \n",
       "09) Телевизоры                        57%            23        17%   \n",
       "10) Проекторы                         64%            53        42%   \n",
       "11) планшеты                          76%            35        46%   \n",
       "12) Ноутбуки                          60%           128        41%   \n",
       "13) Apple ноутбуки                    74%            45        20%   \n",
       "14) Телефоны другие                   33%            25        16%   \n",
       "15) Камера 360                        50%             9        67%   \n",
       "16) Очки ДР                           50%             6        17%   \n",
       "17) Очки ВР                           39%            35        26%   \n",
       "18) Электросамокаты                   34%            73        15%   \n",
       "19) Сигвеи                           100%             6        50%   \n",
       "20) Моноколеса                        33%             4        75%   \n",
       "21) Пылесосы                            -             1          -   \n",
       "22) Металлоискатели                   59%            47        40%   \n",
       "23) Продажа                            0%            12        17%   \n",
       "24) фотозоны                            -             3          -   \n",
       "25) светодиодные экраны                 -             4          -   \n",
       "26) активности и игры                  0%            10         0%   \n",
       "27) другое (роботы)                    0%             0          -   \n",
       "28) Очки ВР event                       -             1          -   \n",
       "32) Игровые Пк                        31%            22        18%   \n",
       "33) Игровые приставки Xbox            57%            13        31%   \n",
       "34) телефоны apple                    29%            22        36%   \n",
       "35) Игровые приставки Nintendo       100%             3        33%   \n",
       "nan                                     -             7          -   \n",
       "ВСЕГО                                 51%          1094        34%   \n",
       "\n",
       "менеджер>                      Соколов Александр            Чепрасова Ольга  \\\n",
       "f>                                    количество конв.бронь      количество   \n",
       "Направление                                                                   \n",
       "01) экшн-камеры                                0          -               9   \n",
       "02) Стабилизаторы                              0          -               2   \n",
       "03) Игр.приставки Playstation                  0          -              39   \n",
       "04) Квадрокоптеры                             11        82%               7   \n",
       "05) Коляски                                    0          -               7   \n",
       "09) Телевизоры                                 0          -               1   \n",
       "10) Проекторы                                  0          -               5   \n",
       "11) планшеты                                   0          -               5   \n",
       "12) Ноутбуки                                   0          -              21   \n",
       "13) Apple ноутбуки                             0          -               9   \n",
       "14) Телефоны другие                            0          -               6   \n",
       "15) Камера 360                                 0          -               3   \n",
       "16) Очки ДР                                    0          -               0   \n",
       "17) Очки ВР                                    0          -               3   \n",
       "18) Электросамокаты                            0          -              16   \n",
       "19) Сигвеи                                     0          -               1   \n",
       "20) Моноколеса                                 0          -               1   \n",
       "21) Пылесосы                                   0          -               0   \n",
       "22) Металлоискатели                            0          -               8   \n",
       "23) Продажа                                    1       100%               3   \n",
       "24) фотозоны                                   0          -               0   \n",
       "25) светодиодные экраны                        0          -               0   \n",
       "26) активности и игры                          0          -               1   \n",
       "27) другое (роботы)                            0          -               0   \n",
       "28) Очки ВР event                              0          -               0   \n",
       "32) Игровые Пк                                 0          -               2   \n",
       "33) Игровые приставки Xbox                     0          -               0   \n",
       "34) телефоны apple                             0          -               1   \n",
       "35) Игровые приставки Nintendo                 0          -               0   \n",
       "nan                                            0          -               0   \n",
       "ВСЕГО                                         12        83%             150   \n",
       "\n",
       "менеджер>                                 Шутова Виктория             \\\n",
       "f>                             конв.бронь      количество конв.бронь   \n",
       "Направление                                                            \n",
       "01) экшн-камеры                       56%              98        67%   \n",
       "02) Стабилизаторы                      0%              17        65%   \n",
       "03) Игр.приставки Playstation         31%             279        51%   \n",
       "04) Квадрокоптеры                     14%              29        38%   \n",
       "05) Коляски                           29%              50        42%   \n",
       "09) Телевизоры                         0%              29        38%   \n",
       "10) Проекторы                         40%              36        47%   \n",
       "11) планшеты                          40%              26        62%   \n",
       "12) Ноутбуки                          38%             107        55%   \n",
       "13) Apple ноутбуки                    22%              34        47%   \n",
       "14) Телефоны другие                   17%              27         7%   \n",
       "15) Камера 360                        33%               8        75%   \n",
       "16) Очки ДР                             -               2        50%   \n",
       "17) Очки ВР                           67%              36        44%   \n",
       "18) Электросамокаты                   12%              75        43%   \n",
       "19) Сигвеи                           100%               7        86%   \n",
       "20) Моноколеса                       100%               1         0%   \n",
       "21) Пылесосы                            -               0          -   \n",
       "22) Металлоискатели                   25%              42        36%   \n",
       "23) Продажа                            0%              16         6%   \n",
       "24) фотозоны                            -              41          -   \n",
       "25) светодиодные экраны                 -               4          -   \n",
       "26) активности и игры                  0%              17         6%   \n",
       "27) другое (роботы)                     -               3         0%   \n",
       "28) Очки ВР event                       -               1          -   \n",
       "32) Игровые Пк                         0%              22        50%   \n",
       "33) Игровые приставки Xbox              -              10        50%   \n",
       "34) телефоны apple                   100%              24        29%   \n",
       "35) Игровые приставки Nintendo          -               3         0%   \n",
       "nan                                     -               4          -   \n",
       "ВСЕГО                                 30%            1048        45%   \n",
       "\n",
       "менеджер>                           ВСЕГО             \n",
       "f>                             количество конв.бронь  \n",
       "Направление                                           \n",
       "01) экшн-камеры                       363        57%  \n",
       "02) Стабилизаторы                      76        61%  \n",
       "03) Игр.приставки Playstation        1131        36%  \n",
       "04) Квадрокоптеры                     196        42%  \n",
       "05) Коляски                           246        35%  \n",
       "09) Телевизоры                        100        33%  \n",
       "10) Проекторы                         185        37%  \n",
       "11) планшеты                          113        55%  \n",
       "12) Ноутбуки                          553        45%  \n",
       "13) Apple ноутбуки                    168        39%  \n",
       "14) Телефоны другие                    94        14%  \n",
       "15) Камера 360                         30        67%  \n",
       "16) Очки ДР                            10        30%  \n",
       "17) Очки ВР                           127        41%  \n",
       "18) Электросамокаты                   301        26%  \n",
       "19) Сигвеи                             36        67%  \n",
       "20) Моноколеса                         15        60%  \n",
       "21) Пылесосы                            1          -  \n",
       "22) Металлоискатели                   203        50%  \n",
       "23) Продажа                            48         8%  \n",
       "24) фотозоны                           65          -  \n",
       "25) светодиодные экраны                 8          -  \n",
       "26) активности и игры                  41         2%  \n",
       "27) другое (роботы)                    13         8%  \n",
       "28) Очки ВР event                       4          -  \n",
       "32) Игровые Пк                         80        31%  \n",
       "33) Игровые приставки Xbox             48        40%  \n",
       "34) телефоны apple                     87        26%  \n",
       "35) Игровые приставки Nintendo         12        33%  \n",
       "nan                                    47          -  \n",
       "ВСЕГО                                4401        38%  "
      ]
     },
     "metadata": {},
     "output_type": "display_data"
    },
    {
     "name": "stdout",
     "output_type": "stream",
     "text": [
      "\n",
      "\n",
      "\n",
      "\n",
      "\n",
      "\n",
      "------------------СВОДНЫЙ ОТЧЕТ по конверсии в бронь(event)-----------------\n"
     ]
    },
    {
     "data": {
      "text/html": [
       "<div>\n",
       "<style scoped>\n",
       "    .dataframe tbody tr th:only-of-type {\n",
       "        vertical-align: middle;\n",
       "    }\n",
       "\n",
       "    .dataframe tbody tr th {\n",
       "        vertical-align: top;\n",
       "    }\n",
       "\n",
       "    .dataframe thead tr th {\n",
       "        text-align: left;\n",
       "    }\n",
       "\n",
       "    .dataframe thead tr:last-of-type th {\n",
       "        text-align: right;\n",
       "    }\n",
       "</style>\n",
       "<table border=\"1\" class=\"dataframe\">\n",
       "  <thead>\n",
       "    <tr>\n",
       "      <th>менеджер&gt;</th>\n",
       "      <th colspan=\"2\" halign=\"left\">1 Стажер</th>\n",
       "      <th colspan=\"2\" halign=\"left\">3 Стажер</th>\n",
       "      <th colspan=\"2\" halign=\"left\">Кузнецова Дарья</th>\n",
       "      <th colspan=\"2\" halign=\"left\">Симак Наталья</th>\n",
       "      <th colspan=\"2\" halign=\"left\">Шутова Виктория</th>\n",
       "      <th colspan=\"2\" halign=\"left\">ВСЕГО</th>\n",
       "    </tr>\n",
       "    <tr>\n",
       "      <th>f&gt;</th>\n",
       "      <th>количество</th>\n",
       "      <th>конв.бронь</th>\n",
       "      <th>количество</th>\n",
       "      <th>конв.бронь</th>\n",
       "      <th>количество</th>\n",
       "      <th>конв.бронь</th>\n",
       "      <th>количество</th>\n",
       "      <th>конв.бронь</th>\n",
       "      <th>количество</th>\n",
       "      <th>конв.бронь</th>\n",
       "      <th>количество</th>\n",
       "      <th>конв.бронь</th>\n",
       "    </tr>\n",
       "    <tr>\n",
       "      <th>Направление</th>\n",
       "      <th></th>\n",
       "      <th></th>\n",
       "      <th></th>\n",
       "      <th></th>\n",
       "      <th></th>\n",
       "      <th></th>\n",
       "      <th></th>\n",
       "      <th></th>\n",
       "      <th></th>\n",
       "      <th></th>\n",
       "      <th></th>\n",
       "      <th></th>\n",
       "    </tr>\n",
       "  </thead>\n",
       "  <tbody>\n",
       "    <tr>\n",
       "      <th>09) Телевизоры</th>\n",
       "      <td>1</td>\n",
       "      <td>100%</td>\n",
       "      <td>2</td>\n",
       "      <td>50%</td>\n",
       "      <td>5</td>\n",
       "      <td>60%</td>\n",
       "      <td>2</td>\n",
       "      <td>50%</td>\n",
       "      <td>1</td>\n",
       "      <td>100%</td>\n",
       "      <td>11</td>\n",
       "      <td>64%</td>\n",
       "    </tr>\n",
       "    <tr>\n",
       "      <th>24) фотозоны</th>\n",
       "      <td>0</td>\n",
       "      <td>-</td>\n",
       "      <td>0</td>\n",
       "      <td>-</td>\n",
       "      <td>19</td>\n",
       "      <td>89%</td>\n",
       "      <td>0</td>\n",
       "      <td>-</td>\n",
       "      <td>11</td>\n",
       "      <td>91%</td>\n",
       "      <td>30</td>\n",
       "      <td>90%</td>\n",
       "    </tr>\n",
       "    <tr>\n",
       "      <th>25) светодиодные экраны</th>\n",
       "      <td>0</td>\n",
       "      <td>-</td>\n",
       "      <td>0</td>\n",
       "      <td>-</td>\n",
       "      <td>0</td>\n",
       "      <td>inf%</td>\n",
       "      <td>0</td>\n",
       "      <td>-</td>\n",
       "      <td>1</td>\n",
       "      <td>100%</td>\n",
       "      <td>1</td>\n",
       "      <td>200%</td>\n",
       "    </tr>\n",
       "    <tr>\n",
       "      <th>26) активности и игры</th>\n",
       "      <td>0</td>\n",
       "      <td>-</td>\n",
       "      <td>0</td>\n",
       "      <td>-</td>\n",
       "      <td>6</td>\n",
       "      <td>83%</td>\n",
       "      <td>1</td>\n",
       "      <td>100%</td>\n",
       "      <td>5</td>\n",
       "      <td>60%</td>\n",
       "      <td>12</td>\n",
       "      <td>75%</td>\n",
       "    </tr>\n",
       "    <tr>\n",
       "      <th>28) Очки ВР event</th>\n",
       "      <td>0</td>\n",
       "      <td>-</td>\n",
       "      <td>0</td>\n",
       "      <td>-</td>\n",
       "      <td>8</td>\n",
       "      <td>88%</td>\n",
       "      <td>0</td>\n",
       "      <td>-</td>\n",
       "      <td>0</td>\n",
       "      <td>-</td>\n",
       "      <td>8</td>\n",
       "      <td>88%</td>\n",
       "    </tr>\n",
       "    <tr>\n",
       "      <th>33) Игровые приставки Xbox</th>\n",
       "      <td>0</td>\n",
       "      <td>-</td>\n",
       "      <td>0</td>\n",
       "      <td>-</td>\n",
       "      <td>1</td>\n",
       "      <td>100%</td>\n",
       "      <td>0</td>\n",
       "      <td>-</td>\n",
       "      <td>0</td>\n",
       "      <td>-</td>\n",
       "      <td>1</td>\n",
       "      <td>100%</td>\n",
       "    </tr>\n",
       "    <tr>\n",
       "      <th>ВСЕГО</th>\n",
       "      <td>1</td>\n",
       "      <td>100%</td>\n",
       "      <td>2</td>\n",
       "      <td>50%</td>\n",
       "      <td>39</td>\n",
       "      <td>87%</td>\n",
       "      <td>3</td>\n",
       "      <td>67%</td>\n",
       "      <td>18</td>\n",
       "      <td>83%</td>\n",
       "      <td>63</td>\n",
       "      <td>84%</td>\n",
       "    </tr>\n",
       "  </tbody>\n",
       "</table>\n",
       "</div>"
      ],
      "text/plain": [
       "менеджер>                    1 Стажер              3 Стажер             \\\n",
       "f>                         количество конв.бронь количество конв.бронь   \n",
       "Направление                                                              \n",
       "09) Телевизоры                      1       100%          2        50%   \n",
       "24) фотозоны                        0          -          0          -   \n",
       "25) светодиодные экраны             0          -          0          -   \n",
       "26) активности и игры               0          -          0          -   \n",
       "28) Очки ВР event                   0          -          0          -   \n",
       "33) Игровые приставки Xbox          0          -          0          -   \n",
       "ВСЕГО                               1       100%          2        50%   \n",
       "\n",
       "менеджер>                  Кузнецова Дарья            Симак Наталья  \\\n",
       "f>                              количество конв.бронь    количество   \n",
       "Направление                                                           \n",
       "09) Телевизоры                           5        60%             2   \n",
       "24) фотозоны                            19        89%             0   \n",
       "25) светодиодные экраны                  0       inf%             0   \n",
       "26) активности и игры                    6        83%             1   \n",
       "28) Очки ВР event                        8        88%             0   \n",
       "33) Игровые приставки Xbox               1       100%             0   \n",
       "ВСЕГО                                   39        87%             3   \n",
       "\n",
       "менеджер>                             Шутова Виктория                 ВСЕГО  \\\n",
       "f>                         конв.бронь      количество конв.бронь количество   \n",
       "Направление                                                                   \n",
       "09) Телевизоры                    50%               1       100%         11   \n",
       "24) фотозоны                        -              11        91%         30   \n",
       "25) светодиодные экраны             -               1       100%          1   \n",
       "26) активности и игры            100%               5        60%         12   \n",
       "28) Очки ВР event                   -               0          -          8   \n",
       "33) Игровые приставки Xbox          -               0          -          1   \n",
       "ВСЕГО                             67%              18        83%         63   \n",
       "\n",
       "менеджер>                              \n",
       "f>                         конв.бронь  \n",
       "Направление                            \n",
       "09) Телевизоры                    64%  \n",
       "24) фотозоны                      90%  \n",
       "25) светодиодные экраны          200%  \n",
       "26) активности и игры             75%  \n",
       "28) Очки ВР event                 88%  \n",
       "33) Игровые приставки Xbox       100%  \n",
       "ВСЕГО                             84%  "
      ]
     },
     "metadata": {},
     "output_type": "display_data"
    },
    {
     "name": "stdout",
     "output_type": "stream",
     "text": [
      "\n",
      "\n",
      "\n",
      "\n",
      "\n",
      "\n",
      "------------------СВОДНЫЙ ОТЧЕТ по конверсии в бронь(прокат+event)-----------------\n"
     ]
    },
    {
     "data": {
      "text/html": [
       "<div>\n",
       "<style scoped>\n",
       "    .dataframe tbody tr th:only-of-type {\n",
       "        vertical-align: middle;\n",
       "    }\n",
       "\n",
       "    .dataframe tbody tr th {\n",
       "        vertical-align: top;\n",
       "    }\n",
       "\n",
       "    .dataframe thead tr th {\n",
       "        text-align: left;\n",
       "    }\n",
       "\n",
       "    .dataframe thead tr:last-of-type th {\n",
       "        text-align: right;\n",
       "    }\n",
       "</style>\n",
       "<table border=\"1\" class=\"dataframe\">\n",
       "  <thead>\n",
       "    <tr>\n",
       "      <th>менеджер&gt;</th>\n",
       "      <th colspan=\"2\" halign=\"left\">Алина</th>\n",
       "      <th colspan=\"2\" halign=\"left\">Елена Смоликова</th>\n",
       "      <th colspan=\"2\" halign=\"left\">1 Стажер</th>\n",
       "      <th colspan=\"2\" halign=\"left\">2 Стажер</th>\n",
       "      <th colspan=\"2\" halign=\"left\">3 Стажер</th>\n",
       "      <th colspan=\"2\" halign=\"left\">Карцев Евгений</th>\n",
       "      <th colspan=\"2\" halign=\"left\">Кузнецова Дарья</th>\n",
       "      <th colspan=\"2\" halign=\"left\">Симак Наталья</th>\n",
       "      <th colspan=\"2\" halign=\"left\">Соколов Александр</th>\n",
       "      <th colspan=\"2\" halign=\"left\">Чепрасова Ольга</th>\n",
       "      <th colspan=\"2\" halign=\"left\">Шутова Виктория</th>\n",
       "      <th colspan=\"2\" halign=\"left\">ВСЕГО</th>\n",
       "    </tr>\n",
       "    <tr>\n",
       "      <th>f&gt;</th>\n",
       "      <th>количество</th>\n",
       "      <th>конв.бронь</th>\n",
       "      <th>количество</th>\n",
       "      <th>конв.бронь</th>\n",
       "      <th>количество</th>\n",
       "      <th>конв.бронь</th>\n",
       "      <th>количество</th>\n",
       "      <th>конв.бронь</th>\n",
       "      <th>количество</th>\n",
       "      <th>конв.бронь</th>\n",
       "      <th>количество</th>\n",
       "      <th>конв.бронь</th>\n",
       "      <th>количество</th>\n",
       "      <th>конв.бронь</th>\n",
       "      <th>количество</th>\n",
       "      <th>конв.бронь</th>\n",
       "      <th>количество</th>\n",
       "      <th>конв.бронь</th>\n",
       "      <th>количество</th>\n",
       "      <th>конв.бронь</th>\n",
       "      <th>количество</th>\n",
       "      <th>конв.бронь</th>\n",
       "      <th>количество</th>\n",
       "      <th>конв.бронь</th>\n",
       "    </tr>\n",
       "    <tr>\n",
       "      <th>Направление</th>\n",
       "      <th></th>\n",
       "      <th></th>\n",
       "      <th></th>\n",
       "      <th></th>\n",
       "      <th></th>\n",
       "      <th></th>\n",
       "      <th></th>\n",
       "      <th></th>\n",
       "      <th></th>\n",
       "      <th></th>\n",
       "      <th></th>\n",
       "      <th></th>\n",
       "      <th></th>\n",
       "      <th></th>\n",
       "      <th></th>\n",
       "      <th></th>\n",
       "      <th></th>\n",
       "      <th></th>\n",
       "      <th></th>\n",
       "      <th></th>\n",
       "      <th></th>\n",
       "      <th></th>\n",
       "      <th></th>\n",
       "      <th></th>\n",
       "    </tr>\n",
       "  </thead>\n",
       "  <tbody>\n",
       "    <tr>\n",
       "      <th>01) экшн-камеры</th>\n",
       "      <td>3</td>\n",
       "      <td>0%</td>\n",
       "      <td>0</td>\n",
       "      <td>-</td>\n",
       "      <td>56</td>\n",
       "      <td>45%</td>\n",
       "      <td>11</td>\n",
       "      <td>9%</td>\n",
       "      <td>35</td>\n",
       "      <td>60%</td>\n",
       "      <td>5</td>\n",
       "      <td>100%</td>\n",
       "      <td>50</td>\n",
       "      <td>60%</td>\n",
       "      <td>96</td>\n",
       "      <td>56%</td>\n",
       "      <td>0</td>\n",
       "      <td>-</td>\n",
       "      <td>9</td>\n",
       "      <td>56%</td>\n",
       "      <td>98</td>\n",
       "      <td>67%</td>\n",
       "      <td>363</td>\n",
       "      <td>57%</td>\n",
       "    </tr>\n",
       "    <tr>\n",
       "      <th>02) Стабилизаторы</th>\n",
       "      <td>0</td>\n",
       "      <td>-</td>\n",
       "      <td>0</td>\n",
       "      <td>-</td>\n",
       "      <td>10</td>\n",
       "      <td>70%</td>\n",
       "      <td>1</td>\n",
       "      <td>100%</td>\n",
       "      <td>10</td>\n",
       "      <td>20%</td>\n",
       "      <td>2</td>\n",
       "      <td>100%</td>\n",
       "      <td>13</td>\n",
       "      <td>77%</td>\n",
       "      <td>21</td>\n",
       "      <td>62%</td>\n",
       "      <td>0</td>\n",
       "      <td>-</td>\n",
       "      <td>2</td>\n",
       "      <td>0%</td>\n",
       "      <td>17</td>\n",
       "      <td>65%</td>\n",
       "      <td>76</td>\n",
       "      <td>61%</td>\n",
       "    </tr>\n",
       "    <tr>\n",
       "      <th>03) Игр.приставки Playstation</th>\n",
       "      <td>7</td>\n",
       "      <td>0%</td>\n",
       "      <td>2</td>\n",
       "      <td>0%</td>\n",
       "      <td>247</td>\n",
       "      <td>29%</td>\n",
       "      <td>9</td>\n",
       "      <td>22%</td>\n",
       "      <td>157</td>\n",
       "      <td>25%</td>\n",
       "      <td>3</td>\n",
       "      <td>67%</td>\n",
       "      <td>120</td>\n",
       "      <td>42%</td>\n",
       "      <td>268</td>\n",
       "      <td>32%</td>\n",
       "      <td>0</td>\n",
       "      <td>-</td>\n",
       "      <td>39</td>\n",
       "      <td>31%</td>\n",
       "      <td>279</td>\n",
       "      <td>51%</td>\n",
       "      <td>1131</td>\n",
       "      <td>36%</td>\n",
       "    </tr>\n",
       "    <tr>\n",
       "      <th>04) Квадрокоптеры</th>\n",
       "      <td>0</td>\n",
       "      <td>-</td>\n",
       "      <td>3</td>\n",
       "      <td>67%</td>\n",
       "      <td>28</td>\n",
       "      <td>32%</td>\n",
       "      <td>1</td>\n",
       "      <td>0%</td>\n",
       "      <td>41</td>\n",
       "      <td>44%</td>\n",
       "      <td>0</td>\n",
       "      <td>-</td>\n",
       "      <td>25</td>\n",
       "      <td>68%</td>\n",
       "      <td>51</td>\n",
       "      <td>29%</td>\n",
       "      <td>11</td>\n",
       "      <td>82%</td>\n",
       "      <td>7</td>\n",
       "      <td>14%</td>\n",
       "      <td>29</td>\n",
       "      <td>38%</td>\n",
       "      <td>196</td>\n",
       "      <td>42%</td>\n",
       "    </tr>\n",
       "    <tr>\n",
       "      <th>05) Коляски</th>\n",
       "      <td>4</td>\n",
       "      <td>25%</td>\n",
       "      <td>1</td>\n",
       "      <td>0%</td>\n",
       "      <td>37</td>\n",
       "      <td>41%</td>\n",
       "      <td>4</td>\n",
       "      <td>25%</td>\n",
       "      <td>55</td>\n",
       "      <td>20%</td>\n",
       "      <td>1</td>\n",
       "      <td>100%</td>\n",
       "      <td>16</td>\n",
       "      <td>56%</td>\n",
       "      <td>71</td>\n",
       "      <td>34%</td>\n",
       "      <td>0</td>\n",
       "      <td>-</td>\n",
       "      <td>7</td>\n",
       "      <td>29%</td>\n",
       "      <td>50</td>\n",
       "      <td>42%</td>\n",
       "      <td>246</td>\n",
       "      <td>35%</td>\n",
       "    </tr>\n",
       "    <tr>\n",
       "      <th>09) Телевизоры</th>\n",
       "      <td>1</td>\n",
       "      <td>0%</td>\n",
       "      <td>0</td>\n",
       "      <td>-</td>\n",
       "      <td>12</td>\n",
       "      <td>33%</td>\n",
       "      <td>2</td>\n",
       "      <td>50%</td>\n",
       "      <td>14</td>\n",
       "      <td>21%</td>\n",
       "      <td>0</td>\n",
       "      <td>-</td>\n",
       "      <td>26</td>\n",
       "      <td>58%</td>\n",
       "      <td>25</td>\n",
       "      <td>20%</td>\n",
       "      <td>0</td>\n",
       "      <td>-</td>\n",
       "      <td>1</td>\n",
       "      <td>0%</td>\n",
       "      <td>30</td>\n",
       "      <td>40%</td>\n",
       "      <td>111</td>\n",
       "      <td>36%</td>\n",
       "    </tr>\n",
       "    <tr>\n",
       "      <th>10) Проекторы</th>\n",
       "      <td>0</td>\n",
       "      <td>-</td>\n",
       "      <td>0</td>\n",
       "      <td>-</td>\n",
       "      <td>36</td>\n",
       "      <td>11%</td>\n",
       "      <td>5</td>\n",
       "      <td>20%</td>\n",
       "      <td>25</td>\n",
       "      <td>28%</td>\n",
       "      <td>0</td>\n",
       "      <td>-</td>\n",
       "      <td>25</td>\n",
       "      <td>64%</td>\n",
       "      <td>53</td>\n",
       "      <td>42%</td>\n",
       "      <td>0</td>\n",
       "      <td>-</td>\n",
       "      <td>5</td>\n",
       "      <td>40%</td>\n",
       "      <td>36</td>\n",
       "      <td>47%</td>\n",
       "      <td>185</td>\n",
       "      <td>37%</td>\n",
       "    </tr>\n",
       "    <tr>\n",
       "      <th>11) планшеты</th>\n",
       "      <td>0</td>\n",
       "      <td>-</td>\n",
       "      <td>2</td>\n",
       "      <td>0%</td>\n",
       "      <td>7</td>\n",
       "      <td>29%</td>\n",
       "      <td>0</td>\n",
       "      <td>-</td>\n",
       "      <td>8</td>\n",
       "      <td>38%</td>\n",
       "      <td>1</td>\n",
       "      <td>100%</td>\n",
       "      <td>29</td>\n",
       "      <td>76%</td>\n",
       "      <td>35</td>\n",
       "      <td>46%</td>\n",
       "      <td>0</td>\n",
       "      <td>-</td>\n",
       "      <td>5</td>\n",
       "      <td>40%</td>\n",
       "      <td>26</td>\n",
       "      <td>62%</td>\n",
       "      <td>113</td>\n",
       "      <td>55%</td>\n",
       "    </tr>\n",
       "    <tr>\n",
       "      <th>12) Ноутбуки</th>\n",
       "      <td>7</td>\n",
       "      <td>0%</td>\n",
       "      <td>3</td>\n",
       "      <td>0%</td>\n",
       "      <td>92</td>\n",
       "      <td>28%</td>\n",
       "      <td>6</td>\n",
       "      <td>33%</td>\n",
       "      <td>71</td>\n",
       "      <td>41%</td>\n",
       "      <td>9</td>\n",
       "      <td>100%</td>\n",
       "      <td>109</td>\n",
       "      <td>60%</td>\n",
       "      <td>128</td>\n",
       "      <td>41%</td>\n",
       "      <td>0</td>\n",
       "      <td>-</td>\n",
       "      <td>21</td>\n",
       "      <td>38%</td>\n",
       "      <td>107</td>\n",
       "      <td>55%</td>\n",
       "      <td>553</td>\n",
       "      <td>45%</td>\n",
       "    </tr>\n",
       "    <tr>\n",
       "      <th>13) Apple ноутбуки</th>\n",
       "      <td>3</td>\n",
       "      <td>0%</td>\n",
       "      <td>1</td>\n",
       "      <td>0%</td>\n",
       "      <td>18</td>\n",
       "      <td>28%</td>\n",
       "      <td>0</td>\n",
       "      <td>-</td>\n",
       "      <td>21</td>\n",
       "      <td>29%</td>\n",
       "      <td>6</td>\n",
       "      <td>83%</td>\n",
       "      <td>31</td>\n",
       "      <td>74%</td>\n",
       "      <td>45</td>\n",
       "      <td>20%</td>\n",
       "      <td>0</td>\n",
       "      <td>-</td>\n",
       "      <td>9</td>\n",
       "      <td>22%</td>\n",
       "      <td>34</td>\n",
       "      <td>47%</td>\n",
       "      <td>168</td>\n",
       "      <td>39%</td>\n",
       "    </tr>\n",
       "    <tr>\n",
       "      <th>14) Телефоны другие</th>\n",
       "      <td>0</td>\n",
       "      <td>-</td>\n",
       "      <td>0</td>\n",
       "      <td>-</td>\n",
       "      <td>14</td>\n",
       "      <td>7%</td>\n",
       "      <td>1</td>\n",
       "      <td>0%</td>\n",
       "      <td>12</td>\n",
       "      <td>17%</td>\n",
       "      <td>0</td>\n",
       "      <td>-</td>\n",
       "      <td>9</td>\n",
       "      <td>33%</td>\n",
       "      <td>25</td>\n",
       "      <td>16%</td>\n",
       "      <td>0</td>\n",
       "      <td>-</td>\n",
       "      <td>6</td>\n",
       "      <td>17%</td>\n",
       "      <td>27</td>\n",
       "      <td>7%</td>\n",
       "      <td>94</td>\n",
       "      <td>14%</td>\n",
       "    </tr>\n",
       "    <tr>\n",
       "      <th>15) Камера 360</th>\n",
       "      <td>1</td>\n",
       "      <td>100%</td>\n",
       "      <td>0</td>\n",
       "      <td>-</td>\n",
       "      <td>0</td>\n",
       "      <td>-</td>\n",
       "      <td>0</td>\n",
       "      <td>-</td>\n",
       "      <td>2</td>\n",
       "      <td>100%</td>\n",
       "      <td>1</td>\n",
       "      <td>100%</td>\n",
       "      <td>6</td>\n",
       "      <td>50%</td>\n",
       "      <td>9</td>\n",
       "      <td>67%</td>\n",
       "      <td>0</td>\n",
       "      <td>-</td>\n",
       "      <td>3</td>\n",
       "      <td>33%</td>\n",
       "      <td>8</td>\n",
       "      <td>75%</td>\n",
       "      <td>30</td>\n",
       "      <td>67%</td>\n",
       "    </tr>\n",
       "    <tr>\n",
       "      <th>16) Очки ДР</th>\n",
       "      <td>0</td>\n",
       "      <td>-</td>\n",
       "      <td>0</td>\n",
       "      <td>-</td>\n",
       "      <td>0</td>\n",
       "      <td>-</td>\n",
       "      <td>0</td>\n",
       "      <td>-</td>\n",
       "      <td>0</td>\n",
       "      <td>-</td>\n",
       "      <td>0</td>\n",
       "      <td>-</td>\n",
       "      <td>2</td>\n",
       "      <td>50%</td>\n",
       "      <td>6</td>\n",
       "      <td>17%</td>\n",
       "      <td>0</td>\n",
       "      <td>-</td>\n",
       "      <td>0</td>\n",
       "      <td>-</td>\n",
       "      <td>2</td>\n",
       "      <td>50%</td>\n",
       "      <td>10</td>\n",
       "      <td>30%</td>\n",
       "    </tr>\n",
       "    <tr>\n",
       "      <th>17) Очки ВР</th>\n",
       "      <td>0</td>\n",
       "      <td>-</td>\n",
       "      <td>0</td>\n",
       "      <td>-</td>\n",
       "      <td>10</td>\n",
       "      <td>40%</td>\n",
       "      <td>0</td>\n",
       "      <td>-</td>\n",
       "      <td>20</td>\n",
       "      <td>60%</td>\n",
       "      <td>0</td>\n",
       "      <td>-</td>\n",
       "      <td>23</td>\n",
       "      <td>39%</td>\n",
       "      <td>35</td>\n",
       "      <td>26%</td>\n",
       "      <td>0</td>\n",
       "      <td>-</td>\n",
       "      <td>3</td>\n",
       "      <td>67%</td>\n",
       "      <td>36</td>\n",
       "      <td>44%</td>\n",
       "      <td>127</td>\n",
       "      <td>41%</td>\n",
       "    </tr>\n",
       "    <tr>\n",
       "      <th>18) Электросамокаты</th>\n",
       "      <td>1</td>\n",
       "      <td>0%</td>\n",
       "      <td>0</td>\n",
       "      <td>-</td>\n",
       "      <td>67</td>\n",
       "      <td>18%</td>\n",
       "      <td>8</td>\n",
       "      <td>12%</td>\n",
       "      <td>19</td>\n",
       "      <td>26%</td>\n",
       "      <td>1</td>\n",
       "      <td>100%</td>\n",
       "      <td>41</td>\n",
       "      <td>34%</td>\n",
       "      <td>73</td>\n",
       "      <td>15%</td>\n",
       "      <td>0</td>\n",
       "      <td>-</td>\n",
       "      <td>16</td>\n",
       "      <td>12%</td>\n",
       "      <td>75</td>\n",
       "      <td>43%</td>\n",
       "      <td>301</td>\n",
       "      <td>26%</td>\n",
       "    </tr>\n",
       "    <tr>\n",
       "      <th>19) Сигвеи</th>\n",
       "      <td>0</td>\n",
       "      <td>-</td>\n",
       "      <td>0</td>\n",
       "      <td>-</td>\n",
       "      <td>10</td>\n",
       "      <td>60%</td>\n",
       "      <td>0</td>\n",
       "      <td>-</td>\n",
       "      <td>8</td>\n",
       "      <td>50%</td>\n",
       "      <td>0</td>\n",
       "      <td>-</td>\n",
       "      <td>4</td>\n",
       "      <td>100%</td>\n",
       "      <td>6</td>\n",
       "      <td>50%</td>\n",
       "      <td>0</td>\n",
       "      <td>-</td>\n",
       "      <td>1</td>\n",
       "      <td>100%</td>\n",
       "      <td>7</td>\n",
       "      <td>86%</td>\n",
       "      <td>36</td>\n",
       "      <td>67%</td>\n",
       "    </tr>\n",
       "    <tr>\n",
       "      <th>20) Моноколеса</th>\n",
       "      <td>0</td>\n",
       "      <td>-</td>\n",
       "      <td>0</td>\n",
       "      <td>-</td>\n",
       "      <td>3</td>\n",
       "      <td>67%</td>\n",
       "      <td>0</td>\n",
       "      <td>-</td>\n",
       "      <td>3</td>\n",
       "      <td>67%</td>\n",
       "      <td>0</td>\n",
       "      <td>-</td>\n",
       "      <td>3</td>\n",
       "      <td>33%</td>\n",
       "      <td>4</td>\n",
       "      <td>75%</td>\n",
       "      <td>0</td>\n",
       "      <td>-</td>\n",
       "      <td>1</td>\n",
       "      <td>100%</td>\n",
       "      <td>1</td>\n",
       "      <td>0%</td>\n",
       "      <td>15</td>\n",
       "      <td>60%</td>\n",
       "    </tr>\n",
       "    <tr>\n",
       "      <th>21) Пылесосы</th>\n",
       "      <td>0</td>\n",
       "      <td>-</td>\n",
       "      <td>0</td>\n",
       "      <td>-</td>\n",
       "      <td>0</td>\n",
       "      <td>-</td>\n",
       "      <td>0</td>\n",
       "      <td>-</td>\n",
       "      <td>0</td>\n",
       "      <td>-</td>\n",
       "      <td>0</td>\n",
       "      <td>-</td>\n",
       "      <td>0</td>\n",
       "      <td>-</td>\n",
       "      <td>1</td>\n",
       "      <td>-</td>\n",
       "      <td>0</td>\n",
       "      <td>-</td>\n",
       "      <td>0</td>\n",
       "      <td>-</td>\n",
       "      <td>0</td>\n",
       "      <td>-</td>\n",
       "      <td>1</td>\n",
       "      <td>-</td>\n",
       "    </tr>\n",
       "    <tr>\n",
       "      <th>22) Металлоискатели</th>\n",
       "      <td>2</td>\n",
       "      <td>50%</td>\n",
       "      <td>1</td>\n",
       "      <td>0%</td>\n",
       "      <td>43</td>\n",
       "      <td>60%</td>\n",
       "      <td>2</td>\n",
       "      <td>50%</td>\n",
       "      <td>35</td>\n",
       "      <td>66%</td>\n",
       "      <td>1</td>\n",
       "      <td>100%</td>\n",
       "      <td>22</td>\n",
       "      <td>59%</td>\n",
       "      <td>47</td>\n",
       "      <td>40%</td>\n",
       "      <td>0</td>\n",
       "      <td>-</td>\n",
       "      <td>8</td>\n",
       "      <td>25%</td>\n",
       "      <td>42</td>\n",
       "      <td>36%</td>\n",
       "      <td>203</td>\n",
       "      <td>50%</td>\n",
       "    </tr>\n",
       "    <tr>\n",
       "      <th>23) Продажа</th>\n",
       "      <td>0</td>\n",
       "      <td>-</td>\n",
       "      <td>0</td>\n",
       "      <td>-</td>\n",
       "      <td>10</td>\n",
       "      <td>0%</td>\n",
       "      <td>3</td>\n",
       "      <td>0%</td>\n",
       "      <td>2</td>\n",
       "      <td>0%</td>\n",
       "      <td>0</td>\n",
       "      <td>-</td>\n",
       "      <td>1</td>\n",
       "      <td>0%</td>\n",
       "      <td>12</td>\n",
       "      <td>17%</td>\n",
       "      <td>2</td>\n",
       "      <td>50%</td>\n",
       "      <td>3</td>\n",
       "      <td>0%</td>\n",
       "      <td>16</td>\n",
       "      <td>6%</td>\n",
       "      <td>49</td>\n",
       "      <td>8%</td>\n",
       "    </tr>\n",
       "    <tr>\n",
       "      <th>24) фотозоны</th>\n",
       "      <td>0</td>\n",
       "      <td>-</td>\n",
       "      <td>0</td>\n",
       "      <td>-</td>\n",
       "      <td>0</td>\n",
       "      <td>-</td>\n",
       "      <td>0</td>\n",
       "      <td>-</td>\n",
       "      <td>0</td>\n",
       "      <td>-</td>\n",
       "      <td>0</td>\n",
       "      <td>-</td>\n",
       "      <td>40</td>\n",
       "      <td>42%</td>\n",
       "      <td>3</td>\n",
       "      <td>0%</td>\n",
       "      <td>0</td>\n",
       "      <td>-</td>\n",
       "      <td>0</td>\n",
       "      <td>-</td>\n",
       "      <td>52</td>\n",
       "      <td>19%</td>\n",
       "      <td>95</td>\n",
       "      <td>28%</td>\n",
       "    </tr>\n",
       "    <tr>\n",
       "      <th>25) светодиодные экраны</th>\n",
       "      <td>0</td>\n",
       "      <td>-</td>\n",
       "      <td>0</td>\n",
       "      <td>-</td>\n",
       "      <td>0</td>\n",
       "      <td>-</td>\n",
       "      <td>0</td>\n",
       "      <td>-</td>\n",
       "      <td>0</td>\n",
       "      <td>-</td>\n",
       "      <td>0</td>\n",
       "      <td>-</td>\n",
       "      <td>0</td>\n",
       "      <td>inf%</td>\n",
       "      <td>4</td>\n",
       "      <td>0%</td>\n",
       "      <td>0</td>\n",
       "      <td>-</td>\n",
       "      <td>0</td>\n",
       "      <td>-</td>\n",
       "      <td>5</td>\n",
       "      <td>20%</td>\n",
       "      <td>9</td>\n",
       "      <td>22%</td>\n",
       "    </tr>\n",
       "    <tr>\n",
       "      <th>26) активности и игры</th>\n",
       "      <td>0</td>\n",
       "      <td>-</td>\n",
       "      <td>0</td>\n",
       "      <td>-</td>\n",
       "      <td>0</td>\n",
       "      <td>-</td>\n",
       "      <td>0</td>\n",
       "      <td>-</td>\n",
       "      <td>0</td>\n",
       "      <td>-</td>\n",
       "      <td>0</td>\n",
       "      <td>-</td>\n",
       "      <td>19</td>\n",
       "      <td>26%</td>\n",
       "      <td>11</td>\n",
       "      <td>9%</td>\n",
       "      <td>0</td>\n",
       "      <td>-</td>\n",
       "      <td>1</td>\n",
       "      <td>0%</td>\n",
       "      <td>22</td>\n",
       "      <td>18%</td>\n",
       "      <td>53</td>\n",
       "      <td>19%</td>\n",
       "    </tr>\n",
       "    <tr>\n",
       "      <th>27) другое (роботы)</th>\n",
       "      <td>0</td>\n",
       "      <td>-</td>\n",
       "      <td>0</td>\n",
       "      <td>-</td>\n",
       "      <td>6</td>\n",
       "      <td>17%</td>\n",
       "      <td>0</td>\n",
       "      <td>-</td>\n",
       "      <td>0</td>\n",
       "      <td>-</td>\n",
       "      <td>0</td>\n",
       "      <td>-</td>\n",
       "      <td>4</td>\n",
       "      <td>0%</td>\n",
       "      <td>0</td>\n",
       "      <td>-</td>\n",
       "      <td>0</td>\n",
       "      <td>-</td>\n",
       "      <td>0</td>\n",
       "      <td>-</td>\n",
       "      <td>3</td>\n",
       "      <td>0%</td>\n",
       "      <td>13</td>\n",
       "      <td>8%</td>\n",
       "    </tr>\n",
       "    <tr>\n",
       "      <th>28) Очки ВР event</th>\n",
       "      <td>0</td>\n",
       "      <td>-</td>\n",
       "      <td>0</td>\n",
       "      <td>-</td>\n",
       "      <td>1</td>\n",
       "      <td>0%</td>\n",
       "      <td>0</td>\n",
       "      <td>-</td>\n",
       "      <td>0</td>\n",
       "      <td>-</td>\n",
       "      <td>0</td>\n",
       "      <td>-</td>\n",
       "      <td>9</td>\n",
       "      <td>78%</td>\n",
       "      <td>1</td>\n",
       "      <td>0%</td>\n",
       "      <td>0</td>\n",
       "      <td>-</td>\n",
       "      <td>0</td>\n",
       "      <td>-</td>\n",
       "      <td>1</td>\n",
       "      <td>0%</td>\n",
       "      <td>12</td>\n",
       "      <td>58%</td>\n",
       "    </tr>\n",
       "    <tr>\n",
       "      <th>32) Игровые Пк</th>\n",
       "      <td>0</td>\n",
       "      <td>-</td>\n",
       "      <td>0</td>\n",
       "      <td>-</td>\n",
       "      <td>8</td>\n",
       "      <td>25%</td>\n",
       "      <td>0</td>\n",
       "      <td>-</td>\n",
       "      <td>12</td>\n",
       "      <td>25%</td>\n",
       "      <td>1</td>\n",
       "      <td>100%</td>\n",
       "      <td>13</td>\n",
       "      <td>31%</td>\n",
       "      <td>22</td>\n",
       "      <td>18%</td>\n",
       "      <td>0</td>\n",
       "      <td>-</td>\n",
       "      <td>2</td>\n",
       "      <td>0%</td>\n",
       "      <td>22</td>\n",
       "      <td>50%</td>\n",
       "      <td>80</td>\n",
       "      <td>31%</td>\n",
       "    </tr>\n",
       "    <tr>\n",
       "      <th>33) Игровые приставки Xbox</th>\n",
       "      <td>0</td>\n",
       "      <td>-</td>\n",
       "      <td>1</td>\n",
       "      <td>0%</td>\n",
       "      <td>4</td>\n",
       "      <td>25%</td>\n",
       "      <td>0</td>\n",
       "      <td>-</td>\n",
       "      <td>6</td>\n",
       "      <td>17%</td>\n",
       "      <td>0</td>\n",
       "      <td>-</td>\n",
       "      <td>15</td>\n",
       "      <td>60%</td>\n",
       "      <td>13</td>\n",
       "      <td>31%</td>\n",
       "      <td>0</td>\n",
       "      <td>-</td>\n",
       "      <td>0</td>\n",
       "      <td>-</td>\n",
       "      <td>10</td>\n",
       "      <td>50%</td>\n",
       "      <td>49</td>\n",
       "      <td>41%</td>\n",
       "    </tr>\n",
       "    <tr>\n",
       "      <th>34) телефоны apple</th>\n",
       "      <td>3</td>\n",
       "      <td>0%</td>\n",
       "      <td>1</td>\n",
       "      <td>0%</td>\n",
       "      <td>8</td>\n",
       "      <td>25%</td>\n",
       "      <td>0</td>\n",
       "      <td>-</td>\n",
       "      <td>20</td>\n",
       "      <td>10%</td>\n",
       "      <td>1</td>\n",
       "      <td>100%</td>\n",
       "      <td>7</td>\n",
       "      <td>29%</td>\n",
       "      <td>22</td>\n",
       "      <td>36%</td>\n",
       "      <td>0</td>\n",
       "      <td>-</td>\n",
       "      <td>1</td>\n",
       "      <td>100%</td>\n",
       "      <td>24</td>\n",
       "      <td>29%</td>\n",
       "      <td>87</td>\n",
       "      <td>26%</td>\n",
       "    </tr>\n",
       "    <tr>\n",
       "      <th>35) Игровые приставки Nintendo</th>\n",
       "      <td>0</td>\n",
       "      <td>-</td>\n",
       "      <td>0</td>\n",
       "      <td>-</td>\n",
       "      <td>2</td>\n",
       "      <td>0%</td>\n",
       "      <td>0</td>\n",
       "      <td>-</td>\n",
       "      <td>2</td>\n",
       "      <td>50%</td>\n",
       "      <td>0</td>\n",
       "      <td>-</td>\n",
       "      <td>2</td>\n",
       "      <td>100%</td>\n",
       "      <td>3</td>\n",
       "      <td>33%</td>\n",
       "      <td>0</td>\n",
       "      <td>-</td>\n",
       "      <td>0</td>\n",
       "      <td>-</td>\n",
       "      <td>3</td>\n",
       "      <td>0%</td>\n",
       "      <td>12</td>\n",
       "      <td>33%</td>\n",
       "    </tr>\n",
       "    <tr>\n",
       "      <th>nan</th>\n",
       "      <td>6</td>\n",
       "      <td>-</td>\n",
       "      <td>1</td>\n",
       "      <td>-</td>\n",
       "      <td>3</td>\n",
       "      <td>-</td>\n",
       "      <td>1</td>\n",
       "      <td>-</td>\n",
       "      <td>22</td>\n",
       "      <td>-</td>\n",
       "      <td>0</td>\n",
       "      <td>-</td>\n",
       "      <td>4</td>\n",
       "      <td>-</td>\n",
       "      <td>9</td>\n",
       "      <td>-</td>\n",
       "      <td>53</td>\n",
       "      <td>-</td>\n",
       "      <td>0</td>\n",
       "      <td>-</td>\n",
       "      <td>4</td>\n",
       "      <td>-</td>\n",
       "      <td>103</td>\n",
       "      <td>-</td>\n",
       "    </tr>\n",
       "    <tr>\n",
       "      <th>ВСЕГО</th>\n",
       "      <td>38</td>\n",
       "      <td>8%</td>\n",
       "      <td>16</td>\n",
       "      <td>12%</td>\n",
       "      <td>732</td>\n",
       "      <td>31%</td>\n",
       "      <td>54</td>\n",
       "      <td>20%</td>\n",
       "      <td>600</td>\n",
       "      <td>33%</td>\n",
       "      <td>32</td>\n",
       "      <td>94%</td>\n",
       "      <td>668</td>\n",
       "      <td>53%</td>\n",
       "      <td>1099</td>\n",
       "      <td>34%</td>\n",
       "      <td>66</td>\n",
       "      <td>15%</td>\n",
       "      <td>150</td>\n",
       "      <td>30%</td>\n",
       "      <td>1066</td>\n",
       "      <td>46%</td>\n",
       "      <td>4521</td>\n",
       "      <td>38%</td>\n",
       "    </tr>\n",
       "  </tbody>\n",
       "</table>\n",
       "</div>"
      ],
      "text/plain": [
       "менеджер>                           Алина             Елена Смоликова  \\\n",
       "f>                             количество конв.бронь       количество   \n",
       "Направление                                                             \n",
       "01) экшн-камеры                         3         0%                0   \n",
       "02) Стабилизаторы                       0          -                0   \n",
       "03) Игр.приставки Playstation           7         0%                2   \n",
       "04) Квадрокоптеры                       0          -                3   \n",
       "05) Коляски                             4        25%                1   \n",
       "09) Телевизоры                          1         0%                0   \n",
       "10) Проекторы                           0          -                0   \n",
       "11) планшеты                            0          -                2   \n",
       "12) Ноутбуки                            7         0%                3   \n",
       "13) Apple ноутбуки                      3         0%                1   \n",
       "14) Телефоны другие                     0          -                0   \n",
       "15) Камера 360                          1       100%                0   \n",
       "16) Очки ДР                             0          -                0   \n",
       "17) Очки ВР                             0          -                0   \n",
       "18) Электросамокаты                     1         0%                0   \n",
       "19) Сигвеи                              0          -                0   \n",
       "20) Моноколеса                          0          -                0   \n",
       "21) Пылесосы                            0          -                0   \n",
       "22) Металлоискатели                     2        50%                1   \n",
       "23) Продажа                             0          -                0   \n",
       "24) фотозоны                            0          -                0   \n",
       "25) светодиодные экраны                 0          -                0   \n",
       "26) активности и игры                   0          -                0   \n",
       "27) другое (роботы)                     0          -                0   \n",
       "28) Очки ВР event                       0          -                0   \n",
       "32) Игровые Пк                          0          -                0   \n",
       "33) Игровые приставки Xbox              0          -                1   \n",
       "34) телефоны apple                      3         0%                1   \n",
       "35) Игровые приставки Nintendo          0          -                0   \n",
       "nan                                     6          -                1   \n",
       "ВСЕГО                                  38         8%               16   \n",
       "\n",
       "менеджер>                                   1 Стажер              2 Стажер  \\\n",
       "f>                             конв.бронь количество конв.бронь количество   \n",
       "Направление                                                                  \n",
       "01) экшн-камеры                         -         56        45%         11   \n",
       "02) Стабилизаторы                       -         10        70%          1   \n",
       "03) Игр.приставки Playstation          0%        247        29%          9   \n",
       "04) Квадрокоптеры                     67%         28        32%          1   \n",
       "05) Коляски                            0%         37        41%          4   \n",
       "09) Телевизоры                          -         12        33%          2   \n",
       "10) Проекторы                           -         36        11%          5   \n",
       "11) планшеты                           0%          7        29%          0   \n",
       "12) Ноутбуки                           0%         92        28%          6   \n",
       "13) Apple ноутбуки                     0%         18        28%          0   \n",
       "14) Телефоны другие                     -         14         7%          1   \n",
       "15) Камера 360                          -          0          -          0   \n",
       "16) Очки ДР                             -          0          -          0   \n",
       "17) Очки ВР                             -         10        40%          0   \n",
       "18) Электросамокаты                     -         67        18%          8   \n",
       "19) Сигвеи                              -         10        60%          0   \n",
       "20) Моноколеса                          -          3        67%          0   \n",
       "21) Пылесосы                            -          0          -          0   \n",
       "22) Металлоискатели                    0%         43        60%          2   \n",
       "23) Продажа                             -         10         0%          3   \n",
       "24) фотозоны                            -          0          -          0   \n",
       "25) светодиодные экраны                 -          0          -          0   \n",
       "26) активности и игры                   -          0          -          0   \n",
       "27) другое (роботы)                     -          6        17%          0   \n",
       "28) Очки ВР event                       -          1         0%          0   \n",
       "32) Игровые Пк                          -          8        25%          0   \n",
       "33) Игровые приставки Xbox             0%          4        25%          0   \n",
       "34) телефоны apple                     0%          8        25%          0   \n",
       "35) Игровые приставки Nintendo          -          2         0%          0   \n",
       "nan                                     -          3          -          1   \n",
       "ВСЕГО                                 12%        732        31%         54   \n",
       "\n",
       "менеджер>                                   3 Стажер             \\\n",
       "f>                             конв.бронь количество конв.бронь   \n",
       "Направление                                                       \n",
       "01) экшн-камеры                        9%         35        60%   \n",
       "02) Стабилизаторы                    100%         10        20%   \n",
       "03) Игр.приставки Playstation         22%        157        25%   \n",
       "04) Квадрокоптеры                      0%         41        44%   \n",
       "05) Коляски                           25%         55        20%   \n",
       "09) Телевизоры                        50%         14        21%   \n",
       "10) Проекторы                         20%         25        28%   \n",
       "11) планшеты                            -          8        38%   \n",
       "12) Ноутбуки                          33%         71        41%   \n",
       "13) Apple ноутбуки                      -         21        29%   \n",
       "14) Телефоны другие                    0%         12        17%   \n",
       "15) Камера 360                          -          2       100%   \n",
       "16) Очки ДР                             -          0          -   \n",
       "17) Очки ВР                             -         20        60%   \n",
       "18) Электросамокаты                   12%         19        26%   \n",
       "19) Сигвеи                              -          8        50%   \n",
       "20) Моноколеса                          -          3        67%   \n",
       "21) Пылесосы                            -          0          -   \n",
       "22) Металлоискатели                   50%         35        66%   \n",
       "23) Продажа                            0%          2         0%   \n",
       "24) фотозоны                            -          0          -   \n",
       "25) светодиодные экраны                 -          0          -   \n",
       "26) активности и игры                   -          0          -   \n",
       "27) другое (роботы)                     -          0          -   \n",
       "28) Очки ВР event                       -          0          -   \n",
       "32) Игровые Пк                          -         12        25%   \n",
       "33) Игровые приставки Xbox              -          6        17%   \n",
       "34) телефоны apple                      -         20        10%   \n",
       "35) Игровые приставки Nintendo          -          2        50%   \n",
       "nan                                     -         22          -   \n",
       "ВСЕГО                                 20%        600        33%   \n",
       "\n",
       "менеджер>                      Карцев Евгений            Кузнецова Дарья  \\\n",
       "f>                                 количество конв.бронь      количество   \n",
       "Направление                                                                \n",
       "01) экшн-камеры                             5       100%              50   \n",
       "02) Стабилизаторы                           2       100%              13   \n",
       "03) Игр.приставки Playstation               3        67%             120   \n",
       "04) Квадрокоптеры                           0          -              25   \n",
       "05) Коляски                                 1       100%              16   \n",
       "09) Телевизоры                              0          -              26   \n",
       "10) Проекторы                               0          -              25   \n",
       "11) планшеты                                1       100%              29   \n",
       "12) Ноутбуки                                9       100%             109   \n",
       "13) Apple ноутбуки                          6        83%              31   \n",
       "14) Телефоны другие                         0          -               9   \n",
       "15) Камера 360                              1       100%               6   \n",
       "16) Очки ДР                                 0          -               2   \n",
       "17) Очки ВР                                 0          -              23   \n",
       "18) Электросамокаты                         1       100%              41   \n",
       "19) Сигвеи                                  0          -               4   \n",
       "20) Моноколеса                              0          -               3   \n",
       "21) Пылесосы                                0          -               0   \n",
       "22) Металлоискатели                         1       100%              22   \n",
       "23) Продажа                                 0          -               1   \n",
       "24) фотозоны                                0          -              40   \n",
       "25) светодиодные экраны                     0          -               0   \n",
       "26) активности и игры                       0          -              19   \n",
       "27) другое (роботы)                         0          -               4   \n",
       "28) Очки ВР event                           0          -               9   \n",
       "32) Игровые Пк                              1       100%              13   \n",
       "33) Игровые приставки Xbox                  0          -              15   \n",
       "34) телефоны apple                          1       100%               7   \n",
       "35) Игровые приставки Nintendo              0          -               2   \n",
       "nan                                         0          -               4   \n",
       "ВСЕГО                                      32        94%             668   \n",
       "\n",
       "менеджер>                                 Симак Наталья             \\\n",
       "f>                             конв.бронь    количество конв.бронь   \n",
       "Направление                                                          \n",
       "01) экшн-камеры                       60%            96        56%   \n",
       "02) Стабилизаторы                     77%            21        62%   \n",
       "03) Игр.приставки Playstation         42%           268        32%   \n",
       "04) Квадрокоптеры                     68%            51        29%   \n",
       "05) Коляски                           56%            71        34%   \n",
       "09) Телевизоры                        58%            25        20%   \n",
       "10) Проекторы                         64%            53        42%   \n",
       "11) планшеты                          76%            35        46%   \n",
       "12) Ноутбуки                          60%           128        41%   \n",
       "13) Apple ноутбуки                    74%            45        20%   \n",
       "14) Телефоны другие                   33%            25        16%   \n",
       "15) Камера 360                        50%             9        67%   \n",
       "16) Очки ДР                           50%             6        17%   \n",
       "17) Очки ВР                           39%            35        26%   \n",
       "18) Электросамокаты                   34%            73        15%   \n",
       "19) Сигвеи                           100%             6        50%   \n",
       "20) Моноколеса                        33%             4        75%   \n",
       "21) Пылесосы                            -             1          -   \n",
       "22) Металлоискатели                   59%            47        40%   \n",
       "23) Продажа                            0%            12        17%   \n",
       "24) фотозоны                          42%             3         0%   \n",
       "25) светодиодные экраны              inf%             4         0%   \n",
       "26) активности и игры                 26%            11         9%   \n",
       "27) другое (роботы)                    0%             0          -   \n",
       "28) Очки ВР event                     78%             1         0%   \n",
       "32) Игровые Пк                        31%            22        18%   \n",
       "33) Игровые приставки Xbox            60%            13        31%   \n",
       "34) телефоны apple                    29%            22        36%   \n",
       "35) Игровые приставки Nintendo       100%             3        33%   \n",
       "nan                                     -             9          -   \n",
       "ВСЕГО                                 53%          1099        34%   \n",
       "\n",
       "менеджер>                      Соколов Александр            Чепрасова Ольга  \\\n",
       "f>                                    количество конв.бронь      количество   \n",
       "Направление                                                                   \n",
       "01) экшн-камеры                                0          -               9   \n",
       "02) Стабилизаторы                              0          -               2   \n",
       "03) Игр.приставки Playstation                  0          -              39   \n",
       "04) Квадрокоптеры                             11        82%               7   \n",
       "05) Коляски                                    0          -               7   \n",
       "09) Телевизоры                                 0          -               1   \n",
       "10) Проекторы                                  0          -               5   \n",
       "11) планшеты                                   0          -               5   \n",
       "12) Ноутбуки                                   0          -              21   \n",
       "13) Apple ноутбуки                             0          -               9   \n",
       "14) Телефоны другие                            0          -               6   \n",
       "15) Камера 360                                 0          -               3   \n",
       "16) Очки ДР                                    0          -               0   \n",
       "17) Очки ВР                                    0          -               3   \n",
       "18) Электросамокаты                            0          -              16   \n",
       "19) Сигвеи                                     0          -               1   \n",
       "20) Моноколеса                                 0          -               1   \n",
       "21) Пылесосы                                   0          -               0   \n",
       "22) Металлоискатели                            0          -               8   \n",
       "23) Продажа                                    2        50%               3   \n",
       "24) фотозоны                                   0          -               0   \n",
       "25) светодиодные экраны                        0          -               0   \n",
       "26) активности и игры                          0          -               1   \n",
       "27) другое (роботы)                            0          -               0   \n",
       "28) Очки ВР event                              0          -               0   \n",
       "32) Игровые Пк                                 0          -               2   \n",
       "33) Игровые приставки Xbox                     0          -               0   \n",
       "34) телефоны apple                             0          -               1   \n",
       "35) Игровые приставки Nintendo                 0          -               0   \n",
       "nan                                           53          -               0   \n",
       "ВСЕГО                                         66        15%             150   \n",
       "\n",
       "менеджер>                                 Шутова Виктория             \\\n",
       "f>                             конв.бронь      количество конв.бронь   \n",
       "Направление                                                            \n",
       "01) экшн-камеры                       56%              98        67%   \n",
       "02) Стабилизаторы                      0%              17        65%   \n",
       "03) Игр.приставки Playstation         31%             279        51%   \n",
       "04) Квадрокоптеры                     14%              29        38%   \n",
       "05) Коляски                           29%              50        42%   \n",
       "09) Телевизоры                         0%              30        40%   \n",
       "10) Проекторы                         40%              36        47%   \n",
       "11) планшеты                          40%              26        62%   \n",
       "12) Ноутбуки                          38%             107        55%   \n",
       "13) Apple ноутбуки                    22%              34        47%   \n",
       "14) Телефоны другие                   17%              27         7%   \n",
       "15) Камера 360                        33%               8        75%   \n",
       "16) Очки ДР                             -               2        50%   \n",
       "17) Очки ВР                           67%              36        44%   \n",
       "18) Электросамокаты                   12%              75        43%   \n",
       "19) Сигвеи                           100%               7        86%   \n",
       "20) Моноколеса                       100%               1         0%   \n",
       "21) Пылесосы                            -               0          -   \n",
       "22) Металлоискатели                   25%              42        36%   \n",
       "23) Продажа                            0%              16         6%   \n",
       "24) фотозоны                            -              52        19%   \n",
       "25) светодиодные экраны                 -               5        20%   \n",
       "26) активности и игры                  0%              22        18%   \n",
       "27) другое (роботы)                     -               3         0%   \n",
       "28) Очки ВР event                       -               1         0%   \n",
       "32) Игровые Пк                         0%              22        50%   \n",
       "33) Игровые приставки Xbox              -              10        50%   \n",
       "34) телефоны apple                   100%              24        29%   \n",
       "35) Игровые приставки Nintendo          -               3         0%   \n",
       "nan                                     -               4          -   \n",
       "ВСЕГО                                 30%            1066        46%   \n",
       "\n",
       "менеджер>                           ВСЕГО             \n",
       "f>                             количество конв.бронь  \n",
       "Направление                                           \n",
       "01) экшн-камеры                       363        57%  \n",
       "02) Стабилизаторы                      76        61%  \n",
       "03) Игр.приставки Playstation        1131        36%  \n",
       "04) Квадрокоптеры                     196        42%  \n",
       "05) Коляски                           246        35%  \n",
       "09) Телевизоры                        111        36%  \n",
       "10) Проекторы                         185        37%  \n",
       "11) планшеты                          113        55%  \n",
       "12) Ноутбуки                          553        45%  \n",
       "13) Apple ноутбуки                    168        39%  \n",
       "14) Телефоны другие                    94        14%  \n",
       "15) Камера 360                         30        67%  \n",
       "16) Очки ДР                            10        30%  \n",
       "17) Очки ВР                           127        41%  \n",
       "18) Электросамокаты                   301        26%  \n",
       "19) Сигвеи                             36        67%  \n",
       "20) Моноколеса                         15        60%  \n",
       "21) Пылесосы                            1          -  \n",
       "22) Металлоискатели                   203        50%  \n",
       "23) Продажа                            49         8%  \n",
       "24) фотозоны                           95        28%  \n",
       "25) светодиодные экраны                 9        22%  \n",
       "26) активности и игры                  53        19%  \n",
       "27) другое (роботы)                    13         8%  \n",
       "28) Очки ВР event                      12        58%  \n",
       "32) Игровые Пк                         80        31%  \n",
       "33) Игровые приставки Xbox             49        41%  \n",
       "34) телефоны apple                     87        26%  \n",
       "35) Игровые приставки Nintendo         12        33%  \n",
       "nan                                   103          -  \n",
       "ВСЕГО                                4521        38%  "
      ]
     },
     "metadata": {},
     "output_type": "display_data"
    },
    {
     "name": "stdout",
     "output_type": "stream",
     "text": [
      "\n",
      "\n",
      "\n",
      "\n",
      "\n",
      "\n",
      "------------------ОТЧЕТ \"ИСТОЧНИК (первый визит) (прокат + event)\"-----------------\n"
     ]
    },
    {
     "data": {
      "text/html": [
       "<div>\n",
       "<style scoped>\n",
       "    .dataframe tbody tr th:only-of-type {\n",
       "        vertical-align: middle;\n",
       "    }\n",
       "\n",
       "    .dataframe tbody tr th {\n",
       "        vertical-align: top;\n",
       "    }\n",
       "\n",
       "    .dataframe thead th {\n",
       "        text-align: right;\n",
       "    }\n",
       "</style>\n",
       "<table border=\"1\" class=\"dataframe\">\n",
       "  <thead>\n",
       "    <tr style=\"text-align: right;\">\n",
       "      <th></th>\n",
       "      <th>новых</th>\n",
       "      <th>новых (%)</th>\n",
       "      <th>броней</th>\n",
       "      <th>успешных</th>\n",
       "      <th>K_повт</th>\n",
       "      <th>потенц. сделок(откр.брони)</th>\n",
       "      <th>потенц. оборот(откр.брони)</th>\n",
       "      <th>потенц. оборот(откр.брони на jun)</th>\n",
       "      <th>Ср.чек</th>\n",
       "      <th>фактич. оборот</th>\n",
       "      <th>средн. цикл аренды</th>\n",
       "      <th>медиан. цикл аренды</th>\n",
       "      <th>прогн.оборот</th>\n",
       "      <th>CV_бронь</th>\n",
       "    </tr>\n",
       "    <tr>\n",
       "      <th>ИСТОЧНИК (первый визит)</th>\n",
       "      <th></th>\n",
       "      <th></th>\n",
       "      <th></th>\n",
       "      <th></th>\n",
       "      <th></th>\n",
       "      <th></th>\n",
       "      <th></th>\n",
       "      <th></th>\n",
       "      <th></th>\n",
       "      <th></th>\n",
       "      <th></th>\n",
       "      <th></th>\n",
       "      <th></th>\n",
       "      <th></th>\n",
       "    </tr>\n",
       "  </thead>\n",
       "  <tbody>\n",
       "    <tr>\n",
       "      <th>vk</th>\n",
       "      <td>2</td>\n",
       "      <td>0.0</td>\n",
       "      <td>2</td>\n",
       "      <td>2</td>\n",
       "      <td>100.0</td>\n",
       "      <td>0</td>\n",
       "      <td>0</td>\n",
       "      <td>0</td>\n",
       "      <td>1800.0</td>\n",
       "      <td>3600</td>\n",
       "      <td>1.0</td>\n",
       "      <td>1</td>\n",
       "      <td>3600</td>\n",
       "      <td>100.0</td>\n",
       "    </tr>\n",
       "    <tr>\n",
       "      <th>звонок с рентгопро.рф</th>\n",
       "      <td>4</td>\n",
       "      <td>0.1</td>\n",
       "      <td>4</td>\n",
       "      <td>3</td>\n",
       "      <td>0.0</td>\n",
       "      <td>0</td>\n",
       "      <td>0</td>\n",
       "      <td>0</td>\n",
       "      <td>3633.0</td>\n",
       "      <td>10900</td>\n",
       "      <td>3.0</td>\n",
       "      <td>4</td>\n",
       "      <td>10900</td>\n",
       "      <td>100.0</td>\n",
       "    </tr>\n",
       "    <tr>\n",
       "      <th>импорт</th>\n",
       "      <td>19</td>\n",
       "      <td>0.4</td>\n",
       "      <td>17</td>\n",
       "      <td>16</td>\n",
       "      <td>75.0</td>\n",
       "      <td>0</td>\n",
       "      <td>0</td>\n",
       "      <td>0</td>\n",
       "      <td>10775.0</td>\n",
       "      <td>172400</td>\n",
       "      <td>10.0</td>\n",
       "      <td>5</td>\n",
       "      <td>172400</td>\n",
       "      <td>89.0</td>\n",
       "    </tr>\n",
       "    <tr>\n",
       "      <th>созданоВручную</th>\n",
       "      <td>80</td>\n",
       "      <td>1.8</td>\n",
       "      <td>68</td>\n",
       "      <td>70</td>\n",
       "      <td>32.0</td>\n",
       "      <td>4</td>\n",
       "      <td>78000</td>\n",
       "      <td>0</td>\n",
       "      <td>10449.0</td>\n",
       "      <td>731399</td>\n",
       "      <td>9.0</td>\n",
       "      <td>2</td>\n",
       "      <td>731399</td>\n",
       "      <td>85.0</td>\n",
       "    </tr>\n",
       "    <tr>\n",
       "      <th>Прямые визиты</th>\n",
       "      <td>157</td>\n",
       "      <td>3.5</td>\n",
       "      <td>92</td>\n",
       "      <td>91</td>\n",
       "      <td>19.0</td>\n",
       "      <td>1</td>\n",
       "      <td>2550</td>\n",
       "      <td>0</td>\n",
       "      <td>6181.0</td>\n",
       "      <td>562490</td>\n",
       "      <td>8.0</td>\n",
       "      <td>4</td>\n",
       "      <td>562490</td>\n",
       "      <td>59.0</td>\n",
       "    </tr>\n",
       "    <tr>\n",
       "      <th>смс</th>\n",
       "      <td>2</td>\n",
       "      <td>0.0</td>\n",
       "      <td>1</td>\n",
       "      <td>1</td>\n",
       "      <td>100.0</td>\n",
       "      <td>0</td>\n",
       "      <td>0</td>\n",
       "      <td>0</td>\n",
       "      <td>1000.0</td>\n",
       "      <td>1000</td>\n",
       "      <td>1.0</td>\n",
       "      <td>1</td>\n",
       "      <td>1000</td>\n",
       "      <td>50.0</td>\n",
       "    </tr>\n",
       "    <tr>\n",
       "      <th>arenda-prazdnik</th>\n",
       "      <td>22</td>\n",
       "      <td>0.5</td>\n",
       "      <td>11</td>\n",
       "      <td>7</td>\n",
       "      <td>0.0</td>\n",
       "      <td>3</td>\n",
       "      <td>289000</td>\n",
       "      <td>0</td>\n",
       "      <td>18814.0</td>\n",
       "      <td>131700</td>\n",
       "      <td>2.0</td>\n",
       "      <td>0</td>\n",
       "      <td>131700</td>\n",
       "      <td>50.0</td>\n",
       "    </tr>\n",
       "    <tr>\n",
       "      <th>Роботы</th>\n",
       "      <td>2</td>\n",
       "      <td>0.0</td>\n",
       "      <td>1</td>\n",
       "      <td>0</td>\n",
       "      <td>0.0</td>\n",
       "      <td>1</td>\n",
       "      <td>3000</td>\n",
       "      <td>0</td>\n",
       "      <td>0.0</td>\n",
       "      <td>0</td>\n",
       "      <td>0.0</td>\n",
       "      <td>0</td>\n",
       "      <td>0</td>\n",
       "      <td>50.0</td>\n",
       "    </tr>\n",
       "    <tr>\n",
       "      <th>контекстВизитка</th>\n",
       "      <td>132</td>\n",
       "      <td>2.9</td>\n",
       "      <td>60</td>\n",
       "      <td>53</td>\n",
       "      <td>3.0</td>\n",
       "      <td>1</td>\n",
       "      <td>4400</td>\n",
       "      <td>0</td>\n",
       "      <td>5128.0</td>\n",
       "      <td>271775</td>\n",
       "      <td>7.0</td>\n",
       "      <td>3</td>\n",
       "      <td>271775</td>\n",
       "      <td>45.0</td>\n",
       "    </tr>\n",
       "    <tr>\n",
       "      <th>SEO</th>\n",
       "      <td>1006</td>\n",
       "      <td>22.5</td>\n",
       "      <td>444</td>\n",
       "      <td>393</td>\n",
       "      <td>17.0</td>\n",
       "      <td>13</td>\n",
       "      <td>83500</td>\n",
       "      <td>0</td>\n",
       "      <td>6756.0</td>\n",
       "      <td>2655007</td>\n",
       "      <td>8.0</td>\n",
       "      <td>3</td>\n",
       "      <td>2655007</td>\n",
       "      <td>44.0</td>\n",
       "    </tr>\n",
       "    <tr>\n",
       "      <th>Визиты с сайтов</th>\n",
       "      <td>30</td>\n",
       "      <td>0.7</td>\n",
       "      <td>13</td>\n",
       "      <td>11</td>\n",
       "      <td>45.0</td>\n",
       "      <td>1</td>\n",
       "      <td>2000</td>\n",
       "      <td>0</td>\n",
       "      <td>3223.0</td>\n",
       "      <td>35450</td>\n",
       "      <td>9.0</td>\n",
       "      <td>3</td>\n",
       "      <td>35450</td>\n",
       "      <td>43.0</td>\n",
       "    </tr>\n",
       "    <tr>\n",
       "      <th>яндекс директ</th>\n",
       "      <td>693</td>\n",
       "      <td>15.5</td>\n",
       "      <td>282</td>\n",
       "      <td>244</td>\n",
       "      <td>11.0</td>\n",
       "      <td>8</td>\n",
       "      <td>51800</td>\n",
       "      <td>0</td>\n",
       "      <td>7637.0</td>\n",
       "      <td>1863341</td>\n",
       "      <td>7.0</td>\n",
       "      <td>3</td>\n",
       "      <td>1863341</td>\n",
       "      <td>41.0</td>\n",
       "    </tr>\n",
       "    <tr>\n",
       "      <th>google ads</th>\n",
       "      <td>335</td>\n",
       "      <td>7.5</td>\n",
       "      <td>132</td>\n",
       "      <td>116</td>\n",
       "      <td>12.0</td>\n",
       "      <td>1</td>\n",
       "      <td>7800</td>\n",
       "      <td>0</td>\n",
       "      <td>3487.0</td>\n",
       "      <td>404441</td>\n",
       "      <td>4.0</td>\n",
       "      <td>3</td>\n",
       "      <td>404441</td>\n",
       "      <td>39.0</td>\n",
       "    </tr>\n",
       "    <tr>\n",
       "      <th>nan</th>\n",
       "      <td>64</td>\n",
       "      <td>1.4</td>\n",
       "      <td>23</td>\n",
       "      <td>20</td>\n",
       "      <td>15.0</td>\n",
       "      <td>1</td>\n",
       "      <td>33000</td>\n",
       "      <td>0</td>\n",
       "      <td>7065.0</td>\n",
       "      <td>141300</td>\n",
       "      <td>4.0</td>\n",
       "      <td>3</td>\n",
       "      <td>141300</td>\n",
       "      <td>36.0</td>\n",
       "    </tr>\n",
       "    <tr>\n",
       "      <th>яндекскарты</th>\n",
       "      <td>12</td>\n",
       "      <td>0.3</td>\n",
       "      <td>4</td>\n",
       "      <td>2</td>\n",
       "      <td>0.0</td>\n",
       "      <td>0</td>\n",
       "      <td>0</td>\n",
       "      <td>0</td>\n",
       "      <td>2550.0</td>\n",
       "      <td>5100</td>\n",
       "      <td>6.0</td>\n",
       "      <td>6</td>\n",
       "      <td>5100</td>\n",
       "      <td>33.0</td>\n",
       "    </tr>\n",
       "    <tr>\n",
       "      <th>авито</th>\n",
       "      <td>1549</td>\n",
       "      <td>34.6</td>\n",
       "      <td>476</td>\n",
       "      <td>400</td>\n",
       "      <td>2.0</td>\n",
       "      <td>6</td>\n",
       "      <td>20200</td>\n",
       "      <td>0</td>\n",
       "      <td>3746.0</td>\n",
       "      <td>1498298</td>\n",
       "      <td>5.0</td>\n",
       "      <td>3</td>\n",
       "      <td>1498298</td>\n",
       "      <td>31.0</td>\n",
       "    </tr>\n",
       "    <tr>\n",
       "      <th>телефонияБ24</th>\n",
       "      <td>190</td>\n",
       "      <td>4.2</td>\n",
       "      <td>57</td>\n",
       "      <td>47</td>\n",
       "      <td>4.0</td>\n",
       "      <td>2</td>\n",
       "      <td>5300</td>\n",
       "      <td>0</td>\n",
       "      <td>4392.0</td>\n",
       "      <td>206420</td>\n",
       "      <td>5.0</td>\n",
       "      <td>2</td>\n",
       "      <td>206420</td>\n",
       "      <td>30.0</td>\n",
       "    </tr>\n",
       "    <tr>\n",
       "      <th>ymaps</th>\n",
       "      <td>14</td>\n",
       "      <td>0.3</td>\n",
       "      <td>4</td>\n",
       "      <td>3</td>\n",
       "      <td>0.0</td>\n",
       "      <td>0</td>\n",
       "      <td>0</td>\n",
       "      <td>0</td>\n",
       "      <td>7433.0</td>\n",
       "      <td>22300</td>\n",
       "      <td>21.0</td>\n",
       "      <td>31</td>\n",
       "      <td>22300</td>\n",
       "      <td>29.0</td>\n",
       "    </tr>\n",
       "    <tr>\n",
       "      <th>неизвестно</th>\n",
       "      <td>165</td>\n",
       "      <td>3.7</td>\n",
       "      <td>46</td>\n",
       "      <td>37</td>\n",
       "      <td>5.0</td>\n",
       "      <td>0</td>\n",
       "      <td>0</td>\n",
       "      <td>0</td>\n",
       "      <td>4585.0</td>\n",
       "      <td>169630</td>\n",
       "      <td>5.0</td>\n",
       "      <td>2</td>\n",
       "      <td>169630</td>\n",
       "      <td>28.0</td>\n",
       "    </tr>\n",
       "    <tr>\n",
       "      <th>2gis</th>\n",
       "      <td>1</td>\n",
       "      <td>0.0</td>\n",
       "      <td>0</td>\n",
       "      <td>0</td>\n",
       "      <td>0.0</td>\n",
       "      <td>0</td>\n",
       "      <td>0</td>\n",
       "      <td>0</td>\n",
       "      <td>0.0</td>\n",
       "      <td>0</td>\n",
       "      <td>0.0</td>\n",
       "      <td>0</td>\n",
       "      <td>0</td>\n",
       "      <td>0.0</td>\n",
       "    </tr>\n",
       "    <tr>\n",
       "      <th>instagram</th>\n",
       "      <td>1</td>\n",
       "      <td>0.0</td>\n",
       "      <td>0</td>\n",
       "      <td>0</td>\n",
       "      <td>0.0</td>\n",
       "      <td>0</td>\n",
       "      <td>0</td>\n",
       "      <td>0</td>\n",
       "      <td>0.0</td>\n",
       "      <td>0</td>\n",
       "      <td>0.0</td>\n",
       "      <td>0</td>\n",
       "      <td>0</td>\n",
       "      <td>0.0</td>\n",
       "    </tr>\n",
       "    <tr>\n",
       "      <th>ВСЕГО</th>\n",
       "      <td>4480</td>\n",
       "      <td>100.0</td>\n",
       "      <td>1737</td>\n",
       "      <td>1516</td>\n",
       "      <td>12.8</td>\n",
       "      <td>42</td>\n",
       "      <td>580550</td>\n",
       "      <td>0</td>\n",
       "      <td>5862.0</td>\n",
       "      <td>8886551</td>\n",
       "      <td>6.9</td>\n",
       "      <td>3</td>\n",
       "      <td>8886551</td>\n",
       "      <td>39.0</td>\n",
       "    </tr>\n",
       "  </tbody>\n",
       "</table>\n",
       "</div>"
      ],
      "text/plain": [
       "                         новых  новых (%)  броней  успешных  K_повт  \\\n",
       "ИСТОЧНИК (первый визит)                                               \n",
       "vk                           2        0.0       2         2   100.0   \n",
       "звонок с рентгопро.рф        4        0.1       4         3     0.0   \n",
       "импорт                      19        0.4      17        16    75.0   \n",
       "созданоВручную              80        1.8      68        70    32.0   \n",
       "Прямые визиты              157        3.5      92        91    19.0   \n",
       "смс                          2        0.0       1         1   100.0   \n",
       "arenda-prazdnik             22        0.5      11         7     0.0   \n",
       "Роботы                       2        0.0       1         0     0.0   \n",
       "контекстВизитка            132        2.9      60        53     3.0   \n",
       "SEO                       1006       22.5     444       393    17.0   \n",
       "Визиты с сайтов             30        0.7      13        11    45.0   \n",
       "яндекс директ              693       15.5     282       244    11.0   \n",
       "google ads                 335        7.5     132       116    12.0   \n",
       "nan                         64        1.4      23        20    15.0   \n",
       "яндекскарты                 12        0.3       4         2     0.0   \n",
       "авито                     1549       34.6     476       400     2.0   \n",
       "телефонияБ24               190        4.2      57        47     4.0   \n",
       "ymaps                       14        0.3       4         3     0.0   \n",
       "неизвестно                 165        3.7      46        37     5.0   \n",
       "2gis                         1        0.0       0         0     0.0   \n",
       "instagram                    1        0.0       0         0     0.0   \n",
       "ВСЕГО                     4480      100.0    1737      1516    12.8   \n",
       "\n",
       "                         потенц. сделок(откр.брони)  \\\n",
       "ИСТОЧНИК (первый визит)                               \n",
       "vk                                                0   \n",
       "звонок с рентгопро.рф                             0   \n",
       "импорт                                            0   \n",
       "созданоВручную                                    4   \n",
       "Прямые визиты                                     1   \n",
       "смс                                               0   \n",
       "arenda-prazdnik                                   3   \n",
       "Роботы                                            1   \n",
       "контекстВизитка                                   1   \n",
       "SEO                                              13   \n",
       "Визиты с сайтов                                   1   \n",
       "яндекс директ                                     8   \n",
       "google ads                                        1   \n",
       "nan                                               1   \n",
       "яндекскарты                                       0   \n",
       "авито                                             6   \n",
       "телефонияБ24                                      2   \n",
       "ymaps                                             0   \n",
       "неизвестно                                        0   \n",
       "2gis                                              0   \n",
       "instagram                                         0   \n",
       "ВСЕГО                                            42   \n",
       "\n",
       "                         потенц. оборот(откр.брони)  \\\n",
       "ИСТОЧНИК (первый визит)                               \n",
       "vk                                                0   \n",
       "звонок с рентгопро.рф                             0   \n",
       "импорт                                            0   \n",
       "созданоВручную                                78000   \n",
       "Прямые визиты                                  2550   \n",
       "смс                                               0   \n",
       "arenda-prazdnik                              289000   \n",
       "Роботы                                         3000   \n",
       "контекстВизитка                                4400   \n",
       "SEO                                           83500   \n",
       "Визиты с сайтов                                2000   \n",
       "яндекс директ                                 51800   \n",
       "google ads                                     7800   \n",
       "nan                                           33000   \n",
       "яндекскарты                                       0   \n",
       "авито                                         20200   \n",
       "телефонияБ24                                   5300   \n",
       "ymaps                                             0   \n",
       "неизвестно                                        0   \n",
       "2gis                                              0   \n",
       "instagram                                         0   \n",
       "ВСЕГО                                        580550   \n",
       "\n",
       "                         потенц. оборот(откр.брони на jun)  Ср.чек  \\\n",
       "ИСТОЧНИК (первый визит)                                              \n",
       "vk                                                       0  1800.0   \n",
       "звонок с рентгопро.рф                                    0  3633.0   \n",
       "импорт                                                   0 10775.0   \n",
       "созданоВручную                                           0 10449.0   \n",
       "Прямые визиты                                            0  6181.0   \n",
       "смс                                                      0  1000.0   \n",
       "arenda-prazdnik                                          0 18814.0   \n",
       "Роботы                                                   0     0.0   \n",
       "контекстВизитка                                          0  5128.0   \n",
       "SEO                                                      0  6756.0   \n",
       "Визиты с сайтов                                          0  3223.0   \n",
       "яндекс директ                                            0  7637.0   \n",
       "google ads                                               0  3487.0   \n",
       "nan                                                      0  7065.0   \n",
       "яндекскарты                                              0  2550.0   \n",
       "авито                                                    0  3746.0   \n",
       "телефонияБ24                                             0  4392.0   \n",
       "ymaps                                                    0  7433.0   \n",
       "неизвестно                                               0  4585.0   \n",
       "2gis                                                     0     0.0   \n",
       "instagram                                                0     0.0   \n",
       "ВСЕГО                                                    0  5862.0   \n",
       "\n",
       "                         фактич. оборот  средн. цикл аренды  \\\n",
       "ИСТОЧНИК (первый визит)                                       \n",
       "vk                                 3600                 1.0   \n",
       "звонок с рентгопро.рф             10900                 3.0   \n",
       "импорт                           172400                10.0   \n",
       "созданоВручную                   731399                 9.0   \n",
       "Прямые визиты                    562490                 8.0   \n",
       "смс                                1000                 1.0   \n",
       "arenda-prazdnik                  131700                 2.0   \n",
       "Роботы                                0                 0.0   \n",
       "контекстВизитка                  271775                 7.0   \n",
       "SEO                             2655007                 8.0   \n",
       "Визиты с сайтов                   35450                 9.0   \n",
       "яндекс директ                   1863341                 7.0   \n",
       "google ads                       404441                 4.0   \n",
       "nan                              141300                 4.0   \n",
       "яндекскарты                        5100                 6.0   \n",
       "авито                           1498298                 5.0   \n",
       "телефонияБ24                     206420                 5.0   \n",
       "ymaps                             22300                21.0   \n",
       "неизвестно                       169630                 5.0   \n",
       "2gis                                  0                 0.0   \n",
       "instagram                             0                 0.0   \n",
       "ВСЕГО                           8886551                 6.9   \n",
       "\n",
       "                         медиан. цикл аренды  прогн.оборот  CV_бронь  \n",
       "ИСТОЧНИК (первый визит)                                               \n",
       "vk                                         1          3600     100.0  \n",
       "звонок с рентгопро.рф                      4         10900     100.0  \n",
       "импорт                                     5        172400      89.0  \n",
       "созданоВручную                             2        731399      85.0  \n",
       "Прямые визиты                              4        562490      59.0  \n",
       "смс                                        1          1000      50.0  \n",
       "arenda-prazdnik                            0        131700      50.0  \n",
       "Роботы                                     0             0      50.0  \n",
       "контекстВизитка                            3        271775      45.0  \n",
       "SEO                                        3       2655007      44.0  \n",
       "Визиты с сайтов                            3         35450      43.0  \n",
       "яндекс директ                              3       1863341      41.0  \n",
       "google ads                                 3        404441      39.0  \n",
       "nan                                        3        141300      36.0  \n",
       "яндекскарты                                6          5100      33.0  \n",
       "авито                                      3       1498298      31.0  \n",
       "телефонияБ24                               2        206420      30.0  \n",
       "ymaps                                     31         22300      29.0  \n",
       "неизвестно                                 2        169630      28.0  \n",
       "2gis                                       0             0       0.0  \n",
       "instagram                                  0             0       0.0  \n",
       "ВСЕГО                                      3       8886551      39.0  "
      ]
     },
     "metadata": {},
     "output_type": "display_data"
    },
    {
     "name": "stdout",
     "output_type": "stream",
     "text": [
      "\n",
      "\n",
      "\n",
      "\n",
      "\n",
      "\n",
      "------------------ОТЧЕТ \"ИСТОЧНИК (последний визит) (прокат + event)\"-----------------\n"
     ]
    },
    {
     "data": {
      "text/html": [
       "<div>\n",
       "<style scoped>\n",
       "    .dataframe tbody tr th:only-of-type {\n",
       "        vertical-align: middle;\n",
       "    }\n",
       "\n",
       "    .dataframe tbody tr th {\n",
       "        vertical-align: top;\n",
       "    }\n",
       "\n",
       "    .dataframe thead th {\n",
       "        text-align: right;\n",
       "    }\n",
       "</style>\n",
       "<table border=\"1\" class=\"dataframe\">\n",
       "  <thead>\n",
       "    <tr style=\"text-align: right;\">\n",
       "      <th></th>\n",
       "      <th>новых</th>\n",
       "      <th>новых (%)</th>\n",
       "      <th>броней</th>\n",
       "      <th>успешных</th>\n",
       "      <th>K_повт</th>\n",
       "      <th>потенц. сделок(откр.брони)</th>\n",
       "      <th>потенц. оборот(откр.брони)</th>\n",
       "      <th>потенц. оборот(откр.брони на jun)</th>\n",
       "      <th>Ср.чек</th>\n",
       "      <th>фактич. оборот</th>\n",
       "      <th>средн. цикл аренды</th>\n",
       "      <th>медиан. цикл аренды</th>\n",
       "      <th>прогн.оборот</th>\n",
       "      <th>CV_бронь</th>\n",
       "    </tr>\n",
       "    <tr>\n",
       "      <th>ИСТОЧНИК (последний визит)</th>\n",
       "      <th></th>\n",
       "      <th></th>\n",
       "      <th></th>\n",
       "      <th></th>\n",
       "      <th></th>\n",
       "      <th></th>\n",
       "      <th></th>\n",
       "      <th></th>\n",
       "      <th></th>\n",
       "      <th></th>\n",
       "      <th></th>\n",
       "      <th></th>\n",
       "      <th></th>\n",
       "      <th></th>\n",
       "    </tr>\n",
       "  </thead>\n",
       "  <tbody>\n",
       "    <tr>\n",
       "      <th>335083</th>\n",
       "      <td>1</td>\n",
       "      <td>0.0</td>\n",
       "      <td>1</td>\n",
       "      <td>0</td>\n",
       "      <td>0.0</td>\n",
       "      <td>0</td>\n",
       "      <td>0</td>\n",
       "      <td>0</td>\n",
       "      <td>0.0</td>\n",
       "      <td>0</td>\n",
       "      <td>0.0</td>\n",
       "      <td>0</td>\n",
       "      <td>0</td>\n",
       "      <td>100.0</td>\n",
       "    </tr>\n",
       "    <tr>\n",
       "      <th>Роботы</th>\n",
       "      <td>2</td>\n",
       "      <td>0.0</td>\n",
       "      <td>2</td>\n",
       "      <td>1</td>\n",
       "      <td>100.0</td>\n",
       "      <td>1</td>\n",
       "      <td>3000</td>\n",
       "      <td>0</td>\n",
       "      <td>2500.0</td>\n",
       "      <td>2500</td>\n",
       "      <td>3.0</td>\n",
       "      <td>3</td>\n",
       "      <td>2500</td>\n",
       "      <td>100.0</td>\n",
       "    </tr>\n",
       "    <tr>\n",
       "      <th>яндекскарты</th>\n",
       "      <td>1</td>\n",
       "      <td>0.0</td>\n",
       "      <td>1</td>\n",
       "      <td>1</td>\n",
       "      <td>0.0</td>\n",
       "      <td>0</td>\n",
       "      <td>0</td>\n",
       "      <td>0</td>\n",
       "      <td>3100.0</td>\n",
       "      <td>3100</td>\n",
       "      <td>12.0</td>\n",
       "      <td>12</td>\n",
       "      <td>3100</td>\n",
       "      <td>100.0</td>\n",
       "    </tr>\n",
       "    <tr>\n",
       "      <th>созданоВручную</th>\n",
       "      <td>53</td>\n",
       "      <td>1.2</td>\n",
       "      <td>35</td>\n",
       "      <td>44</td>\n",
       "      <td>40.0</td>\n",
       "      <td>5</td>\n",
       "      <td>79500</td>\n",
       "      <td>0</td>\n",
       "      <td>7517.0</td>\n",
       "      <td>330732</td>\n",
       "      <td>7.0</td>\n",
       "      <td>2</td>\n",
       "      <td>330732</td>\n",
       "      <td>66.0</td>\n",
       "    </tr>\n",
       "    <tr>\n",
       "      <th>неизвестно</th>\n",
       "      <td>464</td>\n",
       "      <td>10.4</td>\n",
       "      <td>239</td>\n",
       "      <td>220</td>\n",
       "      <td>24.0</td>\n",
       "      <td>7</td>\n",
       "      <td>96700</td>\n",
       "      <td>0</td>\n",
       "      <td>10019.0</td>\n",
       "      <td>2204140</td>\n",
       "      <td>10.0</td>\n",
       "      <td>5</td>\n",
       "      <td>2204140</td>\n",
       "      <td>52.0</td>\n",
       "    </tr>\n",
       "    <tr>\n",
       "      <th>Прямые визиты</th>\n",
       "      <td>19</td>\n",
       "      <td>0.4</td>\n",
       "      <td>8</td>\n",
       "      <td>7</td>\n",
       "      <td>28.0</td>\n",
       "      <td>1</td>\n",
       "      <td>2550</td>\n",
       "      <td>0</td>\n",
       "      <td>6671.0</td>\n",
       "      <td>46700</td>\n",
       "      <td>2.0</td>\n",
       "      <td>3</td>\n",
       "      <td>46700</td>\n",
       "      <td>42.0</td>\n",
       "    </tr>\n",
       "    <tr>\n",
       "      <th>nan</th>\n",
       "      <td>3092</td>\n",
       "      <td>69.0</td>\n",
       "      <td>1243</td>\n",
       "      <td>1045</td>\n",
       "      <td>10.0</td>\n",
       "      <td>0</td>\n",
       "      <td>0</td>\n",
       "      <td>0</td>\n",
       "      <td>5252.0</td>\n",
       "      <td>5487928</td>\n",
       "      <td>6.0</td>\n",
       "      <td>3</td>\n",
       "      <td>5487928</td>\n",
       "      <td>40.0</td>\n",
       "    </tr>\n",
       "    <tr>\n",
       "      <th>Визиты с сайтов</th>\n",
       "      <td>5</td>\n",
       "      <td>0.1</td>\n",
       "      <td>2</td>\n",
       "      <td>2</td>\n",
       "      <td>0.0</td>\n",
       "      <td>0</td>\n",
       "      <td>0</td>\n",
       "      <td>0</td>\n",
       "      <td>1850.0</td>\n",
       "      <td>3700</td>\n",
       "      <td>2.0</td>\n",
       "      <td>2</td>\n",
       "      <td>3700</td>\n",
       "      <td>40.0</td>\n",
       "    </tr>\n",
       "    <tr>\n",
       "      <th>SEO</th>\n",
       "      <td>136</td>\n",
       "      <td>3.0</td>\n",
       "      <td>47</td>\n",
       "      <td>45</td>\n",
       "      <td>15.0</td>\n",
       "      <td>13</td>\n",
       "      <td>78100</td>\n",
       "      <td>0</td>\n",
       "      <td>3509.0</td>\n",
       "      <td>157900</td>\n",
       "      <td>7.0</td>\n",
       "      <td>3</td>\n",
       "      <td>157900</td>\n",
       "      <td>35.0</td>\n",
       "    </tr>\n",
       "    <tr>\n",
       "      <th>телефонияБ24</th>\n",
       "      <td>124</td>\n",
       "      <td>2.8</td>\n",
       "      <td>40</td>\n",
       "      <td>39</td>\n",
       "      <td>0.0</td>\n",
       "      <td>5</td>\n",
       "      <td>14100</td>\n",
       "      <td>0</td>\n",
       "      <td>5437.0</td>\n",
       "      <td>212050</td>\n",
       "      <td>5.0</td>\n",
       "      <td>2</td>\n",
       "      <td>212050</td>\n",
       "      <td>32.0</td>\n",
       "    </tr>\n",
       "    <tr>\n",
       "      <th>google ads</th>\n",
       "      <td>40</td>\n",
       "      <td>0.9</td>\n",
       "      <td>12</td>\n",
       "      <td>9</td>\n",
       "      <td>0.0</td>\n",
       "      <td>1</td>\n",
       "      <td>7800</td>\n",
       "      <td>0</td>\n",
       "      <td>2789.0</td>\n",
       "      <td>25100</td>\n",
       "      <td>5.0</td>\n",
       "      <td>6</td>\n",
       "      <td>25100</td>\n",
       "      <td>30.0</td>\n",
       "    </tr>\n",
       "    <tr>\n",
       "      <th>яндекс директ</th>\n",
       "      <td>90</td>\n",
       "      <td>2.0</td>\n",
       "      <td>23</td>\n",
       "      <td>24</td>\n",
       "      <td>4.0</td>\n",
       "      <td>2</td>\n",
       "      <td>10600</td>\n",
       "      <td>0</td>\n",
       "      <td>3765.0</td>\n",
       "      <td>90351</td>\n",
       "      <td>5.0</td>\n",
       "      <td>2</td>\n",
       "      <td>90351</td>\n",
       "      <td>26.0</td>\n",
       "    </tr>\n",
       "    <tr>\n",
       "      <th>arenda-prazdnik</th>\n",
       "      <td>8</td>\n",
       "      <td>0.2</td>\n",
       "      <td>2</td>\n",
       "      <td>0</td>\n",
       "      <td>0.0</td>\n",
       "      <td>2</td>\n",
       "      <td>272000</td>\n",
       "      <td>0</td>\n",
       "      <td>0.0</td>\n",
       "      <td>0</td>\n",
       "      <td>0.0</td>\n",
       "      <td>0</td>\n",
       "      <td>0</td>\n",
       "      <td>25.0</td>\n",
       "    </tr>\n",
       "    <tr>\n",
       "      <th>контекстВизитка</th>\n",
       "      <td>10</td>\n",
       "      <td>0.2</td>\n",
       "      <td>2</td>\n",
       "      <td>2</td>\n",
       "      <td>0.0</td>\n",
       "      <td>0</td>\n",
       "      <td>0</td>\n",
       "      <td>0</td>\n",
       "      <td>1525.0</td>\n",
       "      <td>3050</td>\n",
       "      <td>2.0</td>\n",
       "      <td>2</td>\n",
       "      <td>3050</td>\n",
       "      <td>20.0</td>\n",
       "    </tr>\n",
       "    <tr>\n",
       "      <th>авито</th>\n",
       "      <td>435</td>\n",
       "      <td>9.7</td>\n",
       "      <td>80</td>\n",
       "      <td>77</td>\n",
       "      <td>0.0</td>\n",
       "      <td>5</td>\n",
       "      <td>16200</td>\n",
       "      <td>0</td>\n",
       "      <td>4147.0</td>\n",
       "      <td>319300</td>\n",
       "      <td>5.0</td>\n",
       "      <td>3</td>\n",
       "      <td>319300</td>\n",
       "      <td>18.0</td>\n",
       "    </tr>\n",
       "    <tr>\n",
       "      <th>ВСЕГО</th>\n",
       "      <td>4480</td>\n",
       "      <td>100.0</td>\n",
       "      <td>1737</td>\n",
       "      <td>1516</td>\n",
       "      <td>12.8</td>\n",
       "      <td>42</td>\n",
       "      <td>580550</td>\n",
       "      <td>0</td>\n",
       "      <td>5862.0</td>\n",
       "      <td>8886551</td>\n",
       "      <td>6.9</td>\n",
       "      <td>3</td>\n",
       "      <td>8886551</td>\n",
       "      <td>39.0</td>\n",
       "    </tr>\n",
       "  </tbody>\n",
       "</table>\n",
       "</div>"
      ],
      "text/plain": [
       "                            новых  новых (%)  броней  успешных  K_повт  \\\n",
       "ИСТОЧНИК (последний визит)                                               \n",
       "335083                          1        0.0       1         0     0.0   \n",
       "Роботы                          2        0.0       2         1   100.0   \n",
       "яндекскарты                     1        0.0       1         1     0.0   \n",
       "созданоВручную                 53        1.2      35        44    40.0   \n",
       "неизвестно                    464       10.4     239       220    24.0   \n",
       "Прямые визиты                  19        0.4       8         7    28.0   \n",
       "nan                          3092       69.0    1243      1045    10.0   \n",
       "Визиты с сайтов                 5        0.1       2         2     0.0   \n",
       "SEO                           136        3.0      47        45    15.0   \n",
       "телефонияБ24                  124        2.8      40        39     0.0   \n",
       "google ads                     40        0.9      12         9     0.0   \n",
       "яндекс директ                  90        2.0      23        24     4.0   \n",
       "arenda-prazdnik                 8        0.2       2         0     0.0   \n",
       "контекстВизитка                10        0.2       2         2     0.0   \n",
       "авито                         435        9.7      80        77     0.0   \n",
       "ВСЕГО                        4480      100.0    1737      1516    12.8   \n",
       "\n",
       "                            потенц. сделок(откр.брони)  \\\n",
       "ИСТОЧНИК (последний визит)                               \n",
       "335083                                               0   \n",
       "Роботы                                               1   \n",
       "яндекскарты                                          0   \n",
       "созданоВручную                                       5   \n",
       "неизвестно                                           7   \n",
       "Прямые визиты                                        1   \n",
       "nan                                                  0   \n",
       "Визиты с сайтов                                      0   \n",
       "SEO                                                 13   \n",
       "телефонияБ24                                         5   \n",
       "google ads                                           1   \n",
       "яндекс директ                                        2   \n",
       "arenda-prazdnik                                      2   \n",
       "контекстВизитка                                      0   \n",
       "авито                                                5   \n",
       "ВСЕГО                                               42   \n",
       "\n",
       "                            потенц. оборот(откр.брони)  \\\n",
       "ИСТОЧНИК (последний визит)                               \n",
       "335083                                               0   \n",
       "Роботы                                            3000   \n",
       "яндекскарты                                          0   \n",
       "созданоВручную                                   79500   \n",
       "неизвестно                                       96700   \n",
       "Прямые визиты                                     2550   \n",
       "nan                                                  0   \n",
       "Визиты с сайтов                                      0   \n",
       "SEO                                              78100   \n",
       "телефонияБ24                                     14100   \n",
       "google ads                                        7800   \n",
       "яндекс директ                                    10600   \n",
       "arenda-prazdnik                                 272000   \n",
       "контекстВизитка                                      0   \n",
       "авито                                            16200   \n",
       "ВСЕГО                                           580550   \n",
       "\n",
       "                            потенц. оборот(откр.брони на jun)  Ср.чек  \\\n",
       "ИСТОЧНИК (последний визит)                                              \n",
       "335083                                                      0     0.0   \n",
       "Роботы                                                      0  2500.0   \n",
       "яндекскарты                                                 0  3100.0   \n",
       "созданоВручную                                              0  7517.0   \n",
       "неизвестно                                                  0 10019.0   \n",
       "Прямые визиты                                               0  6671.0   \n",
       "nan                                                         0  5252.0   \n",
       "Визиты с сайтов                                             0  1850.0   \n",
       "SEO                                                         0  3509.0   \n",
       "телефонияБ24                                                0  5437.0   \n",
       "google ads                                                  0  2789.0   \n",
       "яндекс директ                                               0  3765.0   \n",
       "arenda-prazdnik                                             0     0.0   \n",
       "контекстВизитка                                             0  1525.0   \n",
       "авито                                                       0  4147.0   \n",
       "ВСЕГО                                                       0  5862.0   \n",
       "\n",
       "                            фактич. оборот  средн. цикл аренды  \\\n",
       "ИСТОЧНИК (последний визит)                                       \n",
       "335083                                   0                 0.0   \n",
       "Роботы                                2500                 3.0   \n",
       "яндекскарты                           3100                12.0   \n",
       "созданоВручную                      330732                 7.0   \n",
       "неизвестно                         2204140                10.0   \n",
       "Прямые визиты                        46700                 2.0   \n",
       "nan                                5487928                 6.0   \n",
       "Визиты с сайтов                       3700                 2.0   \n",
       "SEO                                 157900                 7.0   \n",
       "телефонияБ24                        212050                 5.0   \n",
       "google ads                           25100                 5.0   \n",
       "яндекс директ                        90351                 5.0   \n",
       "arenda-prazdnik                          0                 0.0   \n",
       "контекстВизитка                       3050                 2.0   \n",
       "авито                               319300                 5.0   \n",
       "ВСЕГО                              8886551                 6.9   \n",
       "\n",
       "                            медиан. цикл аренды  прогн.оборот  CV_бронь  \n",
       "ИСТОЧНИК (последний визит)                                               \n",
       "335083                                        0             0     100.0  \n",
       "Роботы                                        3          2500     100.0  \n",
       "яндекскарты                                  12          3100     100.0  \n",
       "созданоВручную                                2        330732      66.0  \n",
       "неизвестно                                    5       2204140      52.0  \n",
       "Прямые визиты                                 3         46700      42.0  \n",
       "nan                                           3       5487928      40.0  \n",
       "Визиты с сайтов                               2          3700      40.0  \n",
       "SEO                                           3        157900      35.0  \n",
       "телефонияБ24                                  2        212050      32.0  \n",
       "google ads                                    6         25100      30.0  \n",
       "яндекс директ                                 2         90351      26.0  \n",
       "arenda-prazdnik                               0             0      25.0  \n",
       "контекстВизитка                               2          3050      20.0  \n",
       "авито                                         3        319300      18.0  \n",
       "ВСЕГО                                         3       8886551      39.0  "
      ]
     },
     "metadata": {},
     "output_type": "display_data"
    },
    {
     "name": "stdout",
     "output_type": "stream",
     "text": [
      "\n",
      "\n",
      "\n",
      "\n",
      "\n",
      "\n",
      "------------------ОТЧЕТ \"envybox? (прокат + event)\"-----------------\n"
     ]
    },
    {
     "data": {
      "text/html": [
       "<div>\n",
       "<style scoped>\n",
       "    .dataframe tbody tr th:only-of-type {\n",
       "        vertical-align: middle;\n",
       "    }\n",
       "\n",
       "    .dataframe tbody tr th {\n",
       "        vertical-align: top;\n",
       "    }\n",
       "\n",
       "    .dataframe thead th {\n",
       "        text-align: right;\n",
       "    }\n",
       "</style>\n",
       "<table border=\"1\" class=\"dataframe\">\n",
       "  <thead>\n",
       "    <tr style=\"text-align: right;\">\n",
       "      <th></th>\n",
       "      <th>новых</th>\n",
       "      <th>новых (%)</th>\n",
       "      <th>броней</th>\n",
       "      <th>успешных</th>\n",
       "      <th>K_повт</th>\n",
       "      <th>потенц. сделок(откр.брони)</th>\n",
       "      <th>потенц. оборот(откр.брони)</th>\n",
       "      <th>потенц. оборот(откр.брони на jun)</th>\n",
       "      <th>Ср.чек</th>\n",
       "      <th>фактич. оборот</th>\n",
       "      <th>средн. цикл аренды</th>\n",
       "      <th>медиан. цикл аренды</th>\n",
       "      <th>прогн.оборот</th>\n",
       "      <th>CV_бронь</th>\n",
       "    </tr>\n",
       "    <tr>\n",
       "      <th>envybox?</th>\n",
       "      <th></th>\n",
       "      <th></th>\n",
       "      <th></th>\n",
       "      <th></th>\n",
       "      <th></th>\n",
       "      <th></th>\n",
       "      <th></th>\n",
       "      <th></th>\n",
       "      <th></th>\n",
       "      <th></th>\n",
       "      <th></th>\n",
       "      <th></th>\n",
       "      <th></th>\n",
       "      <th></th>\n",
       "    </tr>\n",
       "  </thead>\n",
       "  <tbody>\n",
       "    <tr>\n",
       "      <th>прочие</th>\n",
       "      <td>4059</td>\n",
       "      <td>90.6</td>\n",
       "      <td>1603</td>\n",
       "      <td>1399</td>\n",
       "      <td>13.0</td>\n",
       "      <td>38</td>\n",
       "      <td>564800</td>\n",
       "      <td>0</td>\n",
       "      <td>5940.0</td>\n",
       "      <td>8310150</td>\n",
       "      <td>6.0</td>\n",
       "      <td>3</td>\n",
       "      <td>8310150</td>\n",
       "      <td>39.0</td>\n",
       "    </tr>\n",
       "    <tr>\n",
       "      <th>envybox</th>\n",
       "      <td>421</td>\n",
       "      <td>9.4</td>\n",
       "      <td>134</td>\n",
       "      <td>117</td>\n",
       "      <td>4.0</td>\n",
       "      <td>4</td>\n",
       "      <td>15750</td>\n",
       "      <td>0</td>\n",
       "      <td>4927.0</td>\n",
       "      <td>576401</td>\n",
       "      <td>8.0</td>\n",
       "      <td>5</td>\n",
       "      <td>576401</td>\n",
       "      <td>32.0</td>\n",
       "    </tr>\n",
       "    <tr>\n",
       "      <th>ВСЕГО</th>\n",
       "      <td>4480</td>\n",
       "      <td>100.0</td>\n",
       "      <td>1737</td>\n",
       "      <td>1516</td>\n",
       "      <td>12.8</td>\n",
       "      <td>42</td>\n",
       "      <td>580550</td>\n",
       "      <td>0</td>\n",
       "      <td>5862.0</td>\n",
       "      <td>8886551</td>\n",
       "      <td>6.9</td>\n",
       "      <td>3</td>\n",
       "      <td>8886551</td>\n",
       "      <td>39.0</td>\n",
       "    </tr>\n",
       "  </tbody>\n",
       "</table>\n",
       "</div>"
      ],
      "text/plain": [
       "          новых  новых (%)  броней  успешных  K_повт  \\\n",
       "envybox?                                               \n",
       "прочие     4059       90.6    1603      1399    13.0   \n",
       "envybox     421        9.4     134       117     4.0   \n",
       "ВСЕГО      4480      100.0    1737      1516    12.8   \n",
       "\n",
       "          потенц. сделок(откр.брони)  потенц. оборот(откр.брони)  \\\n",
       "envybox?                                                           \n",
       "прочие                            38                      564800   \n",
       "envybox                            4                       15750   \n",
       "ВСЕГО                             42                      580550   \n",
       "\n",
       "          потенц. оборот(откр.брони на jun)  Ср.чек  фактич. оборот  \\\n",
       "envybox?                                                              \n",
       "прочие                                    0  5940.0         8310150   \n",
       "envybox                                   0  4927.0          576401   \n",
       "ВСЕГО                                     0  5862.0         8886551   \n",
       "\n",
       "          средн. цикл аренды  медиан. цикл аренды  прогн.оборот  CV_бронь  \n",
       "envybox?                                                                   \n",
       "прочие                   6.0                    3       8310150      39.0  \n",
       "envybox                  8.0                    5        576401      32.0  \n",
       "ВСЕГО                    6.9                    3       8886551      39.0  "
      ]
     },
     "metadata": {},
     "output_type": "display_data"
    },
    {
     "name": "stdout",
     "output_type": "stream",
     "text": [
      "\n",
      "\n",
      "\n",
      "\n",
      "\n",
      "\n",
      "------------------ОТЧЕТ \"ЛОЯЛЬНОСТЬ (прокат + event)\"-----------------\n"
     ]
    },
    {
     "data": {
      "text/html": [
       "<div>\n",
       "<style scoped>\n",
       "    .dataframe tbody tr th:only-of-type {\n",
       "        vertical-align: middle;\n",
       "    }\n",
       "\n",
       "    .dataframe tbody tr th {\n",
       "        vertical-align: top;\n",
       "    }\n",
       "\n",
       "    .dataframe thead th {\n",
       "        text-align: right;\n",
       "    }\n",
       "</style>\n",
       "<table border=\"1\" class=\"dataframe\">\n",
       "  <thead>\n",
       "    <tr style=\"text-align: right;\">\n",
       "      <th></th>\n",
       "      <th>новых</th>\n",
       "      <th>новых (%)</th>\n",
       "      <th>броней</th>\n",
       "      <th>успешных</th>\n",
       "      <th>K_повт</th>\n",
       "      <th>потенц. сделок(откр.брони)</th>\n",
       "      <th>потенц. оборот(откр.брони)</th>\n",
       "      <th>потенц. оборот(откр.брони на jun)</th>\n",
       "      <th>Ср.чек</th>\n",
       "      <th>фактич. оборот</th>\n",
       "      <th>средн. цикл аренды</th>\n",
       "      <th>медиан. цикл аренды</th>\n",
       "      <th>прогн.оборот</th>\n",
       "      <th>CV_бронь</th>\n",
       "    </tr>\n",
       "    <tr>\n",
       "      <th>ЛОЯЛЬНОСТЬ</th>\n",
       "      <th></th>\n",
       "      <th></th>\n",
       "      <th></th>\n",
       "      <th></th>\n",
       "      <th></th>\n",
       "      <th></th>\n",
       "      <th></th>\n",
       "      <th></th>\n",
       "      <th></th>\n",
       "      <th></th>\n",
       "      <th></th>\n",
       "      <th></th>\n",
       "      <th></th>\n",
       "      <th></th>\n",
       "    </tr>\n",
       "  </thead>\n",
       "  <tbody>\n",
       "    <tr>\n",
       "      <th>повторные</th>\n",
       "      <td>236</td>\n",
       "      <td>5.3</td>\n",
       "      <td>191</td>\n",
       "      <td>194</td>\n",
       "      <td>100.0</td>\n",
       "      <td>3</td>\n",
       "      <td>16200</td>\n",
       "      <td>0</td>\n",
       "      <td>7004.0</td>\n",
       "      <td>1358740</td>\n",
       "      <td>12.0</td>\n",
       "      <td>5</td>\n",
       "      <td>1358740</td>\n",
       "      <td>81.0</td>\n",
       "    </tr>\n",
       "    <tr>\n",
       "      <th>первичные</th>\n",
       "      <td>4244</td>\n",
       "      <td>94.7</td>\n",
       "      <td>1546</td>\n",
       "      <td>1322</td>\n",
       "      <td>0.0</td>\n",
       "      <td>39</td>\n",
       "      <td>564350</td>\n",
       "      <td>0</td>\n",
       "      <td>5694.0</td>\n",
       "      <td>7527811</td>\n",
       "      <td>6.0</td>\n",
       "      <td>3</td>\n",
       "      <td>7527811</td>\n",
       "      <td>36.0</td>\n",
       "    </tr>\n",
       "    <tr>\n",
       "      <th>ВСЕГО</th>\n",
       "      <td>4480</td>\n",
       "      <td>100.0</td>\n",
       "      <td>1737</td>\n",
       "      <td>1516</td>\n",
       "      <td>12.8</td>\n",
       "      <td>42</td>\n",
       "      <td>580550</td>\n",
       "      <td>0</td>\n",
       "      <td>5862.0</td>\n",
       "      <td>8886551</td>\n",
       "      <td>6.9</td>\n",
       "      <td>3</td>\n",
       "      <td>8886551</td>\n",
       "      <td>39.0</td>\n",
       "    </tr>\n",
       "  </tbody>\n",
       "</table>\n",
       "</div>"
      ],
      "text/plain": [
       "            новых  новых (%)  броней  успешных  K_повт  \\\n",
       "ЛОЯЛЬНОСТЬ                                               \n",
       "повторные     236        5.3     191       194   100.0   \n",
       "первичные    4244       94.7    1546      1322     0.0   \n",
       "ВСЕГО        4480      100.0    1737      1516    12.8   \n",
       "\n",
       "            потенц. сделок(откр.брони)  потенц. оборот(откр.брони)  \\\n",
       "ЛОЯЛЬНОСТЬ                                                           \n",
       "повторные                            3                       16200   \n",
       "первичные                           39                      564350   \n",
       "ВСЕГО                               42                      580550   \n",
       "\n",
       "            потенц. оборот(откр.брони на jun)  Ср.чек  фактич. оборот  \\\n",
       "ЛОЯЛЬНОСТЬ                                                              \n",
       "повторные                                   0  7004.0         1358740   \n",
       "первичные                                   0  5694.0         7527811   \n",
       "ВСЕГО                                       0  5862.0         8886551   \n",
       "\n",
       "            средн. цикл аренды  медиан. цикл аренды  прогн.оборот  CV_бронь  \n",
       "ЛОЯЛЬНОСТЬ                                                                   \n",
       "повторные                 12.0                    5       1358740      81.0  \n",
       "первичные                  6.0                    3       7527811      36.0  \n",
       "ВСЕГО                      6.9                    3       8886551      39.0  "
      ]
     },
     "metadata": {},
     "output_type": "display_data"
    },
    {
     "name": "stdout",
     "output_type": "stream",
     "text": [
      "\n",
      "\n",
      "\n",
      "выиграно 1516 сделок\n",
      "\n",
      "\n",
      "\n",
      "------------------ОТЧЕТ \"ФИНАНСЫ\"-----------------\n"
     ]
    },
    {
     "data": {
      "text/html": [
       "<div>\n",
       "<style scoped>\n",
       "    .dataframe tbody tr th:only-of-type {\n",
       "        vertical-align: middle;\n",
       "    }\n",
       "\n",
       "    .dataframe tbody tr th {\n",
       "        vertical-align: top;\n",
       "    }\n",
       "\n",
       "    .dataframe thead th {\n",
       "        text-align: right;\n",
       "    }\n",
       "</style>\n",
       "<table border=\"1\" class=\"dataframe\">\n",
       "  <thead>\n",
       "    <tr style=\"text-align: right;\">\n",
       "      <th></th>\n",
       "      <th>руб_прокат</th>\n",
       "      <th>руб_эвент</th>\n",
       "      <th>руб_всего</th>\n",
       "    </tr>\n",
       "    <tr>\n",
       "      <th>СТАТЬЯ Д/Р</th>\n",
       "      <th></th>\n",
       "      <th></th>\n",
       "      <th></th>\n",
       "    </tr>\n",
       "  </thead>\n",
       "  <tbody>\n",
       "    <tr>\n",
       "      <th>фактич. оборот</th>\n",
       "      <td>7314701.0</td>\n",
       "      <td>1571850.0</td>\n",
       "      <td>8886551.0</td>\n",
       "    </tr>\n",
       "    <tr>\n",
       "      <th>привлечение клиентов</th>\n",
       "      <td>0</td>\n",
       "      <td>0</td>\n",
       "      <td>0</td>\n",
       "    </tr>\n",
       "    <tr>\n",
       "      <th>сумма женя</th>\n",
       "      <td>647550.0</td>\n",
       "      <td>500.0</td>\n",
       "      <td>648050.0</td>\n",
       "    </tr>\n",
       "    <tr>\n",
       "      <th>сумма виктория</th>\n",
       "      <td>108090.0</td>\n",
       "      <td>18758.0</td>\n",
       "      <td>126848.0</td>\n",
       "    </tr>\n",
       "    <tr>\n",
       "      <th>сумма дарьи</th>\n",
       "      <td>102168.0</td>\n",
       "      <td>84394.0</td>\n",
       "      <td>186562.0</td>\n",
       "    </tr>\n",
       "    <tr>\n",
       "      <th>сумма кирилла</th>\n",
       "      <td>83964.0</td>\n",
       "      <td>0.0</td>\n",
       "      <td>83964.0</td>\n",
       "    </tr>\n",
       "    <tr>\n",
       "      <th>сумма натальи</th>\n",
       "      <td>69324.0</td>\n",
       "      <td>4253.0</td>\n",
       "      <td>73577.0</td>\n",
       "    </tr>\n",
       "    <tr>\n",
       "      <th>сумма иное</th>\n",
       "      <td>64380.0</td>\n",
       "      <td>105500.0</td>\n",
       "      <td>169880.0</td>\n",
       "    </tr>\n",
       "    <tr>\n",
       "      <th>сумма лена</th>\n",
       "      <td>33017.0</td>\n",
       "      <td>0.0</td>\n",
       "      <td>33017.0</td>\n",
       "    </tr>\n",
       "    <tr>\n",
       "      <th>сумма ольги</th>\n",
       "      <td>26005.0</td>\n",
       "      <td>0.0</td>\n",
       "      <td>26005.0</td>\n",
       "    </tr>\n",
       "    <tr>\n",
       "      <th>расход менеджеры</th>\n",
       "      <td>30014.0</td>\n",
       "      <td>0.0</td>\n",
       "      <td>30014.0</td>\n",
       "    </tr>\n",
       "    <tr>\n",
       "      <th>расход офис</th>\n",
       "      <td>60.0</td>\n",
       "      <td>0.0</td>\n",
       "      <td>60.0</td>\n",
       "    </tr>\n",
       "    <tr>\n",
       "      <th>сумма алина</th>\n",
       "      <td>190.0</td>\n",
       "      <td>0.0</td>\n",
       "      <td>190.0</td>\n",
       "    </tr>\n",
       "    <tr>\n",
       "      <th>шамиль</th>\n",
       "      <td>24524.0</td>\n",
       "      <td>18500.0</td>\n",
       "      <td>43024.0</td>\n",
       "    </tr>\n",
       "    <tr>\n",
       "      <th>сумма субаренда</th>\n",
       "      <td>275470.0</td>\n",
       "      <td>95500.0</td>\n",
       "      <td>370970.0</td>\n",
       "    </tr>\n",
       "    <tr>\n",
       "      <th>сумма доставки</th>\n",
       "      <td>143950.0</td>\n",
       "      <td>133000.0</td>\n",
       "      <td>276950.0</td>\n",
       "    </tr>\n",
       "    <tr>\n",
       "      <th>инвестор баха</th>\n",
       "      <td>1685.0</td>\n",
       "      <td>0.0</td>\n",
       "      <td>1685.0</td>\n",
       "    </tr>\n",
       "    <tr>\n",
       "      <th>сопровождение</th>\n",
       "      <td>0.0</td>\n",
       "      <td>184500.0</td>\n",
       "      <td>184500.0</td>\n",
       "    </tr>\n",
       "    <tr>\n",
       "      <th>всего расходы по сделкам</th>\n",
       "      <td>2419116.0</td>\n",
       "      <td>644905.0</td>\n",
       "      <td>3064021.0</td>\n",
       "    </tr>\n",
       "    <tr>\n",
       "      <th>прибыль</th>\n",
       "      <td>4895585.0</td>\n",
       "      <td>926945.0</td>\n",
       "      <td>5822530.0</td>\n",
       "    </tr>\n",
       "  </tbody>\n",
       "</table>\n",
       "</div>"
      ],
      "text/plain": [
       "                         руб_прокат руб_эвент руб_всего\n",
       "СТАТЬЯ Д/Р                                             \n",
       "фактич. оборот            7314701.0 1571850.0 8886551.0\n",
       "привлечение клиентов              0         0         0\n",
       "сумма женя                 647550.0     500.0  648050.0\n",
       "сумма виктория             108090.0   18758.0  126848.0\n",
       "сумма дарьи                102168.0   84394.0  186562.0\n",
       "сумма кирилла               83964.0       0.0   83964.0\n",
       "сумма натальи               69324.0    4253.0   73577.0\n",
       "сумма иное                  64380.0  105500.0  169880.0\n",
       "сумма лена                  33017.0       0.0   33017.0\n",
       "сумма ольги                 26005.0       0.0   26005.0\n",
       "расход менеджеры            30014.0       0.0   30014.0\n",
       "расход офис                    60.0       0.0      60.0\n",
       "сумма алина                   190.0       0.0     190.0\n",
       "шамиль                      24524.0   18500.0   43024.0\n",
       "сумма субаренда            275470.0   95500.0  370970.0\n",
       "сумма доставки             143950.0  133000.0  276950.0\n",
       "инвестор баха                1685.0       0.0    1685.0\n",
       "сопровождение                   0.0  184500.0  184500.0\n",
       "всего расходы по сделкам  2419116.0  644905.0 3064021.0\n",
       "прибыль                   4895585.0  926945.0 5822530.0"
      ]
     },
     "metadata": {},
     "output_type": "display_data"
    },
    {
     "name": "stdout",
     "output_type": "stream",
     "text": [
      "\n",
      "\n",
      "\n",
      "\n",
      "\n",
      "\n",
      "------------------ОТЧЕТ \"Сделки без направления\"-----------------\n"
     ]
    },
    {
     "data": {
      "text/plain": [
       "1204    https://way-prokat.bitrix24.ru/crm/deal/details/194830/\n",
       "1208    https://way-prokat.bitrix24.ru/crm/deal/details/194886/\n",
       "1209    https://way-prokat.bitrix24.ru/crm/deal/details/194890/\n",
       "1247    https://way-prokat.bitrix24.ru/crm/deal/details/195090/\n",
       "1965    https://way-prokat.bitrix24.ru/crm/deal/details/193450/\n",
       "1990    https://way-prokat.bitrix24.ru/crm/deal/details/194348/\n",
       "1998    https://way-prokat.bitrix24.ru/crm/deal/details/195118/\n",
       "1999    https://way-prokat.bitrix24.ru/crm/deal/details/195128/\n",
       "2492    https://way-prokat.bitrix24.ru/crm/deal/details/178131/\n",
       "2524    https://way-prokat.bitrix24.ru/crm/deal/details/179452/\n",
       "2595    https://way-prokat.bitrix24.ru/crm/deal/details/181840/\n",
       "3363    https://way-prokat.bitrix24.ru/crm/deal/details/176840/\n",
       "3480    https://way-prokat.bitrix24.ru/crm/deal/details/179997/\n",
       "3637    https://way-prokat.bitrix24.ru/crm/deal/details/184122/\n",
       "3871    https://way-prokat.bitrix24.ru/crm/deal/details/190656/\n",
       "3913    https://way-prokat.bitrix24.ru/crm/deal/details/192172/\n",
       "3979    https://way-prokat.bitrix24.ru/crm/deal/details/193890/\n",
       "4010    https://way-prokat.bitrix24.ru/crm/deal/details/195120/\n",
       "4011    https://way-prokat.bitrix24.ru/crm/deal/details/195124/\n",
       "4012    https://way-prokat.bitrix24.ru/crm/deal/details/195126/\n",
       "4148    https://way-prokat.bitrix24.ru/crm/deal/details/175420/\n",
       "4150    https://way-prokat.bitrix24.ru/crm/deal/details/178802/\n",
       "4151    https://way-prokat.bitrix24.ru/crm/deal/details/179760/\n",
       "4152    https://way-prokat.bitrix24.ru/crm/deal/details/179802/\n",
       "4153    https://way-prokat.bitrix24.ru/crm/deal/details/180136/\n",
       "4154    https://way-prokat.bitrix24.ru/crm/deal/details/180156/\n",
       "4155    https://way-prokat.bitrix24.ru/crm/deal/details/181478/\n",
       "4156    https://way-prokat.bitrix24.ru/crm/deal/details/181482/\n",
       "4157    https://way-prokat.bitrix24.ru/crm/deal/details/181354/\n",
       "4158    https://way-prokat.bitrix24.ru/crm/deal/details/181632/\n",
       "4159    https://way-prokat.bitrix24.ru/crm/deal/details/181728/\n",
       "4160    https://way-prokat.bitrix24.ru/crm/deal/details/182040/\n",
       "4161    https://way-prokat.bitrix24.ru/crm/deal/details/182726/\n",
       "4162    https://way-prokat.bitrix24.ru/crm/deal/details/183316/\n",
       "4163    https://way-prokat.bitrix24.ru/crm/deal/details/183386/\n",
       "4164    https://way-prokat.bitrix24.ru/crm/deal/details/184222/\n",
       "4166    https://way-prokat.bitrix24.ru/crm/deal/details/184542/\n",
       "4167    https://way-prokat.bitrix24.ru/crm/deal/details/184650/\n",
       "4168    https://way-prokat.bitrix24.ru/crm/deal/details/185028/\n",
       "4169    https://way-prokat.bitrix24.ru/crm/deal/details/185488/\n",
       "4170    https://way-prokat.bitrix24.ru/crm/deal/details/185628/\n",
       "4171    https://way-prokat.bitrix24.ru/crm/deal/details/185696/\n",
       "4172    https://way-prokat.bitrix24.ru/crm/deal/details/185836/\n",
       "4173    https://way-prokat.bitrix24.ru/crm/deal/details/185852/\n",
       "4174    https://way-prokat.bitrix24.ru/crm/deal/details/186200/\n",
       "4175    https://way-prokat.bitrix24.ru/crm/deal/details/187398/\n",
       "4176    https://way-prokat.bitrix24.ru/crm/deal/details/187524/\n",
       "4177    https://way-prokat.bitrix24.ru/crm/deal/details/188350/\n",
       "4178    https://way-prokat.bitrix24.ru/crm/deal/details/188484/\n",
       "4179    https://way-prokat.bitrix24.ru/crm/deal/details/188876/\n",
       "4180    https://way-prokat.bitrix24.ru/crm/deal/details/189140/\n",
       "4182    https://way-prokat.bitrix24.ru/crm/deal/details/189776/\n",
       "4183    https://way-prokat.bitrix24.ru/crm/deal/details/190278/\n",
       "4184    https://way-prokat.bitrix24.ru/crm/deal/details/190548/\n",
       "4186    https://way-prokat.bitrix24.ru/crm/deal/details/191074/\n",
       "4187    https://way-prokat.bitrix24.ru/crm/deal/details/191258/\n",
       "4188    https://way-prokat.bitrix24.ru/crm/deal/details/191350/\n",
       "4189    https://way-prokat.bitrix24.ru/crm/deal/details/191418/\n",
       "4190    https://way-prokat.bitrix24.ru/crm/deal/details/191886/\n",
       "4191    https://way-prokat.bitrix24.ru/crm/deal/details/191892/\n",
       "4192    https://way-prokat.bitrix24.ru/crm/deal/details/191926/\n",
       "4193    https://way-prokat.bitrix24.ru/crm/deal/details/191986/\n",
       "4194    https://way-prokat.bitrix24.ru/crm/deal/details/192180/\n",
       "4195    https://way-prokat.bitrix24.ru/crm/deal/details/192428/\n",
       "4196    https://way-prokat.bitrix24.ru/crm/deal/details/192794/\n",
       "4197    https://way-prokat.bitrix24.ru/crm/deal/details/193368/\n",
       "4198    https://way-prokat.bitrix24.ru/crm/deal/details/193472/\n",
       "4199    https://way-prokat.bitrix24.ru/crm/deal/details/193648/\n",
       "4200    https://way-prokat.bitrix24.ru/crm/deal/details/193906/\n",
       "4202    https://way-prokat.bitrix24.ru/crm/deal/details/195026/\n",
       "4203    https://way-prokat.bitrix24.ru/crm/deal/details/195048/\n",
       "4204    https://way-prokat.bitrix24.ru/crm/deal/details/195054/\n",
       "4205    https://way-prokat.bitrix24.ru/crm/deal/details/195110/\n",
       "4222    https://way-prokat.bitrix24.ru/crm/deal/details/193980/\n",
       "4288    https://way-prokat.bitrix24.ru/crm/deal/details/179138/\n",
       "4307    https://way-prokat.bitrix24.ru/crm/deal/details/179450/\n",
       "4369    https://way-prokat.bitrix24.ru/crm/deal/details/182170/\n",
       "4491    https://way-prokat.bitrix24.ru/crm/deal/details/185482/\n",
       "4568    https://way-prokat.bitrix24.ru/crm/deal/details/187272/\n",
       "4700    https://way-prokat.bitrix24.ru/crm/deal/details/190774/\n",
       "4721    https://way-prokat.bitrix24.ru/crm/deal/details/191942/\n",
       "4745    https://way-prokat.bitrix24.ru/crm/deal/details/192780/\n",
       "4766    https://way-prokat.bitrix24.ru/crm/deal/details/193810/\n",
       "4788    https://way-prokat.bitrix24.ru/crm/deal/details/194546/\n",
       "4790    https://way-prokat.bitrix24.ru/crm/deal/details/194650/\n",
       "4791    https://way-prokat.bitrix24.ru/crm/deal/details/194652/\n",
       "4804    https://way-prokat.bitrix24.ru/crm/deal/details/194798/\n",
       "4806    https://way-prokat.bitrix24.ru/crm/deal/details/194828/\n",
       "4807    https://way-prokat.bitrix24.ru/crm/deal/details/194832/\n",
       "4808    https://way-prokat.bitrix24.ru/crm/deal/details/194862/\n",
       "4809    https://way-prokat.bitrix24.ru/crm/deal/details/194870/\n",
       "4811    https://way-prokat.bitrix24.ru/crm/deal/details/194920/\n",
       "4812    https://way-prokat.bitrix24.ru/crm/deal/details/194926/\n",
       "4818    https://way-prokat.bitrix24.ru/crm/deal/details/195002/\n",
       "4819    https://way-prokat.bitrix24.ru/crm/deal/details/195022/\n",
       "4832    https://way-prokat.bitrix24.ru/crm/deal/details/195122/\n",
       "4845    https://way-prokat.bitrix24.ru/crm/deal/details/178548/\n",
       "4894    https://way-prokat.bitrix24.ru/crm/deal/details/194168/\n",
       "4903    https://way-prokat.bitrix24.ru/crm/deal/details/194436/\n",
       "4911    https://way-prokat.bitrix24.ru/crm/deal/details/194778/\n",
       "4914    https://way-prokat.bitrix24.ru/crm/deal/details/195066/\n",
       "4915    https://way-prokat.bitrix24.ru/crm/deal/details/195076/\n",
       "4925    https://way-prokat.bitrix24.ru/crm/deal/details/195114/\n",
       "Name: 0, dtype: object"
      ]
     },
     "metadata": {},
     "output_type": "display_data"
    },
    {
     "data": {
      "image/png": "[encoded data removed]",
      "text/plain": [
       "<Figure size 1080x1080 with 1 Axes>"
      ]
     },
     "metadata": {},
     "output_type": "display_data"
    }
   ],
   "source": [
    "#v 06.08.21 \n",
    "#! pip install ipywidgets\n",
    "\n",
    "##############################################\n",
    "# 3 ПОЛЯ КАЖДЫЙ РАЗ СБИВАЮТСЯ ПРИ ДОБАВЛЕНИИ КАКИХ-ТО НОВЫХ ПОЛЕЙ В СДЕЛКУ! \n",
    "# в крайний раз добавили 20 полей, все сдвинулось на 20\n",
    "IGNORE_CV_FLAG_OFFSET = 32+1\n",
    "\n",
    "test_deal_id = 193892 #188344 #177574 #170790\n",
    "test_contact_id = 46988\n",
    "DEBUG_DEAL_SHOW = False\n",
    "##############################################\n",
    "\n",
    "from IPython.display import display\n",
    "from IPython.display import clear_output\n",
    "import ipywidgets as widgets\n",
    "from IPython.display import clear_output\n",
    "from ipywidgets import Button, Dropdown, DatePicker, FloatSlider, Layout, IntSlider, IntProgress, BoundedIntText\n",
    "from datetime import timedelta\n",
    "from datetime import datetime\n",
    "from datetime import date\n",
    "from dateutil.relativedelta import relativedelta\n",
    "import nemindlib as nm\n",
    "import pandas as pd\n",
    "import numpy as np\n",
    "import matplotlib.pyplot as plt\n",
    "import seaborn as sns\n",
    "import calendar\n",
    "import copy\n",
    "pd.options.mode.chained_assignment = None\n",
    "pd.set_option('display.max_columns', None)\n",
    "pd.set_option('display.max_rows', None)\n",
    "pd.set_option('display.max_colwidth', None)\n",
    "pd.set_option('display.float_format', '{:.1f}'.format)\n",
    "pd.options.mode.use_inf_as_na = True\n",
    "sns.set(rc={'figure.figsize':(15, 15)})\n",
    "\n",
    "\n",
    "current_datetime = datetime.now()\n",
    "dt1 = current_datetime\n",
    "dt2 = dt1\n",
    "date1 = current_datetime.strftime(\"%Y-%m-%d\") \n",
    "date2 = current_datetime.strftime(\"%Y-%m-%d\") \n",
    "\n",
    "\n",
    "\n",
    "\n",
    "path_mgrs_plan = \"../план по менеджерам.xlsx\"\n",
    "path_tovar_plan = \"../план по направлениям.xlsx\"\n",
    "\n",
    "\n",
    "df_plans_mgr_prokat = pd.read_excel(path_mgrs_plan, sheet_name='прокат')\n",
    "df_plans_mgr_event = pd.read_excel(path_mgrs_plan, sheet_name='event')\n",
    "df_plans_tovar = pd.read_excel(path_tovar_plan)\n",
    "\n",
    "sales_plan_mgr_prokat = {}\n",
    "sales_plan_mgr_event = {}\n",
    "sales_mgr_plans = {}\n",
    "sliders_sales_plan_mgr_prokat = {}\n",
    "sliders_sales_plan_mgr_ev = {}\n",
    "sales_plan_tovar = {}\n",
    "\n",
    "\n",
    "def LoadMgrPlan(month_num):\n",
    "    global sliders_sales_plan_mgr_prokat\n",
    "    global sliders_sales_plan_mgr_ev\n",
    "    \n",
    "    for row in df_plans_mgr_prokat.iterrows():\n",
    "        key = row[1]['менеджер']\n",
    "        value = row[1][month_num]\n",
    "        sales_plan_mgr_prokat[key] = value\n",
    "\n",
    "    for row in df_plans_mgr_event.iterrows():\n",
    "        key = row[1]['менеджер']\n",
    "        value = row[1][month_num]\n",
    "        sales_plan_mgr_event[key] = value\n",
    "    \n",
    "\n",
    "    for manager,plan in sales_plan_mgr_prokat.items(): \n",
    "        sales_mgr_plans[manager] = {'prokat': plan, 'event': sales_plan_mgr_event[manager]}\n",
    "\n",
    "    for manager,entry in sales_mgr_plans.items():\n",
    "        try:\n",
    "            prokat_val = int(entry['prokat'])\n",
    "        except:\n",
    "            prokat_val = 1\n",
    "            print('отсутствует значение плана в файле для менеджера {} для месяца {} (прокат)'.format(manager, month_num))\n",
    "        try:\n",
    "            ev_val = int(entry['event'])\n",
    "        except:\n",
    "            ev_val = 1\n",
    "            print('отсутствует значение плана в файле для менеджера {} для месяца {} (event)'.format(manager, month_num))\n",
    "        \n",
    "        try:\n",
    "            sliders_sales_plan_mgr_prokat[manager].value = prokat_val\n",
    "            sliders_sales_plan_mgr_ev[manager].value = ev_val\n",
    "        except:\n",
    "            pass\n",
    "        \n",
    "def LoadTovarPlan(month_num):    \n",
    "    for row in df_plans_tovar.iterrows():\n",
    "        key = row[1]['направление']\n",
    "        value = row[1][month_num]\n",
    "        sales_plan_tovar[key] = value\n",
    "\n",
    "    for tovar,entry in sales_plan_tovar.items():\n",
    "        try:\n",
    "            val = int(entry)\n",
    "        except:\n",
    "            val = 1\n",
    "            print('отсутствует значение плана в файле для направления {} для месяца {}'.format(tovar, month_num))\n",
    "            \n",
    "                \n",
    "LoadMgrPlan(datetime.now().month)\n",
    "LoadTovarPlan(datetime.now().month)\n",
    "    \n",
    "report_dir = None\n",
    "    \n",
    "def mon_name(n):\n",
    "    if (n>=1) & (n<=12):\n",
    "        return ['jan','feb','mar','apr','may','jun','jul','aug','sep','okt','nov','dec'][n-1]\n",
    "    else:\n",
    "        return 'bad mon number!'\n",
    "    \n",
    "fail_statuses_prokat = ['LOSE', 'APOLOGY','2','6','7','8','10', '11'] #фэйлы в Прокате \n",
    "fail_statuses_event = ['C2:LOSE', 'C2:APOLOGY', 'C2:7', 'C2:8', 'C2:9'] #фэйлы в Эвенте\n",
    "potential_success_statuses = ['PREPAYMENT_INVOICE', #пот. успехи в Прокате: броней\n",
    "                            'C2:5' #пот. успехи в Event: броней \n",
    "                         ]\n",
    "success_statuses = [ 'EXECUTING', 'WON', #успехи в Прокате: в аренде, закрыт \n",
    "                 'C2:FINAL_INVOICE', 'C2:3', 'C2:1', 'C2:2', 'C2:WON' #успехи в Event: оплачен, в аренде, документы подписаны, оригиналы переданы, закрыт\n",
    "                   ]    \n",
    "\n",
    "statuses = nm.SelectStatuses()\n",
    "statuses.columns = ['name', 'init_name', 'code', 'sort', 'group', 'dir']\n",
    "ignore_statuses_ = statuses[((statuses.dir == 0) | (statuses.dir == 2)) & (statuses.group == 'Lost') & (statuses.init_name == '')]\n",
    "ignore_statuses_names_dict = {}\n",
    "ignore_statuses = ['3','4','5','C2:6','C2:4'] #спам и дубли by default \n",
    "\n",
    "def on_cb_clicked(cb):\n",
    "    global ignore_statuses_names_dict_values_df\n",
    "    \n",
    "    ignore_statuses_names_dict_values = {}\n",
    "    for ignore_status_name in ignore_statuses_names_dict_values_df.index.values:\n",
    "        ignore_statuses_names_dict_values[ignore_status_name] = ignore_statuses_names_dict[ignore_status_name].value\n",
    "        \n",
    "    ignore_statuses_names_dict_values_df =  pd.DataFrame(index=ignore_statuses_names_dict_values.keys(), data = ignore_statuses_names_dict_values.values(), columns=['игнорировать'])\n",
    "    ignore_statuses_names_dict_values_df.to_excel(\"../спам-статусы.xlsx\")    \n",
    "    RescanCheckBoxes()\n",
    "    \n",
    "def RescanCheckBoxes():\n",
    "    global ignore_statuses\n",
    "    global ignore_statuses_names_dict\n",
    "    global ignore_statuses_\n",
    "    ignore_statuses_.loc[:,'take'] = False\n",
    "    for cb in ignore_statuses_names_dict.values():\n",
    "        ignore_statuses_.loc[ignore_statuses_.name==cb.description, 'take'] = cb.value\n",
    "    ignore_statuses = list(ignore_statuses_[ignore_statuses_['take']]['code'].values)\n",
    "    #print(ignore_statuses)\n",
    "\n",
    "    \n",
    "print('выберите, что НЕ учитываем в анализе:')\n",
    "ignore_statuses_names_dict_values_df = pd.read_excel(\"../спам-статусы.xlsx\", index_col=0)\n",
    "for ignore_status_name in ignore_statuses_names_dict_values_df.index.values:\n",
    "    ignore_statuses_names_dict[ignore_status_name] = widgets.Checkbox(\n",
    "        value=bool(ignore_statuses_names_dict_values_df.loc[ignore_status_name]['игнорировать']),\n",
    "        description=ignore_status_name,\n",
    "        disabled=False\n",
    "        )\n",
    "    ignore_statuses_names_dict[ignore_status_name].observe(on_cb_clicked, names='value')\n",
    "    display(ignore_statuses_names_dict[ignore_status_name])\n",
    "       \n",
    "RescanCheckBoxes()\n",
    "\n",
    "\n",
    "DIR_EVENT = 2\n",
    "DIR_PROKAT = 0\n",
    "\n",
    "fields = nm.SelectDealFieldsScheme()\n",
    "if DEBUG_DEAL_SHOW: display(fields)\n",
    "\n",
    "def GetFieldIndex(display_name):\n",
    "    if display_name=='ID': return 0\n",
    "    if display_name=='Направление': return 3\n",
    "    if display_name=='Стадия сделки': return 23\n",
    "    if display_name=='ID': return 0\n",
    "    if display_name=='Название': return 27\n",
    "    if display_name=='Контакт': return 8\n",
    "    if display_name=='Ответственный': return 21\n",
    "    if display_name=='Сумма': return 17\n",
    "    if DEBUG_DEAL_SHOW: print(display_name, ' -> ', fields[fields.DISPLAY_TEXT==display_name].index.values[0]-3)\n",
    "    return fields[fields.DISPLAY_TEXT==display_name].index.values[0]-3\n",
    "\n",
    "dir_idx = GetFieldIndex('Направление') #3\n",
    "field_stage_id_idx = GetFieldIndex('Стадия сделки') #23\n",
    "field_deal_id = GetFieldIndex('ID') #0\n",
    "field_name_idx = GetFieldIndex('Название') #27\n",
    "field_opportunity_idx = GetFieldIndex('Сумма')#17\n",
    "field_contact_id = GetFieldIndex('Контакт')#8\n",
    "field_manager_idx = GetFieldIndex('Ответственный')#21\n",
    "\n",
    "field_tovardir_idx = GetFieldIndex('Направление сделки (для отчета)')#88\n",
    "field_source_idx = GetFieldIndex('source_level_1')#112\n",
    "field_povt_idx = 'ЛОЯЛЬНОСТЬ'\n",
    "field_envybox_idx = 'envybox?'\n",
    "field_date_diff_rent = 'цикл аренды'\n",
    "field_prybyl = GetFieldIndex('Прибыль')#52\n",
    "field_summ_olga = GetFieldIndex('Сумма Ольги')#field_prybyl+1\n",
    "field_summ_kir = GetFieldIndex('Сумма Кирилла')#field_summ_olga+1\n",
    "field_summ_inoe = GetFieldIndex('Сумма \"Иное\"')#field_summ_kir+1\n",
    "field_summ_darya = GetFieldIndex('Сумма Дарьи')#field_summ_inoe+1\n",
    "field_summ_evgeniy = GetFieldIndex('Сумма Женя')#field_summ_darya+1\n",
    "field_exp_menegery = GetFieldIndex('Расход Менеджеры')#field_summ_evgeniy+1\n",
    "field_exp_office = GetFieldIndex('Расход Офис')#field_exp_menegery+1 \n",
    "field_cac = GetFieldIndex('Цена за Клиента')#field_exp_office+1\n",
    "field_summ_nataly = GetFieldIndex('Сумма Наталья')#66\n",
    "field_investor = GetFieldIndex('Инвестор Баха')#field_summ_nataly+1\n",
    "field_shamyl = GetFieldIndex('Шамиль')#field_investor+2\n",
    "field_summ_lena = GetFieldIndex('Сумма Лена')#field_shamyl+5\n",
    "field_summ_exp = GetFieldIndex('Всего расходы по сделке')#field_summ_lena+4\n",
    "field_summ_dost = GetFieldIndex('Сумма доставки_')#103\n",
    "field_summ_subarenda = GetFieldIndex('Сумма субаренда')#field_summ_dost+5\n",
    "field_summ_sopr = GetFieldIndex('Сопровождение')#field_summ_subarenda+1\n",
    "\n",
    "# ЭТИ ПОЛЯ КАЖДЫЙ РАЗ СБИВАЮТСЯ ПРИ ДОБАВЛЕНИИ КАКИХ-ТО НОВЫХ ПОЛЕЙ В СДЕЛКУ! в крайний раз добавили 20 полей, все сдвинулось на 20\n",
    "#field_prev_status_id = \n",
    "ufcnt = nm.GetUserFieldsCount()\n",
    "#print(ufcnt) \n",
    "field_summ_viktoria = GetFieldIndex('Сумма Виктория') #ufcnt + 30 - IGNORE_CV_FLAG_OFFSET\n",
    "field_summ_alina = GetFieldIndex('Сумма Алина') #ufcnt + 19 - IGNORE_CV_FLAG_OFFSET\n",
    "field_date_start_rent = GetFieldIndex('Дата начала аренды (А)') #ufcnt + 25 - IGNORE_CV_FLAG_OFFSET\n",
    "field_ignore_mgr_report_flag = GetFieldIndex('Не учитывать в расчете премии') #ufcnt + 13 - IGNORE_CV_FLAG_OFFSET\n",
    "field_lastsource_idx = GetFieldIndex('source_level_1_last') #154+IGNORE_CV_FLAG_OFFSET\n",
    "field_date_end_rent = GetFieldIndex('Дата окончания аренды (А)') #field_date_start_rent+1\n",
    "\n",
    "if DEBUG_DEAL_SHOW: \n",
    "    print('field_summ_viktoria', field_summ_viktoria)\n",
    "    print('field_date_start_rent', field_date_start_rent)\n",
    "    print('field_ignore_mgr_report_flag', field_ignore_mgr_report_flag)\n",
    "\n",
    "\n",
    "\n",
    "\n",
    "\n",
    "def GetManagersIndex():\n",
    "    managers_rec = []\n",
    "    managers_rec = nm.GetManagers()\n",
    "    #display(managers_rec)\n",
    "    managers_rec['МЕНЕДЖЕР'] = managers_rec[5] + ' ' + managers_rec[6]\n",
    "    managers_rec = managers_rec.drop_duplicates(subset=[0])\n",
    "    managers_rec[0] = managers_rec[0].astype(int)     \n",
    "    managers_rec = managers_rec.append(pd.Series([0], name='zero'))\n",
    "    managers_rec = managers_rec.append(pd.Series([None], name='NAN'))\n",
    "    managers_rec.loc['zero','МЕНЕДЖЕР'] = 'не назначен'\n",
    "    managers_rec.loc['NAN','МЕНЕДЖЕР'] = 'не назначен'\n",
    "    for i in range(0, len(managers_rec)):\n",
    "        v = str(managers_rec.iloc[i]['МЕНЕДЖЕР'])\n",
    "        if (v.strip()=='' or v=='nan'):\n",
    "            managers_rec.loc[i, 'МЕНЕДЖЕР'] = managers_rec.loc[i, 4]\n",
    "    managers_rec = managers_rec[[0,'МЕНЕДЖЕР']]\n",
    "    #managers_rec.set_index([0], drop=False, append=False, inplace=True)    \n",
    "    return managers_rec\n",
    "        \n",
    "class DealsSet():\n",
    "    def check(self, test_deal_id):\n",
    "        print('check({}) :'.format(test_deal_id))\n",
    "        df = self.deals_created\n",
    "        if len(df)==0:\n",
    "            print('df empty')\n",
    "            return\n",
    "        #pd.set_option('display.max_rows', 15)\n",
    "        #display(df)\n",
    "        df.head(5)\n",
    "        print('test_deal')\n",
    "        slice_ = df[df[field_deal_id]==test_deal_id] \n",
    "        display(slice_.T)\n",
    "    \n",
    "    def replace_source_name(x):\n",
    "        xlower = x.lower()\n",
    "        if (xlower==None): \n",
    "            return x\n",
    "        if ('e-' in xlower or 'elama' in xlower or 'яндекс.директ' in xlower or 'direct' in xlower):\n",
    "            return 'яндекс директ'\n",
    "        elif ('seo' in xlower):\n",
    "            return 'SEO'\n",
    "        elif ('oogle' in xlower):\n",
    "            return 'google ads'\n",
    "        if (xlower=='неизвестно' or xlower==''):\n",
    "            return 'неизвестно'\n",
    "        return x    \n",
    "        \n",
    "    def __init__(self, date1, date2, target_month):\n",
    "        Report.fail_statuses = fail_statuses_prokat + fail_statuses_event\n",
    "        self.date1 = date1#pd.to_datetime(date1)\n",
    "        self.date2 = max(date2, datetime.now())#pd.to_datetime(date2)\n",
    "        self.date2minus3m = date2 + relativedelta(months=-3)#pd.to_timedelta('3 month')\n",
    "        self.target_month = target_month\n",
    "        now_year = datetime.now().year\n",
    "        self.target_month_beg_date = datetime(now_year, target_month, 1)\n",
    "        self.target_month_end_date = datetime(now_year, target_month, calendar.monthrange(now_year, target_month)[1]) \n",
    "        \n",
    "        \n",
    "        period_str = 'период: {} - {}'.format(datetime.strftime(self.date1, \"%d.%m\"), datetime.strftime(self.date2, \"%d.%m\"))\n",
    "        \n",
    "        managers_rec = GetManagersIndex()\n",
    "        \n",
    "        \n",
    "        self.deals_created = nm.SelectDealsCreated(date1, date2, ignore_statuses)\n",
    "        self.deals_created_3month = nm.SelectDealsCreated(self.date2minus3m, date2, ignore_statuses)\n",
    "        if len(self.deals_created) > 0:\n",
    "            if len(self.deals_created) > 30 and len(self.deals_created[field_ignore_mgr_report_flag].value_counts()) < 2 :\n",
    "                print('ВНИМАНИЕ! возможно поле [не учитывать CV (field_ignore_mgr_report_flag)] съехало! попробуйте сдвинуть на 1 или сделать check()')\n",
    "                print('поле [игнорировать CV] idx = ', field_ignore_mgr_report_flag)\n",
    "                display(self.deals_created[field_ignore_mgr_report_flag].value_counts())\n",
    "                display(self.check(test_deal_id))\n",
    "            else:\n",
    "                print('флаг не учитывать CV отфильтровал {} сделлок'.format(self.deals_created[field_ignore_mgr_report_flag].value_counts()[1]))\n",
    "                #display(self.deals_created[field_ignore_mgr_report_flag].value_counts())\n",
    "        \n",
    "        \n",
    "        if len(self.deals_created)>0:\n",
    "            self.deals_created[field_date_start_rent] = self.deals_created[field_date_start_rent].apply(lambda x: pd.to_datetime(x))\n",
    "            self.deals_created[field_tovardir_idx] = self.deals_created[field_tovardir_idx].astype(str)\n",
    "            self.deals_created[field_source_idx] = self.deals_created[field_source_idx].astype(str)\n",
    "            self.deals_created[field_source_idx] = self.deals_created[field_source_idx].apply(lambda x: DealsSet.replace_source_name(x))\n",
    "            self.deals_created[field_lastsource_idx] = self.deals_created[field_lastsource_idx].astype(str)\n",
    "            self.deals_created[field_lastsource_idx] = self.deals_created[field_lastsource_idx].apply(lambda x: DealsSet.replace_source_name(x))\n",
    "            self.deals_created[field_envybox_idx] = self.deals_created[field_name_idx].str.lower().str.contains(\"envybox\").apply(lambda x: 'envybox' if x else 'прочие'); \n",
    "            self.deals_created[field_date_diff_rent] = (self.deals_created[field_date_end_rent].astype('datetime64[ns]')-self.deals_created[field_date_start_rent].astype('datetime64[ns]')).dt.days.astype(float)\n",
    "            self.deals_created = self.deals_created.merge(managers_rec, left_on=field_manager_idx, right_on=0, suffixes=(None, '_right'))\n",
    "        else:\n",
    "            print('нет созданных сделок за ',period_str)\n",
    "            #display(self.deals_created[self.deals_created[field_manager_idx]==96])\n",
    "        #self.check(test_deal_id)\n",
    "        \n",
    "        \n",
    "        self.deals_reached_bron = nm.SelectDealsReachedStatus(date1, date2, potential_success_statuses+success_statuses, ignore_statuses, None)\n",
    "        #print('достигли брони')\n",
    "        #display(self.deals_reached_bron)\n",
    "        if len(self.deals_reached_bron)>0:\n",
    "            self.deals_reached_bron[field_date_start_rent] = self.deals_reached_bron[field_date_start_rent].apply(lambda x: pd.to_datetime(x))\n",
    "            self.deals_reached_bron[field_date_end_rent] = self.deals_reached_bron[field_date_end_rent].apply(lambda x: pd.to_datetime(x))           \n",
    "            self.deals_reached_bron = self.deals_reached_bron[(date1<=self.deals_reached_bron[field_date_start_rent]) & (self.deals_reached_bron[field_date_end_rent]<=date2)]          \n",
    "            self.deals_reached_bron[field_tovardir_idx] = self.deals_reached_bron[field_tovardir_idx].astype(str)\n",
    "            self.deals_reached_bron[field_source_idx] = self.deals_reached_bron[field_source_idx].astype(str)\n",
    "            self.deals_reached_bron[field_source_idx] = self.deals_reached_bron[field_source_idx].apply(lambda x: DealsSet.replace_source_name(x))\n",
    "            self.deals_reached_bron[field_lastsource_idx] = self.deals_reached_bron[field_lastsource_idx].astype(str)\n",
    "            self.deals_reached_bron[field_lastsource_idx] = self.deals_reached_bron[field_lastsource_idx].apply(lambda x: DealsSet.replace_source_name(x))\n",
    "            self.deals_reached_bron[field_envybox_idx] = self.deals_reached_bron[field_name_idx].str.lower().str.contains(\"envybox\").apply(lambda x: 'envybox' if x else 'прочие'); \n",
    "            self.deals_reached_bron[field_date_diff_rent] = (self.deals_reached_bron[field_date_end_rent].astype('datetime64[ns]')-self.deals_reached_bron[field_date_start_rent].astype('datetime64[ns]')).dt.days.astype(float)\n",
    "            self.deals_reached_bron = self.deals_reached_bron.merge(managers_rec, left_on=field_manager_idx, right_on=0, suffixes=(None, '_right'))            \n",
    "            self.deals_rest_bron = self.deals_reached_bron[self.deals_reached_bron[field_stage_id_idx].isin(potential_success_statuses)]\n",
    "        else:    \n",
    "            print('нет начавшихся броней за ',period_str)\n",
    "        #print('************** field_date_start_rent = ',field_date_start_rent)\n",
    "        #display(self.deals_rest_bron)\n",
    "        #display(self.deals_rest_bron[field_date_start_rent])\n",
    "         \n",
    "\n",
    "        self.deals_rest_bron = nm.SelectStartArendaDealsBetween(date1, date2, potential_success_statuses, None)\n",
    "        if len(self.deals_rest_bron)>0:\n",
    "            self.deals_rest_bron[field_date_start_rent] = self.deals_rest_bron[field_date_start_rent].apply(lambda x: pd.to_datetime(x))\n",
    "            self.deals_rest_bron[field_date_end_rent] = self.deals_rest_bron[field_date_end_rent].apply(lambda x: pd.to_datetime(x))           \n",
    "            #self.deals_rest_bron = self.deals_rest_bron[(date1<=self.deals_rest_bron[field_date_start_rent]) & (self.deals_rest_bron[field_date_end_rent]<=date2)]          \n",
    "            self.deals_rest_bron[field_tovardir_idx] = self.deals_rest_bron[field_tovardir_idx].astype(str)\n",
    "            self.deals_rest_bron[field_source_idx] = self.deals_rest_bron[field_source_idx].astype(str)\n",
    "            self.deals_rest_bron[field_source_idx] = self.deals_rest_bron[field_source_idx].apply(lambda x: DealsSet.replace_source_name(x))\n",
    "            self.deals_rest_bron[field_lastsource_idx] = self.deals_rest_bron[field_lastsource_idx].astype(str)\n",
    "            self.deals_rest_bron[field_lastsource_idx] = self.deals_rest_bron[field_lastsource_idx].apply(lambda x: DealsSet.replace_source_name(x))\n",
    "            self.deals_rest_bron[field_envybox_idx] = self.deals_rest_bron[field_name_idx].str.lower().str.contains(\"envybox\").apply(lambda x: 'envybox' if x else 'прочие'); \n",
    "            self.deals_rest_bron[field_date_diff_rent] = (self.deals_rest_bron[field_date_end_rent].astype('datetime64[ns]')-self.deals_rest_bron[field_date_start_rent].astype('datetime64[ns]')).dt.days.astype(float)\n",
    "            self.deals_rest_bron = self.deals_rest_bron.merge(managers_rec, left_on=field_manager_idx, right_on=0, suffixes=(None, '_right'))            \n",
    "            self.deals_rest_bron = self.deals_rest_bron[self.deals_rest_bron[field_stage_id_idx].isin(potential_success_statuses)]\n",
    "        else:    \n",
    "            print('нет незакрытых броней за ',period_str)\n",
    "            \n",
    "            \n",
    "        self.deals_reached_bron_target_month = nm.SelectDealsReachedStatus(self.target_month_beg_date, self.target_month_end_date, potential_success_statuses+success_statuses, ignore_statuses, None)\n",
    "        if len(self.deals_reached_bron_target_month)>0:\n",
    "            self.deals_reached_bron_target_month.loc[:,field_date_start_rent] = self.deals_reached_bron_target_month[field_date_start_rent].apply(lambda x: pd.to_datetime(x))\n",
    "            self.deals_reached_bron_target_month[field_date_end_rent] = self.deals_reached_bron_target_month[field_date_end_rent].apply(lambda x: pd.to_datetime(x))\n",
    "            self.deals_reached_bron_target_month = self.deals_reached_bron_target_month[(date1<=self.deals_reached_bron_target_month[field_date_start_rent]) & (self.deals_reached_bron_target_month[field_date_end_rent]<=date2)]\n",
    "            self.deals_reached_bron_target_month.loc[:,field_tovardir_idx] = self.deals_reached_bron_target_month[field_tovardir_idx].astype(str)\n",
    "            self.deals_reached_bron_target_month.loc[:,field_source_idx] = self.deals_reached_bron_target_month[field_source_idx].astype(str)\n",
    "            self.deals_reached_bron_target_month.loc[:,field_source_idx] = self.deals_reached_bron_target_month[field_source_idx].apply(lambda x: DealsSet.replace_source_name(x))\n",
    "            self.deals_reached_bron_target_month[field_lastsource_idx] = self.deals_reached_bron_target_month[field_lastsource_idx].astype(str)\n",
    "            self.deals_reached_bron_target_month[field_lastsource_idx] = self.deals_reached_bron_target_month[field_lastsource_idx].apply(lambda x: DealsSet.replace_source_name(x))\n",
    "            self.deals_reached_bron_target_month.loc[:,field_envybox_idx] = self.deals_reached_bron_target_month[field_name_idx].str.lower().str.contains(\"envybox\").apply(lambda x: 'envybox' if x else 'прочие'); \n",
    "            self.deals_reached_bron_target_month.loc[:,field_date_diff_rent] = (self.deals_reached_bron_target_month[field_date_end_rent].astype('datetime64[ns]')-self.deals_reached_bron_target_month[field_date_start_rent].astype('datetime64[ns]')).dt.days.astype(float)\n",
    "            self.deals_reached_bron_target_month = self.deals_reached_bron_target_month.merge(managers_rec, left_on=field_manager_idx, right_on=0, suffixes=(None, '_right'))\n",
    "        else:\n",
    "             print('нет начавшихся броней за мес. ',mon_name(target_month))\n",
    "        \n",
    "        self.deals_rest_bron_target_month = nm.SelectStartArendaDealsBetween(self.target_month_beg_date, self.target_month_end_date, potential_success_statuses, None)\n",
    "        if len(self.deals_rest_bron_target_month)>0:\n",
    "            self.deals_rest_bron_target_month.loc[:,field_date_start_rent] = self.deals_rest_bron_target_month[field_date_start_rent].apply(lambda x: pd.to_datetime(x))\n",
    "            self.deals_rest_bron_target_month.loc[:,field_tovardir_idx] = self.deals_rest_bron_target_month[field_tovardir_idx].astype(str)\n",
    "            self.deals_rest_bron_target_month.loc[:,field_source_idx] = self.deals_rest_bron_target_month[field_source_idx].astype(str)\n",
    "            self.deals_rest_bron_target_month.loc[:,field_source_idx] = self.deals_rest_bron_target_month[field_source_idx].apply(lambda x: DealsSet.replace_source_name(x))\n",
    "            self.deals_rest_bron_target_month[field_lastsource_idx] = self.deals_rest_bron_target_month[field_lastsource_idx].astype(str)\n",
    "            self.deals_rest_bron_target_month[field_lastsource_idx] = self.deals_rest_bron_target_month[field_lastsource_idx].apply(lambda x: DealsSet.replace_source_name(x))\n",
    "            self.deals_rest_bron_target_month.loc[:,field_envybox_idx] = self.deals_rest_bron_target_month[field_name_idx].str.lower().str.contains(\"envybox\").apply(lambda x: 'envybox' if x else 'прочие'); \n",
    "            self.deals_rest_bron_target_month.loc[:,field_date_diff_rent] = (self.deals_rest_bron_target_month[field_date_end_rent].astype('datetime64[ns]')-self.deals_rest_bron_target_month[field_date_start_rent].astype('datetime64[ns]')).dt.days.astype(float)\n",
    "            self.deals_rest_bron_target_month = self.deals_rest_bron_target_month.merge(managers_rec, left_on=field_manager_idx, right_on=0, suffixes=(None, '_right'))\n",
    "        else:\n",
    "            print('нет незакрытых броней за мес. ',mon_name(target_month))\n",
    "        #print('осталось в брони')\n",
    "        #display(self.deals_rest_bron)\n",
    "        \n",
    "        self.deals_reached_success = nm.SelectStartArendaDealsBetween(date1, date2, success_statuses, None)\n",
    "        #print('достигли успеха')\n",
    "        #display(self.deals_reached_success)\n",
    "        \n",
    "        if len(self.deals_reached_success)>0:\n",
    "            self.deals_reached_success[field_date_start_rent] = self.deals_reached_success[field_date_start_rent].apply(lambda x: pd.to_datetime(x))\n",
    "            self.deals_reached_success[field_tovardir_idx] = self.deals_reached_success[field_tovardir_idx].astype(str)\n",
    "            self.deals_reached_success[field_source_idx] = self.deals_reached_success[field_source_idx].astype(str)\n",
    "            self.deals_reached_success[field_source_idx] = self.deals_reached_success[field_source_idx].apply(lambda x: DealsSet.replace_source_name(x))\n",
    "            self.deals_reached_success[field_lastsource_idx] = self.deals_reached_success[field_lastsource_idx].astype(str)\n",
    "            self.deals_reached_success[field_lastsource_idx] = self.deals_reached_success[field_lastsource_idx].apply(lambda x: DealsSet.replace_source_name(x))\n",
    "            self.deals_reached_success[field_envybox_idx] = self.deals_reached_success[field_name_idx].str.lower().str.contains(\"envybox\").apply(lambda x: 'envybox' if x else 'прочие'); \n",
    "            self.deals_reached_success[field_date_diff_rent] = (self.deals_reached_success[field_date_end_rent].astype('datetime64[ns]')-self.deals_reached_success[field_date_start_rent].astype('datetime64[ns]')).dt.days.astype(float)\n",
    "            self.deals_reached_success = self.deals_reached_success.merge(managers_rec, left_on=field_manager_idx, right_on=0, suffixes=(None, '_right'))\n",
    "        else:\n",
    "            print('нет выигранных сделок за ',period_str)\n",
    "\n",
    "            \n",
    "        self.deals_reached_success_3month = nm.SelectStartArendaDealsBetween(self.date2minus3m, date2, success_statuses, None)\n",
    "        if len(self.deals_reached_success_3month)>0:\n",
    "            self.deals_reached_success_3month[field_date_start_rent] = self.deals_reached_success_3month[field_date_start_rent].apply(lambda x: pd.to_datetime(x))\n",
    "            self.deals_reached_success_3month[field_tovardir_idx] = self.deals_reached_success_3month[field_tovardir_idx].astype(str)\n",
    "            self.deals_reached_success_3month[field_source_idx] = self.deals_reached_success_3month[field_source_idx].astype(str)\n",
    "            self.deals_reached_success_3month[field_source_idx] = self.deals_reached_success_3month[field_source_idx].apply(lambda x: DealsSet.replace_source_name(x))\n",
    "            self.deals_reached_success_3month[field_lastsource_idx] = self.deals_reached_success_3month[field_lastsource_idx].astype(str)\n",
    "            self.deals_reached_success_3month[field_lastsource_idx] = self.deals_reached_success_3month[field_lastsource_idx].apply(lambda x: DealsSet.replace_source_name(x))\n",
    "            self.deals_reached_success_3month[field_envybox_idx] = self.deals_reached_success_3month[field_name_idx].str.lower().str.contains(\"envybox\").apply(lambda x: 'envybox' if x else 'прочие'); \n",
    "            self.deals_reached_success_3month[field_date_diff_rent] = (self.deals_reached_success_3month[field_date_end_rent].astype('datetime64[ns]')-self.deals_reached_success_3month[field_date_start_rent].astype('datetime64[ns]')).dt.days.astype(float)\n",
    "            self.deals_reached_success_3month = self.deals_reached_success_3month.merge(managers_rec, left_on=field_manager_idx, right_on=0, suffixes=(None, '_right'))\n",
    "        else:\n",
    "            print('нет выигранных сделок за 3 мес')\n",
    "            \n",
    "            \n",
    "        self.alldeals = self.deals_created.append(self.deals_reached_bron, ignore_index=True)\n",
    "        self.alldeals = self.deals_created.append(self.deals_reached_success, ignore_index=True)\n",
    "        \n",
    "  \n",
    "\n",
    "        if len(self.alldeals)>0:\n",
    "            emptydf = self.alldeals.iloc[0:0]\n",
    "            emptydf.insert(2, field_povt_idx, [], True)\n",
    "            #display(emptydf)\n",
    "            prev_deals = nm.GetPrevDeals(self.alldeals[field_contact_id].value_counts().index.values, date1,  success_statuses)\n",
    "            if len(prev_deals)==0:\n",
    "                prev_deals = emptydf\n",
    "            prev_deals[field_povt_idx] = 'повторные'\n",
    "            #print('повторные')\n",
    "            #display(prev_deals)\n",
    "            prev_deals = prev_deals[[field_contact_id,field_povt_idx]]\n",
    "\n",
    "            self.alldeals = self.alldeals.merge(prev_deals, on=field_contact_id, how='left', suffixes=(None, '_right'))\n",
    "            self.alldeals[field_povt_idx].fillna('первичные', inplace=True)\n",
    "            \n",
    "            if len(self.deals_created)>0:\n",
    "                self.deals_created = self.deals_created.merge(prev_deals, on=field_contact_id, how='left', suffixes=(None, '_right'))\n",
    "                self.deals_created[field_povt_idx].fillna('первичные', inplace=True)\n",
    "            else:\n",
    "                self.deals_created = emptydf\n",
    "            \n",
    "                \n",
    "            if len(self.deals_reached_bron)>0:\n",
    "                self.deals_reached_bron = self.deals_reached_bron.merge(prev_deals, on=field_contact_id, how='left', suffixes=(None, '_right'))\n",
    "                self.deals_reached_bron[field_povt_idx].fillna('первичные', inplace=True)\n",
    "            else:\n",
    "                self.deals_reached_bron = emptydf\n",
    "                \n",
    "            if len(self.deals_rest_bron)>0:\n",
    "                self.deals_rest_bron = self.deals_rest_bron.merge(prev_deals, on=field_contact_id, how='left', suffixes=(None, '_right'))                        \n",
    "                self.deals_rest_bron[field_povt_idx].fillna('первичные', inplace=True)\n",
    "            else:\n",
    "                self.deals_rest_bron = emptydf\n",
    "                \n",
    "            if len(self.deals_rest_bron_target_month)>0:\n",
    "                self.deals_rest_bron_target_month = self.deals_rest_bron_target_month.merge(prev_deals, on=field_contact_id, how='left', suffixes=(None, '_right'))                        \n",
    "                self.deals_rest_bron_target_month[field_povt_idx].fillna('первичные', inplace=True)\n",
    "            else:\n",
    "                self.deals_rest_bron_target_month = emptydf\n",
    "                                \n",
    "            if len(self.deals_reached_success)>0:\n",
    "                self.deals_reached_success = self.deals_reached_success.merge(prev_deals, on=field_contact_id, how='left', suffixes=(None, '_right'))\n",
    "                self.deals_reached_success[field_povt_idx].fillna('первичные', inplace=True)\n",
    "            else:\n",
    "                self.deals_reached_success = emptydf\n",
    "       \n",
    "        self.deals_created = self.deals_created.drop_duplicates(subset=[field_deal_id])\n",
    "        self.deals_created_3month = self.deals_created_3month.drop_duplicates(subset=[field_deal_id])\n",
    "        self.deals_rest_bron = self.deals_rest_bron.drop_duplicates(subset=[field_deal_id])\n",
    "        self.deals_reached_success = self.deals_reached_success.drop_duplicates(subset=[field_deal_id])\n",
    "        self.deals_reached_success_3month = self.deals_reached_success_3month.drop_duplicates(subset=[field_deal_id])\n",
    "        self.deals_rest_bron_target_month = self.deals_rest_bron_target_month.drop_duplicates(subset=[field_deal_id])\n",
    "        self.deals_reached_bron = self.deals_reached_bron.drop_duplicates(subset=[field_deal_id])\n",
    "        self.deals_created_3month = self.deals_created_3month.drop_duplicates(subset=[field_deal_id])\n",
    "        self.alldeals = self.alldeals.drop_duplicates(subset=[field_deal_id])\n",
    "        \n",
    "        if DEBUG_DEAL_SHOW:\n",
    "            self.check(test_deal_id)\n",
    "        #display(self.deals_reached_bron[(self.deals_reached_bron[field_manager_idx]==58) & (self.deals_reached_bron[dir_idx]==DIR_EVENT)])\n",
    "        #display(self.deals_rest_bron[(self.deals_rest_bron[field_manager_idx]==58) & (self.deals_rest_bron[dir_idx]==DIR_EVENT)])\n",
    "        #display(self.deals_rest_bron_target_month[(self.deals_rest_bron_target_month[field_manager_idx]==58) & (self.deals_rest_bron_target_month[dir_idx]==DIR_EVENT)])\n",
    "\n",
    "    \n",
    "class Report():\n",
    "    header_names = { field_tovardir_idx:'ТОВАР', 'manager_name': 'МЕНЕДЖЕР', field_source_idx:'ИСТОЧНИК (первый визит)', field_lastsource_idx:'ИСТОЧНИК (последний визит)', field_povt_idx:'ЛОЯЛЬНОСТЬ'}\n",
    "    \n",
    "    def GetHeaderName(key):\n",
    "        try:\n",
    "            return Report.header_names[key]\n",
    "        except:\n",
    "            return key\n",
    "    \n",
    "    def __init__(self, deals_set, groupcol, direction=None):\n",
    "        self.report_name = Report.GetHeaderName(groupcol)\n",
    "        self.df = pd.DataFrame()\n",
    "        \n",
    "        if direction==DIR_PROKAT:\n",
    "            self.dir_title = '(прокат)'\n",
    "        elif direction==DIR_EVENT:\n",
    "            self.dir_title = '(event)'\n",
    "        else:\n",
    "            self.dir_title = '(прокат + event)'\n",
    "            \n",
    "        if len(deals_set.alldeals)==0:\n",
    "            self.bad = True\n",
    "            #print('{} ({}): невозможно сгруппировать отчет'.format(self.report_name, self.dir_title))\n",
    "            return\n",
    "        self.bad = False\n",
    "        \n",
    "        mon = mon_name(deals_set.target_month)\n",
    "        self.deals_set = deals_set\n",
    "\n",
    "        \n",
    "\n",
    "        \n",
    "        if direction != None:                \n",
    "            self.deals_created =  self.deals_set.deals_created[self.deals_set.deals_created[dir_idx]==direction]\n",
    "            self.deals_reached_bron = self.deals_set.deals_reached_bron[self.deals_set.deals_reached_bron[dir_idx]==direction]\n",
    "            self.deals_rest_bron = self.deals_set.deals_rest_bron[self.deals_set.deals_rest_bron[dir_idx]==direction]\n",
    "            self.deals_rest_bron_target_month = self.deals_set.deals_rest_bron_target_month[self.deals_set.deals_rest_bron_target_month[dir_idx]==direction]\n",
    "            self.deals_reached_success = self.deals_set.deals_reached_success[self.deals_set.deals_reached_success[dir_idx]==direction]\n",
    "        else:\n",
    "            self.deals_created =  self.deals_set.deals_created\n",
    "            self.deals_reached_bron = self.deals_set.deals_reached_bron\n",
    "            self.deals_rest_bron = self.deals_set.deals_rest_bron\n",
    "            self.deals_rest_bron_target_month = self.deals_set.deals_rest_bron_target_month\n",
    "            self.deals_reached_success = self.deals_set.deals_reached_success\n",
    "            \n",
    "            \n",
    "        #if (self.report_name == 'ИСТОЧНИК'):\n",
    "        #    display(self.deals_created.sort_values(by=[groupcol]))\n",
    "        \n",
    "\n",
    "        \n",
    "        group_created = self.deals_created.groupby(groupcol)\n",
    "        self.deals_created_num = pd.DataFrame(group_created[field_deal_id].nunique())             \n",
    "        self.deals_created_money = pd.DataFrame(group_created[field_opportunity_idx].sum())        \n",
    "        self.deals_created_num.columns = ['новых']\n",
    "        self.deals_created_money.columns = ['денег в новых']\n",
    "\n",
    "        group_reached_bron = self.deals_reached_bron.groupby(groupcol)        \n",
    "        self.deals_reached_bron_num = pd.DataFrame(group_reached_bron[field_deal_id].nunique())\n",
    "        self.deals_reached_bron_num.columns = ['броней']\n",
    "        \n",
    "        group_rest_in_bron = self.deals_rest_bron.groupby(groupcol)\n",
    "        self.deals_rest_bron_num = pd.DataFrame(group_rest_in_bron[field_deal_id].nunique())       \n",
    "        self.deals_rest_bron_num.columns=['потенц. сделок(откр.брони)']\n",
    "        self.deals_rest_bron_money = pd.DataFrame(group_rest_in_bron[field_opportunity_idx].sum())            \n",
    "        self.deals_rest_bron_money.columns = ['потенц. оборот(откр.брони)']\n",
    "        \n",
    "        group_rest_in_bron_target_month = self.deals_rest_bron_target_month.groupby(groupcol)\n",
    "        self.deals_rest_bron_money_target_month = pd.DataFrame(group_rest_in_bron_target_month[field_opportunity_idx].sum())            \n",
    "        self.deals_rest_bron_money_target_month.columns = ['потенц. оборот(откр.брони на {})'.format(mon)]\n",
    "        \n",
    "        group_reached_success = self.deals_reached_success.groupby(groupcol)\n",
    "        self.deals_reached_success_num = pd.DataFrame(group_reached_success[field_deal_id].nunique())    \n",
    "        self.deals_reached_success_num.columns = ['успешных']        \n",
    "        self.deals_reached_success_money = pd.DataFrame(group_reached_success[field_opportunity_idx].sum())\n",
    "        self.deals_reached_success_money.columns = ['фактич. оборот']\n",
    "        self.deals_reached_success_rent_days_median = pd.DataFrame(group_reached_success[field_date_diff_rent].median())\n",
    "        self.deals_reached_success_rent_days_median.columns = ['медиан. цикл аренды']\n",
    "        self.deals_reached_success_rent_days_mean = pd.DataFrame(group_reached_success[field_date_diff_rent].mean())\n",
    "        self.deals_reached_success_rent_days_mean.columns = ['средн. цикл аренды']\n",
    "        try:\n",
    "            perv = group_reached_success[field_povt_idx].agg(lambda x: (x == 'первичные').sum())\n",
    "            povt = group_reached_success[field_povt_idx].agg(lambda x: (x == 'повторные').sum())\n",
    "            k_povt = povt / (perv + povt)\n",
    "            k_povt_total = 100 * povt.sum() / (perv + povt).sum()\n",
    "            k_povt.fillna(0, inplace=True)\n",
    "            k_povt = k_povt * 100\n",
    "            df_k_povt = pd.DataFrame(data=k_povt.values, index = k_povt.index, columns=['K_повт'])\n",
    "        except:\n",
    "            perv = 0\n",
    "            povt = 0\n",
    "            k_povt = 0\n",
    "            k_povt_total = 0\n",
    "            df_k_povt = pd.DataFrame([], columns=['K_повт'])\n",
    "            \n",
    "        \n",
    "        \n",
    "        \n",
    "        \n",
    "        \n",
    "        self.df = self.deals_created_num.\\\n",
    "        join(self.deals_reached_bron_num, how='outer').\\\n",
    "        join(self.deals_reached_success_num, how='outer').\\\n",
    "        join(df_k_povt, how='outer').\\\n",
    "        join(self.deals_rest_bron_num, how='outer').\\\n",
    "        join(self.deals_rest_bron_money, how='outer').\\\n",
    "        join(self.deals_rest_bron_money_target_month, how='outer').\\\n",
    "        join(self.deals_reached_success_money, how='outer').\\\n",
    "        join(self.deals_reached_success_rent_days_mean, how='outer').\\\n",
    "        join(self.deals_reached_success_rent_days_median, how='outer')\n",
    "        \n",
    "            \n",
    "        \n",
    "        self.df.index.name = Report.GetHeaderName(groupcol)\n",
    "        \n",
    "        self.df.fillna(0, inplace=True)\n",
    "        self.df = self.df.astype(int)\n",
    "        self.df = self.df.append(pd.Series(self.df.sum(),name='ВСЕГО'))\n",
    "        self.df['прогн.оборот'] = round(self.df['фактич. оборот'] + self.df['потенц. оборот(откр.брони на {})'.format(mon)])\n",
    "        #self.df = self.df.astype(int)\n",
    "        \n",
    "        try:\n",
    "            self.df['CV_бронь'] = round(100* self.df['броней'] / self.df['новых'])\n",
    "        except:\n",
    "            self.df['CV_бронь'] = 0\n",
    "        \n",
    "        try:\n",
    "            self.df['Ср.чек'] = round(self.df['фактич. оборот'] / self.df['успешных'])\n",
    "        except:\n",
    "            self.df['Ср.чек'] = 0\n",
    "            \n",
    "        self.df.loc['ВСЕГО', 'K_повт'] = k_povt_total\n",
    "        self.df.loc['ВСЕГО', 'средн. цикл аренды'] = self.deals_reached_success[field_date_diff_rent].mean()\n",
    "        self.df.loc['ВСЕГО', 'медиан. цикл аренды'] = self.deals_reached_success[field_date_diff_rent].median()\n",
    "        sum_new = self.df.loc['ВСЕГО', 'новых']\n",
    "        \n",
    "        try:\n",
    "            self.df['новых (%)'] = 100.0*self.df['новых']/float(sum_new)\n",
    "        except:\n",
    "            self.df['новых (%)'] = 0\n",
    "            \n",
    "        self.df.fillna(0, inplace=True)\n",
    "        \n",
    "        \n",
    "        \n",
    "        new_cols = self.df.columns.to_list()\n",
    "        new_cols.insert(1,'новых (%)')\n",
    "        new_cols.insert(8,'Ср.чек')\n",
    "        new_cols.pop()\n",
    "        new_cols.pop()\n",
    "        self.df = self.df.reindex(columns=new_cols)\n",
    "        \n",
    "        if groupcol==field_tovardir_idx:\n",
    "            sns.boxplot( y=groupcol, x=field_date_diff_rent, data=self.deals_reached_success )\n",
    "            sns.stripplot(y=groupcol, x=field_date_diff_rent, data=self.deals_reached_success,\n",
    "              size=4, color=\".3\", linewidth=0)\n",
    "\n",
    "        \n",
    "    def Show(self):\n",
    "        #if customName == None:\n",
    "        print(\"\\n\\n\\n------------------ОТЧЕТ \\\"{} {}\\\"-----------------\".format(self.report_name, self.dir_title))\n",
    "        #else:\n",
    "            #print(customName)\n",
    "            \n",
    "        if len(self.df)==0 or self.bad:\n",
    "            print('сделок не загружено, отчет пуст')\n",
    "            return        \n",
    "        \n",
    "        if 'CV_бронь' in self.df.columns:\n",
    "            self.df['ord'] = self.df['CV_бронь']\n",
    "            if 'None' in self.df.index: \n",
    "                self.df.loc['None', 'ord'] = -1\n",
    "            if 'ВСЕГО' in self.df.index: \n",
    "                self.df.loc['ВСЕГО', 'ord'] = -2\n",
    "            self.df = self.df.sort_values(by=['ord'],  ascending=False)\n",
    "            self.df.drop(['ord'], axis=1, inplace=True)\n",
    "            \n",
    "        display(self.df)\n",
    "        print(\"\\n\\n\")\n",
    "        \n",
    "        \n",
    "class ReportTovar(Report):\n",
    "    def __init__(self, deals_set, direction=None):\n",
    "        super().__init__(deals_set, field_tovardir_idx, direction)\n",
    "        if len(deals_set.alldeals)==0:\n",
    "            return\n",
    "        \n",
    "        groupcol = field_tovardir_idx    \n",
    "        \n",
    "        \n",
    "        self.deals_created_3month =  self.deals_set.deals_created_3month\n",
    "        group_created_3month = self.deals_created_3month.groupby(groupcol)\n",
    "        self.deals_created_num_3month = pd.DataFrame(group_created_3month[field_deal_id].nunique())\n",
    "        self.deals_created_num_3month.columns = ['новых 3 мес']\n",
    "        \n",
    "        self.deals_reached_success_3month = self.deals_set.deals_reached_success_3month\n",
    "        group_reached_success_3month = self.deals_reached_success_3month.groupby(groupcol)\n",
    "        self.deals_reached_success_money_3month = pd.DataFrame(group_reached_success_3month[field_opportunity_idx].sum())\n",
    "        self.deals_reached_success_money_3month.columns = ['фактич. оборот 3 мес']\n",
    "\n",
    "        self.df = self.df.join(self.deals_created_num_3month, how='outer').\\\n",
    "        join(self.deals_reached_success_money_3month, how='outer')\n",
    "\n",
    "        if groupcol==field_tovardir_idx:\n",
    "            self.df_sales_plan = pd.DataFrame.from_dict(sales_plan_tovar, orient='index')\n",
    "                                \n",
    "        self.df_sales_plan.columns = ['план']\n",
    "        self.df_sales_plan.index.name = 'МЕНЕДЖЕР'\n",
    "        \n",
    "        self.df = self.df.join(self.df_sales_plan, how='outer')\n",
    "        self.df.fillna(0, inplace=True)\n",
    "        self.df.loc['ВСЕГО','план'] = self.df['план'].sum()\n",
    "        \n",
    "        \n",
    "        self.df['план по лидам'] = round(self.df['план'] * self.df['новых 3 мес'] / self.df['фактич. оборот 3 мес'])\n",
    "\n",
    "            \n",
    "        self.df.loc['ВСЕГО','фактич. оборот 3 мес'] = self.df['фактич. оборот 3 мес'].sum()\n",
    "        self.df.loc['ВСЕГО','новых 3 мес'] = self.df['новых 3 мес'].sum()            \n",
    "        self.df.loc['ВСЕГО','план по лидам'] = self.df['план по лидам'].sum()\n",
    "        \n",
    "        self.df.fillna(0, inplace=True)\n",
    "        try:\n",
    "            self.df['% выполн. плана по лидам'] = 100* self.df['новых'] / self.df['план по лидам'] \n",
    "        except:\n",
    "            self.df['% выполн. плана по лидам'] = 0\n",
    "        self.df.fillna(0, inplace=True)\n",
    "        self.df['план по лидам']  = self.df['план по лидам'].astype(int)\n",
    "        \n",
    "class ReportManager(Report):\n",
    "    def __init__(self, deals_set, direction=None):\n",
    "        super().__init__(deals_set, 'МЕНЕДЖЕР', direction)\n",
    "        if len(deals_set.alldeals)==0:\n",
    "            return\n",
    "        \n",
    "        if direction == DIR_PROKAT:\n",
    "            self.df_sales_plan = pd.DataFrame.from_dict(sales_plan_mgr_prokat, orient='index')\n",
    "        elif direction == DIR_EVENT:\n",
    "            self.df_sales_plan = pd.DataFrame.from_dict(sales_plan_mgr_event, orient='index')\n",
    "        else:\n",
    "            df1 = pd.DataFrame.from_dict(sales_plan_mgr_prokat, orient='index')\n",
    "            df2 = pd.DataFrame.from_dict(sales_plan_mgr_event, orient='index')\n",
    "            self.df_sales_plan = df1+df2 \n",
    "        \n",
    "        self.df_sales_plan.columns = ['план']\n",
    "        self.df_sales_plan.index.name = 'МЕНЕДЖЕР'\n",
    "        \n",
    "        self.df = self.df.join(self.df_sales_plan, how='outer')\n",
    "        self.df.fillna(0, inplace=True)\n",
    "        self.df.loc['ВСЕГО','план'] = self.df['план'].sum()\n",
    "        \n",
    "        try:\n",
    "            self.df['% выполненного плана'] = 100* self.df['фактич. оборот'] / self.df['план'] \n",
    "        except:\n",
    "            self.df['% выполненного плана'] = 0\n",
    "            \n",
    "        try:\n",
    "            self.df['прогноз выполнения плана %'] = 100* self.df['прогн.оборот'] / self.df['план'] \n",
    "        except:\n",
    "            self.df['прогноз выполнения плана %'] = 0\n",
    "            \n",
    "        self.df.fillna(0, inplace=True)\n",
    "        self.df['план']  = self.df['план'].astype(int)\n",
    "        \n",
    "\n",
    "#field_ignore_mgr_report_flag\n",
    "class ReportManagerFiltered(ReportManager):\n",
    "    def Filter(self, deals_set):     \n",
    "        if len(deals_set.alldeals) > 0:\n",
    "            deals_set_copy = copy.deepcopy(deals_set)\n",
    "            deals_set_copy.deals_created = deals_set.deals_created[deals_set.deals_created[field_ignore_mgr_report_flag]!=1]\n",
    "            deals_set_copy.deals_created_3month = deals_set.deals_created_3month[deals_set.deals_created_3month[field_ignore_mgr_report_flag]!=1]\n",
    "            deals_set_copy.deals_reached_bron = deals_set.deals_reached_bron[deals_set.deals_reached_bron[field_ignore_mgr_report_flag]!=1]\n",
    "            deals_set_copy.deals_rest_bron = deals_set.deals_rest_bron[deals_set.deals_rest_bron[field_ignore_mgr_report_flag]!=1]\n",
    "            deals_set_copy.deals_rest_bron_target_month = deals_set.deals_rest_bron_target_month[deals_set.deals_rest_bron_target_month[field_ignore_mgr_report_flag]!=1]\n",
    "            deals_set_copy.deals_reached_success = deals_set.deals_reached_success[deals_set.deals_reached_success[field_ignore_mgr_report_flag]!=1]\n",
    "            deals_set_copy.deals_reached_success_3month = deals_set.deals_reached_success_3month[deals_set.deals_reached_success_3month[field_ignore_mgr_report_flag]!=1]\n",
    "            deals_set_copy.alldeals = deals_set.alldeals[deals_set.alldeals[field_ignore_mgr_report_flag]!=1]\n",
    "\n",
    "        return deals_set_copy\n",
    "    \n",
    "    def __init__(self, deals_set, direction=None):\n",
    "        super().__init__(self.Filter(deals_set), direction)\n",
    "        \n",
    "    def Show(self):\n",
    "        print(\"\\n\\n\\n------------------ОТЧЕТ отфильтрованный флагом не учитывать в расчете CV \\\"{} {}\\\"-----------------\".format(self.report_name, self.dir_title))\n",
    "        if len(self.df)==0 or self.bad:\n",
    "            print('сделок не загружено, отчет пуст')\n",
    "            return        \n",
    "        \n",
    "        if 'CV_бронь' in self.df.columns:\n",
    "            self.df['ord'] = self.df['CV_бронь']\n",
    "            if 'None' in self.df.index: \n",
    "                self.df.loc['None', 'ord'] = -1\n",
    "            if 'ВСЕГО' in self.df.index: \n",
    "                self.df.loc['ВСЕГО', 'ord'] = -2\n",
    "            self.df = self.df.sort_values(by=['ord'],  ascending=False)\n",
    "            self.df.drop(['ord'], axis=1, inplace=True)\n",
    "            \n",
    "        display(self.df)\n",
    "        print(\"\\n\\n\")\n",
    "\n",
    "        \n",
    "class ReportPivotManagerTovar:\n",
    "    def __init__(self, deals_set, direction=None):\n",
    "        self.df_pivot = pd.DataFrame()\n",
    "        \n",
    "        \n",
    "        if direction == None:\n",
    "            self.dir_title = 'прокат+event'\n",
    "        else:\n",
    "            if direction == DIR_PROKAT:\n",
    "                self.dir_title = 'прокат'\n",
    "            elif direction == DIR_EVENT:\n",
    "                self.dir_title = 'event'\n",
    "            \n",
    "            \n",
    "        if len(deals_set.alldeals)==0:\n",
    "            return\n",
    "        \n",
    "        if direction == None:\n",
    "            self.sample = deals_set.alldeals\n",
    "            self.sample_bron = deals_set.deals_reached_bron\n",
    "        else:\n",
    "            self.sample = deals_set.alldeals[deals_set.alldeals[dir_idx]==direction]\n",
    "            self.sample_bron = deals_set.deals_reached_bron[deals_set.deals_reached_bron[dir_idx]==direction]\n",
    "\n",
    "            \n",
    "        if len(self.sample)==0:\n",
    "            return\n",
    "        #------------------\n",
    "        pivot_created = self.sample.pivot_table(values=[field_deal_id], \n",
    "                                                index=['МЕНЕДЖЕР'], \n",
    "                                                columns=[field_tovardir_idx], \n",
    "                                                aggfunc=[len],\n",
    "                                                margins=True,\n",
    "                                                margins_name='ВСЕГО',\n",
    "                                                fill_value=0)\n",
    "        d = {}\n",
    "        for man in pivot_created.index:\n",
    "            d[man] = pivot_created.loc[man, 'len'].loc[0]\n",
    "        self.df_pivot_created = pd.DataFrame(data=d).T\n",
    "        self.df_pivot_created['менеджер>'] = self.df_pivot_created.index\n",
    "        self.df_pivot_created['f>'] = 'количество'\n",
    "        self.df_pivot_created = self.df_pivot_created.set_index(['менеджер>', 'f>'])\n",
    "        #display(self.df_pivot_created)\n",
    "\n",
    "\n",
    "\n",
    "        #---------------\n",
    "        if len(self.sample_bron)>0:\n",
    "            pivot_bron = self.sample_bron.pivot_table(values=[field_deal_id], \n",
    "                                                 index=['МЕНЕДЖЕР'], \n",
    "                                                 columns=[field_tovardir_idx], \n",
    "                                                 aggfunc=[len],\n",
    "                                                 margins=True,\n",
    "                                                 margins_name='ВСЕГО',\n",
    "                                                 fill_value=0)\n",
    "\n",
    "            d = {}\n",
    "            for man in pivot_bron.index:\n",
    "                d[man] = pivot_bron.loc[man, 'len'].loc[0]\n",
    "            self.df_pivot_bron = pd.DataFrame(data=d).T    \n",
    "            self.df_pivot_bron['менеджер>'] = self.df_pivot_bron.index\n",
    "            self.df_pivot_bron['f>'] = 'количество'\n",
    "            self.df_pivot_bron = self.df_pivot_bron.set_index(['менеджер>', 'f>'])            \n",
    "            #display(self.df_pivot_bron)\n",
    "\n",
    "\n",
    "            #---------------\n",
    "            self.df_pivot_cv = round(100*self.df_pivot_bron/self.df_pivot_created)\n",
    "            self.df_pivot_cv = self.df_pivot_cv.astype('str').applymap(lambda x: x.replace('.0','').replace('nan','-')+'%' if x !='nan' else x.replace('.0','').replace('nan','-'))\n",
    "            self.df_pivot_cv['менеджер>'] = self.df_pivot_cv.index.droplevel('f>')\n",
    "            self.df_pivot_cv['f>'] = 'конв.бронь'\n",
    "            self.df_pivot_cv = self.df_pivot_cv.set_index(['менеджер>', 'f>'])\n",
    "            #display(self.df_pivot_cv)\n",
    "            self.df_pivot = self.df_pivot_created.append(self.df_pivot_cv).sort_index().astype('str')\n",
    "        else:\n",
    "            print(self.dir_title, ': броней на заданный интервал пока нет!')\n",
    "        \n",
    "        \n",
    "        self.df_pivot = self.df_pivot.applymap(lambda x: x.replace('.0','').replace('nan','-'))\n",
    "        self.df_pivot.columns.names = ['Направление']\n",
    "        self.df_pivot = self.df_pivot.T\n",
    "\n",
    "        new_cols = []\n",
    "        last1 = None\n",
    "        last2 = None\n",
    "        for x in self.df_pivot.columns.to_list():\n",
    "            if x[0]=='ВСЕГО':\n",
    "                if (x[1]=='количество'):\n",
    "                    last1 = x\n",
    "                else:\n",
    "                    last2 = x\n",
    "                continue\n",
    "            new_cols.append(x) \n",
    "        new_cols.append(last1) \n",
    "        new_cols.append(last2) \n",
    "        self.df_pivot = self.df_pivot.reindex(columns=new_cols)            \n",
    "            \n",
    "    def Show(self):\n",
    "        print(\"\\n\\n\\n------------------СВОДНЫЙ ОТЧЕТ по конверсии в бронь({})-----------------\".format(self.dir_title))\n",
    "        if  (len(self.df_pivot)==0):\n",
    "            print('отчет пуст')\n",
    "            return   \n",
    "        display(self.df_pivot)\n",
    "        print(\"\\n\\n\")\n",
    "\n",
    "\n",
    "\n",
    "class ReportFinance():    \n",
    "    def check(df):\n",
    "        res = df.loc['всего расходы по сделкам'] == df.loc['сумма ольги']+df.loc['сумма кирилла']+df.loc['сумма иное']+df.loc['сумма дарьи']+df.loc['сумма женя']+df.loc['расход менеджеры']+df.loc['расход офис']+df.loc['привлечение клиентов']+df.loc['сумма натальи']+df.loc['инвестор баха']+df.loc['шамиль']+df.loc['сумма лена']+df.loc['сумма доставки']+df.loc['сумма субаренда']+df.loc['сопровождение']+df.loc['сумма виктория']\n",
    "        print('ReportFinance.check() result', res)\n",
    "        \n",
    "    def Cut(df):\n",
    "        res = df\n",
    "        res['СТАТЬЯ Д/Р'] = ''\n",
    "        res.loc[field_opportunity_idx,'СТАТЬЯ Д/Р'] = 'фактич. оборот'\n",
    "        res.loc[field_prybyl,'СТАТЬЯ Д/Р'] = 'прибыль'\n",
    "        res.loc[field_summ_olga,'СТАТЬЯ Д/Р'] = 'сумма ольги'\n",
    "        res.loc[field_summ_kir,'СТАТЬЯ Д/Р'] = 'сумма кирилла'\n",
    "        res.loc[field_summ_inoe,'СТАТЬЯ Д/Р'] = 'сумма иное'\n",
    "        res.loc[field_summ_darya,'СТАТЬЯ Д/Р'] = 'сумма дарьи'\n",
    "        res.loc[field_summ_evgeniy,'СТАТЬЯ Д/Р'] = 'сумма женя'\n",
    "        res.loc[field_exp_menegery,'СТАТЬЯ Д/Р'] = 'расход менеджеры'\n",
    "        res.loc[field_exp_office,'СТАТЬЯ Д/Р'] = 'расход офис'\n",
    "        res.loc[field_cac,'СТАТЬЯ Д/Р'] = 'привлечение клиентов'\n",
    "        res.loc[field_summ_nataly,'СТАТЬЯ Д/Р'] = 'сумма натальи'\n",
    "        res.loc[field_investor,'СТАТЬЯ Д/Р'] = 'инвестор баха'\n",
    "        res.loc[field_shamyl,'СТАТЬЯ Д/Р'] = 'шамиль'\n",
    "        res.loc[field_summ_lena,'СТАТЬЯ Д/Р'] = 'сумма лена'\n",
    "        res.loc[field_summ_exp,'СТАТЬЯ Д/Р'] = 'всего расходы по сделкам'\n",
    "        res.loc[field_summ_dost,'СТАТЬЯ Д/Р'] = 'сумма доставки'\n",
    "        res.loc[field_summ_subarenda,'СТАТЬЯ Д/Р'] = 'сумма субаренда'\n",
    "        res.loc[field_summ_sopr,'СТАТЬЯ Д/Р'] = 'сопровождение'\n",
    "        res.loc[field_summ_viktoria,'СТАТЬЯ Д/Р'] = 'сумма виктория'\n",
    "        res.loc[field_summ_alina,'СТАТЬЯ Д/Р'] = 'сумма алина'\n",
    "        res = res[res['СТАТЬЯ Д/Р']!='']\n",
    "        res = res.set_index('СТАТЬЯ Д/Р')\n",
    "        return res\n",
    "        \n",
    "    def Sort(df):\n",
    "        res = df\n",
    "        res['sort'] = 0\n",
    "        res.loc['фактич. оборот','sort'] = 20-1\n",
    "        res.loc['прибыль','sort'] = 20-19\n",
    "        res.loc['сумма ольги','sort'] = 20-3\n",
    "        res.loc['сумма кирилла','sort'] = 20-3\n",
    "        res.loc['сумма иное','sort'] = 20-3\n",
    "        res.loc['сумма дарьи','sort'] = 20-3\n",
    "        res.loc['сумма женя','sort'] = 20-3\n",
    "        res.loc['расход менеджеры','sort'] = 20-4\n",
    "        res.loc['расход офис','sort'] = 20-5\n",
    "        res.loc['привлечение клиентов','sort'] = 20-2\n",
    "        res.loc['сумма натальи','sort'] = 20-3\n",
    "        res.loc['инвестор баха','sort'] = 20-16\n",
    "        res.loc['шамиль','sort'] = 20-14\n",
    "        res.loc['сумма лена','sort'] = 20-3\n",
    "        res.loc['всего расходы по сделкам','sort'] = 20-18\n",
    "        res.loc['сумма доставки','sort'] = 20-16\n",
    "        res.loc['сумма субаренда','sort'] = 20-15\n",
    "        res.loc['сопровождение','sort'] = 20-17\n",
    "        res.loc['сумма виктория','sort'] = 20-3    \n",
    "        res.loc['сумма алина','sort'] = 20-6    \n",
    "        \n",
    "        res = res.sort_values(by=['sort','руб_прокат'], ascending=False)  \n",
    "        res.drop(['sort'], axis='columns', inplace=True)\n",
    "                \n",
    "        return res\n",
    "    \n",
    "    def __init__(self, deals_set):\n",
    "        self.report_name = \"ФИНАНСЫ\"\n",
    "        self.df_money = pd.DataFrame()\n",
    "        if len(deals_set.deals_reached_success)==0:\n",
    "            return\n",
    "        \n",
    "        print('выиграно {} сделок'.format(len(deals_set.deals_reached_success)))\n",
    "        self.df_money_prokat = ReportFinance.Cut(pd.DataFrame(deals_set.deals_reached_success[deals_set.deals_reached_success[dir_idx]!=DIR_EVENT].sum(), columns = ['руб']))\n",
    "        #ReportFinance.check(self.df_money_prokat)\n",
    "        self.df_money_event = ReportFinance.Cut(pd.DataFrame(deals_set.deals_reached_success[deals_set.deals_reached_success[dir_idx]==DIR_EVENT].sum(), columns = ['руб']))\n",
    "        self.df_money = self.df_money_prokat\n",
    "        self.df_money = self.df_money.join(self.df_money_event, how='outer', lsuffix='_прокат', rsuffix='_эвент')\n",
    "        self.df_money['руб_всего'] = self.df_money['руб_прокат'] + self.df_money['руб_эвент'] \n",
    "\n",
    "        \n",
    "    def Show(self):\n",
    "        print(\"\\n\\n\\n------------------ОТЧЕТ \\\"{}\\\"-----------------\".format(self.report_name))\n",
    "        if len(self.df_money)==0:\n",
    "            print('успешных сделок не найдено, отчет по финансам пуст')\n",
    "            return   \n",
    "        display(ReportFinance.Sort(self.df_money))\n",
    "        #print('рентабельность: {:.0%}'.format( self.df_money.loc['прибыль','руб'] / self.df_money.loc['фактич. оборот','руб']))\n",
    "        print(\"\\n\\n\")\n",
    "        \n",
    "def on_button_clicked(b): # Описываем обработчик события\n",
    "    global report_dir\n",
    "\n",
    "    d1_str = datetime.strftime(dPicker1.value, \"%Y-%m-%d\")\n",
    "    d2_str = datetime.strftime(dPicker2.value, \"%Y-%m-%d\")\n",
    "    d1 = datetime.strptime(d1_str, \"%Y-%m-%d\")\n",
    "    d2 = datetime.strptime(d2_str, \"%Y-%m-%d\")\n",
    "    if d1 > d2:\n",
    "        print('дата 2 не может быть раньше даты 1')\n",
    "        return\n",
    "    print('\\nотчет за {} - {} (оценка эффективности менеджеров по мес.{})\\n\\n\\n'.format(d1_str, d2_str, month_selector.value))\n",
    "    set_ = DealsSet(d1, d2, month_selector.value)\n",
    "    \n",
    "\n",
    "    #print(\"\\n\\n\\n------------------ОТЧЕТ \\\"{}\\\"-----------------\".format('Успешные сделки'))\n",
    "    #display(set_.deals_reached_success[field_deal_id].apply(lambda x: 'https://way-prokat.bitrix24.ru/crm/deal/details/' + str(x) + '/'))\n",
    "\n",
    "    \n",
    "    report_dir = ReportTovar(set_)\n",
    "    report_dir.Show()\n",
    "    \n",
    "    \n",
    "    ReportManager(set_, DIR_PROKAT).Show()\n",
    "    ReportManager(set_, DIR_EVENT).Show()\n",
    "    ReportManager(set_).Show()\n",
    "    \n",
    "    ReportManagerFiltered(set_, DIR_PROKAT).Show()\n",
    "    ReportManagerFiltered(set_, DIR_EVENT).Show()\n",
    "    ReportManagerFiltered(set_).Show()\n",
    "    \n",
    "    \n",
    "    ReportPivotManagerTovar(set_, DIR_PROKAT).Show()\n",
    "    ReportPivotManagerTovar(set_, DIR_EVENT).Show()\n",
    "    ReportPivotManagerTovar(set_).Show()\n",
    "    \n",
    "    Report(set_, field_source_idx).Show()\n",
    "    Report(set_, field_lastsource_idx).Show()\n",
    "    Report(set_, field_envybox_idx).Show()\n",
    "    Report(set_, field_povt_idx).Show()\n",
    "    ReportFinance(set_).Show()\n",
    "    \n",
    "    \n",
    "    \n",
    "    print(\"\\n\\n\\n------------------ОТЧЕТ \\\"{}\\\"-----------------\".format('Сделки без направления'))\n",
    "    #display(set_.deals_created[field_tovardir_idx]=='None')\n",
    "    #display(set_.deals_created[set_.deals_created[field_tovardir_idx].isna()])\n",
    "    \n",
    "    if len(set_.deals_created)>0:\n",
    "        display(set_.deals_created[(set_.deals_created[field_tovardir_idx]=='nan') | (set_.deals_created[field_tovardir_idx]=='None')][field_deal_id].apply(lambda x: 'https://way-prokat.bitrix24.ru/crm/deal/details/' + str(x) + '/'))\n",
    "    else:\n",
    "        print('отчет пуст')\n",
    "    #display(set_.deals_created[field_deal_id])\n",
    "    \n",
    "        \n",
    "def on_dtpicker1_clicked(b):\n",
    "    init_month_selector()\n",
    "    \n",
    "def on_dtpicker2_clicked(b):\n",
    "    init_month_selector()\n",
    "\n",
    "def on_value_change(b):\n",
    "    value = b['new']\n",
    "    key = b['owner'].description.split('(')[0]\n",
    "    if 'прокат' in b['owner'].description:        \n",
    "        sales_plan_mgr_prokat[key] = value\n",
    "        sales_mgr_plans[key]['prokat'] = value\n",
    "    elif 'эвент' in b['owner'].description:        \n",
    "        sales_plan_mgr_event[key] = value\n",
    "        sales_mgr_plans[key]['event'] = value\n",
    "    \n",
    "def on_month_selector_clicked(b):\n",
    "    global month_selector\n",
    "    LoadMgrPlan(month_selector.value)\n",
    "\n",
    "\n",
    "\n",
    "\n",
    "def init_month_selector():\n",
    "    global month_selector\n",
    "    global dt1\n",
    "    global dt2\n",
    "    \n",
    "    d1_str = datetime.strftime(dPicker1.value, \"%Y-%m-%d\")\n",
    "    d2_str = datetime.strftime(dPicker2.value, \"%Y-%m-%d\")\n",
    "    dt1 = datetime.strptime(d1_str, \"%Y-%m-%d\")\n",
    "    dt2 = datetime.strptime(d2_str, \"%Y-%m-%d\")    \n",
    "\n",
    "    month_list = []\n",
    "    \n",
    "    for i in range(dt1.month, dt2.month+1):\n",
    "        month_list += [(mon_name(i), i)]\n",
    "        \n",
    "     \n",
    "    val = dt1.month\n",
    "    if month_selector==None:\n",
    "        month_selector = Dropdown(options = month_list, value=val, description='План на:')\n",
    "        month_selector.observe(on_month_selector_clicked, names='value')\n",
    "        display(month_selector)\n",
    "    else:\n",
    "        month_selector.options = month_list\n",
    "        month_selector.value = val\n",
    "\n",
    "    \n",
    "    \n",
    "print('___________________________________________________________________________')\n",
    "\n",
    "print('диапазон дат')    \n",
    "dPicker1 = DatePicker(description='Дата1:', value=dt1)\n",
    "dPicker1.observe(on_dtpicker1_clicked, names='value')\n",
    "display(dPicker1)\n",
    "\n",
    "dPicker2 = DatePicker(description='Дата2:', value=dt2)\n",
    "dPicker2.observe(on_dtpicker2_clicked, names='value')\n",
    "display(dPicker2)\n",
    "print('___________________________________________________________________________')\n",
    "\n",
    "print('планы менеджеров')\n",
    "month_selector = None\n",
    "init_month_selector()\n",
    " \n",
    "button1 = Button(description=\"Загрузить\", button_style='success') # 'success', 'info', 'warning', 'danger', '')\n",
    "button1.on_click(on_button_clicked)  \n",
    "\n",
    "for manager,entry in sales_mgr_plans.items():\n",
    "    try:\n",
    "        prokat_val = int(entry['prokat'])\n",
    "    except:\n",
    "        prokat_val = 1\n",
    "        \n",
    "    sliders_sales_plan_mgr_prokat[manager] = BoundedIntText(\n",
    "        description=manager+'(прокат)',\n",
    "        value=prokat_val,\n",
    "        min=0,\n",
    "        max=1200000,\n",
    "        step=10000,\n",
    "        disabled=False,\n",
    "        continuous_update=False,\n",
    "        readout=True,\n",
    "        readout_format='',\n",
    "    )\n",
    "    sliders_sales_plan_mgr_prokat[manager].observe(on_value_change, names='value')\n",
    "    display(sliders_sales_plan_mgr_prokat[manager])\n",
    "    \n",
    "    try:\n",
    "        ev_val = int(entry['event'])\n",
    "    except:\n",
    "        ev_val = 1\n",
    "    sliders_sales_plan_mgr_ev[manager] = BoundedIntText(\n",
    "        description=manager+'(эвент)',\n",
    "        value=ev_val,\n",
    "        min=0,\n",
    "        max=1200000,\n",
    "        step=10000,\n",
    "        disabled=False,\n",
    "        continuous_update=False,\n",
    "        readout=True,\n",
    "        readout_format='',\n",
    "    )\n",
    "    sliders_sales_plan_mgr_ev[manager].observe(on_value_change, names='value')\n",
    "    display(sliders_sales_plan_mgr_ev[manager])\n",
    "    \n",
    "display(button1) \n",
    "\n",
    "\n",
    "\n",
    "\n"
   ]
  },
  {
   "cell_type": "code",
   "execution_count": 2,
   "metadata": {
    "code_folding": [
     3,
     21,
     25,
     31
    ],
    "run_control": {
     "marked": true
    },
    "scrolled": false
   },
   "outputs": [
    {
     "name": "stdout",
     "output_type": "stream",
     "text": [
      "загрузите предыдущие отчеты, чтобы пользоваться этим. Для запуска поместите курсор в ячейку и нажмите Shift+Enter\n"
     ]
    }
   ],
   "source": [
    "sel_dir = None\n",
    "sel_type = None\n",
    "\n",
    "def on_button_clicked(b): # Описываем обработчик события\n",
    "    global sel_dir\n",
    "    global sel_type\n",
    "    print(str(sel_type)+' сделки направления: '+str(sel_dir))\n",
    "    \n",
    "    if sel_type=='новые':\n",
    "        sample = data_set.deals_created \n",
    "    elif sel_type=='успешные':\n",
    "        sample = data_set.deals_reached_success\n",
    "    elif sel_type=='брони':\n",
    "        sample = data_set.deals_reached_bron \n",
    "    \n",
    "    if sel_dir==None:\n",
    "        display(sample[(sample[field_tovardir_idx]=='nan') | (sample[field_tovardir_idx]=='None')][field_deal_id].apply(lambda x: 'https://way-prokat.bitrix24.ru/crm/deal/details/' + str(x) + '/'))\n",
    "    else:\n",
    "        display(sample[(sample[field_tovardir_idx]==sel_dir)][field_deal_id].apply(lambda x: 'https://way-prokat.bitrix24.ru/crm/deal/details/' + str(x) + '/'))\n",
    "    print('--------------------------------------------------------------')\n",
    "\n",
    "def on_dir_selector_clicked(b):\n",
    "    global sel_dir\n",
    "    sel_dir = b['new']\n",
    "\n",
    "def on_type_selector_clicked(b):\n",
    "    global sel_type\n",
    "    sel_type = b['new']\n",
    "\n",
    "if report_dir == None:\n",
    "    print('загрузите предыдущие отчеты, чтобы пользоваться этим. Для запуска поместите курсор в ячейку и нажмите Shift+Enter')\n",
    "else:\n",
    "    dir_vals = np.sort(report_dir.df.index.values)\n",
    "    dir_vals = dir_vals[dir_vals!='ВСЕГО']\n",
    "    sel_dir = dir_vals[0]\n",
    "    dir_selector = Dropdown(options = dir_vals, value=dir_vals[0], description='Направление:')\n",
    "    dir_selector.observe(on_dir_selector_clicked, names='value')\n",
    "    display(dir_selector)\n",
    "\n",
    "    sel_type = 'новые'\n",
    "    type_selector = Dropdown(options = ['новые', 'брони', 'успешные'], value='новые', description='статус:')\n",
    "    type_selector.observe(on_type_selector_clicked, names='value')\n",
    "    display(type_selector)\n",
    "\n",
    "    button1 = Button(description=\"Показать сделки\", button_style='success') # 'success', 'info', 'warning', 'danger', '')\n",
    "    button1.on_click(on_button_clicked)  \n",
    "    display(button1) \n"
   ]
  },
  {
   "cell_type": "code",
   "execution_count": 3,
   "metadata": {
    "code_folding": [
     32,
     35,
     37,
     44,
     48,
     49,
     57,
     63,
     76,
     78,
     81,
     83,
     88,
     89,
     96,
     97,
     105,
     123,
     124,
     181
    ],
    "run_control": {
     "marked": false
    },
    "scrolled": false
   },
   "outputs": [
    {
     "data": {
      "application/vnd.jupyter.widget-view+json": {
       "model_id": "8da6108eaad149be95acc7f144b68b71",
       "version_major": 2,
       "version_minor": 0
      },
      "text/plain": [
       "Button(button_style='success', description='Показать воронки', style=ButtonStyle())"
      ]
     },
     "metadata": {},
     "output_type": "display_data"
    }
   ],
   "source": [
    "import nemindlib as nm\n",
    "#date1 = '2021-04-01' #'2021-04-25'\n",
    "#date2 = '2021-05-01'\n",
    "#dt1 = datetime.strptime(date1, \"%Y-%m-%d\")\n",
    "#dt2 = datetime.strptime(date2, \"%Y-%m-%d\")\n",
    "\n",
    "statuses = nm.SelectStatuses()\n",
    "statuses.columns = ['name', 'init_name', 'code', 'sort', 'group', 'dir']\n",
    "statuses['group'] = statuses.apply(lambda row: 'Spam' if row['code'] in ignore_statuses else row['group'], axis=1)\n",
    "statuses.set_index(['code'], drop=False, append=False, inplace=True)\n",
    "#statuses['code'] = statuses.index.values\n",
    "statuses_spam = statuses[statuses.group=='Spam']    \n",
    "\n",
    "\n",
    "\n",
    "statuses_prokat = statuses[statuses['dir']==DIR_PROKAT]. \\\n",
    "append(pd.Series(data={'name': 'zero', 'init_name':'zero', 'sort':0, 'group': 'Opened', 'dir':DIR_PROKAT, 'code':'zero' }, name='zero'))\n",
    "statuses_prokat_lost = statuses_prokat[statuses_prokat['group']=='Lost']\n",
    "prokat_won = statuses_prokat.loc[statuses_prokat[statuses_prokat['init_name']=='Сделка успешна']['code']]\n",
    "statuses_prokat_work = statuses_prokat[statuses_prokat['group']=='Opened'].append(prokat_won).sort_values(['group', 'sort'])\n",
    "#display(statuses_prokat_work)\n",
    "#display(statuses_spam)\n",
    "\n",
    "statuses_event = statuses[statuses['dir']==DIR_EVENT]. \\\n",
    "append(pd.Series(data={'name': 'zero', 'init_name':'zero', 'sort':0, 'group': 'Opened', 'dir':DIR_EVENT, 'code':'zero' }, name='zero'))\n",
    "\n",
    "statuses_event_lost = statuses_event[statuses_event['group']=='Lost']\n",
    "event_won =statuses_event.loc[statuses_event[statuses_event['init_name']=='Сделка успешна']['code']]\n",
    "statuses_event_work = statuses_event[statuses_event['group']=='Opened'].append(event_won).sort_values(['group', 'sort'])\n",
    "managers_rec = GetManagersIndex()\n",
    "#display(managers_rec)\n",
    "\n",
    "def Minimize(df_statuses, df_tr):\n",
    "    df_tr.drop_duplicates(subset=['deal_id', 't1', 't2'], inplace=True)\n",
    "    return df_tr\n",
    "'''\n",
    "    #df_res = pd.DataFrame()\n",
    "    for k in range(0, len(df_tr)):  \n",
    "        tr = df_tr.iloc[k]\n",
    "        deal_id = tr['deal_id'] \n",
    "        date = tr['date']\n",
    "        s1 = tr['t1']\n",
    "        s2 = tr['t2']\n",
    "        \n",
    "        try:\n",
    "            df_tr[deal_id, s2, s1]\n",
    "            print('выкинули {}: {}->{}'.format(deal_id, s2, s1))\n",
    "            continue #взаимоисключающие переходы выкидываем\n",
    "        except KeyError:\n",
    "            row = pd.Series(data={'deal_id': deal_id, \n",
    "                                  'date': date, \n",
    "                                  't1': s1, \n",
    "                                  't2': s2})\n",
    "            df_res = df_res.append(row, ignore_index=True)               \n",
    "    return df_res\n",
    "'''\n",
    "\n",
    "def Expand(df_statuses, df_tr):\n",
    "    df_res = pd.DataFrame(columns = df_tr.columns)\n",
    "    #display(df_statuses)    \n",
    "    df_statuses['ord'] = df_statuses.index.get_indexer(df_statuses['code'])\n",
    "    #display(df_statuses)    \n",
    "    \n",
    "    for k in range(0, len(df_tr)):  \n",
    "        tr = df_tr.iloc[k]\n",
    "        deal_id = tr['deal_id'] \n",
    "        date = tr['date']\n",
    "        s1 = tr['t1']\n",
    "        s2 = tr['t2']\n",
    "        if (s1 == None): s1 = 'zero'\n",
    "        if (s2 == None): s2 = 'zero'\n",
    "        \n",
    "        indexer = df_statuses.index.get_indexer([s1, s2])\n",
    "        i1 = indexer[0]\n",
    "        i2 = indexer[1]\n",
    "        '''\n",
    "        try:\n",
    "            i1 = df_statuses[s1]['ord']\n",
    "        except KeyError:\n",
    "            i1 = -1\n",
    "        \n",
    "        try:\n",
    "            i2 = df_statuses[s2]['ord']\n",
    "        except KeyError:\n",
    "            i2 = -1\n",
    "        '''\n",
    "        #print(s1+'->'+s2+': '+str(i1)+','+str(i2))\n",
    "        \n",
    "        if (i1==-1): \n",
    "            row = pd.Series(data={'deal_id': deal_id, \n",
    "                                  'date': date, \n",
    "                                  't1': s1, \n",
    "                                  't2': s2})\n",
    "            df_res = df_res.append(row, ignore_index=True)            \n",
    "            continue\n",
    "        \n",
    "        if (i2==-1): \n",
    "            row = pd.Series(data={'deal_id': deal_id, \n",
    "                                  'date': date, \n",
    "                                  't1': s1, \n",
    "                                  't2': s2})\n",
    "            df_res = df_res.append(row, ignore_index=True)            \n",
    "            continue\n",
    "        \n",
    "        dist = i2-i1\n",
    "        if (dist<=0): \n",
    "            #переходы назад исключаем\n",
    "            continue\n",
    "\n",
    "\n",
    "\n",
    "\n",
    "        for i in range(i1, i2):\n",
    "            row = pd.Series(data={'deal_id': deal_id, \n",
    "                                  'date': date, \n",
    "                                  't1': df_statuses.iloc[i]['code'], \n",
    "                                  't2': df_statuses.iloc[i+1]['code']})\n",
    "            df_res = df_res.append(row, ignore_index=True)\n",
    "    \n",
    "    return df_res\n",
    "\n",
    "\n",
    "\n",
    "class FunnelReport:\n",
    "    def __init__(self, T, Tspam, Tchange_dir, statuses_spam, statuses_lost, statuses_work, report_name):\n",
    "        global dt1\n",
    "        global dt2\n",
    "        self.report_name = report_name;        \n",
    "        #print('анализ переходов для {} за {} - {}'.format(report_name, dt1.strftime(\"%Y-%m-%d\"), dt2.strftime(\"%Y-%m-%d\")))\n",
    "        #print('init T set:')\n",
    "        #display(T)\n",
    "        #print('statuses_lost:')\n",
    "        #display(statuses_lost)\n",
    "        T_lost = T[T.t2.isin(statuses_lost['code'])]\n",
    "        #print('lost:')\n",
    "        #display(T_lost)\n",
    "        T_lost = pd.DataFrame(T_lost.groupby('t1')['deal_id'].nunique())\n",
    "        T_lost.columns=['потеряно']\n",
    "        #display(T_lost)\n",
    "        \n",
    "        #print(report_name + ' transitions before expand')      \n",
    "        #display(T)\n",
    "        #print('развертка перескакиваний ({})'.format(report_name))\n",
    "        T = Expand(statuses_work, T[T.t2.isin(statuses_work['code'])])\n",
    "        #print('done')\n",
    "        #T['deal_id'] = T['deal_id'].apply(lambda x: int(x))\n",
    "        #print(report_name + ' transitions afrer expand')      \n",
    "        #display(T)\n",
    "\n",
    "        tr_from = pd.DataFrame(T.groupby('t1')['deal_id'].nunique())\n",
    "        tr_from.columns=['ушло в следующий']\n",
    "        \n",
    "        tr_to = pd.DataFrame(T.groupby('t2')['deal_id'].nunique())\n",
    "        tr_to.columns=['попало']\n",
    "        \n",
    "        tr_to = tr_to.join(tr_from).join(Tspam).join(T_lost).join(Tchange_dir)\n",
    "        self.report = statuses_work.join(tr_to)\n",
    "        self.report.fillna(0, inplace=True)\n",
    "        self.report['cv'] = round(100*self.report['ушло в следующий']/self.report['попало'],1)\n",
    "        self.report['cv'] = self.report['cv'].fillna('-')\n",
    "        self.report['% потерь'] = round(100*self.report['потеряно']/self.report['попало'],1)\n",
    "        self.report['% потерь'] = self.report['% потерь'].fillna('-')\n",
    "        self.report['% спама'] = round(100*self.report['ушло в спам']/self.report['попало'],1)\n",
    "        self.report['% спама'] = self.report['% спама'].fillna('-')\n",
    "        \n",
    "        self.report = self.report[['name', 'попало', 'ушло в следующий', 'cv', 'потеряно', '% потерь', 'ушло в спам', '% спама', 'сменило напр.']]\n",
    "        self.report = self.report.query(\"index not in ['zero']\")\n",
    "        self.report = self.report.reset_index()\n",
    "        self.report = self.report.drop(['code'], axis = 1)\n",
    "        \n",
    "        \n",
    "        \n",
    "        self.report['cv'] = self.report['cv'].apply(lambda x: str(x)+'%' if x!='-' else '-') \n",
    "        self.report['% потерь'] = self.report['% потерь'].apply(lambda x: str(x)+'%' if x!='-' else '-') \n",
    "        self.report['% спама'] = self.report['% спама'].apply(lambda x: str(x)+'%' if x!='-' else '-') \n",
    "        self.report = self.report.applymap(lambda x: x if str(type(x))=='<class \\'str\\'>' or '%' in str(x) else int(x)) \n",
    "\n",
    "    def Show(self):\n",
    "        print(\"\\n\\n\\n------------------ОТЧЕТ-ВОРОНКА \\\"{}\\\" за {} - {}-----------------\".format(self.report_name, dt1.strftime(\"%Y-%m-%d\"), dt2.strftime(\"%Y-%m-%d\")))\n",
    "        display(self.report)\n",
    "\n",
    "def on_button_clicked(b): \n",
    "    global statuses\n",
    "    global statuses_spam\n",
    "    global statuses_prokat\n",
    "    global statuses_prokat_lost\n",
    "    global statuses_prokat_work\n",
    "    global statuses_event\n",
    "    global statuses_event_lost\n",
    "    global statuses_event_work\n",
    "    T_all = nm.SelectDealsStatusTransitions(dt1, dt2)\n",
    "    T_all.fillna('zero', inplace=True)\n",
    "    T_all = Minimize(statuses, T_all)\n",
    "    \n",
    "    for manager_id in T_all['manager_id'].value_counts().index:\n",
    "        print('строим отчет для manager_id = ',manager_id)\n",
    "        \n",
    "        error = False\n",
    "        try:\n",
    "            manager_name = managers_rec[managers_rec[0]==manager_id].values[0][1]            \n",
    "        except:\n",
    "            manager_name = 'пользователь удален (id={})'.format(manager_id)\n",
    "            error = True\n",
    "            \n",
    "        T = T_all[T_all.manager_id==manager_id]\n",
    "            \n",
    "        if len(T)==0:\n",
    "            continue\n",
    "            \n",
    "        Tspam = pd.DataFrame(T[T.t2.isin(statuses_spam['code'])].groupby('t1')['deal_id'].nunique())\n",
    "        Tspam.columns=['ушло в спам']\n",
    "        Tchange_dir = pd.DataFrame(T[T.t1.isin(statuses_prokat['code']) & T.t2.isin(statuses_event['code'])].groupby('t1')['deal_id'].nunique())\n",
    "        Tchange_dir.columns=['сменило напр.']\n",
    "\n",
    "\n",
    "        FunnelReport(T, Tspam, Tchange_dir, statuses_spam, statuses_prokat_lost, statuses_prokat_work, 'прокат ({})'.format(manager_name)).Show() \n",
    "        FunnelReport(T, Tspam, Tchange_dir, statuses_spam, statuses_event_lost, statuses_event_work, 'event ({})'.format(manager_name)).Show() \n",
    "        if (error):\n",
    "            print('id сделок:')\n",
    "            display(T['deal_id'].unique())\n",
    "\n",
    "button1 = Button(description=\"Показать воронки\", button_style='success') # 'success', 'info', 'warning', 'danger', '')\n",
    "button1.on_click(on_button_clicked)  \n",
    "display(button1) \n",
    "    "
   ]
  },
  {
   "cell_type": "code",
   "execution_count": 4,
   "metadata": {
    "code_folding": [
     511
    ]
   },
   "outputs": [
    {
     "name": "stdout",
     "output_type": "stream",
     "text": [
      "ОТЧЕТ ПО ЗАНЯТОСТИ ОБОРУДОВАНИЯ\n",
      "пересчет занятости с 6-го по 10 мес.\n",
      "убедитесь, что выходной файл занятость_out.xlsx не открыт\n"
     ]
    },
    {
     "data": {
      "application/vnd.jupyter.widget-view+json": {
       "model_id": "3a7d9c83e60b45cea6ab72f818b8adf8",
       "version_major": 2,
       "version_minor": 0
      },
      "text/plain": [
       "Button(button_style='success', description='Пересчитать', style=ButtonStyle())"
      ]
     },
     "metadata": {},
     "output_type": "display_data"
    }
   ],
   "source": [
    "import calendar\n",
    "import datetime\n",
    "from datetime import datetime\n",
    "import nemindlib as nm\n",
    "import pandas as pd\n",
    "import os\n",
    "import math\n",
    "from pathlib import Path\n",
    "from ipywidgets import Button\n",
    "pd.set_option('use_inf_as_na', True)\n",
    "\n",
    "init_month = 6\n",
    "now_month = datetime.now().month\n",
    "\n",
    "DIR_EVENT = 2\n",
    "OUTPUT_FILENAME = 'занятость_out.xlsx'\n",
    "DEBUG_CATEGORY = 'коляски'\n",
    "DEBUG_DATE = \"2021-06-02\"\n",
    "\n",
    "class ReportOccupation:\n",
    "    \n",
    "    def Standartize(df_):\n",
    "        df = df_.copy()\n",
    "        df.fillna(0, inplace=True)\n",
    "        df.reset_index(drop=False, inplace=True)        \n",
    "        #df['section_name'] = df.apply(lambda row: \\\n",
    "        #                              '23) очки вр event' if row['section_name'] == '23) Очки Виртуальной реальности' and row['dir']==DIR_EVENT \\\n",
    "        #                              else row['section_name'], axis=1)\n",
    "        #df['section_name'] = df['section_name'].apply(lambda x: ')игровые приставки' if (x=='03) PlayStation' or x=='20) Xbox' or x=='22) Nintendo') else x) \n",
    "        \n",
    "        \n",
    "        df.loc[:]['section_name'] = df['section_name'].apply(lambda x: x.split(')')[1].strip().lower().\\\n",
    "                                                             #replace('виртуальной реальности','вр').\\\n",
    "                                                             replace('дополненной реальности','др').\\\n",
    "                                                             #replace(' babyzen','').\\\n",
    "                                                             #replace(' dji','').\\\n",
    "                                                             #replace('камеры gopro','экшн-камеры').\\\n",
    "                                                             #replace('камеры 360','камера 360').\\\n",
    "                                                             #replace('самокаты','электросамокаты').\\\n",
    "                                                             replace('аттракционы','активности и игры'))\n",
    "        df = df.set_index('section_name', drop=True)\n",
    "        return df\n",
    "\n",
    "    \n",
    "    def PrepareInput(self):\n",
    "        statuses = nm.SelectStatuses()\n",
    "        statuses.columns = ['name', 'init_name', 'code', 'sort', 'group', 'dir']\n",
    "        statuses['group'] = statuses.apply(lambda row: 'Spam' if row['code'] in ignore_statuses else row['group'], axis=1)\n",
    "        run_status_codes = statuses[(statuses.name=='В аренде') | (statuses.name=='Залог возвращен')| (statuses.group=='Won')]['code']\n",
    "        #display(run_status_codes.values)        \n",
    "        self.df_input = nm.SelectGoodsDealsRent(self.dt1, self.dt2) \n",
    "        self.df_input['description'] = self.df_input['description'].fillna(value='')\n",
    "        \n",
    "        #filtering statuses\n",
    "        self.df_input = self.df_input[self.df_input.stage_id.isin(run_status_codes.values)]\n",
    "        \n",
    "        #filtering goods\n",
    "        self.df_input['product_name'] = self.df_input['product_name'].apply(lambda x: x.lower())        \n",
    "        self.df_input = self.df_input[~self.df_input.product_name.str.contains('текстиль')]\n",
    "        self.df_input = self.df_input[~self.df_input.product_name.str.contains('ремонт')]\n",
    "        self.df_input = self.df_input[~self.df_input.product_name.str.contains('сломан')]\n",
    "        self.df_input = self.df_input[~self.df_input.product_name.str.contains('отсутств')]\n",
    "        self.df_input = self.df_input[~self.df_input.product_name.str.contains('пульт ду')]\n",
    "        self.df_input = self.df_input[~self.df_input.product_name.str.contains('крепление')]\n",
    "        self.df_input = self.df_input[~self.df_input.product_name.str.contains('переходник')]\n",
    "        self.df_input = self.df_input[~self.df_input.product_name.str.contains('аккумулятор')]\n",
    "        self.df_input = self.df_input[~self.df_input.product_name.str.contains('микрофон')]\n",
    "        self.df_input = self.df_input[~self.df_input.product_name.str.contains('джойстик')]\n",
    "        self.df_input = self.df_input[~self.df_input.product_name.str.contains('ружье')]\n",
    "        self.df_input = self.df_input[~self.df_input.product_name.str.contains('руль')]\n",
    "        self.df_input = self.df_input[~self.df_input.product_name.str.contains('кронштейн')]\n",
    "        self.df_input = self.df_input[~self.df_input.product_name.str.contains('сплиттер')]\n",
    "        self.df_input = self.df_input[~self.df_input.product_name.str.contains('стойка для')]\n",
    "        self.df_input = self.df_input[~self.df_input.product_name.str.contains('проекционный экран')]\n",
    "        self.df_input = self.df_input[~self.df_input.product_name.str.contains('bluetooth наушники')]\n",
    "        self.df_input = self.df_input[~self.df_input.product_name.str.contains('комплект защиты')]\n",
    "        self.df_input = self.df_input[~self.df_input.product_name.str.contains('увеличенная ручка')]\n",
    "        self.df_input = self.df_input[~self.df_input.description.str.contains('ignore')] # !!!!!!!!!!!!!!!!!!!!\n",
    "        self.df_input = self.df_input[~self.df_input.section_name.str.contains('Аксессуары')]\n",
    "        self.df_input = self.df_input[~self.df_input.section_name.str.contains('Крепления')]\n",
    "        self.df_input = self.df_input[~((self.df_input.product_name.str.contains('игра')) & ((self.df_input.section_name.str.contains('PlayStation')) | (self.df_input.section_name.str.contains('Xbox')) | (self.df_input.section_name.str.contains('Nintendo'))))]\n",
    "        self.df_input = ReportOccupation.Standartize(self.df_input)\n",
    "    \n",
    "    \n",
    "    def GetOccupationVals(self, date_):\n",
    "        df = self.df_input[(self.df_input.date_rent_start <= date_) & (self.df_input.date_rent_end > date_)]\n",
    "        s = df.groupby(['section_name'])['product_id'].nunique()\n",
    "        df = pd.DataFrame(s)\n",
    "        df.columns = ['в прокате']\n",
    "        return df\n",
    "    \n",
    "        \n",
    "    def GenerateDelta(self):\n",
    "        groups_start = self.df_input.groupby(['date_rent_start', 'section_name'])\n",
    "        groups_end = self.df_input.groupby(['date_rent_end', 'section_name'])\n",
    "\n",
    "        df_start = pd.DataFrame(groups_start.size())\n",
    "        df_start.index.rename(['date', 'section_name'], inplace=True)\n",
    "        df_start.columns = ['взяли']\n",
    "        df_end = pd.DataFrame(groups_end.size())\n",
    "        df_end.index.rename(['date', 'section_name'], inplace=True)\n",
    "        df_end.columns = ['вернули']\n",
    "        self.df_delta = df_start.join(df_end, how='outer')\n",
    "        self.df_delta.fillna(0, inplace=True)\n",
    "        self.df_delta['delta'] = self.df_delta['взяли'] - self.df_delta['вернули']\n",
    "        self.df_delta = pd.DataFrame(self.df_delta.groupby(['date', 'section_name'])['delta'].sum())\n",
    "\n",
    "\n",
    "\n",
    "        self.max_date = max([x[0] for x in self.df_delta.index])\n",
    "        self.max_date = min(self.max_date, self.dt2)\n",
    "        self.max_date_day = self.max_date.day\n",
    "\n",
    "        dates = self.df_delta.index.levels[0]\n",
    "        categs = self.df_delta.index.levels[1]\n",
    "        \n",
    "        accum = self.df_delta.loc[dates[0]]\n",
    "        for date in dates:\n",
    "            accum = accum.join(self.df_delta.loc[date], lsuffix='', rsuffix=date, how='outer')\n",
    "        self.df_delta = accum\n",
    "\n",
    "        \n",
    "\n",
    "        self.df_delta.drop(['delta'], axis=1, inplace=True)\n",
    "        self.df_delta.fillna(0, inplace=True)\n",
    "        self.df_delta = self.df_delta.astype(int)  \n",
    "        \n",
    "        \n",
    "        self.df_delta.columns = [datetime.strptime((x.replace('delta','').replace('00:00:00','')).strip(), \"%Y-%m-%d\") for x in self.df_delta.columns]\n",
    "        \n",
    "        self.df_delta = self.df_delta.T\n",
    "        self.df_delta.reset_index(inplace=True, drop=False)\n",
    "        self.df_delta['index'] = pd.to_datetime(self.df_delta['index'])\n",
    "        self.df_delta = self.df_delta[(self.dt1<= self.df_delta['index']) & (self.df_delta['index'] <= self.dt2)]\n",
    "        self.first_date = self.df_delta.iloc[0]['index']\n",
    "        self.first_date_str = datetime.strftime(self.first_date, \"%Y-%m-%d\")\n",
    "        self.df_delta['index'] = self.df_delta['index'].apply(lambda x: x.day)\n",
    "        self.df_delta.set_index('index', inplace=True, drop=True)\n",
    "        \n",
    "        self.df_delta = self.df_delta.T\n",
    "        \n",
    "        i = self.df_delta.columns[0]\n",
    "        for c in self.df_delta.columns:\n",
    "            if c!=i:\n",
    "                self.df_delta[i] = 0\n",
    "            i += 1\n",
    "            \n",
    "        self.df_delta = self.df_delta.T\n",
    "        #display(self.df_delta)\n",
    "        \n",
    "        \n",
    "    \n",
    "    def TryReadExcel(fname, sheet_nm, header=0):\n",
    "        #print('читаем файл {} лист {}'.format(fname, sheet_nm))\n",
    "        df = None\n",
    "        ok = False\n",
    "        try:\n",
    "            df = pd.read_excel(fname, sheet_name=sheet_nm, header=header)\n",
    "            ok = True\n",
    "        except:\n",
    "            try:\n",
    "                df = pd.read_excel('./output/'+fname, sheet_name=sheet_nm, header=header)\n",
    "                ok = True\n",
    "            except:\n",
    "                try:\n",
    "                    df = pd.read_excel('../output/'+fname, sheet_name=sheet_nm, header=header)\n",
    "                    ok = True\n",
    "                    #print('читаем файл', '../output/'+fname)\n",
    "                except:\n",
    "                    try:\n",
    "                        df = pd.read_excel('../'+fname, sheet_name=sheet_nm, header=header)\n",
    "                        ok = True\n",
    "                        #print('читаем файл', '../'+fname)\n",
    "                    except:\n",
    "                        try:\n",
    "                            df = pd.read_excel('../../'+fname, sheet_name=sheet_nm, header=header)\n",
    "                            ok = True\n",
    "                            #print('читаем файл', '../../'+fname)\n",
    "                        except:\n",
    "                            print('файл {} не найден'.format(fname))\n",
    "                        \n",
    "        if not ok:\n",
    "            print('ВНИМАНИЕ! что-то пошло не так при чтении файла {} листа {}'.format(fname, sheet_nm))\n",
    "        return df, ok\n",
    "    \n",
    "    \n",
    "    def ReadFile(self):\n",
    "        self.df_registry_prokat, success1 = ReportOccupation.TryReadExcel('реестр оборудования.xlsx', 'прокат', header=0)\n",
    "        self.df_registry_event, success2 = ReportOccupation.TryReadExcel('реестр оборудования.xlsx', 'event', header=0)\n",
    "        self.df_registry = pd.concat([self.df_registry_prokat, self.df_registry_event], ignore_index=True, axis=0)\n",
    "        self.df_registry.fillna(0, inplace=True)\n",
    "        #self.df_registry.columns = ['направление', self.]\n",
    "        self.df_registry['направление'] = self.df_registry['направление'].apply(lambda x: x.lower())\n",
    "        self.df_registry.set_index('направление', inplace=True)\n",
    "        \n",
    "        self.df_file, success3 = ReportOccupation.TryReadExcel(OUTPUT_FILENAME, self.sheet_name)\n",
    "        if not success3:\n",
    "            if (self.first_date.month == 1):\n",
    "                pass\n",
    "                #TODO\n",
    "            else:\n",
    "                self.df_file, success3 = ReportOccupation.TryReadExcel('./templates/занятость_template.xlsx', 'template')\n",
    "                #self.df_file = self.df_file[['направление', '*']]\n",
    "        \n",
    "        \n",
    "        self.read_file_registry_ok = success1 and success2\n",
    "        self.read_file_ok = success3 \n",
    "\n",
    "        self.df_file.replace('#DIV/0!',0, inplace=True)\n",
    "\n",
    "        try:\n",
    "            self.df_file.drop('ср. за мес', axis=1, inplace=True)\n",
    "        except:\n",
    "            pass\n",
    "\n",
    "        \n",
    "        self.df_file['направление'][1:len(self.df_file):3] = self.df_file['направление'][0:len(self.df_file):3]\n",
    "        self.df_file['направление'][2:len(self.df_file):3] = self.df_file['направление'][0:len(self.df_file):3]\n",
    "\n",
    "        self.file_categories = self.df_file['направление'].unique()\n",
    "\n",
    "        self.df_file.set_index(['направление', '*'], inplace=True)\n",
    "        self.df_file.fillna(0, inplace=True)\n",
    "\n",
    "        \n",
    "        \n",
    "\n",
    "    def Debug(self, categ_str, date_str):    \n",
    "        \n",
    "        if (categ_str == None or date_str == None): \n",
    "            return\n",
    "        print('Debug for ', categ_str, date_str)\n",
    "        \n",
    "        #self.GetOccupationVals(datetime.strptime('2021-06-01', \"%Y-%m-%d\"))\n",
    "        #display(self.df_input)\n",
    "        with pd.ExcelWriter('../output/'+categ_str.replace(')','_').replace(' ','_')+\"_{}_debug.xlsx\".format(date_str)) as writer:  \n",
    "            try:\n",
    "                self.df_input.drop('dir', axis=1, inplace=True)\n",
    "            except:\n",
    "                pass\n",
    "            \n",
    "            #display(self.df_input)\n",
    "            df = self.df_input.copy()\n",
    "            df.reset_index(inplace=True, drop=False)\n",
    "            \n",
    "            debug_df_occupied = df[(df.section_name == categ_str) & (df.date_rent_start <= datetime.strptime(date_str, \"%Y-%m-%d\")) & (df.date_rent_end > datetime.strptime(date_str, \"%Y-%m-%d\"))]\n",
    "            display(debug_df_occupied)\n",
    "            debug_df_occupied.to_excel(writer, 'deals')\n",
    "\n",
    "            '''\n",
    "            debug_groups_start = df.groupby(['section_name', 'date_rent_start'])\n",
    "            debug_groups_end = df.groupby(['section_name', 'date_rent_end'])\n",
    "            print('debug input set:')\n",
    "            debug_df_start = pd.DataFrame(debug_groups_start.size())\n",
    "            debug_df_start.index.rename(['section_name', 'date'], inplace=True)\n",
    "            debug_df_start.columns = ['взяли']\n",
    "            debug_df_end = pd.DataFrame(debug_groups_end.size())\n",
    "            debug_df_end.index.rename(['section_name', 'date'], inplace=True)\n",
    "            debug_df_end.columns = ['вернули']\n",
    "            debug_df = debug_df_start.join(debug_df_end, how='outer')\n",
    "            debug_df.fillna(0, inplace=True)\n",
    "            debug_df['delta'] = debug_df['взяли'] - debug_df['вернули']\n",
    "            debug_df = debug_df.loc[debug_df.index.get_level_values('date') >= self.dt1]    \n",
    "            debug_df.to_excel(writer, 'dates')\n",
    "            display(debug_df)\n",
    "            display(self.directions)\n",
    "            '''\n",
    "\n",
    "    def IterativeReccalcDays(self):    \n",
    "        self.df_result = None\n",
    "        #print('!!!:')\n",
    "        #display(set(self.df_registry.index.values))\n",
    "        all_categories = set(self.df_delta.columns).union(set(self.file_categories)).union(set(self.df_registry.index.values))\n",
    "        \n",
    "        #print(set(self.file_categories))\n",
    "        #print(set(self.df_registry.index.values))\n",
    "        dft = self.df_file.copy().T\n",
    "        \n",
    "        #print('!!!!!!!:', dft.columns.get_level_values(0).values)\n",
    "        \n",
    "        #x = 7 / 0\n",
    "        for c in set(dft.columns.get_level_values(0).values):\n",
    "            #print(c)\n",
    "            if c not in all_categories:\n",
    "                display(self.df_delta)\n",
    "                self.df_delta[c] = 0\n",
    "                self.df_file.loc[(c, 'всего'), :] = self.df_registry.loc[c, self.month_num]\n",
    "                self.df_file.loc[(c, 'в прокате'), :] = self.initvals.loc[c, 'в прокате']\n",
    "                self.df_file.loc[(c, '%'), :] = 0\n",
    "                dft.loc[(c, 'всего'), :] = self.df_registry.loc[c, self.month_num]\n",
    "                dft.loc[(c, 'в прокате'), :] = self.initvals.loc[c, 'в прокате']\n",
    "                dft.loc[(c, '%'), :] = 0\n",
    "                print('в структуре файла {} на листе {} нет строки-категории \\'{}\\'. категория добавлена'.format(OUTPUT_FILENAME, self.sheet_name, c))\n",
    "        \n",
    "        \n",
    "        n = 1\n",
    "        total = {}\n",
    "        \n",
    "\n",
    "        \n",
    "        for row in self.df_delta.iterrows():\n",
    "            day = int(row[0])\n",
    "            #delta_vector = row[1]\n",
    "            for col in all_categories: #delta_vector.index:                \n",
    "                try:\n",
    "                    delta = self.df_delta.loc[day, col]\n",
    "                except KeyError:\n",
    "                    delta = 0\n",
    "                        \n",
    "                if n==1:\n",
    "                    #первый день месяца\n",
    "                    if (self.prev_month_report == None): \n",
    "                        #стартовая точка для [в прокате] - прямой подсчет на конец 1-го дня\n",
    "                        try:\n",
    "                            occ = self.initvals.loc[col, 'в прокате']\n",
    "                            #print('в прокате {} на 1.{} = {} (calc)'.format(col, self.month_num, occ))\n",
    "                        except:\n",
    "                            occ = 0                            \n",
    "                            #print('в прокате {} на 1.{} = 0 (not found)'.format(col, self.month_num))\n",
    "                    else:\n",
    "                        #стартовая точка для [в прокате] - последнее число отчета за предыд. месяц + delta 1го дня\n",
    "                        try:\n",
    "                            prev_val = self.prev_month_report.df_result.loc[(col, 'в прокате'), self.prev_month_report.last_column_day]\n",
    "                        except:\n",
    "                            print('ВНИМАНИЕ! для категории \\'{}\\' значение \\'в прокате\\' на предущем месяце не найдено, дальнейшие значения на листе {} некорректны.'.format(col, self.sheet_name))\n",
    "                            prev_val = 0\n",
    "                            \n",
    "                        occ = prev_val + delta\n",
    "                        #print('в прокате {} на 1.{} = {} (prev {}.{}) + {} (delta)'.format(col, self.month_num, self.prev_month_report.df_result.loc[(col, 'в прокате'), self.prev_month_report.last_column_day], self.prev_month_report.last_column_day, self.prev_month_report.month_num, delta))\n",
    "                        \n",
    "                    if (self.month_num == datetime.now().month or self.month_num == 6):\n",
    "                        # всего оборудования - для тек. мес. берем из реестра\n",
    "                        try:\n",
    "                            total[col] = self.df_registry.loc[col, self.month_num]\n",
    "                        except:\n",
    "                            print('ВНИМАНИЕ! для мес. {} категории \\'{}\\' значение оборудования в реестре не найдено, % занятости на листе {} будет некорректным.'.format(self.month_num, col, self.sheet_name))\n",
    "                            total[col] = 0\n",
    "                    else:\n",
    "                        try:\n",
    "                            # всего оборудования - просто переписываются как были для всех предыдущих месяцев\n",
    "                            total[col] = dft.loc[day,col]['всего']\n",
    "                        except:\n",
    "                            try:\n",
    "                                #display(self.df_registry.loc[col])\n",
    "                                total[col] = self.df_registry.loc[col, self.month_num]\n",
    "                            except:\n",
    "                                print('ВНИМАНИЕ! для мес. {} категории \\'{}\\' значение оборудования в реестре не найдено, % занятости на листе {} будет некорректным.'.format(self.month_num, col, self.sheet_name))\n",
    "                                total[col] = 0\n",
    "                     \n",
    "                else:\n",
    "                    #последующие дни  \n",
    "                    #display(dft)\n",
    "                    #print('!!!:', day-1,col)\n",
    "                    #try:\n",
    "                    occ = dft.loc[day-1,col]['в прокате'] + delta\n",
    "                    #except:\n",
    "                    #    occ = 0\n",
    "                    \n",
    "                dft.loc[day, (col, 'в прокате')] = occ                \n",
    "                dft.loc[day, (col, 'всего')] = total[col]\n",
    "                \n",
    "                try:\n",
    "                    if total[col]==0:\n",
    "                        dft.loc[day, (col, '%')] = 0\n",
    "                    else:\n",
    "                        dft.loc[day, (col, '%')] = round(100 * occ / total[col], 1)\n",
    "                except:\n",
    "                    dft.loc[day, (col, '%')] = 0\n",
    "                \n",
    "            n += 1\n",
    "        dft.fillna(0, inplace=True)\n",
    "        dft = dft.sort_index()\n",
    "        dft = dft.append(pd.Series(round(dft.iloc[:].mean(),1), name='ср. за мес'))\n",
    "        self.last_column_day = int(max(pd.Series(dft.index.values).apply(lambda x: int(x) if ReportOccupation.IsNum(x) else None)))\n",
    "        self.df_result = dft.T.astype(int)\n",
    "        #display(self.df_result)\n",
    "        \n",
    "    def IsNum(x):\n",
    "        try:\n",
    "            v = int(x)\n",
    "            return True\n",
    "        except:\n",
    "            return False\n",
    "    \n",
    "\n",
    "    def __init__(self, month_num=None, prev_month_report=None, sheet_name=None):\n",
    "        if sheet_name != None:\n",
    "            self.sheet_name = sheet_name\n",
    "            print('лист {} пропускаем без пересчета'.format(self.sheet_name))\n",
    "            self.prev_month_report = None\n",
    "            self.month_num = int(sheet_name.split('-')[1])\n",
    "            self.dt1 = datetime(datetime.now().year, self.month_num, 1)\n",
    "            self.dt2 = datetime(datetime.now().year, self.month_num, calendar.monthrange(datetime.now().year, self.month_num)[1]) \n",
    "            self.dt2 = min(datetime.now(), self.dt2)     \n",
    "            \n",
    "            self.PrepareInput()                \n",
    "            self.ReadFile()\n",
    "            self.last_column_day = ReportOccupation.GetMaxValue(self.df_file.columns)\n",
    "            self.df_result = self.df_file\n",
    "        else:\n",
    "            self.sheet_name = '{}-{}'.format(datetime.now().year, month_num)\n",
    "            print('строим отчет для листа {}'.format(self.sheet_name))\n",
    "            self.prev_month_report = prev_month_report\n",
    "            self.month_num = month_num\n",
    "            self.dt1 = datetime(datetime.now().year, self.month_num, 1)\n",
    "            self.dt2 = datetime(datetime.now().year, self.month_num, calendar.monthrange(datetime.now().year, self.month_num)[1]) \n",
    "            self.dt2 = min(datetime.now(), self.dt2)\n",
    "            self.PrepareInput()                \n",
    "            self.GenerateDelta()  \n",
    "            self.initvals = self.GetOccupationVals(self.dt1)\n",
    "            self.ReadFile()            \n",
    "            \n",
    "\n",
    "                \n",
    "            self.IterativeReccalcDays()\n",
    "    \n",
    "    def Validate(self):\n",
    "        print('Валидация {} ...'.format(self.sheet_name))\n",
    "        #report.Debug(DEBUG_CATEGORY, \"2021-06-13\")\n",
    "        #report.Debug(DEBUG_CATEGORY, \"2021-06-14\")\n",
    "        #report.Debug(DEBUG_CATEGORY, DEBUG_DATE)\n",
    "        self.bad_deals = pd.DataFrame(self.df_input)\n",
    "        self.bad_deals = self.bad_deals[['deal_id', 'product_id', 'product_name', 'date_rent_start', 'date_rent_end']]         \n",
    "        self.bad_deals = self.bad_deals.iloc[0:0]\n",
    "        for day in range(1, self.last_column_day):\n",
    "            self.ValidateDay(day)\n",
    "        if (len(self.bad_deals)>0):\n",
    "            print('conflict deals:')\n",
    "            self.bad_deals.sort_index(inplace=True)\n",
    "            self.bad_deals.sort_values(['product_name'], inplace=True)\n",
    "            self.bad_deals['link'] = self.bad_deals['deal_id'].apply(lambda x: 'https://way-prokat.bitrix24.ru/crm/deal/details/' + str(x) + '/')\n",
    "            display(self.bad_deals)\n",
    "            #for link in self.bad_deals['link']:\n",
    "            #    print(link)\n",
    "            with pd.ExcelWriter('./output/conflicts_{}.xlsx'.format(self.month_num)) as writer:  \n",
    "                self.bad_deals.to_excel(writer)\n",
    "        print('завершено')\n",
    "        \n",
    "    \n",
    "    def ValidateDay(self, date_day):        \n",
    "        #print('date day: ', date_day)\n",
    "        #display(self.df_result)\n",
    "        res_df =  pd.DataFrame(self.df_result[date_day])\n",
    "        res_df.reset_index(drop=False, inplace=True)\n",
    "        res_df = res_df[res_df['*']=='в прокате']\n",
    "        res_df.drop(['*'], axis=1, inplace=True)\n",
    "        res_df.set_index('направление', inplace = True)\n",
    "        \n",
    "        \n",
    "        count_df = self.GetOccupationVals(datetime(self.dt2.year, self.dt2.month, date_day))\n",
    "        count_df.columns = [date_day]\n",
    "        vld = count_df.join(res_df, how='outer', lsuffix='_метод_подсчета', rsuffix='_метод_дельт')\n",
    "        vld.fillna(0,inplace=True)        \n",
    "        \n",
    "                \n",
    "        \n",
    "        #vld.reset_index(drop=False, inplace=True)\n",
    "        #vld = vld[vld['*']=='в прокате']\n",
    "        #vld.drop(['*'], axis=1, inplace=True)\n",
    "        #vld.set_index('направление', inplace = True)\n",
    "        \n",
    "        vld = vld.astype(int)    \n",
    "        vld['error'] = vld[str(date_day)+'_метод_подсчета'] - vld[str(date_day)+'_метод_дельт'] \n",
    "        #vld['error'] = vld[str(date_day)+'_file'] - vld[str(date_day)+'_calc'] \n",
    "        vld.columns=['reference', 'метод дельт','error']\n",
    "\n",
    "        df_bad = vld[vld.error!=0] \n",
    "        if (len(df_bad)>0):\n",
    "            print('ВНИМАНИЕ! Найдены расхождения на {}-{}:'.format(self.sheet_name, date_day))\n",
    "            display(df_bad)\n",
    "            bad_dirs = df_bad.index.values\n",
    "            dt = datetime(datetime.now().year, self.month_num, date_day) \n",
    "            for direction in bad_dirs:\n",
    "                #print('scan for ', direction)\n",
    "                df = self.df_input[(self.df_input.index.isin([direction])) & (self.df_input.date_rent_start <= dt) & (self.df_input.date_rent_end > dt)]\n",
    "                duplicates = df[df.duplicated(['product_id'], keep=False)]\n",
    "                if (len(duplicates) > 0):\n",
    "                    duplicates = duplicates[['deal_id', 'product_id', 'product_name', 'date_rent_start', 'date_rent_end']] \n",
    "                    self.bad_deals = self.bad_deals.append(duplicates)\n",
    "                    #display(duplicates)                \n",
    "            self.bad_deals.drop_duplicates(subset=['deal_id', 'product_id', 'product_name', 'date_rent_start', 'date_rent_end'], keep='first', inplace=True)\n",
    "\n",
    "\n",
    "    \n",
    "    def Show(self):       \n",
    "        print(\"\\n\\n\\n------------------ОТЧЕТ-ЗАНЯТОСТЬ ОБОРУДОВАНИЯ за {} - {}-----------------\".format(self.dt1.strftime(\"%Y-%m-%d\"), self.dt2.strftime(\"%Y-%m-%d\")))\n",
    "        display(self.df_result)\n",
    "        \n",
    "\n",
    "    def FillWorksheet(self, writer):\n",
    "        self.df_result.to_excel(writer, sheet_name=self.sheet_name, freeze_panes=(1, 1))  \n",
    "        \n",
    "        worksheet = writer.sheets[self.sheet_name]\n",
    "        \n",
    "        for idx, col in enumerate(self.df_result):  # loop through all columns\n",
    "            series = self.df_result[col]\n",
    "            max_len = len(str(series.name)) + 1\n",
    "            worksheet.set_column(idx+1, idx+1, max_len)  # set column width\n",
    "\n",
    "        worksheet.set_column(0, 0, max([len(x[0]) if not pd.isna(x[0]) else 1 for x in self.df_result.index.values])+1)\n",
    "        worksheet.set_column(1, 1, len('в прокате'))\n",
    "        for c in range(2, self.last_column_day+2):\n",
    "            worksheet.set_column(c,c,5)\n",
    "            \n",
    "    def GetMaxValue(cols):\n",
    "        cols = [x if ReportOccupation.IsNum(x) else 0 for x in cols]\n",
    "        return max(cols)\n",
    "        \n",
    "    def IsOk(self):\n",
    "        return self.read_file_ok and self.read_file_registry_ok\n",
    "        \n",
    "def on_button_clicked(b):\n",
    "    print('поехали!')\n",
    "    report = {}\n",
    "    path_out = \"./output/\" + OUTPUT_FILENAME\n",
    "    writer = pd.ExcelWriter(path_out)\n",
    "    xl = pd.ExcelFile(path_out)\n",
    "    \n",
    "    sheets_recalc = ['{}-{}'.format(datetime.now().year, x) for x in range (init_month, now_month+1)]\n",
    "    all_sheets = xl.sheet_names\n",
    "    sheets_copy = set(all_sheets).difference(set(sheets_recalc))\n",
    "    \n",
    "    \n",
    "    for sheet in sheets_copy:\n",
    "        month = int(sheet.split('-')[1])\n",
    "        report[month] = ReportOccupation(month_num=None, prev_month_report=None, sheet_name=sheet)\n",
    "        report[month].FillWorksheet(writer)\n",
    "    \n",
    "    for sheet in sheets_recalc:\n",
    "        month = int(sheet.split('-')[1])\n",
    "        if (month == init_month):\n",
    "            report[month] = ReportOccupation(month_num=month, prev_month_report=None)\n",
    "        else:\n",
    "            report[month] = ReportOccupation(month_num=month, prev_month_report=report[month-1])\n",
    "            \n",
    "        report[month].Validate()\n",
    "        #report[month].Show()\n",
    "        \n",
    "        if report[month].IsOk():\n",
    "            print('пишем лист ',sheet)     \n",
    "            report[month].FillWorksheet(writer)            \n",
    "    writer.save()\n",
    "            \n",
    "    print('выходной файл {} обновлен.'.format(OUTPUT_FILENAME))            \n",
    "    print('завершено')\n",
    "    \n",
    "print('ОТЧЕТ ПО ЗАНЯТОСТИ ОБОРУДОВАНИЯ')    \n",
    "print('пересчет занятости с {}-го по {} мес.'.format(init_month, now_month, 1, now_month))\n",
    "print('убедитесь, что выходной файл {} не открыт'.format(OUTPUT_FILENAME))\n",
    "button1 = Button(description=\"Пересчитать\", button_style='success') # 'success', 'info', 'warning', 'danger', '')\n",
    "button1.on_click(on_button_clicked)  \n",
    "display(button1)     "
   ]
  },
  {
   "cell_type": "code",
   "execution_count": 5,
   "metadata": {},
   "outputs": [
    {
     "data": {
      "text/html": [
       "<div>\n",
       "<style scoped>\n",
       "    .dataframe tbody tr th:only-of-type {\n",
       "        vertical-align: middle;\n",
       "    }\n",
       "\n",
       "    .dataframe tbody tr th {\n",
       "        vertical-align: top;\n",
       "    }\n",
       "\n",
       "    .dataframe thead th {\n",
       "        text-align: right;\n",
       "    }\n",
       "</style>\n",
       "<table border=\"1\" class=\"dataframe\">\n",
       "  <thead>\n",
       "    <tr style=\"text-align: right;\">\n",
       "      <th></th>\n",
       "      <th>0</th>\n",
       "    </tr>\n",
       "  </thead>\n",
       "  <tbody>\n",
       "    <tr>\n",
       "      <th>0</th>\n",
       "      <td>1</td>\n",
       "    </tr>\n",
       "    <tr>\n",
       "      <th>1</th>\n",
       "      <td>2</td>\n",
       "    </tr>\n",
       "    <tr>\n",
       "      <th>2</th>\n",
       "      <td>3</td>\n",
       "    </tr>\n",
       "  </tbody>\n",
       "</table>\n",
       "</div>"
      ],
      "text/plain": [
       "   0\n",
       "0  1\n",
       "1  2\n",
       "2  3"
      ]
     },
     "execution_count": 5,
     "metadata": {},
     "output_type": "execute_result"
    }
   ],
   "source": [
    "pd.DataFrame(pd.Series([1,2,3]))"
   ]
  },
  {
   "cell_type": "code",
   "execution_count": null,
   "metadata": {},
   "outputs": [],
   "source": []
  }
 ],
 "metadata": {
  "kernelspec": {
   "display_name": "Python 3",
   "language": "python",
   "name": "python3"
  },
  "language_info": {
   "codemirror_mode": {
    "name": "ipython",
    "version": 3
   },
   "file_extension": ".py",
   "mimetype": "text/x-python",
   "name": "python",
   "nbconvert_exporter": "python",
   "pygments_lexer": "ipython3",
   "version": "3.8.5"
  },
  "varInspector": {
   "cols": {
    "lenName": 16,
    "lenType": 16,
    "lenVar": 40
   },
   "kernels_config": {
    "python": {
     "delete_cmd_postfix": "",
     "delete_cmd_prefix": "del ",
     "library": "var_list.py",
     "varRefreshCmd": "print(var_dic_list())"
    },
    "r": {
     "delete_cmd_postfix": ") ",
     "delete_cmd_prefix": "rm(",
     "library": "var_list.r",
     "varRefreshCmd": "cat(var_dic_list()) "
    }
   },
   "position": {
    "height": "512.534px",
    "left": "1026.36px",
    "right": "20px",
    "top": "120px",
    "width": "350px"
   },
   "types_to_exclude": [
    "module",
    "function",
    "builtin_function_or_method",
    "instance",
    "_Feature"
   ],
   "window_display": false
  },
  "widgets": {
   "application/vnd.jupyter.widget-state+json": {
    "state": {
     "0017d8f51faf4dcaba8ace34cd99f325": {
      "model_module": "@jupyter-widgets/base",
      "model_module_version": "1.2.0",
      "model_name": "LayoutModel",
      "state": {}
     },
     "008c610a59b94413952b3ab024afa162": {
      "model_module": "@jupyter-widgets/controls",
      "model_module_version": "1.5.0",
      "model_name": "DescriptionStyleModel",
      "state": {
       "description_width": ""
      }
     },
     "01135424f4d349eda195fc61ae7347fb": {
      "model_module": "@jupyter-widgets/controls",
      "model_module_version": "1.5.0",
      "model_name": "BoundedIntTextModel",
      "state": {
       "description": "Чепрасова Ольга(прокат)",
       "layout": "IPY_MODEL_23b3e124a51e4218a2209c71c1a58b17",
       "max": 1200000,
       "step": 10000,
       "style": "IPY_MODEL_affc4cd5ef084f1481ea8edcf06ad30e",
       "value": 180800
      }
     },
     "01f62aef4dc54f34ba2f53057aeaa9a2": {
      "model_module": "@jupyter-widgets/controls",
      "model_module_version": "1.5.0",
      "model_name": "DescriptionStyleModel",
      "state": {
       "description_width": ""
      }
     },
     "0241cbd3876847bcb6b6b1b746481a40": {
      "model_module": "@jupyter-widgets/base",
      "model_module_version": "1.2.0",
      "model_name": "LayoutModel",
      "state": {}
     },
     "024a4e5ce9ba4e65bfe00f1054a845b3": {
      "model_module": "@jupyter-widgets/controls",
      "model_module_version": "1.5.0",
      "model_name": "DescriptionStyleModel",
      "state": {
       "description_width": ""
      }
     },
     "024fe4f971b84776ad1f95e69e9aaaf5": {
      "model_module": "@jupyter-widgets/base",
      "model_module_version": "1.2.0",
      "model_name": "LayoutModel",
      "state": {}
     },
     "029e5a858bbb44ba81e8f0edca215087": {
      "model_module": "@jupyter-widgets/controls",
      "model_module_version": "1.5.0",
      "model_name": "BoundedIntTextModel",
      "state": {
       "description": "Кузнецова Дарья(эвент)",
       "layout": "IPY_MODEL_f8afdbdc9ef04416aaed7277e255402f",
       "max": 1200000,
       "step": 10000,
       "style": "IPY_MODEL_4a6be5eafacd499c84d0c4a41a2c515d",
       "value": 140000
      }
     },
     "02be6bfe28b54d41933b285c0014c458": {
      "model_module": "@jupyter-widgets/base",
      "model_module_version": "1.2.0",
      "model_name": "LayoutModel",
      "state": {}
     },
     "02beeaa2c226468081ae83f2d683e358": {
      "model_module": "@jupyter-widgets/base",
      "model_module_version": "1.2.0",
      "model_name": "LayoutModel",
      "state": {}
     },
     "02e0a35d910b4980b92a4640298b975f": {
      "model_module": "@jupyter-widgets/controls",
      "model_module_version": "1.5.0",
      "model_name": "DescriptionStyleModel",
      "state": {
       "description_width": ""
      }
     },
     "035eab066dfd444497f4ef69046c2303": {
      "model_module": "@jupyter-widgets/controls",
      "model_module_version": "1.5.0",
      "model_name": "DescriptionStyleModel",
      "state": {
       "description_width": ""
      }
     },
     "0414385a5acc4ee6950620e0c435054f": {
      "model_module": "@jupyter-widgets/base",
      "model_module_version": "1.2.0",
      "model_name": "LayoutModel",
      "state": {}
     },
     "04d270c755b1466ebdc61db9fe4a441b": {
      "model_module": "@jupyter-widgets/controls",
      "model_module_version": "1.5.0",
      "model_name": "DescriptionStyleModel",
      "state": {
       "description_width": ""
      }
     },
     "04da5595b13448c6b47222e0d3e50bf8": {
      "model_module": "@jupyter-widgets/base",
      "model_module_version": "1.2.0",
      "model_name": "LayoutModel",
      "state": {}
     },
     "04e04e986b5a438e8eedca282fb99a13": {
      "model_module": "@jupyter-widgets/controls",
      "model_module_version": "1.5.0",
      "model_name": "CheckboxModel",
      "state": {
       "description": "Не устроил залог",
       "disabled": false,
       "layout": "IPY_MODEL_0efd45f879784aab9472420536ae58da",
       "style": "IPY_MODEL_5f5fab64b6444d09afa2619ff9674bea",
       "value": false
      }
     },
     "04fc66addfac4de989f61d5c6fe46e72": {
      "model_module": "@jupyter-widgets/controls",
      "model_module_version": "1.5.0",
      "model_name": "DescriptionStyleModel",
      "state": {
       "description_width": ""
      }
     },
     "06002f94764c4594b049df0bd613abbc": {
      "model_module": "@jupyter-widgets/controls",
      "model_module_version": "1.5.0",
      "model_name": "CheckboxModel",
      "state": {
       "description": "Нет курьера",
       "disabled": false,
       "layout": "IPY_MODEL_6b8d9ca6216a49cbaead9834c4d1ba70",
       "style": "IPY_MODEL_5c10f436c3224252870564ffe57f7afa",
       "value": false
      }
     },
     "06619bd2a6554746a98a7b367eba311b": {
      "model_module": "@jupyter-widgets/base",
      "model_module_version": "1.2.0",
      "model_name": "LayoutModel",
      "state": {}
     },
     "07474d7c6bd04bd6b360f17255955a6a": {
      "model_module": "@jupyter-widgets/controls",
      "model_module_version": "1.5.0",
      "model_name": "BoundedIntTextModel",
      "state": {
       "description": "Симак Наталья(эвент)",
       "layout": "IPY_MODEL_9826683208e447189b812e3e74a5a2a5",
       "max": 1200000,
       "step": 10000,
       "style": "IPY_MODEL_474c41c017d5474caffe1ae72e8476eb",
       "value": 52500
      }
     },
     "07bcd184d58f4c6cacecb8099be795bf": {
      "model_module": "@jupyter-widgets/controls",
      "model_module_version": "1.5.0",
      "model_name": "DescriptionStyleModel",
      "state": {
       "description_width": ""
      }
     },
     "08027a63ca584894b276536fbc860f80": {
      "model_module": "@jupyter-widgets/controls",
      "model_module_version": "1.5.0",
      "model_name": "BoundedIntTextModel",
      "state": {
       "description": "Кузнецова Дарья(прокат)",
       "layout": "IPY_MODEL_a5faec962973480eaf335843918516d3",
       "max": 1200000,
       "step": 10000,
       "style": "IPY_MODEL_3aff6501499f4e0dad6d643e5c792d0d",
       "value": 192100
      }
     },
     "087240951cdd48d9b88be7749ed296bb": {
      "model_module": "@jupyter-widgets/base",
      "model_module_version": "1.2.0",
      "model_name": "LayoutModel",
      "state": {}
     },
     "090168f487074031a35e5b0cbde5109e": {
      "model_module": "@jupyter-widgets/base",
      "model_module_version": "1.2.0",
      "model_name": "LayoutModel",
      "state": {}
     },
     "093e9ac7b0e748669335f22d3ec3e5a5": {
      "model_module": "@jupyter-widgets/controls",
      "model_module_version": "1.5.0",
      "model_name": "DescriptionStyleModel",
      "state": {
       "description_width": ""
      }
     },
     "095587540ef64c28b4ddb0191f9df029": {
      "model_module": "@jupyter-widgets/base",
      "model_module_version": "1.2.0",
      "model_name": "LayoutModel",
      "state": {}
     },
     "0977fe4afbdc4c11b1ba477430307759": {
      "model_module": "@jupyter-widgets/controls",
      "model_module_version": "1.5.0",
      "model_name": "BoundedIntTextModel",
      "state": {
       "description": "1 Стажер(эвент)",
       "layout": "IPY_MODEL_1efe933a2f7f4ee4948804e471846697",
       "max": 1200000,
       "step": 10000,
       "style": "IPY_MODEL_9b58fd4c80e042febf7ca9668c4aca05"
      }
     },
     "0984cf8d59b34e4fa055d63202d26717": {
      "model_module": "@jupyter-widgets/base",
      "model_module_version": "1.2.0",
      "model_name": "LayoutModel",
      "state": {}
     },
     "09a40d41798a4c33af7c2f2d7da7fea9": {
      "model_module": "@jupyter-widgets/controls",
      "model_module_version": "1.5.0",
      "model_name": "BoundedIntTextModel",
      "state": {
       "description": "Чепрасова Ольга(эвент)",
       "layout": "IPY_MODEL_5f81c99b64cf40d1a707aafe60a019ea",
       "max": 1200000,
       "step": 10000,
       "style": "IPY_MODEL_ca4c98e7b8044b69a930367e0bb14a34"
      }
     },
     "0a0077f09d8a4c6ab9e3c95c79f0aef4": {
      "model_module": "@jupyter-widgets/controls",
      "model_module_version": "1.5.0",
      "model_name": "CheckboxModel",
      "state": {
       "description": "Мусор / Спам",
       "disabled": false,
       "layout": "IPY_MODEL_e000dcc8ee114700aeb17ac8e5d92843",
       "style": "IPY_MODEL_6145b627062347489f3263cfb5fb1443",
       "value": true
      }
     },
     "0adf0d30696345449b83d1a2edc51edb": {
      "model_module": "@jupyter-widgets/controls",
      "model_module_version": "1.5.0",
      "model_name": "DescriptionStyleModel",
      "state": {
       "description_width": ""
      }
     },
     "0af3cec8027f473b997379edac14bb81": {
      "model_module": "@jupyter-widgets/controls",
      "model_module_version": "1.5.0",
      "model_name": "BoundedIntTextModel",
      "state": {
       "description": "Симак Наталья(эвент)",
       "layout": "IPY_MODEL_06619bd2a6554746a98a7b367eba311b",
       "max": 1200000,
       "step": 10000,
       "style": "IPY_MODEL_6f41010ea94448b3a764221ee70af42c",
       "value": 52500
      }
     },
     "0b2ed16bc95d451fad6fecb51ffdd498": {
      "model_module": "@jupyter-widgets/base",
      "model_module_version": "1.2.0",
      "model_name": "LayoutModel",
      "state": {}
     },
     "0b7271eb8b7f46d28e2283261d7f4026": {
      "model_module": "@jupyter-widgets/controls",
      "model_module_version": "1.5.0",
      "model_name": "BoundedIntTextModel",
      "state": {
       "description": "Симак Наталья(прокат)",
       "layout": "IPY_MODEL_ce88ea9a0b25491799b3d46573058557",
       "max": 1200000,
       "step": 10000,
       "style": "IPY_MODEL_4f6c3cd913e6401dae4547b280eae9eb",
       "value": 293800
      }
     },
     "0b850bf74fc44d10a6b0b148ab526b83": {
      "model_module": "@jupyter-widgets/controls",
      "model_module_version": "1.5.0",
      "model_name": "ButtonModel",
      "state": {
       "button_style": "success",
       "description": "Загрузить",
       "layout": "IPY_MODEL_206f501a6f4d4c659668d0d7aa4e8e92",
       "style": "IPY_MODEL_4736a7e743e24946b8324fefceedb068"
      }
     },
     "0c0fbcc7fc524f89856cc006109a626e": {
      "model_module": "@jupyter-widgets/base",
      "model_module_version": "1.2.0",
      "model_name": "LayoutModel",
      "state": {}
     },
     "0c4ca51c1b4f40259585acfedaba99df": {
      "model_module": "@jupyter-widgets/controls",
      "model_module_version": "1.5.0",
      "model_name": "CheckboxModel",
      "state": {
       "description": "Дубль",
       "disabled": false,
       "layout": "IPY_MODEL_7f39aca885cf4d60a20c4c8e804fa6a2",
       "style": "IPY_MODEL_a2921a5cb311412cafefefb272c82a9e",
       "value": true
      }
     },
     "0cf7f8123a9b4296866025c7e64660d7": {
      "model_module": "@jupyter-widgets/base",
      "model_module_version": "1.2.0",
      "model_name": "LayoutModel",
      "state": {}
     },
     "0d175de0dc834674bc9441c9158cf700": {
      "model_module": "@jupyter-widgets/controls",
      "model_module_version": "1.5.0",
      "model_name": "DescriptionStyleModel",
      "state": {
       "description_width": ""
      }
     },
     "0d233f10f861468fa6af1aabb9380242": {
      "model_module": "@jupyter-widgets/controls",
      "model_module_version": "1.5.0",
      "model_name": "ButtonModel",
      "state": {
       "button_style": "success",
       "description": "Загрузить",
       "layout": "IPY_MODEL_5afabd712a704784a996201a0c0c8fde",
       "style": "IPY_MODEL_ba99cfdd934e461a940b545d59bf46f9"
      }
     },
     "0d296f166acf4313be0d13a0f77ab7ff": {
      "model_module": "@jupyter-widgets/controls",
      "model_module_version": "1.5.0",
      "model_name": "DescriptionStyleModel",
      "state": {
       "description_width": ""
      }
     },
     "0d399343979d4fb18e5268411c035d3d": {
      "model_module": "@jupyter-widgets/base",
      "model_module_version": "1.2.0",
      "model_name": "LayoutModel",
      "state": {}
     },
     "0e713fca74fc47838eabd19b32d05d73": {
      "model_module": "@jupyter-widgets/base",
      "model_module_version": "1.2.0",
      "model_name": "LayoutModel",
      "state": {}
     },
     "0ea23f3d2c134cfc8658ac22bb85836e": {
      "model_module": "@jupyter-widgets/controls",
      "model_module_version": "1.5.0",
      "model_name": "DescriptionStyleModel",
      "state": {
       "description_width": ""
      }
     },
     "0ed6734c452a404499c89ee3a0e09b93": {
      "model_module": "@jupyter-widgets/controls",
      "model_module_version": "1.5.0",
      "model_name": "DescriptionStyleModel",
      "state": {
       "description_width": ""
      }
     },
     "0ed819a30ed64a948a1eeabf77ffe924": {
      "model_module": "@jupyter-widgets/controls",
      "model_module_version": "1.5.0",
      "model_name": "CheckboxModel",
      "state": {
       "description": "Повторная заявка с другого сайта",
       "disabled": false,
       "layout": "IPY_MODEL_3709225ae77c41e895501349bfd93508",
       "style": "IPY_MODEL_6ba974e910e34b51a39c7fc174b2e0d2",
       "value": true
      }
     },
     "0efd45f879784aab9472420536ae58da": {
      "model_module": "@jupyter-widgets/base",
      "model_module_version": "1.2.0",
      "model_name": "LayoutModel",
      "state": {}
     },
     "0f3dd12b56264a62bf5f924f1a85bbad": {
      "model_module": "@jupyter-widgets/base",
      "model_module_version": "1.2.0",
      "model_name": "LayoutModel",
      "state": {}
     },
     "0f524292d68646e7b5e50e32b5526cb4": {
      "model_module": "@jupyter-widgets/controls",
      "model_module_version": "1.5.0",
      "model_name": "DescriptionStyleModel",
      "state": {
       "description_width": ""
      }
     },
     "0f5643fd585941cc85420411e9da3c0d": {
      "model_module": "@jupyter-widgets/controls",
      "model_module_version": "1.5.0",
      "model_name": "CheckboxModel",
      "state": {
       "description": "Не устроил залог",
       "disabled": false,
       "layout": "IPY_MODEL_eacc11d2aa0a4dadb849ddc70246e39a",
       "style": "IPY_MODEL_22918bd96bc542938d43c7ae328e9dfa",
       "value": false
      }
     },
     "0f7546e984394b02a60afb12c31259b0": {
      "model_module": "@jupyter-widgets/controls",
      "model_module_version": "1.5.0",
      "model_name": "BoundedIntTextModel",
      "state": {
       "description": "Шутова Виктория(прокат)",
       "layout": "IPY_MODEL_e15a76e044be4e1cb6559be0af57a8d9",
       "max": 1200000,
       "step": 10000,
       "style": "IPY_MODEL_7dfe27f8060d46a192afd0ab2e30be90",
       "value": 248600
      }
     },
     "0fa615b8f3b240c5b6e9b370bb2ccaf6": {
      "model_module": "@jupyter-widgets/controls",
      "model_module_version": "1.5.0",
      "model_name": "DescriptionStyleModel",
      "state": {
       "description_width": ""
      }
     },
     "0fcaa8c3c87342918329bb4a8ab001a0": {
      "model_module": "@jupyter-widgets/controls",
      "model_module_version": "1.5.0",
      "model_name": "CheckboxModel",
      "state": {
       "description": "Клиент пропал",
       "disabled": false,
       "layout": "IPY_MODEL_7159b06fcd9d48e883a283ed5a877eb5",
       "style": "IPY_MODEL_b91351debb374332bfebc6304b8e2076",
       "value": false
      }
     },
     "0fe2466ee8424198b6cab70fe6742727": {
      "model_module": "@jupyter-widgets/controls",
      "model_module_version": "1.5.0",
      "model_name": "DescriptionStyleModel",
      "state": {
       "description_width": ""
      }
     },
     "100b785533454d58bef61967f067c542": {
      "model_module": "@jupyter-widgets/base",
      "model_module_version": "1.2.0",
      "model_name": "LayoutModel",
      "state": {}
     },
     "118679180641441fa2eefa9233727018": {
      "model_module": "@jupyter-widgets/base",
      "model_module_version": "1.2.0",
      "model_name": "LayoutModel",
      "state": {}
     },
     "11986e98e5404e8e8e939dc355058366": {
      "model_module": "@jupyter-widgets/controls",
      "model_module_version": "1.5.0",
      "model_name": "DescriptionStyleModel",
      "state": {
       "description_width": ""
      }
     },
     "11c027f12a1742288987d4110cc102bf": {
      "model_module": "@jupyter-widgets/base",
      "model_module_version": "1.2.0",
      "model_name": "LayoutModel",
      "state": {}
     },
     "11e612e32000488b9b3576588ca1ae1e": {
      "model_module": "@jupyter-widgets/controls",
      "model_module_version": "1.5.0",
      "model_name": "DescriptionStyleModel",
      "state": {
       "description_width": ""
      }
     },
     "11ef719a1e214604afcf49e6b3950c9a": {
      "model_module": "@jupyter-widgets/controls",
      "model_module_version": "1.5.0",
      "model_name": "BoundedIntTextModel",
      "state": {
       "description": "Шутова Виктория(прокат)",
       "layout": "IPY_MODEL_4b4be648022347b5adca40d845d20946",
       "max": 1200000,
       "step": 10000,
       "style": "IPY_MODEL_86de6205d9dd4056b6c02acbd70488d9",
       "value": 248600
      }
     },
     "1216def488e54dc988fab722cd956777": {
      "model_module": "@jupyter-widgets/controls",
      "model_module_version": "1.5.0",
      "model_name": "DatePickerModel",
      "state": {
       "description": "Дата1:",
       "disabled": false,
       "layout": "IPY_MODEL_ec75aee287b3479c9bebb091756ec155",
       "style": "IPY_MODEL_3c0da250a6d34170a36996e35f4011a5",
       "value": {
        "date": 17,
        "month": 7,
        "year": 2021
       }
      }
     },
     "124582d2bbe14b7ab514b6ac5c7b7eca": {
      "model_module": "@jupyter-widgets/controls",
      "model_module_version": "1.5.0",
      "model_name": "DescriptionStyleModel",
      "state": {
       "description_width": ""
      }
     },
     "1247b0d841654a3b94218c8b36925ce1": {
      "model_module": "@jupyter-widgets/base",
      "model_module_version": "1.2.0",
      "model_name": "LayoutModel",
      "state": {}
     },
     "12b9e1f02e79488397904637cfdeb3f9": {
      "model_module": "@jupyter-widgets/base",
      "model_module_version": "1.2.0",
      "model_name": "LayoutModel",
      "state": {}
     },
     "12da8001ba934396b10058e92a4ae522": {
      "model_module": "@jupyter-widgets/controls",
      "model_module_version": "1.5.0",
      "model_name": "CheckboxModel",
      "state": {
       "description": "Повторная заявка с другого сайта",
       "disabled": false,
       "layout": "IPY_MODEL_090168f487074031a35e5b0cbde5109e",
       "style": "IPY_MODEL_aa26641954f246fbb7ddb4229ba2bbdb",
       "value": true
      }
     },
     "12e97559c41a437aafd6cf6e6a751230": {
      "model_module": "@jupyter-widgets/controls",
      "model_module_version": "1.5.0",
      "model_name": "BoundedIntTextModel",
      "state": {
       "description": "Чепрасова Ольга(эвент)",
       "layout": "IPY_MODEL_30d6d4c39df847918dceb50157a7e2de",
       "max": 1200000,
       "step": 10000,
       "style": "IPY_MODEL_29d182165bda4ae3b8325e113de88628"
      }
     },
     "131b492d60e3494b8529620a0722836d": {
      "model_module": "@jupyter-widgets/base",
      "model_module_version": "1.2.0",
      "model_name": "LayoutModel",
      "state": {}
     },
     "135a1589999a4c15a9950f1e2c8d8834": {
      "model_module": "@jupyter-widgets/controls",
      "model_module_version": "1.5.0",
      "model_name": "DescriptionStyleModel",
      "state": {
       "description_width": ""
      }
     },
     "1389dde768704ce4bf26d64388dc0751": {
      "model_module": "@jupyter-widgets/controls",
      "model_module_version": "1.5.0",
      "model_name": "BoundedIntTextModel",
      "state": {
       "description": "Симак Наталья(прокат)",
       "layout": "IPY_MODEL_258f461d48364c4dbe2dd3656f384be7",
       "max": 1200000,
       "step": 10000,
       "style": "IPY_MODEL_e9b4c97ab6d64024b3b50316bc216330",
       "value": 293800
      }
     },
     "13e2d4dd464f454b9589c232c07be3e1": {
      "model_module": "@jupyter-widgets/controls",
      "model_module_version": "1.5.0",
      "model_name": "CheckboxModel",
      "state": {
       "description": "Дубль",
       "disabled": false,
       "layout": "IPY_MODEL_7ab126dbbf2b415e9aa9b056864187b6",
       "style": "IPY_MODEL_83ccde527c0b4abaa4f0e0d54f69a36a",
       "value": true
      }
     },
     "149e6ed717c04ca7a71e5ec1d43b11a2": {
      "model_module": "@jupyter-widgets/base",
      "model_module_version": "1.2.0",
      "model_name": "LayoutModel",
      "state": {}
     },
     "15282305ddf94e2bb4614b2701958989": {
      "model_module": "@jupyter-widgets/base",
      "model_module_version": "1.2.0",
      "model_name": "LayoutModel",
      "state": {}
     },
     "1653b174266a411d996f40ba1d0c187f": {
      "model_module": "@jupyter-widgets/controls",
      "model_module_version": "1.5.0",
      "model_name": "DescriptionStyleModel",
      "state": {
       "description_width": ""
      }
     },
     "1665cbc3e333479ab65e7aa769e81f6a": {
      "model_module": "@jupyter-widgets/controls",
      "model_module_version": "1.5.0",
      "model_name": "BoundedIntTextModel",
      "state": {
       "description": "Шутова Виктория(эвент)",
       "layout": "IPY_MODEL_9ac9a8b37e9f4b7f9f02755fe9532c8b",
       "max": 1200000,
       "step": 10000,
       "style": "IPY_MODEL_da89c74257164ff192e7a90c230129fe",
       "value": 157500
      }
     },
     "167d899ee6714093af50eee17ad5b247": {
      "model_module": "@jupyter-widgets/controls",
      "model_module_version": "1.5.0",
      "model_name": "BoundedIntTextModel",
      "state": {
       "description": "Кузнецова Дарья(эвент)",
       "layout": "IPY_MODEL_118679180641441fa2eefa9233727018",
       "max": 1200000,
       "step": 10000,
       "style": "IPY_MODEL_26eee42a2cda48b68c843285e8ae6335",
       "value": 140000
      }
     },
     "16960c5ed2b841acb5033a462a9021aa": {
      "model_module": "@jupyter-widgets/controls",
      "model_module_version": "1.5.0",
      "model_name": "BoundedIntTextModel",
      "state": {
       "description": "Кузнецова Дарья(эвент)",
       "layout": "IPY_MODEL_f6c7a4cdb160459a84deba4bfc4a013e",
       "max": 1200000,
       "step": 10000,
       "style": "IPY_MODEL_64993544daf642bc896850726dbfef93",
       "value": 140000
      }
     },
     "16ee870313084b0d8fee98c8e6ab3740": {
      "model_module": "@jupyter-widgets/controls",
      "model_module_version": "1.5.0",
      "model_name": "CheckboxModel",
      "state": {
       "description": "Нет курьера",
       "disabled": false,
       "layout": "IPY_MODEL_cd7c89be03d0453ca95d8fc3205d47e3",
       "style": "IPY_MODEL_5f2c2c634da44357932e58a6dba83c85",
       "value": false
      }
     },
     "1703621bcd7a49ef88af821ad5467f7b": {
      "model_module": "@jupyter-widgets/controls",
      "model_module_version": "1.5.0",
      "model_name": "BoundedIntTextModel",
      "state": {
       "description": "Кузнецова Дарья(прокат)",
       "layout": "IPY_MODEL_e320af513c3448d29c37c0fb701e6a33",
       "max": 1200000,
       "step": 10000,
       "style": "IPY_MODEL_88c68bfd0a5744cc9e377e9e55653657",
       "value": 192100
      }
     },
     "17083a59c7b14ac7a7313ffc0b34182b": {
      "model_module": "@jupyter-widgets/controls",
      "model_module_version": "1.5.0",
      "model_name": "DescriptionStyleModel",
      "state": {
       "description_width": ""
      }
     },
     "1734044e31b5428ca22f36f7e47d602c": {
      "model_module": "@jupyter-widgets/controls",
      "model_module_version": "1.5.0",
      "model_name": "DescriptionStyleModel",
      "state": {
       "description_width": ""
      }
     },
     "177d0ac2a4ba415487d94b8908fd2224": {
      "model_module": "@jupyter-widgets/controls",
      "model_module_version": "1.5.0",
      "model_name": "DescriptionStyleModel",
      "state": {
       "description_width": ""
      }
     },
     "17b24728c9a44c38b929f713d5748dc2": {
      "model_module": "@jupyter-widgets/controls",
      "model_module_version": "1.5.0",
      "model_name": "DropdownModel",
      "state": {
       "_options_labels": [
        "aug"
       ],
       "description": "План на:",
       "index": 0,
       "layout": "IPY_MODEL_90b65111184d43cf9c39b3b839dede3a",
       "style": "IPY_MODEL_1734044e31b5428ca22f36f7e47d602c"
      }
     },
     "17e2736882ad473b8f9f86f11862f55c": {
      "model_module": "@jupyter-widgets/controls",
      "model_module_version": "1.5.0",
      "model_name": "BoundedIntTextModel",
      "state": {
       "description": "Симак Наталья(прокат)",
       "layout": "IPY_MODEL_c3412676c14443fead579fbe22e67406",
       "max": 1200000,
       "step": 10000,
       "style": "IPY_MODEL_04d270c755b1466ebdc61db9fe4a441b",
       "value": 293800
      }
     },
     "18099328774e470db38fad03e6d73b37": {
      "model_module": "@jupyter-widgets/base",
      "model_module_version": "1.2.0",
      "model_name": "LayoutModel",
      "state": {}
     },
     "1834a4f2f4e44b0889281a32488edd44": {
      "model_module": "@jupyter-widgets/controls",
      "model_module_version": "1.5.0",
      "model_name": "DescriptionStyleModel",
      "state": {
       "description_width": ""
      }
     },
     "183921a26a9d43ae87fef0d02ed8ee4b": {
      "model_module": "@jupyter-widgets/base",
      "model_module_version": "1.2.0",
      "model_name": "LayoutModel",
      "state": {}
     },
     "1870fc6d83004f8590d8b548790aeb2a": {
      "model_module": "@jupyter-widgets/controls",
      "model_module_version": "1.5.0",
      "model_name": "DescriptionStyleModel",
      "state": {
       "description_width": ""
      }
     },
     "18773e8251d948dca8392b87dec57d75": {
      "model_module": "@jupyter-widgets/controls",
      "model_module_version": "1.5.0",
      "model_name": "DescriptionStyleModel",
      "state": {
       "description_width": ""
      }
     },
     "18c5596ce540419f835f7897987445fd": {
      "model_module": "@jupyter-widgets/base",
      "model_module_version": "1.2.0",
      "model_name": "LayoutModel",
      "state": {}
     },
     "18d70c9e667749e890ac06bcf0c87a4a": {
      "model_module": "@jupyter-widgets/base",
      "model_module_version": "1.2.0",
      "model_name": "LayoutModel",
      "state": {}
     },
     "19355336e9884e5da2a470078ef44541": {
      "model_module": "@jupyter-widgets/controls",
      "model_module_version": "1.5.0",
      "model_name": "CheckboxModel",
      "state": {
       "description": "Закрыт офис",
       "disabled": false,
       "layout": "IPY_MODEL_c7d00baf2e7646828028f17acb03b5c0",
       "style": "IPY_MODEL_c27445267a8f41b48eb24a90b19e40ff",
       "value": false
      }
     },
     "19ae25747bf94f388e6264d0d9819f40": {
      "model_module": "@jupyter-widgets/controls",
      "model_module_version": "1.5.0",
      "model_name": "DescriptionStyleModel",
      "state": {
       "description_width": ""
      }
     },
     "19e40b431095400d9e92d2a9bbf086bb": {
      "model_module": "@jupyter-widgets/controls",
      "model_module_version": "1.5.0",
      "model_name": "CheckboxModel",
      "state": {
       "description": "Не устроил залог",
       "disabled": false,
       "layout": "IPY_MODEL_9bb19bf9e71d41bbb708b606af16f75c",
       "style": "IPY_MODEL_486c6acb35c8403ca51b98af7441f3af",
       "value": false
      }
     },
     "19f4a29759924f5f9cf4596fd555cc80": {
      "model_module": "@jupyter-widgets/controls",
      "model_module_version": "1.5.0",
      "model_name": "DescriptionStyleModel",
      "state": {
       "description_width": ""
      }
     },
     "1a511f8ad24044d0981d2b7b1ae39896": {
      "model_module": "@jupyter-widgets/controls",
      "model_module_version": "1.5.0",
      "model_name": "DescriptionStyleModel",
      "state": {
       "description_width": ""
      }
     },
     "1a5da1bb189547eda6a503d411499a54": {
      "model_module": "@jupyter-widgets/controls",
      "model_module_version": "1.5.0",
      "model_name": "DatePickerModel",
      "state": {
       "description": "Дата1:",
       "disabled": false,
       "layout": "IPY_MODEL_18c5596ce540419f835f7897987445fd",
       "style": "IPY_MODEL_0ed6734c452a404499c89ee3a0e09b93",
       "value": {
        "date": 17,
        "month": 7,
        "year": 2021
       }
      }
     },
     "1a8540ff81d54bd0aa8598c019c57347": {
      "model_module": "@jupyter-widgets/base",
      "model_module_version": "1.2.0",
      "model_name": "LayoutModel",
      "state": {}
     },
     "1a87f8c582c14a47b8afc5fdce4392b4": {
      "model_module": "@jupyter-widgets/controls",
      "model_module_version": "1.5.0",
      "model_name": "BoundedIntTextModel",
      "state": {
       "description": "1 Стажер(прокат)",
       "layout": "IPY_MODEL_e2ee67b921d8456b872c93df0194af92",
       "max": 1200000,
       "step": 10000,
       "style": "IPY_MODEL_11e612e32000488b9b3576588ca1ae1e",
       "value": 214700
      }
     },
     "1a8a515b238041e4823780abb4c11831": {
      "model_module": "@jupyter-widgets/base",
      "model_module_version": "1.2.0",
      "model_name": "LayoutModel",
      "state": {}
     },
     "1aaa0f21513d481391857bfb2c89e317": {
      "model_module": "@jupyter-widgets/controls",
      "model_module_version": "1.5.0",
      "model_name": "DescriptionStyleModel",
      "state": {
       "description_width": ""
      }
     },
     "1aba37037b5347fa86efdeef234ff2fd": {
      "model_module": "@jupyter-widgets/controls",
      "model_module_version": "1.5.0",
      "model_name": "CheckboxModel",
      "state": {
       "description": "Мусор / Спам",
       "disabled": false,
       "layout": "IPY_MODEL_5ee769dcdf5a44bea2f41ea72aa07c75",
       "style": "IPY_MODEL_6f7e2de6007f4d42b579689fa7544235",
       "value": true
      }
     },
     "1b3a1478a0384455ad200eb2515208b6": {
      "model_module": "@jupyter-widgets/controls",
      "model_module_version": "1.5.0",
      "model_name": "CheckboxModel",
      "state": {
       "description": "Отсутствует техника",
       "disabled": false,
       "layout": "IPY_MODEL_8c9123f22a9949a895b7c9e16de60c52",
       "style": "IPY_MODEL_785eea47aaec4bc6837746ec6e5a7311",
       "value": true
      }
     },
     "1bedccc7865c4808b8c3f9e1f071e16c": {
      "model_module": "@jupyter-widgets/controls",
      "model_module_version": "1.5.0",
      "model_name": "DescriptionStyleModel",
      "state": {
       "description_width": ""
      }
     },
     "1cb764c77e234f29aed85da48876a297": {
      "model_module": "@jupyter-widgets/base",
      "model_module_version": "1.2.0",
      "model_name": "LayoutModel",
      "state": {}
     },
     "1ce815bcb88b40009ec692499424e097": {
      "model_module": "@jupyter-widgets/controls",
      "model_module_version": "1.5.0",
      "model_name": "CheckboxModel",
      "state": {
       "description": "Закрыт офис",
       "disabled": false,
       "layout": "IPY_MODEL_7c55aa1e107a4038a8ef73713e8d549a",
       "style": "IPY_MODEL_5c69c68a9469444386793becce6fa4a3",
       "value": false
      }
     },
     "1d2b77585974442a950afc84f2207ea7": {
      "model_module": "@jupyter-widgets/base",
      "model_module_version": "1.2.0",
      "model_name": "LayoutModel",
      "state": {}
     },
     "1da2158625744ca698f6148b6644af8a": {
      "model_module": "@jupyter-widgets/controls",
      "model_module_version": "1.5.0",
      "model_name": "BoundedIntTextModel",
      "state": {
       "description": "Чепрасова Ольга(прокат)",
       "layout": "IPY_MODEL_4781d342464c4973a746ab03fe12c28a",
       "max": 1200000,
       "step": 10000,
       "style": "IPY_MODEL_4caaaf37a1d54b72af4542cfcd5f898c",
       "value": 180800
      }
     },
     "1dbc8697b11a45bd9550d7053a7a8877": {
      "model_module": "@jupyter-widgets/base",
      "model_module_version": "1.2.0",
      "model_name": "LayoutModel",
      "state": {}
     },
     "1dd2c7d9adf64cc1ae2cd2d2f81371c5": {
      "model_module": "@jupyter-widgets/base",
      "model_module_version": "1.2.0",
      "model_name": "LayoutModel",
      "state": {}
     },
     "1e498484e3814935aa06f75d7dd4c201": {
      "model_module": "@jupyter-widgets/controls",
      "model_module_version": "1.5.0",
      "model_name": "BoundedIntTextModel",
      "state": {
       "description": "Кузнецова Дарья(эвент)",
       "layout": "IPY_MODEL_e7a513ccb1404b6998f391300272bffa",
       "max": 1200000,
       "step": 10000,
       "style": "IPY_MODEL_4ee5f7a132b3461fb3f7feb5d34a972a",
       "value": 140000
      }
     },
     "1efe933a2f7f4ee4948804e471846697": {
      "model_module": "@jupyter-widgets/base",
      "model_module_version": "1.2.0",
      "model_name": "LayoutModel",
      "state": {}
     },
     "1f048080576b4b2fba53bdad6f3f7989": {
      "model_module": "@jupyter-widgets/base",
      "model_module_version": "1.2.0",
      "model_name": "LayoutModel",
      "state": {}
     },
     "1f0cbfc1b5f24997a9039a3dea9f2296": {
      "model_module": "@jupyter-widgets/controls",
      "model_module_version": "1.5.0",
      "model_name": "DescriptionStyleModel",
      "state": {
       "description_width": ""
      }
     },
     "1f6443009e0b4725980d49fb62b170d8": {
      "model_module": "@jupyter-widgets/controls",
      "model_module_version": "1.5.0",
      "model_name": "DescriptionStyleModel",
      "state": {
       "description_width": ""
      }
     },
     "1f6f39b7dc4f4adcbc746a9db3fe06d8": {
      "model_module": "@jupyter-widgets/controls",
      "model_module_version": "1.5.0",
      "model_name": "DescriptionStyleModel",
      "state": {
       "description_width": ""
      }
     },
     "1ffb5a09fff5487f9d3e4f3e72ba5105": {
      "model_module": "@jupyter-widgets/base",
      "model_module_version": "1.2.0",
      "model_name": "LayoutModel",
      "state": {}
     },
     "206f501a6f4d4c659668d0d7aa4e8e92": {
      "model_module": "@jupyter-widgets/base",
      "model_module_version": "1.2.0",
      "model_name": "LayoutModel",
      "state": {}
     },
     "211e31cbf274494ea972fad2b4dab14d": {
      "model_module": "@jupyter-widgets/base",
      "model_module_version": "1.2.0",
      "model_name": "LayoutModel",
      "state": {}
     },
     "21648a797d25411195c2cf1a8f4dc078": {
      "model_module": "@jupyter-widgets/controls",
      "model_module_version": "1.5.0",
      "model_name": "ButtonModel",
      "state": {
       "button_style": "success",
       "description": "Загрузить",
       "layout": "IPY_MODEL_82410f7ba76f479588d20a41bbac2003",
       "style": "IPY_MODEL_a38a614a8e1645d8ac047be924262a58"
      }
     },
     "223796ca6269472d92cab04fa0905cf4": {
      "model_module": "@jupyter-widgets/controls",
      "model_module_version": "1.5.0",
      "model_name": "CheckboxModel",
      "state": {
       "description": "Отсутствует техника",
       "disabled": false,
       "layout": "IPY_MODEL_429eba39e4074af09378de25ddcfa688",
       "style": "IPY_MODEL_65eebe2b7679494fa6659c349b74e5ef",
       "value": true
      }
     },
     "22918bd96bc542938d43c7ae328e9dfa": {
      "model_module": "@jupyter-widgets/controls",
      "model_module_version": "1.5.0",
      "model_name": "DescriptionStyleModel",
      "state": {
       "description_width": ""
      }
     },
     "22b4e73476254de0b8e449f1daabd0c9": {
      "model_module": "@jupyter-widgets/base",
      "model_module_version": "1.2.0",
      "model_name": "LayoutModel",
      "state": {}
     },
     "239426881b2c43b08a31dcc8ca9b7575": {
      "model_module": "@jupyter-widgets/base",
      "model_module_version": "1.2.0",
      "model_name": "LayoutModel",
      "state": {}
     },
     "23b3e124a51e4218a2209c71c1a58b17": {
      "model_module": "@jupyter-widgets/base",
      "model_module_version": "1.2.0",
      "model_name": "LayoutModel",
      "state": {}
     },
     "23b701b5eb2f4083862f729535f3eeaf": {
      "model_module": "@jupyter-widgets/controls",
      "model_module_version": "1.5.0",
      "model_name": "BoundedIntTextModel",
      "state": {
       "description": "Симак Наталья(прокат)",
       "layout": "IPY_MODEL_d89561bba16d4be5be310029844bf907",
       "max": 1200000,
       "step": 10000,
       "style": "IPY_MODEL_0ea23f3d2c134cfc8658ac22bb85836e",
       "value": 293800
      }
     },
     "23c3dae07a484cac933015986a4965f8": {
      "model_module": "@jupyter-widgets/base",
      "model_module_version": "1.2.0",
      "model_name": "LayoutModel",
      "state": {}
     },
     "23d982e8c275493bb97c171b09e8f347": {
      "model_module": "@jupyter-widgets/controls",
      "model_module_version": "1.5.0",
      "model_name": "DescriptionStyleModel",
      "state": {
       "description_width": ""
      }
     },
     "23d9a8a162094970929819c5a5f365d7": {
      "model_module": "@jupyter-widgets/base",
      "model_module_version": "1.2.0",
      "model_name": "LayoutModel",
      "state": {}
     },
     "23ffff58ec1a41539a0234535671ef4d": {
      "model_module": "@jupyter-widgets/controls",
      "model_module_version": "1.5.0",
      "model_name": "BoundedIntTextModel",
      "state": {
       "description": "Симак Наталья(прокат)",
       "layout": "IPY_MODEL_739903238d57456d9295b3857af1d75a",
       "max": 1200000,
       "step": 10000,
       "style": "IPY_MODEL_d05d76ddbcf9410a90d111c23095d386",
       "value": 293800
      }
     },
     "2419bd4d2a59417ba653e42bb6f52f23": {
      "model_module": "@jupyter-widgets/base",
      "model_module_version": "1.2.0",
      "model_name": "LayoutModel",
      "state": {}
     },
     "244422570b754ab6a15af69ce8fbab65": {
      "model_module": "@jupyter-widgets/controls",
      "model_module_version": "1.5.0",
      "model_name": "BoundedIntTextModel",
      "state": {
       "description": "1 Стажер(эвент)",
       "layout": "IPY_MODEL_42298f3aa3ed46fd98da1ba7750eec13",
       "max": 1200000,
       "step": 10000,
       "style": "IPY_MODEL_99f071a843e8403a94dd6c892f354621"
      }
     },
     "2447e7d9ff3f4cfbbe0b6015d89007c3": {
      "model_module": "@jupyter-widgets/base",
      "model_module_version": "1.2.0",
      "model_name": "LayoutModel",
      "state": {}
     },
     "2493fb22b2114fd9a7a0638adc017b71": {
      "model_module": "@jupyter-widgets/base",
      "model_module_version": "1.2.0",
      "model_name": "LayoutModel",
      "state": {}
     },
     "258f461d48364c4dbe2dd3656f384be7": {
      "model_module": "@jupyter-widgets/base",
      "model_module_version": "1.2.0",
      "model_name": "LayoutModel",
      "state": {}
     },
     "25f4a0fe19684ba897ce501c40b95bb3": {
      "model_module": "@jupyter-widgets/controls",
      "model_module_version": "1.5.0",
      "model_name": "DescriptionStyleModel",
      "state": {
       "description_width": ""
      }
     },
     "2645d3f747884f5889301e8c93424e92": {
      "model_module": "@jupyter-widgets/controls",
      "model_module_version": "1.5.0",
      "model_name": "DatePickerModel",
      "state": {
       "description": "Дата2:",
       "disabled": false,
       "layout": "IPY_MODEL_62deb290a74349388cce40f60c3c7736",
       "style": "IPY_MODEL_2ab2f08f9fb042c5b18752eb0528f67c",
       "value": {
        "date": 17,
        "month": 7,
        "year": 2021
       }
      }
     },
     "265b1d4b9d5d4b58bf7bacba023ac0cf": {
      "model_module": "@jupyter-widgets/controls",
      "model_module_version": "1.5.0",
      "model_name": "DatePickerModel",
      "state": {
       "description": "Дата2:",
       "disabled": false,
       "layout": "IPY_MODEL_3cbd8f3f1d1e4edab6c38e50ce04d9e0",
       "style": "IPY_MODEL_a469e0cd1f1e4811932751b9c1a06a3f",
       "value": {
        "date": 17,
        "month": 7,
        "year": 2021
       }
      }
     },
     "268f753f09894810b4af05f10dff8f2a": {
      "model_module": "@jupyter-widgets/base",
      "model_module_version": "1.2.0",
      "model_name": "LayoutModel",
      "state": {}
     },
     "26908954848d4903bb899c3d49362631": {
      "model_module": "@jupyter-widgets/controls",
      "model_module_version": "1.5.0",
      "model_name": "BoundedIntTextModel",
      "state": {
       "description": "Кузнецова Дарья(эвент)",
       "layout": "IPY_MODEL_eb425e6c060245ffb760ccb3942dd028",
       "max": 1200000,
       "step": 10000,
       "style": "IPY_MODEL_7bcda74849694091bbec838636dfc8a5",
       "value": 140000
      }
     },
     "26d4e55d246f4fa9952c25230313afe2": {
      "model_module": "@jupyter-widgets/controls",
      "model_module_version": "1.5.0",
      "model_name": "CheckboxModel",
      "state": {
       "description": "Не устроил залог",
       "disabled": false,
       "layout": "IPY_MODEL_8b5340cf509b4e93886a434b1456862a",
       "style": "IPY_MODEL_832721469bf04360be4283677bb30918",
       "value": false
      }
     },
     "26eee42a2cda48b68c843285e8ae6335": {
      "model_module": "@jupyter-widgets/controls",
      "model_module_version": "1.5.0",
      "model_name": "DescriptionStyleModel",
      "state": {
       "description_width": ""
      }
     },
     "27443ec3557746a8abd56c33218fb8a8": {
      "model_module": "@jupyter-widgets/base",
      "model_module_version": "1.2.0",
      "model_name": "LayoutModel",
      "state": {}
     },
     "27a52d3dbac54875b9c27573145d101c": {
      "model_module": "@jupyter-widgets/base",
      "model_module_version": "1.2.0",
      "model_name": "LayoutModel",
      "state": {}
     },
     "27be5cc99e484d7c92a8b707b0904fd6": {
      "model_module": "@jupyter-widgets/base",
      "model_module_version": "1.2.0",
      "model_name": "LayoutModel",
      "state": {}
     },
     "27f0358f31384bb7a73b4193f2db1a11": {
      "model_module": "@jupyter-widgets/controls",
      "model_module_version": "1.5.0",
      "model_name": "CheckboxModel",
      "state": {
       "description": "Повторная заявка с другого сайта",
       "disabled": false,
       "layout": "IPY_MODEL_bb4e936e1d764b6ba36cbe23ffad9504",
       "style": "IPY_MODEL_5d78e26a24c8436b9fa88e15bd5849c3",
       "value": true
      }
     },
     "281b296ea5b345bcb34e19c20ece418c": {
      "model_module": "@jupyter-widgets/controls",
      "model_module_version": "1.5.0",
      "model_name": "BoundedIntTextModel",
      "state": {
       "description": "Кузнецова Дарья(прокат)",
       "layout": "IPY_MODEL_1ffb5a09fff5487f9d3e4f3e72ba5105",
       "max": 1200000,
       "step": 10000,
       "style": "IPY_MODEL_135a1589999a4c15a9950f1e2c8d8834",
       "value": 192100
      }
     },
     "2823b68afbe942a4b999ff3cb6e7ae5d": {
      "model_module": "@jupyter-widgets/controls",
      "model_module_version": "1.5.0",
      "model_name": "DescriptionStyleModel",
      "state": {
       "description_width": ""
      }
     },
     "2827ce46cba44d2bb66109e1db7fc680": {
      "model_module": "@jupyter-widgets/controls",
      "model_module_version": "1.5.0",
      "model_name": "DescriptionStyleModel",
      "state": {
       "description_width": ""
      }
     },
     "28b614fef70f44f892b0dc7436b50de3": {
      "model_module": "@jupyter-widgets/controls",
      "model_module_version": "1.5.0",
      "model_name": "CheckboxModel",
      "state": {
       "description": "Закрыт офис",
       "disabled": false,
       "layout": "IPY_MODEL_a4f7821254ff4f21b72ab935bae1322b",
       "style": "IPY_MODEL_487e6dbb134d4c1ab2cf7a475d856259",
       "value": false
      }
     },
     "28c8638eb77d40c1a8974f0580e954a0": {
      "model_module": "@jupyter-widgets/base",
      "model_module_version": "1.2.0",
      "model_name": "LayoutModel",
      "state": {}
     },
     "28e68c62b2334219bbb8ff0ea9b404ce": {
      "model_module": "@jupyter-widgets/controls",
      "model_module_version": "1.5.0",
      "model_name": "ButtonModel",
      "state": {
       "button_style": "success",
       "description": "Загрузить",
       "layout": "IPY_MODEL_353f9646e3c248c0b7a5944eadd6f15d",
       "style": "IPY_MODEL_56a0f64c2f8b4d7a872806d12cb5aa1f"
      }
     },
     "291b887c79df455eb40ef700e3d2aad7": {
      "model_module": "@jupyter-widgets/controls",
      "model_module_version": "1.5.0",
      "model_name": "DropdownModel",
      "state": {
       "_options_labels": [
        "aug"
       ],
       "description": "План на:",
       "index": 0,
       "layout": "IPY_MODEL_57f5f9ed7ebd4156b895e3d465211267",
       "style": "IPY_MODEL_8a53fc168e4842f9b68a393aeac847b6"
      }
     },
     "292cfc834dfd45b8b2a467086c5c1f6c": {
      "model_module": "@jupyter-widgets/controls",
      "model_module_version": "1.5.0",
      "model_name": "DescriptionStyleModel",
      "state": {
       "description_width": ""
      }
     },
     "29d182165bda4ae3b8325e113de88628": {
      "model_module": "@jupyter-widgets/controls",
      "model_module_version": "1.5.0",
      "model_name": "DescriptionStyleModel",
      "state": {
       "description_width": ""
      }
     },
     "29db8b58af1a46e3a50947c0dd090c6e": {
      "model_module": "@jupyter-widgets/base",
      "model_module_version": "1.2.0",
      "model_name": "LayoutModel",
      "state": {}
     },
     "29e9bb8904ce4decb445530abba79768": {
      "model_module": "@jupyter-widgets/controls",
      "model_module_version": "1.5.0",
      "model_name": "DescriptionStyleModel",
      "state": {
       "description_width": ""
      }
     },
     "2a87b19fcff24438b1c1e471d7d71395": {
      "model_module": "@jupyter-widgets/controls",
      "model_module_version": "1.5.0",
      "model_name": "DescriptionStyleModel",
      "state": {
       "description_width": ""
      }
     },
     "2ab2f08f9fb042c5b18752eb0528f67c": {
      "model_module": "@jupyter-widgets/controls",
      "model_module_version": "1.5.0",
      "model_name": "DescriptionStyleModel",
      "state": {
       "description_width": ""
      }
     },
     "2b4a593465954aa5b424dbe5efde898e": {
      "model_module": "@jupyter-widgets/base",
      "model_module_version": "1.2.0",
      "model_name": "LayoutModel",
      "state": {}
     },
     "2bbb9f622cc64ca1b79e7cf368371f67": {
      "model_module": "@jupyter-widgets/controls",
      "model_module_version": "1.5.0",
      "model_name": "DescriptionStyleModel",
      "state": {
       "description_width": ""
      }
     },
     "2bda2e049e8f4aa1b76f45e8bb1bcf38": {
      "model_module": "@jupyter-widgets/base",
      "model_module_version": "1.2.0",
      "model_name": "LayoutModel",
      "state": {}
     },
     "2c008f6f806143858dd6012e6377a86a": {
      "model_module": "@jupyter-widgets/controls",
      "model_module_version": "1.5.0",
      "model_name": "BoundedIntTextModel",
      "state": {
       "description": "Шутова Виктория(эвент)",
       "layout": "IPY_MODEL_b7fd164f104d4d60b6b2cfb0969b0452",
       "max": 1200000,
       "step": 10000,
       "style": "IPY_MODEL_70368b64e25d4165a44ac1791f6eeff5",
       "value": 157500
      }
     },
     "2c2202f5412b4c7aab8a3eb255d9d79c": {
      "model_module": "@jupyter-widgets/base",
      "model_module_version": "1.2.0",
      "model_name": "LayoutModel",
      "state": {}
     },
     "2c36cbb4074a4e3abfcd48295a7d453c": {
      "model_module": "@jupyter-widgets/controls",
      "model_module_version": "1.5.0",
      "model_name": "BoundedIntTextModel",
      "state": {
       "description": "Шутова Виктория(прокат)",
       "layout": "IPY_MODEL_aa78c498dfd84408ab2ee5d306651020",
       "max": 1200000,
       "step": 10000,
       "style": "IPY_MODEL_0d296f166acf4313be0d13a0f77ab7ff",
       "value": 248600
      }
     },
     "2c428c7678914efdaab1909bdb2133ac": {
      "model_module": "@jupyter-widgets/controls",
      "model_module_version": "1.5.0",
      "model_name": "DescriptionStyleModel",
      "state": {
       "description_width": ""
      }
     },
     "2c87c309545140baa5790099d2fc5e94": {
      "model_module": "@jupyter-widgets/base",
      "model_module_version": "1.2.0",
      "model_name": "LayoutModel",
      "state": {}
     },
     "2c8953f0ad6f48dba12f7b49c962d133": {
      "model_module": "@jupyter-widgets/controls",
      "model_module_version": "1.5.0",
      "model_name": "DescriptionStyleModel",
      "state": {
       "description_width": ""
      }
     },
     "2ca29e421f5d4c9b9c066876420d098e": {
      "model_module": "@jupyter-widgets/controls",
      "model_module_version": "1.5.0",
      "model_name": "DescriptionStyleModel",
      "state": {
       "description_width": ""
      }
     },
     "2d9971c42e92431185f5c715907a880f": {
      "model_module": "@jupyter-widgets/base",
      "model_module_version": "1.2.0",
      "model_name": "LayoutModel",
      "state": {}
     },
     "2dceb677de35494ba3b55cde4352942d": {
      "model_module": "@jupyter-widgets/base",
      "model_module_version": "1.2.0",
      "model_name": "LayoutModel",
      "state": {}
     },
     "2e8ade48189143a1ae187c1ca07a982e": {
      "model_module": "@jupyter-widgets/controls",
      "model_module_version": "1.5.0",
      "model_name": "DescriptionStyleModel",
      "state": {
       "description_width": ""
      }
     },
     "2f06b5edaea443bba3dc1c883a89bcd3": {
      "model_module": "@jupyter-widgets/controls",
      "model_module_version": "1.5.0",
      "model_name": "DropdownModel",
      "state": {
       "_options_labels": [
        "aug"
       ],
       "description": "План на:",
       "index": 0,
       "layout": "IPY_MODEL_577983923da84338b30ef76052d0e1e1",
       "style": "IPY_MODEL_02e0a35d910b4980b92a4640298b975f"
      }
     },
     "2f5c6af9b49945f6b74f6f6be9f6e706": {
      "model_module": "@jupyter-widgets/controls",
      "model_module_version": "1.5.0",
      "model_name": "CheckboxModel",
      "state": {
       "description": "Дорого",
       "disabled": false,
       "layout": "IPY_MODEL_f7c3cb46fc8b432796e57284bca5e338",
       "style": "IPY_MODEL_b01c1ec06cb14225a5dc2434d42d0096",
       "value": false
      }
     },
     "2fc405fbebcc45e98d672ac4eaccf5a8": {
      "model_module": "@jupyter-widgets/base",
      "model_module_version": "1.2.0",
      "model_name": "LayoutModel",
      "state": {}
     },
     "2ff4ba1589cc4371a6238f060f99ab01": {
      "model_module": "@jupyter-widgets/controls",
      "model_module_version": "1.5.0",
      "model_name": "BoundedIntTextModel",
      "state": {
       "description": "Чепрасова Ольга(прокат)",
       "layout": "IPY_MODEL_0cf7f8123a9b4296866025c7e64660d7",
       "max": 1200000,
       "step": 10000,
       "style": "IPY_MODEL_9d0d37952d2640daad92db7dddf0c030",
       "value": 180800
      }
     },
     "2ff514019dd240e0b81fa5d6c3effec8": {
      "model_module": "@jupyter-widgets/controls",
      "model_module_version": "1.5.0",
      "model_name": "DescriptionStyleModel",
      "state": {
       "description_width": ""
      }
     },
     "30b764dacbab47eb8d1527b958835b25": {
      "model_module": "@jupyter-widgets/controls",
      "model_module_version": "1.5.0",
      "model_name": "DescriptionStyleModel",
      "state": {
       "description_width": ""
      }
     },
     "30b8c064783349ccb40c9fe21d496e0c": {
      "model_module": "@jupyter-widgets/controls",
      "model_module_version": "1.5.0",
      "model_name": "DescriptionStyleModel",
      "state": {
       "description_width": ""
      }
     },
     "30d6d4c39df847918dceb50157a7e2de": {
      "model_module": "@jupyter-widgets/base",
      "model_module_version": "1.2.0",
      "model_name": "LayoutModel",
      "state": {}
     },
     "30eb2ce79be649abbcc83aec04f4be0b": {
      "model_module": "@jupyter-widgets/controls",
      "model_module_version": "1.5.0",
      "model_name": "DatePickerModel",
      "state": {
       "description": "Дата2:",
       "disabled": false,
       "layout": "IPY_MODEL_fba3835718c740eeaa794c17b69b4c03",
       "style": "IPY_MODEL_6899a539f55e4f5bad7d2f8e0811c864",
       "value": {
        "date": 17,
        "month": 7,
        "year": 2021
       }
      }
     },
     "319761f6d3664d14a2ff03da4b9eb8d0": {
      "model_module": "@jupyter-widgets/controls",
      "model_module_version": "1.5.0",
      "model_name": "BoundedIntTextModel",
      "state": {
       "description": "Симак Наталья(эвент)",
       "layout": "IPY_MODEL_6a41363ddc044f9b8624265b9b3bfa3c",
       "max": 1200000,
       "step": 10000,
       "style": "IPY_MODEL_c39ab5e53a8e44bc8f652c0b46592d2e",
       "value": 52500
      }
     },
     "324b77d0165a40c79419875092bedb0b": {
      "model_module": "@jupyter-widgets/base",
      "model_module_version": "1.2.0",
      "model_name": "LayoutModel",
      "state": {}
     },
     "3257c261b4d7436085447b96916b1765": {
      "model_module": "@jupyter-widgets/controls",
      "model_module_version": "1.5.0",
      "model_name": "DescriptionStyleModel",
      "state": {
       "description_width": ""
      }
     },
     "3260bf25fe974a5497bb818bdaacdcdc": {
      "model_module": "@jupyter-widgets/controls",
      "model_module_version": "1.5.0",
      "model_name": "DescriptionStyleModel",
      "state": {
       "description_width": ""
      }
     },
     "329d777410b743ec8eb58d2add1b118c": {
      "model_module": "@jupyter-widgets/controls",
      "model_module_version": "1.5.0",
      "model_name": "DescriptionStyleModel",
      "state": {
       "description_width": ""
      }
     },
     "32bb9789dda14cc194ab86af88bc1fad": {
      "model_module": "@jupyter-widgets/base",
      "model_module_version": "1.2.0",
      "model_name": "LayoutModel",
      "state": {}
     },
     "33c2faa55d3b451fb84adaafedaf532e": {
      "model_module": "@jupyter-widgets/base",
      "model_module_version": "1.2.0",
      "model_name": "LayoutModel",
      "state": {}
     },
     "341b3c6d9493439fbba0241bdf72a86c": {
      "model_module": "@jupyter-widgets/base",
      "model_module_version": "1.2.0",
      "model_name": "LayoutModel",
      "state": {}
     },
     "34233cfe83a04edb9ebacc0f4f579f2b": {
      "model_module": "@jupyter-widgets/base",
      "model_module_version": "1.2.0",
      "model_name": "LayoutModel",
      "state": {}
     },
     "3455b2e22b14436d86e1067985dc45fe": {
      "model_module": "@jupyter-widgets/controls",
      "model_module_version": "1.5.0",
      "model_name": "CheckboxModel",
      "state": {
       "description": "Повторная заявка с другого сайта",
       "disabled": false,
       "layout": "IPY_MODEL_85e673311c7c44a28cd7f2533282e473",
       "style": "IPY_MODEL_9fcf5702b5b145deb4e8237409015210",
       "value": true
      }
     },
     "34629190bf7b4f31be7d0b43458ad2b1": {
      "model_module": "@jupyter-widgets/base",
      "model_module_version": "1.2.0",
      "model_name": "LayoutModel",
      "state": {}
     },
     "353f9646e3c248c0b7a5944eadd6f15d": {
      "model_module": "@jupyter-widgets/base",
      "model_module_version": "1.2.0",
      "model_name": "LayoutModel",
      "state": {}
     },
     "36116c8d69d04651ac914cb47935f9fe": {
      "model_module": "@jupyter-widgets/controls",
      "model_module_version": "1.5.0",
      "model_name": "DatePickerModel",
      "state": {
       "description": "Дата2:",
       "disabled": false,
       "layout": "IPY_MODEL_472bf33282444df6853a3d7c8da7c57d",
       "style": "IPY_MODEL_9c46a80d6a2c4aec98c3ec46e1762a47",
       "value": {
        "date": 17,
        "month": 7,
        "year": 2021
       }
      }
     },
     "36cc78dcd2ba42cf8a5d2c482bb784f4": {
      "model_module": "@jupyter-widgets/base",
      "model_module_version": "1.2.0",
      "model_name": "LayoutModel",
      "state": {}
     },
     "3709225ae77c41e895501349bfd93508": {
      "model_module": "@jupyter-widgets/base",
      "model_module_version": "1.2.0",
      "model_name": "LayoutModel",
      "state": {}
     },
     "370d4b9017c14f61bd283b69e656648e": {
      "model_module": "@jupyter-widgets/controls",
      "model_module_version": "1.5.0",
      "model_name": "DescriptionStyleModel",
      "state": {
       "description_width": ""
      }
     },
     "38050891f52f42a1a1f3ca8a696979d2": {
      "model_module": "@jupyter-widgets/controls",
      "model_module_version": "1.5.0",
      "model_name": "DescriptionStyleModel",
      "state": {
       "description_width": ""
      }
     },
     "38252930632e4aaa9d165a127ae74b34": {
      "model_module": "@jupyter-widgets/controls",
      "model_module_version": "1.5.0",
      "model_name": "DescriptionStyleModel",
      "state": {
       "description_width": ""
      }
     },
     "38a77f42c9d54fa79a3e77d0a490b811": {
      "model_module": "@jupyter-widgets/controls",
      "model_module_version": "1.5.0",
      "model_name": "DescriptionStyleModel",
      "state": {
       "description_width": ""
      }
     },
     "38adbb57f73a47e88668cb07d8ce70ef": {
      "model_module": "@jupyter-widgets/controls",
      "model_module_version": "1.5.0",
      "model_name": "DescriptionStyleModel",
      "state": {
       "description_width": ""
      }
     },
     "38ba5e0767964c8983b2fa729d3dcf65": {
      "model_module": "@jupyter-widgets/controls",
      "model_module_version": "1.5.0",
      "model_name": "CheckboxModel",
      "state": {
       "description": "Отсутствует техника",
       "disabled": false,
       "layout": "IPY_MODEL_59506b073f3144eba66a56f463f5edd1",
       "style": "IPY_MODEL_a08a5db2b81d4c759fe3ed1083228467",
       "value": true
      }
     },
     "38bcbff5e5144cc193fac843cc2b0d3a": {
      "model_module": "@jupyter-widgets/controls",
      "model_module_version": "1.5.0",
      "model_name": "CheckboxModel",
      "state": {
       "description": "Клиент пропал",
       "disabled": false,
       "layout": "IPY_MODEL_32bb9789dda14cc194ab86af88bc1fad",
       "style": "IPY_MODEL_55edb7f6b22b43b2a108c076c348a870",
       "value": false
      }
     },
     "38c9b9be2b164e10a12832c1f2fb5b6c": {
      "model_module": "@jupyter-widgets/controls",
      "model_module_version": "1.5.0",
      "model_name": "DatePickerModel",
      "state": {
       "description": "Дата1:",
       "disabled": false,
       "layout": "IPY_MODEL_75dc318a0a4e4959b8489ea609c12fbc",
       "style": "IPY_MODEL_9d09c2ecd6924cda839d71aa79c44c32",
       "value": {
        "date": 17,
        "month": 7,
        "year": 2021
       }
      }
     },
     "38ddecc2b9b04edb969f3d8dace84b8c": {
      "model_module": "@jupyter-widgets/controls",
      "model_module_version": "1.5.0",
      "model_name": "DatePickerModel",
      "state": {
       "description": "Дата2:",
       "disabled": false,
       "layout": "IPY_MODEL_40b9940b08454bdbaec79042687eff12",
       "style": "IPY_MODEL_6c7301c626b54802a5056be5d11e4da8",
       "value": {
        "date": 17,
        "month": 7,
        "year": 2021
       }
      }
     },
     "38fba05d1f9c408ab14221c16a073b87": {
      "model_module": "@jupyter-widgets/controls",
      "model_module_version": "1.5.0",
      "model_name": "DescriptionStyleModel",
      "state": {
       "description_width": ""
      }
     },
     "3951a7c00dad499dbcff3b7839e0fe87": {
      "model_module": "@jupyter-widgets/base",
      "model_module_version": "1.2.0",
      "model_name": "LayoutModel",
      "state": {}
     },
     "395bd3031377443787f0bfd7bcc86adf": {
      "model_module": "@jupyter-widgets/base",
      "model_module_version": "1.2.0",
      "model_name": "LayoutModel",
      "state": {}
     },
     "39f316696c2e460b80db069959731966": {
      "model_module": "@jupyter-widgets/base",
      "model_module_version": "1.2.0",
      "model_name": "LayoutModel",
      "state": {}
     },
     "3a4109477a864fdfb061f0cdd112eb8d": {
      "model_module": "@jupyter-widgets/controls",
      "model_module_version": "1.5.0",
      "model_name": "CheckboxModel",
      "state": {
       "description": "Отсутствует техника",
       "disabled": false,
       "layout": "IPY_MODEL_caf832bf2d5841cb86bfc8eaaaedefde",
       "style": "IPY_MODEL_38adbb57f73a47e88668cb07d8ce70ef",
       "value": true
      }
     },
     "3a7674ed3afc4e8ca90715baffc161b8": {
      "model_module": "@jupyter-widgets/controls",
      "model_module_version": "1.5.0",
      "model_name": "CheckboxModel",
      "state": {
       "description": "Передумал",
       "disabled": false,
       "layout": "IPY_MODEL_5b335c9f7dec4c4db9ccaa7d91c9e478",
       "style": "IPY_MODEL_c9d369c3f732459785721ad99de76e36",
       "value": false
      }
     },
     "3a84b289c25047f18f7ef4bb89a7b6d9": {
      "model_module": "@jupyter-widgets/base",
      "model_module_version": "1.2.0",
      "model_name": "LayoutModel",
      "state": {}
     },
     "3a9316e4890c47cdb049518d0be2dc69": {
      "model_module": "@jupyter-widgets/controls",
      "model_module_version": "1.5.0",
      "model_name": "DatePickerModel",
      "state": {
       "description": "Дата2:",
       "disabled": false,
       "layout": "IPY_MODEL_b2933dd2ff2c434baac4d8601793d41b",
       "style": "IPY_MODEL_a89aca723e9e4781b2aa90bf43613f94",
       "value": {
        "date": 17,
        "month": 7,
        "year": 2021
       }
      }
     },
     "3ab6d964167845bda41da89aacde1bf8": {
      "model_module": "@jupyter-widgets/base",
      "model_module_version": "1.2.0",
      "model_name": "LayoutModel",
      "state": {}
     },
     "3aff6501499f4e0dad6d643e5c792d0d": {
      "model_module": "@jupyter-widgets/controls",
      "model_module_version": "1.5.0",
      "model_name": "DescriptionStyleModel",
      "state": {
       "description_width": ""
      }
     },
     "3b299ae765b7488cb650412308330be7": {
      "model_module": "@jupyter-widgets/controls",
      "model_module_version": "1.5.0",
      "model_name": "DescriptionStyleModel",
      "state": {
       "description_width": ""
      }
     },
     "3b9f391e3cc14451bb88c1d5c86f9366": {
      "model_module": "@jupyter-widgets/controls",
      "model_module_version": "1.5.0",
      "model_name": "BoundedIntTextModel",
      "state": {
       "description": "Чепрасова Ольга(эвент)",
       "layout": "IPY_MODEL_f1e00ff6bf74451e9fb95b82d075cc1a",
       "max": 1200000,
       "step": 10000,
       "style": "IPY_MODEL_65795e1ae2e54c7a85bb98a890f871c4"
      }
     },
     "3c0da250a6d34170a36996e35f4011a5": {
      "model_module": "@jupyter-widgets/controls",
      "model_module_version": "1.5.0",
      "model_name": "DescriptionStyleModel",
      "state": {
       "description_width": ""
      }
     },
     "3c11fc5051c747f78bd6543db4d146e6": {
      "model_module": "@jupyter-widgets/base",
      "model_module_version": "1.2.0",
      "model_name": "LayoutModel",
      "state": {}
     },
     "3c1f0fb7f25c46d0a7d3e3a53ca03f89": {
      "model_module": "@jupyter-widgets/base",
      "model_module_version": "1.2.0",
      "model_name": "LayoutModel",
      "state": {}
     },
     "3ca00735f67044f99808dca21a78e744": {
      "model_module": "@jupyter-widgets/base",
      "model_module_version": "1.2.0",
      "model_name": "LayoutModel",
      "state": {}
     },
     "3ca2053adfb7416cbb91591a24c172b2": {
      "model_module": "@jupyter-widgets/controls",
      "model_module_version": "1.5.0",
      "model_name": "CheckboxModel",
      "state": {
       "description": "Клиент пропал",
       "disabled": false,
       "layout": "IPY_MODEL_0e713fca74fc47838eabd19b32d05d73",
       "style": "IPY_MODEL_4fcf79c6886d47fdbc2756a5c6cfc302",
       "value": false
      }
     },
     "3cbd8f3f1d1e4edab6c38e50ce04d9e0": {
      "model_module": "@jupyter-widgets/base",
      "model_module_version": "1.2.0",
      "model_name": "LayoutModel",
      "state": {}
     },
     "3cfe45b86a704d439576758df4553510": {
      "model_module": "@jupyter-widgets/controls",
      "model_module_version": "1.5.0",
      "model_name": "DescriptionStyleModel",
      "state": {
       "description_width": ""
      }
     },
     "3d413ca3ae564ec8ab57f3c87900da7d": {
      "model_module": "@jupyter-widgets/base",
      "model_module_version": "1.2.0",
      "model_name": "LayoutModel",
      "state": {}
     },
     "3d5afe69b0b1442f8ce70f54011fd277": {
      "model_module": "@jupyter-widgets/controls",
      "model_module_version": "1.5.0",
      "model_name": "DescriptionStyleModel",
      "state": {
       "description_width": ""
      }
     },
     "3d99b35ef5fb4b5393179afcc5d7e377": {
      "model_module": "@jupyter-widgets/base",
      "model_module_version": "1.2.0",
      "model_name": "LayoutModel",
      "state": {}
     },
     "3da76a2849c34af3b41fa3bdd384e848": {
      "model_module": "@jupyter-widgets/controls",
      "model_module_version": "1.5.0",
      "model_name": "DescriptionStyleModel",
      "state": {
       "description_width": ""
      }
     },
     "3daa61bc7fdf4088ad8f4c0b3daaaa8a": {
      "model_module": "@jupyter-widgets/controls",
      "model_module_version": "1.5.0",
      "model_name": "DatePickerModel",
      "state": {
       "description": "Дата1:",
       "disabled": false,
       "layout": "IPY_MODEL_c94e5ab71c134d8083437e608bd65073",
       "style": "IPY_MODEL_b8b00bcf3f2e4cbbbe7d994886eafe3c",
       "value": {
        "date": 17,
        "month": 7,
        "year": 2021
       }
      }
     },
     "3e096d8aa8294e94bb4e91e7dd24bd12": {
      "model_module": "@jupyter-widgets/base",
      "model_module_version": "1.2.0",
      "model_name": "LayoutModel",
      "state": {}
     },
     "3e210ed104c346f69e48c0000b7c2784": {
      "model_module": "@jupyter-widgets/controls",
      "model_module_version": "1.5.0",
      "model_name": "DescriptionStyleModel",
      "state": {
       "description_width": ""
      }
     },
     "3e2b4ff5929f4e78969fae3ee25f856d": {
      "model_module": "@jupyter-widgets/controls",
      "model_module_version": "1.5.0",
      "model_name": "DescriptionStyleModel",
      "state": {
       "description_width": ""
      }
     },
     "3e4a89eae93a428c91c275a6677d2498": {
      "model_module": "@jupyter-widgets/controls",
      "model_module_version": "1.5.0",
      "model_name": "DescriptionStyleModel",
      "state": {
       "description_width": ""
      }
     },
     "3e726cc3cd96451cbfd440d2a9cfb8fd": {
      "model_module": "@jupyter-widgets/controls",
      "model_module_version": "1.5.0",
      "model_name": "DescriptionStyleModel",
      "state": {
       "description_width": ""
      }
     },
     "3f0a81a7f911460c93ab7f8b35a509d9": {
      "model_module": "@jupyter-widgets/controls",
      "model_module_version": "1.5.0",
      "model_name": "DescriptionStyleModel",
      "state": {
       "description_width": ""
      }
     },
     "3f4632d82d36436493d86809ccd4b3d3": {
      "model_module": "@jupyter-widgets/controls",
      "model_module_version": "1.5.0",
      "model_name": "DescriptionStyleModel",
      "state": {
       "description_width": ""
      }
     },
     "3f529fc19bce4233bd5bf6e1bed48060": {
      "model_module": "@jupyter-widgets/controls",
      "model_module_version": "1.5.0",
      "model_name": "BoundedIntTextModel",
      "state": {
       "description": "Шутова Виктория(прокат)",
       "layout": "IPY_MODEL_943ae2ad4794425aab185d7e9a59751e",
       "max": 1200000,
       "step": 10000,
       "style": "IPY_MODEL_1f6443009e0b4725980d49fb62b170d8",
       "value": 248600
      }
     },
     "3fa05eb279294fceb65e32cf51668313": {
      "model_module": "@jupyter-widgets/controls",
      "model_module_version": "1.5.0",
      "model_name": "DescriptionStyleModel",
      "state": {
       "description_width": ""
      }
     },
     "406006f6dcac41e4a14259ee0852fbec": {
      "model_module": "@jupyter-widgets/base",
      "model_module_version": "1.2.0",
      "model_name": "LayoutModel",
      "state": {}
     },
     "406439d7a17e4ab4be2d2d3a605e7e27": {
      "model_module": "@jupyter-widgets/controls",
      "model_module_version": "1.5.0",
      "model_name": "CheckboxModel",
      "state": {
       "description": "Нет курьера",
       "disabled": false,
       "layout": "IPY_MODEL_d92f12fa09f249e79c954768c9c72989",
       "style": "IPY_MODEL_50513b35770a423495e21e179894a0b9",
       "value": false
      }
     },
     "40b9940b08454bdbaec79042687eff12": {
      "model_module": "@jupyter-widgets/base",
      "model_module_version": "1.2.0",
      "model_name": "LayoutModel",
      "state": {}
     },
     "40ec6a6777a24dea98660d8c0d341a58": {
      "model_module": "@jupyter-widgets/base",
      "model_module_version": "1.2.0",
      "model_name": "LayoutModel",
      "state": {}
     },
     "415cf7a001674707b559e9f203bf905d": {
      "model_module": "@jupyter-widgets/controls",
      "model_module_version": "1.5.0",
      "model_name": "CheckboxModel",
      "state": {
       "description": "Клиент пропал",
       "disabled": false,
       "layout": "IPY_MODEL_6c20b627ee8d429db348258a3a306965",
       "style": "IPY_MODEL_5f9480377fd84321935e4572fbe14889",
       "value": false
      }
     },
     "41fc1c0dd4404d33a553a81a5315eab6": {
      "model_module": "@jupyter-widgets/controls",
      "model_module_version": "1.5.0",
      "model_name": "DescriptionStyleModel",
      "state": {
       "description_width": ""
      }
     },
     "42298f3aa3ed46fd98da1ba7750eec13": {
      "model_module": "@jupyter-widgets/base",
      "model_module_version": "1.2.0",
      "model_name": "LayoutModel",
      "state": {}
     },
     "42601b18773e4289b6b1cf3ef10577c3": {
      "model_module": "@jupyter-widgets/controls",
      "model_module_version": "1.5.0",
      "model_name": "BoundedIntTextModel",
      "state": {
       "description": "1 Стажер(прокат)",
       "layout": "IPY_MODEL_ba6e15479b624d0a84a36706c3963bfd",
       "max": 1200000,
       "step": 10000,
       "style": "IPY_MODEL_18773e8251d948dca8392b87dec57d75",
       "value": 214700
      }
     },
     "429c34375a8f4367b67acf4cb46e9734": {
      "model_module": "@jupyter-widgets/controls",
      "model_module_version": "1.5.0",
      "model_name": "DescriptionStyleModel",
      "state": {
       "description_width": ""
      }
     },
     "429eba39e4074af09378de25ddcfa688": {
      "model_module": "@jupyter-widgets/base",
      "model_module_version": "1.2.0",
      "model_name": "LayoutModel",
      "state": {}
     },
     "42b2d3b3b3b44c6b8a1825f9a423203f": {
      "model_module": "@jupyter-widgets/controls",
      "model_module_version": "1.5.0",
      "model_name": "CheckboxModel",
      "state": {
       "description": "Мусор / Спам",
       "disabled": false,
       "layout": "IPY_MODEL_72c779ae6d544c199ae2b11c4b0896a4",
       "style": "IPY_MODEL_9e4df02b20784f518b3a43fed47bf345",
       "value": true
      }
     },
     "42cc7b8f0257490cac92c6ed2d0d4527": {
      "model_module": "@jupyter-widgets/controls",
      "model_module_version": "1.5.0",
      "model_name": "CheckboxModel",
      "state": {
       "description": "Закрыт офис",
       "disabled": false,
       "layout": "IPY_MODEL_b7b25431ef374330a0bf16d9eaf9015a",
       "style": "IPY_MODEL_ed50221f635c4d3eb1c5e1911e526551",
       "value": false
      }
     },
     "430ffff8113149659867a539a2f6d66f": {
      "model_module": "@jupyter-widgets/controls",
      "model_module_version": "1.5.0",
      "model_name": "CheckboxModel",
      "state": {
       "description": "Закрыт офис",
       "disabled": false,
       "layout": "IPY_MODEL_62e69ff870d249fa84cadd2a17203a20",
       "style": "IPY_MODEL_cf74026b1d6d4692850efbe9e15017ac",
       "value": false
      }
     },
     "43444d81f3ac499eb352947a1ec69f54": {
      "model_module": "@jupyter-widgets/base",
      "model_module_version": "1.2.0",
      "model_name": "LayoutModel",
      "state": {}
     },
     "4387c6086b804243bb2a9dad6a5e541d": {
      "model_module": "@jupyter-widgets/controls",
      "model_module_version": "1.5.0",
      "model_name": "DropdownModel",
      "state": {
       "_options_labels": [
        "aug"
       ],
       "description": "План на:",
       "index": 0,
       "layout": "IPY_MODEL_e0c1125c344740be8d615155648522ad",
       "style": "IPY_MODEL_19ae25747bf94f388e6264d0d9819f40"
      }
     },
     "43da7600fe644e4cb781a2ccac0ca801": {
      "model_module": "@jupyter-widgets/controls",
      "model_module_version": "1.5.0",
      "model_name": "ButtonModel",
      "state": {
       "button_style": "success",
       "description": "Загрузить",
       "layout": "IPY_MODEL_593f0a93bb544d22a5fae5f16cc18855",
       "style": "IPY_MODEL_47d4f2f810fb42c599c2963c46aef8bc"
      }
     },
     "43edb0729dbf42c695d68b4d6b20c8c9": {
      "model_module": "@jupyter-widgets/base",
      "model_module_version": "1.2.0",
      "model_name": "LayoutModel",
      "state": {}
     },
     "44a7ccb7f8194de88390fbd278515b48": {
      "model_module": "@jupyter-widgets/base",
      "model_module_version": "1.2.0",
      "model_name": "LayoutModel",
      "state": {}
     },
     "44fb313d70cc41c1acdf18c57e805ab4": {
      "model_module": "@jupyter-widgets/controls",
      "model_module_version": "1.5.0",
      "model_name": "CheckboxModel",
      "state": {
       "description": "Отсутствует техника",
       "disabled": false,
       "layout": "IPY_MODEL_62258fddaaf34480a075689797e5ca2a",
       "style": "IPY_MODEL_0fe2466ee8424198b6cab70fe6742727",
       "value": true
      }
     },
     "4508efd6810c4695b70a83451741624f": {
      "model_module": "@jupyter-widgets/controls",
      "model_module_version": "1.5.0",
      "model_name": "DescriptionStyleModel",
      "state": {
       "description_width": ""
      }
     },
     "45ccca91645e439c9d49724a5730ddfe": {
      "model_module": "@jupyter-widgets/controls",
      "model_module_version": "1.5.0",
      "model_name": "DescriptionStyleModel",
      "state": {
       "description_width": ""
      }
     },
     "460fb67d4fa84b16a57b447562d1494e": {
      "model_module": "@jupyter-widgets/controls",
      "model_module_version": "1.5.0",
      "model_name": "DescriptionStyleModel",
      "state": {
       "description_width": ""
      }
     },
     "46535542e2de41339ace1fe67a4cde7d": {
      "model_module": "@jupyter-widgets/base",
      "model_module_version": "1.2.0",
      "model_name": "LayoutModel",
      "state": {}
     },
     "46795a0931c24a8e9acceef41b0bf051": {
      "model_module": "@jupyter-widgets/controls",
      "model_module_version": "1.5.0",
      "model_name": "DescriptionStyleModel",
      "state": {
       "description_width": ""
      }
     },
     "46ae3fdafce04247bc22d27a8de40783": {
      "model_module": "@jupyter-widgets/controls",
      "model_module_version": "1.5.0",
      "model_name": "CheckboxModel",
      "state": {
       "description": "Повторная заявка с другого сайта",
       "disabled": false,
       "layout": "IPY_MODEL_d125ef59dbb8440eaeecc57ae985d479",
       "style": "IPY_MODEL_5568f2de21314e929f6943f3c610d5e2",
       "value": true
      }
     },
     "472bf33282444df6853a3d7c8da7c57d": {
      "model_module": "@jupyter-widgets/base",
      "model_module_version": "1.2.0",
      "model_name": "LayoutModel",
      "state": {}
     },
     "4736a7e743e24946b8324fefceedb068": {
      "model_module": "@jupyter-widgets/controls",
      "model_module_version": "1.5.0",
      "model_name": "ButtonStyleModel",
      "state": {}
     },
     "474c41c017d5474caffe1ae72e8476eb": {
      "model_module": "@jupyter-widgets/controls",
      "model_module_version": "1.5.0",
      "model_name": "DescriptionStyleModel",
      "state": {
       "description_width": ""
      }
     },
     "4781d342464c4973a746ab03fe12c28a": {
      "model_module": "@jupyter-widgets/base",
      "model_module_version": "1.2.0",
      "model_name": "LayoutModel",
      "state": {}
     },
     "47d4f2f810fb42c599c2963c46aef8bc": {
      "model_module": "@jupyter-widgets/controls",
      "model_module_version": "1.5.0",
      "model_name": "ButtonStyleModel",
      "state": {}
     },
     "48042778ec4b4a70ba47ad3d0bc2fcb9": {
      "model_module": "@jupyter-widgets/base",
      "model_module_version": "1.2.0",
      "model_name": "LayoutModel",
      "state": {}
     },
     "481481ec87ff4f33b114c416e676bb13": {
      "model_module": "@jupyter-widgets/base",
      "model_module_version": "1.2.0",
      "model_name": "LayoutModel",
      "state": {}
     },
     "486c6acb35c8403ca51b98af7441f3af": {
      "model_module": "@jupyter-widgets/controls",
      "model_module_version": "1.5.0",
      "model_name": "DescriptionStyleModel",
      "state": {
       "description_width": ""
      }
     },
     "487e6dbb134d4c1ab2cf7a475d856259": {
      "model_module": "@jupyter-widgets/controls",
      "model_module_version": "1.5.0",
      "model_name": "DescriptionStyleModel",
      "state": {
       "description_width": ""
      }
     },
     "48a786c34c2c4c82965b7071fd5a1514": {
      "model_module": "@jupyter-widgets/controls",
      "model_module_version": "1.5.0",
      "model_name": "DescriptionStyleModel",
      "state": {
       "description_width": ""
      }
     },
     "48b448b4d6e648fbaf76f70b3379569a": {
      "model_module": "@jupyter-widgets/controls",
      "model_module_version": "1.5.0",
      "model_name": "CheckboxModel",
      "state": {
       "description": "Отсутствует техника",
       "disabled": false,
       "layout": "IPY_MODEL_12b9e1f02e79488397904637cfdeb3f9",
       "style": "IPY_MODEL_329d777410b743ec8eb58d2add1b118c",
       "value": true
      }
     },
     "48bb1106e7314462b1091a794cdcf27f": {
      "model_module": "@jupyter-widgets/controls",
      "model_module_version": "1.5.0",
      "model_name": "BoundedIntTextModel",
      "state": {
       "description": "Чепрасова Ольга(прокат)",
       "layout": "IPY_MODEL_f44e7c22fd5642989be4ce2dc982c2bc",
       "max": 1200000,
       "step": 10000,
       "style": "IPY_MODEL_07bcd184d58f4c6cacecb8099be795bf",
       "value": 180800
      }
     },
     "492fe2f8db8f43e4b7c6584b0001d91d": {
      "model_module": "@jupyter-widgets/controls",
      "model_module_version": "1.5.0",
      "model_name": "DescriptionStyleModel",
      "state": {
       "description_width": ""
      }
     },
     "497c37ddeaa1496fbc446a7d7d921961": {
      "model_module": "@jupyter-widgets/base",
      "model_module_version": "1.2.0",
      "model_name": "LayoutModel",
      "state": {}
     },
     "4a0048a03a5f4eb598d2ea020fee49be": {
      "model_module": "@jupyter-widgets/controls",
      "model_module_version": "1.5.0",
      "model_name": "DescriptionStyleModel",
      "state": {
       "description_width": ""
      }
     },
     "4a6be5eafacd499c84d0c4a41a2c515d": {
      "model_module": "@jupyter-widgets/controls",
      "model_module_version": "1.5.0",
      "model_name": "DescriptionStyleModel",
      "state": {
       "description_width": ""
      }
     },
     "4a8853952e9a48b18c719f2724e99947": {
      "model_module": "@jupyter-widgets/controls",
      "model_module_version": "1.5.0",
      "model_name": "DescriptionStyleModel",
      "state": {
       "description_width": ""
      }
     },
     "4ad85898558e44468bcf012a01309686": {
      "model_module": "@jupyter-widgets/controls",
      "model_module_version": "1.5.0",
      "model_name": "BoundedIntTextModel",
      "state": {
       "description": "1 Стажер(эвент)",
       "layout": "IPY_MODEL_8758408b10834d26bff0f0da9a468b2c",
       "max": 1200000,
       "step": 10000,
       "style": "IPY_MODEL_fb7db0fbcbc44bbd87f1a20c47c9fe98"
      }
     },
     "4b4be648022347b5adca40d845d20946": {
      "model_module": "@jupyter-widgets/base",
      "model_module_version": "1.2.0",
      "model_name": "LayoutModel",
      "state": {}
     },
     "4b8d2c1cae9c41f3ba6898660dab6c80": {
      "model_module": "@jupyter-widgets/controls",
      "model_module_version": "1.5.0",
      "model_name": "DescriptionStyleModel",
      "state": {
       "description_width": ""
      }
     },
     "4ba273d6ca894065a89194ced8077e4d": {
      "model_module": "@jupyter-widgets/controls",
      "model_module_version": "1.5.0",
      "model_name": "CheckboxModel",
      "state": {
       "description": "Закрыт офис",
       "disabled": false,
       "layout": "IPY_MODEL_cd50a16037a148f4be78a5a091d3b99f",
       "style": "IPY_MODEL_65a5e9ce6d224e25920f096a28b2f7f2",
       "value": false
      }
     },
     "4c25f707abb24e18bc4d6e2e39d36b20": {
      "model_module": "@jupyter-widgets/base",
      "model_module_version": "1.2.0",
      "model_name": "LayoutModel",
      "state": {}
     },
     "4c5dc0f8cb5e44cdae991833aafa3d0e": {
      "model_module": "@jupyter-widgets/controls",
      "model_module_version": "1.5.0",
      "model_name": "BoundedIntTextModel",
      "state": {
       "description": "Шутова Виктория(эвент)",
       "layout": "IPY_MODEL_3d413ca3ae564ec8ab57f3c87900da7d",
       "max": 1200000,
       "step": 10000,
       "style": "IPY_MODEL_daf5758ecad849caafb8c171dd45ff16",
       "value": 157500
      }
     },
     "4c99898c264f41639a9eddafe08a0f49": {
      "model_module": "@jupyter-widgets/controls",
      "model_module_version": "1.5.0",
      "model_name": "DescriptionStyleModel",
      "state": {
       "description_width": ""
      }
     },
     "4caaaf37a1d54b72af4542cfcd5f898c": {
      "model_module": "@jupyter-widgets/controls",
      "model_module_version": "1.5.0",
      "model_name": "DescriptionStyleModel",
      "state": {
       "description_width": ""
      }
     },
     "4caed55567274aaa83484f4f47c00452": {
      "model_module": "@jupyter-widgets/controls",
      "model_module_version": "1.5.0",
      "model_name": "BoundedIntTextModel",
      "state": {
       "description": "Шутова Виктория(прокат)",
       "layout": "IPY_MODEL_e3cf382b890a4bf18c49fe0073d311ac",
       "max": 1200000,
       "step": 10000,
       "style": "IPY_MODEL_b974d1e5378f4d1e87f2a319ab692e02",
       "value": 248600
      }
     },
     "4d95f5515c204e4aad1d130cb864081e": {
      "model_module": "@jupyter-widgets/controls",
      "model_module_version": "1.5.0",
      "model_name": "BoundedIntTextModel",
      "state": {
       "description": "Шутова Виктория(эвент)",
       "layout": "IPY_MODEL_5656a9e8bf97476a8b88be17e5280cf7",
       "max": 1200000,
       "step": 10000,
       "style": "IPY_MODEL_01f62aef4dc54f34ba2f53057aeaa9a2",
       "value": 157500
      }
     },
     "4debec590083485094ec24f811b0edfc": {
      "model_module": "@jupyter-widgets/controls",
      "model_module_version": "1.5.0",
      "model_name": "CheckboxModel",
      "state": {
       "description": "Нет курьера",
       "disabled": false,
       "layout": "IPY_MODEL_b376452725cd4541842b6fdacfd80587",
       "style": "IPY_MODEL_cbf9e2d4ccb140fdaf9eaf8351dcd033",
       "value": false
      }
     },
     "4e0a5f192e104fd384fd1f7c61c86899": {
      "model_module": "@jupyter-widgets/controls",
      "model_module_version": "1.5.0",
      "model_name": "BoundedIntTextModel",
      "state": {
       "description": "1 Стажер(прокат)",
       "layout": "IPY_MODEL_62c7db01c2b94f159a3ac19d48749844",
       "max": 1200000,
       "step": 10000,
       "style": "IPY_MODEL_add9539db6964bebb7c352b9e9a49095",
       "value": 214700
      }
     },
     "4e0f6880671e4e0d95eae65a65ad287e": {
      "model_module": "@jupyter-widgets/controls",
      "model_module_version": "1.5.0",
      "model_name": "BoundedIntTextModel",
      "state": {
       "description": "Симак Наталья(прокат)",
       "layout": "IPY_MODEL_72d1ddb8e9d6436bbe0d19ac583a5c4c",
       "max": 1200000,
       "step": 10000,
       "style": "IPY_MODEL_98df216ffdb84e18ae029aba091206d2",
       "value": 293800
      }
     },
     "4e3873c5cd764e35a51722251523da25": {
      "model_module": "@jupyter-widgets/base",
      "model_module_version": "1.2.0",
      "model_name": "LayoutModel",
      "state": {}
     },
     "4ea30afe7c0747aba458ca99d3c076fe": {
      "model_module": "@jupyter-widgets/controls",
      "model_module_version": "1.5.0",
      "model_name": "CheckboxModel",
      "state": {
       "description": "Дубль",
       "disabled": false,
       "layout": "IPY_MODEL_95f8149e18de4b3597b5b897f9513d89",
       "style": "IPY_MODEL_6f7b138ab9884771a388f97669ec0d8c",
       "value": true
      }
     },
     "4ed462fc876e4746b5707fbc2feda2c3": {
      "model_module": "@jupyter-widgets/controls",
      "model_module_version": "1.5.0",
      "model_name": "DatePickerModel",
      "state": {
       "description": "Дата1:",
       "disabled": false,
       "layout": "IPY_MODEL_7968811dba4b4a0fb253db5dad8b7ba9",
       "style": "IPY_MODEL_1f0cbfc1b5f24997a9039a3dea9f2296",
       "value": {
        "date": 17,
        "month": 7,
        "year": 2021
       }
      }
     },
     "4ee5f7a132b3461fb3f7feb5d34a972a": {
      "model_module": "@jupyter-widgets/controls",
      "model_module_version": "1.5.0",
      "model_name": "DescriptionStyleModel",
      "state": {
       "description_width": ""
      }
     },
     "4f1b57361ed74adbab4c2d7fa84ad3e7": {
      "model_module": "@jupyter-widgets/controls",
      "model_module_version": "1.5.0",
      "model_name": "DescriptionStyleModel",
      "state": {
       "description_width": ""
      }
     },
     "4f39f335b7794f88a7486ef65d5dbae2": {
      "model_module": "@jupyter-widgets/controls",
      "model_module_version": "1.5.0",
      "model_name": "DescriptionStyleModel",
      "state": {
       "description_width": ""
      }
     },
     "4f67a5bb916347969a976eea12d8b77e": {
      "model_module": "@jupyter-widgets/base",
      "model_module_version": "1.2.0",
      "model_name": "LayoutModel",
      "state": {}
     },
     "4f6c3cd913e6401dae4547b280eae9eb": {
      "model_module": "@jupyter-widgets/controls",
      "model_module_version": "1.5.0",
      "model_name": "DescriptionStyleModel",
      "state": {
       "description_width": ""
      }
     },
     "4fcf79c6886d47fdbc2756a5c6cfc302": {
      "model_module": "@jupyter-widgets/controls",
      "model_module_version": "1.5.0",
      "model_name": "DescriptionStyleModel",
      "state": {
       "description_width": ""
      }
     },
     "503b295184fb4081a63f7c524c9e794f": {
      "model_module": "@jupyter-widgets/controls",
      "model_module_version": "1.5.0",
      "model_name": "DescriptionStyleModel",
      "state": {
       "description_width": ""
      }
     },
     "50513b35770a423495e21e179894a0b9": {
      "model_module": "@jupyter-widgets/controls",
      "model_module_version": "1.5.0",
      "model_name": "DescriptionStyleModel",
      "state": {
       "description_width": ""
      }
     },
     "51459f8e0fef49b6ae470ae7881b4ce6": {
      "model_module": "@jupyter-widgets/controls",
      "model_module_version": "1.5.0",
      "model_name": "CheckboxModel",
      "state": {
       "description": "Повторная заявка с другого сайта",
       "disabled": false,
       "layout": "IPY_MODEL_1a8540ff81d54bd0aa8598c019c57347",
       "style": "IPY_MODEL_67cf232df1ef45b9abfee45fe881d044",
       "value": true
      }
     },
     "514e4c7df4a24058bb049d5eff9bf1d7": {
      "model_module": "@jupyter-widgets/controls",
      "model_module_version": "1.5.0",
      "model_name": "DescriptionStyleModel",
      "state": {
       "description_width": ""
      }
     },
     "51b58f55383049d889a79c3ef6117ca1": {
      "model_module": "@jupyter-widgets/controls",
      "model_module_version": "1.5.0",
      "model_name": "BoundedIntTextModel",
      "state": {
       "description": "Шутова Виктория(эвент)",
       "layout": "IPY_MODEL_5f12ae6b31ec4902869b5eb6298570ff",
       "max": 1200000,
       "step": 10000,
       "style": "IPY_MODEL_e95d3459bd4e45c9a1734831229f66bd",
       "value": 157500
      }
     },
     "51cc2ee0c6194918b7dc7372010309a5": {
      "model_module": "@jupyter-widgets/controls",
      "model_module_version": "1.5.0",
      "model_name": "BoundedIntTextModel",
      "state": {
       "description": "1 Стажер(эвент)",
       "layout": "IPY_MODEL_0017d8f51faf4dcaba8ace34cd99f325",
       "max": 1200000,
       "step": 10000,
       "style": "IPY_MODEL_b345c913b9e640c1b209e652daab4e5b"
      }
     },
     "5226af4402634974a960035393dceb47": {
      "model_module": "@jupyter-widgets/controls",
      "model_module_version": "1.5.0",
      "model_name": "ButtonModel",
      "state": {
       "button_style": "success",
       "description": "Загрузить",
       "layout": "IPY_MODEL_18d70c9e667749e890ac06bcf0c87a4a",
       "style": "IPY_MODEL_cab421e8aff249668e3692fb72216ad0"
      }
     },
     "52640ec4b6a8470598daaf1e0a671cd5": {
      "model_module": "@jupyter-widgets/base",
      "model_module_version": "1.2.0",
      "model_name": "LayoutModel",
      "state": {}
     },
     "52b06e0924064ec49b306b72c143e433": {
      "model_module": "@jupyter-widgets/controls",
      "model_module_version": "1.5.0",
      "model_name": "BoundedIntTextModel",
      "state": {
       "description": "Чепрасова Ольга(эвент)",
       "layout": "IPY_MODEL_0b2ed16bc95d451fad6fecb51ffdd498",
       "max": 1200000,
       "step": 10000,
       "style": "IPY_MODEL_c509a72515f64065839d8413cc071f88"
      }
     },
     "52ce0c2cbeb748a494d756dc867609aa": {
      "model_module": "@jupyter-widgets/controls",
      "model_module_version": "1.5.0",
      "model_name": "DropdownModel",
      "state": {
       "_options_labels": [
        "aug"
       ],
       "description": "План на:",
       "index": 0,
       "layout": "IPY_MODEL_3c11fc5051c747f78bd6543db4d146e6",
       "style": "IPY_MODEL_48a786c34c2c4c82965b7071fd5a1514"
      }
     },
     "549c7626ec9c49a7a3e3e5e2566ec800": {
      "model_module": "@jupyter-widgets/controls",
      "model_module_version": "1.5.0",
      "model_name": "CheckboxModel",
      "state": {
       "description": "Клиент пропал",
       "disabled": false,
       "layout": "IPY_MODEL_131b492d60e3494b8529620a0722836d",
       "style": "IPY_MODEL_c60d4139b45d421d9ea49f659844e141",
       "value": false
      }
     },
     "54ae0c2fd5024b45823d496fc2fcf3f1": {
      "model_module": "@jupyter-widgets/controls",
      "model_module_version": "1.5.0",
      "model_name": "DescriptionStyleModel",
      "state": {
       "description_width": ""
      }
     },
     "54ca559805e14efc82af074b1ee5a8cd": {
      "model_module": "@jupyter-widgets/controls",
      "model_module_version": "1.5.0",
      "model_name": "BoundedIntTextModel",
      "state": {
       "description": "1 Стажер(эвент)",
       "layout": "IPY_MODEL_a1569048ea0c4dd4bcbf707f372ee0ea",
       "max": 1200000,
       "step": 10000,
       "style": "IPY_MODEL_b52f8d3823f4421ca465729885ade5cf"
      }
     },
     "54cb1edfdd2340d38677ff049252efcb": {
      "model_module": "@jupyter-widgets/controls",
      "model_module_version": "1.5.0",
      "model_name": "DescriptionStyleModel",
      "state": {
       "description_width": ""
      }
     },
     "5568f2de21314e929f6943f3c610d5e2": {
      "model_module": "@jupyter-widgets/controls",
      "model_module_version": "1.5.0",
      "model_name": "DescriptionStyleModel",
      "state": {
       "description_width": ""
      }
     },
     "557cde96610d4dc8b5b58a216ce090e2": {
      "model_module": "@jupyter-widgets/base",
      "model_module_version": "1.2.0",
      "model_name": "LayoutModel",
      "state": {}
     },
     "55d37bf905fa4b86b2b7df4c52c369d1": {
      "model_module": "@jupyter-widgets/controls",
      "model_module_version": "1.5.0",
      "model_name": "CheckboxModel",
      "state": {
       "description": "Клиент пропал",
       "disabled": false,
       "layout": "IPY_MODEL_15282305ddf94e2bb4614b2701958989",
       "style": "IPY_MODEL_9444cfaa13db46ddaa6a91faeb4576e4",
       "value": false
      }
     },
     "55edb7f6b22b43b2a108c076c348a870": {
      "model_module": "@jupyter-widgets/controls",
      "model_module_version": "1.5.0",
      "model_name": "DescriptionStyleModel",
      "state": {
       "description_width": ""
      }
     },
     "55f2b273988c4847ab48380d2e354b99": {
      "model_module": "@jupyter-widgets/controls",
      "model_module_version": "1.5.0",
      "model_name": "BoundedIntTextModel",
      "state": {
       "description": "Кузнецова Дарья(эвент)",
       "layout": "IPY_MODEL_5e3f2cd9a5ff40cb98914826069a100b",
       "max": 1200000,
       "step": 10000,
       "style": "IPY_MODEL_aceae560c5be4632b901dd4e4ef52b17",
       "value": 140000
      }
     },
     "5656a9e8bf97476a8b88be17e5280cf7": {
      "model_module": "@jupyter-widgets/base",
      "model_module_version": "1.2.0",
      "model_name": "LayoutModel",
      "state": {}
     },
     "565f452392e5422bb0dbec9eef9ed95c": {
      "model_module": "@jupyter-widgets/controls",
      "model_module_version": "1.5.0",
      "model_name": "DescriptionStyleModel",
      "state": {
       "description_width": ""
      }
     },
     "56a0f64c2f8b4d7a872806d12cb5aa1f": {
      "model_module": "@jupyter-widgets/controls",
      "model_module_version": "1.5.0",
      "model_name": "ButtonStyleModel",
      "state": {}
     },
     "570f9f90b28447d3afd6688a19f22d98": {
      "model_module": "@jupyter-widgets/controls",
      "model_module_version": "1.5.0",
      "model_name": "DescriptionStyleModel",
      "state": {
       "description_width": ""
      }
     },
     "573b2ca75fca449bbe341b5e220cc895": {
      "model_module": "@jupyter-widgets/controls",
      "model_module_version": "1.5.0",
      "model_name": "DescriptionStyleModel",
      "state": {
       "description_width": ""
      }
     },
     "576f8317e0534a8daa3dd8cc55e7134a": {
      "model_module": "@jupyter-widgets/controls",
      "model_module_version": "1.5.0",
      "model_name": "DescriptionStyleModel",
      "state": {
       "description_width": ""
      }
     },
     "577983923da84338b30ef76052d0e1e1": {
      "model_module": "@jupyter-widgets/base",
      "model_module_version": "1.2.0",
      "model_name": "LayoutModel",
      "state": {}
     },
     "5791df9939a143128f20923c01265a08": {
      "model_module": "@jupyter-widgets/controls",
      "model_module_version": "1.5.0",
      "model_name": "CheckboxModel",
      "state": {
       "description": "Нет курьера",
       "disabled": false,
       "layout": "IPY_MODEL_28c8638eb77d40c1a8974f0580e954a0",
       "style": "IPY_MODEL_696f6107d99847708bf75e305eda69c2",
       "value": false
      }
     },
     "57f5f9ed7ebd4156b895e3d465211267": {
      "model_module": "@jupyter-widgets/base",
      "model_module_version": "1.2.0",
      "model_name": "LayoutModel",
      "state": {}
     },
     "5876aedfed0e4141bdeca5ec3af980ad": {
      "model_module": "@jupyter-widgets/controls",
      "model_module_version": "1.5.0",
      "model_name": "CheckboxModel",
      "state": {
       "description": "Дорого",
       "disabled": false,
       "layout": "IPY_MODEL_1247b0d841654a3b94218c8b36925ce1",
       "style": "IPY_MODEL_77cd2b27a0a345da922cf2f5687a9620",
       "value": false
      }
     },
     "58a08a3e2e0e423398ca1e3098688cde": {
      "model_module": "@jupyter-widgets/controls",
      "model_module_version": "1.5.0",
      "model_name": "BoundedIntTextModel",
      "state": {
       "description": "Чепрасова Ольга(прокат)",
       "layout": "IPY_MODEL_e91c865587de4ea9b6bbe98f598d7582",
       "max": 1200000,
       "step": 10000,
       "style": "IPY_MODEL_3cfe45b86a704d439576758df4553510",
       "value": 180800
      }
     },
     "591493c4af8c49c3bb80522715c49145": {
      "model_module": "@jupyter-widgets/controls",
      "model_module_version": "1.5.0",
      "model_name": "BoundedIntTextModel",
      "state": {
       "description": "Шутова Виктория(прокат)",
       "layout": "IPY_MODEL_2bda2e049e8f4aa1b76f45e8bb1bcf38",
       "max": 1200000,
       "step": 10000,
       "style": "IPY_MODEL_0adf0d30696345449b83d1a2edc51edb",
       "value": 248600
      }
     },
     "591962cd50fa49a494d545cdf184e163": {
      "model_module": "@jupyter-widgets/controls",
      "model_module_version": "1.5.0",
      "model_name": "DescriptionStyleModel",
      "state": {
       "description_width": ""
      }
     },
     "59347c1aaa9e4350a28606ea76b130b7": {
      "model_module": "@jupyter-widgets/controls",
      "model_module_version": "1.5.0",
      "model_name": "BoundedIntTextModel",
      "state": {
       "description": "1 Стажер(прокат)",
       "layout": "IPY_MODEL_44a7ccb7f8194de88390fbd278515b48",
       "max": 1200000,
       "step": 10000,
       "style": "IPY_MODEL_292cfc834dfd45b8b2a467086c5c1f6c",
       "value": 214700
      }
     },
     "593f0a93bb544d22a5fae5f16cc18855": {
      "model_module": "@jupyter-widgets/base",
      "model_module_version": "1.2.0",
      "model_name": "LayoutModel",
      "state": {}
     },
     "594987e46c9e4e15b37f217992cd10ba": {
      "model_module": "@jupyter-widgets/controls",
      "model_module_version": "1.5.0",
      "model_name": "BoundedIntTextModel",
      "state": {
       "description": "Симак Наталья(эвент)",
       "layout": "IPY_MODEL_ab1baf2a8e7941b8a6177804290f1c11",
       "max": 1200000,
       "step": 10000,
       "style": "IPY_MODEL_b51bc01bb48c4c2ea8c8a19136073282",
       "value": 52500
      }
     },
     "59506b073f3144eba66a56f463f5edd1": {
      "model_module": "@jupyter-widgets/base",
      "model_module_version": "1.2.0",
      "model_name": "LayoutModel",
      "state": {}
     },
     "595411c023f14ec084f38424f30fd52f": {
      "model_module": "@jupyter-widgets/base",
      "model_module_version": "1.2.0",
      "model_name": "LayoutModel",
      "state": {}
     },
     "59bbf256441a430e88680103ebfb0cec": {
      "model_module": "@jupyter-widgets/controls",
      "model_module_version": "1.5.0",
      "model_name": "BoundedIntTextModel",
      "state": {
       "description": "Шутова Виктория(прокат)",
       "layout": "IPY_MODEL_497c37ddeaa1496fbc446a7d7d921961",
       "max": 1200000,
       "step": 10000,
       "style": "IPY_MODEL_d073a709bda14bc1802cdec3ef8fc383",
       "value": 248600
      }
     },
     "59dfa0bc5603452fb7c418715b2198f2": {
      "model_module": "@jupyter-widgets/controls",
      "model_module_version": "1.5.0",
      "model_name": "DescriptionStyleModel",
      "state": {
       "description_width": ""
      }
     },
     "5afabd712a704784a996201a0c0c8fde": {
      "model_module": "@jupyter-widgets/base",
      "model_module_version": "1.2.0",
      "model_name": "LayoutModel",
      "state": {}
     },
     "5b00f741b22845ba8497b47e71760939": {
      "model_module": "@jupyter-widgets/controls",
      "model_module_version": "1.5.0",
      "model_name": "BoundedIntTextModel",
      "state": {
       "description": "Чепрасова Ольга(прокат)",
       "layout": "IPY_MODEL_9a415f4103d04d399c07445cc29b5ba7",
       "max": 1200000,
       "step": 10000,
       "style": "IPY_MODEL_fad0726c543d4fb2bd6f163df31340fa",
       "value": 180800
      }
     },
     "5b335c9f7dec4c4db9ccaa7d91c9e478": {
      "model_module": "@jupyter-widgets/base",
      "model_module_version": "1.2.0",
      "model_name": "LayoutModel",
      "state": {}
     },
     "5b4ca0156d644e3da084eea0570c96a8": {
      "model_module": "@jupyter-widgets/controls",
      "model_module_version": "1.5.0",
      "model_name": "BoundedIntTextModel",
      "state": {
       "description": "1 Стажер(эвент)",
       "layout": "IPY_MODEL_3ca00735f67044f99808dca21a78e744",
       "max": 1200000,
       "step": 10000,
       "style": "IPY_MODEL_a86b3431ce4447798b1cf5890066821e"
      }
     },
     "5b904b62c8b74ab3a6742538cf19b391": {
      "model_module": "@jupyter-widgets/base",
      "model_module_version": "1.2.0",
      "model_name": "LayoutModel",
      "state": {}
     },
     "5ba7d43a1b4b4508a77d090fad188d74": {
      "model_module": "@jupyter-widgets/controls",
      "model_module_version": "1.5.0",
      "model_name": "DescriptionStyleModel",
      "state": {
       "description_width": ""
      }
     },
     "5baa5933ca294656a87e42529b1bc3bf": {
      "model_module": "@jupyter-widgets/base",
      "model_module_version": "1.2.0",
      "model_name": "LayoutModel",
      "state": {}
     },
     "5bd4310ddd1c48cc84ff8c4a27272cc6": {
      "model_module": "@jupyter-widgets/base",
      "model_module_version": "1.2.0",
      "model_name": "LayoutModel",
      "state": {}
     },
     "5c10f436c3224252870564ffe57f7afa": {
      "model_module": "@jupyter-widgets/controls",
      "model_module_version": "1.5.0",
      "model_name": "DescriptionStyleModel",
      "state": {
       "description_width": ""
      }
     },
     "5c42d4f9246548d88cdce68677f3f727": {
      "model_module": "@jupyter-widgets/base",
      "model_module_version": "1.2.0",
      "model_name": "LayoutModel",
      "state": {}
     },
     "5c69c68a9469444386793becce6fa4a3": {
      "model_module": "@jupyter-widgets/controls",
      "model_module_version": "1.5.0",
      "model_name": "DescriptionStyleModel",
      "state": {
       "description_width": ""
      }
     },
     "5c76019423294535ad9cd7d5925dca27": {
      "model_module": "@jupyter-widgets/controls",
      "model_module_version": "1.5.0",
      "model_name": "CheckboxModel",
      "state": {
       "description": "Передумал",
       "disabled": false,
       "layout": "IPY_MODEL_481481ec87ff4f33b114c416e676bb13",
       "style": "IPY_MODEL_c530d66b32ec466b9fa75669f55118e4",
       "value": false
      }
     },
     "5d023e331e3a41c5be4ae8d34402c9e1": {
      "model_module": "@jupyter-widgets/controls",
      "model_module_version": "1.5.0",
      "model_name": "DescriptionStyleModel",
      "state": {
       "description_width": ""
      }
     },
     "5d78e26a24c8436b9fa88e15bd5849c3": {
      "model_module": "@jupyter-widgets/controls",
      "model_module_version": "1.5.0",
      "model_name": "DescriptionStyleModel",
      "state": {
       "description_width": ""
      }
     },
     "5d84493d3f4f4280ba2a611ab12199a9": {
      "model_module": "@jupyter-widgets/controls",
      "model_module_version": "1.5.0",
      "model_name": "DropdownModel",
      "state": {
       "_options_labels": [
        "aug"
       ],
       "description": "План на:",
       "index": 0,
       "layout": "IPY_MODEL_9d4d2c86ae814d938a7e9347ab93e2c4",
       "style": "IPY_MODEL_b2a4caeb40204614a1b0e2c7339b37b0"
      }
     },
     "5da290d05f964ef49af8dbf9b27a26c6": {
      "model_module": "@jupyter-widgets/controls",
      "model_module_version": "1.5.0",
      "model_name": "ButtonStyleModel",
      "state": {}
     },
     "5dc10ee8c58b404e9c29449665803963": {
      "model_module": "@jupyter-widgets/base",
      "model_module_version": "1.2.0",
      "model_name": "LayoutModel",
      "state": {}
     },
     "5e3f2cd9a5ff40cb98914826069a100b": {
      "model_module": "@jupyter-widgets/base",
      "model_module_version": "1.2.0",
      "model_name": "LayoutModel",
      "state": {}
     },
     "5e5f7d44accb4516b95e467a3900d4e7": {
      "model_module": "@jupyter-widgets/controls",
      "model_module_version": "1.5.0",
      "model_name": "DescriptionStyleModel",
      "state": {
       "description_width": ""
      }
     },
     "5ee769dcdf5a44bea2f41ea72aa07c75": {
      "model_module": "@jupyter-widgets/base",
      "model_module_version": "1.2.0",
      "model_name": "LayoutModel",
      "state": {}
     },
     "5f12ae6b31ec4902869b5eb6298570ff": {
      "model_module": "@jupyter-widgets/base",
      "model_module_version": "1.2.0",
      "model_name": "LayoutModel",
      "state": {}
     },
     "5f2c2c634da44357932e58a6dba83c85": {
      "model_module": "@jupyter-widgets/controls",
      "model_module_version": "1.5.0",
      "model_name": "DescriptionStyleModel",
      "state": {
       "description_width": ""
      }
     },
     "5f5fab64b6444d09afa2619ff9674bea": {
      "model_module": "@jupyter-widgets/controls",
      "model_module_version": "1.5.0",
      "model_name": "DescriptionStyleModel",
      "state": {
       "description_width": ""
      }
     },
     "5f81c99b64cf40d1a707aafe60a019ea": {
      "model_module": "@jupyter-widgets/base",
      "model_module_version": "1.2.0",
      "model_name": "LayoutModel",
      "state": {}
     },
     "5f88904028f14c88b4d248e840adc5d0": {
      "model_module": "@jupyter-widgets/controls",
      "model_module_version": "1.5.0",
      "model_name": "DescriptionStyleModel",
      "state": {
       "description_width": ""
      }
     },
     "5f9480377fd84321935e4572fbe14889": {
      "model_module": "@jupyter-widgets/controls",
      "model_module_version": "1.5.0",
      "model_name": "DescriptionStyleModel",
      "state": {
       "description_width": ""
      }
     },
     "5fa25fd6ad9a4575837f5d69a51fa667": {
      "model_module": "@jupyter-widgets/controls",
      "model_module_version": "1.5.0",
      "model_name": "DescriptionStyleModel",
      "state": {
       "description_width": ""
      }
     },
     "600fef5251394095a1c212b1f7b6f5a1": {
      "model_module": "@jupyter-widgets/controls",
      "model_module_version": "1.5.0",
      "model_name": "BoundedIntTextModel",
      "state": {
       "description": "Симак Наталья(прокат)",
       "layout": "IPY_MODEL_f7d34ee8c39042b09f5d76e074382ef8",
       "max": 1200000,
       "step": 10000,
       "style": "IPY_MODEL_9693279e3ee1437fa6d1c86df04524b4",
       "value": 293800
      }
     },
     "6038570939b74d1e8f5cedd3771e9288": {
      "model_module": "@jupyter-widgets/base",
      "model_module_version": "1.2.0",
      "model_name": "LayoutModel",
      "state": {}
     },
     "6062e3d8aafd4d7c87908ff3553bf8a4": {
      "model_module": "@jupyter-widgets/base",
      "model_module_version": "1.2.0",
      "model_name": "LayoutModel",
      "state": {}
     },
     "60c140f2f0744c94a9fef893437ca826": {
      "model_module": "@jupyter-widgets/base",
      "model_module_version": "1.2.0",
      "model_name": "LayoutModel",
      "state": {}
     },
     "6102ac124c9f4295b4ee9e844631189d": {
      "model_module": "@jupyter-widgets/controls",
      "model_module_version": "1.5.0",
      "model_name": "CheckboxModel",
      "state": {
       "description": "Дорого",
       "disabled": false,
       "layout": "IPY_MODEL_a9d44ece580145bfa60e05d54c889176",
       "style": "IPY_MODEL_a513738ecf25467691d3c77c3633b8b7",
       "value": false
      }
     },
     "6109ce6b897c489eabdbff340f663c51": {
      "model_module": "@jupyter-widgets/base",
      "model_module_version": "1.2.0",
      "model_name": "LayoutModel",
      "state": {}
     },
     "6145b627062347489f3263cfb5fb1443": {
      "model_module": "@jupyter-widgets/controls",
      "model_module_version": "1.5.0",
      "model_name": "DescriptionStyleModel",
      "state": {
       "description_width": ""
      }
     },
     "61a5e7c1dfcb4b55805c5ae61e2abb7d": {
      "model_module": "@jupyter-widgets/controls",
      "model_module_version": "1.5.0",
      "model_name": "DescriptionStyleModel",
      "state": {
       "description_width": ""
      }
     },
     "62258fddaaf34480a075689797e5ca2a": {
      "model_module": "@jupyter-widgets/base",
      "model_module_version": "1.2.0",
      "model_name": "LayoutModel",
      "state": {}
     },
     "627c3909446a4b1089677c6aa99a8c2d": {
      "model_module": "@jupyter-widgets/controls",
      "model_module_version": "1.5.0",
      "model_name": "CheckboxModel",
      "state": {
       "description": "Закрыт офис",
       "disabled": false,
       "layout": "IPY_MODEL_bb66b47c014a46ab8406cc75eb61e2b2",
       "style": "IPY_MODEL_956fb890e7a64306b992fd851e9a3339",
       "value": false
      }
     },
     "627f0469105f498ba6ee8995f3a97a25": {
      "model_module": "@jupyter-widgets/controls",
      "model_module_version": "1.5.0",
      "model_name": "CheckboxModel",
      "state": {
       "description": "Нет курьера",
       "disabled": false,
       "layout": "IPY_MODEL_9b8254d95a964f4d9fa1698f70531ca5",
       "style": "IPY_MODEL_7f77b519fb2b41a7aabb5a9363e94e7e",
       "value": false
      }
     },
     "62945d0590244a968cef4837d9a877ee": {
      "model_module": "@jupyter-widgets/base",
      "model_module_version": "1.2.0",
      "model_name": "LayoutModel",
      "state": {}
     },
     "62c7db01c2b94f159a3ac19d48749844": {
      "model_module": "@jupyter-widgets/base",
      "model_module_version": "1.2.0",
      "model_name": "LayoutModel",
      "state": {}
     },
     "62deb290a74349388cce40f60c3c7736": {
      "model_module": "@jupyter-widgets/base",
      "model_module_version": "1.2.0",
      "model_name": "LayoutModel",
      "state": {}
     },
     "62e69ff870d249fa84cadd2a17203a20": {
      "model_module": "@jupyter-widgets/base",
      "model_module_version": "1.2.0",
      "model_name": "LayoutModel",
      "state": {}
     },
     "635d4be79c9b4ddfba02035e20c9b955": {
      "model_module": "@jupyter-widgets/controls",
      "model_module_version": "1.5.0",
      "model_name": "DescriptionStyleModel",
      "state": {
       "description_width": ""
      }
     },
     "63608544551c4c23aab72408d5af95fe": {
      "model_module": "@jupyter-widgets/base",
      "model_module_version": "1.2.0",
      "model_name": "LayoutModel",
      "state": {}
     },
     "640e06f42c294601a77ae941b04f0adc": {
      "model_module": "@jupyter-widgets/base",
      "model_module_version": "1.2.0",
      "model_name": "LayoutModel",
      "state": {}
     },
     "6427813c5e8d49fba32b2b094b33809d": {
      "model_module": "@jupyter-widgets/base",
      "model_module_version": "1.2.0",
      "model_name": "LayoutModel",
      "state": {}
     },
     "644827f6015e4257badef6cc44c2a31e": {
      "model_module": "@jupyter-widgets/base",
      "model_module_version": "1.2.0",
      "model_name": "LayoutModel",
      "state": {}
     },
     "6454b4193ab14e59bb86874973588b53": {
      "model_module": "@jupyter-widgets/controls",
      "model_module_version": "1.5.0",
      "model_name": "DescriptionStyleModel",
      "state": {
       "description_width": ""
      }
     },
     "64993544daf642bc896850726dbfef93": {
      "model_module": "@jupyter-widgets/controls",
      "model_module_version": "1.5.0",
      "model_name": "DescriptionStyleModel",
      "state": {
       "description_width": ""
      }
     },
     "64d30bbff43b4820a9e1c18a9b77dde4": {
      "model_module": "@jupyter-widgets/controls",
      "model_module_version": "1.5.0",
      "model_name": "DatePickerModel",
      "state": {
       "description": "Дата2:",
       "disabled": false,
       "layout": "IPY_MODEL_6109ce6b897c489eabdbff340f663c51",
       "style": "IPY_MODEL_9e36b8d5fcc942efbee5533f96c9e793",
       "value": {
        "date": 17,
        "month": 7,
        "year": 2021
       }
      }
     },
     "652e78a2ee4b4e58a835c1f5760c06fe": {
      "model_module": "@jupyter-widgets/controls",
      "model_module_version": "1.5.0",
      "model_name": "DescriptionStyleModel",
      "state": {
       "description_width": ""
      }
     },
     "655b07e2b20141a28bbf5a9fe18a1355": {
      "model_module": "@jupyter-widgets/controls",
      "model_module_version": "1.5.0",
      "model_name": "BoundedIntTextModel",
      "state": {
       "description": "1 Стажер(эвент)",
       "layout": "IPY_MODEL_ac632aa1e9234ee4809dae1ca18bef80",
       "max": 1200000,
       "step": 10000,
       "style": "IPY_MODEL_514e4c7df4a24058bb049d5eff9bf1d7"
      }
     },
     "65795e1ae2e54c7a85bb98a890f871c4": {
      "model_module": "@jupyter-widgets/controls",
      "model_module_version": "1.5.0",
      "model_name": "DescriptionStyleModel",
      "state": {
       "description_width": ""
      }
     },
     "65a5e9ce6d224e25920f096a28b2f7f2": {
      "model_module": "@jupyter-widgets/controls",
      "model_module_version": "1.5.0",
      "model_name": "DescriptionStyleModel",
      "state": {
       "description_width": ""
      }
     },
     "65eebe2b7679494fa6659c349b74e5ef": {
      "model_module": "@jupyter-widgets/controls",
      "model_module_version": "1.5.0",
      "model_name": "DescriptionStyleModel",
      "state": {
       "description_width": ""
      }
     },
     "65f025344dc24f888548755920821563": {
      "model_module": "@jupyter-widgets/controls",
      "model_module_version": "1.5.0",
      "model_name": "CheckboxModel",
      "state": {
       "description": "Дорого",
       "disabled": false,
       "layout": "IPY_MODEL_d8d31de0500b4dd2a0bd66844dcd4b4c",
       "style": "IPY_MODEL_45ccca91645e439c9d49724a5730ddfe",
       "value": false
      }
     },
     "66763e9a6c5943e7af32121dc369b925": {
      "model_module": "@jupyter-widgets/controls",
      "model_module_version": "1.5.0",
      "model_name": "CheckboxModel",
      "state": {
       "description": "Мусор / Спам",
       "disabled": false,
       "layout": "IPY_MODEL_46535542e2de41339ace1fe67a4cde7d",
       "style": "IPY_MODEL_ed5be878aaac473cbbd3f711aed09ae0",
       "value": true
      }
     },
     "66a34879c18d4957a2f9b5a3172d41a2": {
      "model_module": "@jupyter-widgets/controls",
      "model_module_version": "1.5.0",
      "model_name": "DescriptionStyleModel",
      "state": {
       "description_width": ""
      }
     },
     "66cb1e0c6fb9467aa30ae3d65496cbaa": {
      "model_module": "@jupyter-widgets/controls",
      "model_module_version": "1.5.0",
      "model_name": "ButtonModel",
      "state": {
       "button_style": "success",
       "description": "Показать воронки",
       "layout": "IPY_MODEL_024fe4f971b84776ad1f95e69e9aaaf5",
       "style": "IPY_MODEL_a72dd938e85e4e0c9ea698153ff9ccde"
      }
     },
     "6733902abf294cf59397630353e11aa5": {
      "model_module": "@jupyter-widgets/controls",
      "model_module_version": "1.5.0",
      "model_name": "BoundedIntTextModel",
      "state": {
       "description": "1 Стажер(прокат)",
       "layout": "IPY_MODEL_70c900c9016145799970c59e96641a3d",
       "max": 1200000,
       "step": 10000,
       "style": "IPY_MODEL_97c3548c9d1b4f60b9ed4e649f0a856e",
       "value": 214700
      }
     },
     "67cf232df1ef45b9abfee45fe881d044": {
      "model_module": "@jupyter-widgets/controls",
      "model_module_version": "1.5.0",
      "model_name": "DescriptionStyleModel",
      "state": {
       "description_width": ""
      }
     },
     "680a0425dc874e4c867561d8a4e7d2db": {
      "model_module": "@jupyter-widgets/base",
      "model_module_version": "1.2.0",
      "model_name": "LayoutModel",
      "state": {}
     },
     "680f96b633fe4763a06ac150d78a2816": {
      "model_module": "@jupyter-widgets/controls",
      "model_module_version": "1.5.0",
      "model_name": "CheckboxModel",
      "state": {
       "description": "Передумал",
       "disabled": false,
       "layout": "IPY_MODEL_920ab422b6ae450889dc5503c1e7174c",
       "style": "IPY_MODEL_80a651f9e04d41ed921aabacefd69970",
       "value": false
      }
     },
     "68149730afd34502b60d4337764c7f7e": {
      "model_module": "@jupyter-widgets/base",
      "model_module_version": "1.2.0",
      "model_name": "LayoutModel",
      "state": {}
     },
     "68947aefb90a4c8e9b228613213779db": {
      "model_module": "@jupyter-widgets/base",
      "model_module_version": "1.2.0",
      "model_name": "LayoutModel",
      "state": {}
     },
     "6899a539f55e4f5bad7d2f8e0811c864": {
      "model_module": "@jupyter-widgets/controls",
      "model_module_version": "1.5.0",
      "model_name": "DescriptionStyleModel",
      "state": {
       "description_width": ""
      }
     },
     "68c795ec92f44a2cb7f451a00aa2e321": {
      "model_module": "@jupyter-widgets/controls",
      "model_module_version": "1.5.0",
      "model_name": "BoundedIntTextModel",
      "state": {
       "description": "Шутова Виктория(прокат)",
       "layout": "IPY_MODEL_c16451ec3b524872a42258b99db1e4c1",
       "max": 1200000,
       "step": 10000,
       "style": "IPY_MODEL_59dfa0bc5603452fb7c418715b2198f2",
       "value": 248600
      }
     },
     "68ce4def861742d08e8fa4e752a39caa": {
      "model_module": "@jupyter-widgets/controls",
      "model_module_version": "1.5.0",
      "model_name": "DescriptionStyleModel",
      "state": {
       "description_width": ""
      }
     },
     "68dc6e7a040d45888ce65f7c5d76d810": {
      "model_module": "@jupyter-widgets/base",
      "model_module_version": "1.2.0",
      "model_name": "LayoutModel",
      "state": {}
     },
     "68fda88931f94104a0b9e038ff0e3308": {
      "model_module": "@jupyter-widgets/controls",
      "model_module_version": "1.5.0",
      "model_name": "DescriptionStyleModel",
      "state": {
       "description_width": ""
      }
     },
     "691ab7df7a574cf38f5208fb665889ec": {
      "model_module": "@jupyter-widgets/controls",
      "model_module_version": "1.5.0",
      "model_name": "DatePickerModel",
      "state": {
       "description": "Дата2:",
       "disabled": false,
       "layout": "IPY_MODEL_d8a65b12365b49daa637af2bfcd2de3a",
       "style": "IPY_MODEL_b9d6c70c0e6f4c84bf98789d7f97848d",
       "value": {
        "date": 17,
        "month": 7,
        "year": 2021
       }
      }
     },
     "69439852ee1f49ad83d8fbbf48a0c534": {
      "model_module": "@jupyter-widgets/base",
      "model_module_version": "1.2.0",
      "model_name": "LayoutModel",
      "state": {}
     },
     "696f6107d99847708bf75e305eda69c2": {
      "model_module": "@jupyter-widgets/controls",
      "model_module_version": "1.5.0",
      "model_name": "DescriptionStyleModel",
      "state": {
       "description_width": ""
      }
     },
     "699bddc28f4f4f02998348af3af606ac": {
      "model_module": "@jupyter-widgets/controls",
      "model_module_version": "1.5.0",
      "model_name": "CheckboxModel",
      "state": {
       "description": "Повторная заявка с другого сайта",
       "disabled": false,
       "layout": "IPY_MODEL_e482d14504bb4030a7adc620ddb81b78",
       "style": "IPY_MODEL_6efce379b188495787ffe2319466c2d0",
       "value": true
      }
     },
     "69d97507c1614c9b9fdac3836a4c6d7f": {
      "model_module": "@jupyter-widgets/controls",
      "model_module_version": "1.5.0",
      "model_name": "BoundedIntTextModel",
      "state": {
       "description": "1 Стажер(эвент)",
       "layout": "IPY_MODEL_fc69acf0d45f41aeb0f879646d849684",
       "max": 1200000,
       "step": 10000,
       "style": "IPY_MODEL_576f8317e0534a8daa3dd8cc55e7134a"
      }
     },
     "69dca334043b4c799a788ba1de0e424d": {
      "model_module": "@jupyter-widgets/controls",
      "model_module_version": "1.5.0",
      "model_name": "BoundedIntTextModel",
      "state": {
       "description": "Кузнецова Дарья(прокат)",
       "layout": "IPY_MODEL_98381866527740f4af6cbfd880ca30aa",
       "max": 1200000,
       "step": 10000,
       "style": "IPY_MODEL_7e0605bb5f32411f83c10b8398c0e8f9",
       "value": 192100
      }
     },
     "69f6323b20d44482a609e07ae1dc126b": {
      "model_module": "@jupyter-widgets/controls",
      "model_module_version": "1.5.0",
      "model_name": "BoundedIntTextModel",
      "state": {
       "description": "Симак Наталья(эвент)",
       "layout": "IPY_MODEL_ca44b807f8ac46a4ab8e41517a32d002",
       "max": 1200000,
       "step": 10000,
       "style": "IPY_MODEL_5d023e331e3a41c5be4ae8d34402c9e1",
       "value": 52500
      }
     },
     "6a41363ddc044f9b8624265b9b3bfa3c": {
      "model_module": "@jupyter-widgets/base",
      "model_module_version": "1.2.0",
      "model_name": "LayoutModel",
      "state": {}
     },
     "6aa28ee2581540afaba52dcac8f1b98b": {
      "model_module": "@jupyter-widgets/controls",
      "model_module_version": "1.5.0",
      "model_name": "CheckboxModel",
      "state": {
       "description": "Передумал",
       "disabled": false,
       "layout": "IPY_MODEL_dc8fc1534f464001b8536701db942d0a",
       "style": "IPY_MODEL_54cb1edfdd2340d38677ff049252efcb",
       "value": false
      }
     },
     "6b8d9ca6216a49cbaead9834c4d1ba70": {
      "model_module": "@jupyter-widgets/base",
      "model_module_version": "1.2.0",
      "model_name": "LayoutModel",
      "state": {}
     },
     "6ba974e910e34b51a39c7fc174b2e0d2": {
      "model_module": "@jupyter-widgets/controls",
      "model_module_version": "1.5.0",
      "model_name": "DescriptionStyleModel",
      "state": {
       "description_width": ""
      }
     },
     "6c20b627ee8d429db348258a3a306965": {
      "model_module": "@jupyter-widgets/base",
      "model_module_version": "1.2.0",
      "model_name": "LayoutModel",
      "state": {}
     },
     "6c3130b3af584f12b70a638d6a6d85f9": {
      "model_module": "@jupyter-widgets/controls",
      "model_module_version": "1.5.0",
      "model_name": "DescriptionStyleModel",
      "state": {
       "description_width": ""
      }
     },
     "6c7301c626b54802a5056be5d11e4da8": {
      "model_module": "@jupyter-widgets/controls",
      "model_module_version": "1.5.0",
      "model_name": "DescriptionStyleModel",
      "state": {
       "description_width": ""
      }
     },
     "6d02c11654624c83811e2ac5344f2121": {
      "model_module": "@jupyter-widgets/controls",
      "model_module_version": "1.5.0",
      "model_name": "CheckboxModel",
      "state": {
       "description": "Дубль",
       "disabled": false,
       "layout": "IPY_MODEL_3951a7c00dad499dbcff3b7839e0fe87",
       "style": "IPY_MODEL_9082d585bb1c490da92d0aa94765bfc4",
       "value": true
      }
     },
     "6e3bfc56eca24471b53258cc12e59da8": {
      "model_module": "@jupyter-widgets/controls",
      "model_module_version": "1.5.0",
      "model_name": "CheckboxModel",
      "state": {
       "description": "Дорого",
       "disabled": false,
       "layout": "IPY_MODEL_0c0fbcc7fc524f89856cc006109a626e",
       "style": "IPY_MODEL_17083a59c7b14ac7a7313ffc0b34182b",
       "value": false
      }
     },
     "6ee242044e6449089830302fb0dab5a1": {
      "model_module": "@jupyter-widgets/base",
      "model_module_version": "1.2.0",
      "model_name": "LayoutModel",
      "state": {}
     },
     "6efce379b188495787ffe2319466c2d0": {
      "model_module": "@jupyter-widgets/controls",
      "model_module_version": "1.5.0",
      "model_name": "DescriptionStyleModel",
      "state": {
       "description_width": ""
      }
     },
     "6f14db9400da49ae867ddbb6d2c58d7e": {
      "model_module": "@jupyter-widgets/base",
      "model_module_version": "1.2.0",
      "model_name": "LayoutModel",
      "state": {}
     },
     "6f41010ea94448b3a764221ee70af42c": {
      "model_module": "@jupyter-widgets/controls",
      "model_module_version": "1.5.0",
      "model_name": "DescriptionStyleModel",
      "state": {
       "description_width": ""
      }
     },
     "6f5ed5986ab44f04aeed29d4a2fdaed6": {
      "model_module": "@jupyter-widgets/controls",
      "model_module_version": "1.5.0",
      "model_name": "DatePickerModel",
      "state": {
       "description": "Дата1:",
       "disabled": false,
       "layout": "IPY_MODEL_8940f3e7d7a24b8081da6903c787618d",
       "style": "IPY_MODEL_5f88904028f14c88b4d248e840adc5d0",
       "value": {
        "date": 17,
        "month": 7,
        "year": 2021
       }
      }
     },
     "6f7b138ab9884771a388f97669ec0d8c": {
      "model_module": "@jupyter-widgets/controls",
      "model_module_version": "1.5.0",
      "model_name": "DescriptionStyleModel",
      "state": {
       "description_width": ""
      }
     },
     "6f7e2de6007f4d42b579689fa7544235": {
      "model_module": "@jupyter-widgets/controls",
      "model_module_version": "1.5.0",
      "model_name": "DescriptionStyleModel",
      "state": {
       "description_width": ""
      }
     },
     "6fc139f3b84c49f9a097097e731b2802": {
      "model_module": "@jupyter-widgets/base",
      "model_module_version": "1.2.0",
      "model_name": "LayoutModel",
      "state": {}
     },
     "6fca2929a8934a81bd3ba888480bc987": {
      "model_module": "@jupyter-widgets/controls",
      "model_module_version": "1.5.0",
      "model_name": "BoundedIntTextModel",
      "state": {
       "description": "Симак Наталья(прокат)",
       "layout": "IPY_MODEL_f2b4c0c361114a4fa2c7b8db2341f573",
       "max": 1200000,
       "step": 10000,
       "style": "IPY_MODEL_591962cd50fa49a494d545cdf184e163",
       "value": 293800
      }
     },
     "6fe1c49dfddb44b08370d33858849080": {
      "model_module": "@jupyter-widgets/controls",
      "model_module_version": "1.5.0",
      "model_name": "CheckboxModel",
      "state": {
       "description": "Дубль",
       "disabled": false,
       "layout": "IPY_MODEL_239426881b2c43b08a31dcc8ca9b7575",
       "style": "IPY_MODEL_b6678b2ecb8046a696d3cb91a1b02e8d",
       "value": true
      }
     },
     "7034b02826c64cc5a8f6c6aa7f6764f7": {
      "model_module": "@jupyter-widgets/controls",
      "model_module_version": "1.5.0",
      "model_name": "CheckboxModel",
      "state": {
       "description": "Передумал",
       "disabled": false,
       "layout": "IPY_MODEL_640e06f42c294601a77ae941b04f0adc",
       "style": "IPY_MODEL_fb47d37b78be46c9a63f98c2411b698d",
       "value": false
      }
     },
     "70368b64e25d4165a44ac1791f6eeff5": {
      "model_module": "@jupyter-widgets/controls",
      "model_module_version": "1.5.0",
      "model_name": "DescriptionStyleModel",
      "state": {
       "description_width": ""
      }
     },
     "704bc9c45c4d4cf9bbb27a4df4b83405": {
      "model_module": "@jupyter-widgets/base",
      "model_module_version": "1.2.0",
      "model_name": "LayoutModel",
      "state": {}
     },
     "7063df09b41049a38a4b45cdb75c88de": {
      "model_module": "@jupyter-widgets/controls",
      "model_module_version": "1.5.0",
      "model_name": "CheckboxModel",
      "state": {
       "description": "Дубль",
       "disabled": false,
       "layout": "IPY_MODEL_d9ce92592e6f42279d177c965c1a2743",
       "style": "IPY_MODEL_61a5e7c1dfcb4b55805c5ae61e2abb7d",
       "value": true
      }
     },
     "70c900c9016145799970c59e96641a3d": {
      "model_module": "@jupyter-widgets/base",
      "model_module_version": "1.2.0",
      "model_name": "LayoutModel",
      "state": {}
     },
     "70fb1476d0b6451da36df0dab20b00e4": {
      "model_module": "@jupyter-widgets/base",
      "model_module_version": "1.2.0",
      "model_name": "LayoutModel",
      "state": {}
     },
     "7159b06fcd9d48e883a283ed5a877eb5": {
      "model_module": "@jupyter-widgets/base",
      "model_module_version": "1.2.0",
      "model_name": "LayoutModel",
      "state": {}
     },
     "720c4d14a61244a8ac1f77157223027e": {
      "model_module": "@jupyter-widgets/controls",
      "model_module_version": "1.5.0",
      "model_name": "DescriptionStyleModel",
      "state": {
       "description_width": ""
      }
     },
     "72900c01e2cd48588a150e66c34c0c1e": {
      "model_module": "@jupyter-widgets/base",
      "model_module_version": "1.2.0",
      "model_name": "LayoutModel",
      "state": {}
     },
     "72c27266fc5c46dc9c8b97e8b6171d5d": {
      "model_module": "@jupyter-widgets/base",
      "model_module_version": "1.2.0",
      "model_name": "LayoutModel",
      "state": {}
     },
     "72c779ae6d544c199ae2b11c4b0896a4": {
      "model_module": "@jupyter-widgets/base",
      "model_module_version": "1.2.0",
      "model_name": "LayoutModel",
      "state": {}
     },
     "72d1ddb8e9d6436bbe0d19ac583a5c4c": {
      "model_module": "@jupyter-widgets/base",
      "model_module_version": "1.2.0",
      "model_name": "LayoutModel",
      "state": {}
     },
     "730c0a550ea64e0ab74681e81a857040": {
      "model_module": "@jupyter-widgets/controls",
      "model_module_version": "1.5.0",
      "model_name": "DescriptionStyleModel",
      "state": {
       "description_width": ""
      }
     },
     "739903238d57456d9295b3857af1d75a": {
      "model_module": "@jupyter-widgets/base",
      "model_module_version": "1.2.0",
      "model_name": "LayoutModel",
      "state": {}
     },
     "73d8535516e44b5ea4726df84af0f9c7": {
      "model_module": "@jupyter-widgets/controls",
      "model_module_version": "1.5.0",
      "model_name": "DescriptionStyleModel",
      "state": {
       "description_width": ""
      }
     },
     "74a7c5cd98d149f78c8bc15ac7a87ca7": {
      "model_module": "@jupyter-widgets/controls",
      "model_module_version": "1.5.0",
      "model_name": "DescriptionStyleModel",
      "state": {
       "description_width": ""
      }
     },
     "7529eaef70f546e9938beb12d936e328": {
      "model_module": "@jupyter-widgets/controls",
      "model_module_version": "1.5.0",
      "model_name": "CheckboxModel",
      "state": {
       "description": "Передумал",
       "disabled": false,
       "layout": "IPY_MODEL_9de52b44096e4f1b955773c28d1a4c6b",
       "style": "IPY_MODEL_c5c00e3bc2614c229f8479dbb4dc9013",
       "value": false
      }
     },
     "75dc318a0a4e4959b8489ea609c12fbc": {
      "model_module": "@jupyter-widgets/base",
      "model_module_version": "1.2.0",
      "model_name": "LayoutModel",
      "state": {}
     },
     "75e60970634c4950b42da1fbb36ccaab": {
      "model_module": "@jupyter-widgets/controls",
      "model_module_version": "1.5.0",
      "model_name": "CheckboxModel",
      "state": {
       "description": "Нет курьера",
       "disabled": false,
       "layout": "IPY_MODEL_a9863672db154d1a943754321f0626bd",
       "style": "IPY_MODEL_177d0ac2a4ba415487d94b8908fd2224",
       "value": false
      }
     },
     "75f7e56caeab4c4591ce02b9d63a0e18": {
      "model_module": "@jupyter-widgets/base",
      "model_module_version": "1.2.0",
      "model_name": "LayoutModel",
      "state": {}
     },
     "762a71f9231144fb81012629b7408ca2": {
      "model_module": "@jupyter-widgets/controls",
      "model_module_version": "1.5.0",
      "model_name": "CheckboxModel",
      "state": {
       "description": "Передумал",
       "disabled": false,
       "layout": "IPY_MODEL_fc00ead331fd4038bc2f9ad245539900",
       "style": "IPY_MODEL_91a0b63d899946679bfee35b134fa0db",
       "value": false
      }
     },
     "764189b3c0f44118a401a2cc68be3f3e": {
      "model_module": "@jupyter-widgets/controls",
      "model_module_version": "1.5.0",
      "model_name": "BoundedIntTextModel",
      "state": {
       "description": "1 Стажер(прокат)",
       "layout": "IPY_MODEL_43edb0729dbf42c695d68b4d6b20c8c9",
       "max": 1200000,
       "step": 10000,
       "style": "IPY_MODEL_c2cb08b6ef394ea093ebfd3fb0b05ec3",
       "value": 214700
      }
     },
     "76f26bf7503f47a69af8fa5685c121d7": {
      "model_module": "@jupyter-widgets/controls",
      "model_module_version": "1.5.0",
      "model_name": "ButtonModel",
      "state": {
       "button_style": "success",
       "description": "Загрузить",
       "layout": "IPY_MODEL_a8b169ce7fb1433894e23b6212cec4b5",
       "style": "IPY_MODEL_ee7b677ab53e43f98c5b995bcadb0d1b"
      }
     },
     "77699f7bc0d74c5f8522051306d2c294": {
      "model_module": "@jupyter-widgets/controls",
      "model_module_version": "1.5.0",
      "model_name": "BoundedIntTextModel",
      "state": {
       "description": "Шутова Виктория(прокат)",
       "layout": "IPY_MODEL_d93a0c1140c84772b7df3be0ab7af7da",
       "max": 1200000,
       "step": 10000,
       "style": "IPY_MODEL_c2315211097e4bea85f5d4b429ed8a25",
       "value": 248600
      }
     },
     "778d1f4bca004740ae7a8daa2d098610": {
      "model_module": "@jupyter-widgets/controls",
      "model_module_version": "1.5.0",
      "model_name": "BoundedIntTextModel",
      "state": {
       "description": "Шутова Виктория(эвент)",
       "layout": "IPY_MODEL_1dd2c7d9adf64cc1ae2cd2d2f81371c5",
       "max": 1200000,
       "step": 10000,
       "style": "IPY_MODEL_3260bf25fe974a5497bb818bdaacdcdc",
       "value": 157500
      }
     },
     "77a0575144134384bf78a952c5130371": {
      "model_module": "@jupyter-widgets/controls",
      "model_module_version": "1.5.0",
      "model_name": "DescriptionStyleModel",
      "state": {
       "description_width": ""
      }
     },
     "77cd2b27a0a345da922cf2f5687a9620": {
      "model_module": "@jupyter-widgets/controls",
      "model_module_version": "1.5.0",
      "model_name": "DescriptionStyleModel",
      "state": {
       "description_width": ""
      }
     },
     "77ce6cb69157496ca00d5569ef6ebb47": {
      "model_module": "@jupyter-widgets/controls",
      "model_module_version": "1.5.0",
      "model_name": "BoundedIntTextModel",
      "state": {
       "description": "Кузнецова Дарья(эвент)",
       "layout": "IPY_MODEL_af7fa7cc7312455a99d1069b8f7e0346",
       "max": 1200000,
       "step": 10000,
       "style": "IPY_MODEL_4508efd6810c4695b70a83451741624f",
       "value": 140000
      }
     },
     "785eea47aaec4bc6837746ec6e5a7311": {
      "model_module": "@jupyter-widgets/controls",
      "model_module_version": "1.5.0",
      "model_name": "DescriptionStyleModel",
      "state": {
       "description_width": ""
      }
     },
     "787ef8d8ffcd4e72865cc95f23a453a1": {
      "model_module": "@jupyter-widgets/base",
      "model_module_version": "1.2.0",
      "model_name": "LayoutModel",
      "state": {}
     },
     "78c7af9472b24de2ae0b0e5ac91b86b4": {
      "model_module": "@jupyter-widgets/controls",
      "model_module_version": "1.5.0",
      "model_name": "DescriptionStyleModel",
      "state": {
       "description_width": ""
      }
     },
     "790b0e55c098478c803477c7eab1bac0": {
      "model_module": "@jupyter-widgets/controls",
      "model_module_version": "1.5.0",
      "model_name": "BoundedIntTextModel",
      "state": {
       "description": "1 Стажер(прокат)",
       "layout": "IPY_MODEL_f25fcdfcc54c47679f144b1f6bba8b6d",
       "max": 1200000,
       "step": 10000,
       "style": "IPY_MODEL_41fc1c0dd4404d33a553a81a5315eab6",
       "value": 214700
      }
     },
     "7968811dba4b4a0fb253db5dad8b7ba9": {
      "model_module": "@jupyter-widgets/base",
      "model_module_version": "1.2.0",
      "model_name": "LayoutModel",
      "state": {}
     },
     "79bf668a46b9417b8b90f952cc2d4a07": {
      "model_module": "@jupyter-widgets/controls",
      "model_module_version": "1.5.0",
      "model_name": "CheckboxModel",
      "state": {
       "description": "Не устроил залог",
       "disabled": false,
       "layout": "IPY_MODEL_87f7b25ef8ea40c28a63f696178f73b0",
       "style": "IPY_MODEL_e3f15136bc1e404aa07e00bf06c72ec8",
       "value": false
      }
     },
     "79e80ee467cf419fb2788d6d699aa79e": {
      "model_module": "@jupyter-widgets/controls",
      "model_module_version": "1.5.0",
      "model_name": "DropdownModel",
      "state": {
       "_options_labels": [
        "aug"
       ],
       "description": "План на:",
       "index": 0,
       "layout": "IPY_MODEL_1dbc8697b11a45bd9550d7053a7a8877",
       "style": "IPY_MODEL_1bedccc7865c4808b8c3f9e1f071e16c"
      }
     },
     "79e8c839043944aa880dcacf8a18ca46": {
      "model_module": "@jupyter-widgets/controls",
      "model_module_version": "1.5.0",
      "model_name": "CheckboxModel",
      "state": {
       "description": "Клиент пропал",
       "disabled": false,
       "layout": "IPY_MODEL_1cb764c77e234f29aed85da48876a297",
       "style": "IPY_MODEL_beac99e57af14e37976aefa7377ab4d1",
       "value": false
      }
     },
     "7a5a6a52330c4f90adf46cde25bd849a": {
      "model_module": "@jupyter-widgets/base",
      "model_module_version": "1.2.0",
      "model_name": "LayoutModel",
      "state": {}
     },
     "7a66fadbc72f4a088c0a173e41e22b43": {
      "model_module": "@jupyter-widgets/controls",
      "model_module_version": "1.5.0",
      "model_name": "DescriptionStyleModel",
      "state": {
       "description_width": ""
      }
     },
     "7a91392058fe4cbfaf8e1a903ea63912": {
      "model_module": "@jupyter-widgets/controls",
      "model_module_version": "1.5.0",
      "model_name": "BoundedIntTextModel",
      "state": {
       "description": "Чепрасова Ольга(прокат)",
       "layout": "IPY_MODEL_a91a78720b9f486780992f1be70a2ec1",
       "max": 1200000,
       "step": 10000,
       "style": "IPY_MODEL_fd7aef16cbaf445790e580b84b923fbf",
       "value": 180800
      }
     },
     "7aadd3065e3a4bccb9700b43a9854903": {
      "model_module": "@jupyter-widgets/controls",
      "model_module_version": "1.5.0",
      "model_name": "DescriptionStyleModel",
      "state": {
       "description_width": ""
      }
     },
     "7ab126dbbf2b415e9aa9b056864187b6": {
      "model_module": "@jupyter-widgets/base",
      "model_module_version": "1.2.0",
      "model_name": "LayoutModel",
      "state": {}
     },
     "7b191365393c40579c1712f6eff5e2e7": {
      "model_module": "@jupyter-widgets/base",
      "model_module_version": "1.2.0",
      "model_name": "LayoutModel",
      "state": {}
     },
     "7b4d806ad78b4f5088ca0d377c309221": {
      "model_module": "@jupyter-widgets/controls",
      "model_module_version": "1.5.0",
      "model_name": "CheckboxModel",
      "state": {
       "description": "Мусор / Спам",
       "disabled": false,
       "layout": "IPY_MODEL_f1033316d6d24e95ae42de340ea4f280",
       "style": "IPY_MODEL_ae6db9f9489a42c88faff2d3fc4ebc8d",
       "value": true
      }
     },
     "7b50d8ae33724b0c9b684b8093ac0d74": {
      "model_module": "@jupyter-widgets/base",
      "model_module_version": "1.2.0",
      "model_name": "LayoutModel",
      "state": {}
     },
     "7b5ff2772077409baf591fa007a7ecd1": {
      "model_module": "@jupyter-widgets/controls",
      "model_module_version": "1.5.0",
      "model_name": "DescriptionStyleModel",
      "state": {
       "description_width": ""
      }
     },
     "7b8d1e4cdedb4465aff033edfd4afc88": {
      "model_module": "@jupyter-widgets/controls",
      "model_module_version": "1.5.0",
      "model_name": "DescriptionStyleModel",
      "state": {
       "description_width": ""
      }
     },
     "7bcab3c5df464b448aa851f363e91d89": {
      "model_module": "@jupyter-widgets/controls",
      "model_module_version": "1.5.0",
      "model_name": "BoundedIntTextModel",
      "state": {
       "description": "1 Стажер(прокат)",
       "layout": "IPY_MODEL_60c140f2f0744c94a9fef893437ca826",
       "max": 1200000,
       "step": 10000,
       "style": "IPY_MODEL_a664c1adbdc74700906100cd0ec581e9",
       "value": 214700
      }
     },
     "7bcda74849694091bbec838636dfc8a5": {
      "model_module": "@jupyter-widgets/controls",
      "model_module_version": "1.5.0",
      "model_name": "DescriptionStyleModel",
      "state": {
       "description_width": ""
      }
     },
     "7c3c25e441c8416ea1849e85ea66c11c": {
      "model_module": "@jupyter-widgets/controls",
      "model_module_version": "1.5.0",
      "model_name": "DescriptionStyleModel",
      "state": {
       "description_width": ""
      }
     },
     "7c45787507634ce8b230579562c8c46c": {
      "model_module": "@jupyter-widgets/base",
      "model_module_version": "1.2.0",
      "model_name": "LayoutModel",
      "state": {}
     },
     "7c55aa1e107a4038a8ef73713e8d549a": {
      "model_module": "@jupyter-widgets/base",
      "model_module_version": "1.2.0",
      "model_name": "LayoutModel",
      "state": {}
     },
     "7cf5e4e3f06047d39f76648b3ac3bb80": {
      "model_module": "@jupyter-widgets/controls",
      "model_module_version": "1.5.0",
      "model_name": "DescriptionStyleModel",
      "state": {
       "description_width": ""
      }
     },
     "7d2bf5ef28aa4db098806eec878644b4": {
      "model_module": "@jupyter-widgets/controls",
      "model_module_version": "1.5.0",
      "model_name": "BoundedIntTextModel",
      "state": {
       "description": "Кузнецова Дарья(прокат)",
       "layout": "IPY_MODEL_69439852ee1f49ad83d8fbbf48a0c534",
       "max": 1200000,
       "step": 10000,
       "style": "IPY_MODEL_ebf6381b1c664c6399bf7c9138bf2940",
       "value": 192100
      }
     },
     "7d3616b342bd4bb0a114e3600edef9af": {
      "model_module": "@jupyter-widgets/controls",
      "model_module_version": "1.5.0",
      "model_name": "BoundedIntTextModel",
      "state": {
       "description": "Шутова Виктория(эвент)",
       "layout": "IPY_MODEL_e8ad79a2895b4a0189809cdbf1e84464",
       "max": 1200000,
       "step": 10000,
       "style": "IPY_MODEL_460fb67d4fa84b16a57b447562d1494e",
       "value": 157500
      }
     },
     "7d58b56a596c4929b5c6ad89cdc08c70": {
      "model_module": "@jupyter-widgets/controls",
      "model_module_version": "1.5.0",
      "model_name": "ButtonModel",
      "state": {
       "button_style": "success",
       "description": "Загрузить",
       "layout": "IPY_MODEL_e0a41bdfb8de43e0bf69bfaaef18cc4b",
       "style": "IPY_MODEL_951232884bba43249127fd8d626f71b2"
      }
     },
     "7d60f62d72b24d5a852d0d9dfcb82ac5": {
      "model_module": "@jupyter-widgets/base",
      "model_module_version": "1.2.0",
      "model_name": "LayoutModel",
      "state": {}
     },
     "7d646f7d4f6546e69888dc15f515cf6b": {
      "model_module": "@jupyter-widgets/controls",
      "model_module_version": "1.5.0",
      "model_name": "DescriptionStyleModel",
      "state": {
       "description_width": ""
      }
     },
     "7dd2021f68734b298a61059d10219999": {
      "model_module": "@jupyter-widgets/controls",
      "model_module_version": "1.5.0",
      "model_name": "ButtonStyleModel",
      "state": {}
     },
     "7dfe27f8060d46a192afd0ab2e30be90": {
      "model_module": "@jupyter-widgets/controls",
      "model_module_version": "1.5.0",
      "model_name": "DescriptionStyleModel",
      "state": {
       "description_width": ""
      }
     },
     "7e0605bb5f32411f83c10b8398c0e8f9": {
      "model_module": "@jupyter-widgets/controls",
      "model_module_version": "1.5.0",
      "model_name": "DescriptionStyleModel",
      "state": {
       "description_width": ""
      }
     },
     "7e904f590a6f42739e1381bf5ce85004": {
      "model_module": "@jupyter-widgets/controls",
      "model_module_version": "1.5.0",
      "model_name": "CheckboxModel",
      "state": {
       "description": "Дорого",
       "disabled": false,
       "layout": "IPY_MODEL_23c3dae07a484cac933015986a4965f8",
       "style": "IPY_MODEL_6c3130b3af584f12b70a638d6a6d85f9",
       "value": false
      }
     },
     "7f2bc5f9241f4f4abf1b3da87a94e3a5": {
      "model_module": "@jupyter-widgets/base",
      "model_module_version": "1.2.0",
      "model_name": "LayoutModel",
      "state": {}
     },
     "7f39aca885cf4d60a20c4c8e804fa6a2": {
      "model_module": "@jupyter-widgets/base",
      "model_module_version": "1.2.0",
      "model_name": "LayoutModel",
      "state": {}
     },
     "7f47b7860e064777bbb81c4324947b73": {
      "model_module": "@jupyter-widgets/base",
      "model_module_version": "1.2.0",
      "model_name": "LayoutModel",
      "state": {}
     },
     "7f654fdbec8544fe8903b770d7f3ee2b": {
      "model_module": "@jupyter-widgets/base",
      "model_module_version": "1.2.0",
      "model_name": "LayoutModel",
      "state": {}
     },
     "7f77b519fb2b41a7aabb5a9363e94e7e": {
      "model_module": "@jupyter-widgets/controls",
      "model_module_version": "1.5.0",
      "model_name": "DescriptionStyleModel",
      "state": {
       "description_width": ""
      }
     },
     "7f9cbaef376e47f4b2e6dc6b67b60adb": {
      "model_module": "@jupyter-widgets/controls",
      "model_module_version": "1.5.0",
      "model_name": "BoundedIntTextModel",
      "state": {
       "description": "Чепрасова Ольга(эвент)",
       "layout": "IPY_MODEL_5baa5933ca294656a87e42529b1bc3bf",
       "max": 1200000,
       "step": 10000,
       "style": "IPY_MODEL_9a4c9c5b5b4a448085bd33c3349d5c5b"
      }
     },
     "7fb4f0bc91cc42e69c073cfa3543acd7": {
      "model_module": "@jupyter-widgets/base",
      "model_module_version": "1.2.0",
      "model_name": "LayoutModel",
      "state": {}
     },
     "8031f8c4116b405483c68e4af729eea2": {
      "model_module": "@jupyter-widgets/controls",
      "model_module_version": "1.5.0",
      "model_name": "BoundedIntTextModel",
      "state": {
       "description": "Чепрасова Ольга(прокат)",
       "layout": "IPY_MODEL_99f608d78b2e434d9545774775060389",
       "max": 1200000,
       "step": 10000,
       "style": "IPY_MODEL_92ad8aa3835b42f885a6494c856f3bc4",
       "value": 180800
      }
     },
     "80a651f9e04d41ed921aabacefd69970": {
      "model_module": "@jupyter-widgets/controls",
      "model_module_version": "1.5.0",
      "model_name": "DescriptionStyleModel",
      "state": {
       "description_width": ""
      }
     },
     "810b5a5bb8c64a2da94235973d2864c0": {
      "model_module": "@jupyter-widgets/base",
      "model_module_version": "1.2.0",
      "model_name": "LayoutModel",
      "state": {}
     },
     "81b24520ad77402e9de7d599e8a5fb9c": {
      "model_module": "@jupyter-widgets/controls",
      "model_module_version": "1.5.0",
      "model_name": "CheckboxModel",
      "state": {
       "description": "Клиент пропал",
       "disabled": false,
       "layout": "IPY_MODEL_8c57d476036b44a58e52aad3c227929c",
       "style": "IPY_MODEL_492fe2f8db8f43e4b7c6584b0001d91d",
       "value": false
      }
     },
     "82410f7ba76f479588d20a41bbac2003": {
      "model_module": "@jupyter-widgets/base",
      "model_module_version": "1.2.0",
      "model_name": "LayoutModel",
      "state": {}
     },
     "827381a9ef074bbb9419564140f3c918": {
      "model_module": "@jupyter-widgets/controls",
      "model_module_version": "1.5.0",
      "model_name": "BoundedIntTextModel",
      "state": {
       "description": "Шутова Виктория(эвент)",
       "layout": "IPY_MODEL_f51a10a6b9664b9380104479f5b50d1d",
       "max": 1200000,
       "step": 10000,
       "style": "IPY_MODEL_cfa25035c68d4dce9798f74c01398918",
       "value": 157500
      }
     },
     "828be860a5fd48818ba7939651b41eba": {
      "model_module": "@jupyter-widgets/controls",
      "model_module_version": "1.5.0",
      "model_name": "BoundedIntTextModel",
      "state": {
       "description": "Чепрасова Ольга(эвент)",
       "layout": "IPY_MODEL_6ee242044e6449089830302fb0dab5a1",
       "max": 1200000,
       "step": 10000,
       "style": "IPY_MODEL_2bbb9f622cc64ca1b79e7cf368371f67"
      }
     },
     "82c19d1a01524d66873ab34edaf6b5d3": {
      "model_module": "@jupyter-widgets/base",
      "model_module_version": "1.2.0",
      "model_name": "LayoutModel",
      "state": {}
     },
     "82d72f4bcae7430e94ae1fb95396eb9d": {
      "model_module": "@jupyter-widgets/controls",
      "model_module_version": "1.5.0",
      "model_name": "CheckboxModel",
      "state": {
       "description": "Повторная заявка с другого сайта",
       "disabled": false,
       "layout": "IPY_MODEL_1a8a515b238041e4823780abb4c11831",
       "style": "IPY_MODEL_c662d58cf5c942f8b0accf5fc819413b",
       "value": true
      }
     },
     "82f3fdaf17ac436382ee7de704650689": {
      "model_module": "@jupyter-widgets/controls",
      "model_module_version": "1.5.0",
      "model_name": "CheckboxModel",
      "state": {
       "description": "Нет курьера",
       "disabled": false,
       "layout": "IPY_MODEL_9eaeb3444b1a44aa8783a0785fe469ff",
       "style": "IPY_MODEL_caf15829e15240619d81944b3798a7a7",
       "value": false
      }
     },
     "82f7e2c54b1a472995684c8802ef5745": {
      "model_module": "@jupyter-widgets/controls",
      "model_module_version": "1.5.0",
      "model_name": "DescriptionStyleModel",
      "state": {
       "description_width": ""
      }
     },
     "832721469bf04360be4283677bb30918": {
      "model_module": "@jupyter-widgets/controls",
      "model_module_version": "1.5.0",
      "model_name": "DescriptionStyleModel",
      "state": {
       "description_width": ""
      }
     },
     "838c54e781ff4d28ad0d65d59a9b2d6e": {
      "model_module": "@jupyter-widgets/base",
      "model_module_version": "1.2.0",
      "model_name": "LayoutModel",
      "state": {}
     },
     "83a0048bbf3b491c9511fb3649695bc8": {
      "model_module": "@jupyter-widgets/controls",
      "model_module_version": "1.5.0",
      "model_name": "CheckboxModel",
      "state": {
       "description": "Мусор / Спам",
       "disabled": false,
       "layout": "IPY_MODEL_0241cbd3876847bcb6b6b1b746481a40",
       "style": "IPY_MODEL_7b8d1e4cdedb4465aff033edfd4afc88",
       "value": true
      }
     },
     "83ccde527c0b4abaa4f0e0d54f69a36a": {
      "model_module": "@jupyter-widgets/controls",
      "model_module_version": "1.5.0",
      "model_name": "DescriptionStyleModel",
      "state": {
       "description_width": ""
      }
     },
     "83dacc42c4ce4863959550bd306ffd83": {
      "model_module": "@jupyter-widgets/base",
      "model_module_version": "1.2.0",
      "model_name": "LayoutModel",
      "state": {}
     },
     "83dbccc0970d4b91a5215708d6634f30": {
      "model_module": "@jupyter-widgets/controls",
      "model_module_version": "1.5.0",
      "model_name": "CheckboxModel",
      "state": {
       "description": "Мусор / Спам",
       "disabled": false,
       "layout": "IPY_MODEL_86f3a06be65647ce84f5bf6f1bb5d4a5",
       "style": "IPY_MODEL_95e0992594064237b0629cd9e19db31e",
       "value": true
      }
     },
     "83ea04f641124601a1a2f9a5af2ca12b": {
      "model_module": "@jupyter-widgets/base",
      "model_module_version": "1.2.0",
      "model_name": "LayoutModel",
      "state": {}
     },
     "845ec6fd3fa340a1b2d22ab71259df5c": {
      "model_module": "@jupyter-widgets/controls",
      "model_module_version": "1.5.0",
      "model_name": "BoundedIntTextModel",
      "state": {
       "description": "Шутова Виктория(эвент)",
       "layout": "IPY_MODEL_087240951cdd48d9b88be7749ed296bb",
       "max": 1200000,
       "step": 10000,
       "style": "IPY_MODEL_c43b6cc61ca94aff8ecb3d3d55067aa1",
       "value": 157500
      }
     },
     "850ce2520d3e4b0f96e641daedadd780": {
      "model_module": "@jupyter-widgets/controls",
      "model_module_version": "1.5.0",
      "model_name": "DescriptionStyleModel",
      "state": {
       "description_width": ""
      }
     },
     "85a31c8e92f849caa2f4654a5395beb0": {
      "model_module": "@jupyter-widgets/controls",
      "model_module_version": "1.5.0",
      "model_name": "DatePickerModel",
      "state": {
       "description": "Дата1:",
       "disabled": false,
       "layout": "IPY_MODEL_7f2bc5f9241f4f4abf1b3da87a94e3a5",
       "style": "IPY_MODEL_9b3f2a63395240839fe71b44cde78fac",
       "value": {
        "date": 17,
        "month": 7,
        "year": 2021
       }
      }
     },
     "85e673311c7c44a28cd7f2533282e473": {
      "model_module": "@jupyter-widgets/base",
      "model_module_version": "1.2.0",
      "model_name": "LayoutModel",
      "state": {}
     },
     "860f8be58b0249ebbae6f9a27496744a": {
      "model_module": "@jupyter-widgets/controls",
      "model_module_version": "1.5.0",
      "model_name": "DescriptionStyleModel",
      "state": {
       "description_width": ""
      }
     },
     "8625fe7473f34478ab79620ae1d1a9d6": {
      "model_module": "@jupyter-widgets/controls",
      "model_module_version": "1.5.0",
      "model_name": "DescriptionStyleModel",
      "state": {
       "description_width": ""
      }
     },
     "868c3862b5914db7b7c2cb4989d36ba0": {
      "model_module": "@jupyter-widgets/base",
      "model_module_version": "1.2.0",
      "model_name": "LayoutModel",
      "state": {}
     },
     "86d83f7219e6472eb7a2c57e0138d4c2": {
      "model_module": "@jupyter-widgets/controls",
      "model_module_version": "1.5.0",
      "model_name": "DescriptionStyleModel",
      "state": {
       "description_width": ""
      }
     },
     "86de6205d9dd4056b6c02acbd70488d9": {
      "model_module": "@jupyter-widgets/controls",
      "model_module_version": "1.5.0",
      "model_name": "DescriptionStyleModel",
      "state": {
       "description_width": ""
      }
     },
     "86ed98cdcc514bb89c723158b15ec417": {
      "model_module": "@jupyter-widgets/controls",
      "model_module_version": "1.5.0",
      "model_name": "BoundedIntTextModel",
      "state": {
       "description": "Чепрасова Ольга(прокат)",
       "layout": "IPY_MODEL_b63b067349a4432f86820a6ee2181e75",
       "max": 1200000,
       "step": 10000,
       "style": "IPY_MODEL_d78205b478ed4bfb980d92af8774d407",
       "value": 180800
      }
     },
     "86f3a06be65647ce84f5bf6f1bb5d4a5": {
      "model_module": "@jupyter-widgets/base",
      "model_module_version": "1.2.0",
      "model_name": "LayoutModel",
      "state": {}
     },
     "8736c9529dc9471e99a6c6e51937f0d4": {
      "model_module": "@jupyter-widgets/controls",
      "model_module_version": "1.5.0",
      "model_name": "DescriptionStyleModel",
      "state": {
       "description_width": ""
      }
     },
     "8758408b10834d26bff0f0da9a468b2c": {
      "model_module": "@jupyter-widgets/base",
      "model_module_version": "1.2.0",
      "model_name": "LayoutModel",
      "state": {}
     },
     "875f73a5397f4e129ea6fc1ecf1fdd38": {
      "model_module": "@jupyter-widgets/controls",
      "model_module_version": "1.5.0",
      "model_name": "CheckboxModel",
      "state": {
       "description": "Отсутствует техника",
       "disabled": false,
       "layout": "IPY_MODEL_3ab6d964167845bda41da89aacde1bf8",
       "style": "IPY_MODEL_093e9ac7b0e748669335f22d3ec3e5a5",
       "value": true
      }
     },
     "877b73f930a541b18849f720ce3c0e18": {
      "model_module": "@jupyter-widgets/controls",
      "model_module_version": "1.5.0",
      "model_name": "BoundedIntTextModel",
      "state": {
       "description": "Чепрасова Ольга(эвент)",
       "layout": "IPY_MODEL_3c1f0fb7f25c46d0a7d3e3a53ca03f89",
       "max": 1200000,
       "step": 10000,
       "style": "IPY_MODEL_8dcff4e168024e918e15d1894ca80cd4"
      }
     },
     "879dc69488b54087b1ff31fe7e3ab3ae": {
      "model_module": "@jupyter-widgets/controls",
      "model_module_version": "1.5.0",
      "model_name": "DescriptionStyleModel",
      "state": {
       "description_width": ""
      }
     },
     "87f7b25ef8ea40c28a63f696178f73b0": {
      "model_module": "@jupyter-widgets/base",
      "model_module_version": "1.2.0",
      "model_name": "LayoutModel",
      "state": {}
     },
     "888092faccc743af9f5eeac8e707a930": {
      "model_module": "@jupyter-widgets/base",
      "model_module_version": "1.2.0",
      "model_name": "LayoutModel",
      "state": {}
     },
     "8890879581054412956822cdd6b59515": {
      "model_module": "@jupyter-widgets/controls",
      "model_module_version": "1.5.0",
      "model_name": "BoundedIntTextModel",
      "state": {
       "description": "1 Стажер(эвент)",
       "layout": "IPY_MODEL_68947aefb90a4c8e9b228613213779db",
       "max": 1200000,
       "step": 10000,
       "style": "IPY_MODEL_1834a4f2f4e44b0889281a32488edd44"
      }
     },
     "88c68bfd0a5744cc9e377e9e55653657": {
      "model_module": "@jupyter-widgets/controls",
      "model_module_version": "1.5.0",
      "model_name": "DescriptionStyleModel",
      "state": {
       "description_width": ""
      }
     },
     "88c90bf7a834405891c0c4e8811a2876": {
      "model_module": "@jupyter-widgets/base",
      "model_module_version": "1.2.0",
      "model_name": "LayoutModel",
      "state": {}
     },
     "8940f3e7d7a24b8081da6903c787618d": {
      "model_module": "@jupyter-widgets/base",
      "model_module_version": "1.2.0",
      "model_name": "LayoutModel",
      "state": {}
     },
     "8959018281c34f5c9a58f90369aad699": {
      "model_module": "@jupyter-widgets/controls",
      "model_module_version": "1.5.0",
      "model_name": "DescriptionStyleModel",
      "state": {
       "description_width": ""
      }
     },
     "8a53fc168e4842f9b68a393aeac847b6": {
      "model_module": "@jupyter-widgets/controls",
      "model_module_version": "1.5.0",
      "model_name": "DescriptionStyleModel",
      "state": {
       "description_width": ""
      }
     },
     "8aa8ea2be98d46538852b37e041b3005": {
      "model_module": "@jupyter-widgets/controls",
      "model_module_version": "1.5.0",
      "model_name": "BoundedIntTextModel",
      "state": {
       "description": "Кузнецова Дарья(прокат)",
       "layout": "IPY_MODEL_aff2e7c54b55401c820dd50a40c42cea",
       "max": 1200000,
       "step": 10000,
       "style": "IPY_MODEL_a1447bbc639e479a92c2bb6c10cb19e9",
       "value": 192100
      }
     },
     "8b19cd8ea4d343939bcc00dc5b19da04": {
      "model_module": "@jupyter-widgets/controls",
      "model_module_version": "1.5.0",
      "model_name": "BoundedIntTextModel",
      "state": {
       "description": "Симак Наталья(эвент)",
       "layout": "IPY_MODEL_95dc4f2578dc406cb0d5fa8841c88dcf",
       "max": 1200000,
       "step": 10000,
       "style": "IPY_MODEL_54ae0c2fd5024b45823d496fc2fcf3f1",
       "value": 52500
      }
     },
     "8b282077549c4c58ba77b7852f2b1fc8": {
      "model_module": "@jupyter-widgets/controls",
      "model_module_version": "1.5.0",
      "model_name": "ButtonStyleModel",
      "state": {}
     },
     "8b4b414085e6468f8f27f2322eea75d4": {
      "model_module": "@jupyter-widgets/controls",
      "model_module_version": "1.5.0",
      "model_name": "DescriptionStyleModel",
      "state": {
       "description_width": ""
      }
     },
     "8b5340cf509b4e93886a434b1456862a": {
      "model_module": "@jupyter-widgets/base",
      "model_module_version": "1.2.0",
      "model_name": "LayoutModel",
      "state": {}
     },
     "8b6b55e415624e9ab914c3df768e4f93": {
      "model_module": "@jupyter-widgets/controls",
      "model_module_version": "1.5.0",
      "model_name": "CheckboxModel",
      "state": {
       "description": "Отсутствует техника",
       "disabled": false,
       "layout": "IPY_MODEL_7f654fdbec8544fe8903b770d7f3ee2b",
       "style": "IPY_MODEL_b18b3e80cc9942bc97da7c2ebdd8f958",
       "value": true
      }
     },
     "8bc33f502b2f416590f9563bdcfd668b": {
      "model_module": "@jupyter-widgets/controls",
      "model_module_version": "1.5.0",
      "model_name": "BoundedIntTextModel",
      "state": {
       "description": "Симак Наталья(прокат)",
       "layout": "IPY_MODEL_d86adb6eb580475e867e3747d8ea1600",
       "max": 1200000,
       "step": 10000,
       "style": "IPY_MODEL_cad763e2cc4d4aa7bc1882fe52239571",
       "value": 293800
      }
     },
     "8c57d476036b44a58e52aad3c227929c": {
      "model_module": "@jupyter-widgets/base",
      "model_module_version": "1.2.0",
      "model_name": "LayoutModel",
      "state": {}
     },
     "8c68a045016e4b55907c5fba99c4abbf": {
      "model_module": "@jupyter-widgets/base",
      "model_module_version": "1.2.0",
      "model_name": "LayoutModel",
      "state": {}
     },
     "8c9123f22a9949a895b7c9e16de60c52": {
      "model_module": "@jupyter-widgets/base",
      "model_module_version": "1.2.0",
      "model_name": "LayoutModel",
      "state": {}
     },
     "8cd74a6e7f3b4c15a96ccde36cb7738d": {
      "model_module": "@jupyter-widgets/controls",
      "model_module_version": "1.5.0",
      "model_name": "CheckboxModel",
      "state": {
       "description": "Дорого",
       "disabled": false,
       "layout": "IPY_MODEL_e10916b95ddb4cac834652789097ebeb",
       "style": "IPY_MODEL_ca9a1c3ecd974bdba3733283aeb7780c",
       "value": false
      }
     },
     "8ce2fe8a12be4bae9711c8259bc589e2": {
      "model_module": "@jupyter-widgets/base",
      "model_module_version": "1.2.0",
      "model_name": "LayoutModel",
      "state": {}
     },
     "8d39d52fa6ef4d4d9ce8ad268f9ca639": {
      "model_module": "@jupyter-widgets/base",
      "model_module_version": "1.2.0",
      "model_name": "LayoutModel",
      "state": {}
     },
     "8dcff4e168024e918e15d1894ca80cd4": {
      "model_module": "@jupyter-widgets/controls",
      "model_module_version": "1.5.0",
      "model_name": "DescriptionStyleModel",
      "state": {
       "description_width": ""
      }
     },
     "8e4da47feaa04521a1a66179f83a8874": {
      "model_module": "@jupyter-widgets/controls",
      "model_module_version": "1.5.0",
      "model_name": "CheckboxModel",
      "state": {
       "description": "Дорого",
       "disabled": false,
       "layout": "IPY_MODEL_341b3c6d9493439fbba0241bdf72a86c",
       "style": "IPY_MODEL_1aaa0f21513d481391857bfb2c89e317",
       "value": false
      }
     },
     "8e9949cc4ad84dde84eafaa96bc56ed0": {
      "model_module": "@jupyter-widgets/controls",
      "model_module_version": "1.5.0",
      "model_name": "DescriptionStyleModel",
      "state": {
       "description_width": ""
      }
     },
     "8f206b2deb2e49a0a754d6753e892555": {
      "model_module": "@jupyter-widgets/controls",
      "model_module_version": "1.5.0",
      "model_name": "CheckboxModel",
      "state": {
       "description": "Нет курьера",
       "disabled": false,
       "layout": "IPY_MODEL_d4dd636f7d324d11a415bf00aead8c96",
       "style": "IPY_MODEL_2c428c7678914efdaab1909bdb2133ac",
       "value": false
      }
     },
     "8f3ffc68f29e41969101f3ae8327890b": {
      "model_module": "@jupyter-widgets/controls",
      "model_module_version": "1.5.0",
      "model_name": "BoundedIntTextModel",
      "state": {
       "description": "Чепрасова Ольга(прокат)",
       "layout": "IPY_MODEL_fb16663ce3a942f9b2862f7a7262832a",
       "max": 1200000,
       "step": 10000,
       "style": "IPY_MODEL_c14320e84b7448aa8b49971c8f2d028f",
       "value": 180800
      }
     },
     "8f5dec1ecb6848cb9c16a84f167483a7": {
      "model_module": "@jupyter-widgets/controls",
      "model_module_version": "1.5.0",
      "model_name": "ButtonStyleModel",
      "state": {}
     },
     "8fe63de1c9b14beebcb2107b6d49640b": {
      "model_module": "@jupyter-widgets/base",
      "model_module_version": "1.2.0",
      "model_name": "LayoutModel",
      "state": {}
     },
     "902ae34992e14b359fb4ca24ac748e87": {
      "model_module": "@jupyter-widgets/base",
      "model_module_version": "1.2.0",
      "model_name": "LayoutModel",
      "state": {}
     },
     "9041ed40abcf47649e14ede4a56074c5": {
      "model_module": "@jupyter-widgets/base",
      "model_module_version": "1.2.0",
      "model_name": "LayoutModel",
      "state": {}
     },
     "9082d585bb1c490da92d0aa94765bfc4": {
      "model_module": "@jupyter-widgets/controls",
      "model_module_version": "1.5.0",
      "model_name": "DescriptionStyleModel",
      "state": {
       "description_width": ""
      }
     },
     "90b03dd15c824dcabd251679e8edf448": {
      "model_module": "@jupyter-widgets/controls",
      "model_module_version": "1.5.0",
      "model_name": "CheckboxModel",
      "state": {
       "description": "Не устроил залог",
       "disabled": false,
       "layout": "IPY_MODEL_3e096d8aa8294e94bb4e91e7dd24bd12",
       "style": "IPY_MODEL_f7bcf41dfcb54e749cf6409b84a14244",
       "value": false
      }
     },
     "90b65111184d43cf9c39b3b839dede3a": {
      "model_module": "@jupyter-widgets/base",
      "model_module_version": "1.2.0",
      "model_name": "LayoutModel",
      "state": {}
     },
     "915a49a611a14831b38733366652f903": {
      "model_module": "@jupyter-widgets/base",
      "model_module_version": "1.2.0",
      "model_name": "LayoutModel",
      "state": {}
     },
     "91a0b63d899946679bfee35b134fa0db": {
      "model_module": "@jupyter-widgets/controls",
      "model_module_version": "1.5.0",
      "model_name": "DescriptionStyleModel",
      "state": {
       "description_width": ""
      }
     },
     "91d1ac83f3154262a25db5914e7b7a0b": {
      "model_module": "@jupyter-widgets/controls",
      "model_module_version": "1.5.0",
      "model_name": "BoundedIntTextModel",
      "state": {
       "description": "Шутова Виктория(прокат)",
       "layout": "IPY_MODEL_644827f6015e4257badef6cc44c2a31e",
       "max": 1200000,
       "step": 10000,
       "style": "IPY_MODEL_f670ae19a74a4b11b93c6dc82d23da5f",
       "value": 248600
      }
     },
     "91e8c14f9dfb4f28a10821e905c7b792": {
      "model_module": "@jupyter-widgets/controls",
      "model_module_version": "1.5.0",
      "model_name": "DropdownModel",
      "state": {
       "_options_labels": [
        "aug"
       ],
       "description": "План на:",
       "index": 0,
       "layout": "IPY_MODEL_ead29305a5bf4d5491daf6e39c652476",
       "style": "IPY_MODEL_f20add841e2c4156bcf5fed825f834f0"
      }
     },
     "920ab422b6ae450889dc5503c1e7174c": {
      "model_module": "@jupyter-widgets/base",
      "model_module_version": "1.2.0",
      "model_name": "LayoutModel",
      "state": {}
     },
     "9226f07d4dc74a8a841ac88e8ee4dfba": {
      "model_module": "@jupyter-widgets/controls",
      "model_module_version": "1.5.0",
      "model_name": "BoundedIntTextModel",
      "state": {
       "description": "Симак Наталья(эвент)",
       "layout": "IPY_MODEL_fb4706c0f6ca4e2fb8bf01891ba2a79d",
       "max": 1200000,
       "step": 10000,
       "style": "IPY_MODEL_124582d2bbe14b7ab514b6ac5c7b7eca",
       "value": 52500
      }
     },
     "92676a8a12bd4001a0b1f76fe7e47efe": {
      "model_module": "@jupyter-widgets/controls",
      "model_module_version": "1.5.0",
      "model_name": "DescriptionStyleModel",
      "state": {
       "description_width": ""
      }
     },
     "92ad8aa3835b42f885a6494c856f3bc4": {
      "model_module": "@jupyter-widgets/controls",
      "model_module_version": "1.5.0",
      "model_name": "DescriptionStyleModel",
      "state": {
       "description_width": ""
      }
     },
     "92d79536bcdb41c69032078b896cca43": {
      "model_module": "@jupyter-widgets/controls",
      "model_module_version": "1.5.0",
      "model_name": "CheckboxModel",
      "state": {
       "description": "Дорого",
       "disabled": false,
       "layout": "IPY_MODEL_b68f7c4d2f6a455fa65aab6a1844ae38",
       "style": "IPY_MODEL_46795a0931c24a8e9acceef41b0bf051",
       "value": false
      }
     },
     "92ffe17ed9fa4469bba7a165aca9d57e": {
      "model_module": "@jupyter-widgets/controls",
      "model_module_version": "1.5.0",
      "model_name": "DescriptionStyleModel",
      "state": {
       "description_width": ""
      }
     },
     "933f5b8f0b0e4ac6bda2b0b33fbfdb19": {
      "model_module": "@jupyter-widgets/controls",
      "model_module_version": "1.5.0",
      "model_name": "DatePickerModel",
      "state": {
       "description": "Дата2:",
       "disabled": false,
       "layout": "IPY_MODEL_7a5a6a52330c4f90adf46cde25bd849a",
       "style": "IPY_MODEL_ba9a21db7c3d4ac4b3674a16ebeae4ec",
       "value": {
        "date": 17,
        "month": 7,
        "year": 2021
       }
      }
     },
     "936978ee7b6a42239bac11679a5575cd": {
      "model_module": "@jupyter-widgets/base",
      "model_module_version": "1.2.0",
      "model_name": "LayoutModel",
      "state": {}
     },
     "9393fe16d2a84139ac1c7b2b5732c22f": {
      "model_module": "@jupyter-widgets/controls",
      "model_module_version": "1.5.0",
      "model_name": "CheckboxModel",
      "state": {
       "description": "Не устроил залог",
       "disabled": false,
       "layout": "IPY_MODEL_a713b4eb9c244febb44d9d5bf05f3072",
       "style": "IPY_MODEL_66a34879c18d4957a2f9b5a3172d41a2",
       "value": false
      }
     },
     "93afe5ad8f8847e1b832e24ab3513619": {
      "model_module": "@jupyter-widgets/base",
      "model_module_version": "1.2.0",
      "model_name": "LayoutModel",
      "state": {}
     },
     "93e0a1c8011f433188cce95132df1126": {
      "model_module": "@jupyter-widgets/controls",
      "model_module_version": "1.5.0",
      "model_name": "DescriptionStyleModel",
      "state": {
       "description_width": ""
      }
     },
     "93eed6ee75a64357be051e4fd15ef7af": {
      "model_module": "@jupyter-widgets/controls",
      "model_module_version": "1.5.0",
      "model_name": "DatePickerModel",
      "state": {
       "description": "Дата1:",
       "disabled": false,
       "layout": "IPY_MODEL_cde848588ad44cc1808423c63ddb29c0",
       "style": "IPY_MODEL_ebac68b4767f4fa79b03fab84c1f780a",
       "value": {
        "date": 17,
        "month": 7,
        "year": 2021
       }
      }
     },
     "943ae2ad4794425aab185d7e9a59751e": {
      "model_module": "@jupyter-widgets/base",
      "model_module_version": "1.2.0",
      "model_name": "LayoutModel",
      "state": {}
     },
     "9444cfaa13db46ddaa6a91faeb4576e4": {
      "model_module": "@jupyter-widgets/controls",
      "model_module_version": "1.5.0",
      "model_name": "DescriptionStyleModel",
      "state": {
       "description_width": ""
      }
     },
     "9460239606334588865e9ee6117550e0": {
      "model_module": "@jupyter-widgets/controls",
      "model_module_version": "1.5.0",
      "model_name": "DescriptionStyleModel",
      "state": {
       "description_width": ""
      }
     },
     "947741bf376e4dc394ca317c37be1c25": {
      "model_module": "@jupyter-widgets/controls",
      "model_module_version": "1.5.0",
      "model_name": "CheckboxModel",
      "state": {
       "description": "Не устроил залог",
       "disabled": false,
       "layout": "IPY_MODEL_7c45787507634ce8b230579562c8c46c",
       "style": "IPY_MODEL_8736c9529dc9471e99a6c6e51937f0d4",
       "value": false
      }
     },
     "94b96712e5da44459d41cb936f4e0df8": {
      "model_module": "@jupyter-widgets/base",
      "model_module_version": "1.2.0",
      "model_name": "LayoutModel",
      "state": {}
     },
     "950935e7803e48159f18b38eed9f614e": {
      "model_module": "@jupyter-widgets/controls",
      "model_module_version": "1.5.0",
      "model_name": "DropdownModel",
      "state": {
       "_options_labels": [
        "aug"
       ],
       "description": "План на:",
       "index": 0,
       "layout": "IPY_MODEL_4e3873c5cd764e35a51722251523da25",
       "style": "IPY_MODEL_cbe8d5947c864fc39c070695b1ddc5a2"
      }
     },
     "951232884bba43249127fd8d626f71b2": {
      "model_module": "@jupyter-widgets/controls",
      "model_module_version": "1.5.0",
      "model_name": "ButtonStyleModel",
      "state": {}
     },
     "954a39865f6a41ea8a419b284fa5c7de": {
      "model_module": "@jupyter-widgets/base",
      "model_module_version": "1.2.0",
      "model_name": "LayoutModel",
      "state": {}
     },
     "955da451e48d46ffa213cde6e231d5cd": {
      "model_module": "@jupyter-widgets/controls",
      "model_module_version": "1.5.0",
      "model_name": "DescriptionStyleModel",
      "state": {
       "description_width": ""
      }
     },
     "956fb890e7a64306b992fd851e9a3339": {
      "model_module": "@jupyter-widgets/controls",
      "model_module_version": "1.5.0",
      "model_name": "DescriptionStyleModel",
      "state": {
       "description_width": ""
      }
     },
     "9571f7a810974fdfa2298dd3bc19ef30": {
      "model_module": "@jupyter-widgets/controls",
      "model_module_version": "1.5.0",
      "model_name": "CheckboxModel",
      "state": {
       "description": "Повторная заявка с другого сайта",
       "disabled": false,
       "layout": "IPY_MODEL_34629190bf7b4f31be7d0b43458ad2b1",
       "style": "IPY_MODEL_4c99898c264f41639a9eddafe08a0f49",
       "value": true
      }
     },
     "95beef711f89432a927730a395798707": {
      "model_module": "@jupyter-widgets/controls",
      "model_module_version": "1.5.0",
      "model_name": "DescriptionStyleModel",
      "state": {
       "description_width": ""
      }
     },
     "95dc4f2578dc406cb0d5fa8841c88dcf": {
      "model_module": "@jupyter-widgets/base",
      "model_module_version": "1.2.0",
      "model_name": "LayoutModel",
      "state": {}
     },
     "95e0992594064237b0629cd9e19db31e": {
      "model_module": "@jupyter-widgets/controls",
      "model_module_version": "1.5.0",
      "model_name": "DescriptionStyleModel",
      "state": {
       "description_width": ""
      }
     },
     "95e965868dbd49bcacb2bbb77783efdb": {
      "model_module": "@jupyter-widgets/controls",
      "model_module_version": "1.5.0",
      "model_name": "CheckboxModel",
      "state": {
       "description": "Дубль",
       "disabled": false,
       "layout": "IPY_MODEL_2447e7d9ff3f4cfbbe0b6015d89007c3",
       "style": "IPY_MODEL_565f452392e5422bb0dbec9eef9ed95c",
       "value": true
      }
     },
     "95f8149e18de4b3597b5b897f9513d89": {
      "model_module": "@jupyter-widgets/base",
      "model_module_version": "1.2.0",
      "model_name": "LayoutModel",
      "state": {}
     },
     "968e67411a274dc398522fcf7993bf5b": {
      "model_module": "@jupyter-widgets/controls",
      "model_module_version": "1.5.0",
      "model_name": "CheckboxModel",
      "state": {
       "description": "Закрыт офис",
       "disabled": false,
       "layout": "IPY_MODEL_2b4a593465954aa5b424dbe5efde898e",
       "style": "IPY_MODEL_7cf5e4e3f06047d39f76648b3ac3bb80",
       "value": false
      }
     },
     "9693279e3ee1437fa6d1c86df04524b4": {
      "model_module": "@jupyter-widgets/controls",
      "model_module_version": "1.5.0",
      "model_name": "DescriptionStyleModel",
      "state": {
       "description_width": ""
      }
     },
     "977d4ee709bc4c5faf090f8907f20d65": {
      "model_module": "@jupyter-widgets/controls",
      "model_module_version": "1.5.0",
      "model_name": "DescriptionStyleModel",
      "state": {
       "description_width": ""
      }
     },
     "97c3548c9d1b4f60b9ed4e649f0a856e": {
      "model_module": "@jupyter-widgets/controls",
      "model_module_version": "1.5.0",
      "model_name": "DescriptionStyleModel",
      "state": {
       "description_width": ""
      }
     },
     "980d907b963e45ee8e6a180dfe6e4ecf": {
      "model_module": "@jupyter-widgets/base",
      "model_module_version": "1.2.0",
      "model_name": "LayoutModel",
      "state": {}
     },
     "9826683208e447189b812e3e74a5a2a5": {
      "model_module": "@jupyter-widgets/base",
      "model_module_version": "1.2.0",
      "model_name": "LayoutModel",
      "state": {}
     },
     "98381866527740f4af6cbfd880ca30aa": {
      "model_module": "@jupyter-widgets/base",
      "model_module_version": "1.2.0",
      "model_name": "LayoutModel",
      "state": {}
     },
     "9848f7caf1ab48bca64552a9e942017d": {
      "model_module": "@jupyter-widgets/base",
      "model_module_version": "1.2.0",
      "model_name": "LayoutModel",
      "state": {}
     },
     "98df216ffdb84e18ae029aba091206d2": {
      "model_module": "@jupyter-widgets/controls",
      "model_module_version": "1.5.0",
      "model_name": "DescriptionStyleModel",
      "state": {
       "description_width": ""
      }
     },
     "98f859f2b8fb4344b63b73caf0930840": {
      "model_module": "@jupyter-widgets/controls",
      "model_module_version": "1.5.0",
      "model_name": "CheckboxModel",
      "state": {
       "description": "Клиент пропал",
       "disabled": false,
       "layout": "IPY_MODEL_22b4e73476254de0b8e449f1daabd0c9",
       "style": "IPY_MODEL_c9373b2ef66048cb87b25dffc182438d",
       "value": false
      }
     },
     "99f071a843e8403a94dd6c892f354621": {
      "model_module": "@jupyter-widgets/controls",
      "model_module_version": "1.5.0",
      "model_name": "DescriptionStyleModel",
      "state": {
       "description_width": ""
      }
     },
     "99f608d78b2e434d9545774775060389": {
      "model_module": "@jupyter-widgets/base",
      "model_module_version": "1.2.0",
      "model_name": "LayoutModel",
      "state": {}
     },
     "9a29fdcc301f46be8e3bc747e3a63e0e": {
      "model_module": "@jupyter-widgets/controls",
      "model_module_version": "1.5.0",
      "model_name": "ButtonModel",
      "state": {
       "button_style": "success",
       "description": "Загрузить",
       "layout": "IPY_MODEL_27a52d3dbac54875b9c27573145d101c",
       "style": "IPY_MODEL_d4f8a0da49f641a8aaa66cdc60ae16f9"
      }
     },
     "9a415f4103d04d399c07445cc29b5ba7": {
      "model_module": "@jupyter-widgets/base",
      "model_module_version": "1.2.0",
      "model_name": "LayoutModel",
      "state": {}
     },
     "9a4c9c5b5b4a448085bd33c3349d5c5b": {
      "model_module": "@jupyter-widgets/controls",
      "model_module_version": "1.5.0",
      "model_name": "DescriptionStyleModel",
      "state": {
       "description_width": ""
      }
     },
     "9ac9a8b37e9f4b7f9f02755fe9532c8b": {
      "model_module": "@jupyter-widgets/base",
      "model_module_version": "1.2.0",
      "model_name": "LayoutModel",
      "state": {}
     },
     "9b3f2a63395240839fe71b44cde78fac": {
      "model_module": "@jupyter-widgets/controls",
      "model_module_version": "1.5.0",
      "model_name": "DescriptionStyleModel",
      "state": {
       "description_width": ""
      }
     },
     "9b4fbdc431c34252af6085f62aae6e9f": {
      "model_module": "@jupyter-widgets/controls",
      "model_module_version": "1.5.0",
      "model_name": "CheckboxModel",
      "state": {
       "description": "Не устроил залог",
       "disabled": false,
       "layout": "IPY_MODEL_ae463255d9aa4ab19d72b76257c48d29",
       "style": "IPY_MODEL_d1783cbbce9448df89f28735fc2674e8",
       "value": false
      }
     },
     "9b58fd4c80e042febf7ca9668c4aca05": {
      "model_module": "@jupyter-widgets/controls",
      "model_module_version": "1.5.0",
      "model_name": "DescriptionStyleModel",
      "state": {
       "description_width": ""
      }
     },
     "9b5a7ee5608e4a9db039183411f396cd": {
      "model_module": "@jupyter-widgets/base",
      "model_module_version": "1.2.0",
      "model_name": "LayoutModel",
      "state": {}
     },
     "9b762812e9264c22b2a2aba9793bb269": {
      "model_module": "@jupyter-widgets/controls",
      "model_module_version": "1.5.0",
      "model_name": "CheckboxModel",
      "state": {
       "description": "Передумал",
       "disabled": false,
       "layout": "IPY_MODEL_68dc6e7a040d45888ce65f7c5d76d810",
       "style": "IPY_MODEL_b5b5b0eaac6b4758a74a8c3fa02c8fae",
       "value": false
      }
     },
     "9b783dc59d994c278168a2cba20df1f9": {
      "model_module": "@jupyter-widgets/controls",
      "model_module_version": "1.5.0",
      "model_name": "CheckboxModel",
      "state": {
       "description": "Не устроил залог",
       "disabled": false,
       "layout": "IPY_MODEL_d4bd52c0cd8a4e29bc96e225c68afbf7",
       "style": "IPY_MODEL_38050891f52f42a1a1f3ca8a696979d2",
       "value": false
      }
     },
     "9b8254d95a964f4d9fa1698f70531ca5": {
      "model_module": "@jupyter-widgets/base",
      "model_module_version": "1.2.0",
      "model_name": "LayoutModel",
      "state": {}
     },
     "9b937744031c46fea6abd86cd112d6f3": {
      "model_module": "@jupyter-widgets/controls",
      "model_module_version": "1.5.0",
      "model_name": "DescriptionStyleModel",
      "state": {
       "description_width": ""
      }
     },
     "9ba25137d1504e1190869c29d4e5a655": {
      "model_module": "@jupyter-widgets/controls",
      "model_module_version": "1.5.0",
      "model_name": "BoundedIntTextModel",
      "state": {
       "description": "Кузнецова Дарья(эвент)",
       "layout": "IPY_MODEL_8fe63de1c9b14beebcb2107b6d49640b",
       "max": 1200000,
       "step": 10000,
       "style": "IPY_MODEL_29e9bb8904ce4decb445530abba79768",
       "value": 140000
      }
     },
     "9bb19bf9e71d41bbb708b606af16f75c": {
      "model_module": "@jupyter-widgets/base",
      "model_module_version": "1.2.0",
      "model_name": "LayoutModel",
      "state": {}
     },
     "9bb313b591f747dda6ee0cbcf6ae4197": {
      "model_module": "@jupyter-widgets/controls",
      "model_module_version": "1.5.0",
      "model_name": "CheckboxModel",
      "state": {
       "description": "Мусор / Спам",
       "disabled": false,
       "layout": "IPY_MODEL_b2abf00af02644d3a4cbe7fd5d03e76c",
       "style": "IPY_MODEL_4f1b57361ed74adbab4c2d7fa84ad3e7",
       "value": true
      }
     },
     "9beceb86345442288ee3162cab3e6ac6": {
      "model_module": "@jupyter-widgets/controls",
      "model_module_version": "1.5.0",
      "model_name": "DescriptionStyleModel",
      "state": {
       "description_width": ""
      }
     },
     "9c38af9227ee4d8d93bd9d2541b536f9": {
      "model_module": "@jupyter-widgets/controls",
      "model_module_version": "1.5.0",
      "model_name": "DescriptionStyleModel",
      "state": {
       "description_width": ""
      }
     },
     "9c46a80d6a2c4aec98c3ec46e1762a47": {
      "model_module": "@jupyter-widgets/controls",
      "model_module_version": "1.5.0",
      "model_name": "DescriptionStyleModel",
      "state": {
       "description_width": ""
      }
     },
     "9c886fb2beb5444198d344b3489a697a": {
      "model_module": "@jupyter-widgets/base",
      "model_module_version": "1.2.0",
      "model_name": "LayoutModel",
      "state": {}
     },
     "9d09c2ecd6924cda839d71aa79c44c32": {
      "model_module": "@jupyter-widgets/controls",
      "model_module_version": "1.5.0",
      "model_name": "DescriptionStyleModel",
      "state": {
       "description_width": ""
      }
     },
     "9d0d37952d2640daad92db7dddf0c030": {
      "model_module": "@jupyter-widgets/controls",
      "model_module_version": "1.5.0",
      "model_name": "DescriptionStyleModel",
      "state": {
       "description_width": ""
      }
     },
     "9d20111cc53b4499a5890704478f23be": {
      "model_module": "@jupyter-widgets/controls",
      "model_module_version": "1.5.0",
      "model_name": "BoundedIntTextModel",
      "state": {
       "description": "Симак Наталья(прокат)",
       "layout": "IPY_MODEL_72900c01e2cd48588a150e66c34c0c1e",
       "max": 1200000,
       "step": 10000,
       "style": "IPY_MODEL_ad943102c97d4a40afe60c72c1b8188f",
       "value": 293800
      }
     },
     "9d4d2c86ae814d938a7e9347ab93e2c4": {
      "model_module": "@jupyter-widgets/base",
      "model_module_version": "1.2.0",
      "model_name": "LayoutModel",
      "state": {}
     },
     "9da2c6f3f2d64005b7e9eaa3e51f6e3d": {
      "model_module": "@jupyter-widgets/controls",
      "model_module_version": "1.5.0",
      "model_name": "CheckboxModel",
      "state": {
       "description": "Закрыт офис",
       "disabled": false,
       "layout": "IPY_MODEL_82c19d1a01524d66873ab34edaf6b5d3",
       "style": "IPY_MODEL_b21b5d80d86c4a919fbddfc67b392b24",
       "value": false
      }
     },
     "9dbfb1ee7b9a40cd8a88695c1e24f4bf": {
      "model_module": "@jupyter-widgets/controls",
      "model_module_version": "1.5.0",
      "model_name": "CheckboxModel",
      "state": {
       "description": "Повторная заявка с другого сайта",
       "disabled": false,
       "layout": "IPY_MODEL_5bd4310ddd1c48cc84ff8c4a27272cc6",
       "style": "IPY_MODEL_e9b5a9a137b44e8cbe7dbb7ab69a384a",
       "value": true
      }
     },
     "9de52b44096e4f1b955773c28d1a4c6b": {
      "model_module": "@jupyter-widgets/base",
      "model_module_version": "1.2.0",
      "model_name": "LayoutModel",
      "state": {}
     },
     "9e36b8d5fcc942efbee5533f96c9e793": {
      "model_module": "@jupyter-widgets/controls",
      "model_module_version": "1.5.0",
      "model_name": "DescriptionStyleModel",
      "state": {
       "description_width": ""
      }
     },
     "9e4df02b20784f518b3a43fed47bf345": {
      "model_module": "@jupyter-widgets/controls",
      "model_module_version": "1.5.0",
      "model_name": "DescriptionStyleModel",
      "state": {
       "description_width": ""
      }
     },
     "9e4f4c48a8dd48cc945320089dfb9f5b": {
      "model_module": "@jupyter-widgets/controls",
      "model_module_version": "1.5.0",
      "model_name": "BoundedIntTextModel",
      "state": {
       "description": "Кузнецова Дарья(прокат)",
       "layout": "IPY_MODEL_868c3862b5914db7b7c2cb4989d36ba0",
       "max": 1200000,
       "step": 10000,
       "style": "IPY_MODEL_2827ce46cba44d2bb66109e1db7fc680",
       "value": 192100
      }
     },
     "9e8190c3df90462096b6bb0d6e88f661": {
      "model_module": "@jupyter-widgets/controls",
      "model_module_version": "1.5.0",
      "model_name": "CheckboxModel",
      "state": {
       "description": "Не устроил залог",
       "disabled": false,
       "layout": "IPY_MODEL_27be5cc99e484d7c92a8b707b0904fd6",
       "style": "IPY_MODEL_c1c22426796a4243bb6b2b1bf0cae9c1",
       "value": false
      }
     },
     "9eaeb3444b1a44aa8783a0785fe469ff": {
      "model_module": "@jupyter-widgets/base",
      "model_module_version": "1.2.0",
      "model_name": "LayoutModel",
      "state": {}
     },
     "9ee04312061a4b449e1c2a2207765a65": {
      "model_module": "@jupyter-widgets/base",
      "model_module_version": "1.2.0",
      "model_name": "LayoutModel",
      "state": {}
     },
     "9f5d8b1c272b4f12872780fb2f2869dc": {
      "model_module": "@jupyter-widgets/controls",
      "model_module_version": "1.5.0",
      "model_name": "BoundedIntTextModel",
      "state": {
       "description": "Симак Наталья(эвент)",
       "layout": "IPY_MODEL_88c90bf7a834405891c0c4e8811a2876",
       "max": 1200000,
       "step": 10000,
       "style": "IPY_MODEL_3e2b4ff5929f4e78969fae3ee25f856d",
       "value": 52500
      }
     },
     "9f5f2cb175684a1ab89c6d2c76fb85f3": {
      "model_module": "@jupyter-widgets/controls",
      "model_module_version": "1.5.0",
      "model_name": "BoundedIntTextModel",
      "state": {
       "description": "Симак Наталья(эвент)",
       "layout": "IPY_MODEL_100b785533454d58bef61967f067c542",
       "max": 1200000,
       "step": 10000,
       "style": "IPY_MODEL_0fa615b8f3b240c5b6e9b370bb2ccaf6",
       "value": 52500
      }
     },
     "9fc9aa31db7241b0b7e926dd9702fe5e": {
      "model_module": "@jupyter-widgets/controls",
      "model_module_version": "1.5.0",
      "model_name": "DescriptionStyleModel",
      "state": {
       "description_width": ""
      }
     },
     "9fcf5702b5b145deb4e8237409015210": {
      "model_module": "@jupyter-widgets/controls",
      "model_module_version": "1.5.0",
      "model_name": "DescriptionStyleModel",
      "state": {
       "description_width": ""
      }
     },
     "9fe63377719c4d1f84e692c4b238a50c": {
      "model_module": "@jupyter-widgets/controls",
      "model_module_version": "1.5.0",
      "model_name": "CheckboxModel",
      "state": {
       "description": "Мусор / Спам",
       "disabled": false,
       "layout": "IPY_MODEL_8ce2fe8a12be4bae9711c8259bc589e2",
       "style": "IPY_MODEL_008c610a59b94413952b3ab024afa162",
       "value": true
      }
     },
     "a00926d07a614d86a9f98a1906e415e5": {
      "model_module": "@jupyter-widgets/controls",
      "model_module_version": "1.5.0",
      "model_name": "BoundedIntTextModel",
      "state": {
       "description": "Шутова Виктория(эвент)",
       "layout": "IPY_MODEL_2c2202f5412b4c7aab8a3eb255d9d79c",
       "max": 1200000,
       "step": 10000,
       "style": "IPY_MODEL_82f7e2c54b1a472995684c8802ef5745",
       "value": 157500
      }
     },
     "a08a5db2b81d4c759fe3ed1083228467": {
      "model_module": "@jupyter-widgets/controls",
      "model_module_version": "1.5.0",
      "model_name": "DescriptionStyleModel",
      "state": {
       "description_width": ""
      }
     },
     "a0a330071ab84c04ae62e2699851c352": {
      "model_module": "@jupyter-widgets/controls",
      "model_module_version": "1.5.0",
      "model_name": "DescriptionStyleModel",
      "state": {
       "description_width": ""
      }
     },
     "a0c8061311424dc9b944cb7a8f8641f3": {
      "model_module": "@jupyter-widgets/base",
      "model_module_version": "1.2.0",
      "model_name": "LayoutModel",
      "state": {}
     },
     "a0d856f63bb6413b9f734f3fa7815ec8": {
      "model_module": "@jupyter-widgets/controls",
      "model_module_version": "1.5.0",
      "model_name": "CheckboxModel",
      "state": {
       "description": "Передумал",
       "disabled": false,
       "layout": "IPY_MODEL_cd7370dbdfac4df9b4e440727643303f",
       "style": "IPY_MODEL_a4f31aab16554254bbc0e5bc4ac1bd9c",
       "value": false
      }
     },
     "a111a43061264fdfbfe6388812dfe1af": {
      "model_module": "@jupyter-widgets/base",
      "model_module_version": "1.2.0",
      "model_name": "LayoutModel",
      "state": {}
     },
     "a1447bbc639e479a92c2bb6c10cb19e9": {
      "model_module": "@jupyter-widgets/controls",
      "model_module_version": "1.5.0",
      "model_name": "DescriptionStyleModel",
      "state": {
       "description_width": ""
      }
     },
     "a1569048ea0c4dd4bcbf707f372ee0ea": {
      "model_module": "@jupyter-widgets/base",
      "model_module_version": "1.2.0",
      "model_name": "LayoutModel",
      "state": {}
     },
     "a1e0dd3157e44d62bb31960bf0757db4": {
      "model_module": "@jupyter-widgets/controls",
      "model_module_version": "1.5.0",
      "model_name": "BoundedIntTextModel",
      "state": {
       "description": "Чепрасова Ольга(эвент)",
       "layout": "IPY_MODEL_75f7e56caeab4c4591ce02b9d63a0e18",
       "max": 1200000,
       "step": 10000,
       "style": "IPY_MODEL_f6d9a419238b469a9ee90a09742140b5"
      }
     },
     "a273485b667c4f4ab2f3768ac0040944": {
      "model_module": "@jupyter-widgets/controls",
      "model_module_version": "1.5.0",
      "model_name": "DescriptionStyleModel",
      "state": {
       "description_width": ""
      }
     },
     "a2921a5cb311412cafefefb272c82a9e": {
      "model_module": "@jupyter-widgets/controls",
      "model_module_version": "1.5.0",
      "model_name": "DescriptionStyleModel",
      "state": {
       "description_width": ""
      }
     },
     "a32489ced32148aa8482508333ebcd2b": {
      "model_module": "@jupyter-widgets/base",
      "model_module_version": "1.2.0",
      "model_name": "LayoutModel",
      "state": {}
     },
     "a336e238f6104bad930f6cc02a1f4398": {
      "model_module": "@jupyter-widgets/controls",
      "model_module_version": "1.5.0",
      "model_name": "BoundedIntTextModel",
      "state": {
       "description": "Шутова Виктория(прокат)",
       "layout": "IPY_MODEL_02beeaa2c226468081ae83f2d683e358",
       "max": 1200000,
       "step": 10000,
       "style": "IPY_MODEL_2823b68afbe942a4b999ff3cb6e7ae5d",
       "value": 248600
      }
     },
     "a38a614a8e1645d8ac047be924262a58": {
      "model_module": "@jupyter-widgets/controls",
      "model_module_version": "1.5.0",
      "model_name": "ButtonStyleModel",
      "state": {}
     },
     "a45ecdbad2e94eb2b232edc7e6dcecee": {
      "model_module": "@jupyter-widgets/controls",
      "model_module_version": "1.5.0",
      "model_name": "DatePickerModel",
      "state": {
       "description": "Дата1:",
       "disabled": false,
       "layout": "IPY_MODEL_c5104cdbfbf343989b0d68025f51926f",
       "style": "IPY_MODEL_78c7af9472b24de2ae0b0e5ac91b86b4",
       "value": {
        "date": 17,
        "month": 7,
        "year": 2021
       }
      }
     },
     "a469e0cd1f1e4811932751b9c1a06a3f": {
      "model_module": "@jupyter-widgets/controls",
      "model_module_version": "1.5.0",
      "model_name": "DescriptionStyleModel",
      "state": {
       "description_width": ""
      }
     },
     "a4bd4adb5af94dad9784f82ec4179d04": {
      "model_module": "@jupyter-widgets/controls",
      "model_module_version": "1.5.0",
      "model_name": "BoundedIntTextModel",
      "state": {
       "description": "1 Стажер(прокат)",
       "layout": "IPY_MODEL_6427813c5e8d49fba32b2b094b33809d",
       "max": 1200000,
       "step": 10000,
       "style": "IPY_MODEL_da9f3be3631b4ee0b4ae69c4a1902d85",
       "value": 214700
      }
     },
     "a4f31aab16554254bbc0e5bc4ac1bd9c": {
      "model_module": "@jupyter-widgets/controls",
      "model_module_version": "1.5.0",
      "model_name": "DescriptionStyleModel",
      "state": {
       "description_width": ""
      }
     },
     "a4f7821254ff4f21b72ab935bae1322b": {
      "model_module": "@jupyter-widgets/base",
      "model_module_version": "1.2.0",
      "model_name": "LayoutModel",
      "state": {}
     },
     "a513738ecf25467691d3c77c3633b8b7": {
      "model_module": "@jupyter-widgets/controls",
      "model_module_version": "1.5.0",
      "model_name": "DescriptionStyleModel",
      "state": {
       "description_width": ""
      }
     },
     "a5faec962973480eaf335843918516d3": {
      "model_module": "@jupyter-widgets/base",
      "model_module_version": "1.2.0",
      "model_name": "LayoutModel",
      "state": {}
     },
     "a6021a0d3f9d4dd2bbdd36d4a7bfb7c3": {
      "model_module": "@jupyter-widgets/base",
      "model_module_version": "1.2.0",
      "model_name": "LayoutModel",
      "state": {}
     },
     "a63952ea373a4208a18a4ab1b3e21ae4": {
      "model_module": "@jupyter-widgets/controls",
      "model_module_version": "1.5.0",
      "model_name": "ButtonModel",
      "state": {
       "button_style": "success",
       "description": "Загрузить",
       "layout": "IPY_MODEL_9848f7caf1ab48bca64552a9e942017d",
       "style": "IPY_MODEL_8f5dec1ecb6848cb9c16a84f167483a7"
      }
     },
     "a664c1adbdc74700906100cd0ec581e9": {
      "model_module": "@jupyter-widgets/controls",
      "model_module_version": "1.5.0",
      "model_name": "DescriptionStyleModel",
      "state": {
       "description_width": ""
      }
     },
     "a6ed6228aec14a0eb2e2039d3f78b726": {
      "model_module": "@jupyter-widgets/base",
      "model_module_version": "1.2.0",
      "model_name": "LayoutModel",
      "state": {}
     },
     "a713b4eb9c244febb44d9d5bf05f3072": {
      "model_module": "@jupyter-widgets/base",
      "model_module_version": "1.2.0",
      "model_name": "LayoutModel",
      "state": {}
     },
     "a72dd938e85e4e0c9ea698153ff9ccde": {
      "model_module": "@jupyter-widgets/controls",
      "model_module_version": "1.5.0",
      "model_name": "ButtonStyleModel",
      "state": {}
     },
     "a76143a7478440148bdf20e6b63e7a73": {
      "model_module": "@jupyter-widgets/controls",
      "model_module_version": "1.5.0",
      "model_name": "CheckboxModel",
      "state": {
       "description": "Нет курьера",
       "disabled": false,
       "layout": "IPY_MODEL_63608544551c4c23aab72408d5af95fe",
       "style": "IPY_MODEL_ab6bd5d941d34d1ab66db48db58fe1e9",
       "value": false
      }
     },
     "a7f604e9e75444f2a957864c9f714249": {
      "model_module": "@jupyter-widgets/base",
      "model_module_version": "1.2.0",
      "model_name": "LayoutModel",
      "state": {}
     },
     "a858533da05a4dad9a6844f76c7fea40": {
      "model_module": "@jupyter-widgets/controls",
      "model_module_version": "1.5.0",
      "model_name": "ButtonModel",
      "state": {
       "button_style": "success",
       "description": "Загрузить",
       "layout": "IPY_MODEL_b7f77ebbdfea4be1bef18ff010d1326e",
       "style": "IPY_MODEL_7dd2021f68734b298a61059d10219999"
      }
     },
     "a86b3431ce4447798b1cf5890066821e": {
      "model_module": "@jupyter-widgets/controls",
      "model_module_version": "1.5.0",
      "model_name": "DescriptionStyleModel",
      "state": {
       "description_width": ""
      }
     },
     "a89aca723e9e4781b2aa90bf43613f94": {
      "model_module": "@jupyter-widgets/controls",
      "model_module_version": "1.5.0",
      "model_name": "DescriptionStyleModel",
      "state": {
       "description_width": ""
      }
     },
     "a8abce947453473e83e324bd87a33d88": {
      "model_module": "@jupyter-widgets/controls",
      "model_module_version": "1.5.0",
      "model_name": "BoundedIntTextModel",
      "state": {
       "description": "Шутова Виктория(эвент)",
       "layout": "IPY_MODEL_11c027f12a1742288987d4110cc102bf",
       "max": 1200000,
       "step": 10000,
       "style": "IPY_MODEL_3e210ed104c346f69e48c0000b7c2784",
       "value": 157500
      }
     },
     "a8b169ce7fb1433894e23b6212cec4b5": {
      "model_module": "@jupyter-widgets/base",
      "model_module_version": "1.2.0",
      "model_name": "LayoutModel",
      "state": {}
     },
     "a91a78720b9f486780992f1be70a2ec1": {
      "model_module": "@jupyter-widgets/base",
      "model_module_version": "1.2.0",
      "model_name": "LayoutModel",
      "state": {}
     },
     "a95eefa0255044639b726c18bb2f8825": {
      "model_module": "@jupyter-widgets/controls",
      "model_module_version": "1.5.0",
      "model_name": "DatePickerModel",
      "state": {
       "description": "Дата1:",
       "disabled": false,
       "layout": "IPY_MODEL_3d99b35ef5fb4b5393179afcc5d7e377",
       "style": "IPY_MODEL_3f4632d82d36436493d86809ccd4b3d3",
       "value": {
        "date": 17,
        "month": 7,
        "year": 2021
       }
      }
     },
     "a9863672db154d1a943754321f0626bd": {
      "model_module": "@jupyter-widgets/base",
      "model_module_version": "1.2.0",
      "model_name": "LayoutModel",
      "state": {}
     },
     "a9c2c8a0f3f6457da6f90ac4af88678e": {
      "model_module": "@jupyter-widgets/controls",
      "model_module_version": "1.5.0",
      "model_name": "BoundedIntTextModel",
      "state": {
       "description": "Чепрасова Ольга(эвент)",
       "layout": "IPY_MODEL_c8a4730c22ae4ef9b2f03ae8f3e84297",
       "max": 1200000,
       "step": 10000,
       "style": "IPY_MODEL_f7d1b5baf8534651a8451a6aaebb5931"
      }
     },
     "a9d44ece580145bfa60e05d54c889176": {
      "model_module": "@jupyter-widgets/base",
      "model_module_version": "1.2.0",
      "model_name": "LayoutModel",
      "state": {}
     },
     "a9e38584182a4dc1b0614bfc1c883976": {
      "model_module": "@jupyter-widgets/base",
      "model_module_version": "1.2.0",
      "model_name": "LayoutModel",
      "state": {}
     },
     "aa1e74c66e56425ea6b616d97a8a4a39": {
      "model_module": "@jupyter-widgets/controls",
      "model_module_version": "1.5.0",
      "model_name": "DescriptionStyleModel",
      "state": {
       "description_width": ""
      }
     },
     "aa26641954f246fbb7ddb4229ba2bbdb": {
      "model_module": "@jupyter-widgets/controls",
      "model_module_version": "1.5.0",
      "model_name": "DescriptionStyleModel",
      "state": {
       "description_width": ""
      }
     },
     "aa5be36d351f4ae2aaaa3bd0b0f46d62": {
      "model_module": "@jupyter-widgets/controls",
      "model_module_version": "1.5.0",
      "model_name": "CheckboxModel",
      "state": {
       "description": "Клиент пропал",
       "disabled": false,
       "layout": "IPY_MODEL_94b96712e5da44459d41cb936f4e0df8",
       "style": "IPY_MODEL_3257c261b4d7436085447b96916b1765",
       "value": false
      }
     },
     "aa78c498dfd84408ab2ee5d306651020": {
      "model_module": "@jupyter-widgets/base",
      "model_module_version": "1.2.0",
      "model_name": "LayoutModel",
      "state": {}
     },
     "aaa9d9b2852e4b8792fbbfb3964448c8": {
      "model_module": "@jupyter-widgets/controls",
      "model_module_version": "1.5.0",
      "model_name": "CheckboxModel",
      "state": {
       "description": "Передумал",
       "disabled": false,
       "layout": "IPY_MODEL_bbfc5d2c6b8441dabd8acc035e2a7385",
       "style": "IPY_MODEL_68ce4def861742d08e8fa4e752a39caa",
       "value": false
      }
     },
     "ab19237275af427e922055bb85394bba": {
      "model_module": "@jupyter-widgets/controls",
      "model_module_version": "1.5.0",
      "model_name": "CheckboxModel",
      "state": {
       "description": "Передумал",
       "disabled": false,
       "layout": "IPY_MODEL_93afe5ad8f8847e1b832e24ab3513619",
       "style": "IPY_MODEL_e7e91e4ba51441aab58f60647b93c588",
       "value": false
      }
     },
     "ab1baf2a8e7941b8a6177804290f1c11": {
      "model_module": "@jupyter-widgets/base",
      "model_module_version": "1.2.0",
      "model_name": "LayoutModel",
      "state": {}
     },
     "ab6bd5d941d34d1ab66db48db58fe1e9": {
      "model_module": "@jupyter-widgets/controls",
      "model_module_version": "1.5.0",
      "model_name": "DescriptionStyleModel",
      "state": {
       "description_width": ""
      }
     },
     "ac0e91694c374cfda6394a6f906df32d": {
      "model_module": "@jupyter-widgets/controls",
      "model_module_version": "1.5.0",
      "model_name": "CheckboxModel",
      "state": {
       "description": "Дорого",
       "disabled": false,
       "layout": "IPY_MODEL_4c25f707abb24e18bc4d6e2e39d36b20",
       "style": "IPY_MODEL_850ce2520d3e4b0f96e641daedadd780",
       "value": false
      }
     },
     "ac632aa1e9234ee4809dae1ca18bef80": {
      "model_module": "@jupyter-widgets/base",
      "model_module_version": "1.2.0",
      "model_name": "LayoutModel",
      "state": {}
     },
     "ac7585ae6dc34982a30ae5818185c200": {
      "model_module": "@jupyter-widgets/controls",
      "model_module_version": "1.5.0",
      "model_name": "CheckboxModel",
      "state": {
       "description": "Нет курьера",
       "disabled": false,
       "layout": "IPY_MODEL_83ea04f641124601a1a2f9a5af2ca12b",
       "style": "IPY_MODEL_0f524292d68646e7b5e50e32b5526cb4",
       "value": false
      }
     },
     "acc2c142617a4248aea7b5a2253fd6ca": {
      "model_module": "@jupyter-widgets/controls",
      "model_module_version": "1.5.0",
      "model_name": "BoundedIntTextModel",
      "state": {
       "description": "Кузнецова Дарья(прокат)",
       "layout": "IPY_MODEL_395bd3031377443787f0bfd7bcc86adf",
       "max": 1200000,
       "step": 10000,
       "style": "IPY_MODEL_30b764dacbab47eb8d1527b958835b25",
       "value": 192100
      }
     },
     "aceae560c5be4632b901dd4e4ef52b17": {
      "model_module": "@jupyter-widgets/controls",
      "model_module_version": "1.5.0",
      "model_name": "DescriptionStyleModel",
      "state": {
       "description_width": ""
      }
     },
     "ad899e47105d42a9bafab4f578b8ffac": {
      "model_module": "@jupyter-widgets/base",
      "model_module_version": "1.2.0",
      "model_name": "LayoutModel",
      "state": {}
     },
     "ad943102c97d4a40afe60c72c1b8188f": {
      "model_module": "@jupyter-widgets/controls",
      "model_module_version": "1.5.0",
      "model_name": "DescriptionStyleModel",
      "state": {
       "description_width": ""
      }
     },
     "add9539db6964bebb7c352b9e9a49095": {
      "model_module": "@jupyter-widgets/controls",
      "model_module_version": "1.5.0",
      "model_name": "DescriptionStyleModel",
      "state": {
       "description_width": ""
      }
     },
     "ae3270fa6b984621930d65616e8ce56d": {
      "model_module": "@jupyter-widgets/controls",
      "model_module_version": "1.5.0",
      "model_name": "BoundedIntTextModel",
      "state": {
       "description": "1 Стажер(прокат)",
       "layout": "IPY_MODEL_6fc139f3b84c49f9a097097e731b2802",
       "max": 1200000,
       "step": 10000,
       "style": "IPY_MODEL_fbb7ced2af2c43edb95f361ab57c3d63",
       "value": 214700
      }
     },
     "ae463255d9aa4ab19d72b76257c48d29": {
      "model_module": "@jupyter-widgets/base",
      "model_module_version": "1.2.0",
      "model_name": "LayoutModel",
      "state": {}
     },
     "ae6db9f9489a42c88faff2d3fc4ebc8d": {
      "model_module": "@jupyter-widgets/controls",
      "model_module_version": "1.5.0",
      "model_name": "DescriptionStyleModel",
      "state": {
       "description_width": ""
      }
     },
     "ae8859af733d40dfa9eceee162806de5": {
      "model_module": "@jupyter-widgets/base",
      "model_module_version": "1.2.0",
      "model_name": "LayoutModel",
      "state": {}
     },
     "ae93d3b74ee348c890c726d0ad4dee2c": {
      "model_module": "@jupyter-widgets/base",
      "model_module_version": "1.2.0",
      "model_name": "LayoutModel",
      "state": {}
     },
     "aef8bf3c28154e0c945f1fb152877d8a": {
      "model_module": "@jupyter-widgets/base",
      "model_module_version": "1.2.0",
      "model_name": "LayoutModel",
      "state": {}
     },
     "aefc8b7b903e47688e3b57e3898d9663": {
      "model_module": "@jupyter-widgets/controls",
      "model_module_version": "1.5.0",
      "model_name": "CheckboxModel",
      "state": {
       "description": "Клиент пропал",
       "disabled": false,
       "layout": "IPY_MODEL_2c87c309545140baa5790099d2fc5e94",
       "style": "IPY_MODEL_7b5ff2772077409baf591fa007a7ecd1",
       "value": false
      }
     },
     "af49058e2bec4765a5378d8a0816c6e7": {
      "model_module": "@jupyter-widgets/controls",
      "model_module_version": "1.5.0",
      "model_name": "DatePickerModel",
      "state": {
       "description": "Дата1:",
       "disabled": false,
       "layout": "IPY_MODEL_e23a6ab9c7514e8ba898da928892dba2",
       "style": "IPY_MODEL_04fc66addfac4de989f61d5c6fe46e72",
       "value": {
        "date": 17,
        "month": 7,
        "year": 2021
       }
      }
     },
     "af7fa7cc7312455a99d1069b8f7e0346": {
      "model_module": "@jupyter-widgets/base",
      "model_module_version": "1.2.0",
      "model_name": "LayoutModel",
      "state": {}
     },
     "aff2e7c54b55401c820dd50a40c42cea": {
      "model_module": "@jupyter-widgets/base",
      "model_module_version": "1.2.0",
      "model_name": "LayoutModel",
      "state": {}
     },
     "affc4cd5ef084f1481ea8edcf06ad30e": {
      "model_module": "@jupyter-widgets/controls",
      "model_module_version": "1.5.0",
      "model_name": "DescriptionStyleModel",
      "state": {
       "description_width": ""
      }
     },
     "b01c1ec06cb14225a5dc2434d42d0096": {
      "model_module": "@jupyter-widgets/controls",
      "model_module_version": "1.5.0",
      "model_name": "DescriptionStyleModel",
      "state": {
       "description_width": ""
      }
     },
     "b18b3e80cc9942bc97da7c2ebdd8f958": {
      "model_module": "@jupyter-widgets/controls",
      "model_module_version": "1.5.0",
      "model_name": "DescriptionStyleModel",
      "state": {
       "description_width": ""
      }
     },
     "b21b5d80d86c4a919fbddfc67b392b24": {
      "model_module": "@jupyter-widgets/controls",
      "model_module_version": "1.5.0",
      "model_name": "DescriptionStyleModel",
      "state": {
       "description_width": ""
      }
     },
     "b2933dd2ff2c434baac4d8601793d41b": {
      "model_module": "@jupyter-widgets/base",
      "model_module_version": "1.2.0",
      "model_name": "LayoutModel",
      "state": {}
     },
     "b2a4caeb40204614a1b0e2c7339b37b0": {
      "model_module": "@jupyter-widgets/controls",
      "model_module_version": "1.5.0",
      "model_name": "DescriptionStyleModel",
      "state": {
       "description_width": ""
      }
     },
     "b2abf00af02644d3a4cbe7fd5d03e76c": {
      "model_module": "@jupyter-widgets/base",
      "model_module_version": "1.2.0",
      "model_name": "LayoutModel",
      "state": {}
     },
     "b345c913b9e640c1b209e652daab4e5b": {
      "model_module": "@jupyter-widgets/controls",
      "model_module_version": "1.5.0",
      "model_name": "DescriptionStyleModel",
      "state": {
       "description_width": ""
      }
     },
     "b348f8600816408a9ab7b32839c044ef": {
      "model_module": "@jupyter-widgets/base",
      "model_module_version": "1.2.0",
      "model_name": "LayoutModel",
      "state": {}
     },
     "b376452725cd4541842b6fdacfd80587": {
      "model_module": "@jupyter-widgets/base",
      "model_module_version": "1.2.0",
      "model_name": "LayoutModel",
      "state": {}
     },
     "b3c666bbb7ca4d5bbd32286a2a1bbaaf": {
      "model_module": "@jupyter-widgets/controls",
      "model_module_version": "1.5.0",
      "model_name": "BoundedIntTextModel",
      "state": {
       "description": "Симак Наталья(эвент)",
       "layout": "IPY_MODEL_40ec6a6777a24dea98660d8c0d341a58",
       "max": 1200000,
       "step": 10000,
       "style": "IPY_MODEL_0d175de0dc834674bc9441c9158cf700",
       "value": 52500
      }
     },
     "b4c45cca6fdb448dad4d82d58b48c3b2": {
      "model_module": "@jupyter-widgets/controls",
      "model_module_version": "1.5.0",
      "model_name": "CheckboxModel",
      "state": {
       "description": "Мусор / Спам",
       "disabled": false,
       "layout": "IPY_MODEL_29db8b58af1a46e3a50947c0dd090c6e",
       "style": "IPY_MODEL_c6f6994f472442a9b09cffbecde4d201",
       "value": true
      }
     },
     "b51bc01bb48c4c2ea8c8a19136073282": {
      "model_module": "@jupyter-widgets/controls",
      "model_module_version": "1.5.0",
      "model_name": "DescriptionStyleModel",
      "state": {
       "description_width": ""
      }
     },
     "b52f8d3823f4421ca465729885ade5cf": {
      "model_module": "@jupyter-widgets/controls",
      "model_module_version": "1.5.0",
      "model_name": "DescriptionStyleModel",
      "state": {
       "description_width": ""
      }
     },
     "b58daebace734527a1fe2704c01b82cd": {
      "model_module": "@jupyter-widgets/controls",
      "model_module_version": "1.5.0",
      "model_name": "ButtonStyleModel",
      "state": {}
     },
     "b5b5b0eaac6b4758a74a8c3fa02c8fae": {
      "model_module": "@jupyter-widgets/controls",
      "model_module_version": "1.5.0",
      "model_name": "DescriptionStyleModel",
      "state": {
       "description_width": ""
      }
     },
     "b61de3e548bc4d46b559e8d999eff310": {
      "model_module": "@jupyter-widgets/controls",
      "model_module_version": "1.5.0",
      "model_name": "CheckboxModel",
      "state": {
       "description": "Клиент пропал",
       "disabled": false,
       "layout": "IPY_MODEL_cfa281dd710c41738c8e975815d12c69",
       "style": "IPY_MODEL_d8473bcc7e6a4dc39b6cd41369bcfa93",
       "value": false
      }
     },
     "b63b067349a4432f86820a6ee2181e75": {
      "model_module": "@jupyter-widgets/base",
      "model_module_version": "1.2.0",
      "model_name": "LayoutModel",
      "state": {}
     },
     "b63f3b48e1df48dd97c342d1a0c21688": {
      "model_module": "@jupyter-widgets/base",
      "model_module_version": "1.2.0",
      "model_name": "LayoutModel",
      "state": {}
     },
     "b6678b2ecb8046a696d3cb91a1b02e8d": {
      "model_module": "@jupyter-widgets/controls",
      "model_module_version": "1.5.0",
      "model_name": "DescriptionStyleModel",
      "state": {
       "description_width": ""
      }
     },
     "b68f7c4d2f6a455fa65aab6a1844ae38": {
      "model_module": "@jupyter-widgets/base",
      "model_module_version": "1.2.0",
      "model_name": "LayoutModel",
      "state": {}
     },
     "b69bdfe92da9416ea60359f192188db5": {
      "model_module": "@jupyter-widgets/controls",
      "model_module_version": "1.5.0",
      "model_name": "DescriptionStyleModel",
      "state": {
       "description_width": ""
      }
     },
     "b6a3320d19c245b6b1a76c100fb67b83": {
      "model_module": "@jupyter-widgets/controls",
      "model_module_version": "1.5.0",
      "model_name": "BoundedIntTextModel",
      "state": {
       "description": "Симак Наталья(прокат)",
       "layout": "IPY_MODEL_9b5a7ee5608e4a9db039183411f396cd",
       "max": 1200000,
       "step": 10000,
       "style": "IPY_MODEL_977d4ee709bc4c5faf090f8907f20d65",
       "value": 293800
      }
     },
     "b716c6f626644c16a24f4f9d02d657ad": {
      "model_module": "@jupyter-widgets/controls",
      "model_module_version": "1.5.0",
      "model_name": "CheckboxModel",
      "state": {
       "description": "Передумал",
       "disabled": false,
       "layout": "IPY_MODEL_72c27266fc5c46dc9c8b97e8b6171d5d",
       "style": "IPY_MODEL_77a0575144134384bf78a952c5130371",
       "value": false
      }
     },
     "b7b25431ef374330a0bf16d9eaf9015a": {
      "model_module": "@jupyter-widgets/base",
      "model_module_version": "1.2.0",
      "model_name": "LayoutModel",
      "state": {}
     },
     "b7f77ebbdfea4be1bef18ff010d1326e": {
      "model_module": "@jupyter-widgets/base",
      "model_module_version": "1.2.0",
      "model_name": "LayoutModel",
      "state": {}
     },
     "b7fd164f104d4d60b6b2cfb0969b0452": {
      "model_module": "@jupyter-widgets/base",
      "model_module_version": "1.2.0",
      "model_name": "LayoutModel",
      "state": {}
     },
     "b8ab5a6c82f24c649009a8da09c25617": {
      "model_module": "@jupyter-widgets/controls",
      "model_module_version": "1.5.0",
      "model_name": "CheckboxModel",
      "state": {
       "description": "Передумал",
       "disabled": false,
       "layout": "IPY_MODEL_43444d81f3ac499eb352947a1ec69f54",
       "style": "IPY_MODEL_2a87b19fcff24438b1c1e471d7d71395",
       "value": false
      }
     },
     "b8b00bcf3f2e4cbbbe7d994886eafe3c": {
      "model_module": "@jupyter-widgets/controls",
      "model_module_version": "1.5.0",
      "model_name": "DescriptionStyleModel",
      "state": {
       "description_width": ""
      }
     },
     "b913113f26dc4b0abc7439acf2fe7175": {
      "model_module": "@jupyter-widgets/controls",
      "model_module_version": "1.5.0",
      "model_name": "CheckboxModel",
      "state": {
       "description": "Не устроил залог",
       "disabled": false,
       "layout": "IPY_MODEL_9c886fb2beb5444198d344b3489a697a",
       "style": "IPY_MODEL_8e9949cc4ad84dde84eafaa96bc56ed0",
       "value": false
      }
     },
     "b91351debb374332bfebc6304b8e2076": {
      "model_module": "@jupyter-widgets/controls",
      "model_module_version": "1.5.0",
      "model_name": "DescriptionStyleModel",
      "state": {
       "description_width": ""
      }
     },
     "b974d1e5378f4d1e87f2a319ab692e02": {
      "model_module": "@jupyter-widgets/controls",
      "model_module_version": "1.5.0",
      "model_name": "DescriptionStyleModel",
      "state": {
       "description_width": ""
      }
     },
     "b9d6c70c0e6f4c84bf98789d7f97848d": {
      "model_module": "@jupyter-widgets/controls",
      "model_module_version": "1.5.0",
      "model_name": "DescriptionStyleModel",
      "state": {
       "description_width": ""
      }
     },
     "ba21a5084d8341d18401fc05a88e13ce": {
      "model_module": "@jupyter-widgets/base",
      "model_module_version": "1.2.0",
      "model_name": "LayoutModel",
      "state": {}
     },
     "ba4ad23c7cdf4bbe9ddbcedbc0326224": {
      "model_module": "@jupyter-widgets/controls",
      "model_module_version": "1.5.0",
      "model_name": "BoundedIntTextModel",
      "state": {
       "description": "Кузнецова Дарья(эвент)",
       "layout": "IPY_MODEL_268f753f09894810b4af05f10dff8f2a",
       "max": 1200000,
       "step": 10000,
       "style": "IPY_MODEL_5ba7d43a1b4b4508a77d090fad188d74",
       "value": 140000
      }
     },
     "ba6d20ca60de4ca087077de0f44872f0": {
      "model_module": "@jupyter-widgets/controls",
      "model_module_version": "1.5.0",
      "model_name": "BoundedIntTextModel",
      "state": {
       "description": "1 Стажер(эвент)",
       "layout": "IPY_MODEL_3a84b289c25047f18f7ef4bb89a7b6d9",
       "max": 1200000,
       "step": 10000,
       "style": "IPY_MODEL_11986e98e5404e8e8e939dc355058366"
      }
     },
     "ba6e15479b624d0a84a36706c3963bfd": {
      "model_module": "@jupyter-widgets/base",
      "model_module_version": "1.2.0",
      "model_name": "LayoutModel",
      "state": {}
     },
     "ba99cfdd934e461a940b545d59bf46f9": {
      "model_module": "@jupyter-widgets/controls",
      "model_module_version": "1.5.0",
      "model_name": "ButtonStyleModel",
      "state": {}
     },
     "ba9a21db7c3d4ac4b3674a16ebeae4ec": {
      "model_module": "@jupyter-widgets/controls",
      "model_module_version": "1.5.0",
      "model_name": "DescriptionStyleModel",
      "state": {
       "description_width": ""
      }
     },
     "bab8862c3d084a11a1d2fc048b96d707": {
      "model_module": "@jupyter-widgets/controls",
      "model_module_version": "1.5.0",
      "model_name": "DropdownModel",
      "state": {
       "_options_labels": [
        "aug"
       ],
       "description": "План на:",
       "index": 0,
       "layout": "IPY_MODEL_a9e38584182a4dc1b0614bfc1c883976",
       "style": "IPY_MODEL_38a77f42c9d54fa79a3e77d0a490b811"
      }
     },
     "bb4e936e1d764b6ba36cbe23ffad9504": {
      "model_module": "@jupyter-widgets/base",
      "model_module_version": "1.2.0",
      "model_name": "LayoutModel",
      "state": {}
     },
     "bb5c3a13eff54f2eb24db09bb663ade5": {
      "model_module": "@jupyter-widgets/controls",
      "model_module_version": "1.5.0",
      "model_name": "CheckboxModel",
      "state": {
       "description": "Дорого",
       "disabled": false,
       "layout": "IPY_MODEL_a0c8061311424dc9b944cb7a8f8641f3",
       "style": "IPY_MODEL_3e4a89eae93a428c91c275a6677d2498",
       "value": false
      }
     },
     "bb66b47c014a46ab8406cc75eb61e2b2": {
      "model_module": "@jupyter-widgets/base",
      "model_module_version": "1.2.0",
      "model_name": "LayoutModel",
      "state": {}
     },
     "bb78f0eb34de4a2b8d077cf0637b5afc": {
      "model_module": "@jupyter-widgets/controls",
      "model_module_version": "1.5.0",
      "model_name": "CheckboxModel",
      "state": {
       "description": "Клиент пропал",
       "disabled": false,
       "layout": "IPY_MODEL_eb8ad2c997a5471f8d41b1aae5767605",
       "style": "IPY_MODEL_c874c596bba54adb8abf7e12a40677bf",
       "value": false
      }
     },
     "bba775ab569d4740be49a75712371414": {
      "model_module": "@jupyter-widgets/controls",
      "model_module_version": "1.5.0",
      "model_name": "BoundedIntTextModel",
      "state": {
       "description": "Чепрасова Ольга(эвент)",
       "layout": "IPY_MODEL_7fb4f0bc91cc42e69c073cfa3543acd7",
       "max": 1200000,
       "step": 10000,
       "style": "IPY_MODEL_e18f341ee3c248b1b6aa0b24b1e22a77"
      }
     },
     "bbd6285c34f948eeb80630deb141c291": {
      "model_module": "@jupyter-widgets/base",
      "model_module_version": "1.2.0",
      "model_name": "LayoutModel",
      "state": {}
     },
     "bbf6e676ff00440ba4a5510c788546c5": {
      "model_module": "@jupyter-widgets/controls",
      "model_module_version": "1.5.0",
      "model_name": "BoundedIntTextModel",
      "state": {
       "description": "Симак Наталья(эвент)",
       "layout": "IPY_MODEL_d215c8df4a8948fd80419254a3fd1e76",
       "max": 1200000,
       "step": 10000,
       "style": "IPY_MODEL_8b4b414085e6468f8f27f2322eea75d4",
       "value": 52500
      }
     },
     "bbfc5d2c6b8441dabd8acc035e2a7385": {
      "model_module": "@jupyter-widgets/base",
      "model_module_version": "1.2.0",
      "model_name": "LayoutModel",
      "state": {}
     },
     "bbfecaabcd7b41b28a2bdb4cca771faa": {
      "model_module": "@jupyter-widgets/base",
      "model_module_version": "1.2.0",
      "model_name": "LayoutModel",
      "state": {}
     },
     "bcac0c2863b14a65affd1fe336757ea8": {
      "model_module": "@jupyter-widgets/controls",
      "model_module_version": "1.5.0",
      "model_name": "BoundedIntTextModel",
      "state": {
       "description": "Шутова Виктория(прокат)",
       "layout": "IPY_MODEL_62945d0590244a968cef4837d9a877ee",
       "max": 1200000,
       "step": 10000,
       "style": "IPY_MODEL_9fc9aa31db7241b0b7e926dd9702fe5e",
       "value": 248600
      }
     },
     "bcbda301262b4f7980deb44361622d07": {
      "model_module": "@jupyter-widgets/controls",
      "model_module_version": "1.5.0",
      "model_name": "DescriptionStyleModel",
      "state": {
       "description_width": ""
      }
     },
     "bcc77b794afb490ab4551a1eff6deee6": {
      "model_module": "@jupyter-widgets/controls",
      "model_module_version": "1.5.0",
      "model_name": "BoundedIntTextModel",
      "state": {
       "description": "Кузнецова Дарья(прокат)",
       "layout": "IPY_MODEL_1d2b77585974442a950afc84f2207ea7",
       "max": 1200000,
       "step": 10000,
       "style": "IPY_MODEL_aa1e74c66e56425ea6b616d97a8a4a39",
       "value": 192100
      }
     },
     "bd582d34cf4841ed8875110de44ead17": {
      "model_module": "@jupyter-widgets/controls",
      "model_module_version": "1.5.0",
      "model_name": "CheckboxModel",
      "state": {
       "description": "Дорого",
       "disabled": false,
       "layout": "IPY_MODEL_7b50d8ae33724b0c9b684b8093ac0d74",
       "style": "IPY_MODEL_1f6f39b7dc4f4adcbc746a9db3fe06d8",
       "value": false
      }
     },
     "bd7d2c680ad04672b9a5765678c3c408": {
      "model_module": "@jupyter-widgets/controls",
      "model_module_version": "1.5.0",
      "model_name": "CheckboxModel",
      "state": {
       "description": "Клиент пропал",
       "disabled": false,
       "layout": "IPY_MODEL_52640ec4b6a8470598daaf1e0a671cd5",
       "style": "IPY_MODEL_7d646f7d4f6546e69888dc15f515cf6b",
       "value": false
      }
     },
     "bdab402b32ca4f50be8e35179844b502": {
      "model_module": "@jupyter-widgets/controls",
      "model_module_version": "1.5.0",
      "model_name": "DescriptionStyleModel",
      "state": {
       "description_width": ""
      }
     },
     "beac99e57af14e37976aefa7377ab4d1": {
      "model_module": "@jupyter-widgets/controls",
      "model_module_version": "1.5.0",
      "model_name": "DescriptionStyleModel",
      "state": {
       "description_width": ""
      }
     },
     "beb95b41ddfb45279ffaedfc0ff1e5e8": {
      "model_module": "@jupyter-widgets/controls",
      "model_module_version": "1.5.0",
      "model_name": "DescriptionStyleModel",
      "state": {
       "description_width": ""
      }
     },
     "bf2def0248264cccac396cb63aca8812": {
      "model_module": "@jupyter-widgets/controls",
      "model_module_version": "1.5.0",
      "model_name": "BoundedIntTextModel",
      "state": {
       "description": "1 Стажер(прокат)",
       "layout": "IPY_MODEL_d89109567a0446f0bc8e4f3f1aa0f4cb",
       "max": 1200000,
       "step": 10000,
       "style": "IPY_MODEL_3e726cc3cd96451cbfd440d2a9cfb8fd",
       "value": 214700
      }
     },
     "bf4cf315a4af4d71b0b565cada2fa5d2": {
      "model_module": "@jupyter-widgets/controls",
      "model_module_version": "1.5.0",
      "model_name": "DescriptionStyleModel",
      "state": {
       "description_width": ""
      }
     },
     "bfb52bc029de4cbb80c172b830fc1886": {
      "model_module": "@jupyter-widgets/base",
      "model_module_version": "1.2.0",
      "model_name": "LayoutModel",
      "state": {}
     },
     "c0ca0ed95182462d84ce0280b93133dc": {
      "model_module": "@jupyter-widgets/controls",
      "model_module_version": "1.5.0",
      "model_name": "BoundedIntTextModel",
      "state": {
       "description": "Чепрасова Ольга(эвент)",
       "layout": "IPY_MODEL_4f67a5bb916347969a976eea12d8b77e",
       "max": 1200000,
       "step": 10000,
       "style": "IPY_MODEL_6454b4193ab14e59bb86874973588b53"
      }
     },
     "c14320e84b7448aa8b49971c8f2d028f": {
      "model_module": "@jupyter-widgets/controls",
      "model_module_version": "1.5.0",
      "model_name": "DescriptionStyleModel",
      "state": {
       "description_width": ""
      }
     },
     "c16451ec3b524872a42258b99db1e4c1": {
      "model_module": "@jupyter-widgets/base",
      "model_module_version": "1.2.0",
      "model_name": "LayoutModel",
      "state": {}
     },
     "c1c22426796a4243bb6b2b1bf0cae9c1": {
      "model_module": "@jupyter-widgets/controls",
      "model_module_version": "1.5.0",
      "model_name": "DescriptionStyleModel",
      "state": {
       "description_width": ""
      }
     },
     "c2315211097e4bea85f5d4b429ed8a25": {
      "model_module": "@jupyter-widgets/controls",
      "model_module_version": "1.5.0",
      "model_name": "DescriptionStyleModel",
      "state": {
       "description_width": ""
      }
     },
     "c232c23f79d6455cb84c57089370f372": {
      "model_module": "@jupyter-widgets/controls",
      "model_module_version": "1.5.0",
      "model_name": "DescriptionStyleModel",
      "state": {
       "description_width": ""
      }
     },
     "c27445267a8f41b48eb24a90b19e40ff": {
      "model_module": "@jupyter-widgets/controls",
      "model_module_version": "1.5.0",
      "model_name": "DescriptionStyleModel",
      "state": {
       "description_width": ""
      }
     },
     "c2cb08b6ef394ea093ebfd3fb0b05ec3": {
      "model_module": "@jupyter-widgets/controls",
      "model_module_version": "1.5.0",
      "model_name": "DescriptionStyleModel",
      "state": {
       "description_width": ""
      }
     },
     "c2fa14c0dc97403dab48a6c0a4a114e2": {
      "model_module": "@jupyter-widgets/controls",
      "model_module_version": "1.5.0",
      "model_name": "BoundedIntTextModel",
      "state": {
       "description": "Кузнецова Дарья(прокат)",
       "layout": "IPY_MODEL_18099328774e470db38fad03e6d73b37",
       "max": 1200000,
       "step": 10000,
       "style": "IPY_MODEL_7aadd3065e3a4bccb9700b43a9854903",
       "value": 192100
      }
     },
     "c3412676c14443fead579fbe22e67406": {
      "model_module": "@jupyter-widgets/base",
      "model_module_version": "1.2.0",
      "model_name": "LayoutModel",
      "state": {}
     },
     "c38a5c5c79f44c52b41cf9383f84ba30": {
      "model_module": "@jupyter-widgets/controls",
      "model_module_version": "1.5.0",
      "model_name": "DescriptionStyleModel",
      "state": {
       "description_width": ""
      }
     },
     "c38ff1baacff4a6e8b1762c84d97921d": {
      "model_module": "@jupyter-widgets/base",
      "model_module_version": "1.2.0",
      "model_name": "LayoutModel",
      "state": {}
     },
     "c39ab5e53a8e44bc8f652c0b46592d2e": {
      "model_module": "@jupyter-widgets/controls",
      "model_module_version": "1.5.0",
      "model_name": "DescriptionStyleModel",
      "state": {
       "description_width": ""
      }
     },
     "c3f09938d07a49249d6f3f7a995e4cdd": {
      "model_module": "@jupyter-widgets/controls",
      "model_module_version": "1.5.0",
      "model_name": "DropdownModel",
      "state": {
       "_options_labels": [
        "aug"
       ],
       "description": "План на:",
       "index": 0,
       "layout": "IPY_MODEL_324b77d0165a40c79419875092bedb0b",
       "style": "IPY_MODEL_30b8c064783349ccb40c9fe21d496e0c"
      }
     },
     "c430c289aacd4052a750c9009273f8a1": {
      "model_module": "@jupyter-widgets/base",
      "model_module_version": "1.2.0",
      "model_name": "LayoutModel",
      "state": {}
     },
     "c43b6cc61ca94aff8ecb3d3d55067aa1": {
      "model_module": "@jupyter-widgets/controls",
      "model_module_version": "1.5.0",
      "model_name": "DescriptionStyleModel",
      "state": {
       "description_width": ""
      }
     },
     "c471d274bc7d42388effa5bdd8f2db8e": {
      "model_module": "@jupyter-widgets/controls",
      "model_module_version": "1.5.0",
      "model_name": "DescriptionStyleModel",
      "state": {
       "description_width": ""
      }
     },
     "c509a72515f64065839d8413cc071f88": {
      "model_module": "@jupyter-widgets/controls",
      "model_module_version": "1.5.0",
      "model_name": "DescriptionStyleModel",
      "state": {
       "description_width": ""
      }
     },
     "c5104cdbfbf343989b0d68025f51926f": {
      "model_module": "@jupyter-widgets/base",
      "model_module_version": "1.2.0",
      "model_name": "LayoutModel",
      "state": {}
     },
     "c530d66b32ec466b9fa75669f55118e4": {
      "model_module": "@jupyter-widgets/controls",
      "model_module_version": "1.5.0",
      "model_name": "DescriptionStyleModel",
      "state": {
       "description_width": ""
      }
     },
     "c5c00e3bc2614c229f8479dbb4dc9013": {
      "model_module": "@jupyter-widgets/controls",
      "model_module_version": "1.5.0",
      "model_name": "DescriptionStyleModel",
      "state": {
       "description_width": ""
      }
     },
     "c60d4139b45d421d9ea49f659844e141": {
      "model_module": "@jupyter-widgets/controls",
      "model_module_version": "1.5.0",
      "model_name": "DescriptionStyleModel",
      "state": {
       "description_width": ""
      }
     },
     "c662d58cf5c942f8b0accf5fc819413b": {
      "model_module": "@jupyter-widgets/controls",
      "model_module_version": "1.5.0",
      "model_name": "DescriptionStyleModel",
      "state": {
       "description_width": ""
      }
     },
     "c6f6994f472442a9b09cffbecde4d201": {
      "model_module": "@jupyter-widgets/controls",
      "model_module_version": "1.5.0",
      "model_name": "DescriptionStyleModel",
      "state": {
       "description_width": ""
      }
     },
     "c7025db840624aeca0e3fa3955ee4ff5": {
      "model_module": "@jupyter-widgets/controls",
      "model_module_version": "1.5.0",
      "model_name": "DescriptionStyleModel",
      "state": {
       "description_width": ""
      }
     },
     "c7435642178746639d3fd9ab1d647e72": {
      "model_module": "@jupyter-widgets/controls",
      "model_module_version": "1.5.0",
      "model_name": "CheckboxModel",
      "state": {
       "description": "Дорого",
       "disabled": false,
       "layout": "IPY_MODEL_9041ed40abcf47649e14ede4a56074c5",
       "style": "IPY_MODEL_1870fc6d83004f8590d8b548790aeb2a",
       "value": false
      }
     },
     "c7c500384f764c158b448868ed83f80a": {
      "model_module": "@jupyter-widgets/controls",
      "model_module_version": "1.5.0",
      "model_name": "BoundedIntTextModel",
      "state": {
       "description": "Чепрасова Ольга(прокат)",
       "layout": "IPY_MODEL_2dceb677de35494ba3b55cde4352942d",
       "max": 1200000,
       "step": 10000,
       "style": "IPY_MODEL_68fda88931f94104a0b9e038ff0e3308",
       "value": 180800
      }
     },
     "c7d00baf2e7646828028f17acb03b5c0": {
      "model_module": "@jupyter-widgets/base",
      "model_module_version": "1.2.0",
      "model_name": "LayoutModel",
      "state": {}
     },
     "c874c596bba54adb8abf7e12a40677bf": {
      "model_module": "@jupyter-widgets/controls",
      "model_module_version": "1.5.0",
      "model_name": "DescriptionStyleModel",
      "state": {
       "description_width": ""
      }
     },
     "c88c60f29c9247d3a95503a25e535a13": {
      "model_module": "@jupyter-widgets/controls",
      "model_module_version": "1.5.0",
      "model_name": "CheckboxModel",
      "state": {
       "description": "Повторная заявка с другого сайта",
       "disabled": false,
       "layout": "IPY_MODEL_33c2faa55d3b451fb84adaafedaf532e",
       "style": "IPY_MODEL_bdab402b32ca4f50be8e35179844b502",
       "value": true
      }
     },
     "c8a4730c22ae4ef9b2f03ae8f3e84297": {
      "model_module": "@jupyter-widgets/base",
      "model_module_version": "1.2.0",
      "model_name": "LayoutModel",
      "state": {}
     },
     "c8ae64e7c58749e39825058575561eb3": {
      "model_module": "@jupyter-widgets/controls",
      "model_module_version": "1.5.0",
      "model_name": "BoundedIntTextModel",
      "state": {
       "description": "Шутова Виктория(эвент)",
       "layout": "IPY_MODEL_902ae34992e14b359fb4ca24ac748e87",
       "max": 1200000,
       "step": 10000,
       "style": "IPY_MODEL_25f4a0fe19684ba897ce501c40b95bb3",
       "value": 157500
      }
     },
     "c915e1092c674738b111fd3ffc671dac": {
      "model_module": "@jupyter-widgets/controls",
      "model_module_version": "1.5.0",
      "model_name": "DescriptionStyleModel",
      "state": {
       "description_width": ""
      }
     },
     "c9373b2ef66048cb87b25dffc182438d": {
      "model_module": "@jupyter-widgets/controls",
      "model_module_version": "1.5.0",
      "model_name": "DescriptionStyleModel",
      "state": {
       "description_width": ""
      }
     },
     "c94e5ab71c134d8083437e608bd65073": {
      "model_module": "@jupyter-widgets/base",
      "model_module_version": "1.2.0",
      "model_name": "LayoutModel",
      "state": {}
     },
     "c9680610ed1546fcab74949c5f9a1c8b": {
      "model_module": "@jupyter-widgets/controls",
      "model_module_version": "1.5.0",
      "model_name": "BoundedIntTextModel",
      "state": {
       "description": "1 Стажер(прокат)",
       "layout": "IPY_MODEL_183921a26a9d43ae87fef0d02ed8ee4b",
       "max": 1200000,
       "step": 10000,
       "style": "IPY_MODEL_4a0048a03a5f4eb598d2ea020fee49be",
       "value": 214700
      }
     },
     "c969ab5b3c244463aa34d43d8b4f3621": {
      "model_module": "@jupyter-widgets/controls",
      "model_module_version": "1.5.0",
      "model_name": "DescriptionStyleModel",
      "state": {
       "description_width": ""
      }
     },
     "c9d1c0fc320e4cf69405cb5c7826f5f8": {
      "model_module": "@jupyter-widgets/controls",
      "model_module_version": "1.5.0",
      "model_name": "DropdownModel",
      "state": {
       "_options_labels": [
        "aug"
       ],
       "description": "План на:",
       "index": 0,
       "layout": "IPY_MODEL_34233cfe83a04edb9ebacc0f4f579f2b",
       "style": "IPY_MODEL_429c34375a8f4367b67acf4cb46e9734"
      }
     },
     "c9d369c3f732459785721ad99de76e36": {
      "model_module": "@jupyter-widgets/controls",
      "model_module_version": "1.5.0",
      "model_name": "DescriptionStyleModel",
      "state": {
       "description_width": ""
      }
     },
     "ca44b807f8ac46a4ab8e41517a32d002": {
      "model_module": "@jupyter-widgets/base",
      "model_module_version": "1.2.0",
      "model_name": "LayoutModel",
      "state": {}
     },
     "ca4c98e7b8044b69a930367e0bb14a34": {
      "model_module": "@jupyter-widgets/controls",
      "model_module_version": "1.5.0",
      "model_name": "DescriptionStyleModel",
      "state": {
       "description_width": ""
      }
     },
     "ca9a1c3ecd974bdba3733283aeb7780c": {
      "model_module": "@jupyter-widgets/controls",
      "model_module_version": "1.5.0",
      "model_name": "DescriptionStyleModel",
      "state": {
       "description_width": ""
      }
     },
     "cab421e8aff249668e3692fb72216ad0": {
      "model_module": "@jupyter-widgets/controls",
      "model_module_version": "1.5.0",
      "model_name": "ButtonStyleModel",
      "state": {}
     },
     "cad763e2cc4d4aa7bc1882fe52239571": {
      "model_module": "@jupyter-widgets/controls",
      "model_module_version": "1.5.0",
      "model_name": "DescriptionStyleModel",
      "state": {
       "description_width": ""
      }
     },
     "caf15829e15240619d81944b3798a7a7": {
      "model_module": "@jupyter-widgets/controls",
      "model_module_version": "1.5.0",
      "model_name": "DescriptionStyleModel",
      "state": {
       "description_width": ""
      }
     },
     "caf832bf2d5841cb86bfc8eaaaedefde": {
      "model_module": "@jupyter-widgets/base",
      "model_module_version": "1.2.0",
      "model_name": "LayoutModel",
      "state": {}
     },
     "cb4f23c0d29f47bfbf49d4f35be69497": {
      "model_module": "@jupyter-widgets/controls",
      "model_module_version": "1.5.0",
      "model_name": "CheckboxModel",
      "state": {
       "description": "Отсутствует техника",
       "disabled": false,
       "layout": "IPY_MODEL_a6ed6228aec14a0eb2e2039d3f78b726",
       "style": "IPY_MODEL_5fa25fd6ad9a4575837f5d69a51fa667",
       "value": true
      }
     },
     "cbafc71de0a2421297e93479b19879ae": {
      "model_module": "@jupyter-widgets/controls",
      "model_module_version": "1.5.0",
      "model_name": "CheckboxModel",
      "state": {
       "description": "Дубль",
       "disabled": false,
       "layout": "IPY_MODEL_c430c289aacd4052a750c9009273f8a1",
       "style": "IPY_MODEL_c232c23f79d6455cb84c57089370f372",
       "value": true
      }
     },
     "cbc3e963f3264fddbb8accbc77ff5411": {
      "model_module": "@jupyter-widgets/controls",
      "model_module_version": "1.5.0",
      "model_name": "CheckboxModel",
      "state": {
       "description": "Мусор / Спам",
       "disabled": false,
       "layout": "IPY_MODEL_d1607ce40872463499891299bfb92ba3",
       "style": "IPY_MODEL_2ca29e421f5d4c9b9c066876420d098e",
       "value": true
      }
     },
     "cbe8d5947c864fc39c070695b1ddc5a2": {
      "model_module": "@jupyter-widgets/controls",
      "model_module_version": "1.5.0",
      "model_name": "DescriptionStyleModel",
      "state": {
       "description_width": ""
      }
     },
     "cbf9e2d4ccb140fdaf9eaf8351dcd033": {
      "model_module": "@jupyter-widgets/controls",
      "model_module_version": "1.5.0",
      "model_name": "DescriptionStyleModel",
      "state": {
       "description_width": ""
      }
     },
     "ccbf43c5ea5f441e88a6608c5381dbbb": {
      "model_module": "@jupyter-widgets/controls",
      "model_module_version": "1.5.0",
      "model_name": "BoundedIntTextModel",
      "state": {
       "description": "Кузнецова Дарья(эвент)",
       "layout": "IPY_MODEL_a32489ced32148aa8482508333ebcd2b",
       "max": 1200000,
       "step": 10000,
       "style": "IPY_MODEL_4b8d2c1cae9c41f3ba6898660dab6c80",
       "value": 140000
      }
     },
     "ccdf05dbddd64cc187737770f95842e3": {
      "model_module": "@jupyter-widgets/controls",
      "model_module_version": "1.5.0",
      "model_name": "CheckboxModel",
      "state": {
       "description": "Закрыт офис",
       "disabled": false,
       "layout": "IPY_MODEL_e215fe1cab32439c8e63381eecfbaade",
       "style": "IPY_MODEL_635d4be79c9b4ddfba02035e20c9b955",
       "value": false
      }
     },
     "ccfb28e3c2d14634a0003b13f6de98c4": {
      "model_module": "@jupyter-widgets/controls",
      "model_module_version": "1.5.0",
      "model_name": "BoundedIntTextModel",
      "state": {
       "description": "Кузнецова Дарья(прокат)",
       "layout": "IPY_MODEL_d9dd997f38b94330890366d2b575dee9",
       "max": 1200000,
       "step": 10000,
       "style": "IPY_MODEL_a273485b667c4f4ab2f3768ac0040944",
       "value": 192100
      }
     },
     "cd3b7dfddbee4a9d8d14a21b27c7cb75": {
      "model_module": "@jupyter-widgets/controls",
      "model_module_version": "1.5.0",
      "model_name": "DatePickerModel",
      "state": {
       "description": "Дата2:",
       "disabled": false,
       "layout": "IPY_MODEL_d5fa973aa1dc4f57b61b68f9b681c6f5",
       "style": "IPY_MODEL_beb95b41ddfb45279ffaedfc0ff1e5e8",
       "value": {
        "date": 17,
        "month": 7,
        "year": 2021
       }
      }
     },
     "cd50a16037a148f4be78a5a091d3b99f": {
      "model_module": "@jupyter-widgets/base",
      "model_module_version": "1.2.0",
      "model_name": "LayoutModel",
      "state": {}
     },
     "cd7370dbdfac4df9b4e440727643303f": {
      "model_module": "@jupyter-widgets/base",
      "model_module_version": "1.2.0",
      "model_name": "LayoutModel",
      "state": {}
     },
     "cd7c89be03d0453ca95d8fc3205d47e3": {
      "model_module": "@jupyter-widgets/base",
      "model_module_version": "1.2.0",
      "model_name": "LayoutModel",
      "state": {}
     },
     "cddc83ec00384f20a223c41283b7bd41": {
      "model_module": "@jupyter-widgets/controls",
      "model_module_version": "1.5.0",
      "model_name": "CheckboxModel",
      "state": {
       "description": "Закрыт офис",
       "disabled": false,
       "layout": "IPY_MODEL_1f048080576b4b2fba53bdad6f3f7989",
       "style": "IPY_MODEL_3d5afe69b0b1442f8ce70f54011fd277",
       "value": false
      }
     },
     "cde848588ad44cc1808423c63ddb29c0": {
      "model_module": "@jupyter-widgets/base",
      "model_module_version": "1.2.0",
      "model_name": "LayoutModel",
      "state": {}
     },
     "cdedc1fa69a445a8a69cb8af709e8270": {
      "model_module": "@jupyter-widgets/controls",
      "model_module_version": "1.5.0",
      "model_name": "ButtonModel",
      "state": {
       "button_style": "success",
       "description": "Загрузить",
       "layout": "IPY_MODEL_2fc405fbebcc45e98d672ac4eaccf5a8",
       "style": "IPY_MODEL_5da290d05f964ef49af8dbf9b27a26c6"
      }
     },
     "ce88ea9a0b25491799b3d46573058557": {
      "model_module": "@jupyter-widgets/base",
      "model_module_version": "1.2.0",
      "model_name": "LayoutModel",
      "state": {}
     },
     "cef2742dc3114fd9b4031e29b2e34bc8": {
      "model_module": "@jupyter-widgets/controls",
      "model_module_version": "1.5.0",
      "model_name": "CheckboxModel",
      "state": {
       "description": "Повторная заявка с другого сайта",
       "disabled": false,
       "layout": "IPY_MODEL_2d9971c42e92431185f5c715907a880f",
       "style": "IPY_MODEL_024a4e5ce9ba4e65bfe00f1054a845b3",
       "value": true
      }
     },
     "cf365a76b53a46c2a59ccf5797729e9c": {
      "model_module": "@jupyter-widgets/controls",
      "model_module_version": "1.5.0",
      "model_name": "DropdownModel",
      "state": {
       "_options_labels": [
        "aug"
       ],
       "description": "План на:",
       "index": 0,
       "layout": "IPY_MODEL_27443ec3557746a8abd56c33218fb8a8",
       "style": "IPY_MODEL_74a7c5cd98d149f78c8bc15ac7a87ca7"
      }
     },
     "cf74026b1d6d4692850efbe9e15017ac": {
      "model_module": "@jupyter-widgets/controls",
      "model_module_version": "1.5.0",
      "model_name": "DescriptionStyleModel",
      "state": {
       "description_width": ""
      }
     },
     "cfa25035c68d4dce9798f74c01398918": {
      "model_module": "@jupyter-widgets/controls",
      "model_module_version": "1.5.0",
      "model_name": "DescriptionStyleModel",
      "state": {
       "description_width": ""
      }
     },
     "cfa281dd710c41738c8e975815d12c69": {
      "model_module": "@jupyter-widgets/base",
      "model_module_version": "1.2.0",
      "model_name": "LayoutModel",
      "state": {}
     },
     "cfcbd85414bf41de9ac1dda9ca149bb0": {
      "model_module": "@jupyter-widgets/controls",
      "model_module_version": "1.5.0",
      "model_name": "DescriptionStyleModel",
      "state": {
       "description_width": ""
      }
     },
     "d025fcf8fa744fef902e4c3018628356": {
      "model_module": "@jupyter-widgets/controls",
      "model_module_version": "1.5.0",
      "model_name": "CheckboxModel",
      "state": {
       "description": "Дорого",
       "disabled": false,
       "layout": "IPY_MODEL_02be6bfe28b54d41933b285c0014c458",
       "style": "IPY_MODEL_daf8b6d6319041d5863072c74f6db6d3",
       "value": false
      }
     },
     "d031dd7946e747588eca6bd7fe96094c": {
      "model_module": "@jupyter-widgets/controls",
      "model_module_version": "1.5.0",
      "model_name": "CheckboxModel",
      "state": {
       "description": "Отсутствует техника",
       "disabled": false,
       "layout": "IPY_MODEL_f2d09290d9624ae3bc7f8acc762f7ef4",
       "style": "IPY_MODEL_e96c7c1dfb87455c8570e0ff22155a2d",
       "value": true
      }
     },
     "d05848592f1e41e5aba14fcc0eee08b7": {
      "model_module": "@jupyter-widgets/controls",
      "model_module_version": "1.5.0",
      "model_name": "BoundedIntTextModel",
      "state": {
       "description": "Чепрасова Ольга(прокат)",
       "layout": "IPY_MODEL_787ef8d8ffcd4e72865cc95f23a453a1",
       "max": 1200000,
       "step": 10000,
       "style": "IPY_MODEL_38252930632e4aaa9d165a127ae74b34",
       "value": 180800
      }
     },
     "d05d76ddbcf9410a90d111c23095d386": {
      "model_module": "@jupyter-widgets/controls",
      "model_module_version": "1.5.0",
      "model_name": "DescriptionStyleModel",
      "state": {
       "description_width": ""
      }
     },
     "d073a709bda14bc1802cdec3ef8fc383": {
      "model_module": "@jupyter-widgets/controls",
      "model_module_version": "1.5.0",
      "model_name": "DescriptionStyleModel",
      "state": {
       "description_width": ""
      }
     },
     "d078f248cf064a818a717ebf1ecf0b67": {
      "model_module": "@jupyter-widgets/controls",
      "model_module_version": "1.5.0",
      "model_name": "BoundedIntTextModel",
      "state": {
       "description": "Симак Наталья(эвент)",
       "layout": "IPY_MODEL_ad899e47105d42a9bafab4f578b8ffac",
       "max": 1200000,
       "step": 10000,
       "style": "IPY_MODEL_c38a5c5c79f44c52b41cf9383f84ba30",
       "value": 52500
      }
     },
     "d125ef59dbb8440eaeecc57ae985d479": {
      "model_module": "@jupyter-widgets/base",
      "model_module_version": "1.2.0",
      "model_name": "LayoutModel",
      "state": {}
     },
     "d1607ce40872463499891299bfb92ba3": {
      "model_module": "@jupyter-widgets/base",
      "model_module_version": "1.2.0",
      "model_name": "LayoutModel",
      "state": {}
     },
     "d17029c5ae21461d9c24e31e0793ce13": {
      "model_module": "@jupyter-widgets/controls",
      "model_module_version": "1.5.0",
      "model_name": "BoundedIntTextModel",
      "state": {
       "description": "Кузнецова Дарья(прокат)",
       "layout": "IPY_MODEL_deaef84ad5fd4e508547a651dd847d3a",
       "max": 1200000,
       "step": 10000,
       "style": "IPY_MODEL_bf4cf315a4af4d71b0b565cada2fa5d2",
       "value": 192100
      }
     },
     "d1783cbbce9448df89f28735fc2674e8": {
      "model_module": "@jupyter-widgets/controls",
      "model_module_version": "1.5.0",
      "model_name": "DescriptionStyleModel",
      "state": {
       "description_width": ""
      }
     },
     "d215c8df4a8948fd80419254a3fd1e76": {
      "model_module": "@jupyter-widgets/base",
      "model_module_version": "1.2.0",
      "model_name": "LayoutModel",
      "state": {}
     },
     "d250cff4ac774c019cb14672117dad8a": {
      "model_module": "@jupyter-widgets/controls",
      "model_module_version": "1.5.0",
      "model_name": "CheckboxModel",
      "state": {
       "description": "Дубль",
       "disabled": false,
       "layout": "IPY_MODEL_5c42d4f9246548d88cdce68677f3f727",
       "style": "IPY_MODEL_73d8535516e44b5ea4726df84af0f9c7",
       "value": true
      }
     },
     "d2f7ce0c969e47d7ba74cf749c2bccd7": {
      "model_module": "@jupyter-widgets/controls",
      "model_module_version": "1.5.0",
      "model_name": "CheckboxModel",
      "state": {
       "description": "Дубль",
       "disabled": false,
       "layout": "IPY_MODEL_888092faccc743af9f5eeac8e707a930",
       "style": "IPY_MODEL_2ff514019dd240e0b81fa5d6c3effec8",
       "value": true
      }
     },
     "d40fc7e791184843a08721f33d3ff605": {
      "model_module": "@jupyter-widgets/controls",
      "model_module_version": "1.5.0",
      "model_name": "CheckboxModel",
      "state": {
       "description": "Повторная заявка с другого сайта",
       "disabled": false,
       "layout": "IPY_MODEL_23d9a8a162094970929819c5a5f365d7",
       "style": "IPY_MODEL_c969ab5b3c244463aa34d43d8b4f3621",
       "value": true
      }
     },
     "d4989b7ed46241a9a20c87d243a9ca64": {
      "model_module": "@jupyter-widgets/controls",
      "model_module_version": "1.5.0",
      "model_name": "BoundedIntTextModel",
      "state": {
       "description": "Чепрасова Ольга(прокат)",
       "layout": "IPY_MODEL_838c54e781ff4d28ad0d65d59a9b2d6e",
       "max": 1200000,
       "step": 10000,
       "style": "IPY_MODEL_8625fe7473f34478ab79620ae1d1a9d6",
       "value": 180800
      }
     },
     "d4b53ad6652b41e0912a08c98b7fcae7": {
      "model_module": "@jupyter-widgets/controls",
      "model_module_version": "1.5.0",
      "model_name": "DatePickerModel",
      "state": {
       "description": "Дата1:",
       "disabled": false,
       "layout": "IPY_MODEL_b348f8600816408a9ab7b32839c044ef",
       "style": "IPY_MODEL_bcbda301262b4f7980deb44361622d07",
       "value": {
        "date": 17,
        "month": 7,
        "year": 2021
       }
      }
     },
     "d4bd52c0cd8a4e29bc96e225c68afbf7": {
      "model_module": "@jupyter-widgets/base",
      "model_module_version": "1.2.0",
      "model_name": "LayoutModel",
      "state": {}
     },
     "d4dd636f7d324d11a415bf00aead8c96": {
      "model_module": "@jupyter-widgets/base",
      "model_module_version": "1.2.0",
      "model_name": "LayoutModel",
      "state": {}
     },
     "d4f8a0da49f641a8aaa66cdc60ae16f9": {
      "model_module": "@jupyter-widgets/controls",
      "model_module_version": "1.5.0",
      "model_name": "ButtonStyleModel",
      "state": {}
     },
     "d539012ffe0f409f8c42a0dab56446a3": {
      "model_module": "@jupyter-widgets/controls",
      "model_module_version": "1.5.0",
      "model_name": "BoundedIntTextModel",
      "state": {
       "description": "1 Стажер(эвент)",
       "layout": "IPY_MODEL_595411c023f14ec084f38424f30fd52f",
       "max": 1200000,
       "step": 10000,
       "style": "IPY_MODEL_23d982e8c275493bb97c171b09e8f347"
      }
     },
     "d5b0b694ce1846599a17b3d3ae0eaaa4": {
      "model_module": "@jupyter-widgets/base",
      "model_module_version": "1.2.0",
      "model_name": "LayoutModel",
      "state": {}
     },
     "d5c978d47eb34af7857a7f81c1e0812f": {
      "model_module": "@jupyter-widgets/controls",
      "model_module_version": "1.5.0",
      "model_name": "DescriptionStyleModel",
      "state": {
       "description_width": ""
      }
     },
     "d5fa973aa1dc4f57b61b68f9b681c6f5": {
      "model_module": "@jupyter-widgets/base",
      "model_module_version": "1.2.0",
      "model_name": "LayoutModel",
      "state": {}
     },
     "d60d67e60752498aa81ff2f135dafcf2": {
      "model_module": "@jupyter-widgets/controls",
      "model_module_version": "1.5.0",
      "model_name": "CheckboxModel",
      "state": {
       "description": "Не устроил залог",
       "disabled": false,
       "layout": "IPY_MODEL_0984cf8d59b34e4fa055d63202d26717",
       "style": "IPY_MODEL_c7025db840624aeca0e3fa3955ee4ff5",
       "value": false
      }
     },
     "d6118576bc5d4799b44474048daa4d38": {
      "model_module": "@jupyter-widgets/controls",
      "model_module_version": "1.5.0",
      "model_name": "DescriptionStyleModel",
      "state": {
       "description_width": ""
      }
     },
     "d62cf4d95ca344a39f8d6c7ad8a14962": {
      "model_module": "@jupyter-widgets/controls",
      "model_module_version": "1.5.0",
      "model_name": "BoundedIntTextModel",
      "state": {
       "description": "Чепрасова Ольга(эвент)",
       "layout": "IPY_MODEL_f14d42e482dc414398dd1f34d47d82e5",
       "max": 1200000,
       "step": 10000,
       "style": "IPY_MODEL_9b937744031c46fea6abd86cd112d6f3"
      }
     },
     "d648e4d049eb4c7181b7c110e664a653": {
      "model_module": "@jupyter-widgets/controls",
      "model_module_version": "1.5.0",
      "model_name": "BoundedIntTextModel",
      "state": {
       "description": "Симак Наталья(эвент)",
       "layout": "IPY_MODEL_7d60f62d72b24d5a852d0d9dfcb82ac5",
       "max": 1200000,
       "step": 10000,
       "style": "IPY_MODEL_370d4b9017c14f61bd283b69e656648e",
       "value": 52500
      }
     },
     "d6d158bd4db74fa68cfb5a591a165fe5": {
      "model_module": "@jupyter-widgets/controls",
      "model_module_version": "1.5.0",
      "model_name": "BoundedIntTextModel",
      "state": {
       "description": "Кузнецова Дарья(эвент)",
       "layout": "IPY_MODEL_fc4d58cc636749ac88c4123187c83b87",
       "max": 1200000,
       "step": 10000,
       "style": "IPY_MODEL_573b2ca75fca449bbe341b5e220cc895",
       "value": 140000
      }
     },
     "d745d2aef943457fac7151e0e1b16b8f": {
      "model_module": "@jupyter-widgets/controls",
      "model_module_version": "1.5.0",
      "model_name": "CheckboxModel",
      "state": {
       "description": "Отсутствует техника",
       "disabled": false,
       "layout": "IPY_MODEL_8d39d52fa6ef4d4d9ce8ad268f9ca639",
       "style": "IPY_MODEL_2c8953f0ad6f48dba12f7b49c962d133",
       "value": true
      }
     },
     "d78205b478ed4bfb980d92af8774d407": {
      "model_module": "@jupyter-widgets/controls",
      "model_module_version": "1.5.0",
      "model_name": "DescriptionStyleModel",
      "state": {
       "description_width": ""
      }
     },
     "d7a135803e434d0ebf88cc01611033ef": {
      "model_module": "@jupyter-widgets/controls",
      "model_module_version": "1.5.0",
      "model_name": "DescriptionStyleModel",
      "state": {
       "description_width": ""
      }
     },
     "d8473bcc7e6a4dc39b6cd41369bcfa93": {
      "model_module": "@jupyter-widgets/controls",
      "model_module_version": "1.5.0",
      "model_name": "DescriptionStyleModel",
      "state": {
       "description_width": ""
      }
     },
     "d86adb6eb580475e867e3747d8ea1600": {
      "model_module": "@jupyter-widgets/base",
      "model_module_version": "1.2.0",
      "model_name": "LayoutModel",
      "state": {}
     },
     "d89109567a0446f0bc8e4f3f1aa0f4cb": {
      "model_module": "@jupyter-widgets/base",
      "model_module_version": "1.2.0",
      "model_name": "LayoutModel",
      "state": {}
     },
     "d89561bba16d4be5be310029844bf907": {
      "model_module": "@jupyter-widgets/base",
      "model_module_version": "1.2.0",
      "model_name": "LayoutModel",
      "state": {}
     },
     "d8a65b12365b49daa637af2bfcd2de3a": {
      "model_module": "@jupyter-widgets/base",
      "model_module_version": "1.2.0",
      "model_name": "LayoutModel",
      "state": {}
     },
     "d8d31de0500b4dd2a0bd66844dcd4b4c": {
      "model_module": "@jupyter-widgets/base",
      "model_module_version": "1.2.0",
      "model_name": "LayoutModel",
      "state": {}
     },
     "d92f12fa09f249e79c954768c9c72989": {
      "model_module": "@jupyter-widgets/base",
      "model_module_version": "1.2.0",
      "model_name": "LayoutModel",
      "state": {}
     },
     "d93a0c1140c84772b7df3be0ab7af7da": {
      "model_module": "@jupyter-widgets/base",
      "model_module_version": "1.2.0",
      "model_name": "LayoutModel",
      "state": {}
     },
     "d9ce92592e6f42279d177c965c1a2743": {
      "model_module": "@jupyter-widgets/base",
      "model_module_version": "1.2.0",
      "model_name": "LayoutModel",
      "state": {}
     },
     "d9dd997f38b94330890366d2b575dee9": {
      "model_module": "@jupyter-widgets/base",
      "model_module_version": "1.2.0",
      "model_name": "LayoutModel",
      "state": {}
     },
     "d9e93f5cc4654ced8423bb9b949fbca1": {
      "model_module": "@jupyter-widgets/controls",
      "model_module_version": "1.5.0",
      "model_name": "BoundedIntTextModel",
      "state": {
       "description": "1 Стажер(эвент)",
       "layout": "IPY_MODEL_04da5595b13448c6b47222e0d3e50bf8",
       "max": 1200000,
       "step": 10000,
       "style": "IPY_MODEL_b69bdfe92da9416ea60359f192188db5"
      }
     },
     "da66420ebb59478f9ee099e02f4841e6": {
      "model_module": "@jupyter-widgets/controls",
      "model_module_version": "1.5.0",
      "model_name": "CheckboxModel",
      "state": {
       "description": "Отсутствует техника",
       "disabled": false,
       "layout": "IPY_MODEL_c38ff1baacff4a6e8b1762c84d97921d",
       "style": "IPY_MODEL_db13db517da040fa8bd88b9adfcadf46",
       "value": true
      }
     },
     "da89c74257164ff192e7a90c230129fe": {
      "model_module": "@jupyter-widgets/controls",
      "model_module_version": "1.5.0",
      "model_name": "DescriptionStyleModel",
      "state": {
       "description_width": ""
      }
     },
     "da9f3be3631b4ee0b4ae69c4a1902d85": {
      "model_module": "@jupyter-widgets/controls",
      "model_module_version": "1.5.0",
      "model_name": "DescriptionStyleModel",
      "state": {
       "description_width": ""
      }
     },
     "daf5758ecad849caafb8c171dd45ff16": {
      "model_module": "@jupyter-widgets/controls",
      "model_module_version": "1.5.0",
      "model_name": "DescriptionStyleModel",
      "state": {
       "description_width": ""
      }
     },
     "daf8b6d6319041d5863072c74f6db6d3": {
      "model_module": "@jupyter-widgets/controls",
      "model_module_version": "1.5.0",
      "model_name": "DescriptionStyleModel",
      "state": {
       "description_width": ""
      }
     },
     "db13db517da040fa8bd88b9adfcadf46": {
      "model_module": "@jupyter-widgets/controls",
      "model_module_version": "1.5.0",
      "model_name": "DescriptionStyleModel",
      "state": {
       "description_width": ""
      }
     },
     "db9bbcecbebc41c0b3d3ca75df36e5f9": {
      "model_module": "@jupyter-widgets/controls",
      "model_module_version": "1.5.0",
      "model_name": "BoundedIntTextModel",
      "state": {
       "description": "Симак Наталья(прокат)",
       "layout": "IPY_MODEL_680a0425dc874e4c867561d8a4e7d2db",
       "max": 1200000,
       "step": 10000,
       "style": "IPY_MODEL_8959018281c34f5c9a58f90369aad699",
       "value": 293800
      }
     },
     "dbac4055c80b4b099b590fce0a997c40": {
      "model_module": "@jupyter-widgets/controls",
      "model_module_version": "1.5.0",
      "model_name": "BoundedIntTextModel",
      "state": {
       "description": "Симак Наталья(эвент)",
       "layout": "IPY_MODEL_f50c0cdf7ba7430ea6c40faf4cd53732",
       "max": 1200000,
       "step": 10000,
       "style": "IPY_MODEL_860f8be58b0249ebbae6f9a27496744a",
       "value": 52500
      }
     },
     "dc57a325c95d4998bd7599320a7a2ecd": {
      "model_module": "@jupyter-widgets/controls",
      "model_module_version": "1.5.0",
      "model_name": "DatePickerModel",
      "state": {
       "description": "Дата1:",
       "disabled": false,
       "layout": "IPY_MODEL_7b191365393c40579c1712f6eff5e2e7",
       "style": "IPY_MODEL_1a511f8ad24044d0981d2b7b1ae39896",
       "value": {
        "date": 17,
        "month": 7,
        "year": 2021
       }
      }
     },
     "dc8fc1534f464001b8536701db942d0a": {
      "model_module": "@jupyter-widgets/base",
      "model_module_version": "1.2.0",
      "model_name": "LayoutModel",
      "state": {}
     },
     "dce8bde729384f86bdb0c9fbb15526c1": {
      "model_module": "@jupyter-widgets/controls",
      "model_module_version": "1.5.0",
      "model_name": "CheckboxModel",
      "state": {
       "description": "Мусор / Спам",
       "disabled": false,
       "layout": "IPY_MODEL_ae8859af733d40dfa9eceee162806de5",
       "style": "IPY_MODEL_f8fb17ada2b84e889f86becd20b2ab12",
       "value": true
      }
     },
     "dd664b63167349a5b0b75a465f780750": {
      "model_module": "@jupyter-widgets/controls",
      "model_module_version": "1.5.0",
      "model_name": "DatePickerModel",
      "state": {
       "description": "Дата2:",
       "disabled": false,
       "layout": "IPY_MODEL_36cc78dcd2ba42cf8a5d2c482bb784f4",
       "style": "IPY_MODEL_3f0a81a7f911460c93ab7f8b35a509d9",
       "value": {
        "date": 17,
        "month": 7,
        "year": 2021
       }
      }
     },
     "dd84e3d8d66a409d9240c6e5620ce0e0": {
      "model_module": "@jupyter-widgets/controls",
      "model_module_version": "1.5.0",
      "model_name": "DescriptionStyleModel",
      "state": {
       "description_width": ""
      }
     },
     "de450d3315374b66a9ce57dc3b9d119d": {
      "model_module": "@jupyter-widgets/controls",
      "model_module_version": "1.5.0",
      "model_name": "DescriptionStyleModel",
      "state": {
       "description_width": ""
      }
     },
     "de60fb58ef9b4c9ea47b572e08ffd4a5": {
      "model_module": "@jupyter-widgets/controls",
      "model_module_version": "1.5.0",
      "model_name": "CheckboxModel",
      "state": {
       "description": "Повторная заявка с другого сайта",
       "disabled": false,
       "layout": "IPY_MODEL_d5b0b694ce1846599a17b3d3ae0eaaa4",
       "style": "IPY_MODEL_d7a135803e434d0ebf88cc01611033ef",
       "value": true
      }
     },
     "deaef84ad5fd4e508547a651dd847d3a": {
      "model_module": "@jupyter-widgets/base",
      "model_module_version": "1.2.0",
      "model_name": "LayoutModel",
      "state": {}
     },
     "dec74273f4a14cb8a55e7320c914cc69": {
      "model_module": "@jupyter-widgets/controls",
      "model_module_version": "1.5.0",
      "model_name": "CheckboxModel",
      "state": {
       "description": "Нет курьера",
       "disabled": false,
       "layout": "IPY_MODEL_0f3dd12b56264a62bf5f924f1a85bbad",
       "style": "IPY_MODEL_e7c522723a744ea1990a3cfafd74be99",
       "value": false
      }
     },
     "e000dcc8ee114700aeb17ac8e5d92843": {
      "model_module": "@jupyter-widgets/base",
      "model_module_version": "1.2.0",
      "model_name": "LayoutModel",
      "state": {}
     },
     "e00993a37ccd4c938919ccf4c3119c06": {
      "model_module": "@jupyter-widgets/controls",
      "model_module_version": "1.5.0",
      "model_name": "BoundedIntTextModel",
      "state": {
       "description": "Кузнецова Дарья(прокат)",
       "layout": "IPY_MODEL_bfb52bc029de4cbb80c172b830fc1886",
       "max": 1200000,
       "step": 10000,
       "style": "IPY_MODEL_93e0a1c8011f433188cce95132df1126",
       "value": 192100
      }
     },
     "e0186007fde9469499f1f3f821a2cddc": {
      "model_module": "@jupyter-widgets/controls",
      "model_module_version": "1.5.0",
      "model_name": "BoundedIntTextModel",
      "state": {
       "description": "Чепрасова Ольга(эвент)",
       "layout": "IPY_MODEL_ea6557aad9734216aa979df956f0c564",
       "max": 1200000,
       "step": 10000,
       "style": "IPY_MODEL_955da451e48d46ffa213cde6e231d5cd"
      }
     },
     "e0865d64bac34eb48d7bfc3ca4b2e25f": {
      "model_module": "@jupyter-widgets/controls",
      "model_module_version": "1.5.0",
      "model_name": "BoundedIntTextModel",
      "state": {
       "description": "Шутова Виктория(прокат)",
       "layout": "IPY_MODEL_a6021a0d3f9d4dd2bbdd36d4a7bfb7c3",
       "max": 1200000,
       "step": 10000,
       "style": "IPY_MODEL_86d83f7219e6472eb7a2c57e0138d4c2",
       "value": 248600
      }
     },
     "e0a41bdfb8de43e0bf69bfaaef18cc4b": {
      "model_module": "@jupyter-widgets/base",
      "model_module_version": "1.2.0",
      "model_name": "LayoutModel",
      "state": {}
     },
     "e0c1125c344740be8d615155648522ad": {
      "model_module": "@jupyter-widgets/base",
      "model_module_version": "1.2.0",
      "model_name": "LayoutModel",
      "state": {}
     },
     "e0c559ced9ad4da385c603e3ade91fe8": {
      "model_module": "@jupyter-widgets/controls",
      "model_module_version": "1.5.0",
      "model_name": "CheckboxModel",
      "state": {
       "description": "Закрыт офис",
       "disabled": false,
       "layout": "IPY_MODEL_8c68a045016e4b55907c5fba99c4abbf",
       "style": "IPY_MODEL_879dc69488b54087b1ff31fe7e3ab3ae",
       "value": false
      }
     },
     "e10916b95ddb4cac834652789097ebeb": {
      "model_module": "@jupyter-widgets/base",
      "model_module_version": "1.2.0",
      "model_name": "LayoutModel",
      "state": {}
     },
     "e15a76e044be4e1cb6559be0af57a8d9": {
      "model_module": "@jupyter-widgets/base",
      "model_module_version": "1.2.0",
      "model_name": "LayoutModel",
      "state": {}
     },
     "e17a32fa69bf4d84822f4fced4dd0b6c": {
      "model_module": "@jupyter-widgets/controls",
      "model_module_version": "1.5.0",
      "model_name": "BoundedIntTextModel",
      "state": {
       "description": "Симак Наталья(прокат)",
       "layout": "IPY_MODEL_149e6ed717c04ca7a71e5ec1d43b11a2",
       "max": 1200000,
       "step": 10000,
       "style": "IPY_MODEL_9460239606334588865e9ee6117550e0",
       "value": 293800
      }
     },
     "e18f341ee3c248b1b6aa0b24b1e22a77": {
      "model_module": "@jupyter-widgets/controls",
      "model_module_version": "1.5.0",
      "model_name": "DescriptionStyleModel",
      "state": {
       "description_width": ""
      }
     },
     "e1f9da030840409183f44858d47ee51c": {
      "model_module": "@jupyter-widgets/controls",
      "model_module_version": "1.5.0",
      "model_name": "ButtonModel",
      "state": {
       "button_style": "success",
       "description": "Загрузить",
       "layout": "IPY_MODEL_2419bd4d2a59417ba653e42bb6f52f23",
       "style": "IPY_MODEL_8b282077549c4c58ba77b7852f2b1fc8"
      }
     },
     "e215fe1cab32439c8e63381eecfbaade": {
      "model_module": "@jupyter-widgets/base",
      "model_module_version": "1.2.0",
      "model_name": "LayoutModel",
      "state": {}
     },
     "e23a6ab9c7514e8ba898da928892dba2": {
      "model_module": "@jupyter-widgets/base",
      "model_module_version": "1.2.0",
      "model_name": "LayoutModel",
      "state": {}
     },
     "e27d3d3e96a14361b51453bc1c313d17": {
      "model_module": "@jupyter-widgets/base",
      "model_module_version": "1.2.0",
      "model_name": "LayoutModel",
      "state": {}
     },
     "e2ee67b921d8456b872c93df0194af92": {
      "model_module": "@jupyter-widgets/base",
      "model_module_version": "1.2.0",
      "model_name": "LayoutModel",
      "state": {}
     },
     "e320af513c3448d29c37c0fb701e6a33": {
      "model_module": "@jupyter-widgets/base",
      "model_module_version": "1.2.0",
      "model_name": "LayoutModel",
      "state": {}
     },
     "e3ad2f47425b489ebb5fbbb56addb897": {
      "model_module": "@jupyter-widgets/controls",
      "model_module_version": "1.5.0",
      "model_name": "BoundedIntTextModel",
      "state": {
       "description": "Шутова Виктория(прокат)",
       "layout": "IPY_MODEL_ba21a5084d8341d18401fc05a88e13ce",
       "max": 1200000,
       "step": 10000,
       "style": "IPY_MODEL_19f4a29759924f5f9cf4596fd555cc80",
       "value": 248600
      }
     },
     "e3c9184041804f2db8b9c440477bedfc": {
      "model_module": "@jupyter-widgets/controls",
      "model_module_version": "1.5.0",
      "model_name": "BoundedIntTextModel",
      "state": {
       "description": "1 Стажер(прокат)",
       "layout": "IPY_MODEL_211e31cbf274494ea972fad2b4dab14d",
       "max": 1200000,
       "step": 10000,
       "style": "IPY_MODEL_9c38af9227ee4d8d93bd9d2541b536f9",
       "value": 214700
      }
     },
     "e3cf382b890a4bf18c49fe0073d311ac": {
      "model_module": "@jupyter-widgets/base",
      "model_module_version": "1.2.0",
      "model_name": "LayoutModel",
      "state": {}
     },
     "e3f15136bc1e404aa07e00bf06c72ec8": {
      "model_module": "@jupyter-widgets/controls",
      "model_module_version": "1.5.0",
      "model_name": "DescriptionStyleModel",
      "state": {
       "description_width": ""
      }
     },
     "e42e7cf39d644c8784b2724887c35df6": {
      "model_module": "@jupyter-widgets/controls",
      "model_module_version": "1.5.0",
      "model_name": "DatePickerModel",
      "state": {
       "description": "Дата2:",
       "disabled": false,
       "layout": "IPY_MODEL_70fb1476d0b6451da36df0dab20b00e4",
       "style": "IPY_MODEL_d5c978d47eb34af7857a7f81c1e0812f",
       "value": {
        "date": 17,
        "month": 7,
        "year": 2021
       }
      }
     },
     "e44128e88f0c4a939d0712183149ef41": {
      "model_module": "@jupyter-widgets/controls",
      "model_module_version": "1.5.0",
      "model_name": "BoundedIntTextModel",
      "state": {
       "description": "Симак Наталья(прокат)",
       "layout": "IPY_MODEL_6038570939b74d1e8f5cedd3771e9288",
       "max": 1200000,
       "step": 10000,
       "style": "IPY_MODEL_9beceb86345442288ee3162cab3e6ac6",
       "value": 293800
      }
     },
     "e482d14504bb4030a7adc620ddb81b78": {
      "model_module": "@jupyter-widgets/base",
      "model_module_version": "1.2.0",
      "model_name": "LayoutModel",
      "state": {}
     },
     "e547c1faa8dc45a7bb2c5f92ee1167f7": {
      "model_module": "@jupyter-widgets/controls",
      "model_module_version": "1.5.0",
      "model_name": "BoundedIntTextModel",
      "state": {
       "description": "Шутова Виктория(эвент)",
       "layout": "IPY_MODEL_e27d3d3e96a14361b51453bc1c313d17",
       "max": 1200000,
       "step": 10000,
       "style": "IPY_MODEL_3da76a2849c34af3b41fa3bdd384e848",
       "value": 157500
      }
     },
     "e64bff988c5a42be92827cee5258fd0b": {
      "model_module": "@jupyter-widgets/controls",
      "model_module_version": "1.5.0",
      "model_name": "BoundedIntTextModel",
      "state": {
       "description": "Кузнецова Дарья(эвент)",
       "layout": "IPY_MODEL_980d907b963e45ee8e6a180dfe6e4ecf",
       "max": 1200000,
       "step": 10000,
       "style": "IPY_MODEL_035eab066dfd444497f4ef69046c2303",
       "value": 140000
      }
     },
     "e6d39eee29ba40d1994d5ca9975130aa": {
      "model_module": "@jupyter-widgets/controls",
      "model_module_version": "1.5.0",
      "model_name": "DescriptionStyleModel",
      "state": {
       "description_width": ""
      }
     },
     "e77f35844663485c8a572106504287b8": {
      "model_module": "@jupyter-widgets/controls",
      "model_module_version": "1.5.0",
      "model_name": "BoundedIntTextModel",
      "state": {
       "description": "Чепрасова Ольга(прокат)",
       "layout": "IPY_MODEL_810b5a5bb8c64a2da94235973d2864c0",
       "max": 1200000,
       "step": 10000,
       "style": "IPY_MODEL_7a66fadbc72f4a088c0a173e41e22b43",
       "value": 180800
      }
     },
     "e7a513ccb1404b6998f391300272bffa": {
      "model_module": "@jupyter-widgets/base",
      "model_module_version": "1.2.0",
      "model_name": "LayoutModel",
      "state": {}
     },
     "e7c522723a744ea1990a3cfafd74be99": {
      "model_module": "@jupyter-widgets/controls",
      "model_module_version": "1.5.0",
      "model_name": "DescriptionStyleModel",
      "state": {
       "description_width": ""
      }
     },
     "e7e91e4ba51441aab58f60647b93c588": {
      "model_module": "@jupyter-widgets/controls",
      "model_module_version": "1.5.0",
      "model_name": "DescriptionStyleModel",
      "state": {
       "description_width": ""
      }
     },
     "e89224f42e754fe9be071656e347a3f1": {
      "model_module": "@jupyter-widgets/controls",
      "model_module_version": "1.5.0",
      "model_name": "CheckboxModel",
      "state": {
       "description": "Нет курьера",
       "disabled": false,
       "layout": "IPY_MODEL_954a39865f6a41ea8a419b284fa5c7de",
       "style": "IPY_MODEL_5e5f7d44accb4516b95e467a3900d4e7",
       "value": false
      }
     },
     "e8956f09d94d46e5a9285bf2175ba913": {
      "model_module": "@jupyter-widgets/controls",
      "model_module_version": "1.5.0",
      "model_name": "ButtonModel",
      "state": {
       "button_style": "success",
       "description": "Пересчитать",
       "layout": "IPY_MODEL_915a49a611a14831b38733366652f903",
       "style": "IPY_MODEL_b58daebace734527a1fe2704c01b82cd"
      }
     },
     "e8ad79a2895b4a0189809cdbf1e84464": {
      "model_module": "@jupyter-widgets/base",
      "model_module_version": "1.2.0",
      "model_name": "LayoutModel",
      "state": {}
     },
     "e91c865587de4ea9b6bbe98f598d7582": {
      "model_module": "@jupyter-widgets/base",
      "model_module_version": "1.2.0",
      "model_name": "LayoutModel",
      "state": {}
     },
     "e95d3459bd4e45c9a1734831229f66bd": {
      "model_module": "@jupyter-widgets/controls",
      "model_module_version": "1.5.0",
      "model_name": "DescriptionStyleModel",
      "state": {
       "description_width": ""
      }
     },
     "e96c7c1dfb87455c8570e0ff22155a2d": {
      "model_module": "@jupyter-widgets/controls",
      "model_module_version": "1.5.0",
      "model_name": "DescriptionStyleModel",
      "state": {
       "description_width": ""
      }
     },
     "e9b4c97ab6d64024b3b50316bc216330": {
      "model_module": "@jupyter-widgets/controls",
      "model_module_version": "1.5.0",
      "model_name": "DescriptionStyleModel",
      "state": {
       "description_width": ""
      }
     },
     "e9b5a9a137b44e8cbe7dbb7ab69a384a": {
      "model_module": "@jupyter-widgets/controls",
      "model_module_version": "1.5.0",
      "model_name": "DescriptionStyleModel",
      "state": {
       "description_width": ""
      }
     },
     "ea1421ae6d174e1782968a9adfe46bad": {
      "model_module": "@jupyter-widgets/controls",
      "model_module_version": "1.5.0",
      "model_name": "ButtonStyleModel",
      "state": {}
     },
     "ea6557aad9734216aa979df956f0c564": {
      "model_module": "@jupyter-widgets/base",
      "model_module_version": "1.2.0",
      "model_name": "LayoutModel",
      "state": {}
     },
     "ea7bad4bc3de4dedb25f6e6f38ae2093": {
      "model_module": "@jupyter-widgets/controls",
      "model_module_version": "1.5.0",
      "model_name": "CheckboxModel",
      "state": {
       "description": "Дубль",
       "disabled": false,
       "layout": "IPY_MODEL_0414385a5acc4ee6950620e0c435054f",
       "style": "IPY_MODEL_2e8ade48189143a1ae187c1ca07a982e",
       "value": true
      }
     },
     "ea80772f6f614ec089ec3ae2a58f7295": {
      "model_module": "@jupyter-widgets/controls",
      "model_module_version": "1.5.0",
      "model_name": "DatePickerModel",
      "state": {
       "description": "Дата2:",
       "disabled": false,
       "layout": "IPY_MODEL_b63f3b48e1df48dd97c342d1a0c21688",
       "style": "IPY_MODEL_d6118576bc5d4799b44474048daa4d38",
       "value": {
        "date": 17,
        "month": 7,
        "year": 2021
       }
      }
     },
     "eacc11d2aa0a4dadb849ddc70246e39a": {
      "model_module": "@jupyter-widgets/base",
      "model_module_version": "1.2.0",
      "model_name": "LayoutModel",
      "state": {}
     },
     "ead29305a5bf4d5491daf6e39c652476": {
      "model_module": "@jupyter-widgets/base",
      "model_module_version": "1.2.0",
      "model_name": "LayoutModel",
      "state": {}
     },
     "eb1c3a7f38024f5d82768acdc6624471": {
      "model_module": "@jupyter-widgets/controls",
      "model_module_version": "1.5.0",
      "model_name": "CheckboxModel",
      "state": {
       "description": "Дубль",
       "disabled": false,
       "layout": "IPY_MODEL_a7f604e9e75444f2a957864c9f714249",
       "style": "IPY_MODEL_92676a8a12bd4001a0b1f76fe7e47efe",
       "value": true
      }
     },
     "eb425e6c060245ffb760ccb3942dd028": {
      "model_module": "@jupyter-widgets/base",
      "model_module_version": "1.2.0",
      "model_name": "LayoutModel",
      "state": {}
     },
     "eb8ad2c997a5471f8d41b1aae5767605": {
      "model_module": "@jupyter-widgets/base",
      "model_module_version": "1.2.0",
      "model_name": "LayoutModel",
      "state": {}
     },
     "ebac68b4767f4fa79b03fab84c1f780a": {
      "model_module": "@jupyter-widgets/controls",
      "model_module_version": "1.5.0",
      "model_name": "DescriptionStyleModel",
      "state": {
       "description_width": ""
      }
     },
     "ebf6381b1c664c6399bf7c9138bf2940": {
      "model_module": "@jupyter-widgets/controls",
      "model_module_version": "1.5.0",
      "model_name": "DescriptionStyleModel",
      "state": {
       "description_width": ""
      }
     },
     "ec75aee287b3479c9bebb091756ec155": {
      "model_module": "@jupyter-widgets/base",
      "model_module_version": "1.2.0",
      "model_name": "LayoutModel",
      "state": {}
     },
     "ec8ac33efc6d431b8024bac510b3b00c": {
      "model_module": "@jupyter-widgets/controls",
      "model_module_version": "1.5.0",
      "model_name": "BoundedIntTextModel",
      "state": {
       "description": "1 Стажер(эвент)",
       "layout": "IPY_MODEL_9ee04312061a4b449e1c2a2207765a65",
       "max": 1200000,
       "step": 10000,
       "style": "IPY_MODEL_c471d274bc7d42388effa5bdd8f2db8e"
      }
     },
     "ed50221f635c4d3eb1c5e1911e526551": {
      "model_module": "@jupyter-widgets/controls",
      "model_module_version": "1.5.0",
      "model_name": "DescriptionStyleModel",
      "state": {
       "description_width": ""
      }
     },
     "ed5be878aaac473cbbd3f711aed09ae0": {
      "model_module": "@jupyter-widgets/controls",
      "model_module_version": "1.5.0",
      "model_name": "DescriptionStyleModel",
      "state": {
       "description_width": ""
      }
     },
     "ed6ec1f9a1a247e3abe536c20196fb40": {
      "model_module": "@jupyter-widgets/controls",
      "model_module_version": "1.5.0",
      "model_name": "BoundedIntTextModel",
      "state": {
       "description": "Кузнецова Дарья(эвент)",
       "layout": "IPY_MODEL_557cde96610d4dc8b5b58a216ce090e2",
       "max": 1200000,
       "step": 10000,
       "style": "IPY_MODEL_1653b174266a411d996f40ba1d0c187f",
       "value": 140000
      }
     },
     "ee0e98f78e104b56845bc8bb78e16666": {
      "model_module": "@jupyter-widgets/controls",
      "model_module_version": "1.5.0",
      "model_name": "CheckboxModel",
      "state": {
       "description": "Отсутствует техника",
       "disabled": false,
       "layout": "IPY_MODEL_0d399343979d4fb18e5268411c035d3d",
       "style": "IPY_MODEL_a0a330071ab84c04ae62e2699851c352",
       "value": true
      }
     },
     "ee7b677ab53e43f98c5b995bcadb0d1b": {
      "model_module": "@jupyter-widgets/controls",
      "model_module_version": "1.5.0",
      "model_name": "ButtonStyleModel",
      "state": {}
     },
     "eec04b0122f34c1ca0fe2255550cd52c": {
      "model_module": "@jupyter-widgets/controls",
      "model_module_version": "1.5.0",
      "model_name": "CheckboxModel",
      "state": {
       "description": "Дубль",
       "disabled": false,
       "layout": "IPY_MODEL_406006f6dcac41e4a14259ee0852fbec",
       "style": "IPY_MODEL_570f9f90b28447d3afd6688a19f22d98",
       "value": true
      }
     },
     "f0702ea58e6946ceb00529c255b4d413": {
      "model_module": "@jupyter-widgets/controls",
      "model_module_version": "1.5.0",
      "model_name": "CheckboxModel",
      "state": {
       "description": "Отсутствует техника",
       "disabled": false,
       "layout": "IPY_MODEL_6f14db9400da49ae867ddbb6d2c58d7e",
       "style": "IPY_MODEL_cfcbd85414bf41de9ac1dda9ca149bb0",
       "value": true
      }
     },
     "f1033316d6d24e95ae42de340ea4f280": {
      "model_module": "@jupyter-widgets/base",
      "model_module_version": "1.2.0",
      "model_name": "LayoutModel",
      "state": {}
     },
     "f14d42e482dc414398dd1f34d47d82e5": {
      "model_module": "@jupyter-widgets/base",
      "model_module_version": "1.2.0",
      "model_name": "LayoutModel",
      "state": {}
     },
     "f15c0f1a737e4f3592351403581ed45e": {
      "model_module": "@jupyter-widgets/controls",
      "model_module_version": "1.5.0",
      "model_name": "CheckboxModel",
      "state": {
       "description": "Мусор / Спам",
       "disabled": false,
       "layout": "IPY_MODEL_7f47b7860e064777bbb81c4324947b73",
       "style": "IPY_MODEL_652e78a2ee4b4e58a835c1f5760c06fe",
       "value": true
      }
     },
     "f1e00ff6bf74451e9fb95b82d075cc1a": {
      "model_module": "@jupyter-widgets/base",
      "model_module_version": "1.2.0",
      "model_name": "LayoutModel",
      "state": {}
     },
     "f20add841e2c4156bcf5fed825f834f0": {
      "model_module": "@jupyter-widgets/controls",
      "model_module_version": "1.5.0",
      "model_name": "DescriptionStyleModel",
      "state": {
       "description_width": ""
      }
     },
     "f220f762ee254e268daa2b5fa781aae2": {
      "model_module": "@jupyter-widgets/controls",
      "model_module_version": "1.5.0",
      "model_name": "CheckboxModel",
      "state": {
       "description": "Нет курьера",
       "disabled": false,
       "layout": "IPY_MODEL_936978ee7b6a42239bac11679a5575cd",
       "style": "IPY_MODEL_38fba05d1f9c408ab14221c16a073b87",
       "value": false
      }
     },
     "f25fcdfcc54c47679f144b1f6bba8b6d": {
      "model_module": "@jupyter-widgets/base",
      "model_module_version": "1.2.0",
      "model_name": "LayoutModel",
      "state": {}
     },
     "f2663354ac6f44628019652daa5ac90e": {
      "model_module": "@jupyter-widgets/controls",
      "model_module_version": "1.5.0",
      "model_name": "BoundedIntTextModel",
      "state": {
       "description": "Кузнецова Дарья(эвент)",
       "layout": "IPY_MODEL_39f316696c2e460b80db069959731966",
       "max": 1200000,
       "step": 10000,
       "style": "IPY_MODEL_3fa05eb279294fceb65e32cf51668313",
       "value": 140000
      }
     },
     "f2b4c0c361114a4fa2c7b8db2341f573": {
      "model_module": "@jupyter-widgets/base",
      "model_module_version": "1.2.0",
      "model_name": "LayoutModel",
      "state": {}
     },
     "f2c159a06fc84d3c976ba55129160793": {
      "model_module": "@jupyter-widgets/controls",
      "model_module_version": "1.5.0",
      "model_name": "DatePickerModel",
      "state": {
       "description": "Дата2:",
       "disabled": false,
       "layout": "IPY_MODEL_83dacc42c4ce4863959550bd306ffd83",
       "style": "IPY_MODEL_503b295184fb4081a63f7c524c9e794f",
       "value": {
        "date": 17,
        "month": 7,
        "year": 2021
       }
      }
     },
     "f2d09290d9624ae3bc7f8acc762f7ef4": {
      "model_module": "@jupyter-widgets/base",
      "model_module_version": "1.2.0",
      "model_name": "LayoutModel",
      "state": {}
     },
     "f315a73324af494b964048bcb68e079a": {
      "model_module": "@jupyter-widgets/controls",
      "model_module_version": "1.5.0",
      "model_name": "BoundedIntTextModel",
      "state": {
       "description": "Кузнецова Дарья(прокат)",
       "layout": "IPY_MODEL_aef8bf3c28154e0c945f1fb152877d8a",
       "max": 1200000,
       "step": 10000,
       "style": "IPY_MODEL_dd84e3d8d66a409d9240c6e5620ce0e0",
       "value": 192100
      }
     },
     "f44e7c22fd5642989be4ce2dc982c2bc": {
      "model_module": "@jupyter-widgets/base",
      "model_module_version": "1.2.0",
      "model_name": "LayoutModel",
      "state": {}
     },
     "f50c0cdf7ba7430ea6c40faf4cd53732": {
      "model_module": "@jupyter-widgets/base",
      "model_module_version": "1.2.0",
      "model_name": "LayoutModel",
      "state": {}
     },
     "f51a10a6b9664b9380104479f5b50d1d": {
      "model_module": "@jupyter-widgets/base",
      "model_module_version": "1.2.0",
      "model_name": "LayoutModel",
      "state": {}
     },
     "f623bc0f9470421786f5310ee62aa1a9": {
      "model_module": "@jupyter-widgets/controls",
      "model_module_version": "1.5.0",
      "model_name": "BoundedIntTextModel",
      "state": {
       "description": "1 Стажер(прокат)",
       "layout": "IPY_MODEL_a111a43061264fdfbfe6388812dfe1af",
       "max": 1200000,
       "step": 10000,
       "style": "IPY_MODEL_4f39f335b7794f88a7486ef65d5dbae2",
       "value": 214700
      }
     },
     "f670ae19a74a4b11b93c6dc82d23da5f": {
      "model_module": "@jupyter-widgets/controls",
      "model_module_version": "1.5.0",
      "model_name": "DescriptionStyleModel",
      "state": {
       "description_width": ""
      }
     },
     "f6c7a4cdb160459a84deba4bfc4a013e": {
      "model_module": "@jupyter-widgets/base",
      "model_module_version": "1.2.0",
      "model_name": "LayoutModel",
      "state": {}
     },
     "f6d9a419238b469a9ee90a09742140b5": {
      "model_module": "@jupyter-widgets/controls",
      "model_module_version": "1.5.0",
      "model_name": "DescriptionStyleModel",
      "state": {
       "description_width": ""
      }
     },
     "f71bb6a5f5aa40c6b51d1c095bd164d1": {
      "model_module": "@jupyter-widgets/controls",
      "model_module_version": "1.5.0",
      "model_name": "DescriptionStyleModel",
      "state": {
       "description_width": ""
      }
     },
     "f77e8d22194f49adb3c2751099ae05ec": {
      "model_module": "@jupyter-widgets/controls",
      "model_module_version": "1.5.0",
      "model_name": "CheckboxModel",
      "state": {
       "description": "Мусор / Спам",
       "disabled": false,
       "layout": "IPY_MODEL_5dc10ee8c58b404e9c29449665803963",
       "style": "IPY_MODEL_4a8853952e9a48b18c719f2724e99947",
       "value": true
      }
     },
     "f7bcf41dfcb54e749cf6409b84a14244": {
      "model_module": "@jupyter-widgets/controls",
      "model_module_version": "1.5.0",
      "model_name": "DescriptionStyleModel",
      "state": {
       "description_width": ""
      }
     },
     "f7c3cb46fc8b432796e57284bca5e338": {
      "model_module": "@jupyter-widgets/base",
      "model_module_version": "1.2.0",
      "model_name": "LayoutModel",
      "state": {}
     },
     "f7d1b5baf8534651a8451a6aaebb5931": {
      "model_module": "@jupyter-widgets/controls",
      "model_module_version": "1.5.0",
      "model_name": "DescriptionStyleModel",
      "state": {
       "description_width": ""
      }
     },
     "f7d34ee8c39042b09f5d76e074382ef8": {
      "model_module": "@jupyter-widgets/base",
      "model_module_version": "1.2.0",
      "model_name": "LayoutModel",
      "state": {}
     },
     "f8ad4067c6f9433288e734497ac038d4": {
      "model_module": "@jupyter-widgets/controls",
      "model_module_version": "1.5.0",
      "model_name": "CheckboxModel",
      "state": {
       "description": "Закрыт офис",
       "disabled": false,
       "layout": "IPY_MODEL_ae93d3b74ee348c890c726d0ad4dee2c",
       "style": "IPY_MODEL_e6d39eee29ba40d1994d5ca9975130aa",
       "value": false
      }
     },
     "f8afdbdc9ef04416aaed7277e255402f": {
      "model_module": "@jupyter-widgets/base",
      "model_module_version": "1.2.0",
      "model_name": "LayoutModel",
      "state": {}
     },
     "f8fb17ada2b84e889f86becd20b2ab12": {
      "model_module": "@jupyter-widgets/controls",
      "model_module_version": "1.5.0",
      "model_name": "DescriptionStyleModel",
      "state": {
       "description_width": ""
      }
     },
     "f9739b279dca4223899613b5ddfe7a77": {
      "model_module": "@jupyter-widgets/controls",
      "model_module_version": "1.5.0",
      "model_name": "DropdownModel",
      "state": {
       "_options_labels": [
        "aug"
       ],
       "description": "План на:",
       "index": 0,
       "layout": "IPY_MODEL_bbfecaabcd7b41b28a2bdb4cca771faa",
       "style": "IPY_MODEL_730c0a550ea64e0ab74681e81a857040"
      }
     },
     "fa521c770d7b4ab1880bd10f9151f3a8": {
      "model_module": "@jupyter-widgets/controls",
      "model_module_version": "1.5.0",
      "model_name": "CheckboxModel",
      "state": {
       "description": "Не устроил залог",
       "disabled": false,
       "layout": "IPY_MODEL_095587540ef64c28b4ddb0191f9df029",
       "style": "IPY_MODEL_92ffe17ed9fa4469bba7a165aca9d57e",
       "value": false
      }
     },
     "fa6ba5641ecf43b58c0fec4e70bad1cf": {
      "model_module": "@jupyter-widgets/controls",
      "model_module_version": "1.5.0",
      "model_name": "DatePickerModel",
      "state": {
       "description": "Дата1:",
       "disabled": false,
       "layout": "IPY_MODEL_5b904b62c8b74ab3a6742538cf19b391",
       "style": "IPY_MODEL_3b299ae765b7488cb650412308330be7",
       "value": {
        "date": 17,
        "month": 7,
        "year": 2021
       }
      }
     },
     "fad0726c543d4fb2bd6f163df31340fa": {
      "model_module": "@jupyter-widgets/controls",
      "model_module_version": "1.5.0",
      "model_name": "DescriptionStyleModel",
      "state": {
       "description_width": ""
      }
     },
     "fae3a15b20224c849775f0cc3ed35b88": {
      "model_module": "@jupyter-widgets/controls",
      "model_module_version": "1.5.0",
      "model_name": "BoundedIntTextModel",
      "state": {
       "description": "1 Стажер(эвент)",
       "layout": "IPY_MODEL_48042778ec4b4a70ba47ad3d0bc2fcb9",
       "max": 1200000,
       "step": 10000,
       "style": "IPY_MODEL_de450d3315374b66a9ce57dc3b9d119d"
      }
     },
     "fb16663ce3a942f9b2862f7a7262832a": {
      "model_module": "@jupyter-widgets/base",
      "model_module_version": "1.2.0",
      "model_name": "LayoutModel",
      "state": {}
     },
     "fb4706c0f6ca4e2fb8bf01891ba2a79d": {
      "model_module": "@jupyter-widgets/base",
      "model_module_version": "1.2.0",
      "model_name": "LayoutModel",
      "state": {}
     },
     "fb47d37b78be46c9a63f98c2411b698d": {
      "model_module": "@jupyter-widgets/controls",
      "model_module_version": "1.5.0",
      "model_name": "DescriptionStyleModel",
      "state": {
       "description_width": ""
      }
     },
     "fb4f935bb14043aba5e5720d3e66f45a": {
      "model_module": "@jupyter-widgets/base",
      "model_module_version": "1.2.0",
      "model_name": "LayoutModel",
      "state": {}
     },
     "fb7db0fbcbc44bbd87f1a20c47c9fe98": {
      "model_module": "@jupyter-widgets/controls",
      "model_module_version": "1.5.0",
      "model_name": "DescriptionStyleModel",
      "state": {
       "description_width": ""
      }
     },
     "fba3835718c740eeaa794c17b69b4c03": {
      "model_module": "@jupyter-widgets/base",
      "model_module_version": "1.2.0",
      "model_name": "LayoutModel",
      "state": {}
     },
     "fbb7ced2af2c43edb95f361ab57c3d63": {
      "model_module": "@jupyter-widgets/controls",
      "model_module_version": "1.5.0",
      "model_name": "DescriptionStyleModel",
      "state": {
       "description_width": ""
      }
     },
     "fbbf8a4852ff4f20851aad6e0f8c7aa2": {
      "model_module": "@jupyter-widgets/controls",
      "model_module_version": "1.5.0",
      "model_name": "CheckboxModel",
      "state": {
       "description": "Закрыт офис",
       "disabled": false,
       "layout": "IPY_MODEL_6062e3d8aafd4d7c87908ff3553bf8a4",
       "style": "IPY_MODEL_f71bb6a5f5aa40c6b51d1c095bd164d1",
       "value": false
      }
     },
     "fc00ead331fd4038bc2f9ad245539900": {
      "model_module": "@jupyter-widgets/base",
      "model_module_version": "1.2.0",
      "model_name": "LayoutModel",
      "state": {}
     },
     "fc315187946e436bb0deaac81f8e2998": {
      "model_module": "@jupyter-widgets/controls",
      "model_module_version": "1.5.0",
      "model_name": "CheckboxModel",
      "state": {
       "description": "Дубль",
       "disabled": false,
       "layout": "IPY_MODEL_2493fb22b2114fd9a7a0638adc017b71",
       "style": "IPY_MODEL_c915e1092c674738b111fd3ffc671dac",
       "value": true
      }
     },
     "fc4d58cc636749ac88c4123187c83b87": {
      "model_module": "@jupyter-widgets/base",
      "model_module_version": "1.2.0",
      "model_name": "LayoutModel",
      "state": {}
     },
     "fc4dc8b7a48e4c2dba921d6db1b92320": {
      "model_module": "@jupyter-widgets/controls",
      "model_module_version": "1.5.0",
      "model_name": "BoundedIntTextModel",
      "state": {
       "description": "Шутова Виктория(эвент)",
       "layout": "IPY_MODEL_bbd6285c34f948eeb80630deb141c291",
       "max": 1200000,
       "step": 10000,
       "style": "IPY_MODEL_95beef711f89432a927730a395798707",
       "value": 157500
      }
     },
     "fc69acf0d45f41aeb0f879646d849684": {
      "model_module": "@jupyter-widgets/base",
      "model_module_version": "1.2.0",
      "model_name": "LayoutModel",
      "state": {}
     },
     "fd54f2a64e594297809fd8a0bbfa230a": {
      "model_module": "@jupyter-widgets/controls",
      "model_module_version": "1.5.0",
      "model_name": "BoundedIntTextModel",
      "state": {
       "description": "Чепрасова Ольга(эвент)",
       "layout": "IPY_MODEL_68149730afd34502b60d4337764c7f7e",
       "max": 1200000,
       "step": 10000,
       "style": "IPY_MODEL_7c3c25e441c8416ea1849e85ea66c11c"
      }
     },
     "fd7aef16cbaf445790e580b84b923fbf": {
      "model_module": "@jupyter-widgets/controls",
      "model_module_version": "1.5.0",
      "model_name": "DescriptionStyleModel",
      "state": {
       "description_width": ""
      }
     },
     "fe1eef28d8d4420e98baa92ba5b293b5": {
      "model_module": "@jupyter-widgets/controls",
      "model_module_version": "1.5.0",
      "model_name": "CheckboxModel",
      "state": {
       "description": "Передумал",
       "disabled": false,
       "layout": "IPY_MODEL_fb4f935bb14043aba5e5720d3e66f45a",
       "style": "IPY_MODEL_720c4d14a61244a8ac1f77157223027e",
       "value": false
      }
     },
     "fe69ec78d328428280d5ead86d9f9ec7": {
      "model_module": "@jupyter-widgets/controls",
      "model_module_version": "1.5.0",
      "model_name": "ButtonModel",
      "state": {
       "button_style": "success",
       "description": "Загрузить",
       "layout": "IPY_MODEL_704bc9c45c4d4cf9bbb27a4df4b83405",
       "style": "IPY_MODEL_ea1421ae6d174e1782968a9adfe46bad"
      }
     }
    },
    "version_major": 2,
    "version_minor": 0
   }
  }
 },
 "nbformat": 4,
 "nbformat_minor": 4
}
