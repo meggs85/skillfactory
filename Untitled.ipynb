{
 "cells": [
  {
   "cell_type": "code",
   "execution_count": 17,
   "metadata": {},
   "outputs": [
    {
     "data": {
      "text/plain": [
       "['Капустин', 'Козлов', 'Сидоров']"
      ]
     },
     "execution_count": 17,
     "metadata": {},
     "output_type": "execute_result"
    }
   ],
   "source": [
    "sparta = ['Иванов', 'Петров', 'Сидоров', 'Зайцев', 'Дятлов', \n",
    "          'Козлов', 'Лисичкин', 'Огурцов', 'Капустин', 'Арбузов']\n",
    "\n",
    "sparta[-2:1:-3]"
   ]
  },
  {
   "cell_type": "code",
   "execution_count": 21,
   "metadata": {},
   "outputs": [
    {
     "name": "stdout",
     "output_type": "stream",
     "text": [
      "[1, 4, 9, 16, 25, 36, 49, 64, 81, 100]\n"
     ]
    }
   ],
   "source": [
    "my_list = []\n",
    "for number in range(1,11):\n",
    "    my_list.append(number**2)\n",
    "print(my_list)"
   ]
  },
  {
   "cell_type": "code",
   "execution_count": 31,
   "metadata": {},
   "outputs": [
    {
     "name": "stdout",
     "output_type": "stream",
     "text": [
      "408\n"
     ]
    }
   ],
   "source": [
    "my_list = []\n",
    "result = 0\n",
    "for i in range(51):\n",
    "    if (i % 3 == 0):\n",
    "        my_list.append(i)\n",
    "        result += i;\n",
    "print(sum)"
   ]
  },
  {
   "cell_type": "code",
   "execution_count": 28,
   "metadata": {},
   "outputs": [
    {
     "name": "stdout",
     "output_type": "stream",
     "text": [
      "['а', 'а', 'а', 'б', 'б', 'п', 'п', 'я']\n"
     ]
    },
    {
     "data": {
      "text/plain": [
       "3"
      ]
     },
     "execution_count": 28,
     "metadata": {},
     "output_type": "execute_result"
    }
   ],
   "source": [
    "fruits = 'яблоко банан апельсин баклажан перец помидор арбуз ананас'.split()\n",
    "my_list = []\n",
    "for fruit in fruits:\n",
    "    my_list.append(fruit[0])\n",
    "my_list.sort()\n",
    "print(my_list)\n",
    "my_list.count(my_list[0]) "
   ]
  },
  {
   "cell_type": "code",
   "execution_count": 34,
   "metadata": {},
   "outputs": [
    {
     "name": "stdout",
     "output_type": "stream",
     "text": [
      "[10, 5, 7, 6, 7, 5, 7]\n",
      "15\n"
     ]
    }
   ],
   "source": [
    "raw_list = ['переменные', 'циклы', 'условия', 'списки', 'словари', 'файлы', 'функции']\n",
    "my_list = []\n",
    "for x in raw_list:\n",
    "    my_list.append(len(x))\n",
    "print(my_list)\n",
    "result = min(my_list) + max(my_list)\n",
    "print(result)"
   ]
  },
  {
   "cell_type": "code",
   "execution_count": 37,
   "metadata": {},
   "outputs": [],
   "source": [
    "#Дан список raw_list (содержимое списка приведено в начале кода). Найдите минимальное (x_min) и максимальное (x_max) значения элементов данного списка.\n",
    "\n",
    "#Создайте новый список my_list, состоящий из элементов списка raw_list, умноженных на x_min, если элемент является чётным числом, и на x_max, в случае если элемент нечётный.\n",
    "\n",
    "#Найдите максимальное значение списка my_list. Результат присвойте переменной result.\n",
    "raw_list = [2, 8, 10, 23, 64, 49, 11, 52, 71, 14]\n",
    "x_min = min(raw_list)\n",
    "x_max = max(raw_list)\n",
    "my_list = []\n",
    "for x in raw_list:\n",
    "    if (x % 2 == 0):\n",
    "        my_list.append(x*x_min)\n",
    "    else:\n",
    "        my_list.append(x*x_max)\n",
    "result = max(my_list)\n"
   ]
  },
  {
   "cell_type": "code",
   "execution_count": 43,
   "metadata": {},
   "outputs": [
    {
     "name": "stdout",
     "output_type": "stream",
     "text": [
      "['1 11', '1 12', '1 13', '1 14', '1 15', '1 16', '1 17', '1 18', '1 19', '2 11', '2 12', '2 13', '2 14', '2 15', '2 16', '2 17', '2 18', '2 19', '3 11', '3 12', '3 13', '3 14', '3 15', '3 16', '3 17', '3 18', '3 19', '4 11', '4 12', '4 13', '4 14', '4 15', '4 16', '4 17', '4 18', '4 19', '5 11', '5 12', '5 13', '5 14', '5 15', '5 16', '5 17', '5 18', '5 19', '6 11', '6 12', '6 13', '6 14', '6 15', '6 16', '6 17', '6 18', '6 19', '7 11', '7 12', '7 13', '7 14', '7 15', '7 16', '7 17', '7 18', '7 19', '8 11', '8 12', '8 13', '8 14', '8 15', '8 16', '8 17', '8 18', '8 19', '9 11', '9 12', '9 13', '9 14', '9 15', '9 16', '9 17', '9 18', '9 19']\n"
     ]
    }
   ],
   "source": [
    "powers = [str(x)+\" \"+str(y) for x in range(1, 10) for y in range(11,20)]\n",
    "print(powers)"
   ]
  },
  {
   "cell_type": "code",
   "execution_count": 54,
   "metadata": {},
   "outputs": [
    {
     "name": "stdout",
     "output_type": "stream",
     "text": [
      "9 _ 0\n",
      "9 _ 1\n",
      "9 _ 2\n",
      "9 _ 3\n",
      "9 _ 4\n",
      "9 _ 5\n",
      "9 _ 6\n",
      "9 _ 7\n",
      "9 _ 8\n",
      "9 _ 9\n",
      "[9, 10, 11, 12, 13, 14, 15, 16, 17, 18]\n"
     ]
    }
   ],
   "source": [
    "my_list = []\n",
    "for x in range(90, 100):\n",
    "    first_digit = x//10\n",
    "    last_digit = x%10\n",
    "    print(first_digit, '_', last_digit)\n",
    "    my_list.append(first_digit + last_digit)\n",
    "print(my_list)"
   ]
  },
  {
   "cell_type": "code",
   "execution_count": 61,
   "metadata": {},
   "outputs": [
    {
     "name": "stdout",
     "output_type": "stream",
     "text": [
      "{'Мария Никитина': '+79033923029', 'Егор Савичев': '+78125849204', 'Александр Пахомов': '+79053049385', 'Алина Егорова': '+79265748370', 'Руслан Башаров': '+79030598495'}\n",
      "+79265748370\n"
     ]
    }
   ],
   "source": [
    "my_list ={\n",
    "'Мария Никитина' : '+79033923029' ,\n",
    "'Егор Савичев' : '+78125849204', \n",
    "'Александр Пахомов' : '+79053049385',\n",
    "'Алина Егорова' : '+79265748370' ,\n",
    "'Руслан Башаров' : '+79030598495' \n",
    "}\n",
    "print(my_list)\n",
    "print(my_list['Алина Егорова'])"
   ]
  },
  {
   "cell_type": "code",
   "execution_count": 71,
   "metadata": {},
   "outputs": [
    {
     "name": "stdout",
     "output_type": "stream",
     "text": [
      "{'Россия': 'A', 'Египет': 'A'}\n"
     ]
    }
   ],
   "source": [
    "draw_dict = {\n",
    "'Россия': 'A',\n",
    "'Португалия': 'B',\n",
    "'Франция': 'C',\n",
    "'Дания': 'C',\n",
    "'Египет': 'A'\n",
    "}\n",
    "\n",
    "draw_new = {}\n",
    "for k,v in draw_dict.items():\n",
    "    if (v=='A'):\n",
    "        draw_new.setdefault(k,'A')\n",
    "\n",
    "print(draw_new)"
   ]
  },
  {
   "cell_type": "code",
   "execution_count": 72,
   "metadata": {},
   "outputs": [
    {
     "name": "stdout",
     "output_type": "stream",
     "text": [
      "13841\n"
     ]
    }
   ],
   "source": [
    "d = {'2019-04-01':2504, '2019-04-02':4994, '2019-04-03':6343}\n",
    "\n",
    "sum = 0\n",
    "for x in d.values():\n",
    "    sum += x\n",
    "print(sum)"
   ]
  },
  {
   "cell_type": "code",
   "execution_count": 13,
   "metadata": {},
   "outputs": [
    {
     "name": "stdout",
     "output_type": "stream",
     "text": [
      "Ботинки для горных лыж ATOMIC Hawx Prime 100\n",
      "Ботинки для сноуборда DC Tucknee\n",
      "[{'id': '100412', 'position': 'Ботинки для горных лыж ATOMIC Hawx Prime 100', 'count': 9}, {'id': '100803', 'position': 'Ботинки для сноуборда DC Tucknee', 'count': 20}]\n"
     ]
    }
   ],
   "source": [
    "csv_dict = [\n",
    "    {'id': '100412', 'position': 'Ботинки для горных лыж ATOMIC Hawx Prime 100', 'count': 9},\n",
    "    {'id': '100728', 'position': 'Скейтборд Jdbug RT03', 'count': 32},\n",
    "    {'id': '100732', 'position': 'Роллерсерф Razor RipStik Bright', 'count': 11},\n",
    "    {'id': '100803', 'position': 'Ботинки для сноуборда DC Tucknee', 'count': 20},\n",
    "    {'id': '100898', 'position': 'Шагомер Omron HJA-306', 'count': 2},\n",
    "    {'id': '100934', 'position': 'Пульсометр Beurer PM62', 'count': 17},\n",
    "]\n",
    "\n",
    "csv_dict_boots = []\n",
    "\n",
    "for record in csv_dict:\n",
    "    if record['position'].find('Ботинки') !=-1:\n",
    "        print(record['position'])\n",
    "        csv_dict_boots += [record]\n",
    "        \n",
    "print(csv_dict_boots)         "
   ]
  },
  {
   "cell_type": "code",
   "execution_count": 18,
   "metadata": {},
   "outputs": [
    {
     "name": "stdout",
     "output_type": "stream",
     "text": [
      "98\n",
      "98\n"
     ]
    }
   ],
   "source": [
    "results = [\n",
    "{'cost': 98, 'source': 'vk'},\n",
    "{'cost': 153, 'source': 'yandex'},\n",
    "{'cost': 110, 'source': 'facebook'},\n",
    "]\n",
    "\n",
    "print(min([x['cost'] for x in results]))\n",
    "print(res)"
   ]
  },
  {
   "cell_type": "code",
   "execution_count": 43,
   "metadata": {},
   "outputs": [
    {
     "name": "stdout",
     "output_type": "stream",
     "text": [
      "225\n"
     ]
    }
   ],
   "source": [
    "bodycount = {\n",
    "\t'Проклятие Черной жемчужины': {\n",
    "\t\t'человек': 17\n",
    "\t}, \n",
    "\n",
    "\t'Сундук мертвеца': {\n",
    "\t\t'человек': 56,\n",
    "\t\t'раков-отшельников': 1\n",
    "\t},\n",
    "\n",
    "\t'На краю света': {\n",
    "\t\t'человек': 88\n",
    "\t},\n",
    "\n",
    "\t'На странных берегах': {\n",
    "\t\t'человек': 56,\n",
    "\t\t'русалок': 2,\n",
    "\t\t'ядовитых жаб': 3,\n",
    "\t\t'пиратов зомби': 2\n",
    "\t}\n",
    "}\n",
    "\n",
    "\n",
    "s = 0\n",
    "for rec in bodycount.values():\n",
    "    for v in rec.values():\n",
    "        s += v\n",
    "print(s)"
   ]
  },
  {
   "cell_type": "code",
   "execution_count": 78,
   "metadata": {},
   "outputs": [
    {
     "name": "stdout",
     "output_type": "stream",
     "text": [
      "62526\n",
      "61944\n",
      "27115\n",
      "27115\n",
      "27115\n",
      "27115\n",
      "27115\n",
      "27115\n",
      "27115\n",
      "27115\n",
      "27115\n",
      "27115\n",
      "27115\n",
      "62017\n",
      "63120\n",
      "59883\n",
      "2913\n",
      "62940\n",
      "63149\n",
      "45391\n",
      "18923\n",
      "63019\n",
      "18923\n",
      "18923\n",
      "15759\n",
      "62007\n",
      "62941\n",
      "51009\n",
      "62236\n",
      "44682\n",
      "39709\n",
      "60459\n",
      "62144\n",
      "60459\n",
      "60459\n",
      "60459\n",
      "60459\n",
      "60459\n",
      "60459\n",
      "52492\n",
      "52492\n",
      "60459\n",
      "60459\n",
      "60459\n",
      "60459\n",
      "60459\n",
      "52492\n",
      "18923\n",
      "25301\n",
      "18923\n",
      "33645\n",
      "62089\n",
      "26705\n",
      "1103\n",
      "62439\n",
      "44196\n",
      "62602\n",
      "62602\n",
      "62602\n",
      "62602\n",
      "62602\n",
      "62602\n",
      "62602\n",
      "62602\n",
      "62602\n",
      "62602\n",
      "62602\n",
      "50149\n",
      "57009\n",
      "57207\n",
      "32792\n",
      "27323\n",
      "24500\n",
      "24500\n",
      "58330\n",
      "61245\n",
      "19799\n",
      "56544\n",
      "56544\n",
      "56544\n",
      "56544\n",
      "56544\n",
      "56544\n",
      "56544\n",
      "56544\n",
      "23207\n",
      "23207\n",
      "23207\n",
      "23207\n",
      "48128\n",
      "58113\n",
      "58113\n",
      "58113\n",
      "58113\n",
      "58113\n",
      "58113\n",
      "58113\n",
      "57613\n",
      "61244\n",
      "53666\n",
      "53018\n",
      "53666\n",
      "41737\n",
      "61078\n",
      "20820\n",
      "41737\n",
      "49700\n",
      "Counter({60459: 5, 62602: 2, 58113: 1})\n"
     ]
    }
   ],
   "source": [
    "import json\n",
    "import collections\n",
    "with open('data.json', 'rb') as infile:\n",
    "    data = json.load(infile)\n",
    "c = collections.Counter()\n",
    "for user in data['events_data']:    \n",
    "    client_id = user['client_id']\n",
    "    category = user['category']\n",
    "    print(client_id)\n",
    "    if (category=='report'):\n",
    "        c[client_id] += 1\n",
    "print(c)    \n",
    " "
   ]
  },
  {
   "cell_type": "code",
   "execution_count": 102,
   "metadata": {},
   "outputs": [
    {
     "name": "stdout",
     "output_type": "stream",
     "text": [
      "устройства,\n"
     ]
    }
   ],
   "source": [
    "proverb = 'Программисты - это устройства, преобразующие кофеин в код.'\n",
    "result = proverb.split()[3]\n",
    "print(result)"
   ]
  },
  {
   "cell_type": "code",
   "execution_count": 103,
   "metadata": {},
   "outputs": [],
   "source": [
    "proverb = 'Программисты - это устройства, преобразующие кофеин в код.'"
   ]
  },
  {
   "cell_type": "code",
   "execution_count": 130,
   "metadata": {},
   "outputs": [
    {
     "name": "stdout",
     "output_type": "stream",
     "text": [
      "Пормит  т срйта рорзюи оенвкд\n",
      "ргамсы-эоутосв,пебаущекфи  о.\n",
      "рПгоарммсиыт- э оту тсорсйвт,ап ербоарузщюеик фоие н вок.д\n"
     ]
    }
   ],
   "source": [
    "n = len(proverb)\n",
    "l1 = proverb[0:n:2]\n",
    "l2 = proverb[1:n:2]\n",
    "print(l1)    \n",
    "print(l2)\n",
    "new_proverb = \"\"\n",
    "n = max([len(l2), len(l1)])\n",
    "for i in range(n):\n",
    "    new_proverb += l2[i]\n",
    "    new_proverb += l1[i]\n",
    "    \n",
    "print(new_proverb)\n"
   ]
  },
  {
   "cell_type": "code",
   "execution_count": 145,
   "metadata": {},
   "outputs": [
    {
     "name": "stdout",
     "output_type": "stream",
     "text": [
      "Слово \"программирование\" - это не палиндром\n"
     ]
    }
   ],
   "source": [
    "basic_word = 'программирование'\n",
    "n = len(basic_word)\n",
    "inverted_word = basic_word[n:0:-1]+basic_word[0]\n",
    "if (basic_word==inverted_word):\n",
    "    print('Слово \\\"{}\\\" является палиндромом'.format(basic_word))\n",
    "else:\n",
    "    print('Слово \\\"{}\\\" - это не палиндром'.format(basic_word))\n"
   ]
  },
  {
   "cell_type": "code",
   "execution_count": 147,
   "metadata": {},
   "outputs": [
    {
     "name": "stdout",
     "output_type": "stream",
     "text": [
      "это\n"
     ]
    }
   ],
   "source": [
    "proverb = 'Хорошо написанная программа - это программа, написанная 2 раза'\n",
    "\n",
    "while True:\n",
    "    index = proverb.find('программа')\n",
    "    if index == -1:\n",
    "        break\n",
    "    secret = proverb[:index].split()[-1]\n",
    "    proverb = proverb[index+9:] \n",
    "print(secret)"
   ]
  },
  {
   "cell_type": "code",
   "execution_count": 148,
   "metadata": {},
   "outputs": [
    {
     "name": "stdout",
     "output_type": "stream",
     "text": [
      "asd.ru\n"
     ]
    }
   ],
   "source": [
    "email = \"qwe@asd.ru\"\n",
    "print(email.split('@')[1])\n"
   ]
  },
  {
   "cell_type": "code",
   "execution_count": 156,
   "metadata": {},
   "outputs": [
    {
     "name": "stdout",
     "output_type": "stream",
     "text": [
      "14\n"
     ]
    }
   ],
   "source": [
    "number = 56.257\n",
    "sum = 0\n",
    "for c in str(number).split('.')[1]:\n",
    "    sum += int(c)\n",
    " \n",
    "\n",
    "print(sum)"
   ]
  },
  {
   "cell_type": "code",
   "execution_count": 167,
   "metadata": {},
   "outputs": [
    {
     "name": "stdout",
     "output_type": "stream",
     "text": [
      "{'mail.ru': 3, 'yandex.ru': 5, 'gmail.com': 2}\n"
     ]
    }
   ],
   "source": [
    "import collections\n",
    "\n",
    "emails_list = ['vasya@mail.ru', \n",
    "          'akakiy@yandex.ru', \n",
    "          'spyderman@yandex.ru', \n",
    "          'XFiles@gmail.com', \n",
    "          'hello@mail.ru', \n",
    "          'noname@gmail.com', \n",
    "          'DonaldTrump@mail.ru', \n",
    "          'a768#af@yandex.ru', \n",
    "          'Ivan_Ivanovich@yandex.ru', \n",
    "          'thebestmail@yandex.ru']\n",
    "cnt = collections.Counter()\n",
    "emails_dict  = {}\n",
    "for email in emails_list:\n",
    "    domain = email.split('@')[1]\n",
    "    cnt[domain] += 1\n",
    "    emails_dict [domain] = cnt[domain]\n",
    "print(emails_dict)\n"
   ]
  },
  {
   "cell_type": "code",
   "execution_count": 168,
   "metadata": {},
   "outputs": [
    {
     "name": "stdout",
     "output_type": "stream",
     "text": [
      "лучшее\n"
     ]
    }
   ],
   "source": [
    "string = 'Интернет-открытки - это лучшее средство для мужчины сказать женщине о своих чувствах прямо в глаза.'\n",
    "secret = string[24:30]\n",
    "new_string = string.replace(secret.lower(), secret.upper()) \n",
    "print(secret)"
   ]
  },
  {
   "cell_type": "code",
   "execution_count": 169,
   "metadata": {},
   "outputs": [
    {
     "name": "stdout",
     "output_type": "stream",
     "text": [
      "Тяжёлая интернет:)зависимость :) это когда ты выходишь из интернета:) а он из тебя нет:)\n"
     ]
    }
   ],
   "source": [
    "string = 'Тяжёлая интернет-зависимость - это когда ты выходишь из интернета, а он из тебя нет.'\n",
    "ch = ['-', ',', '.']\n",
    "\n",
    "for c in ch:\n",
    "    string = string.replace(c, ':)')\n",
    "    \n",
    "print(string)"
   ]
  },
  {
   "cell_type": "code",
   "execution_count": 174,
   "metadata": {},
   "outputs": [
    {
     "name": "stdout",
     "output_type": "stream",
     "text": [
      "С - согласная буква\n",
      "е - гласная буква\n",
      "в - согласная буква\n",
      "а - гласная буква\n",
      "с - согласная буква\n",
      "т - согласная буква\n",
      "и - гласная буква\n",
      "а - гласная буква\n",
      "н - согласная буква\n"
     ]
    }
   ],
   "source": [
    "name = 'Севастиан'\n",
    "gl = ['а', 'и', 'о', 'у', 'ы', 'е', 'ё', 'ю', 'я', 'э']\n",
    "for l in name:\n",
    "    if (str(l).lower() in gl):\n",
    "        print('{} - гласная буква'.format(l))\n",
    "    else:\n",
    "        print('{} - согласная буква'.format(l))\n",
    "    "
   ]
  },
  {
   "cell_type": "code",
   "execution_count": 210,
   "metadata": {},
   "outputs": [
    {
     "name": "stdout",
     "output_type": "stream",
     "text": [
      "5.0\n"
     ]
    },
    {
     "data": {
      "text/plain": [
       "5.0"
      ]
     },
     "execution_count": 210,
     "metadata": {},
     "output_type": "execute_result"
    }
   ],
   "source": [
    " \n",
    "\n",
    "def get_median(list):\n",
    "    l = sorted(list)\n",
    "    idx = len(l)//2 - 1\n",
    "    if (len(l)%2==0): \n",
    "        r = (l[idx]+l[idx+1])/2\n",
    "    else:\n",
    "        r = l[idx+1]\n",
    "    print(r)\n",
    "    return r \n",
    "\n",
    "get_median([3, 3, 7, 9])"
   ]
  },
  {
   "cell_type": "code",
   "execution_count": 214,
   "metadata": {},
   "outputs": [
    {
     "name": "stdout",
     "output_type": "stream",
     "text": [
      "65.48741737670277\n"
     ]
    },
    {
     "data": {
      "text/plain": [
       "'€0.02'"
      ]
     },
     "execution_count": 214,
     "metadata": {},
     "output_type": "execute_result"
    }
   ],
   "source": [
    "from random import random # добавьте функцию get_euro_rate\n",
    "def get_euro_rate():    \n",
    "    return 65 + (85-65)*random()\n",
    "\n",
    "# используйте get_euro_rate в следующей функции\n",
    "def to_euro(price):  \n",
    "    exchange_rate = get_euro_rate()\n",
    "    print(exchange_rate)\n",
    "    rounded = round(price/exchange_rate, 2)  \n",
    "    return '€' + str(rounded)\n",
    "\n",
    "to_euro(1)"
   ]
  },
  {
   "cell_type": "code",
   "execution_count": 220,
   "metadata": {},
   "outputs": [
    {
     "name": "stdout",
     "output_type": "stream",
     "text": [
      "10\n"
     ]
    }
   ],
   "source": [
    "s = 0\n",
    "for x in [0,1,2,3,4]:\n",
    "    s+=x\n",
    "\n",
    "print(s)"
   ]
  },
  {
   "cell_type": "code",
   "execution_count": 233,
   "metadata": {},
   "outputs": [
    {
     "name": "stdout",
     "output_type": "stream",
     "text": [
      "9\n"
     ]
    }
   ],
   "source": [
    "import re \n",
    "text = 'Разработка языка Python была начата в конце 1980-х годов сотрудником голландского института CWI Гвидо ван Россумом. Для распределённой ОС Amoeba требовался расширяемый скриптовый язык, и Гвидо начал писать Python на досуге, позаимствовав некоторые наработки для языка ABC (Гвидо участвовал в разработке этого языка, ориентированного на обучение программированию). В феврале 1991 года Гвидо опубликовал исходный текст в группе новостей alt.sources. Название языка произошло вовсе не от вида пресмыкающихся. Автор назвал язык в честь популярного британского комедийного телешоу 1970-х \"Летающий цирк Монти Пайтона\".'\n",
    "pattern = re.compile('\\s[аиоуыэеёюя]\\S*\\s+[^аиоуыэеёюя0-9a-z]\\S*', re.I)\n",
    "res = pattern.findall(text)\n",
    "print(len(res))"
   ]
  },
  {
   "cell_type": "code",
   "execution_count": 279,
   "metadata": {},
   "outputs": [
    {
     "name": "stdout",
     "output_type": "stream",
     "text": [
      "Counter({74: 35, 70: 33, 68: 31, 73: 28, 80: 27, 62: 27, 78: 25, 67: 25, 72: 25, 54: 25, 76: 25, 82: 24, 66: 24, 77: 24, 69: 23, 75: 22, 65: 22, 64: 22, 61: 21, 52: 20, 81: 20, 60: 20, 79: 19, 57: 19, 58: 18, 71: 18, 53: 17, 51: 17, 84: 16, 63: 15, 55: 14, 56: 14, 100: 14, 85: 14, 83: 13, 59: 13, 43: 12, 86: 12, 88: 11, 87: 11, 91: 11, 50: 10, 46: 10, 47: 10, 90: 10, 92: 9, 49: 9, 89: 9, 93: 8, 44: 8, 48: 8, 41: 8, 95: 8, 42: 7, 45: 7, 38: 6, 94: 6, 36: 4, 96: 4, 99: 4, 34: 3, 40: 3, 27: 3, 39: 2, 37: 2, 98: 2, 33: 2, 32: 2, 97: 2, 28: 1, 10: 1, 22: 1, 19: 1, 35: 1, 15: 1, 30: 1, 23: 1})\n",
      "filtered 68\n",
      "sum 6467\n",
      "avg 95.1029411764706\n",
      "cnt2 59\n",
      "pct 86.76470588235294\n"
     ]
    }
   ],
   "source": [
    "import collections\n",
    "import re \n",
    "\n",
    "pattern = re.compile('\\d+', re.I)\n",
    "c = collections.Counter()\n",
    "f = open('StudentsPerformance.xls')\n",
    "\n",
    "\n",
    "col_num = 7\n",
    "filter_val = 90\n",
    "\n",
    "cnt = 0\n",
    "cnt2 = 0\n",
    "sum = 0\n",
    "for line in f:\n",
    "    info = line.split(',')\n",
    "    if info[0] == '\"gender\"':\n",
    "        continue\n",
    "    else:\n",
    "        #print('>',info[col_num])\n",
    "        str = info[col_num]\n",
    "        str2 = info[3][1:-1]\n",
    "        value = int(pattern.findall(str)[0]) #int(info[col_num][1:-1])\n",
    "        c[value] += 1\n",
    "        if (value > filter_val):\n",
    "            sum += int(value)\n",
    "            cnt += 1\n",
    "            if (str2=='standard'):\n",
    "                cnt2 += 1\n",
    "            \n",
    "avg = sum / cnt\n",
    "\n",
    "pct = cnt2 / cnt\n",
    "#cnt2= 0\n",
    "#f = open('StudentsPerformance.xls')\n",
    "#for line in f:\n",
    "#    info = line.split(',')\n",
    "#    if info[0] == '\"gender\"':\n",
    "#        continue\n",
    "#    else:\n",
    "#        value = info[col_num][1:-1]\n",
    "#        if (int(value) < avg): \n",
    "#            cnt2 += 1\n",
    "\n",
    "\n",
    "print(c)\n",
    "print('filtered',cnt)\n",
    "print('sum', sum)\n",
    "print('avg', avg)\n",
    "print('cnt2', cnt2)\n",
    "print('pct', pct*100)\n",
    "#print('Мальчиков: {}, девочек: {}'.format(males, females))\n"
   ]
  },
  {
   "cell_type": "code",
   "execution_count": 237,
   "metadata": {},
   "outputs": [
    {
     "name": "stdout",
     "output_type": "stream",
     "text": [
      "3.0\n"
     ]
    }
   ],
   "source": [
    "std = 42\n",
    "\n",
    "def normalize(value, std):\n",
    "    result = value/std\n",
    "    return result \n",
    "    \n",
    "print(normalize(21, 7)) "
   ]
  },
  {
   "cell_type": "code",
   "execution_count": 239,
   "metadata": {},
   "outputs": [
    {
     "data": {
      "text/plain": [
       "[-5.0, 5.0]"
      ]
     },
     "execution_count": 239,
     "metadata": {},
     "output_type": "execute_result"
    }
   ],
   "source": [
    "def normalize(values, mean=0, std=1):\n",
    "    return [(x-mean)/std for x in values]\n",
    "\n",
    "normalize([10, 20], mean=15)"
   ]
  },
  {
   "cell_type": "code",
   "execution_count": 240,
   "metadata": {},
   "outputs": [
    {
     "name": "stdout",
     "output_type": "stream",
     "text": [
      "verbose mode\n"
     ]
    }
   ],
   "source": [
    "def show_keys(**kwargs):\n",
    "    print(' '.join(kwargs.keys()))\n",
    "\n",
    "show_keys(verbose=True, mode='constant')"
   ]
  },
  {
   "cell_type": "code",
   "execution_count": 242,
   "metadata": {},
   "outputs": [
    {
     "name": "stdout",
     "output_type": "stream",
     "text": [
      "8\n",
      "4.0\n",
      "24\n",
      "3.4285714285714284\n"
     ]
    }
   ],
   "source": [
    "def count_letters(sentence, average=False):\n",
    "    s=0\n",
    "    words = sentence.split()\n",
    "    for word in words:\n",
    "        s += len(word)    \n",
    "    if (average):        \n",
    "        return s/len(words)\n",
    "    else:\n",
    "        return s\n",
    "    \n",
    "print(count_letters(\"Beep boop\")) # => 8\n",
    "print(count_letters(\"Beep boop\", average=True)) # => 4\n",
    "print(count_letters(\"I will build my own theme park\")) # => 24\n",
    "print(count_letters(\"I will build my own theme park\", average=True)) # => 3.429"
   ]
  },
  {
   "cell_type": "code",
   "execution_count": 243,
   "metadata": {},
   "outputs": [
    {
     "data": {
      "text/plain": [
       "'a'"
      ]
     },
     "execution_count": 243,
     "metadata": {},
     "output_type": "execute_result"
    }
   ],
   "source": [
    "words = [\"sofa\", \"suitcase\", \"valise\", \"picture\", \"basket\", \"carton\", \"doggie\"]\n",
    "list(map(lambda w: sorted(w)[0], words))[5]"
   ]
  },
  {
   "cell_type": "code",
   "execution_count": 247,
   "metadata": {},
   "outputs": [
    {
     "data": {
      "text/plain": [
       "5"
      ]
     },
     "execution_count": 247,
     "metadata": {},
     "output_type": "execute_result"
    }
   ],
   "source": [
    "\n",
    "def always(n):\n",
    "    return lambda : n\n",
    "    \n",
    "five = always(5)\n",
    "five() # должно вернуть 5    "
   ]
  },
  {
   "cell_type": "code",
   "execution_count": 35,
   "metadata": {},
   "outputs": [
    {
     "name": "stdout",
     "output_type": "stream",
     "text": [
      "{'female': {'72': 7, '69': 16, '90': 2, '71': 13, '88': 6, '38': 3, '65': 28, '50': 11, '18': 1, '54': 11, '67': 16, '62': 16, '63': 13, '56': 7, '74': 15, '75': 10, '58': 13, '53': 11, '55': 8, '66': 12, '57': 10, '33': 1, '82': 9, '0': 1, '59': 21, '60': 8, '39': 2, '41': 4, '61': 11, '47': 6, '73': 13, '76': 8, '79': 8, '85': 8, '87': 5, '52': 13, '70': 8, '77': 16, '51': 6, '99': 2, '78': 6, '42': 5, '22': 1, '68': 11, '81': 8, '96': 2, '43': 4, '46': 5, '97': 2, '45': 5, '83': 4, '34': 2, '64': 12, '80': 6, '44': 6, '37': 3, '49': 8, '24': 1, '35': 4, '27': 1, '100': 3, '84': 2, '26': 1, '94': 2, '95': 1, '40': 5, '86': 2, '91': 2, '36': 1, '29': 3, '92': 4, '32': 3, '48': 7, '98': 1, '19': 1, '23': 1, '93': 2, '89': 1, '8': 1}, 'male': {'47': 5, '76': 13, '40': 5, '64': 8, '58': 12, '78': 8, '88': 9, '46': 6, '66': 12, '44': 3, '74': 10, '73': 14, '69': 16, '70': 10, '97': 4, '81': 14, '57': 8, '55': 10, '59': 11, '65': 8, '82': 9, '53': 13, '77': 8, '52': 5, '79': 14, '39': 2, '62': 19, '67': 10, '45': 4, '61': 16, '63': 13, '49': 9, '30': 2, '80': 11, '50': 4, '72': 11, '42': 1, '27': 1, '71': 13, '43': 1, '68': 15, '60': 8, '98': 2, '54': 7, '84': 9, '91': 7, '83': 4, '89': 5, '87': 11, '51': 5, '100': 4, '94': 5, '48': 4, '35': 1, '86': 6, '92': 2, '75': 11, '85': 6, '90': 6, '56': 2, '99': 1, '28': 1, '41': 2, '37': 1, '96': 1, '95': 1, '93': 2, '36': 1}}\n",
      "63.02253521126761\n"
     ]
    }
   ],
   "source": [
    "import re \n",
    "\n",
    "pattern = re.compile('\\d+', re.I)\n",
    "\n",
    "students = {}\n",
    "\n",
    "f = open('StudentsPerformance.xls')\n",
    "#gender — пол абитуриента;\n",
    "#race/ethnicity — национальность (зашифрована в виде значений \"Group A\", \"Group B\" и т.д.);\n",
    "#parental level of education — уровень образования родителей;\n",
    "#lunch — насколько качественно пообедал абитуриент перед тестом;\n",
    "#test preparation course — закончил ли абитуриент подготовительные курсы;\n",
    "#math score — оценка по математике;\n",
    "#reading score — оценка по чтению;\n",
    "#writing score — оценка по письму.\n",
    "\n",
    "cnt = 0\n",
    "sum = 0\n",
    "\n",
    "for line in f:\n",
    "    info = line.split(',')\n",
    "    if info[0] == '\"gender\"':\n",
    "        continue\n",
    "    else:\n",
    "        gender = info[0][1:-1]\n",
    "        ethnicity = info[1][1:-1]\n",
    "        parents = info[2][1:-1]\n",
    "        lunch = info[3][1:-1]\n",
    "        preparation = info[4][1:-1]\n",
    "        math = info[5][1:-1]\n",
    "        reading = info[6][1:-1]\n",
    "        writing = int(pattern.findall(info[7][1:-1])[0])\n",
    "        \n",
    "        key1 = gender\n",
    "        key2 = math\n",
    "            \n",
    "        if key1 in students:\n",
    "            if key2 in students[key1]:\n",
    "                students[key1][key2] += 1\n",
    "            else:\n",
    "                students[key1][key2] = 1\n",
    "        else:\n",
    "            students[key1] = {}\n",
    "            students[key1][key2] = 1  \n",
    "        \n",
    "        #t = students['female'].get('master\\'s degree')\n",
    "        if (lunch == 'free/reduced'):\n",
    "            sum += int(writing)\n",
    "            cnt += 1\n",
    "                \n",
    "print(students)\n",
    "print(sum/cnt)\n"
   ]
  },
  {
   "cell_type": "code",
   "execution_count": 26,
   "metadata": {},
   "outputs": [
    {
     "name": "stdout",
     "output_type": "stream",
     "text": [
      "cba\n"
     ]
    }
   ],
   "source": [
    "string = 'abc'\n",
    "print(string[-1::-1])"
   ]
  },
  {
   "cell_type": "code",
   "execution_count": 36,
   "metadata": {},
   "outputs": [
    {
     "name": "stdout",
     "output_type": "stream",
     "text": [
      "['смотреть сериалы онлайн', 'новости спорта', 'афиша кино', 'курс доллара', 'сериалы этим летом', 'курс по питону', 'сериалы про спорт']\n"
     ]
    }
   ],
   "source": [
    "queries_string =\"смотреть сериалы онлайн,новости спорта,афиша кино,курс доллара,сериалы этим летом,курс по питону,сериалы про спорт\" \n",
    "print( queries_string.split(',') )"
   ]
  },
  {
   "cell_type": "code",
   "execution_count": 37,
   "metadata": {},
   "outputs": [
    {
     "name": "stdout",
     "output_type": "stream",
     "text": [
      "смотреть сериалы онлайн,новости спорта,афиша кино,курс доллара,сериалы этим летом,курс по питону,сериалы про спорт\n"
     ]
    }
   ],
   "source": [
    "queriesList = [ 'смотреть сериалы онлайн', 'новости спорта', 'афиша кино', 'курс доллара', 'сериалы этим летом', 'курс по питону', 'сериалы про спорт' ]\n",
    "print( ','.join( queriesList ) )"
   ]
  },
  {
   "cell_type": "code",
   "execution_count": 39,
   "metadata": {},
   "outputs": [
    {
     "name": "stdout",
     "output_type": "stream",
     "text": [
      "001_logs_2017-11-01||002_logs_2017-11-02||003_logs_2017-11-03||004_logs_2017-11-04||005_logs_2017-11-05||006_logs_2017-11-06\n"
     ]
    }
   ],
   "source": [
    "results = ['001_logs_2017-11-01', '002_logs_2017-11-02', '003_logs_2017-11-03', '004_logs_2017-11-04', '005_logs_2017-11-05', '006_logs_2017-11-06']\n",
    "print( '||'.join( results ) )"
   ]
  },
  {
   "cell_type": "code",
   "execution_count": 40,
   "metadata": {},
   "outputs": [
    {
     "data": {
      "text/plain": [
       "['Google Adwords', 'Yandex Direct', 'Facebook']"
      ]
     },
     "execution_count": 40,
     "metadata": {},
     "output_type": "execute_result"
    }
   ],
   "source": [
    "sequence = [ 'Google Adwords', 'Yandex Direct', 'Facebook', 'VK', 'Partner' ]\n",
    "sequence[0:3]"
   ]
  },
  {
   "cell_type": "code",
   "execution_count": 41,
   "metadata": {},
   "outputs": [
    {
     "data": {
      "text/plain": [
       "['Facebook', 'VK', 'Partner']"
      ]
     },
     "execution_count": 41,
     "metadata": {},
     "output_type": "execute_result"
    }
   ],
   "source": [
    "sequence = [ 'Google Adwords', 'Yandex Direct', 'Facebook', 'VK', 'Partner' ]\n",
    "sequence[2:]"
   ]
  },
  {
   "cell_type": "code",
   "execution_count": 47,
   "metadata": {},
   "outputs": [
    {
     "data": {
      "text/plain": [
       "['Facebook', 'VK']"
      ]
     },
     "execution_count": 47,
     "metadata": {},
     "output_type": "execute_result"
    }
   ],
   "source": [
    "sequence = [ 'Google Adwords', 'Yandex Direct', 'Facebook', 'VK', 'Partner' ]\n",
    "#sequence[2:-1]\n",
    "#sequence[-3:-1]\n",
    "#sequence[-3:4]\n",
    "sequence[2:4]"
   ]
  },
  {
   "cell_type": "code",
   "execution_count": 55,
   "metadata": {},
   "outputs": [
    {
     "data": {
      "text/plain": [
       "[2, 4, 6, 8, 10]"
      ]
     },
     "execution_count": 55,
     "metadata": {},
     "output_type": "execute_result"
    }
   ],
   "source": [
    "justNumbers = [1, 2, 3, 4, 5, 6, 7, 8, 9, 10]\n",
    "justNumbers[1::2]"
   ]
  },
  {
   "cell_type": "code",
   "execution_count": 56,
   "metadata": {},
   "outputs": [
    {
     "name": "stdout",
     "output_type": "stream",
     "text": [
      "0\n",
      "1\n",
      "2\n",
      "3\n",
      "4\n",
      "5\n",
      "6\n",
      "7\n",
      "8\n",
      "9\n"
     ]
    }
   ],
   "source": [
    "for i in range(10):\n",
    "    print( i )"
   ]
  },
  {
   "cell_type": "code",
   "execution_count": 58,
   "metadata": {},
   "outputs": [
    {
     "name": "stdout",
     "output_type": "stream",
     "text": [
      "['смотреть', 'сериалы', 'онлайн']\n"
     ]
    }
   ],
   "source": [
    "queriesList = \"смотреть сериалы онлайн\".split( ' ' )\n",
    "print( queriesList )"
   ]
  },
  {
   "cell_type": "code",
   "execution_count": null,
   "metadata": {},
   "outputs": [],
   "source": []
  }
 ],
 "metadata": {
  "kernelspec": {
   "display_name": "Python 3",
   "language": "python",
   "name": "python3"
  },
  "language_info": {
   "codemirror_mode": {
    "name": "ipython",
    "version": 3
   },
   "file_extension": ".py",
   "mimetype": "text/x-python",
   "name": "python",
   "nbconvert_exporter": "python",
   "pygments_lexer": "ipython3",
   "version": "3.8.3"
  }
 },
 "nbformat": 4,
 "nbformat_minor": 4
}
