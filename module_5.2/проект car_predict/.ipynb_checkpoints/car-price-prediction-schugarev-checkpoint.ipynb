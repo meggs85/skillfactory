{
 "cells": [
  {
   "cell_type": "markdown",
   "metadata": {
    "papermill": {
     "duration": 0.029718,
     "end_time": "2020-10-26T12:46:41.276296",
     "exception": false,
     "start_time": "2020-10-26T12:46:41.246578",
     "status": "completed"
    },
    "tags": []
   },
   "source": [
    "### Юнит 6. Проект 5: \"Выбираем автомобиль правильно\"\n",
    "##### Выполнил: Андрей Щугарев DSPR-27\n",
    "\n",
    "# Прогнозирование стоимости автомобиля по характеристикам\n"
   ]
  },
  {
   "cell_type": "markdown",
   "metadata": {},
   "source": [
    "Стратегия решения задачи:\n",
    "1. первичный препроцессинг формата\n",
    "1. препроцессинг семантики, feature extraction\n",
    "1. удаление пропусков\n",
    "1. feature engineering, повторный анализ пропусков\n",
    "1. типизация фич, обрезка наборов для задач теста инфляции и главной задачи\n",
    "1. кодирование категориальных признаков\n",
    "1. вариационный анализ \n",
    "1. корреляционный анализ \n",
    "1. масштабирование фич и таргета к стандартной форме\n",
    "1. удаление выбросов из трейна методом median +- k * sigma\n",
    "1. тестирование гипотезы об инфляции на наборах 20 и 21 без фич volume, equipment_dict\n",
    "1. моделирование на 21 с фичами equipment_dict 21 на полном наборе фич, и преобразованном таргетом в соотв. с инфляцией\n",
    "1. ансамблирование. стекинг\n",
    "1. финальный предикт, submission"
   ]
  },
  {
   "cell_type": "code",
   "execution_count": 1,
   "metadata": {
    "_cell_guid": "b1076dfc-b9ad-4769-8c92-a6c4dae69d19",
    "_uuid": "8f2839f25d086af736a60e9eeb907d3b93b6e0e5",
    "execution": {
     "iopub.execute_input": "2021-10-05T19:44:12.348492Z",
     "iopub.status.busy": "2021-10-05T19:44:12.348089Z",
     "iopub.status.idle": "2021-10-05T19:44:14.854440Z",
     "shell.execute_reply": "2021-10-05T19:44:14.853370Z",
     "shell.execute_reply.started": "2021-10-05T19:44:12.348460Z"
    },
    "papermill": {
     "duration": 1.219772,
     "end_time": "2020-10-26T12:46:42.581597",
     "exception": false,
     "start_time": "2020-10-26T12:46:41.361825",
     "status": "completed"
    },
    "tags": []
   },
   "outputs": [],
   "source": [
    "import datetime\n",
    "import sklearn\n",
    "import lightgbm\n",
    "import xgboost\n",
    "#import lazypredict\n",
    "import numpy as np\n",
    "import pandas as pd\n",
    "import matplotlib\n",
    "import json\n",
    "import re\n",
    "import pdb\n",
    "from sklearn.preprocessing import LabelEncoder, OneHotEncoder, StandardScaler, PolynomialFeatures, MultiLabelBinarizer, MinMaxScaler\n",
    "from sklearn.model_selection import train_test_split, GridSearchCV\n",
    "from sklearn.decomposition import PCA\n",
    "from sklearn.ensemble import RandomForestClassifier\n",
    "from sklearn.feature_selection import mutual_info_regression, f_regression, SelectFromModel, SelectKBest\n",
    "from lightgbm import LGBMRegressor\n",
    "from xgboost import XGBRegressor\n",
    "from catboost import CatBoostRegressor\n",
    "from sklearn.metrics import mean_squared_error\n",
    "from sklearn.cross_decomposition import PLSRegression\n",
    "from datetime import datetime\n",
    "#from lazypredict.Supervised import LazyRegressor\n",
    "import seaborn as sns\n",
    "import matplotlib.pyplot as plt\n",
    "from sklearn.ensemble import IsolationForest\n",
    "from sklearn.ensemble import ExtraTreesRegressor\n",
    "from sklearn.neural_network import MLPRegressor\n",
    "from sklearn.tree import DecisionTreeRegressor\n",
    "from sklearn.linear_model import RidgeCV\n",
    "from sklearn.linear_model import LinearRegression\n",
    "from sklearn.neighbors import KNeighborsRegressor\n",
    "from sklearn.model_selection import cross_val_score\n",
    "from sklearn.model_selection import RepeatedKFold\n",
    "from sklearn.ensemble import StackingRegressor\n",
    "from sklearn import linear_model\n",
    "from matplotlib import pyplot\n",
    "import statistics\n",
    "import scipy.stats\n",
    "import pdb\n",
    "\n",
    "#from sklearn.metrics import mean_absolute_percentage_error\n",
    "def mean_absolute_percentage_error(y_true, y_pred):\n",
    "    return np.mean(np.abs((y_pred-y_true)/y_true))\n",
    "\n",
    "\n",
    "pd.set_option('display.max_colwidth', None)\n",
    "pd.set_option('display.max_columns', None)\n",
    "pd.set_option('display.max_rows', 50)\n",
    "pd.set_option('display.float_format', '{:.1f}'.format)"
   ]
  },
  {
   "cell_type": "markdown",
   "metadata": {
    "papermill": {
     "duration": 0.028837,
     "end_time": "2020-10-26T12:46:47.981435",
     "exception": false,
     "start_time": "2020-10-26T12:46:47.952598",
     "status": "completed"
    },
    "tags": []
   },
   "source": [
    "# Setup"
   ]
  },
  {
   "cell_type": "code",
   "execution_count": 2,
   "metadata": {
    "execution": {
     "iopub.execute_input": "2021-10-05T19:44:14.856829Z",
     "iopub.status.busy": "2021-10-05T19:44:14.856331Z",
     "iopub.status.idle": "2021-10-05T19:44:14.861514Z",
     "shell.execute_reply": "2021-10-05T19:44:14.860663Z",
     "shell.execute_reply.started": "2021-10-05T19:44:14.856794Z"
    }
   },
   "outputs": [],
   "source": [
    "CORR_ABS_MAX_LIMIT = 0.95 # порог коэфф-та корреялции для удаления коллинеарных признаков\n",
    "TAIL_DISTR_MIN_SAMPLE_SIZE=30 # порог отсекаемого меньшинства. Если мощность множества значений не равных модальному у дискретного признака менее этой цифры, фича признается с отсутствующей вариативностью и удаляется  \n",
    "K_SIGMA = 2.5 #порог отсечения аномалий от median для удаления выбросов\n",
    "USE_POLY = False #генерировать полином.признаки степени 2"
   ]
  },
  {
   "cell_type": "markdown",
   "metadata": {
    "papermill": {
     "duration": 0.030254,
     "end_time": "2020-10-26T12:46:48.112586",
     "exception": false,
     "start_time": "2020-10-26T12:46:48.082332",
     "status": "completed"
    },
    "tags": []
   },
   "source": [
    "# 1. Данные. Препроцессинг формата"
   ]
  },
  {
   "cell_type": "code",
   "execution_count": 3,
   "metadata": {
    "execution": {
     "iopub.execute_input": "2021-10-05T19:44:14.863587Z",
     "iopub.status.busy": "2021-10-05T19:44:14.863069Z"
    },
    "papermill": {
     "duration": 0.783211,
     "end_time": "2020-10-26T12:46:48.925418",
     "exception": false,
     "start_time": "2020-10-26T12:46:48.142207",
     "status": "completed"
    },
    "tags": []
   },
   "outputs": [
    {
     "data": {
      "text/html": [
       "<div>\n",
       "<style scoped>\n",
       "    .dataframe tbody tr th:only-of-type {\n",
       "        vertical-align: middle;\n",
       "    }\n",
       "\n",
       "    .dataframe tbody tr th {\n",
       "        vertical-align: top;\n",
       "    }\n",
       "\n",
       "    .dataframe thead th {\n",
       "        text-align: right;\n",
       "    }\n",
       "</style>\n",
       "<table border=\"1\" class=\"dataframe\">\n",
       "  <thead>\n",
       "    <tr style=\"text-align: right;\">\n",
       "      <th></th>\n",
       "      <th>0</th>\n",
       "      <th>0</th>\n",
       "      <th>0</th>\n",
       "    </tr>\n",
       "  </thead>\n",
       "  <tbody>\n",
       "    <tr>\n",
       "      <th>bodyType</th>\n",
       "      <td>Седан</td>\n",
       "      <td>внедорожник 5 дв.</td>\n",
       "      <td>лифтбек</td>\n",
       "    </tr>\n",
       "    <tr>\n",
       "      <th>brand</th>\n",
       "      <td>AUDI</td>\n",
       "      <td>ACURA</td>\n",
       "      <td>SKODA</td>\n",
       "    </tr>\n",
       "    <tr>\n",
       "      <th>color</th>\n",
       "      <td>040001</td>\n",
       "      <td>чёрный</td>\n",
       "      <td>синий</td>\n",
       "    </tr>\n",
       "    <tr>\n",
       "      <th>fuelType</th>\n",
       "      <td>бензин</td>\n",
       "      <td>бензин</td>\n",
       "      <td>бензин</td>\n",
       "    </tr>\n",
       "    <tr>\n",
       "      <th>modelDate</th>\n",
       "      <td>1990.0</td>\n",
       "      <td>2013.0</td>\n",
       "      <td>2013.0</td>\n",
       "    </tr>\n",
       "    <tr>\n",
       "      <th>name</th>\n",
       "      <td>2.8 MT (174 л.с.) 4WD</td>\n",
       "      <td>Acura MDX III</td>\n",
       "      <td>1.2 AMT (105 л.с.)</td>\n",
       "    </tr>\n",
       "    <tr>\n",
       "      <th>numberOfDoors</th>\n",
       "      <td>4.0</td>\n",
       "      <td>5.0</td>\n",
       "      <td>5.0</td>\n",
       "    </tr>\n",
       "    <tr>\n",
       "      <th>productionDate</th>\n",
       "      <td>1991.0</td>\n",
       "      <td>2014.0</td>\n",
       "      <td>2014.0</td>\n",
       "    </tr>\n",
       "    <tr>\n",
       "      <th>vehicleConfiguration</th>\n",
       "      <td>SEDAN MECHANICAL 2.8</td>\n",
       "      <td>ALLROAD_5_DOORS AUTOMATIC 3.5</td>\n",
       "      <td>LIFTBACK ROBOT 1.2</td>\n",
       "    </tr>\n",
       "    <tr>\n",
       "      <th>vehicleTransmission</th>\n",
       "      <td>MECHANICAL</td>\n",
       "      <td>автоматическая</td>\n",
       "      <td>роботизированная</td>\n",
       "    </tr>\n",
       "    <tr>\n",
       "      <th>engineDisplacement</th>\n",
       "      <td>2.8</td>\n",
       "      <td>3.5 LTR</td>\n",
       "      <td>1.2 LTR</td>\n",
       "    </tr>\n",
       "    <tr>\n",
       "      <th>enginePower</th>\n",
       "      <td>174.0</td>\n",
       "      <td>290 N12</td>\n",
       "      <td>105 N12</td>\n",
       "    </tr>\n",
       "    <tr>\n",
       "      <th>description</th>\n",
       "      <td>Машина  в приличном состоянии ,не гнилая не ржавая .По менины этим  летом коренные  и шатунные вкладыши .Масло не ест .  Цвет черный .Год выпуска 1991.Двигатель 2.8.Привод полный кватро.Все стеклоподъемники .Кожаный салон  .</td>\n",
       "      <td>На улице холодает а преимущество на приобретение Acura MDX становится все горячее Только 28 и 29 августа оно достигнет летнего максимума Не упустите возможность стать обладателем автомобиля своей мечты на финальных условиях лета Узнайте подробности прямо сейчас Предложение ограничено Действует с 28 по 29 августа 2021 года Узнайте подробности по номеру указанному в описании профиля Если возник вопрос где приобрести проверенный Acura MDX с пробегом от официального дилера сомнений нет Вам в Рольф Лахта Автомобили с пробегом К Вашим услугам Более 150 автомобилей всех марок в наличии Выгодные цены от официального дилера РОЛЬФ Лахта Проверенные автомобили с пробегом прошедшие комплексную техническую диагностику по 103 параметрам А также криминалистическую и юридическую проверку Квалифицированная помощь специалистов при выборе б у автомобиля Заключение о техническом состоянии автомобиля от официального дилера РОЛЬФ 2 года гарантии на ваш автомобиль с момента покупки СТАВКА ПО АВТОКРЕДИТУ ОТ 8 5 Мы ждем Вас каждый день с 09 00 до 22 00 по адресу Санкт Петербург ул Стародеревенская улица 3</td>\n",
       "      <td>Все автомобили, представленные в продаже, проходят тщательную проверку по более 40 параметрам. Предоставляем гарантию юридической чистоты, а так же год технической гарантии на двигатель и КПП. Бесплатный тест-драйв. Возможно оформление автомобиля в кредит!\\n\\nПреимущества автокредитования:\\n— Первоначальный взнос от 0%;\\n— Более 30 кредитных программ;\\n— Процентная ставка от 6% годовых;\\n— Срок кредита от 6 месяцев до 7 лет;\\n— Оформление кредита по двум документам;\\n— Досрочное погашение без штрафов и комиссий;\\n— Сумма кредита до 2 млн рублей;\\n— Оформление КАСКО – по желанию;\\n— Без справок и поручителей.\\n\\nСотрудничаем с 12 аккредитованными и сертифицированными банками РФ, среднее время ожидания решения банка 20–30 минут.\\n\\nПри покупке автомобиля по программе «Trade-in – выгодный обмен» или в кредит, получите дополнительную скидку до 80 000 рублей на данный автомобиль!\\n\\nЗаписаться на тест-драйв, а так же получить подробную информацию можно у специалистов автоцентра по указанному номеру телефона.</td>\n",
       "    </tr>\n",
       "    <tr>\n",
       "      <th>mileage</th>\n",
       "      <td>350000</td>\n",
       "      <td>216 464 км</td>\n",
       "      <td>74000</td>\n",
       "    </tr>\n",
       "    <tr>\n",
       "      <th>Комплектация</th>\n",
       "      <td>{'id': '0'}</td>\n",
       "      <td>NaN</td>\n",
       "      <td>NaN</td>\n",
       "    </tr>\n",
       "    <tr>\n",
       "      <th>Привод</th>\n",
       "      <td>полный</td>\n",
       "      <td>полный</td>\n",
       "      <td>передний</td>\n",
       "    </tr>\n",
       "    <tr>\n",
       "      <th>Руль</th>\n",
       "      <td>LEFT</td>\n",
       "      <td>Левый</td>\n",
       "      <td>Левый</td>\n",
       "    </tr>\n",
       "    <tr>\n",
       "      <th>Состояние</th>\n",
       "      <td>NaN</td>\n",
       "      <td>Не требует ремонта</td>\n",
       "      <td>Не требует ремонта</td>\n",
       "    </tr>\n",
       "    <tr>\n",
       "      <th>Владельцы</th>\n",
       "      <td>3.0</td>\n",
       "      <td>2 владельца</td>\n",
       "      <td>3 или более</td>\n",
       "    </tr>\n",
       "    <tr>\n",
       "      <th>ПТС</th>\n",
       "      <td>ORIGINAL</td>\n",
       "      <td>Оригинал</td>\n",
       "      <td>Оригинал</td>\n",
       "    </tr>\n",
       "    <tr>\n",
       "      <th>Таможня</th>\n",
       "      <td>ИСТИНА</td>\n",
       "      <td>Растаможен</td>\n",
       "      <td>Растаможен</td>\n",
       "    </tr>\n",
       "    <tr>\n",
       "      <th>Владение</th>\n",
       "      <td>NaN</td>\n",
       "      <td>NaN</td>\n",
       "      <td>NaN</td>\n",
       "    </tr>\n",
       "    <tr>\n",
       "      <th>price</th>\n",
       "      <td>200000.0</td>\n",
       "      <td>1875000.0</td>\n",
       "      <td>NaN</td>\n",
       "    </tr>\n",
       "    <tr>\n",
       "      <th>start_date</th>\n",
       "      <td>2019-10-03T08:09:11Z</td>\n",
       "      <td>NaN</td>\n",
       "      <td>NaN</td>\n",
       "    </tr>\n",
       "    <tr>\n",
       "      <th>hidden</th>\n",
       "      <td>NaN</td>\n",
       "      <td>NaN</td>\n",
       "      <td>NaN</td>\n",
       "    </tr>\n",
       "    <tr>\n",
       "      <th>model</th>\n",
       "      <td>100</td>\n",
       "      <td>NaN</td>\n",
       "      <td>NaN</td>\n",
       "    </tr>\n",
       "    <tr>\n",
       "      <th>car_url</th>\n",
       "      <td>NaN</td>\n",
       "      <td>https://auto.ru/cars/used/sale/acura/mdx/1104613191-86b85321/</td>\n",
       "      <td>https://auto.ru/cars/used/sale/skoda/octavia/1100575026-c780dc09/</td>\n",
       "    </tr>\n",
       "    <tr>\n",
       "      <th>complectation_dict</th>\n",
       "      <td>NaN</td>\n",
       "      <td>['cruise-control', 'multi-wheel', 'airbag-passenger', 'navigation', 'roof-rails', 'lock', 'electro-mirrors', 'mirrors-heat', 'leather', 'seat-memory', 'automatic-lighting-control', 'computer', 'seat-transformation', 'light-cleaner', 'airbag-side', 'electro-trunk', 'abs', 'wheel-leather', 'third-row-seats', 'climate-control-1', 'auto-mirrors', 'esp', 'usb', 'windcleaner-heat', 'audiopreparation', 'ashtray-and-cigarette-lighter', 'front-centre-armrest', 'servo', 'steering-wheel-gear-shift-paddles', 'electro-window-back', 'hatch', 'park-assist-f', 'rear-seats-heat', '19-inch-wheels', 'wheel-heat', 'condition', 'led-lights', 'music-super', 'park-assist-r', 'knee-airbag', 'airbag-driver', 'isofix', 'aux', 'electro-window-front', 'light-sensor', 'hcc', 'airbag-curtain', 'keyless-entry', 'passenger-seat-electric', 'alarm', 'paint-metallic', 'leather-gear-stick', 'ptf', 'rain-sensor', 'tyre-pressure', 'audiosystem-cd', 'migration-flag', 'front-seats-heat', 'bluetooth', 'wheel-configuration2', 'wheel-configuration1', 'immo', '12v-socket', 'third-rear-headrest']</td>\n",
       "      <td>NaN</td>\n",
       "    </tr>\n",
       "    <tr>\n",
       "      <th>equipment_dict</th>\n",
       "      <td>NaN</td>\n",
       "      <td>{'cruise-control': True, 'asr': True, 'tinted-glass': True, 'usb': True, 'e-adjustment-wheel': True, 'multi-wheel': True, 'audiopreparation': True, 'ashtray-and-cigarette-lighter': True, 'airbag-passenger': True, 'front-centre-armrest': True, 'navigation': True, 'lock': True, 'rear-camera': True, 'electro-mirrors': True, 'electro-window-back': True, 'hatch': True, 'dark-interior': True, 'park-assist-f': True, 'body-mouldings': True, 'rear-seats-heat': True, 'leather': True, 'seat-memory': True, 'wheel-heat': True, 'led-lights': True, 'electro-rear-seat': True, 'park-assist-r': True, 'knee-airbag': True, 'engine-proof': True, 'airbag-driver': True, 'aux': True, 'isofix': True, 'electro-window-front': True, 'light-sensor': True, 'hcc': True, 'automatic-lighting-control': True, 'airbag-curtain': True, 'computer': True, 'keyless-entry': True, 'seat-transformation': True, 'wheel-power': True, 'alarm': True, 'airbag-rear-side': True, 'start-button': True, 'ptf': True, 'rain-sensor': True, 'airbag-side': True, 'tyre-pressure': True, 'turnbuckle': True, 'abs': True, 'power-child-locks-rear-doors': True, 'bluetooth': True, 'front-seats-heat': True, 'wheel-leather': True, 'climate-control-2': True, 'auto-mirrors': True, 'third-rear-headrest': True}</td>\n",
       "      <td>{\"engine-proof\":true,\"tinted-glass\":true,\"airbag-driver\":true,\"aux\":true,\"isofix\":true,\"electro-window-front\":true,\"ashtray-and-cigarette-lighter\":true,\"airbag-passenger\":true,\"computer\":true,\"high-beam-assist\":true,\"seat-transformation\":true,\"isofix-front\":true,\"wheel-power\":true,\"alarm\":true,\"lock\":true,\"door-sill-panel\":true,\"fabric-seats\":true,\"electro-mirrors\":true,\"airbag-rear-side\":true,\"electro-window-back\":true,\"steel-wheels\":true,\"ptf\":true,\"16-inch-wheels\":true,\"rain-sensor\":true,\"airbag-side\":true,\"audiosystem-cd\":true,\"dark-interior\":true,\"cooling-box\":true,\"condition\":true,\"abs\":true,\"power-child-locks-rear-doors\":true,\"front-seats-heat\":true,\"wheel-configuration2\":true,\"wheel-configuration1\":true,\"12v-socket\":true,\"park-assist-r\":true}</td>\n",
       "    </tr>\n",
       "    <tr>\n",
       "      <th>image</th>\n",
       "      <td>NaN</td>\n",
       "      <td>https://avatars.mds.yandex.net/get-autoru-vos/5243767/11c2f815ad61556aa32cccb428d17784/320x240</td>\n",
       "      <td>https://autoru.naydex.net/o9DBXQ270/5ac010hAY0/Xkcrbmf2u0IghxJHqVi5dGL7OcugpPbM0sYLDhB9YWw7CxRKU17ysuJYxu9oaUHn7ahNSrqiKwm-CQDyDolDeEoEc3J49fgWYNYBUbQC7D96sj6K9_O-mo6XT34oWVQDBTEybGZikaX4X4bwLyUujf_KICqw3ygs2UNJlXu4Og#DSD</td>\n",
       "    </tr>\n",
       "    <tr>\n",
       "      <th>model_name</th>\n",
       "      <td>NaN</td>\n",
       "      <td>MDX</td>\n",
       "      <td>OCTAVIA</td>\n",
       "    </tr>\n",
       "    <tr>\n",
       "      <th>parsing_unixtime</th>\n",
       "      <td>NaN</td>\n",
       "      <td>1630222511.0</td>\n",
       "      <td>1603226273.0</td>\n",
       "    </tr>\n",
       "    <tr>\n",
       "      <th>priceCurrency</th>\n",
       "      <td>NaN</td>\n",
       "      <td>RUB</td>\n",
       "      <td>RUB</td>\n",
       "    </tr>\n",
       "    <tr>\n",
       "      <th>sell_id</th>\n",
       "      <td>NaN</td>\n",
       "      <td>1104613191.0</td>\n",
       "      <td>1100575026.0</td>\n",
       "    </tr>\n",
       "    <tr>\n",
       "      <th>views</th>\n",
       "      <td>NaN</td>\n",
       "      <td>327.0</td>\n",
       "      <td>NaN</td>\n",
       "    </tr>\n",
       "    <tr>\n",
       "      <th>date_added</th>\n",
       "      <td>NaN</td>\n",
       "      <td>25 августа</td>\n",
       "      <td>NaN</td>\n",
       "    </tr>\n",
       "    <tr>\n",
       "      <th>super_gen</th>\n",
       "      <td>NaN</td>\n",
       "      <td>{'sale-data-attributes': {'asciiCat': 'cars', 'category': 'cars', 'engine-type': 'GASOLINE', 'image': 'https://avatars.mds.yandex.net/get-autoru-vos/5243767/11c2f815ad61556aa32cccb428d17784/1200x900', 'km-age': 216464, 'mark': 'ACURA', 'markName': 'Acura', 'model': 'MDX', 'modelName': 'MDX', 'power': 290, 'price': 1875000, 'puid2': '3136', 'puid10': '1', 'routeCategory': 'cars', 'segment': 'PREMIUM', 'state': 'used', 'transmission': 'AUTOMATIC', 'type': 'suv', 'year': 2014}}</td>\n",
       "      <td>{\"id\":\"10373605\",\"displacement\":1197,\"engine_type\":\"GASOLINE\",\"gear_type\":\"FORWARD_CONTROL\",\"transmission\":\"ROBOT\",\"power\":105,\"power_kvt\":77,\"human_name\":\"1.2 AMT (105 л.с.)\",\"acceleration\":10.5,\"clearance_min\":155,\"fuel_rate\":5}</td>\n",
       "    </tr>\n",
       "    <tr>\n",
       "      <th>region</th>\n",
       "      <td>NaN</td>\n",
       "      <td>в Санкт-Петербурге</td>\n",
       "      <td>NaN</td>\n",
       "    </tr>\n",
       "    <tr>\n",
       "      <th>model_info</th>\n",
       "      <td>NaN</td>\n",
       "      <td>NaN</td>\n",
       "      <td>{\"code\":\"OCTAVIA\",\"name\":\"Octavia\",\"ru_name\":\"Октавия\",\"morphology\":{\"gender\":\"FEMININE\"},\"nameplate\":{\"code\":\"\",\"name\":\"\",\"semantic_url\":\"\"}}</td>\n",
       "    </tr>\n",
       "    <tr>\n",
       "      <th>vendor</th>\n",
       "      <td>NaN</td>\n",
       "      <td>NaN</td>\n",
       "      <td>EUROPEAN</td>\n",
       "    </tr>\n",
       "  </tbody>\n",
       "</table>\n",
       "</div>"
      ],
      "text/plain": [
       "                                                                                                                                                                                                                                                         0  \\\n",
       "bodyType                                                                                                                                                                                                                                             Седан   \n",
       "brand                                                                                                                                                                                                                                                 AUDI   \n",
       "color                                                                                                                                                                                                                                               040001   \n",
       "fuelType                                                                                                                                                                                                                                            бензин   \n",
       "modelDate                                                                                                                                                                                                                                           1990.0   \n",
       "name                                                                                                                                                                                                                                 2.8 MT (174 л.с.) 4WD   \n",
       "numberOfDoors                                                                                                                                                                                                                                          4.0   \n",
       "productionDate                                                                                                                                                                                                                                      1991.0   \n",
       "vehicleConfiguration                                                                                                                                                                                                                  SEDAN MECHANICAL 2.8   \n",
       "vehicleTransmission                                                                                                                                                                                                                             MECHANICAL   \n",
       "engineDisplacement                                                                                                                                                                                                                                     2.8   \n",
       "enginePower                                                                                                                                                                                                                                          174.0   \n",
       "description            Машина  в приличном состоянии ,не гнилая не ржавая .По менины этим  летом коренные  и шатунные вкладыши .Масло не ест .  Цвет черный .Год выпуска 1991.Двигатель 2.8.Привод полный кватро.Все стеклоподъемники .Кожаный салон  .      \n",
       "mileage                                                                                                                                                                                                                                             350000   \n",
       "Комплектация                                                                                                                                                                                                                                   {'id': '0'}   \n",
       "Привод                                                                                                                                                                                                                                              полный   \n",
       "Руль                                                                                                                                                                                                                                                  LEFT   \n",
       "Состояние                                                                                                                                                                                                                                              NaN   \n",
       "Владельцы                                                                                                                                                                                                                                              3.0   \n",
       "ПТС                                                                                                                                                                                                                                               ORIGINAL   \n",
       "Таможня                                                                                                                                                                                                                                             ИСТИНА   \n",
       "Владение                                                                                                                                                                                                                                               NaN   \n",
       "price                                                                                                                                                                                                                                             200000.0   \n",
       "start_date                                                                                                                                                                                                                            2019-10-03T08:09:11Z   \n",
       "hidden                                                                                                                                                                                                                                                 NaN   \n",
       "model                                                                                                                                                                                                                                                  100   \n",
       "car_url                                                                                                                                                                                                                                                NaN   \n",
       "complectation_dict                                                                                                                                                                                                                                     NaN   \n",
       "equipment_dict                                                                                                                                                                                                                                         NaN   \n",
       "image                                                                                                                                                                                                                                                  NaN   \n",
       "model_name                                                                                                                                                                                                                                             NaN   \n",
       "parsing_unixtime                                                                                                                                                                                                                                       NaN   \n",
       "priceCurrency                                                                                                                                                                                                                                          NaN   \n",
       "sell_id                                                                                                                                                                                                                                                NaN   \n",
       "views                                                                                                                                                                                                                                                  NaN   \n",
       "date_added                                                                                                                                                                                                                                             NaN   \n",
       "super_gen                                                                                                                                                                                                                                              NaN   \n",
       "region                                                                                                                                                                                                                                                 NaN   \n",
       "model_info                                                                                                                                                                                                                                             NaN   \n",
       "vendor                                                                                                                                                                                                                                                 NaN   \n",
       "\n",
       "                                                                                                                                                                                                                                                                                                                                                                                                                                                                                                                                                                                                                                                                                                                                                                                                                                                                                                                                                                                                                                                                                                                                                                                                                                                                                                                               0  \\\n",
       "bodyType                                                                                                                                                                                                                                                                                                                                                                                                                                                                                                                                                                                                                                                                                                                                                                                                                                                                                                                                                                                                                                                                                                                                                                                                                                                                                                       внедорожник 5 дв.   \n",
       "brand                                                                                                                                                                                                                                                                                                                                                                                                                                                                                                                                                                                                                                                                                                                                                                                                                                                                                                                                                                                                                                                                                                                                                                                                                                                                                                                      ACURA   \n",
       "color                                                                                                                                                                                                                                                                                                                                                                                                                                                                                                                                                                                                                                                                                                                                                                                                                                                                                                                                                                                                                                                                                                                                                                                                                                                                                                                     чёрный   \n",
       "fuelType                                                                                                                                                                                                                                                                                                                                                                                                                                                                                                                                                                                                                                                                                                                                                                                                                                                                                                                                                                                                                                                                                                                                                                                                                                                                                                                  бензин   \n",
       "modelDate                                                                                                                                                                                                                                                                                                                                                                                                                                                                                                                                                                                                                                                                                                                                                                                                                                                                                                                                                                                                                                                                                                                                                                                                                                                                                                                 2013.0   \n",
       "name                                                                                                                                                                                                                                                                                                                                                                                                                                                                                                                                                                                                                                                                                                                                                                                                                                                                                                                                                                                                                                                                                                                                                                                                                                                                                                               Acura MDX III   \n",
       "numberOfDoors                                                                                                                                                                                                                                                                                                                                                                                                                                                                                                                                                                                                                                                                                                                                                                                                                                                                                                                                                                                                                                                                                                                                                                                                                                                                                                                5.0   \n",
       "productionDate                                                                                                                                                                                                                                                                                                                                                                                                                                                                                                                                                                                                                                                                                                                                                                                                                                                                                                                                                                                                                                                                                                                                                                                                                                                                                                            2014.0   \n",
       "vehicleConfiguration                                                                                                                                                                                                                                                                                                                                                                                                                                                                                                                                                                                                                                                                                                                                                                                                                                                                                                                                                                                                                                                                                                                                                                                                                                                                               ALLROAD_5_DOORS AUTOMATIC 3.5   \n",
       "vehicleTransmission                                                                                                                                                                                                                                                                                                                                                                                                                                                                                                                                                                                                                                                                                                                                                                                                                                                                                                                                                                                                                                                                                                                                                                                                                                                                                               автоматическая   \n",
       "engineDisplacement                                                                                                                                                                                                                                                                                                                                                                                                                                                                                                                                                                                                                                                                                                                                                                                                                                                                                                                                                                                                                                                                                                                                                                                                                                                                                                       3.5 LTR   \n",
       "enginePower                                                                                                                                                                                                                                                                                                                                                                                                                                                                                                                                                                                                                                                                                                                                                                                                                                                                                                                                                                                                                                                                                                                                                                                                                                                                                                              290 N12   \n",
       "description                                                                                                                                                                            На улице холодает а преимущество на приобретение Acura MDX становится все горячее Только 28 и 29 августа оно достигнет летнего максимума Не упустите возможность стать обладателем автомобиля своей мечты на финальных условиях лета Узнайте подробности прямо сейчас Предложение ограничено Действует с 28 по 29 августа 2021 года Узнайте подробности по номеру указанному в описании профиля Если возник вопрос где приобрести проверенный Acura MDX с пробегом от официального дилера сомнений нет Вам в Рольф Лахта Автомобили с пробегом К Вашим услугам Более 150 автомобилей всех марок в наличии Выгодные цены от официального дилера РОЛЬФ Лахта Проверенные автомобили с пробегом прошедшие комплексную техническую диагностику по 103 параметрам А также криминалистическую и юридическую проверку Квалифицированная помощь специалистов при выборе б у автомобиля Заключение о техническом состоянии автомобиля от официального дилера РОЛЬФ 2 года гарантии на ваш автомобиль с момента покупки СТАВКА ПО АВТОКРЕДИТУ ОТ 8 5 Мы ждем Вас каждый день с 09 00 до 22 00 по адресу Санкт Петербург ул Стародеревенская улица 3   \n",
       "mileage                                                                                                                                                                                                                                                                                                                                                                                                                                                                                                                                                                                                                                                                                                                                                                                                                                                                                                                                                                                                                                                                                                                                                                                                                                                                                                               216 464 км   \n",
       "Комплектация                                                                                                                                                                                                                                                                                                                                                                                                                                                                                                                                                                                                                                                                                                                                                                                                                                                                                                                                                                                                                                                                                                                                                                                                                                                                                                                 NaN   \n",
       "Привод                                                                                                                                                                                                                                                                                                                                                                                                                                                                                                                                                                                                                                                                                                                                                                                                                                                                                                                                                                                                                                                                                                                                                                                                                                                                                                                    полный   \n",
       "Руль                                                                                                                                                                                                                                                                                                                                                                                                                                                                                                                                                                                                                                                                                                                                                                                                                                                                                                                                                                                                                                                                                                                                                                                                                                                                                                                       Левый   \n",
       "Состояние                                                                                                                                                                                                                                                                                                                                                                                                                                                                                                                                                                                                                                                                                                                                                                                                                                                                                                                                                                                                                                                                                                                                                                                                                                                                                                     Не требует ремонта   \n",
       "Владельцы                                                                                                                                                                                                                                                                                                                                                                                                                                                                                                                                                                                                                                                                                                                                                                                                                                                                                                                                                                                                                                                                                                                                                                                                                                                                                                            2 владельца   \n",
       "ПТС                                                                                                                                                                                                                                                                                                                                                                                                                                                                                                                                                                                                                                                                                                                                                                                                                                                                                                                                                                                                                                                                                                                                                                                                                                                                                                                     Оригинал   \n",
       "Таможня                                                                                                                                                                                                                                                                                                                                                                                                                                                                                                                                                                                                                                                                                                                                                                                                                                                                                                                                                                                                                                                                                                                                                                                                                                                                                                               Растаможен   \n",
       "Владение                                                                                                                                                                                                                                                                                                                                                                                                                                                                                                                                                                                                                                                                                                                                                                                                                                                                                                                                                                                                                                                                                                                                                                                                                                                                                                                     NaN   \n",
       "price                                                                                                                                                                                                                                                                                                                                                                                                                                                                                                                                                                                                                                                                                                                                                                                                                                                                                                                                                                                                                                                                                                                                                                                                                                                                                                                  1875000.0   \n",
       "start_date                                                                                                                                                                                                                                                                                                                                                                                                                                                                                                                                                                                                                                                                                                                                                                                                                                                                                                                                                                                                                                                                                                                                                                                                                                                                                                                   NaN   \n",
       "hidden                                                                                                                                                                                                                                                                                                                                                                                                                                                                                                                                                                                                                                                                                                                                                                                                                                                                                                                                                                                                                                                                                                                                                                                                                                                                                                                       NaN   \n",
       "model                                                                                                                                                                                                                                                                                                                                                                                                                                                                                                                                                                                                                                                                                                                                                                                                                                                                                                                                                                                                                                                                                                                                                                                                                                                                                                                        NaN   \n",
       "car_url                                                                                                                                                                                                                                                                                                                                                                                                                                                                                                                                                                                                                                                                                                                                                                                                                                                                                                                                                                                                                                                                                                                                                                                                                                                            https://auto.ru/cars/used/sale/acura/mdx/1104613191-86b85321/   \n",
       "complectation_dict                                                                                                                                                                                                  ['cruise-control', 'multi-wheel', 'airbag-passenger', 'navigation', 'roof-rails', 'lock', 'electro-mirrors', 'mirrors-heat', 'leather', 'seat-memory', 'automatic-lighting-control', 'computer', 'seat-transformation', 'light-cleaner', 'airbag-side', 'electro-trunk', 'abs', 'wheel-leather', 'third-row-seats', 'climate-control-1', 'auto-mirrors', 'esp', 'usb', 'windcleaner-heat', 'audiopreparation', 'ashtray-and-cigarette-lighter', 'front-centre-armrest', 'servo', 'steering-wheel-gear-shift-paddles', 'electro-window-back', 'hatch', 'park-assist-f', 'rear-seats-heat', '19-inch-wheels', 'wheel-heat', 'condition', 'led-lights', 'music-super', 'park-assist-r', 'knee-airbag', 'airbag-driver', 'isofix', 'aux', 'electro-window-front', 'light-sensor', 'hcc', 'airbag-curtain', 'keyless-entry', 'passenger-seat-electric', 'alarm', 'paint-metallic', 'leather-gear-stick', 'ptf', 'rain-sensor', 'tyre-pressure', 'audiosystem-cd', 'migration-flag', 'front-seats-heat', 'bluetooth', 'wheel-configuration2', 'wheel-configuration1', 'immo', '12v-socket', 'third-rear-headrest']   \n",
       "equipment_dict        {'cruise-control': True, 'asr': True, 'tinted-glass': True, 'usb': True, 'e-adjustment-wheel': True, 'multi-wheel': True, 'audiopreparation': True, 'ashtray-and-cigarette-lighter': True, 'airbag-passenger': True, 'front-centre-armrest': True, 'navigation': True, 'lock': True, 'rear-camera': True, 'electro-mirrors': True, 'electro-window-back': True, 'hatch': True, 'dark-interior': True, 'park-assist-f': True, 'body-mouldings': True, 'rear-seats-heat': True, 'leather': True, 'seat-memory': True, 'wheel-heat': True, 'led-lights': True, 'electro-rear-seat': True, 'park-assist-r': True, 'knee-airbag': True, 'engine-proof': True, 'airbag-driver': True, 'aux': True, 'isofix': True, 'electro-window-front': True, 'light-sensor': True, 'hcc': True, 'automatic-lighting-control': True, 'airbag-curtain': True, 'computer': True, 'keyless-entry': True, 'seat-transformation': True, 'wheel-power': True, 'alarm': True, 'airbag-rear-side': True, 'start-button': True, 'ptf': True, 'rain-sensor': True, 'airbag-side': True, 'tyre-pressure': True, 'turnbuckle': True, 'abs': True, 'power-child-locks-rear-doors': True, 'bluetooth': True, 'front-seats-heat': True, 'wheel-leather': True, 'climate-control-2': True, 'auto-mirrors': True, 'third-rear-headrest': True}   \n",
       "image                                                                                                                                                                                                                                                                                                                                                                                                                                                                                                                                                                                                                                                                                                                                                                                                                                                                                                                                                                                                                                                                                                                                                                                                                             https://avatars.mds.yandex.net/get-autoru-vos/5243767/11c2f815ad61556aa32cccb428d17784/320x240   \n",
       "model_name                                                                                                                                                                                                                                                                                                                                                                                                                                                                                                                                                                                                                                                                                                                                                                                                                                                                                                                                                                                                                                                                                                                                                                                                                                                                                                                   MDX   \n",
       "parsing_unixtime                                                                                                                                                                                                                                                                                                                                                                                                                                                                                                                                                                                                                                                                                                                                                                                                                                                                                                                                                                                                                                                                                                                                                                                                                                                                                                    1630222511.0   \n",
       "priceCurrency                                                                                                                                                                                                                                                                                                                                                                                                                                                                                                                                                                                                                                                                                                                                                                                                                                                                                                                                                                                                                                                                                                                                                                                                                                                                                                                RUB   \n",
       "sell_id                                                                                                                                                                                                                                                                                                                                                                                                                                                                                                                                                                                                                                                                                                                                                                                                                                                                                                                                                                                                                                                                                                                                                                                                                                                                                                             1104613191.0   \n",
       "views                                                                                                                                                                                                                                                                                                                                                                                                                                                                                                                                                                                                                                                                                                                                                                                                                                                                                                                                                                                                                                                                                                                                                                                                                                                                                                                      327.0   \n",
       "date_added                                                                                                                                                                                                                                                                                                                                                                                                                                                                                                                                                                                                                                                                                                                                                                                                                                                                                                                                                                                                                                                                                                                                                                                                                                                                                                            25 августа   \n",
       "super_gen                                                                                                                                                                                                                                                                                                                                                                                                                                                                                                                                                                                                                                                                                                                                                                                                                        {'sale-data-attributes': {'asciiCat': 'cars', 'category': 'cars', 'engine-type': 'GASOLINE', 'image': 'https://avatars.mds.yandex.net/get-autoru-vos/5243767/11c2f815ad61556aa32cccb428d17784/1200x900', 'km-age': 216464, 'mark': 'ACURA', 'markName': 'Acura', 'model': 'MDX', 'modelName': 'MDX', 'power': 290, 'price': 1875000, 'puid2': '3136', 'puid10': '1', 'routeCategory': 'cars', 'segment': 'PREMIUM', 'state': 'used', 'transmission': 'AUTOMATIC', 'type': 'suv', 'year': 2014}}   \n",
       "region                                                                                                                                                                                                                                                                                                                                                                                                                                                                                                                                                                                                                                                                                                                                                                                                                                                                                                                                                                                                                                                                                                                                                                                                                                                                                                        в Санкт-Петербурге   \n",
       "model_info                                                                                                                                                                                                                                                                                                                                                                                                                                                                                                                                                                                                                                                                                                                                                                                                                                                                                                                                                                                                                                                                                                                                                                                                                                                                                                                   NaN   \n",
       "vendor                                                                                                                                                                                                                                                                                                                                                                                                                                                                                                                                                                                                                                                                                                                                                                                                                                                                                                                                                                                                                                                                                                                                                                                                                                                                                                                       NaN   \n",
       "\n",
       "                                                                                                                                                                                                                                                                                                                                                                                                                                                                                                                                                                                                                                                                                                                                                                                                                                                                                                                                                                                                                                                                               0  \n",
       "bodyType                                                                                                                                                                                                                                                                                                                                                                                                                                                                                                                                                                                                                                                                                                                                                                                                                                                                                                                                                                                                                                                                 лифтбек  \n",
       "brand                                                                                                                                                                                                                                                                                                                                                                                                                                                                                                                                                                                                                                                                                                                                                                                                                                                                                                                                                                                                                                                                      SKODA  \n",
       "color                                                                                                                                                                                                                                                                                                                                                                                                                                                                                                                                                                                                                                                                                                                                                                                                                                                                                                                                                                                                                                                                      синий  \n",
       "fuelType                                                                                                                                                                                                                                                                                                                                                                                                                                                                                                                                                                                                                                                                                                                                                                                                                                                                                                                                                                                                                                                                  бензин  \n",
       "modelDate                                                                                                                                                                                                                                                                                                                                                                                                                                                                                                                                                                                                                                                                                                                                                                                                                                                                                                                                                                                                                                                                 2013.0  \n",
       "name                                                                                                                                                                                                                                                                                                                                                                                                                                                                                                                                                                                                                                                                                                                                                                                                                                                                                                                                                                                                                                                          1.2 AMT (105 л.с.)  \n",
       "numberOfDoors                                                                                                                                                                                                                                                                                                                                                                                                                                                                                                                                                                                                                                                                                                                                                                                                                                                                                                                                                                                                                                                                5.0  \n",
       "productionDate                                                                                                                                                                                                                                                                                                                                                                                                                                                                                                                                                                                                                                                                                                                                                                                                                                                                                                                                                                                                                                                            2014.0  \n",
       "vehicleConfiguration                                                                                                                                                                                                                                                                                                                                                                                                                                                                                                                                                                                                                                                                                                                                                                                                                                                                                                                                                                                                                                          LIFTBACK ROBOT 1.2  \n",
       "vehicleTransmission                                                                                                                                                                                                                                                                                                                                                                                                                                                                                                                                                                                                                                                                                                                                                                                                                                                                                                                                                                                                                                             роботизированная  \n",
       "engineDisplacement                                                                                                                                                                                                                                                                                                                                                                                                                                                                                                                                                                                                                                                                                                                                                                                                                                                                                                                                                                                                                                                       1.2 LTR  \n",
       "enginePower                                                                                                                                                                                                                                                                                                                                                                                                                                                                                                                                                                                                                                                                                                                                                                                                                                                                                                                                                                                                                                                              105 N12  \n",
       "description           Все автомобили, представленные в продаже, проходят тщательную проверку по более 40 параметрам. Предоставляем гарантию юридической чистоты, а так же год технической гарантии на двигатель и КПП. Бесплатный тест-драйв. Возможно оформление автомобиля в кредит!\\n\\nПреимущества автокредитования:\\n— Первоначальный взнос от 0%;\\n— Более 30 кредитных программ;\\n— Процентная ставка от 6% годовых;\\n— Срок кредита от 6 месяцев до 7 лет;\\n— Оформление кредита по двум документам;\\n— Досрочное погашение без штрафов и комиссий;\\n— Сумма кредита до 2 млн рублей;\\n— Оформление КАСКО – по желанию;\\n— Без справок и поручителей.\\n\\nСотрудничаем с 12 аккредитованными и сертифицированными банками РФ, среднее время ожидания решения банка 20–30 минут.\\n\\nПри покупке автомобиля по программе «Trade-in – выгодный обмен» или в кредит, получите дополнительную скидку до 80 000 рублей на данный автомобиль!\\n\\nЗаписаться на тест-драйв, а так же получить подробную информацию можно у специалистов автоцентра по указанному номеру телефона.  \n",
       "mileage                                                                                                                                                                                                                                                                                                                                                                                                                                                                                                                                                                                                                                                                                                                                                                                                                                                                                                                                                                                                                                                                    74000  \n",
       "Комплектация                                                                                                                                                                                                                                                                                                                                                                                                                                                                                                                                                                                                                                                                                                                                                                                                                                                                                                                                                                                                                                                                 NaN  \n",
       "Привод                                                                                                                                                                                                                                                                                                                                                                                                                                                                                                                                                                                                                                                                                                                                                                                                                                                                                                                                                                                                                                                                  передний  \n",
       "Руль                                                                                                                                                                                                                                                                                                                                                                                                                                                                                                                                                                                                                                                                                                                                                                                                                                                                                                                                                                                                                                                                       Левый  \n",
       "Состояние                                                                                                                                                                                                                                                                                                                                                                                                                                                                                                                                                                                                                                                                                                                                                                                                                                                                                                                                                                                                                                                     Не требует ремонта  \n",
       "Владельцы                                                                                                                                                                                                                                                                                                                                                                                                                                                                                                                                                                                                                                                                                                                                                                                                                                                                                                                                                                                                                                                            3 или более  \n",
       "ПТС                                                                                                                                                                                                                                                                                                                                                                                                                                                                                                                                                                                                                                                                                                                                                                                                                                                                                                                                                                                                                                                                     Оригинал  \n",
       "Таможня                                                                                                                                                                                                                                                                                                                                                                                                                                                                                                                                                                                                                                                                                                                                                                                                                                                                                                                                                                                                                                                               Растаможен  \n",
       "Владение                                                                                                                                                                                                                                                                                                                                                                                                                                                                                                                                                                                                                                                                                                                                                                                                                                                                                                                                                                                                                                                                     NaN  \n",
       "price                                                                                                                                                                                                                                                                                                                                                                                                                                                                                                                                                                                                                                                                                                                                                                                                                                                                                                                                                                                                                                                                        NaN  \n",
       "start_date                                                                                                                                                                                                                                                                                                                                                                                                                                                                                                                                                                                                                                                                                                                                                                                                                                                                                                                                                                                                                                                                   NaN  \n",
       "hidden                                                                                                                                                                                                                                                                                                                                                                                                                                                                                                                                                                                                                                                                                                                                                                                                                                                                                                                                                                                                                                                                       NaN  \n",
       "model                                                                                                                                                                                                                                                                                                                                                                                                                                                                                                                                                                                                                                                                                                                                                                                                                                                                                                                                                                                                                                                                        NaN  \n",
       "car_url                                                                                                                                                                                                                                                                                                                                                                                                                                                                                                                                                                                                                                                                                                                                                                                                                                                                                                                                                                                                        https://auto.ru/cars/used/sale/skoda/octavia/1100575026-c780dc09/  \n",
       "complectation_dict                                                                                                                                                                                                                                                                                                                                                                                                                                                                                                                                                                                                                                                                                                                                                                                                                                                                                                                                                                                                                                                           NaN  \n",
       "equipment_dict                                                                                                                                                                                                                                                                          {\"engine-proof\":true,\"tinted-glass\":true,\"airbag-driver\":true,\"aux\":true,\"isofix\":true,\"electro-window-front\":true,\"ashtray-and-cigarette-lighter\":true,\"airbag-passenger\":true,\"computer\":true,\"high-beam-assist\":true,\"seat-transformation\":true,\"isofix-front\":true,\"wheel-power\":true,\"alarm\":true,\"lock\":true,\"door-sill-panel\":true,\"fabric-seats\":true,\"electro-mirrors\":true,\"airbag-rear-side\":true,\"electro-window-back\":true,\"steel-wheels\":true,\"ptf\":true,\"16-inch-wheels\":true,\"rain-sensor\":true,\"airbag-side\":true,\"audiosystem-cd\":true,\"dark-interior\":true,\"cooling-box\":true,\"condition\":true,\"abs\":true,\"power-child-locks-rear-doors\":true,\"front-seats-heat\":true,\"wheel-configuration2\":true,\"wheel-configuration1\":true,\"12v-socket\":true,\"park-assist-r\":true}  \n",
       "image                                                                                                                                                                                                                                                                                                                                                                                                                                                                                                                                                                                                                                                                                                                                                                                                                                              https://autoru.naydex.net/o9DBXQ270/5ac010hAY0/Xkcrbmf2u0IghxJHqVi5dGL7OcugpPbM0sYLDhB9YWw7CxRKU17ysuJYxu9oaUHn7ahNSrqiKwm-CQDyDolDeEoEc3J49fgWYNYBUbQC7D96sj6K9_O-mo6XT34oWVQDBTEybGZikaX4X4bwLyUujf_KICqw3ygs2UNJlXu4Og#DSD  \n",
       "model_name                                                                                                                                                                                                                                                                                                                                                                                                                                                                                                                                                                                                                                                                                                                                                                                                                                                                                                                                                                                                                                                               OCTAVIA  \n",
       "parsing_unixtime                                                                                                                                                                                                                                                                                                                                                                                                                                                                                                                                                                                                                                                                                                                                                                                                                                                                                                                                                                                                                                                    1603226273.0  \n",
       "priceCurrency                                                                                                                                                                                                                                                                                                                                                                                                                                                                                                                                                                                                                                                                                                                                                                                                                                                                                                                                                                                                                                                                RUB  \n",
       "sell_id                                                                                                                                                                                                                                                                                                                                                                                                                                                                                                                                                                                                                                                                                                                                                                                                                                                                                                                                                                                                                                                             1100575026.0  \n",
       "views                                                                                                                                                                                                                                                                                                                                                                                                                                                                                                                                                                                                                                                                                                                                                                                                                                                                                                                                                                                                                                                                        NaN  \n",
       "date_added                                                                                                                                                                                                                                                                                                                                                                                                                                                                                                                                                                                                                                                                                                                                                                                                                                                                                                                                                                                                                                                                   NaN  \n",
       "super_gen                                                                                                                                                                                                                                                                                                                                                                                                                                                                                                                                                                                                                                                                                                                                                                                                                                 {\"id\":\"10373605\",\"displacement\":1197,\"engine_type\":\"GASOLINE\",\"gear_type\":\"FORWARD_CONTROL\",\"transmission\":\"ROBOT\",\"power\":105,\"power_kvt\":77,\"human_name\":\"1.2 AMT (105 л.с.)\",\"acceleration\":10.5,\"clearance_min\":155,\"fuel_rate\":5}  \n",
       "region                                                                                                                                                                                                                                                                                                                                                                                                                                                                                                                                                                                                                                                                                                                                                                                                                                                                                                                                                                                                                                                                       NaN  \n",
       "model_info                                                                                                                                                                                                                                                                                                                                                                                                                                                                                                                                                                                                                                                                                                                                                                                                                                                                                                                        {\"code\":\"OCTAVIA\",\"name\":\"Octavia\",\"ru_name\":\"Октавия\",\"morphology\":{\"gender\":\"FEMININE\"},\"nameplate\":{\"code\":\"\",\"name\":\"\",\"semantic_url\":\"\"}}  \n",
       "vendor                                                                                                                                                                                                                                                                                                                                                                                                                                                                                                                                                                                                                                                                                                                                                                                                                                                                                                                                                                                                                                                                  EUROPEAN  "
      ]
     },
     "execution_count": 3,
     "metadata": {},
     "output_type": "execute_result"
    }
   ],
   "source": [
    "#dir_ = '../input/car-predict/'\n",
    "dir_ = './'\n",
    "df_train_2021 = pd.read_csv(dir_+'train_2021.csv', sep=';', encoding='utf-8')\n",
    "df_train_2020 = pd.read_csv(dir_+'train_2020.csv', sep=';', encoding='utf-8', index_col=0)\n",
    "df_test = pd.read_csv(dir_+'test.csv', sep=';', encoding='utf-8', index_col=0)\n",
    "\n",
    "#сравним формат 3х наборов на соответствие друг другу\n",
    "df_train_2020.iloc[0:1].append(df_train_2021.iloc[0:1]).append(df_test.iloc[0:1]).T"
   ]
  },
  {
   "cell_type": "markdown",
   "metadata": {},
   "source": [
    "препроцессенг обещает быть долгим..."
   ]
  },
  {
   "cell_type": "code",
   "execution_count": 4,
   "metadata": {},
   "outputs": [
    {
     "name": "stderr",
     "output_type": "stream",
     "text": [
      "C:\\Users\\leado\\AppData\\Local\\Temp/ipykernel_9740/2181232130.py:2: UserWarning: Boolean Series key will be reindexed to match DataFrame index.\n",
      "  df_train_2021 = df_train_2021[(df_train_2020.mileage>0) & (df_train_2021.price > 0) & (df_train_2021.priceCurrency == 'RUB')]\n"
     ]
    }
   ],
   "source": [
    "#обеспечить качество данных!\n",
    "df_train_2021 = df_train_2021[(df_train_2020.mileage>0) & (df_train_2021.price > 0) & (df_train_2021.priceCurrency == 'RUB')]\n",
    "df_train_2020 = df_train_2020[(df_train_2020.mileage>0) & (df_train_2020.price>0)] \n",
    "#новые авто нас не интересуют, бесплатные тоже"
   ]
  },
  {
   "cell_type": "code",
   "execution_count": 5,
   "metadata": {},
   "outputs": [],
   "source": [
    "#формат на протяжении 2020 и 2021 менялся. Приведем имена столбцов к единообразию\n",
    "df_train_2020['complectation_dict'] = df_train_2020['Комплектация'] \n",
    "df_train_2020['date_added'] = df_train_2020['start_date']\n",
    "df_train_2020['model_name'] = df_train_2020['model']\n",
    "\n",
    "df_train_2020 = df_train_2020.drop(['Комплектация', 'start_date', 'model'], axis=1)"
   ]
  },
  {
   "cell_type": "code",
   "execution_count": 6,
   "metadata": {},
   "outputs": [
    {
     "name": "stdout",
     "output_type": "stream",
     "text": [
      "есть в 20, нет в 21: ['hidden']\n",
      "есть в 20, нет в test: ['date_added', 'price', 'hidden']\n",
      "есть в 21, нет в 20 ['equipment_dict', 'views', 'car_url', 'parsing_unixtime', 'priceCurrency', 'region', 'super_gen', 'image', 'sell_id']\n",
      "есть в 21, нет в test ['region', 'date_added', 'price', 'views']\n",
      "есть в test, нет в 20 ['equipment_dict', 'car_url', 'parsing_unixtime', 'priceCurrency', 'super_gen', 'image', 'sell_id', 'vendor', 'model_info']\n",
      "есть в test, нет в 21 ['vendor', 'model_info']\n"
     ]
    }
   ],
   "source": [
    "in21not20 = list(set(df_train_2021.columns)-set(df_train_2020.columns))\n",
    "in20not21 = list(set(df_train_2020.columns)-set(df_train_2021.columns))\n",
    "in20nottest = list(set(df_train_2020.columns)-set(df_test.columns))\n",
    "in21nottest = list(set(df_train_2021.columns)-set(df_test.columns))\n",
    "intestnot20 = list(set(df_test.columns)-set(df_train_2020.columns))\n",
    "intestnot21 = list(set(df_test.columns)-set(df_train_2021.columns))\n",
    "print('есть в 20, нет в 21:', in20not21)\n",
    "print('есть в 20, нет в test:', in20nottest)\n",
    "print('есть в 21, нет в 20', in21not20)\n",
    "print('есть в 21, нет в test', in21nottest)\n",
    "print('есть в test, нет в 20', intestnot20)\n",
    "print('есть в test, нет в 21', intestnot21)"
   ]
  },
  {
   "cell_type": "code",
   "execution_count": 7,
   "metadata": {},
   "outputs": [],
   "source": [
    "#эти поля только в трейне 2020, а в других наборах отстствуют. Удаляем\n",
    "\n",
    "df_train_2020 = df_train_2020.drop(in20not21, axis=1)\n",
    "df_train_2020 = df_train_2020.drop(['name'], axis=1) #поле не содержит инфы, которая характерна для 2021 и теста, также в ней избыточные данные, уже присутствующие в мощности, типе привода и объеме"
   ]
  },
  {
   "cell_type": "code",
   "execution_count": 8,
   "metadata": {},
   "outputs": [],
   "source": [
    "df_train_2021 = df_train_2021.drop([\n",
    "    'views', 'image', 'parsing_unixtime', 'priceCurrency', 'car_url', 'region', #нет ни в 2020, ни в тесте, и смысла не несет\n",
    "    'name', #нет ни в 2020, ни в тесте, там в поле с этим именем другие по смыслу данные\n",
    "    'super_gen', #разный формат и семантика\n",
    "    'sell_id', #для трэйна не нужно\n",
    "], axis=1)"
   ]
  },
  {
   "cell_type": "code",
   "execution_count": 9,
   "metadata": {},
   "outputs": [],
   "source": [
    "# формат фичи в 2021 и в test разный. в 2020 - отсутствует.\n",
    "# семантика повторяет флаги equipmentdict, избыточна. \n",
    "# проблемна из-за разницы форматов. вместо нее оставим equipmentdict - не страдает несовпадением форматов\n",
    "# => complectation_dict можно удалить\n",
    "df_train_2020 = df_train_2020.drop(['complectation_dict'], axis=1)\n",
    "df_train_2021 = df_train_2021.drop(['complectation_dict'], axis=1)\n",
    "df_test = df_test.drop(['complectation_dict'], axis=1)"
   ]
  },
  {
   "cell_type": "code",
   "execution_count": 10,
   "metadata": {},
   "outputs": [],
   "source": [
    "#нет в тестe, нет смысла\n",
    "df_train_2020 = df_train_2020.drop(['date_added'], axis=1)\n",
    "df_train_2021 = df_train_2021.drop(['date_added'], axis=1)"
   ]
  },
  {
   "cell_type": "code",
   "execution_count": 11,
   "metadata": {},
   "outputs": [],
   "source": [
    "df_test = df_test.drop([\n",
    "    'vendor', #нет в трэйнах - удаляем\n",
    "    'image',  'parsing_unixtime', 'priceCurrency', 'car_url', 'model_info', #нет смысла - удаляем\n",
    "    'name', # есть только в 2020, а в 2021 там уже другой смысл  - удаляем\n",
    "    #'sell_id', пригодится для submission result - оставим пока\n",
    "    'super_gen', #разный формат и семантика\n",
    "            ], axis=1)\n"
   ]
  },
  {
   "cell_type": "code",
   "execution_count": 12,
   "metadata": {},
   "outputs": [
    {
     "name": "stdout",
     "output_type": "stream",
     "text": [
      "['equipment_dict']\n",
      "['price']\n",
      "[]\n",
      "['price']\n",
      "['sell_id']\n",
      "['equipment_dict', 'sell_id']\n"
     ]
    },
    {
     "data": {
      "text/html": [
       "<div>\n",
       "<style scoped>\n",
       "    .dataframe tbody tr th:only-of-type {\n",
       "        vertical-align: middle;\n",
       "    }\n",
       "\n",
       "    .dataframe tbody tr th {\n",
       "        vertical-align: top;\n",
       "    }\n",
       "\n",
       "    .dataframe thead th {\n",
       "        text-align: right;\n",
       "    }\n",
       "</style>\n",
       "<table border=\"1\" class=\"dataframe\">\n",
       "  <thead>\n",
       "    <tr style=\"text-align: right;\">\n",
       "      <th></th>\n",
       "      <th>0</th>\n",
       "      <th>0</th>\n",
       "      <th>0</th>\n",
       "    </tr>\n",
       "  </thead>\n",
       "  <tbody>\n",
       "    <tr>\n",
       "      <th>bodyType</th>\n",
       "      <td>Седан</td>\n",
       "      <td>внедорожник 5 дв.</td>\n",
       "      <td>лифтбек</td>\n",
       "    </tr>\n",
       "    <tr>\n",
       "      <th>brand</th>\n",
       "      <td>AUDI</td>\n",
       "      <td>ACURA</td>\n",
       "      <td>SKODA</td>\n",
       "    </tr>\n",
       "    <tr>\n",
       "      <th>color</th>\n",
       "      <td>040001</td>\n",
       "      <td>чёрный</td>\n",
       "      <td>синий</td>\n",
       "    </tr>\n",
       "    <tr>\n",
       "      <th>fuelType</th>\n",
       "      <td>бензин</td>\n",
       "      <td>бензин</td>\n",
       "      <td>бензин</td>\n",
       "    </tr>\n",
       "    <tr>\n",
       "      <th>modelDate</th>\n",
       "      <td>1990.0</td>\n",
       "      <td>2013.0</td>\n",
       "      <td>2013.0</td>\n",
       "    </tr>\n",
       "    <tr>\n",
       "      <th>numberOfDoors</th>\n",
       "      <td>4.0</td>\n",
       "      <td>5.0</td>\n",
       "      <td>5.0</td>\n",
       "    </tr>\n",
       "    <tr>\n",
       "      <th>productionDate</th>\n",
       "      <td>1991.0</td>\n",
       "      <td>2014.0</td>\n",
       "      <td>2014.0</td>\n",
       "    </tr>\n",
       "    <tr>\n",
       "      <th>vehicleConfiguration</th>\n",
       "      <td>SEDAN MECHANICAL 2.8</td>\n",
       "      <td>ALLROAD_5_DOORS AUTOMATIC 3.5</td>\n",
       "      <td>LIFTBACK ROBOT 1.2</td>\n",
       "    </tr>\n",
       "    <tr>\n",
       "      <th>vehicleTransmission</th>\n",
       "      <td>MECHANICAL</td>\n",
       "      <td>автоматическая</td>\n",
       "      <td>роботизированная</td>\n",
       "    </tr>\n",
       "    <tr>\n",
       "      <th>engineDisplacement</th>\n",
       "      <td>2.8</td>\n",
       "      <td>3.5 LTR</td>\n",
       "      <td>1.2 LTR</td>\n",
       "    </tr>\n",
       "    <tr>\n",
       "      <th>enginePower</th>\n",
       "      <td>174.0</td>\n",
       "      <td>290 N12</td>\n",
       "      <td>105 N12</td>\n",
       "    </tr>\n",
       "    <tr>\n",
       "      <th>description</th>\n",
       "      <td>Машина  в приличном состоянии ,не гнилая не ржавая .По менины этим  летом коренные  и шатунные вкладыши .Масло не ест .  Цвет черный .Год выпуска 1991.Двигатель 2.8.Привод полный кватро.Все стеклоподъемники .Кожаный салон  .</td>\n",
       "      <td>На улице холодает а преимущество на приобретение Acura MDX становится все горячее Только 28 и 29 августа оно достигнет летнего максимума Не упустите возможность стать обладателем автомобиля своей мечты на финальных условиях лета Узнайте подробности прямо сейчас Предложение ограничено Действует с 28 по 29 августа 2021 года Узнайте подробности по номеру указанному в описании профиля Если возник вопрос где приобрести проверенный Acura MDX с пробегом от официального дилера сомнений нет Вам в Рольф Лахта Автомобили с пробегом К Вашим услугам Более 150 автомобилей всех марок в наличии Выгодные цены от официального дилера РОЛЬФ Лахта Проверенные автомобили с пробегом прошедшие комплексную техническую диагностику по 103 параметрам А также криминалистическую и юридическую проверку Квалифицированная помощь специалистов при выборе б у автомобиля Заключение о техническом состоянии автомобиля от официального дилера РОЛЬФ 2 года гарантии на ваш автомобиль с момента покупки СТАВКА ПО АВТОКРЕДИТУ ОТ 8 5 Мы ждем Вас каждый день с 09 00 до 22 00 по адресу Санкт Петербург ул Стародеревенская улица 3</td>\n",
       "      <td>Все автомобили, представленные в продаже, проходят тщательную проверку по более 40 параметрам. Предоставляем гарантию юридической чистоты, а так же год технической гарантии на двигатель и КПП. Бесплатный тест-драйв. Возможно оформление автомобиля в кредит!\\n\\nПреимущества автокредитования:\\n— Первоначальный взнос от 0%;\\n— Более 30 кредитных программ;\\n— Процентная ставка от 6% годовых;\\n— Срок кредита от 6 месяцев до 7 лет;\\n— Оформление кредита по двум документам;\\n— Досрочное погашение без штрафов и комиссий;\\n— Сумма кредита до 2 млн рублей;\\n— Оформление КАСКО – по желанию;\\n— Без справок и поручителей.\\n\\nСотрудничаем с 12 аккредитованными и сертифицированными банками РФ, среднее время ожидания решения банка 20–30 минут.\\n\\nПри покупке автомобиля по программе «Trade-in – выгодный обмен» или в кредит, получите дополнительную скидку до 80 000 рублей на данный автомобиль!\\n\\nЗаписаться на тест-драйв, а так же получить подробную информацию можно у специалистов автоцентра по указанному номеру телефона.</td>\n",
       "    </tr>\n",
       "    <tr>\n",
       "      <th>mileage</th>\n",
       "      <td>350000</td>\n",
       "      <td>216 464 км</td>\n",
       "      <td>74000</td>\n",
       "    </tr>\n",
       "    <tr>\n",
       "      <th>Привод</th>\n",
       "      <td>полный</td>\n",
       "      <td>полный</td>\n",
       "      <td>передний</td>\n",
       "    </tr>\n",
       "    <tr>\n",
       "      <th>Руль</th>\n",
       "      <td>LEFT</td>\n",
       "      <td>Левый</td>\n",
       "      <td>Левый</td>\n",
       "    </tr>\n",
       "    <tr>\n",
       "      <th>Состояние</th>\n",
       "      <td>NaN</td>\n",
       "      <td>Не требует ремонта</td>\n",
       "      <td>Не требует ремонта</td>\n",
       "    </tr>\n",
       "    <tr>\n",
       "      <th>Владельцы</th>\n",
       "      <td>3.0</td>\n",
       "      <td>2 владельца</td>\n",
       "      <td>3 или более</td>\n",
       "    </tr>\n",
       "    <tr>\n",
       "      <th>ПТС</th>\n",
       "      <td>ORIGINAL</td>\n",
       "      <td>Оригинал</td>\n",
       "      <td>Оригинал</td>\n",
       "    </tr>\n",
       "    <tr>\n",
       "      <th>Таможня</th>\n",
       "      <td>ИСТИНА</td>\n",
       "      <td>Растаможен</td>\n",
       "      <td>Растаможен</td>\n",
       "    </tr>\n",
       "    <tr>\n",
       "      <th>Владение</th>\n",
       "      <td>NaN</td>\n",
       "      <td>NaN</td>\n",
       "      <td>NaN</td>\n",
       "    </tr>\n",
       "    <tr>\n",
       "      <th>price</th>\n",
       "      <td>200000.0</td>\n",
       "      <td>1875000.0</td>\n",
       "      <td>NaN</td>\n",
       "    </tr>\n",
       "    <tr>\n",
       "      <th>model_name</th>\n",
       "      <td>100</td>\n",
       "      <td>MDX</td>\n",
       "      <td>OCTAVIA</td>\n",
       "    </tr>\n",
       "    <tr>\n",
       "      <th>equipment_dict</th>\n",
       "      <td>NaN</td>\n",
       "      <td>{'cruise-control': True, 'asr': True, 'tinted-glass': True, 'usb': True, 'e-adjustment-wheel': True, 'multi-wheel': True, 'audiopreparation': True, 'ashtray-and-cigarette-lighter': True, 'airbag-passenger': True, 'front-centre-armrest': True, 'navigation': True, 'lock': True, 'rear-camera': True, 'electro-mirrors': True, 'electro-window-back': True, 'hatch': True, 'dark-interior': True, 'park-assist-f': True, 'body-mouldings': True, 'rear-seats-heat': True, 'leather': True, 'seat-memory': True, 'wheel-heat': True, 'led-lights': True, 'electro-rear-seat': True, 'park-assist-r': True, 'knee-airbag': True, 'engine-proof': True, 'airbag-driver': True, 'aux': True, 'isofix': True, 'electro-window-front': True, 'light-sensor': True, 'hcc': True, 'automatic-lighting-control': True, 'airbag-curtain': True, 'computer': True, 'keyless-entry': True, 'seat-transformation': True, 'wheel-power': True, 'alarm': True, 'airbag-rear-side': True, 'start-button': True, 'ptf': True, 'rain-sensor': True, 'airbag-side': True, 'tyre-pressure': True, 'turnbuckle': True, 'abs': True, 'power-child-locks-rear-doors': True, 'bluetooth': True, 'front-seats-heat': True, 'wheel-leather': True, 'climate-control-2': True, 'auto-mirrors': True, 'third-rear-headrest': True}</td>\n",
       "      <td>{\"engine-proof\":true,\"tinted-glass\":true,\"airbag-driver\":true,\"aux\":true,\"isofix\":true,\"electro-window-front\":true,\"ashtray-and-cigarette-lighter\":true,\"airbag-passenger\":true,\"computer\":true,\"high-beam-assist\":true,\"seat-transformation\":true,\"isofix-front\":true,\"wheel-power\":true,\"alarm\":true,\"lock\":true,\"door-sill-panel\":true,\"fabric-seats\":true,\"electro-mirrors\":true,\"airbag-rear-side\":true,\"electro-window-back\":true,\"steel-wheels\":true,\"ptf\":true,\"16-inch-wheels\":true,\"rain-sensor\":true,\"airbag-side\":true,\"audiosystem-cd\":true,\"dark-interior\":true,\"cooling-box\":true,\"condition\":true,\"abs\":true,\"power-child-locks-rear-doors\":true,\"front-seats-heat\":true,\"wheel-configuration2\":true,\"wheel-configuration1\":true,\"12v-socket\":true,\"park-assist-r\":true}</td>\n",
       "    </tr>\n",
       "    <tr>\n",
       "      <th>sell_id</th>\n",
       "      <td>NaN</td>\n",
       "      <td>NaN</td>\n",
       "      <td>1100575026.0</td>\n",
       "    </tr>\n",
       "  </tbody>\n",
       "</table>\n",
       "</div>"
      ],
      "text/plain": [
       "                                                                                                                                                                                                                                                         0  \\\n",
       "bodyType                                                                                                                                                                                                                                             Седан   \n",
       "brand                                                                                                                                                                                                                                                 AUDI   \n",
       "color                                                                                                                                                                                                                                               040001   \n",
       "fuelType                                                                                                                                                                                                                                            бензин   \n",
       "modelDate                                                                                                                                                                                                                                           1990.0   \n",
       "numberOfDoors                                                                                                                                                                                                                                          4.0   \n",
       "productionDate                                                                                                                                                                                                                                      1991.0   \n",
       "vehicleConfiguration                                                                                                                                                                                                                  SEDAN MECHANICAL 2.8   \n",
       "vehicleTransmission                                                                                                                                                                                                                             MECHANICAL   \n",
       "engineDisplacement                                                                                                                                                                                                                                     2.8   \n",
       "enginePower                                                                                                                                                                                                                                          174.0   \n",
       "description            Машина  в приличном состоянии ,не гнилая не ржавая .По менины этим  летом коренные  и шатунные вкладыши .Масло не ест .  Цвет черный .Год выпуска 1991.Двигатель 2.8.Привод полный кватро.Все стеклоподъемники .Кожаный салон  .      \n",
       "mileage                                                                                                                                                                                                                                             350000   \n",
       "Привод                                                                                                                                                                                                                                              полный   \n",
       "Руль                                                                                                                                                                                                                                                  LEFT   \n",
       "Состояние                                                                                                                                                                                                                                              NaN   \n",
       "Владельцы                                                                                                                                                                                                                                              3.0   \n",
       "ПТС                                                                                                                                                                                                                                               ORIGINAL   \n",
       "Таможня                                                                                                                                                                                                                                             ИСТИНА   \n",
       "Владение                                                                                                                                                                                                                                               NaN   \n",
       "price                                                                                                                                                                                                                                             200000.0   \n",
       "model_name                                                                                                                                                                                                                                             100   \n",
       "equipment_dict                                                                                                                                                                                                                                         NaN   \n",
       "sell_id                                                                                                                                                                                                                                                NaN   \n",
       "\n",
       "                                                                                                                                                                                                                                                                                                                                                                                                                                                                                                                                                                                                                                                                                                                                                                                                                                                                                                                                                                                                                                                                                                                                                                                                                                                                                                                               0  \\\n",
       "bodyType                                                                                                                                                                                                                                                                                                                                                                                                                                                                                                                                                                                                                                                                                                                                                                                                                                                                                                                                                                                                                                                                                                                                                                                                                                                                                                       внедорожник 5 дв.   \n",
       "brand                                                                                                                                                                                                                                                                                                                                                                                                                                                                                                                                                                                                                                                                                                                                                                                                                                                                                                                                                                                                                                                                                                                                                                                                                                                                                                                      ACURA   \n",
       "color                                                                                                                                                                                                                                                                                                                                                                                                                                                                                                                                                                                                                                                                                                                                                                                                                                                                                                                                                                                                                                                                                                                                                                                                                                                                                                                     чёрный   \n",
       "fuelType                                                                                                                                                                                                                                                                                                                                                                                                                                                                                                                                                                                                                                                                                                                                                                                                                                                                                                                                                                                                                                                                                                                                                                                                                                                                                                                  бензин   \n",
       "modelDate                                                                                                                                                                                                                                                                                                                                                                                                                                                                                                                                                                                                                                                                                                                                                                                                                                                                                                                                                                                                                                                                                                                                                                                                                                                                                                                 2013.0   \n",
       "numberOfDoors                                                                                                                                                                                                                                                                                                                                                                                                                                                                                                                                                                                                                                                                                                                                                                                                                                                                                                                                                                                                                                                                                                                                                                                                                                                                                                                5.0   \n",
       "productionDate                                                                                                                                                                                                                                                                                                                                                                                                                                                                                                                                                                                                                                                                                                                                                                                                                                                                                                                                                                                                                                                                                                                                                                                                                                                                                                            2014.0   \n",
       "vehicleConfiguration                                                                                                                                                                                                                                                                                                                                                                                                                                                                                                                                                                                                                                                                                                                                                                                                                                                                                                                                                                                                                                                                                                                                                                                                                                                                               ALLROAD_5_DOORS AUTOMATIC 3.5   \n",
       "vehicleTransmission                                                                                                                                                                                                                                                                                                                                                                                                                                                                                                                                                                                                                                                                                                                                                                                                                                                                                                                                                                                                                                                                                                                                                                                                                                                                                               автоматическая   \n",
       "engineDisplacement                                                                                                                                                                                                                                                                                                                                                                                                                                                                                                                                                                                                                                                                                                                                                                                                                                                                                                                                                                                                                                                                                                                                                                                                                                                                                                       3.5 LTR   \n",
       "enginePower                                                                                                                                                                                                                                                                                                                                                                                                                                                                                                                                                                                                                                                                                                                                                                                                                                                                                                                                                                                                                                                                                                                                                                                                                                                                                                              290 N12   \n",
       "description                                                                                                                                                                            На улице холодает а преимущество на приобретение Acura MDX становится все горячее Только 28 и 29 августа оно достигнет летнего максимума Не упустите возможность стать обладателем автомобиля своей мечты на финальных условиях лета Узнайте подробности прямо сейчас Предложение ограничено Действует с 28 по 29 августа 2021 года Узнайте подробности по номеру указанному в описании профиля Если возник вопрос где приобрести проверенный Acura MDX с пробегом от официального дилера сомнений нет Вам в Рольф Лахта Автомобили с пробегом К Вашим услугам Более 150 автомобилей всех марок в наличии Выгодные цены от официального дилера РОЛЬФ Лахта Проверенные автомобили с пробегом прошедшие комплексную техническую диагностику по 103 параметрам А также криминалистическую и юридическую проверку Квалифицированная помощь специалистов при выборе б у автомобиля Заключение о техническом состоянии автомобиля от официального дилера РОЛЬФ 2 года гарантии на ваш автомобиль с момента покупки СТАВКА ПО АВТОКРЕДИТУ ОТ 8 5 Мы ждем Вас каждый день с 09 00 до 22 00 по адресу Санкт Петербург ул Стародеревенская улица 3   \n",
       "mileage                                                                                                                                                                                                                                                                                                                                                                                                                                                                                                                                                                                                                                                                                                                                                                                                                                                                                                                                                                                                                                                                                                                                                                                                                                                                                                               216 464 км   \n",
       "Привод                                                                                                                                                                                                                                                                                                                                                                                                                                                                                                                                                                                                                                                                                                                                                                                                                                                                                                                                                                                                                                                                                                                                                                                                                                                                                                                    полный   \n",
       "Руль                                                                                                                                                                                                                                                                                                                                                                                                                                                                                                                                                                                                                                                                                                                                                                                                                                                                                                                                                                                                                                                                                                                                                                                                                                                                                                                       Левый   \n",
       "Состояние                                                                                                                                                                                                                                                                                                                                                                                                                                                                                                                                                                                                                                                                                                                                                                                                                                                                                                                                                                                                                                                                                                                                                                                                                                                                                                     Не требует ремонта   \n",
       "Владельцы                                                                                                                                                                                                                                                                                                                                                                                                                                                                                                                                                                                                                                                                                                                                                                                                                                                                                                                                                                                                                                                                                                                                                                                                                                                                                                            2 владельца   \n",
       "ПТС                                                                                                                                                                                                                                                                                                                                                                                                                                                                                                                                                                                                                                                                                                                                                                                                                                                                                                                                                                                                                                                                                                                                                                                                                                                                                                                     Оригинал   \n",
       "Таможня                                                                                                                                                                                                                                                                                                                                                                                                                                                                                                                                                                                                                                                                                                                                                                                                                                                                                                                                                                                                                                                                                                                                                                                                                                                                                                               Растаможен   \n",
       "Владение                                                                                                                                                                                                                                                                                                                                                                                                                                                                                                                                                                                                                                                                                                                                                                                                                                                                                                                                                                                                                                                                                                                                                                                                                                                                                                                     NaN   \n",
       "price                                                                                                                                                                                                                                                                                                                                                                                                                                                                                                                                                                                                                                                                                                                                                                                                                                                                                                                                                                                                                                                                                                                                                                                                                                                                                                                  1875000.0   \n",
       "model_name                                                                                                                                                                                                                                                                                                                                                                                                                                                                                                                                                                                                                                                                                                                                                                                                                                                                                                                                                                                                                                                                                                                                                                                                                                                                                                                   MDX   \n",
       "equipment_dict        {'cruise-control': True, 'asr': True, 'tinted-glass': True, 'usb': True, 'e-adjustment-wheel': True, 'multi-wheel': True, 'audiopreparation': True, 'ashtray-and-cigarette-lighter': True, 'airbag-passenger': True, 'front-centre-armrest': True, 'navigation': True, 'lock': True, 'rear-camera': True, 'electro-mirrors': True, 'electro-window-back': True, 'hatch': True, 'dark-interior': True, 'park-assist-f': True, 'body-mouldings': True, 'rear-seats-heat': True, 'leather': True, 'seat-memory': True, 'wheel-heat': True, 'led-lights': True, 'electro-rear-seat': True, 'park-assist-r': True, 'knee-airbag': True, 'engine-proof': True, 'airbag-driver': True, 'aux': True, 'isofix': True, 'electro-window-front': True, 'light-sensor': True, 'hcc': True, 'automatic-lighting-control': True, 'airbag-curtain': True, 'computer': True, 'keyless-entry': True, 'seat-transformation': True, 'wheel-power': True, 'alarm': True, 'airbag-rear-side': True, 'start-button': True, 'ptf': True, 'rain-sensor': True, 'airbag-side': True, 'tyre-pressure': True, 'turnbuckle': True, 'abs': True, 'power-child-locks-rear-doors': True, 'bluetooth': True, 'front-seats-heat': True, 'wheel-leather': True, 'climate-control-2': True, 'auto-mirrors': True, 'third-rear-headrest': True}   \n",
       "sell_id                                                                                                                                                                                                                                                                                                                                                                                                                                                                                                                                                                                                                                                                                                                                                                                                                                                                                                                                                                                                                                                                                                                                                                                                                                                                                                                      NaN   \n",
       "\n",
       "                                                                                                                                                                                                                                                                                                                                                                                                                                                                                                                                                                                                                                                                                                                                                                                                                                                                                                                                                                                                                                                                               0  \n",
       "bodyType                                                                                                                                                                                                                                                                                                                                                                                                                                                                                                                                                                                                                                                                                                                                                                                                                                                                                                                                                                                                                                                                 лифтбек  \n",
       "brand                                                                                                                                                                                                                                                                                                                                                                                                                                                                                                                                                                                                                                                                                                                                                                                                                                                                                                                                                                                                                                                                      SKODA  \n",
       "color                                                                                                                                                                                                                                                                                                                                                                                                                                                                                                                                                                                                                                                                                                                                                                                                                                                                                                                                                                                                                                                                      синий  \n",
       "fuelType                                                                                                                                                                                                                                                                                                                                                                                                                                                                                                                                                                                                                                                                                                                                                                                                                                                                                                                                                                                                                                                                  бензин  \n",
       "modelDate                                                                                                                                                                                                                                                                                                                                                                                                                                                                                                                                                                                                                                                                                                                                                                                                                                                                                                                                                                                                                                                                 2013.0  \n",
       "numberOfDoors                                                                                                                                                                                                                                                                                                                                                                                                                                                                                                                                                                                                                                                                                                                                                                                                                                                                                                                                                                                                                                                                5.0  \n",
       "productionDate                                                                                                                                                                                                                                                                                                                                                                                                                                                                                                                                                                                                                                                                                                                                                                                                                                                                                                                                                                                                                                                            2014.0  \n",
       "vehicleConfiguration                                                                                                                                                                                                                                                                                                                                                                                                                                                                                                                                                                                                                                                                                                                                                                                                                                                                                                                                                                                                                                          LIFTBACK ROBOT 1.2  \n",
       "vehicleTransmission                                                                                                                                                                                                                                                                                                                                                                                                                                                                                                                                                                                                                                                                                                                                                                                                                                                                                                                                                                                                                                             роботизированная  \n",
       "engineDisplacement                                                                                                                                                                                                                                                                                                                                                                                                                                                                                                                                                                                                                                                                                                                                                                                                                                                                                                                                                                                                                                                       1.2 LTR  \n",
       "enginePower                                                                                                                                                                                                                                                                                                                                                                                                                                                                                                                                                                                                                                                                                                                                                                                                                                                                                                                                                                                                                                                              105 N12  \n",
       "description           Все автомобили, представленные в продаже, проходят тщательную проверку по более 40 параметрам. Предоставляем гарантию юридической чистоты, а так же год технической гарантии на двигатель и КПП. Бесплатный тест-драйв. Возможно оформление автомобиля в кредит!\\n\\nПреимущества автокредитования:\\n— Первоначальный взнос от 0%;\\n— Более 30 кредитных программ;\\n— Процентная ставка от 6% годовых;\\n— Срок кредита от 6 месяцев до 7 лет;\\n— Оформление кредита по двум документам;\\n— Досрочное погашение без штрафов и комиссий;\\n— Сумма кредита до 2 млн рублей;\\n— Оформление КАСКО – по желанию;\\n— Без справок и поручителей.\\n\\nСотрудничаем с 12 аккредитованными и сертифицированными банками РФ, среднее время ожидания решения банка 20–30 минут.\\n\\nПри покупке автомобиля по программе «Trade-in – выгодный обмен» или в кредит, получите дополнительную скидку до 80 000 рублей на данный автомобиль!\\n\\nЗаписаться на тест-драйв, а так же получить подробную информацию можно у специалистов автоцентра по указанному номеру телефона.  \n",
       "mileage                                                                                                                                                                                                                                                                                                                                                                                                                                                                                                                                                                                                                                                                                                                                                                                                                                                                                                                                                                                                                                                                    74000  \n",
       "Привод                                                                                                                                                                                                                                                                                                                                                                                                                                                                                                                                                                                                                                                                                                                                                                                                                                                                                                                                                                                                                                                                  передний  \n",
       "Руль                                                                                                                                                                                                                                                                                                                                                                                                                                                                                                                                                                                                                                                                                                                                                                                                                                                                                                                                                                                                                                                                       Левый  \n",
       "Состояние                                                                                                                                                                                                                                                                                                                                                                                                                                                                                                                                                                                                                                                                                                                                                                                                                                                                                                                                                                                                                                                     Не требует ремонта  \n",
       "Владельцы                                                                                                                                                                                                                                                                                                                                                                                                                                                                                                                                                                                                                                                                                                                                                                                                                                                                                                                                                                                                                                                            3 или более  \n",
       "ПТС                                                                                                                                                                                                                                                                                                                                                                                                                                                                                                                                                                                                                                                                                                                                                                                                                                                                                                                                                                                                                                                                     Оригинал  \n",
       "Таможня                                                                                                                                                                                                                                                                                                                                                                                                                                                                                                                                                                                                                                                                                                                                                                                                                                                                                                                                                                                                                                                               Растаможен  \n",
       "Владение                                                                                                                                                                                                                                                                                                                                                                                                                                                                                                                                                                                                                                                                                                                                                                                                                                                                                                                                                                                                                                                                     NaN  \n",
       "price                                                                                                                                                                                                                                                                                                                                                                                                                                                                                                                                                                                                                                                                                                                                                                                                                                                                                                                                                                                                                                                                        NaN  \n",
       "model_name                                                                                                                                                                                                                                                                                                                                                                                                                                                                                                                                                                                                                                                                                                                                                                                                                                                                                                                                                                                                                                                               OCTAVIA  \n",
       "equipment_dict                                                                                                                                                                                                                                                                          {\"engine-proof\":true,\"tinted-glass\":true,\"airbag-driver\":true,\"aux\":true,\"isofix\":true,\"electro-window-front\":true,\"ashtray-and-cigarette-lighter\":true,\"airbag-passenger\":true,\"computer\":true,\"high-beam-assist\":true,\"seat-transformation\":true,\"isofix-front\":true,\"wheel-power\":true,\"alarm\":true,\"lock\":true,\"door-sill-panel\":true,\"fabric-seats\":true,\"electro-mirrors\":true,\"airbag-rear-side\":true,\"electro-window-back\":true,\"steel-wheels\":true,\"ptf\":true,\"16-inch-wheels\":true,\"rain-sensor\":true,\"airbag-side\":true,\"audiosystem-cd\":true,\"dark-interior\":true,\"cooling-box\":true,\"condition\":true,\"abs\":true,\"power-child-locks-rear-doors\":true,\"front-seats-heat\":true,\"wheel-configuration2\":true,\"wheel-configuration1\":true,\"12v-socket\":true,\"park-assist-r\":true}  \n",
       "sell_id                                                                                                                                                                                                                                                                                                                                                                                                                                                                                                                                                                                                                                                                                                                                                                                                                                                                                                                                                                                                                                                             1100575026.0  "
      ]
     },
     "execution_count": 12,
     "metadata": {},
     "output_type": "execute_result"
    }
   ],
   "source": [
    "#проверяем еще раз, все ли привели к общему виду\n",
    "print(list(set(df_train_2021.columns)-set(df_train_2020.columns)))\n",
    "print(list(set(df_train_2021.columns)-set(df_test.columns)))\n",
    "print(list(set(df_train_2020.columns)-set(df_train_2021.columns)))\n",
    "print(list(set(df_train_2020.columns)-set(df_test.columns)))\n",
    "print(list(set(df_test.columns)-set(df_train_2021.columns)))\n",
    "print(list(set(df_test.columns)-set(df_train_2020.columns)))\n",
    "df_train_2020.iloc[0:1].append(df_train_2021.iloc[0:1]).append(df_test.iloc[0:1]).T"
   ]
  },
  {
   "cell_type": "markdown",
   "metadata": {},
   "source": [
    "формат почти выровняли \n",
    "(price - таргет, не должен быть в тесте, \n",
    "sell_id - только в тесте, \n",
    "equipment_dict - только в 2021 и в тесте). "
   ]
  },
  {
   "cell_type": "markdown",
   "metadata": {},
   "source": [
    "## 2. препроцессинг семантики, feature extraction"
   ]
  },
  {
   "cell_type": "code",
   "execution_count": 13,
   "metadata": {},
   "outputs": [],
   "source": [
    "def ExtractPrivateness(df):\n",
    "    df['description'] = df['description'].map(lambda x: str(x).lower())\n",
    "    df['private'] = df['description'].apply(lambda x: 1 if 'торг' in x or 'не нуждаюсь' in x or len(x)<200 else 0)\n",
    "    df['showroom'] = df['description'].apply(lambda x: 1 if 'traid-in' in x or 'дилер' in x or 'в кредит' in x or 'клиент' in x\n",
    "                                             or 'без комис' in x or 'страховани' in x or 'трейд-ин' in x \n",
    "                                             or 'в наличии' in x or 'выгодное пр' in x or 'автокредит' in x else 0)\n",
    "    return df\n",
    "\n",
    "df_train_2020 = ExtractPrivateness(df_train_2020)\n",
    "df_train_2021 = ExtractPrivateness(df_train_2021)\n",
    "df_test = ExtractPrivateness(df_test)\n",
    "\n",
    "\n",
    "df_train_2020 = df_train_2020.drop(['description'], axis=1)\n",
    "df_train_2021 = df_train_2021.drop(['description'], axis=1)\n",
    "df_test = df_test.drop(['description'], axis=1)"
   ]
  },
  {
   "cell_type": "code",
   "execution_count": 14,
   "metadata": {},
   "outputs": [],
   "source": [
    "df_train_2020['brand'] = df_train_2020['brand'].apply(lambda x: x.lower())\n",
    "df_train_2021['brand'] = df_train_2021['brand'].apply(lambda x: x.lower())\n",
    "df_test['brand'] = df_test['brand'].apply(lambda x: x.lower())"
   ]
  },
  {
   "cell_type": "code",
   "execution_count": 15,
   "metadata": {},
   "outputs": [],
   "source": [
    "df_train_2020.model_name = df_train_2020.model_name.apply(lambda x: x.lower().replace('_', ' ').replace('-', ' '))\n",
    "df_train_2021.model_name = df_train_2021.model_name.apply(lambda x: x.lower().replace('_', ' ').replace('-', ' '))\n",
    "df_test.model_name = df_test.model_name.apply(lambda x: x.lower().replace('_', ' ').replace('-', ' '))\n"
   ]
  },
  {
   "cell_type": "code",
   "execution_count": 16,
   "metadata": {},
   "outputs": [
    {
     "data": {
      "image/png": "[encoded data removed]",
      "text/plain": [
       "<Figure size 432x288 with 1 Axes>"
      ]
     },
     "metadata": {
      "needs_background": "light"
     },
     "output_type": "display_data"
    }
   ],
   "source": [
    "#немного feature-engeneering'а на возрасте авто.\n",
    "#преобразуем год в возраст\n",
    "df_train_2020['ageModel'] = df_train_2020['modelDate'].apply(lambda x: datetime.now().year - x)\n",
    "df_train_2021['ageModel'] = df_train_2021['modelDate'].apply(lambda x: datetime.now().year - x)\n",
    "df_test['ageModel'] = df_test['modelDate'].apply(lambda x: datetime.now().year - x)\n",
    "\n",
    "df_train_2020['ageModel'].hist(bins=50)\n",
    "df_train_2021['ageModel'].hist(bins=50)\n",
    "df_test['ageModel'].hist(bins=50)\n",
    "\n",
    "\n",
    "#modelDate больше не нужен. Удаляем.\n",
    "df_train_2020 = df_train_2020.drop(['modelDate'], axis=1)\n",
    "df_train_2021 = df_train_2021.drop(['modelDate'], axis=1)\n",
    "df_test = df_test.drop(['modelDate'], axis=1)\n",
    "\n",
    "#обеспечить качество данных!\n",
    "df_train_2021 = df_train_2021[df_train_2021.ageModel>=0]"
   ]
  },
  {
   "cell_type": "code",
   "execution_count": 17,
   "metadata": {},
   "outputs": [
    {
     "data": {
      "image/png": "[encoded data removed]",
      "text/plain": [
       "<Figure size 432x288 with 1 Axes>"
      ]
     },
     "metadata": {
      "needs_background": "light"
     },
     "output_type": "display_data"
    }
   ],
   "source": [
    "#немного feature-engeneering'а на возрасте авто.\n",
    "#преобразуем год в возраст\n",
    "df_train_2020['ageProd'] = df_train_2020['productionDate'].apply(lambda x: datetime.now().year - x)\n",
    "df_train_2021['ageProd'] = df_train_2021['productionDate'].apply(lambda x: datetime.now().year - x)\n",
    "df_test['ageProd'] = df_test['productionDate'].apply(lambda x: datetime.now().year - x)\n",
    "\n",
    "df_train_2020['ageProd'].hist(bins=50)\n",
    "df_train_2021['ageProd'].hist(bins=50)\n",
    "df_test['ageProd'].hist(bins=50)\n",
    "\n",
    "\n",
    "#modelDate больше не нужен. Удаляем.\n",
    "df_train_2020 = df_train_2020.drop(['productionDate'], axis=1)\n",
    "df_train_2021 = df_train_2021.drop(['productionDate'], axis=1)\n",
    "df_test = df_test.drop(['productionDate'], axis=1)\n",
    "\n",
    "#обеспечить качество данных!\n",
    "df_train_2021 = df_train_2021[df_train_2021.ageProd>=0]"
   ]
  },
  {
   "cell_type": "code",
   "execution_count": 18,
   "metadata": {},
   "outputs": [],
   "source": [
    "df_train_2020['Руль'] = df_train_2020['Руль'].apply(lambda x: 1 if x=='RIGHT' else 0)\n",
    "df_train_2021['Руль'] = df_train_2021['Руль'].apply(lambda x: 1 if x=='Правый' else 0)\n",
    "df_test['Руль'] = df_test['Руль'].apply(lambda x: 1 if x=='Правый' else 0)"
   ]
  },
  {
   "cell_type": "code",
   "execution_count": 19,
   "metadata": {},
   "outputs": [
    {
     "data": {
      "text/plain": [
       "array(['ИСТИНА'], dtype=object)"
      ]
     },
     "metadata": {},
     "output_type": "display_data"
    },
    {
     "data": {
      "text/plain": [
       "array(['Растаможен', nan], dtype=object)"
      ]
     },
     "metadata": {},
     "output_type": "display_data"
    },
    {
     "data": {
      "text/plain": [
       "array(['Растаможен'], dtype=object)"
      ]
     },
     "metadata": {},
     "output_type": "display_data"
    }
   ],
   "source": [
    "display(df_train_2020['Таможня'].unique())\n",
    "display(df_train_2021['Таможня'].unique())\n",
    "display(df_test['Таможня'].unique())\n",
    "#нет вариативности. Удаляем\n",
    "df_train_2020 = df_train_2020.drop(['Таможня'], axis=1)\n",
    "df_train_2021 = df_train_2021.drop(['Таможня'], axis=1)\n",
    "df_test = df_test.drop(['Таможня'], axis=1)"
   ]
  },
  {
   "cell_type": "code",
   "execution_count": 20,
   "metadata": {},
   "outputs": [],
   "source": [
    "#между различным количеством дверей нет отношения порядка в плане влияния на цену, т е нельзя сказать, что 2 двери это хуже чем 4.\n",
    "#т е нельзя построить линейную регрессию цены от этого признака по типу \"3 двери лучше чем 2\"\n",
    "#поэтому эта фича лучше интерпретируется как дополнительный тип кузова. Переконвертим ее вв категориальную фичу\n",
    "df_train_2020.numberOfDoors = df_train_2020.numberOfDoors.apply(lambda x: str(x)+'_дверей')\n",
    "df_train_2021.numberOfDoors = df_train_2021.numberOfDoors.apply(lambda x: str(x)+'_дверей')\n",
    "df_test.numberOfDoors = df_test.numberOfDoors.apply(lambda x: str(x)+'_дверей')"
   ]
  },
  {
   "cell_type": "code",
   "execution_count": 21,
   "metadata": {},
   "outputs": [
    {
     "name": "stdout",
     "output_type": "stream",
     "text": [
      "ExtractOwners() warning:  nan\n",
      "ExtractOwners() warning:  nan\n"
     ]
    }
   ],
   "source": [
    "def ExtractOwners(x):\n",
    "    try:\n",
    "        arr = x.replace('\\xa0',' ').split()\n",
    "        if len(arr)>1:\n",
    "            res = float(arr[0])\n",
    "        \n",
    "        if res <= 0:\n",
    "            print('ExtractOwners() warning: ', x)\n",
    "            return np.nan\n",
    "        return res\n",
    "    except:\n",
    "        print('ExtractOwners() warning: ', x)\n",
    "        return np.nan\n",
    "\n",
    "df_train_2021['Владельцы'] = df_train_2021['Владельцы'].apply(lambda x: ExtractOwners(x))\n",
    "df_test['Владельцы'] = df_test['Владельцы'].apply(lambda x: ExtractOwners(x))"
   ]
  },
  {
   "cell_type": "code",
   "execution_count": 22,
   "metadata": {},
   "outputs": [],
   "source": [
    "df_train_2020['ПТС'] = df_train_2020['ПТС'].apply(lambda x: 1 if x=='DUPLICATE' else 0)\n",
    "df_train_2021['ПТС'] = df_train_2021['ПТС'].apply(lambda x: 1 if x=='Дубликат' else 0)\n",
    "df_test['ПТС'] = df_test['ПТС'].apply(lambda x: 1 if x=='Дубликат' else 0)"
   ]
  },
  {
   "cell_type": "code",
   "execution_count": 23,
   "metadata": {},
   "outputs": [
    {
     "data": {
      "text/plain": [
       "array([nan])"
      ]
     },
     "metadata": {},
     "output_type": "display_data"
    },
    {
     "data": {
      "text/plain": [
       "array(['Не требует ремонта', nan], dtype=object)"
      ]
     },
     "metadata": {},
     "output_type": "display_data"
    },
    {
     "data": {
      "text/plain": [
       "array(['Не требует ремонта'], dtype=object)"
      ]
     },
     "metadata": {},
     "output_type": "display_data"
    }
   ],
   "source": [
    "display(df_train_2020['Состояние'].unique())\n",
    "display(df_train_2021['Состояние'].unique())\n",
    "display(df_test['Состояние'].unique())\n",
    "#нет вариативности. Удаляем\n",
    "df_train_2020 = df_train_2020.drop(['Состояние'], axis=1)\n",
    "df_train_2021 = df_train_2021.drop(['Состояние'], axis=1)\n",
    "df_test = df_test.drop(['Состояние'], axis=1)"
   ]
  },
  {
   "cell_type": "code",
   "execution_count": 24,
   "metadata": {},
   "outputs": [
    {
     "name": "stdout",
     "output_type": "stream",
     "text": [
      "{'ExtractOwnershipNew() nan input warning': 'ExtractOwnershipNew() nan input warning'}\n"
     ]
    }
   ],
   "source": [
    "progExtractOwnership2021 = re.compile('((\\d+)\\s(год|года|лет))*\\D*((\\d+)\\sмес)*', re.M | re.I)\n",
    "progExtractOwnership2020 = re.compile(\"(\\'year\\'\\:\\s)(\\d+)(,\\s(\\'month\\'\\:)\\s)(\\d+)\", re.M | re.I)\n",
    "\n",
    "errors = {}\n",
    "def ExtractOwnership(x):\n",
    "    try:\n",
    "        \n",
    "        if pd.isna(x):\n",
    "            errors['ExtractOwnershipNew() nan input warning'] = 'ExtractOwnershipNew() nan input warning'\n",
    "            return np.nan\n",
    "        \n",
    "        if '{' in x:\n",
    "            matches = progExtractOwnership2020.findall(x)[0]\n",
    "        else:\n",
    "            matches = progExtractOwnership2021.findall(x)[0]\n",
    "        \n",
    "        try:\n",
    "            years = float(matches[1].strip()) \n",
    "            if '{' in x:\n",
    "                years = datetime.now().year - years\n",
    "        except:\n",
    "            years = 0.0\n",
    "            \n",
    "        try:\n",
    "            months = float(matches[4].strip())\n",
    "            if '{' in x:\n",
    "                months = datetime.now().month - months\n",
    "                if months < 0:\n",
    "                    months = 12+months\n",
    "                    years -= 1\n",
    "        except:\n",
    "            months = 0.0\n",
    "                \n",
    "        res = years * 12 + months\n",
    "        \n",
    "        if res==0.0:\n",
    "            print('ExtractOwnershipNew() res=0 warning: ', x)\n",
    "        \n",
    "        return res\n",
    "            \n",
    "    except:\n",
    "        print('ExtractOwnershipNew() warning error: ', x)\n",
    "        return np.nan\n",
    "    \n",
    "\n",
    "\n",
    "df_train_2020['Владение'] = df_train_2020['Владение'].apply(lambda x: ExtractOwnership(x))\n",
    "df_train_2021['Владение'] = df_train_2021['Владение'].apply(lambda x: ExtractOwnership(x))\n",
    "df_test['Владение'] = df_test['Владение'].apply(lambda x: ExtractOwnership(x))\n",
    "\n",
    "print(errors)"
   ]
  },
  {
   "cell_type": "code",
   "execution_count": 25,
   "metadata": {},
   "outputs": [
    {
     "data": {
      "text/plain": [
       "array(['чёрный', 'красный', 'синий', 'серый', 'зелёный', 'серебристый',\n",
       "       'голубой', 'фиолетовый', 'коричневый', 'бежевый', 'золотистый',\n",
       "       'жёлтый', 'оранжевый', 'розовый'], dtype=object)"
      ]
     },
     "metadata": {},
     "output_type": "display_data"
    },
    {
     "data": {
      "text/plain": [
       "array(['чёрный', 'серебристый', 'красный', 'белый', 'зелёный', 'синий',\n",
       "       'серый', 'пурпурный', 'фиолетовый', 'коричневый', 'жёлтый',\n",
       "       'золотистый', 'голубой', 'бежевый', 'оранжевый', 'розовый'],\n",
       "      dtype=object)"
      ]
     },
     "metadata": {},
     "output_type": "display_data"
    },
    {
     "data": {
      "text/plain": [
       "array(['синий', 'чёрный', 'серый', 'коричневый', 'белый', 'пурпурный',\n",
       "       'бежевый', 'серебристый', 'красный', 'зелёный', 'жёлтый',\n",
       "       'голубой', 'оранжевый', 'фиолетовый', 'золотистый', 'розовый'],\n",
       "      dtype=object)"
      ]
     },
     "metadata": {},
     "output_type": "display_data"
    }
   ],
   "source": [
    "\n",
    "\n",
    "def ReplColor(x):\n",
    "    cmap = {\n",
    "        '040001':'чёрный',\n",
    "        'EE1D19':'пурпурный',\n",
    "        '0000CC':'синий',\n",
    "        'CACECB':'серый',\n",
    "        '007F00':'зелёный',\n",
    "        'FAFBFB':'серебристый',\n",
    "        '97948F':'серый',\n",
    "        '22A0F8':'голубой',\n",
    "        '660099':'фиолетовый',\n",
    "        '200204':'коричневый',\n",
    "        'C49648':'бежевый',\n",
    "        'DEA522':'золотистый',\n",
    "        '4A2197':'фиолетовый',\n",
    "        'EE1D19':'красный',\n",
    "        'FFD600':'жёлтый',\n",
    "        'FF8649':'оранжевый',\n",
    "        'FFC0CB':'розовый'\n",
    "    }\n",
    "    try:\n",
    "        return cmap[x]\n",
    "    except:\n",
    "        print('Warning ReplColor()', x)\n",
    "        return np.nan\n",
    "\n",
    "df_train_2020['color'] = df_train_2020['color'].apply(lambda x: ReplColor(x))\n",
    "\n",
    "display(df_train_2020['color'].unique())\n",
    "display(df_train_2021['color'].unique())\n",
    "display(df_test['color'].unique())"
   ]
  },
  {
   "cell_type": "code",
   "execution_count": 26,
   "metadata": {},
   "outputs": [
    {
     "name": "stdout",
     "output_type": "stream",
     "text": [
      "Warning RedundacyClear() nan\n"
     ]
    },
    {
     "data": {
      "text/plain": [
       "array(['седан', 'универсал', 'хэтчбек', 'кабриолет', 'купе', 'лифтбек',\n",
       "       'внедорожник', 'компактвэн', 'купе хардтоп', 'родстер', 'минивэн',\n",
       "       'пикап двойная', 'пикап одинарная', 'микровэн', 'пикап полуторная',\n",
       "       'фастбек', nan, 'внедорожник открытый', 'тарга', 'седан хардтоп',\n",
       "       'фургон', 'лимузин'], dtype=object)"
      ]
     },
     "metadata": {},
     "output_type": "display_data"
    },
    {
     "data": {
      "text/plain": [
       "array(['внедорожник', 'хэтчбек', 'купе', 'седан', 'универсал',\n",
       "       'кабриолет', 'лифтбек', 'родстер', 'компактвэн', 'купе хардтоп',\n",
       "       'минивэн', 'пикап двойная', 'тарга', 'пикап одинарная',\n",
       "       'пикап полуторная', 'фургон', 'фастбек', 'микровэн',\n",
       "       'внедорожник открытый', 'лимузин', 'седан хардтоп'], dtype=object)"
      ]
     },
     "metadata": {},
     "output_type": "display_data"
    },
    {
     "data": {
      "text/plain": [
       "array(['лифтбек', 'внедорожник', 'хэтчбек', 'седан', 'компактвэн',\n",
       "       'универсал', 'пикап одинарная', 'купе', 'кабриолет', 'минивэн',\n",
       "       'пикап двойная', 'родстер', 'микровэн', 'купе хардтоп', 'фастбек',\n",
       "       'тарга', 'внедорожник открытый', 'лимузин', 'пикап полуторная',\n",
       "       'седан хардтоп', 'фургон'], dtype=object)"
      ]
     },
     "metadata": {},
     "output_type": "display_data"
    }
   ],
   "source": [
    "#информация о дверях избыточна, есть в numberOfDoors.    \n",
    "progExtractBodyType = re.compile(\"([а-я]+)(\\s(\\d)\\sдв\\.)?((\\s[a-z0-9]{1}).*)?\", re.I)\n",
    "def ExtractBodyType(x):\n",
    "    try:\n",
    "        x = x.lower()\n",
    "        matches = progExtractBodyType.findall(x)\n",
    "        res = ''\n",
    "        for match in matches:        \n",
    "            try:\n",
    "                word = match[0].strip()\n",
    "                if word == 'кабина':\n",
    "                    continue\n",
    "                if res != '':\n",
    "                    res += ' '\n",
    "                res += word\n",
    "            except:\n",
    "                print('Warning RedundacyClear()', x)\n",
    "                return np.nan\n",
    "        res = res.strip()\n",
    "        return res\n",
    "    except:\n",
    "        print('Warning RedundacyClear()', x)\n",
    "        return np.nan\n",
    "    \n",
    "df_train_2020['bodyType'] = df_train_2020['bodyType'].apply(lambda x: ExtractBodyType(x))\n",
    "df_train_2021['bodyType'] = df_train_2021['bodyType'].apply(lambda x: ExtractBodyType(x))\n",
    "df_test['bodyType'] = df_test['bodyType'].apply(lambda x: ExtractBodyType(x))    \n",
    "display(df_train_2020['bodyType'].unique())\n",
    "display(df_train_2021['bodyType'].unique())\n",
    "display(df_test['bodyType'].unique())"
   ]
  },
  {
   "cell_type": "code",
   "execution_count": 27,
   "metadata": {},
   "outputs": [
    {
     "name": "stdout",
     "output_type": "stream",
     "text": [
      "{'SEDAN AUTOMATIC S4': 'format warning', 'SEDAN ROBOT ultra': 'format warning', 'WAGON_5_DOORS MECHANICAL 8V': 'format warning', 'WAGON_5_DOORS VARIATOR 8V': 'format warning', 'WAGON_5_DOORS MECHANICAL 16V': 'format warning', 'WAGON_5_DOORS VARIATOR 16V': 'format warning', 'WAGON_5_DOORS ROBOT 7S-tronic': 'format warning', 'COUPE AUTOMATIC tiptronic': 'format warning', 'SEDAN ROBOT 45': 'format warning', 'SEDAN ROBOT 55': 'format warning', 'LIFTBACK ROBOT S-tronic': 'format warning', 'LIFTBACK ROBOT 55': 'format warning', 'LIFTBACK AUTOMATIC Tiptronic': 'format warning', 'SEDAN AUTOMATIC Long': 'format warning', 'SEDAN AUTOMATIC 55': 'format warning', 'SEDAN VARIATOR Long': 'format warning', 'ALLROAD_5_DOORS ROBOT 35': 'format warning', 'ALLROAD_5_DOORS AUTOMATIC 8tiptronic': 'format warning', 'ALLROAD_5_DOORS ROBOT clean': 'format warning', 'ALLROAD_5_DOORS AUTOMATIC 55': 'format warning', 'ALLROAD_5_DOORS AUTOMATIC 45': 'format warning', 'COUPE ROBOT V10': 'format warning', 'CABRIO MECHANICAL V8': 'format warning', 'HATCHBACK_5_DOORS AUTOMATIC M135i': 'format warning', 'HATCHBACK_5_DOORS AUTOMATIC 116i': 'format warning', 'CABRIO AUTOMATIC 120i': 'format warning', 'HATCHBACK_5_DOORS AUTOMATIC 118i': 'format warning', 'HATCHBACK_5_DOORS MECHANICAL 118i': 'format warning', 'HATCHBACK_3_DOORS AUTOMATIC 116i': 'format warning', 'HATCHBACK_3_DOORS AUTOMATIC 120i': 'format warning', 'COUPE AUTOMATIC 135i': 'format warning', 'HATCHBACK_3_DOORS AUTOMATIC M135i': 'format warning', 'HATCHBACK_5_DOORS AUTOMATIC M140i': 'format warning', 'COUPE AUTOMATIC 125i': 'format warning', 'COUPE AUTOMATIC 120d': 'format warning', 'COUPE MECHANICAL 125i': 'format warning', 'HATCHBACK_5_DOORS MECHANICAL 120d': 'format warning', 'HATCHBACK_5_DOORS AUTOMATIC 120d': 'format warning', 'HATCHBACK_3_DOORS AUTOMATIC 120d': 'format warning', 'HATCHBACK_5_DOORS MECHANICAL 116i': 'format warning', 'HATCHBACK_3_DOORS AUTOMATIC 118i': 'format warning', 'HATCHBACK_3_DOORS MECHANICAL 116i': 'format warning', 'HATCHBACK_5_DOORS AUTOMATIC 130i': 'format warning', 'HATCHBACK_5_DOORS AUTOMATIC 120i': 'format warning', 'CABRIO AUTOMATIC 125i': 'format warning', 'HATCHBACK_3_DOORS MECHANICAL 120i': 'format warning', 'COUPE MECHANICAL 120d': 'format warning', 'HATCHBACK_5_DOORS AUTOMATIC 118d': 'format warning', 'HATCHBACK_3_DOORS MECHANICAL 120d': 'format warning', 'HATCHBACK_5_DOORS MECHANICAL 120i': 'format warning', 'SEDAN ROBOT 218i': 'format warning', 'COUPE AUTOMATIC 220i': 'format warning', 'COUPE AUTOMATIC 220d': 'format warning', 'COMPACTVAN ROBOT 218i': 'format warning', 'COMPACTVAN AUTOMATIC 218i': 'format warning', 'COMPACTVAN AUTOMATIC 218d': 'format warning', 'COMPACTVAN AUTOMATIC 220d': 'format warning', 'COMPACTVAN AUTOMATIC 216d': 'format warning', 'COUPE AUTOMATIC 335i': 'format warning', 'SEDAN AUTOMATIC 320i': 'format warning', 'SEDAN AUTOMATIC 318d': 'format warning', 'SEDAN MECHANICAL 320i': 'format warning', 'SEDAN MECHANICAL 318i': 'format warning', 'SEDAN AUTOMATIC 318i': 'format warning', 'LIFTBACK AUTOMATIC 320i': 'format warning', 'COUPE AUTOMATIC 320i': 'format warning', 'SEDAN AUTOMATIC 320d': 'format warning', 'LIFTBACK AUTOMATIC 320d': 'format warning', 'SEDAN AUTOMATIC 316i': 'format warning', 'SEDAN AUTOMATIC 328i': 'format warning', 'SEDAN AUTOMATIC 330i': 'format warning', 'SEDAN AUTOMATIC 325xi': 'format warning', 'COUPE MECHANICAL 330i': 'format warning', 'COUPE AUTOMATIC 325xi': 'format warning', 'SEDAN AUTOMATIC 335i': 'format warning', 'CABRIO AUTOMATIC 335i': 'format warning', 'COUPE MECHANICAL 318i': 'format warning', 'WAGON_5_DOORS MECHANICAL 320i': 'format warning', 'SEDAN AUTOMATIC 325i': 'format warning', 'WAGON_5_DOORS AUTOMATIC 320d': 'format warning', 'COUPE AUTOMATIC 325i': 'format warning', 'COUPE AUTOMATIC 330d': 'format warning', 'SEDAN AUTOMATIC 330d': 'format warning', 'WAGON_5_DOORS AUTOMATIC 318i': 'format warning', 'CABRIO AUTOMATIC 330i': 'format warning', 'SEDAN AUTOMATIC 340i': 'format warning', 'SEDAN MECHANICAL 323i': 'format warning', 'CABRIO AUTOMATIC 325i': 'format warning', 'COUPE MECHANICAL 320i': 'format warning', 'COUPE AUTOMATIC 335d': 'format warning', 'WAGON_5_DOORS MECHANICAL 318i': 'format warning', 'COUPE AUTOMATIC 316i': 'format warning', 'WAGON_5_DOORS MECHANICAL 318d': 'format warning', 'COUPE AUTOMATIC 320d': 'format warning', 'WAGON_5_DOORS AUTOMATIC 325xi': 'format warning', 'COUPE AUTOMATIC 335xi': 'format warning', 'COUPE AUTOMATIC 330i': 'format warning', 'COUPE MECHANICAL 325i': 'format warning', 'SEDAN MECHANICAL 316i': 'format warning', 'SEDAN AUTOMATIC 330xi': 'format warning', 'COUPE AUTOMATIC 323i': 'format warning', 'SEDAN MECHANICAL 318d': 'format warning', 'HATCHBACK_3_DOORS MECHANICAL 316i': 'format warning', 'SEDAN MECHANICAL 330i': 'format warning', 'SEDAN MECHANICAL 316': 'format warning', 'COUPE MECHANICAL 328i': 'format warning', 'SEDAN_2_DOORS MECHANICAL 315': 'format warning', 'SEDAN MECHANICAL 325i': 'format warning', 'COUPE AUTOMATIC 328i': 'format warning', 'CABRIO MECHANICAL 318i': 'format warning', 'COUPE MECHANICAL 323i': 'format warning', 'COUPE AUTOMATIC 330xi': 'format warning', 'SEDAN_2_DOORS MECHANICAL 318': 'format warning', 'COUPE MECHANICAL 335i': 'format warning', 'SEDAN MECHANICAL 328i': 'format warning', 'WAGON_5_DOORS AUTOMATIC 330d': 'format warning', 'CABRIO AUTOMATIC 320i': 'format warning', 'WAGON_5_DOORS AUTOMATIC 323i': 'format warning', 'LIFTBACK AUTOMATIC 328i': 'format warning', 'CABRIO AUTOMATIC 328i': 'format warning', 'LIFTBACK AUTOMATIC 330i': 'format warning', 'WAGON_5_DOORS MECHANICAL 320d': 'format warning', 'SEDAN AUTOMATIC 323i': 'format warning', 'HATCHBACK_3_DOORS AUTOMATIC 316i': 'format warning', 'SEDAN MECHANICAL 320d': 'format warning', 'COUPE MECHANICAL 325xi': 'format warning', 'WAGON_5_DOORS AUTOMATIC 320i': 'format warning', 'SEDAN AUTOMATIC 335d': 'format warning', 'WAGON_5_DOORS AUTOMATIC 328i': 'format warning', 'CABRIO MECHANICAL 328i': 'format warning', 'SEDAN AUTOMATIC N46': 'format warning', 'WAGON_5_DOORS MECHANICAL 316i': 'format warning', 'COUPE AUTOMATIC 420d': 'format warning', 'LIFTBACK AUTOMATIC 428i': 'format warning', 'COUPE AUTOMATIC 420i': 'format warning', 'COUPE MECHANICAL 420i': 'format warning', 'COUPE AUTOMATIC 428i': 'format warning', 'COUPE AUTOMATIC 435i': 'format warning', 'LIFTBACK AUTOMATIC 430i': 'format warning', 'LIFTBACK AUTOMATIC 420i': 'format warning', 'COUPE AUTOMATIC 440i': 'format warning', 'LIFTBACK AUTOMATIC 420d': 'format warning', 'CABRIO AUTOMATIC 420d': 'format warning', 'CABRIO AUTOMATIC 430i': 'format warning', 'CABRIO AUTOMATIC 440i': 'format warning', 'LIFTBACK MECHANICAL 420i': 'format warning', 'COUPE AUTOMATIC 430i': 'format warning', 'CABRIO AUTOMATIC 428i': 'format warning', 'SEDAN AUTOMATIC 520d': 'format warning', 'SEDAN AUTOMATIC 530d': 'format warning', 'SEDAN AUTOMATIC 525i': 'format warning', 'SEDAN AUTOMATIC 523i': 'format warning', 'SEDAN AUTOMATIC 520i': 'format warning', 'LIFTBACK AUTOMATIC 530d': 'format warning', 'SEDAN AUTOMATIC 530i': 'format warning', 'SEDAN AUTOMATIC 525d': 'format warning', 'SEDAN AUTOMATIC 528i': 'format warning', 'LIFTBACK AUTOMATIC 550i': 'format warning', 'LIFTBACK AUTOMATIC 535d': 'format warning', 'SEDAN MECHANICAL 520i': 'format warning', 'SEDAN MECHANICAL 528i': 'format warning', 'SEDAN AUTOMATIC M550i': 'format warning', 'WAGON_5_DOORS MECHANICAL 525i': 'format warning', 'SEDAN AUTOMATIC 540i': 'format warning', 'SEDAN AUTOMATIC 535i': 'format warning', 'LIFTBACK AUTOMATIC 535i': 'format warning', 'WAGON_5_DOORS AUTOMATIC 530d': 'format warning', 'WAGON_5_DOORS AUTOMATIC 530xi': 'format warning', 'SEDAN AUTOMATIC 530Li': 'format warning', 'SEDAN AUTOMATIC M550d': 'format warning', 'SEDAN MECHANICAL 525i': 'format warning', 'SEDAN AUTOMATIC 535d': 'format warning', 'SEDAN MECHANICAL 523i': 'format warning', 'SEDAN AUTOMATIC 530xi': 'format warning', 'SEDAN AUTOMATIC 525xi': 'format warning', 'SEDAN MECHANICAL 518': 'format warning', 'SEDAN AUTOMATIC 520Li': 'format warning', 'SEDAN AUTOMATIC 528Li': 'format warning', 'SEDAN AUTOMATIC 535xi': 'format warning', 'WAGON_5_DOORS AUTOMATIC 523i': 'format warning', 'WAGON_5_DOORS MECHANICAL 520d': 'format warning', 'WAGON_5_DOORS AUTOMATIC 528i': 'format warning', 'WAGON_5_DOORS MECHANICAL 520i': 'format warning', 'WAGON_5_DOORS AUTOMATIC 520d': 'format warning', 'WAGON_5_DOORS AUTOMATIC 535d': 'format warning', 'SEDAN MECHANICAL 530i': 'format warning', 'WAGON_5_DOORS AUTOMATIC 525d': 'format warning', 'SEDAN AUTOMATIC 550i': 'format warning', 'SEDAN AUTOMATIC 545i': 'format warning', 'WAGON_5_DOORS AUTOMATIC 520i': 'format warning', 'SEDAN MECHANICAL 524d': 'format warning', 'SEDAN MECHANICAL 520d': 'format warning', 'WAGON_5_DOORS AUTOMATIC 525i': 'format warning', 'SEDAN MECHANICAL 518i': 'format warning', 'SEDAN MECHANICAL 535i': 'format warning', 'SEDAN AUTOMATIC 535Li': 'format warning', 'SEDAN AUTOMATIC 530xd': 'format warning', 'WAGON_5_DOORS AUTOMATIC 540i': 'format warning', 'SEDAN MECHANICAL 540i': 'format warning', 'SEDAN MECHANICAL 525d': 'format warning', 'COUPE AUTOMATIC 630i': 'format warning', 'COUPE AUTOMATIC 640i': 'format warning', 'SEDAN AUTOMATIC 650i': 'format warning', 'COUPE AUTOMATIC 640d': 'format warning', 'COUPE AUTOMATIC 650i': 'format warning', 'LIFTBACK AUTOMATIC 630d': 'format warning', 'LIFTBACK AUTOMATIC 620d': 'format warning', 'CABRIO AUTOMATIC 640i': 'format warning', 'COUPE MECHANICAL 635i': 'format warning', 'SEDAN AUTOMATIC 640i': 'format warning', 'SEDAN AUTOMATIC 640d': 'format warning', 'CABRIO AUTOMATIC 645i': 'format warning', 'COUPE AUTOMATIC 645i': 'format warning', 'LIFTBACK AUTOMATIC 640d': 'format warning', 'COUPE MECHANICAL 645i': 'format warning', 'LIFTBACK AUTOMATIC 640i': 'format warning', 'COUPE MECHANICAL 630i': 'format warning', 'CABRIO AUTOMATIC 650i': 'format warning', 'SEDAN AUTOMATIC 750d': 'format warning', 'SEDAN AUTOMATIC 740i': 'format warning', 'SEDAN AUTOMATIC 730Ld': 'format warning', 'SEDAN AUTOMATIC 750i': 'format warning', 'SEDAN AUTOMATIC 750Li': 'format warning', 'SEDAN AUTOMATIC 740Li': 'format warning', 'SEDAN AUTOMATIC 730d': 'format warning', 'SEDAN AUTOMATIC 730i': 'format warning', 'SEDAN AUTOMATIC 750Ld': 'format warning', 'SEDAN AUTOMATIC 730Li': 'format warning', 'SEDAN AUTOMATIC 740d': 'format warning', 'SEDAN AUTOMATIC M760Li': 'format warning', 'SEDAN AUTOMATIC 740Ld': 'format warning', 'SEDAN AUTOMATIC Active': 'format warning', 'SEDAN AUTOMATIC 760Li': 'format warning', 'SEDAN AUTOMATIC 735i': 'format warning', 'SEDAN AUTOMATIC 745d': 'format warning', 'SEDAN AUTOMATIC 728i': 'format warning', 'SEDAN MECHANICAL 735i': 'format warning', 'SEDAN AUTOMATIC 728Li': 'format warning', 'SEDAN AUTOMATIC 760i': 'format warning', 'SEDAN AUTOMATIC 745i': 'format warning', 'SEDAN MECHANICAL 730i': 'format warning', 'SEDAN AUTOMATIC 745Li': 'format warning', 'SEDAN AUTOMATIC 735Li': 'format warning', 'SEDAN MECHANICAL 728i': 'format warning', 'SEDAN MECHANICAL 733i': 'format warning', 'SEDAN AUTOMATIC 725d': 'format warning', 'SEDAN AUTOMATIC M850i': 'format warning', 'COUPE AUTOMATIC M850i': 'format warning', 'COUPE AUTOMATIC 840i': 'format warning', 'COUPE_HARDTOP AUTOMATIC 850i': 'format warning', 'COUPE AUTOMATIC 840d': 'format warning', 'SEDAN AUTOMATIC 840i': 'format warning', 'HATCHBACK_5_DOORS AUTOMATIC 94Ah': 'format warning', 'HATCHBACK_5_DOORS AUTOMATIC Electro': 'format warning', 'HATCHBACK_5_DOORS AUTOMATIC S': 'format warning', 'COUPE ROBOT Competition': 'format warning', 'SEDAN AUTOMATIC Competition': 'format warning', 'ALLROAD_5_DOORS AUTOMATIC 18i': 'format warning', 'ALLROAD_5_DOORS AUTOMATIC 20i': 'format warning', 'ALLROAD_5_DOORS AUTOMATIC 18d': 'format warning', 'ALLROAD_5_DOORS AUTOMATIC 20d': 'format warning', 'ALLROAD_5_DOORS ROBOT 18i': 'format warning', 'ALLROAD_5_DOORS AUTOMATIC 25d': 'format warning', 'ALLROAD_5_DOORS MECHANICAL 18d': 'format warning', 'ALLROAD_5_DOORS AUTOMATIC 28i': 'format warning', 'ALLROAD_5_DOORS AUTOMATIC 23d': 'format warning', 'ALLROAD_5_DOORS AUTOMATIC 25i': 'format warning', 'ALLROAD_5_DOORS ROBOT sDrive18i': 'format warning', 'ALLROAD_5_DOORS AUTOMATIC xDrive20i': 'format warning', 'ALLROAD_5_DOORS AUTOMATIC xDrive20d': 'format warning', 'ALLROAD_5_DOORS AUTOMATIC xDrive18d': 'format warning', 'ALLROAD_5_DOORS AUTOMATIC 30d': 'format warning', 'ALLROAD_5_DOORS AUTOMATIC 30i': 'format warning', 'ALLROAD_5_DOORS AUTOMATIC 35i': 'format warning', 'ALLROAD_5_DOORS MECHANICAL 20d': 'format warning', 'ALLROAD_5_DOORS MECHANICAL 30d': 'format warning', 'ALLROAD_5_DOORS MECHANICAL 30i': 'format warning', 'ALLROAD_5_DOORS AUTOMATIC 35d': 'format warning', 'ALLROAD_5_DOORS AUTOMATIC M40d': 'format warning', 'ALLROAD_5_DOORS AUTOMATIC M40i': 'format warning', 'ALLROAD_5_DOORS AUTOMATIC M50d': 'format warning', 'ALLROAD_5_DOORS AUTOMATIC 48i': 'format warning', 'ALLROAD_5_DOORS AUTOMATIC 50i': 'format warning', 'ALLROAD_5_DOORS AUTOMATIC 40d': 'format warning', 'ALLROAD_5_DOORS AUTOMATIC 40i': 'format warning', 'ALLROAD_5_DOORS AUTOMATIC 40e': 'format warning', 'ALLROAD_5_DOORS AUTOMATIC ActiveHybrid': 'format warning', 'ALLROAD_5_DOORS AUTOMATIC Competition': 'format warning', 'ROADSTER AUTOMATIC 23i': 'format warning', 'ROADSTER ROBOT 35is': 'format warning', 'ROADSTER AUTOMATIC 28i': 'format warning', 'ROADSTER AUTOMATIC 20i': 'format warning', 'ROADSTER ROBOT 35i': 'format warning', 'ALLROAD_5_DOORS AUTOMATIC ESV': 'format warning', 'ALLROAD_5_DOORS AUTOMATIC 6-speed': 'format warning', 'ALLROAD_5_DOORS AUTOMATIC 5-speed': 'format warning', 'COUPE AUTOMATIC SS': 'format warning', 'COUPE AUTOMATIC ZL1': 'format warning', 'COUPE AUTOMATIC Stingray': 'format warning', 'COUPE MECHANICAL Z06': 'format warning', 'COUPE_HARDTOP AUTOMATIC SS': 'format warning', 'HATCHBACK_5_DOORS AUTOMATIC EV': 'format warning', 'ALLROAD_5_DOORS AUTOMATIC 6AT': 'format warning', 'ALLROAD_5_DOORS AUTOMATIC EXT': 'format warning', 'SEDAN AUTOMATIC SRT8': 'format warning', 'SEDAN AUTOMATIC Fifth': 'format warning', 'MINIVAN AUTOMATIC SWB': 'format warning', 'MINIVAN AUTOMATIC Grand': 'format warning', 'COMPACTVAN MECHANICAL 5-doors': 'format warning', 'COMPACTVAN MECHANICAL Донинвест': 'format warning', 'HATCHBACK_5_DOORS ROBOT SensoDrive': 'format warning', 'COMPACTVAN MECHANICAL Aircross': 'format warning', 'SEDAN MECHANICAL Triomphe': 'format warning', 'COMPACTVAN ROBOT Grand': 'format warning', 'COMPACTVAN MECHANICAL Grand': 'format warning', 'COMPACTVAN AUTOMATIC Grand': 'format warning', 'SEDAN AUTOMATIC Hydractive': 'format warning', 'WAGON_5_DOORS AUTOMATIC CrossTourer': 'format warning', 'SEDAN MECHANICAL Hydractive': 'format warning', 'MINIVAN MECHANICAL Long': 'format warning', 'MINIVAN AUTOMATIC XL': 'format warning', 'HATCHBACK_5_DOORS MECHANICAL Best': 'format warning', 'HATCHBACK_5_DOORS MECHANICAL SRT-4': 'format warning', 'HATCHBACK_5_DOORS VARIATOR R__T': 'format warning', 'COUPE AUTOMATIC R__T': 'format warning', 'COUPE AUTOMATIC Hellcat': 'format warning', 'SEDAN AUTOMATIC SRT': 'format warning', 'PICKUP_TWO AUTOMATIC Crew': 'format warning', 'ROADSTER MECHANICAL SRT-10': 'format warning', 'ALLROAD_5_DOORS AUTOMATIC Sport': 'format warning', 'PICKUP_TWO AUTOMATIC Raptor': 'format warning', 'PICKUP_TWO AUTOMATIC SVT': 'format warning', 'PICKUP_ONE_HALF AUTOMATIC SVT': 'format warning', 'HATCHBACK_3_DOORS MECHANICAL KAT': 'format warning', 'HATCHBACK_5_DOORS AUTOMATIC Electric': 'format warning', 'HATCHBACK_3_DOORS MECHANICAL ST170': 'format warning', 'CABRIO MECHANICAL StreetKa': 'format warning', 'SEDAN ROBOT PowerShift': 'format warning', 'SEDAN MECHANICAL ST220': 'format warning', 'COUPE MECHANICAL Shelby': 'format warning', 'SEDAN MECHANICAL SHO': 'format warning', 'COMPACTVAN MECHANICAL LWB': 'format warning', 'MINIVAN MECHANICAL LWB': 'format warning', 'MINIVAN MECHANICAL SWB': 'format warning', 'SEDAN AUTOMATIC Type': 'format warning', 'SEDAN AUTOMATIC Sport': 'format warning', 'SEDAN MECHANICAL Type': 'format warning', 'WAGON_5_DOORS AUTOMATIC Type': 'format warning', 'SEDAN VARIATOR Hybrid': 'format warning', 'HATCHBACK_5_DOORS ROBOT AMT': 'format warning', 'WAGON_5_DOORS MECHANICAL Shuttle': 'format warning', 'HATCHBACK_3_DOORS MECHANICAL Type': 'format warning', 'HATCHBACK_3_DOORS ROBOT Type': 'format warning', nan: 'format warning', 'ROADSTER MECHANICAL del': 'format warning', 'ROADSTER AUTOMATIC del': 'format warning', 'HATCHBACK_3_DOORS MECHANICAL Hybrid': 'format warning', 'HATCHBACK_3_DOORS VARIATOR Hybrid': 'format warning', 'COMPACTVAN VARIATOR Spike': 'format warning', 'MINIVAN AUTOMATIC Spada': 'format warning', 'MINIVAN VARIATOR Spada': 'format warning', 'SEDAN AUTOMATIC ТагАЗ': 'format warning', 'SEDAN MECHANICAL ТагАЗ': 'format warning', 'HATCHBACK_5_DOORS MECHANICAL Prime': 'format warning', 'SEDAN AUTOMATIC Limousine': 'format warning', 'ALLROAD_5_DOORS MECHANICAL Sport': 'format warning', 'ALLROAD_5_DOORS AUTOMATIC Grand': 'format warning', 'ALLROAD_5_DOORS MECHANICAL Classic': 'format warning', 'ALLROAD_5_DOORS AUTOMATIC Classic': 'format warning', 'ALLROAD_5_DOORS AUTOMATIC EX25': 'format warning', 'ALLROAD_5_DOORS AUTOMATIC EX35': 'format warning', 'ALLROAD_5_DOORS AUTOMATIC EX37': 'format warning', 'ALLROAD_5_DOORS AUTOMATIC FX37': 'format warning', 'ALLROAD_5_DOORS AUTOMATIC FX35': 'format warning', 'ALLROAD_5_DOORS AUTOMATIC FX50': 'format warning', 'ALLROAD_5_DOORS AUTOMATIC FX45': 'format warning', 'ALLROAD_5_DOORS AUTOMATIC FX30d': 'format warning', 'ALLROAD_5_DOORS AUTOMATIC FX': 'format warning', 'SEDAN AUTOMATIC G37': 'format warning', 'COUPE AUTOMATIC G35': 'format warning', 'SEDAN AUTOMATIC G25': 'format warning', 'SEDAN AUTOMATIC G35': 'format warning', 'COUPE MECHANICAL G35': 'format warning', 'COUPE AUTOMATIC G37': 'format warning', 'SEDAN AUTOMATIC G20': 'format warning', 'CABRIO AUTOMATIC G37': 'format warning', 'SEDAN AUTOMATIC I30': 'format warning', 'ALLROAD_5_DOORS VARIATOR JX35': 'format warning', 'SEDAN AUTOMATIC M37': 'format warning', 'SEDAN AUTOMATIC M35': 'format warning', 'SEDAN AUTOMATIC M56': 'format warning', 'SEDAN AUTOMATIC M25': 'format warning', 'SEDAN AUTOMATIC M45': 'format warning', 'SEDAN AUTOMATIC Q45': 'format warning', 'ALLROAD_5_DOORS AUTOMATIC S': 'format warning', 'COUPE AUTOMATIC S': 'format warning', 'ROADSTER AUTOMATIC V8': 'format warning', 'COUPE AUTOMATIC R': 'format warning', 'ROADSTER AUTOMATIC S': 'format warning', 'ALLROAD_5_DOORS AUTOMATIC Electro': 'format warning', 'SEDAN AUTOMATIC R': 'format warning', 'SEDAN AUTOMATIC S': 'format warning', 'SEDAN AUTOMATIC Classic': 'format warning', 'ALLROAD_5_DOORS AUTOMATIC SRT': 'format warning', 'ALLROAD_5_DOORS AUTOMATIC SRT8': 'format warning', 'ALLROAD_5_DOORS AUTOMATIC Trailhawk': 'format warning', 'MINIVAN MECHANICAL Grand': 'format warning', 'SEDAN MECHANICAL 6-speed': 'format warning', 'SEDAN MECHANICAL 5-speed': 'format warning', 'SEDAN AUTOMATIC 4-speed': 'format warning', 'SEDAN AUTOMATIC 6-speed': 'format warning', 'ALLROAD_5_DOORS AUTOMATIC 8-speed': 'format warning', 'HATCHBACK_5_DOORS AUTOMATIC GT': 'format warning', 'HATCHBACK_5_DOORS AUTOMATIC 4-speed': 'format warning', 'HATCHBACK_5_DOORS AUTOMATIC X-Line': 'format warning', 'HATCHBACK_5_DOORS MECHANICAL 5-speed': 'format warning', 'HATCHBACK_5_DOORS AUTOMATIC 6-speed': 'format warning', 'HATCHBACK_5_DOORS MECHANICAL X-Line': 'format warning', 'HATCHBACK_5_DOORS MECHANICAL 6-speed': 'format warning', 'ALLROAD_5_DOORS MECHANICAL Grand': 'format warning', 'HATCHBACK_5_DOORS VARIATOR 200h': 'format warning', 'SEDAN AUTOMATIC 250': 'format warning', 'SEDAN AUTOMATIC 200': 'format warning', 'SEDAN AUTOMATIC 300': 'format warning', 'SEDAN AUTOMATIC 350': 'format warning', 'SEDAN AUTOMATIC 330': 'format warning', 'SEDAN VARIATOR 300h': 'format warning', 'SEDAN VARIATOR 450h': 'format warning', 'SEDAN AUTOMATIC 430': 'format warning', 'ALLROAD_5_DOORS AUTOMATIC 460': 'format warning', 'ALLROAD_5_DOORS AUTOMATIC 470': 'format warning', 'SEDAN VARIATOR 250h': 'format warning', 'SEDAN MECHANICAL 200': 'format warning', 'SEDAN AUTOMATIC 200t': 'format warning', 'SEDAN MECHANICAL 220d': 'format warning', 'CABRIO AUTOMATIC 250C': 'format warning', 'WAGON_5_DOORS MECHANICAL 200': 'format warning', 'SEDAN AUTOMATIC 460': 'format warning', 'SEDAN AUTOMATIC 400': 'format warning', 'SEDAN VARIATOR 600h': 'format warning', 'SEDAN AUTOMATIC 500': 'format warning', 'ALLROAD_5_DOORS AUTOMATIC 570': 'format warning', 'ALLROAD_5_DOORS AUTOMATIC 450d': 'format warning', 'ALLROAD_5_DOORS AUTOMATIC 450': 'format warning', 'ALLROAD_5_DOORS VARIATOR 200': 'format warning', 'ALLROAD_5_DOORS AUTOMATIC 200t': 'format warning', 'ALLROAD_5_DOORS AUTOMATIC 300': 'format warning', 'ALLROAD_5_DOORS VARIATOR 300h': 'format warning', 'COUPE AUTOMATIC 350': 'format warning', 'ALLROAD_5_DOORS AUTOMATIC 350': 'format warning', 'ALLROAD_5_DOORS AUTOMATIC 270': 'format warning', 'ALLROAD_5_DOORS VARIATOR 450h': 'format warning', 'ALLROAD_5_DOORS AUTOMATIC 330': 'format warning', 'ALLROAD_5_DOORS VARIATOR 400h': 'format warning', 'ALLROAD_5_DOORS AUTOMATIC 350L': 'format warning', 'CABRIO AUTOMATIC 430': 'format warning', 'ALLROAD_5_DOORS VARIATOR 250h': 'format warning', 'HATCHBACK_5_DOORS MECHANICAL GT': 'format warning', 'MINIVAN AUTOMATIC Brawny': 'format warning', 'WAGON_5_DOORS AUTOMATIC S-Wagon': 'format warning', 'ROADSTER MECHANICAL Hard': 'format warning', 'ROADSTER AUTOMATIC Hard': 'format warning', 'ROADSTER AUTOMATIC Soft': 'format warning', 'CABRIO AUTOMATIC John': 'format warning', 'CABRIO MECHANICAL Cooper': 'format warning', 'CABRIO AUTOMATIC Cooper': 'format warning', 'HATCHBACK_3_DOORS AUTOMATIC Cooper': 'format warning', 'WAGON_5_DOORS AUTOMATIC John': 'format warning', 'WAGON_5_DOORS ROBOT Cooper': 'format warning', 'WAGON_5_DOORS AUTOMATIC Cooper': 'format warning', 'WAGON_5_DOORS AUTOMATIC One': 'format warning', 'ALLROAD_5_DOORS AUTOMATIC Cooper': 'format warning', 'ALLROAD_5_DOORS AUTOMATIC John': 'format warning', 'ALLROAD_5_DOORS AUTOMATIC One': 'format warning', 'ALLROAD_5_DOORS ROBOT Cooper': 'format warning', 'COUPE AUTOMATIC Cooper': 'format warning', 'HATCHBACK_3_DOORS MECHANICAL Cooper': 'format warning', 'HATCHBACK_3_DOORS AUTOMATIC John': 'format warning', 'HATCHBACK_3_DOORS AUTOMATIC One': 'format warning', 'HATCHBACK_5_DOORS AUTOMATIC Cooper': 'format warning', 'HATCHBACK_3_DOORS ROBOT Cooper': 'format warning', 'HATCHBACK_3_DOORS MECHANICAL John': 'format warning', 'HATCHBACK_3_DOORS VARIATOR Cooper': 'format warning', 'HATCHBACK_3_DOORS VARIATOR One': 'format warning', 'HATCHBACK_5_DOORS ROBOT Cooper': 'format warning', 'HATCHBACK_3_DOORS MECHANICAL One': 'format warning', 'COMPACTVAN AUTOMATIC Grandis': 'format warning', 'HATCHBACK_3_DOORS MECHANICAL CZ1': 'format warning', 'HATCHBACK_3_DOORS MECHANICAL CZ2': 'format warning', 'HATCHBACK_5_DOORS MECHANICAL CZ1': 'format warning', 'WAGON_5_DOORS VARIATOR Plus': 'format warning', 'HATCHBACK_5_DOORS ROBOT CZ3': 'format warning', 'HATCHBACK_5_DOORS MECHANICAL CZ2': 'format warning', 'SEDAN MECHANICAL VR-4': 'format warning', 'PICKUP_TWO MECHANICAL Easy': 'format warning', 'PICKUP_TWO MECHANICAL Super': 'format warning', 'SEDAN MECHANICAL Classic': 'format warning', 'SEDAN MECHANICAL Cedia': 'format warning', 'WAGON_5_DOORS AUTOMATIC Cedia': 'format warning', 'WAGON_5_DOORS VARIATOR Cedia': 'format warning', 'SEDAN VARIATOR Cedia': 'format warning', 'ALLROAD_5_DOORS AUTOMATIC PHEV': 'format warning', 'COMPACTVAN VARIATOR Cubic': 'format warning', 'HATCHBACK_5_DOORS AUTOMATIC 30kWh': 'format warning', 'COMPACTVAN AUTOMATIC Joy': 'format warning', 'SEDAN AUTOMATIC Latio': 'format warning', 'HATCHBACK_3_DOORS AUTOMATIC GTC': 'format warning', 'HATCHBACK_3_DOORS MECHANICAL GTC': 'format warning', 'HATCHBACK_3_DOORS ROBOT GTC': 'format warning', 'SEDAN MECHANICAL C16NZ': 'format warning', 'HATCHBACK_5_DOORS MECHANICAL 16LZ2': 'format warning', 'WAGON_5_DOORS MECHANICAL X16SZR': 'format warning', 'HATCHBACK_3_DOORS MECHANICAL C16NZ': 'format warning', 'HATCHBACK_3_DOORS AUTOMATIC X16SZR': 'format warning', 'WAGON_5_DOORS MECHANICAL 16LZ2': 'format warning', 'HATCHBACK_3_DOORS MECHANICAL Classic': 'format warning', 'HATCHBACK_5_DOORS MECHANICAL Classic': 'format warning', 'HATCHBACK_5_DOORS MECHANICAL C16NZ': 'format warning', 'COMPACTVAN MECHANICAL CNG': 'format warning', 'HATCHBACK_3_DOORS MECHANICAL GSi': 'format warning', 'HATCHBACK_5_DOORS MECHANICAL GSi': 'format warning', 'WAGON_5_DOORS AUTOMATIC Country': 'format warning', 'SEDAN MECHANICAL KAT': 'format warning', 'LIFTBACK MECHANICAL KAT': 'format warning', 'HATCHBACK_3_DOORS AUTOMATIC +': 'format warning', 'HATCHBACK_3_DOORS MECHANICAL GT': 'format warning', 'SEDAN AUTOMATIC GT': 'format warning', 'MINIVAN AUTOMATIC Long': 'format warning', 'COMPACTVAN MECHANICAL 7': 'format warning', 'COUPE ROBOT Carrera': 'format warning', 'COUPE MECHANICAL Turbo': 'format warning', 'COUPE AUTOMATIC Turbo': 'format warning', 'CABRIO AUTOMATIC Carrera': 'format warning', 'COUPE ROBOT Turbo': 'format warning', 'COUPE AUTOMATIC Carrera': 'format warning', 'COUPE MECHANICAL Carrera': 'format warning', 'CABRIO ROBOT Turbo': 'format warning', 'TARGA ROBOT 4': 'format warning', 'CABRIO ROBOT Carrera': 'format warning', 'TARGA ROBOT 4S': 'format warning', 'COUPE ROBOT RS': 'format warning', 'ROADSTER ROBOT S': 'format warning', 'ALLROAD_5_DOORS AUTOMATIC Turbo': 'format warning', 'ALLROAD_5_DOORS AUTOMATIC Diesel': 'format warning', 'ALLROAD_5_DOORS AUTOMATIC GTS': 'format warning', 'ALLROAD_5_DOORS AUTOMATIC E-Hybrid': 'format warning', 'COUPE ROBOT S': 'format warning', 'ALLROAD_5_DOORS ROBOT GTS': 'format warning', 'ALLROAD_5_DOORS ROBOT S': 'format warning', 'ALLROAD_5_DOORS ROBOT Turbo': 'format warning', 'HATCHBACK_5_DOORS ROBOT Turbo': 'format warning', 'HATCHBACK_5_DOORS ROBOT 4S': 'format warning', 'HATCHBACK_5_DOORS ROBOT GTS': 'format warning', 'HATCHBACK_5_DOORS ROBOT 4': 'format warning', 'HATCHBACK_5_DOORS ROBOT S': 'format warning', 'HATCHBACK_5_DOORS AUTOMATIC Diesel': 'format warning', 'SEDAN AUTOMATIC 4S': 'format warning', 'SEDAN AUTOMATIC Turbo': 'format warning', 'SEDAN MECHANICAL Europa': 'format warning', 'HATCHBACK_5_DOORS MECHANICAL Campus': 'format warning', 'MINIVAN MECHANICAL 5-speed': 'format warning', 'COMPACTVAN MECHANICAL Be': 'format warning', 'SEDAN MECHANICAL Stepway': 'format warning', 'SEDAN VARIATOR Stepway': 'format warning', 'SEDAN AUTOMATIC Stepway': 'format warning', 'HATCHBACK_5_DOORS ROBOT Stepway': 'format warning', 'HATCHBACK_5_DOORS MECHANICAL Stepway': 'format warning', 'HATCHBACK_5_DOORS AUTOMATIC Stepway': 'format warning', 'HATCHBACK_5_DOORS VARIATOR Stepway': 'format warning', 'COMPACTVAN MECHANICAL RX4': 'format warning', 'COMPACTVAN MECHANICAL Conquest': 'format warning', 'COUPE AUTOMATIC Electro': 'format warning', 'SEDAN MECHANICAL 100': 'format warning', 'HATCHBACK_5_DOORS AUTOMATIC Scout': 'format warning', 'WAGON_5_DOORS ROBOT DSG7': 'format warning', 'WAGON_5_DOORS ROBOT Scout': 'format warning', 'LIFTBACK ROBOT DSG7': 'format warning', 'WAGON_5_DOORS MECHANICAL Scout': 'format warning', 'LIFTBACK ROBOT DSG': 'format warning', 'LIFTBACK ROBOT ACT': 'format warning', 'WAGON_5_DOORS ROBOT DSG': 'format warning', 'ALLROAD_5_DOORS AUTOMATIC tS': 'format warning', 'ALLROAD_5_DOORS MECHANICAL STi': 'format warning', 'ALLROAD_5_DOORS AUTOMATIC S-Edition': 'format warning', 'HATCHBACK_5_DOORS MECHANICAL XV': 'format warning', 'HATCHBACK_5_DOORS AUTOMATIC XV': 'format warning', 'SEDAN MECHANICAL GT': 'format warning', 'WAGON_5_DOORS MECHANICAL GT': 'format warning', 'WAGON_5_DOORS AUTOMATIC GT': 'format warning', 'SEDAN VARIATOR S4': 'format warning', 'ALLROAD_5_DOORS AUTOMATIC XL-7': 'format warning', 'ALLROAD_5_DOORS MECHANICAL XL-7': 'format warning', 'SEDAN AUTOMATIC US': 'format warning', 'SEDAN AUTOMATIC Japan': 'format warning', 'SEDAN AUTOMATIC Gracia': 'format warning', 'WAGON_5_DOORS AUTOMATIC Gracia': 'format warning', 'SEDAN AUTOMATIC Prominent': 'format warning', 'COUPE MECHANICAL GT-Four': 'format warning', 'COUPE AUTOMATIC GT': 'format warning', 'COUPE MECHANICAL GT': 'format warning', 'SEDAN ROBOT AMT': 'format warning', 'WAGON_5_DOORS AUTOMATIC Fielder': 'format warning', 'SEDAN VARIATOR Axio': 'format warning', 'WAGON_5_DOORS VARIATOR Fielder': 'format warning', 'SEDAN_HARDTOP AUTOMATIC Ceres': 'format warning', 'HATCHBACK_5_DOORS AUTOMATIC Runx': 'format warning', 'LIFTBACK MECHANICAL i': 'format warning', 'HATCHBACK_5_DOORS MECHANICAL i': 'format warning', 'LIFTBACK MECHANICAL SF': 'format warning', 'SEDAN AUTOMATIC Premio': 'format warning', 'MINIVAN AUTOMATIC Lucida': 'format warning', 'MINIVAN AUTOMATIC Emina': 'format warning', 'MINIVAN AUTOMATIC Regius': 'format warning', 'ALLROAD_5_DOORS MECHANICAL 105': 'format warning', 'ALLROAD_5_DOORS AUTOMATIC Cygnus': 'format warning', 'ALLROAD_3_DOORS MECHANICAL 78': 'format warning', 'ALLROAD_5_DOORS MECHANICAL 76': 'format warning', 'PICKUP_ONE MECHANICAL 79': 'format warning', 'ALLROAD_5_DOORS AUTOMATIC Arctic': 'format warning', 'COMPACTVAN AUTOMATIC Noah': 'format warning', 'WAGON_5_DOORS AUTOMATIC Qualis': 'format warning', 'HATCHBACK_5_DOORS AUTOMATIC JDM': 'format warning', 'ALLROAD_5_DOORS AUTOMATIC Long': 'format warning', 'PICKUP_ONE_HALF AUTOMATIC Long': 'format warning', 'PICKUP_TWO AUTOMATIC CrewMax': 'format warning', 'PICKUP_TWO AUTOMATIC Double': 'format warning', 'WAGON_5_DOORS AUTOMATIC Ardeo': 'format warning', 'HATCHBACK_5_DOORS ROBOT Multimode': 'format warning', 'HATCHBACK_3_DOORS ROBOT Multimode': 'format warning', 'PICKUP_TWO AUTOMATIC full-time': 'format warning', 'PICKUP_TWO MECHANICAL full-time': 'format warning', 'PICKUP_TWO MECHANICAL part-time': 'format warning', 'COMPACTVAN MECHANICAL Maxi': 'format warning', 'COMPACTVAN ROBOT Maxi': 'format warning', 'COMPACTVAN MECHANICAL BiFuel': 'format warning', 'COMPACTVAN MECHANICAL Alltrack': 'format warning', 'COMPACTVAN MECHANICAL EcoFuel': 'format warning', 'MINIVAN ROBOT Long': 'format warning', 'MINIVAN MECHANICAL 4MOTION': 'format warning', 'HATCHBACK_5_DOORS AUTOMATIC e-Golf': 'format warning', 'HATCHBACK_5_DOORS MECHANICAL KAT': 'format warning', 'HATCHBACK_3_DOORS MECHANICAL VR6': 'format warning', 'HATCHBACK_5_DOORS ROBOT GTI\"35\"': 'format warning', 'WAGON_5_DOORS ROBOT Alltrack': 'format warning', 'SEDAN ROBOT EcoFuel': 'format warning', 'WAGON_5_DOORS ROBOT EcoFuel': 'format warning', 'SEDAN AUTOMATIC 5-Seater': 'format warning', 'SEDAN AUTOMATIC 4-Seater': 'format warning', 'HATCHBACK_5_DOORS AUTOMATIC Cross': 'format warning', 'ALLROAD_5_DOORS AUTOMATIC Allspace': 'format warning', 'ALLROAD_5_DOORS ROBOT AMT': 'format warning', 'ALLROAD_5_DOORS ROBOT Allspace': 'format warning', 'COMPACTVAN MECHANICAL Cross': 'format warning', 'COMPACTVAN ROBOT Cross': 'format warning', 'COMPACTVAN ROBOT EcoFuel': 'format warning', 'MINIVAN MECHANICAL Syncro': 'format warning', 'VAN MECHANICAL 4MOTION': 'format warning', 'SEDAN MECHANICAL R': 'format warning', 'SEDAN AUTOMATIC T-5R': 'format warning', 'SEDAN MECHANICAL T-5R': 'format warning', 'SEDAN AUTOMATIC Bi-Fuel': 'format warning', 'WAGON_5_DOORS AUTOMATIC XC': 'format warning', 'PICKUP_TWO MECHANICAL G3': 'format warning', 'PICKUP_TWO MECHANICAL G5': 'format warning', 'PICKUP_ONE MECHANICAL G1': 'format warning', 'ALLROAD_5_DOORS MECHANICAL 110': 'format warning', 'PICKUP_TWO MECHANICAL 130': 'format warning', 'ALLROAD_5_DOORS MECHANICAL Base': 'format warning', 'ALLROAD_3_DOORS MECHANICAL 90': 'format warning', 'ALLROAD_5_DOORS AUTOMATIC Ingenium': 'format warning', 'ALLROAD_5_DOORS AUTOMATIC Supercharged': 'format warning', 'ALLROAD_5_DOORS AUTOMATIC 9-speed': 'format warning', 'ALLROAD_3_DOORS AUTOMATIC 6-speed': 'format warning', 'ALLROAD_3_DOORS AUTOMATIC 9-speed': 'format warning', 'ALLROAD_5_DOORS AUTOMATIC SVR': 'format warning', 'HATCHBACK_5_DOORS ROBOT 200': 'format warning', 'HATCHBACK_5_DOORS ROBOT 180': 'format warning', 'HATCHBACK_3_DOORS VARIATOR 200': 'format warning', 'HATCHBACK_5_DOORS VARIATOR 160': 'format warning', 'HATCHBACK_5_DOORS VARIATOR 180': 'format warning', 'HATCHBACK_5_DOORS VARIATOR 200': 'format warning', 'SEDAN ROBOT 200': 'format warning', 'HATCHBACK_3_DOORS VARIATOR 170': 'format warning', 'HATCHBACK_5_DOORS AUTOMATIC 160': 'format warning', 'HATCHBACK_5_DOORS ROBOT 220': 'format warning', 'HATCHBACK_5_DOORS MECHANICAL 150': 'format warning', 'HATCHBACK_5_DOORS MECHANICAL 140': 'format warning', 'HATCHBACK_5_DOORS VARIATOR 150': 'format warning', 'HATCHBACK_5_DOORS AUTOMATIC 210': 'format warning', 'HATCHBACK_3_DOORS VARIATOR 150': 'format warning', 'HATCHBACK_5_DOORS AUTOMATIC 140': 'format warning', 'HATCHBACK_3_DOORS MECHANICAL 150': 'format warning', 'HATCHBACK_5_DOORS VARIATOR 170': 'format warning', 'HATCHBACK_5_DOORS MECHANICAL 160': 'format warning', 'HATCHBACK_5_DOORS MECHANICAL 170': 'format warning', 'HATCHBACK_5_DOORS ROBOT 45': 'format warning', 'COUPE ROBOT C': 'format warning', 'LIFTBACK ROBOT 63': 'format warning', 'LIFTBACK ROBOT 53': 'format warning', 'LIFTBACK ROBOT 43': 'format warning', 'ROADSTER ROBOT C': 'format warning', 'HATCHBACK_5_DOORS AUTOMATIC 250': 'format warning', 'SEDAN AUTOMATIC 180': 'format warning', 'WAGON_5_DOORS AUTOMATIC 180': 'format warning', 'COUPE AUTOMATIC 200': 'format warning', 'HATCHBACK_3_DOORS MECHANICAL 180': 'format warning', 'COUPE AUTOMATIC 180': 'format warning', 'SEDAN AUTOMATIC 230': 'format warning', 'SEDAN AUTOMATIC 240': 'format warning', 'SEDAN MECHANICAL 180': 'format warning', 'SEDAN AUTOMATIC 450': 'format warning', 'SEDAN AUTOMATIC 220': 'format warning', 'SEDAN AUTOMATIC 280': 'format warning', 'COUPE AUTOMATIC 300': 'format warning', 'SEDAN AUTOMATIC 320': 'format warning', 'HATCHBACK_3_DOORS AUTOMATIC 230': 'format warning', 'WAGON_5_DOORS AUTOMATIC 200': 'format warning', 'SEDAN MECHANICAL 240': 'format warning', 'HATCHBACK_3_DOORS AUTOMATIC 200': 'format warning', 'HATCHBACK_3_DOORS AUTOMATIC 180': 'format warning', 'WAGON_5_DOORS AUTOMATIC 230': 'format warning', 'WAGON_5_DOORS AUTOMATIC 220': 'format warning', 'HATCHBACK_3_DOORS MECHANICAL 230': 'format warning', 'WAGON_5_DOORS AUTOMATIC 240': 'format warning', 'WAGON_5_DOORS MECHANICAL 180': 'format warning', 'SEDAN MECHANICAL 220': 'format warning', 'WAGON_5_DOORS MECHANICAL 220': 'format warning', 'COUPE AUTOMATIC 250': 'format warning', 'WAGON_5_DOORS AUTOMATIC 320': 'format warning', 'SEDAN MECHANICAL 230': 'format warning', 'WAGON_5_DOORS AUTOMATIC 270': 'format warning', 'COUPE AUTOMATIC 63': 'format warning', 'SEDAN AUTOMATIC 63': 'format warning', 'COUPE AUTOMATIC 43': 'format warning', 'SEDAN AUTOMATIC 43': 'format warning', 'COMPACTVAN MECHANICAL 109': 'format warning', 'COUPE_HARDTOP AUTOMATIC 500': 'format warning', 'COUPE_HARDTOP AUTOMATIC 550': 'format warning', 'COUPE AUTOMATIC 500': 'format warning', 'COUPE_HARDTOP AUTOMATIC 600': 'format warning', 'COUPE AUTOMATIC 600': 'format warning', 'COUPE AUTOMATIC 420': 'format warning', 'COUPE_HARDTOP AUTOMATIC 63': 'format warning', 'COUPE_HARDTOP AUTOMATIC 65': 'format warning', 'SEDAN ROBOT 250': 'format warning', 'WAGON_5_DOORS ROBOT 250': 'format warning', 'COUPE AUTOMATIC 230': 'format warning', 'CABRIO AUTOMATIC 500': 'format warning', 'COUPE_HARDTOP AUTOMATIC 320': 'format warning', 'CABRIO AUTOMATIC 200': 'format warning', 'COUPE_HARDTOP AUTOMATIC 280': 'format warning', 'COUPE AUTOMATIC 430': 'format warning', 'COUPE_HARDTOP AUTOMATIC 240': 'format warning', 'COUPE AUTOMATIC 320': 'format warning', 'COUPE MECHANICAL 200': 'format warning', 'COUPE_HARDTOP AUTOMATIC 200': 'format warning', 'COUPE_HARDTOP AUTOMATIC 350': 'format warning', 'CABRIO AUTOMATIC 230': 'format warning', 'COUPE MECHANICAL 230': 'format warning', 'CABRIO AUTOMATIC 320': 'format warning', 'WAGON_5_DOORS AUTOMATIC 350': 'format warning', 'SEDAN AUTOMATIC 550': 'format warning', 'WAGON_5_DOORS AUTOMATIC 500': 'format warning', 'WAGON_5_DOORS AUTOMATIC 400': 'format warning', 'WAGON_5_DOORS AUTOMATIC 63': 'format warning', 'COUPE_HARDTOP AUTOMATIC 250': 'format warning', 'CABRIO AUTOMATIC 300': 'format warning', 'CABRIO AUTOMATIC 250': 'format warning', 'COUPE AUTOMATIC 400': 'format warning', 'COUPE AUTOMATIC 450': 'format warning', 'SEDAN AUTOMATIC 420': 'format warning', 'SEDAN MECHANICAL 270': 'format warning', 'WAGON_5_DOORS AUTOMATIC 250': 'format warning', 'WAGON_5_DOORS AUTOMATIC All-Terrain': 'format warning', 'SEDAN MECHANICAL 280': 'format warning', 'CABRIO AUTOMATIC 350': 'format warning', 'WAGON_5_DOORS MECHANICAL 240': 'format warning', 'WAGON_5_DOORS MECHANICAL 250': 'format warning', 'SEDAN AUTOMATIC 270': 'format warning', 'WAGON_5_DOORS AUTOMATIC 280': 'format warning', 'SEDAN MECHANICAL 250': 'format warning', 'WAGON_5_DOORS AUTOMATIC 430': 'format warning', 'COUPE_HARDTOP MECHANICAL 200': 'format warning', 'SEDAN AUTOMATIC 290': 'format warning', 'SEDAN MECHANICAL 320': 'format warning', 'SEDAN AUTOMATIC 50': 'format warning', 'COUPE AUTOMATIC 53': 'format warning', 'ALLROAD_5_DOORS AUTOMATIC 400': 'format warning', 'ALLROAD_5_DOORS AUTOMATIC 500': 'format warning', 'ALLROAD_OPEN AUTOMATIC 500': 'format warning', 'ALLROAD_3_DOORS AUTOMATIC 320': 'format warning', 'ALLROAD_5_DOORS AUTOMATIC 320': 'format warning', 'ALLROAD_3_DOORS MECHANICAL 230': 'format warning', 'ALLROAD_5_DOORS AUTOMATIC 290': 'format warning', 'ALLROAD_3_DOORS AUTOMATIC 350': 'format warning', 'ALLROAD_5_DOORS AUTOMATIC 280': 'format warning', 'ALLROAD_3_DOORS MECHANICAL 300': 'format warning', 'ALLROAD_5_DOORS AUTOMATIC 63': 'format warning', 'ALLROAD_5_DOORS AUTOMATIC 65': 'format warning', 'ALLROAD_5_DOORS AUTOMATIC 550': 'format warning', 'ALLROAD_5_DOORS AUTOMATIC 420': 'format warning', 'ALLROAD_5_DOORS ROBOT 200': 'format warning', 'ALLROAD_5_DOORS ROBOT 250': 'format warning', 'ALLROAD_5_DOORS ROBOT 45': 'format warning', 'ALLROAD_5_DOORS AUTOMATIC 200': 'format warning', 'ALLROAD_5_DOORS AUTOMATIC 250': 'format warning', 'ALLROAD_5_DOORS AUTOMATIC 220': 'format warning', 'ALLROAD_5_DOORS AUTOMATIC 43': 'format warning', 'ALLROAD_5_DOORS AUTOMATIC 53': 'format warning', 'ALLROAD_5_DOORS AUTOMATIC 430': 'format warning', 'ALLROAD_5_DOORS MECHANICAL 230': 'format warning', 'ALLROAD_5_DOORS MECHANICAL 270': 'format warning', 'ALLROAD_5_DOORS AUTOMATIC 600': 'format warning', 'SEDAN AUTOMATIC 560': 'format warning', 'SEDAN AUTOMATIC 600': 'format warning', 'SEDAN AUTOMATIC 650': 'format warning', 'MINIVAN AUTOMATIC 350': 'format warning', 'MINIVAN AUTOMATIC 280': 'format warning', 'MINIVAN AUTOMATIC 320': 'format warning', 'MINIVAN AUTOMATIC 500': 'format warning', 'MINIVAN AUTOMATIC 300': 'format warning', 'COUPE AUTOMATIC 560': 'format warning', 'LIMOUSINE AUTOMATIC Pullman': 'format warning', 'SEDAN AUTOMATIC 380': 'format warning', 'SEDAN AUTOMATIC 260': 'format warning', 'SEDAN MECHANICAL 300': 'format warning', 'COUPE MECHANICAL 500': 'format warning', 'SEDAN AUTOMATIC 65': 'format warning', 'CABRIO AUTOMATIC 63': 'format warning', 'ROADSTER AUTOMATIC 550': 'format warning', 'ROADSTER AUTOMATIC 400': 'format warning', 'ROADSTER AUTOMATIC 250': 'format warning', 'ROADSTER AUTOMATIC 350': 'format warning', 'ROADSTER AUTOMATIC 500': 'format warning', 'ROADSTER AUTOMATIC 600': 'format warning', 'ROADSTER AUTOMATIC 300': 'format warning', 'ROADSTER AUTOMATIC 380': 'format warning', 'COUPE AUTOMATIC 280': 'format warning', 'ROADSTER AUTOMATIC 320': 'format warning', 'ROADSTER AUTOMATIC 230': 'format warning', 'ROADSTER MECHANICAL 300': 'format warning', 'ROADSTER AUTOMATIC 63': 'format warning', 'ROADSTER AUTOMATIC 55': 'format warning', 'ROADSTER AUTOMATIC 200': 'format warning', 'ROADSTER AUTOMATIC 280': 'format warning', 'ROADSTER MECHANICAL 230': 'format warning', 'ROADSTER MECHANICAL 200': 'format warning', 'ROADSTER ROBOT GT': 'format warning', 'MINIVAN AUTOMATIC 250': 'format warning', 'MINIVAN AUTOMATIC 220': 'format warning', 'MINIVAN AUTOMATIC 200': 'format warning', 'MINIVAN AUTOMATIC 230': 'format warning', 'MINIVAN MECHANICAL 230': 'format warning', 'MINIVAN MECHANICAL L1': 'format warning', 'MINIVAN AUTOMATIC L3': 'format warning', 'MINIVAN AUTOMATIC L2': 'format warning', 'MINIVAN AUTOMATIC L1': 'format warning', 'MINIVAN AUTOMATIC Marco': 'format warning', 'MINIVAN MECHANICAL L2': 'format warning', 'MINIVAN AUTOMATIC 121': 'format warning', 'MINIVAN AUTOMATIC 113': 'format warning', 'MINIVAN AUTOMATIC 111': 'format warning', 'MINIVAN AUTOMATIC 119': 'format warning', 'MINIVAN MECHANICAL 111': 'format warning', 'MINIVAN AUTOMATIC 114': 'format warning', 'MINIVAN AUTOMATIC 112': 'format warning', 'MINIVAN MECHANICAL 108': 'format warning', 'MINIVAN AUTOMATIC 115': 'format warning', 'MINIVAN MECHANICAL 109': 'format warning', 'MINIVAN MECHANICAL 115': 'format warning', 'MINIVAN AUTOMATIC 110': 'format warning', 'MINIVAN MECHANICAL 110': 'format warning', 'MINIVAN MECHANICAL 114': 'format warning', 'MINIVAN MECHANICAL 113': 'format warning', 'MINIVAN MECHANICAL 112': 'format warning', 'MINIVAN AUTOMATIC 116': 'format warning', 'COUPE MECHANICAL 220': 'format warning', 'COUPE MECHANICAL 280': 'format warning', 'WAGON_5_DOORS MECHANICAL 230': 'format warning', 'SEDAN MECHANICAL 260': 'format warning', 'COUPE_HARDTOP AUTOMATIC 230': 'format warning', 'COUPE_HARDTOP MECHANICAL 230': 'format warning', 'PICKUP_TWO AUTOMATIC 350': 'format warning', 'PICKUP_TWO AUTOMATIC 250': 'format warning', 'ALLROAD_5_DOORS AUTOMATIC 4-speed': 'format warning', 'PICKUP_TWO MECHANICAL Sports': 'format warning', 'PICKUP_TWO AUTOMATIC Sports': 'format warning', 'ALLROAD_5_DOORS AUTOMATIC': 'format warning', 'HATCHBACK_5_DOORS AUTOMATIC': 'format warning', 'MINIVAN AUTOMATIC': 'format warning', 'SEDAN AUTOMATIC': 'format warning', 'COUPE AUTOMATIC': 'format warning', 'LIFTBACK AUTOMATIC': 'format warning'}\n"
     ]
    },
    {
     "data": {
      "text/plain": [
       "array([2.8, 1.8, 2.3, 2. , 2.6, 2.2, nan, 2.5, 1.9, 2.1, 2.4, 1.6, 1.3,\n",
       "       3.3, 1.4, 1.2, 3.2, 1.5, 3.1, 3. , 2.7, 4.2, 4. , 3.9, 6. , 3.7,\n",
       "       4.1, 3.6, 5.9, 2.9, 5. , 5.2, 0.7, 4.4, 4.9, 4.8, 4.6, 6.2, 4.5,\n",
       "       6.4, 8.2, 5.3, 5.7, 7. , 1.1, 0.8, 3.4, 4.3, 8.1, 5.4, 3.8, 1.7,\n",
       "       6.6, 1. , 7.5, 7.4, 6.5, 3.5, 6.8, 4.7, 6.7, 5.8, 7.3, 5.6])"
      ]
     },
     "metadata": {},
     "output_type": "display_data"
    },
    {
     "data": {
      "text/plain": [
       "array([3.5, 2.3, 1.4, 4.4, 3. , 2.2, 1.8, 2. , 2.4, 2.5, 2.8, 2.6, 2.1,\n",
       "       1.6, 1.9, 3.3, 1.2, 1.5, 3.2, 2.7, 3.1, 4.2, 3.7, 6. , 4.1, 4. ,\n",
       "       6.3, nan, 3.6, 5.9, 5.2, 2.9, 5. , 6.8, 4.8, 3.4, 0.6, 5.4, 3.9,\n",
       "       6.6, 0.7, 4.9, 4.6, 6.2, 1.3, 1.1, 4.3, 5.3, 5.7, 6.5, 3.8, 1.7,\n",
       "       1. , 0.8, 7.4, 7.5, 8.1, 5.8, 6.1, 6.4, 5.5, 4.5, 5.6, 4.7, 0.9])"
      ]
     },
     "metadata": {},
     "output_type": "display_data"
    },
    {
     "data": {
      "text/plain": [
       "array([1.2, 1.6, 1.8, 2. , 1.4, 1.3, 1. , 3.6, 1.5, 1.9, 2.8, 1.1, 2.5,\n",
       "       4.2, 3. , 4. , 5.9, 2.7, 3.1, 2.4, 5.2, 3.2, 4.1, 6.3, 2.3, 6. ,\n",
       "       2.2, 3.7, 2.9, 5. , 3.3, 2.1, 2.6, nan, 3.5, 1.7, 0.7, 4.4, 4.8,\n",
       "       5.4, 6.6, 4.9, 3.8, 3.4, 3.9, 4.6, 5.6, 4.5, 5.5, 6.2, 4.7, 4.3,\n",
       "       5.8, 5.3, 5.7])"
      ]
     },
     "metadata": {},
     "output_type": "display_data"
    }
   ],
   "source": [
    "progExtractVolume = re.compile('(\\d{1}\\.\\d{1})')\n",
    "\n",
    "errors = {}\n",
    "def ExtractVolume(x):\n",
    "    try:\n",
    "        matches = progExtractVolume.findall(x)\n",
    "        res = float(matches[0].strip())\n",
    "        if res > 9.0:\n",
    "            print('value warning: ', x)        \n",
    "            res = np.nan\n",
    "        return res\n",
    "    except:\n",
    "        errors[x] = 'format warning'\n",
    "        return np.nan\n",
    "\n",
    "    \n",
    "#извлекаем объем двигателя из vehicleConfiguration в новую фичу Volume\n",
    "df_train_2020['volume'] = df_train_2020['vehicleConfiguration'].apply(lambda x: ExtractVolume(x))\n",
    "df_train_2021['volume'] = df_train_2021['vehicleConfiguration'].apply(lambda x: ExtractVolume(x))\n",
    "df_test['volume'] = df_test['vehicleConfiguration'].apply(lambda x: ExtractVolume(x))\n",
    "\n",
    "print(errors)\n",
    "\n",
    "#в остальном фича vehicleConfiguration дублирует информацию bodyType и transmission. Удаляем\n",
    "df_train_2020 = df_train_2020.drop(['vehicleConfiguration'], axis=1)\n",
    "df_train_2021 = df_train_2021.drop(['vehicleConfiguration'], axis=1)\n",
    "df_test = df_test.drop(['vehicleConfiguration'], axis=1)\n",
    "\n",
    "display(df_train_2020['volume'].unique())\n",
    "display(df_train_2021['volume'].unique())\n",
    "display(df_test['volume'].unique())"
   ]
  },
  {
   "cell_type": "code",
   "execution_count": 28,
   "metadata": {},
   "outputs": [
    {
     "data": {
      "text/plain": [
       "array(['2.8', '1.8', '2.3', '2.0', '2.6', '2.2', 'S4', '2.0d', '2.5d',\n",
       "       '1.9', '2.1', '2.4', '1.6', '1.9d', '1.6d', '1.3', '3.3', '1.4',\n",
       "       '1.2d', 'ultra', '1.2', '3.2', '1.5', '8V', '3.1', '3.0d', '2.7d',\n",
       "       '16V', '3.0', '7S-tronic', 'tiptronic', '45', '55', '2.7', '4.2',\n",
       "       'S-tronic', 'Tiptronic', 'Long', '4.0', '3.9d', '6.0', '3.7',\n",
       "       '4.1d', '35', '8tiptronic', 'clean', '2.0hyb', '3.6', '5.9d',\n",
       "       'V10', 'V8', '2.5', '2.9', '5.0', '5.2', 'M135i', '116i', '120i',\n",
       "       '118i', '135i', 'M140i', '125i', '120d', '130i', '118d', '218i',\n",
       "       '220i', '220d', '218d', '216d', '335i', '320i', '318d', '318i',\n",
       "       '320d', '316i', '328i', '330i', '325xi', '325i', '330d', '340i',\n",
       "       '323i', '335d', '335xi', '330xi', '316', '315', '318', 'N46',\n",
       "       '420d', '428i', '420i', '435i', '430i', '440i', '520d', '530d',\n",
       "       '525i', '523i', '520i', '530i', '525d', '528i', '550i', '535d',\n",
       "       'M550i', '540i', '535i', '530xi', '530Li', 'M550d', '525xi', '518',\n",
       "       '520Li', '528Li', '535xi', '545i', '524d', '518i', '535Li',\n",
       "       '530xd', '630i', '640i', '650i', '640d', '630d', '620d', '635i',\n",
       "       '645i', '750d', '740i', '730Ld', '750i', '750Li', '740Li', '730d',\n",
       "       '730i', '750Ld', '730Li', '740d', 'M760Li', '740Ld', 'Active',\n",
       "       '760Li', '735i', '745d', '728i', '728Li', '760i', '745i', '745Li',\n",
       "       '735Li', '733i', '725d', 'M850i', '840i', '850i', '840d', '94Ah',\n",
       "       'Electro', 'S', '0.7hyb', '1.5hyb', 'Competition', '4.4', '4.9',\n",
       "       '18i', '20i', '18d', '20d', '25d', '28i', '23d', '25i',\n",
       "       'sDrive18i', 'xDrive20i', 'xDrive20d', 'xDrive18d', '30d', '30i',\n",
       "       '35i', '35d', 'M40d', 'M40i', 'M50d', '48i', '3.0sd', '50i',\n",
       "       '3.0i', '40d', '40i', '4.4i', '4.8i', '3.0si', '4.8is', '40e',\n",
       "       '4.6is', 'ActiveHybrid', '23i', '35is', '6.2', '4.5', '6.4', '4.6',\n",
       "       '4.1', '8.2', 'ESV', '5.3', '5.7', '7.0', '6-speed', '5-speed',\n",
       "       '1.1', '0.8', '3.4', '4.3', '8.1', '6.2d', 'SS', 'ZL1', '2.2d',\n",
       "       'Stingray', 'Z06', '5.4', '3.8', '1.7', '6.6d', '1.0', 'EV', '7.5',\n",
       "       '7.4', '6AT', '6.5d', '2.8d', 'EXT', '1.4hyb', 'SRT8', '3.5',\n",
       "       'Fifth', '6.8', '3.6hyb', 'SWB', 'Grand', '5-doors', 'Донинвест',\n",
       "       '1.4d', 'SensoDrive', 'Aircross', 'Triomphe', 'Hydractive',\n",
       "       'CrossTourer', 'XL', '2.1d', 'Best', 'SRT-4', 'R__T', 'Hellcat',\n",
       "       'SRT', '3.9', '4.7', 'Crew', '6.7d', 'SRT-10', '1.8d', '5.8',\n",
       "       '7.3d', '2.3hyb', 'Sport', 'Raptor', 'SVT', 'KAT', 'Electric',\n",
       "       'ST170', 'StreetKa', 'PowerShift', 'ST220', 'Shelby', '3.2d',\n",
       "       'SHO', 'LWB', 'Type', '0.7', 'Hybrid', 'AMT', 'Shuttle', nan,\n",
       "       'del', 'Spike', '1.3hyb', 'Spada', 'ТагАЗ', '1.5d', 'Prime',\n",
       "       'Limousine', '1.7d', 'Classic', '2.6d', '2.9d', 'EX25', 'EX35',\n",
       "       'EX37', 'FX37', 'FX35', 'FX50', 'FX45', 'FX30d', 'FX', 'G37',\n",
       "       'G35', 'G25', 'G20', 'I30', 'JX35', 'M37', 'M35', 'M56', 'M25',\n",
       "       'M45', 'Q45', '3.5hyb', '5.6', '2.5hyb', 'R', '3.1d', '5.9',\n",
       "       'Trailhawk', '4-speed', '8-speed', '2.4hyb', 'GT', 'X-Line',\n",
       "       '200h', '250', '200', '300', '350', '330', '300h', '450h', '430',\n",
       "       '460', '470', '250h', '200t', '250C', '400', '600h', '500', '570',\n",
       "       '450d', '450', '270', '400h', '350L', 'Brawny', 'S-Wagon', 'Hard',\n",
       "       'Soft', 'John', 'Cooper', 'One', 'Grandis', 'CZ1', 'CZ2', 'Plus',\n",
       "       'CZ3', '2.3d', 'VR-4', 'Easy', '2.4d', 'Super', 'Cedia', 'PHEV',\n",
       "       'Cubic', '30kWh', '1.2hyb', '4.2d', '4.8', 'Joy', 'Latio', 'GTC',\n",
       "       '1.3d', 'C16NZ', '16LZ2', 'X16SZR', 'CNG', 'GSi', 'Country', '+',\n",
       "       '7', 'Carrera', 'Turbo', '4', '4S', 'RS', '4.6hyb', 'Diesel',\n",
       "       'GTS', 'E-Hybrid', '2.9hyb', 'Europa', 'Campus', 'Be', 'Stepway',\n",
       "       'RX4', 'Conquest', '100', 'Scout', 'DSG7', 'DSG', 'ACT', 'tS',\n",
       "       'STi', 'S-Edition', 'XV', 'XL-7', 'US', 'Japan', 'Gracia',\n",
       "       'Prominent', 'GT-Four', 'Fielder', 'Axio', 'Ceres', 'Runx', 'i',\n",
       "       'SF', 'Premio', '1.8hyb', 'Lucida', 'Emina', '3.3hyb', 'Regius',\n",
       "       '4.5d', '3.4d', '105', 'Cygnus', '78', '76', '79', '3.5d', '4.0d',\n",
       "       '3.6d', 'Arctic', 'Noah', 'Qualis', 'JDM', 'CrewMax', 'Double',\n",
       "       'Ardeo', 'Multimode', 'full-time', 'part-time', 'Maxi', 'BiFuel',\n",
       "       'Alltrack', 'EcoFuel', '4MOTION', 'e-Golf', 'VR6', 'GTI\"35\"',\n",
       "       '5-Seater', '4-Seater', '4.9d', 'Cross', 'Allspace', '3.0hyb',\n",
       "       'Syncro', 'T-5R', 'Bi-Fuel', 'XC', 'G3', 'G5', 'G1', '110', '130',\n",
       "       'Base', '90', 'Ingenium', 'Supercharged', '4.4d', '9-speed', 'SVR',\n",
       "       '180', '160', '170', '220', '150', '140', '210', 'C', '63', '53',\n",
       "       '43', '230', '240', '280', '320', '109', '550', '600', '420', '65',\n",
       "       'All-Terrain', '290', '50', '560', '650', 'Pullman', '380', '260',\n",
       "       'L1', 'L3', 'L2', 'Marco', '121', '113', '111', '119', '114',\n",
       "       '112', '108', '115', '116', 'Sports'], dtype=object)"
      ]
     },
     "metadata": {},
     "output_type": "display_data"
    },
    {
     "data": {
      "text/plain": [
       "array(['3.5 LTR', '2.3 LTR', '1.4 LTR', '4.4 LTR', '3.0 LTR', '2.2 LTR',\n",
       "       '1.8 LTR', '2.0 LTR', '2.4 LTR', '2.5 LTR', '2.8 LTR', '2.6 LTR',\n",
       "       '2.1 LTR', '1.6 LTR', '1.9 LTR', '3.3 LTR', '1.2 LTR', '1.5 LTR',\n",
       "       '3.2 LTR', '2.7 LTR', '3.1 LTR', '4.2 LTR', '3.7 LTR', '6.0 LTR',\n",
       "       '4.1 LTR', '4.0 LTR', '6.3 LTR', ' LTR', '3.6 LTR', '5.9 LTR',\n",
       "       '5.2 LTR', '2.9 LTR', '5.0 LTR', '6.8 LTR', '4.8 LTR', '3.4 LTR',\n",
       "       '0.6 LTR', '5.4 LTR', '3.9 LTR', '6.6 LTR', '0.7 LTR', '4.9 LTR',\n",
       "       '4.6 LTR', '6.2 LTR', '1.3 LTR', '1.1 LTR', '4.3 LTR', '5.3 LTR',\n",
       "       '5.7 LTR', '6.5 LTR', '3.8 LTR', '1.7 LTR', '1.0 LTR', '0.8 LTR',\n",
       "       '7.4 LTR', '7.5 LTR', '8.1 LTR', '5.8 LTR', '6.1 LTR', '6.4 LTR',\n",
       "       '5.5 LTR', '4.5 LTR', '5.6 LTR', '4.7 LTR', '0.9 LTR'],\n",
       "      dtype=object)"
      ]
     },
     "metadata": {},
     "output_type": "display_data"
    },
    {
     "data": {
      "text/plain": [
       "array(['1.2 LTR', '1.6 LTR', '1.8 LTR', '2.0 LTR', '1.4 LTR', '1.3 LTR',\n",
       "       '1.0 LTR', '3.6 LTR', '1.5 LTR', '1.9 LTR', '2.8 LTR', '1.1 LTR',\n",
       "       '2.5 LTR', '4.2 LTR', '3.0 LTR', '4.0 LTR', '5.9 LTR', '2.7 LTR',\n",
       "       '3.1 LTR', '2.4 LTR', '5.2 LTR', '3.2 LTR', '4.1 LTR', '6.3 LTR',\n",
       "       '2.3 LTR', '6.0 LTR', '2.2 LTR', '3.7 LTR', '2.9 LTR', '5.0 LTR',\n",
       "       '3.3 LTR', '2.1 LTR', '2.6 LTR', ' LTR', '3.5 LTR', '1.7 LTR',\n",
       "       '0.7 LTR', '4.4 LTR', '4.8 LTR', '5.4 LTR', '6.6 LTR', '4.9 LTR',\n",
       "       '3.8 LTR', '3.4 LTR', '3.9 LTR', '4.6 LTR', '5.6 LTR', '4.5 LTR',\n",
       "       '5.5 LTR', '6.2 LTR', '4.7 LTR', '4.3 LTR', '5.8 LTR', '5.3 LTR',\n",
       "       '5.7 LTR'], dtype=object)"
      ]
     },
     "metadata": {},
     "output_type": "display_data"
    }
   ],
   "source": [
    "display(df_train_2020['engineDisplacement'].unique())\n",
    "display(df_train_2021['engineDisplacement'].unique())\n",
    "display(df_test['engineDisplacement'].unique())"
   ]
  },
  {
   "cell_type": "code",
   "execution_count": 29,
   "metadata": {},
   "outputs": [],
   "source": [
    "#уже извлекли информацию объема из vehicleConfiguration\n",
    "#да и к тому же явное несоответствие форматов и данных\n",
    "df_train_2020 = df_train_2020.drop(['engineDisplacement'], axis=1)\n",
    "df_train_2021 = df_train_2021.drop(['engineDisplacement'], axis=1)\n",
    "df_test = df_test.drop(['engineDisplacement'], axis=1)"
   ]
  },
  {
   "cell_type": "code",
   "execution_count": 30,
   "metadata": {},
   "outputs": [
    {
     "data": {
      "text/plain": [
       "array(['механическая', 'автоматическая', 'роботизированная', 'вариатор'],\n",
       "      dtype=object)"
      ]
     },
     "metadata": {},
     "output_type": "display_data"
    },
    {
     "data": {
      "text/plain": [
       "array(['автоматическая', 'роботизированная', 'механическая', 'вариатор'],\n",
       "      dtype=object)"
      ]
     },
     "metadata": {},
     "output_type": "display_data"
    },
    {
     "data": {
      "text/plain": [
       "array(['роботизированная', 'механическая', 'автоматическая', 'вариатор'],\n",
       "      dtype=object)"
      ]
     },
     "metadata": {},
     "output_type": "display_data"
    }
   ],
   "source": [
    "def ReplaceTransmission(x):\n",
    "    if x=='MECHANICAL':\n",
    "        return 'механическая'\n",
    "    if x=='ROBOT':\n",
    "        return 'роботизированная'\n",
    "    if x=='VARIATOR':\n",
    "        return 'вариатор'\n",
    "    return 'автоматическая'\n",
    "    \n",
    "df_train_2020['vehicleTransmission'] = df_train_2020['vehicleTransmission'].apply(lambda x: ReplaceTransmission(x))\n",
    "\n",
    "display(df_train_2020['vehicleTransmission'].unique())\n",
    "display(df_train_2021['vehicleTransmission'].unique())\n",
    "display(df_test['vehicleTransmission'].unique())"
   ]
  },
  {
   "cell_type": "code",
   "execution_count": 31,
   "metadata": {},
   "outputs": [
    {
     "data": {
      "text/plain": [
       "<matplotlib.axes._subplots.AxesSubplot at 0x1a30c304fa0>"
      ]
     },
     "metadata": {},
     "output_type": "display_data"
    },
    {
     "data": {
      "text/plain": [
       "<matplotlib.axes._subplots.AxesSubplot at 0x1a30c304fa0>"
      ]
     },
     "metadata": {},
     "output_type": "display_data"
    },
    {
     "data": {
      "text/plain": [
       "<matplotlib.axes._subplots.AxesSubplot at 0x1a30c304fa0>"
      ]
     },
     "metadata": {},
     "output_type": "display_data"
    },
    {
     "data": {
      "image/png": "[encoded data removed]",
      "text/plain": [
       "<Figure size 432x288 with 1 Axes>"
      ]
     },
     "metadata": {
      "needs_background": "light"
     },
     "output_type": "display_data"
    }
   ],
   "source": [
    "def ExtractPower(x):\n",
    "    try:\n",
    "        res = float(x.split()[0])\n",
    "        if res <= 0:\n",
    "            print('ExtractPower() warning: ', x)\n",
    "            return np.nan         \n",
    "        return res\n",
    "    except:\n",
    "        print('ExtractPower() warning: ', x)\n",
    "        return np.nan\n",
    "    \n",
    "df_train_2021['enginePower'] = df_train_2021['enginePower'].apply(lambda x: ExtractPower(x))\n",
    "df_test['enginePower'] = df_test['enginePower'].apply(lambda x: ExtractPower(x))\n",
    "\n",
    "#обеспечить качество данных!\n",
    "df_train_2021 = df_train_2021[df_train_2021.enginePower>0]\n",
    "\n",
    "display(df_train_2020['enginePower'].hist(bins=50))\n",
    "display(df_train_2021['enginePower'].hist(bins=50))\n",
    "display(df_test['enginePower'].hist(bins=50))"
   ]
  },
  {
   "cell_type": "code",
   "execution_count": 32,
   "metadata": {},
   "outputs": [
    {
     "data": {
      "image/png": "[encoded data removed]",
      "text/plain": [
       "<Figure size 432x288 with 1 Axes>"
      ]
     },
     "metadata": {
      "needs_background": "light"
     },
     "output_type": "display_data"
    }
   ],
   "source": [
    "progExtractMileage = re.compile('((\\d+)\\s*(\\d+)*)(\\s*км)*', re.M | re.I)\n",
    "def ExtractMileage(x):\n",
    "    try:\n",
    "        matches = progExtractMileage.findall(x)[0]\n",
    "        res = float(matches[1].strip() + matches[2].strip())\n",
    "        if res <= 0:\n",
    "            print('ExtractMileage() warning: ', x)\n",
    "            return np.nan\n",
    "        return res\n",
    "    except:\n",
    "        print('ExtractMileage() warning: ', x)\n",
    "        return np.nan\n",
    "    \n",
    "df_train_2021.mileage = df_train_2021.mileage.apply(lambda x: ExtractMileage(x))\n",
    "\n",
    "df_train_2020.mileage.hist(bins=50)\n",
    "df_train_2021.mileage.hist(bins=50)\n",
    "df_test.mileage.hist(bins=50)\n",
    "\n",
    "\n",
    "#обеспечить качество данных!\n",
    "df_train_2021 = df_train_2021[df_train_2021.mileage>0]"
   ]
  },
  {
   "cell_type": "code",
   "execution_count": 33,
   "metadata": {},
   "outputs": [
    {
     "data": {
      "text/html": [
       "<div>\n",
       "<style scoped>\n",
       "    .dataframe tbody tr th:only-of-type {\n",
       "        vertical-align: middle;\n",
       "    }\n",
       "\n",
       "    .dataframe tbody tr th {\n",
       "        vertical-align: top;\n",
       "    }\n",
       "\n",
       "    .dataframe thead th {\n",
       "        text-align: right;\n",
       "    }\n",
       "</style>\n",
       "<table border=\"1\" class=\"dataframe\">\n",
       "  <thead>\n",
       "    <tr style=\"text-align: right;\">\n",
       "      <th></th>\n",
       "      <th>0</th>\n",
       "      <th>0</th>\n",
       "      <th>0</th>\n",
       "    </tr>\n",
       "  </thead>\n",
       "  <tbody>\n",
       "    <tr>\n",
       "      <th>bodyType</th>\n",
       "      <td>седан</td>\n",
       "      <td>внедорожник</td>\n",
       "      <td>лифтбек</td>\n",
       "    </tr>\n",
       "    <tr>\n",
       "      <th>brand</th>\n",
       "      <td>audi</td>\n",
       "      <td>acura</td>\n",
       "      <td>skoda</td>\n",
       "    </tr>\n",
       "    <tr>\n",
       "      <th>color</th>\n",
       "      <td>чёрный</td>\n",
       "      <td>чёрный</td>\n",
       "      <td>синий</td>\n",
       "    </tr>\n",
       "    <tr>\n",
       "      <th>fuelType</th>\n",
       "      <td>бензин</td>\n",
       "      <td>бензин</td>\n",
       "      <td>бензин</td>\n",
       "    </tr>\n",
       "    <tr>\n",
       "      <th>numberOfDoors</th>\n",
       "      <td>4.0_дверей</td>\n",
       "      <td>5.0_дверей</td>\n",
       "      <td>5_дверей</td>\n",
       "    </tr>\n",
       "    <tr>\n",
       "      <th>vehicleTransmission</th>\n",
       "      <td>механическая</td>\n",
       "      <td>автоматическая</td>\n",
       "      <td>роботизированная</td>\n",
       "    </tr>\n",
       "    <tr>\n",
       "      <th>enginePower</th>\n",
       "      <td>174.0</td>\n",
       "      <td>290.0</td>\n",
       "      <td>105.0</td>\n",
       "    </tr>\n",
       "    <tr>\n",
       "      <th>mileage</th>\n",
       "      <td>350000.0</td>\n",
       "      <td>216464.0</td>\n",
       "      <td>74000.0</td>\n",
       "    </tr>\n",
       "    <tr>\n",
       "      <th>Привод</th>\n",
       "      <td>полный</td>\n",
       "      <td>полный</td>\n",
       "      <td>передний</td>\n",
       "    </tr>\n",
       "    <tr>\n",
       "      <th>Руль</th>\n",
       "      <td>0</td>\n",
       "      <td>0</td>\n",
       "      <td>0</td>\n",
       "    </tr>\n",
       "    <tr>\n",
       "      <th>Владельцы</th>\n",
       "      <td>3.0</td>\n",
       "      <td>2.0</td>\n",
       "      <td>3.0</td>\n",
       "    </tr>\n",
       "    <tr>\n",
       "      <th>ПТС</th>\n",
       "      <td>0</td>\n",
       "      <td>0</td>\n",
       "      <td>0</td>\n",
       "    </tr>\n",
       "    <tr>\n",
       "      <th>Владение</th>\n",
       "      <td>NaN</td>\n",
       "      <td>NaN</td>\n",
       "      <td>NaN</td>\n",
       "    </tr>\n",
       "    <tr>\n",
       "      <th>price</th>\n",
       "      <td>200000.0</td>\n",
       "      <td>1875000.0</td>\n",
       "      <td>NaN</td>\n",
       "    </tr>\n",
       "    <tr>\n",
       "      <th>model_name</th>\n",
       "      <td>100</td>\n",
       "      <td>mdx</td>\n",
       "      <td>octavia</td>\n",
       "    </tr>\n",
       "    <tr>\n",
       "      <th>private</th>\n",
       "      <td>0</td>\n",
       "      <td>0</td>\n",
       "      <td>0</td>\n",
       "    </tr>\n",
       "    <tr>\n",
       "      <th>showroom</th>\n",
       "      <td>0</td>\n",
       "      <td>1</td>\n",
       "      <td>1</td>\n",
       "    </tr>\n",
       "    <tr>\n",
       "      <th>ageModel</th>\n",
       "      <td>31.0</td>\n",
       "      <td>8.0</td>\n",
       "      <td>8.0</td>\n",
       "    </tr>\n",
       "    <tr>\n",
       "      <th>ageProd</th>\n",
       "      <td>30.0</td>\n",
       "      <td>7.0</td>\n",
       "      <td>7.0</td>\n",
       "    </tr>\n",
       "    <tr>\n",
       "      <th>volume</th>\n",
       "      <td>2.8</td>\n",
       "      <td>3.5</td>\n",
       "      <td>1.2</td>\n",
       "    </tr>\n",
       "    <tr>\n",
       "      <th>equipment_dict</th>\n",
       "      <td>NaN</td>\n",
       "      <td>{'cruise-control': True, 'asr': True, 'tinted-glass': True, 'usb': True, 'e-adjustment-wheel': True, 'multi-wheel': True, 'audiopreparation': True, 'ashtray-and-cigarette-lighter': True, 'airbag-passenger': True, 'front-centre-armrest': True, 'navigation': True, 'lock': True, 'rear-camera': True, 'electro-mirrors': True, 'electro-window-back': True, 'hatch': True, 'dark-interior': True, 'park-assist-f': True, 'body-mouldings': True, 'rear-seats-heat': True, 'leather': True, 'seat-memory': True, 'wheel-heat': True, 'led-lights': True, 'electro-rear-seat': True, 'park-assist-r': True, 'knee-airbag': True, 'engine-proof': True, 'airbag-driver': True, 'aux': True, 'isofix': True, 'electro-window-front': True, 'light-sensor': True, 'hcc': True, 'automatic-lighting-control': True, 'airbag-curtain': True, 'computer': True, 'keyless-entry': True, 'seat-transformation': True, 'wheel-power': True, 'alarm': True, 'airbag-rear-side': True, 'start-button': True, 'ptf': True, 'rain-sensor': True, 'airbag-side': True, 'tyre-pressure': True, 'turnbuckle': True, 'abs': True, 'power-child-locks-rear-doors': True, 'bluetooth': True, 'front-seats-heat': True, 'wheel-leather': True, 'climate-control-2': True, 'auto-mirrors': True, 'third-rear-headrest': True}</td>\n",
       "      <td>{\"engine-proof\":true,\"tinted-glass\":true,\"airbag-driver\":true,\"aux\":true,\"isofix\":true,\"electro-window-front\":true,\"ashtray-and-cigarette-lighter\":true,\"airbag-passenger\":true,\"computer\":true,\"high-beam-assist\":true,\"seat-transformation\":true,\"isofix-front\":true,\"wheel-power\":true,\"alarm\":true,\"lock\":true,\"door-sill-panel\":true,\"fabric-seats\":true,\"electro-mirrors\":true,\"airbag-rear-side\":true,\"electro-window-back\":true,\"steel-wheels\":true,\"ptf\":true,\"16-inch-wheels\":true,\"rain-sensor\":true,\"airbag-side\":true,\"audiosystem-cd\":true,\"dark-interior\":true,\"cooling-box\":true,\"condition\":true,\"abs\":true,\"power-child-locks-rear-doors\":true,\"front-seats-heat\":true,\"wheel-configuration2\":true,\"wheel-configuration1\":true,\"12v-socket\":true,\"park-assist-r\":true}</td>\n",
       "    </tr>\n",
       "    <tr>\n",
       "      <th>sell_id</th>\n",
       "      <td>NaN</td>\n",
       "      <td>NaN</td>\n",
       "      <td>1100575026.0</td>\n",
       "    </tr>\n",
       "  </tbody>\n",
       "</table>\n",
       "</div>"
      ],
      "text/plain": [
       "                                0  \\\n",
       "bodyType                    седан   \n",
       "brand                        audi   \n",
       "color                      чёрный   \n",
       "fuelType                   бензин   \n",
       "numberOfDoors          4.0_дверей   \n",
       "vehicleTransmission  механическая   \n",
       "enginePower                 174.0   \n",
       "mileage                  350000.0   \n",
       "Привод                     полный   \n",
       "Руль                            0   \n",
       "Владельцы                     3.0   \n",
       "ПТС                             0   \n",
       "Владение                      NaN   \n",
       "price                    200000.0   \n",
       "model_name                    100   \n",
       "private                         0   \n",
       "showroom                        0   \n",
       "ageModel                     31.0   \n",
       "ageProd                      30.0   \n",
       "volume                        2.8   \n",
       "equipment_dict                NaN   \n",
       "sell_id                       NaN   \n",
       "\n",
       "                                                                                                                                                                                                                                                                                                                                                                                                                                                                                                                                                                                                                                                                                                                                                                                                                                                                                                                                                                                                                                                                                                                                                                                                                                                                                                                              0  \\\n",
       "bodyType                                                                                                                                                                                                                                                                                                                                                                                                                                                                                                                                                                                                                                                                                                                                                                                                                                                                                                                                                                                                                                                                                                                                                                                                                                                                                                            внедорожник   \n",
       "brand                                                                                                                                                                                                                                                                                                                                                                                                                                                                                                                                                                                                                                                                                                                                                                                                                                                                                                                                                                                                                                                                                                                                                                                                                                                                                                                     acura   \n",
       "color                                                                                                                                                                                                                                                                                                                                                                                                                                                                                                                                                                                                                                                                                                                                                                                                                                                                                                                                                                                                                                                                                                                                                                                                                                                                                                                    чёрный   \n",
       "fuelType                                                                                                                                                                                                                                                                                                                                                                                                                                                                                                                                                                                                                                                                                                                                                                                                                                                                                                                                                                                                                                                                                                                                                                                                                                                                                                                 бензин   \n",
       "numberOfDoors                                                                                                                                                                                                                                                                                                                                                                                                                                                                                                                                                                                                                                                                                                                                                                                                                                                                                                                                                                                                                                                                                                                                                                                                                                                                                                        5.0_дверей   \n",
       "vehicleTransmission                                                                                                                                                                                                                                                                                                                                                                                                                                                                                                                                                                                                                                                                                                                                                                                                                                                                                                                                                                                                                                                                                                                                                                                                                                                                                              автоматическая   \n",
       "enginePower                                                                                                                                                                                                                                                                                                                                                                                                                                                                                                                                                                                                                                                                                                                                                                                                                                                                                                                                                                                                                                                                                                                                                                                                                                                                                                               290.0   \n",
       "mileage                                                                                                                                                                                                                                                                                                                                                                                                                                                                                                                                                                                                                                                                                                                                                                                                                                                                                                                                                                                                                                                                                                                                                                                                                                                                                                                216464.0   \n",
       "Привод                                                                                                                                                                                                                                                                                                                                                                                                                                                                                                                                                                                                                                                                                                                                                                                                                                                                                                                                                                                                                                                                                                                                                                                                                                                                                                                   полный   \n",
       "Руль                                                                                                                                                                                                                                                                                                                                                                                                                                                                                                                                                                                                                                                                                                                                                                                                                                                                                                                                                                                                                                                                                                                                                                                                                                                                                                                          0   \n",
       "Владельцы                                                                                                                                                                                                                                                                                                                                                                                                                                                                                                                                                                                                                                                                                                                                                                                                                                                                                                                                                                                                                                                                                                                                                                                                                                                                                                                   2.0   \n",
       "ПТС                                                                                                                                                                                                                                                                                                                                                                                                                                                                                                                                                                                                                                                                                                                                                                                                                                                                                                                                                                                                                                                                                                                                                                                                                                                                                                                           0   \n",
       "Владение                                                                                                                                                                                                                                                                                                                                                                                                                                                                                                                                                                                                                                                                                                                                                                                                                                                                                                                                                                                                                                                                                                                                                                                                                                                                                                                    NaN   \n",
       "price                                                                                                                                                                                                                                                                                                                                                                                                                                                                                                                                                                                                                                                                                                                                                                                                                                                                                                                                                                                                                                                                                                                                                                                                                                                                                                                 1875000.0   \n",
       "model_name                                                                                                                                                                                                                                                                                                                                                                                                                                                                                                                                                                                                                                                                                                                                                                                                                                                                                                                                                                                                                                                                                                                                                                                                                                                                                                                  mdx   \n",
       "private                                                                                                                                                                                                                                                                                                                                                                                                                                                                                                                                                                                                                                                                                                                                                                                                                                                                                                                                                                                                                                                                                                                                                                                                                                                                                                                       0   \n",
       "showroom                                                                                                                                                                                                                                                                                                                                                                                                                                                                                                                                                                                                                                                                                                                                                                                                                                                                                                                                                                                                                                                                                                                                                                                                                                                                                                                      1   \n",
       "ageModel                                                                                                                                                                                                                                                                                                                                                                                                                                                                                                                                                                                                                                                                                                                                                                                                                                                                                                                                                                                                                                                                                                                                                                                                                                                                                                                    8.0   \n",
       "ageProd                                                                                                                                                                                                                                                                                                                                                                                                                                                                                                                                                                                                                                                                                                                                                                                                                                                                                                                                                                                                                                                                                                                                                                                                                                                                                                                     7.0   \n",
       "volume                                                                                                                                                                                                                                                                                                                                                                                                                                                                                                                                                                                                                                                                                                                                                                                                                                                                                                                                                                                                                                                                                                                                                                                                                                                                                                                      3.5   \n",
       "equipment_dict       {'cruise-control': True, 'asr': True, 'tinted-glass': True, 'usb': True, 'e-adjustment-wheel': True, 'multi-wheel': True, 'audiopreparation': True, 'ashtray-and-cigarette-lighter': True, 'airbag-passenger': True, 'front-centre-armrest': True, 'navigation': True, 'lock': True, 'rear-camera': True, 'electro-mirrors': True, 'electro-window-back': True, 'hatch': True, 'dark-interior': True, 'park-assist-f': True, 'body-mouldings': True, 'rear-seats-heat': True, 'leather': True, 'seat-memory': True, 'wheel-heat': True, 'led-lights': True, 'electro-rear-seat': True, 'park-assist-r': True, 'knee-airbag': True, 'engine-proof': True, 'airbag-driver': True, 'aux': True, 'isofix': True, 'electro-window-front': True, 'light-sensor': True, 'hcc': True, 'automatic-lighting-control': True, 'airbag-curtain': True, 'computer': True, 'keyless-entry': True, 'seat-transformation': True, 'wheel-power': True, 'alarm': True, 'airbag-rear-side': True, 'start-button': True, 'ptf': True, 'rain-sensor': True, 'airbag-side': True, 'tyre-pressure': True, 'turnbuckle': True, 'abs': True, 'power-child-locks-rear-doors': True, 'bluetooth': True, 'front-seats-heat': True, 'wheel-leather': True, 'climate-control-2': True, 'auto-mirrors': True, 'third-rear-headrest': True}   \n",
       "sell_id                                                                                                                                                                                                                                                                                                                                                                                                                                                                                                                                                                                                                                                                                                                                                                                                                                                                                                                                                                                                                                                                                                                                                                                                                                                                                                                     NaN   \n",
       "\n",
       "                                                                                                                                                                                                                                                                                                                                                                                                                                                                                                                                                                                                                                                                                                                                                                                                            0  \n",
       "bodyType                                                                                                                                                                                                                                                                                                                                                                                                                                                                                                                                                                                                                                                                                                                                                                                              лифтбек  \n",
       "brand                                                                                                                                                                                                                                                                                                                                                                                                                                                                                                                                                                                                                                                                                                                                                                                                   skoda  \n",
       "color                                                                                                                                                                                                                                                                                                                                                                                                                                                                                                                                                                                                                                                                                                                                                                                                   синий  \n",
       "fuelType                                                                                                                                                                                                                                                                                                                                                                                                                                                                                                                                                                                                                                                                                                                                                                                               бензин  \n",
       "numberOfDoors                                                                                                                                                                                                                                                                                                                                                                                                                                                                                                                                                                                                                                                                                                                                                                                        5_дверей  \n",
       "vehicleTransmission                                                                                                                                                                                                                                                                                                                                                                                                                                                                                                                                                                                                                                                                                                                                                                          роботизированная  \n",
       "enginePower                                                                                                                                                                                                                                                                                                                                                                                                                                                                                                                                                                                                                                                                                                                                                                                             105.0  \n",
       "mileage                                                                                                                                                                                                                                                                                                                                                                                                                                                                                                                                                                                                                                                                                                                                                                                               74000.0  \n",
       "Привод                                                                                                                                                                                                                                                                                                                                                                                                                                                                                                                                                                                                                                                                                                                                                                                               передний  \n",
       "Руль                                                                                                                                                                                                                                                                                                                                                                                                                                                                                                                                                                                                                                                                                                                                                                                                        0  \n",
       "Владельцы                                                                                                                                                                                                                                                                                                                                                                                                                                                                                                                                                                                                                                                                                                                                                                                                 3.0  \n",
       "ПТС                                                                                                                                                                                                                                                                                                                                                                                                                                                                                                                                                                                                                                                                                                                                                                                                         0  \n",
       "Владение                                                                                                                                                                                                                                                                                                                                                                                                                                                                                                                                                                                                                                                                                                                                                                                                  NaN  \n",
       "price                                                                                                                                                                                                                                                                                                                                                                                                                                                                                                                                                                                                                                                                                                                                                                                                     NaN  \n",
       "model_name                                                                                                                                                                                                                                                                                                                                                                                                                                                                                                                                                                                                                                                                                                                                                                                            octavia  \n",
       "private                                                                                                                                                                                                                                                                                                                                                                                                                                                                                                                                                                                                                                                                                                                                                                                                     0  \n",
       "showroom                                                                                                                                                                                                                                                                                                                                                                                                                                                                                                                                                                                                                                                                                                                                                                                                    1  \n",
       "ageModel                                                                                                                                                                                                                                                                                                                                                                                                                                                                                                                                                                                                                                                                                                                                                                                                  8.0  \n",
       "ageProd                                                                                                                                                                                                                                                                                                                                                                                                                                                                                                                                                                                                                                                                                                                                                                                                   7.0  \n",
       "volume                                                                                                                                                                                                                                                                                                                                                                                                                                                                                                                                                                                                                                                                                                                                                                                                    1.2  \n",
       "equipment_dict       {\"engine-proof\":true,\"tinted-glass\":true,\"airbag-driver\":true,\"aux\":true,\"isofix\":true,\"electro-window-front\":true,\"ashtray-and-cigarette-lighter\":true,\"airbag-passenger\":true,\"computer\":true,\"high-beam-assist\":true,\"seat-transformation\":true,\"isofix-front\":true,\"wheel-power\":true,\"alarm\":true,\"lock\":true,\"door-sill-panel\":true,\"fabric-seats\":true,\"electro-mirrors\":true,\"airbag-rear-side\":true,\"electro-window-back\":true,\"steel-wheels\":true,\"ptf\":true,\"16-inch-wheels\":true,\"rain-sensor\":true,\"airbag-side\":true,\"audiosystem-cd\":true,\"dark-interior\":true,\"cooling-box\":true,\"condition\":true,\"abs\":true,\"power-child-locks-rear-doors\":true,\"front-seats-heat\":true,\"wheel-configuration2\":true,\"wheel-configuration1\":true,\"12v-socket\":true,\"park-assist-r\":true}  \n",
       "sell_id                                                                                                                                                                                                                                                                                                                                                                                                                                                                                                                                                                                                                                                                                                                                                                                          1100575026.0  "
      ]
     },
     "execution_count": 33,
     "metadata": {},
     "output_type": "execute_result"
    }
   ],
   "source": [
    "df_train_2020.iloc[0:1].append(df_train_2021.iloc[0:1]).append(df_test.iloc[0:1]).T"
   ]
  },
  {
   "cell_type": "code",
   "execution_count": 34,
   "metadata": {},
   "outputs": [],
   "source": [
    "df_train_2021['year_parsed'] = 2021\n",
    "df_train_2020['year_parsed'] = 2020\n",
    "df_test['year_parsed'] = 2021\n",
    "df_train_2021['test'] = 0\n",
    "df_train_2020['test'] = 0\n",
    "df_test['test'] = 1\n",
    "\n",
    "df_train = df_train_2021.append(df_train_2020)\n",
    "df_train = df_train.reset_index(drop=True)\n",
    "\n",
    "df = df_train.append(df_test)\n",
    "df = df.reset_index(drop=True)"
   ]
  },
  {
   "cell_type": "markdown",
   "metadata": {},
   "source": [
    "## 2.5. Заполнение пропусков"
   ]
  },
  {
   "cell_type": "code",
   "execution_count": 35,
   "metadata": {},
   "outputs": [
    {
     "name": "stdout",
     "output_type": "stream",
     "text": [
      "<class 'pandas.core.frame.DataFrame'>\n",
      "RangeIndex: 161297 entries, 0 to 161296\n",
      "Data columns (total 24 columns):\n",
      " #   Column               Non-Null Count   Dtype  \n",
      "---  ------               --------------   -----  \n",
      " 0   bodyType             161296 non-null  object \n",
      " 1   brand                161297 non-null  object \n",
      " 2   color                161297 non-null  object \n",
      " 3   enginePower          161296 non-null  float64\n",
      " 4   equipment_dict       75902 non-null   object \n",
      " 5   fuelType             161297 non-null  object \n",
      " 6   mileage              161297 non-null  float64\n",
      " 7   model_name           161297 non-null  object \n",
      " 8   numberOfDoors        161297 non-null  object \n",
      " 9   price                126611 non-null  float64\n",
      " 10  vehicleTransmission  161297 non-null  object \n",
      " 11  Владельцы            161295 non-null  float64\n",
      " 12  Владение             56047 non-null   float64\n",
      " 13  ПТС                  161297 non-null  int64  \n",
      " 14  Привод               161296 non-null  object \n",
      " 15  Руль                 161297 non-null  int64  \n",
      " 16  private              161297 non-null  int64  \n",
      " 17  showroom             161297 non-null  int64  \n",
      " 18  ageModel             161296 non-null  float64\n",
      " 19  ageProd              161297 non-null  float64\n",
      " 20  volume               145680 non-null  float64\n",
      " 21  year_parsed          161297 non-null  int64  \n",
      " 22  test                 161297 non-null  int64  \n",
      " 23  sell_id              34686 non-null   float64\n",
      "dtypes: float64(9), int64(6), object(9)\n",
      "memory usage: 29.5+ MB\n"
     ]
    }
   ],
   "source": [
    "df.info()"
   ]
  },
  {
   "cell_type": "code",
   "execution_count": 36,
   "metadata": {},
   "outputs": [
    {
     "data": {
      "text/plain": [
       "bodyType                    1\n",
       "brand                       0\n",
       "color                       0\n",
       "enginePower                 1\n",
       "equipment_dict          85395\n",
       "fuelType                    0\n",
       "mileage                     0\n",
       "model_name                  0\n",
       "numberOfDoors               0\n",
       "price                   34686\n",
       "vehicleTransmission         0\n",
       "Владельцы                   2\n",
       "Владение               105250\n",
       "ПТС                         0\n",
       "Привод                      1\n",
       "Руль                        0\n",
       "private                     0\n",
       "showroom                    0\n",
       "ageModel                    1\n",
       "ageProd                     0\n",
       "volume                  15617\n",
       "year_parsed                 0\n",
       "test                        0\n",
       "sell_id                126611\n",
       "dtype: int64"
      ]
     },
     "execution_count": 36,
     "metadata": {},
     "output_type": "execute_result"
    }
   ],
   "source": [
    "# подсчитаем нули и пропуски\n",
    "df.isnull().sum()"
   ]
  },
  {
   "cell_type": "code",
   "execution_count": 37,
   "metadata": {},
   "outputs": [
    {
     "data": {
      "text/plain": [
       "bodyType                   1\n",
       "brand                      0\n",
       "color                      0\n",
       "fuelType                   0\n",
       "numberOfDoors              0\n",
       "vehicleTransmission        0\n",
       "enginePower                1\n",
       "mileage                    0\n",
       "Привод                     1\n",
       "Руль                       0\n",
       "Владельцы                  0\n",
       "ПТС                        0\n",
       "Владение               46354\n",
       "price                      0\n",
       "model_name                 0\n",
       "private                    0\n",
       "showroom                   0\n",
       "ageModel                   1\n",
       "ageProd                    0\n",
       "volume                 15466\n",
       "year_parsed                0\n",
       "test                       0\n",
       "dtype: int64"
      ]
     },
     "execution_count": 37,
     "metadata": {},
     "output_type": "execute_result"
    }
   ],
   "source": [
    "df_train_2020.isnull().sum()\n"
   ]
  },
  {
   "cell_type": "code",
   "execution_count": 38,
   "metadata": {},
   "outputs": [
    {
     "data": {
      "text/plain": [
       "bodyType                   0\n",
       "brand                      0\n",
       "color                      0\n",
       "enginePower                0\n",
       "equipment_dict             0\n",
       "fuelType                   0\n",
       "mileage                    0\n",
       "model_name                 0\n",
       "numberOfDoors              0\n",
       "price                      0\n",
       "vehicleTransmission        0\n",
       "Владельцы                  2\n",
       "Владение               36205\n",
       "ПТС                        0\n",
       "Привод                     0\n",
       "Руль                       0\n",
       "private                    0\n",
       "showroom                   0\n",
       "ageModel                   0\n",
       "ageProd                    0\n",
       "volume                    96\n",
       "year_parsed                0\n",
       "test                       0\n",
       "dtype: int64"
      ]
     },
     "execution_count": 38,
     "metadata": {},
     "output_type": "execute_result"
    }
   ],
   "source": [
    "df_train_2021.isnull().sum()"
   ]
  },
  {
   "cell_type": "code",
   "execution_count": 39,
   "metadata": {},
   "outputs": [
    {
     "data": {
      "text/plain": [
       "bodyType                   0\n",
       "brand                      0\n",
       "color                      0\n",
       "enginePower                0\n",
       "equipment_dict          9996\n",
       "fuelType                   0\n",
       "mileage                    0\n",
       "model_name                 0\n",
       "numberOfDoors              0\n",
       "sell_id                    0\n",
       "vehicleTransmission        0\n",
       "Владельцы                  0\n",
       "Владение               22691\n",
       "ПТС                        0\n",
       "Привод                     0\n",
       "Руль                       0\n",
       "private                    0\n",
       "showroom                   0\n",
       "ageModel                   0\n",
       "ageProd                    0\n",
       "volume                    55\n",
       "year_parsed                0\n",
       "test                       0\n",
       "dtype: int64"
      ]
     },
     "execution_count": 39,
     "metadata": {},
     "output_type": "execute_result"
    }
   ],
   "source": [
    "df_test.isnull().sum()\n"
   ]
  },
  {
   "cell_type": "markdown",
   "metadata": {},
   "source": [
    "* bodyType, numberOfDoors, enginePower, Привод, age - ликвидируем пропуск в 1шт удалением из train_2020 одной \"битой\" строки\n",
    "* Владельцы - подставим медианное значение всего трейна\n",
    "* volume - проблема с ним только в train2020 (такая доля пропусков делает фичу на этом наборе невалидной). В train2021 и test заменим пропущенные значения на медианное значение трейна\n",
    "* equipment_dict - проблема с ним только в train2020 (полное отсутствие данных).\n",
    "* Владение - слишком большая доля пропускв во всех наборах. Придется удалить.\n",
    "\n",
    "Вывод:\n",
    "Для обучения и предсказания по основной задаче мы можем взять наиболее полные наборы train2021 и test, в которых нет этих проблем.\n",
    "А для тестирования гипотезы с инфляцией нам потребуется тестировать модель на данных train2020, натренированную на tarin2021. поскольку между 20 и 21 имеются эти досадные различия в volume и eq.dict, для теста гипотезы инфляции мы урежем фичи train2021 до формата train2020. Поймем, какая корректировка нужна для инфляции, масштабируем по ней цены 2021, и продолжим решать задачу на полном наборе, в которых нет проблем с volume и eq.dict."
   ]
  },
  {
   "cell_type": "code",
   "execution_count": 40,
   "metadata": {},
   "outputs": [],
   "source": [
    "#1 строка битая, в train части. удаляем ее\n",
    "df = df.dropna(subset=['bodyType'], axis=0)\n",
    "\n",
    "\n",
    "med_owners = df[(df.test==0)].Владельцы.median()\n",
    "med_volume = df[(df.test==0) & (df.year_parsed==2021)].volume.median()\n",
    "df = df.fillna(value={\"Владельцы\": med_owners, \n",
    "                      \"volume\": med_volume,\n",
    "                      \"equipment_dict\": \"\"})\n",
    "\n",
    "#Владение - большая часть - пропуски. Удаляем.\n",
    "df = df.drop(['Владение'], axis=1)\n"
   ]
  },
  {
   "cell_type": "code",
   "execution_count": 41,
   "metadata": {},
   "outputs": [
    {
     "data": {
      "text/plain": [
       "bodyType                    0\n",
       "brand                       0\n",
       "color                       0\n",
       "enginePower                 0\n",
       "equipment_dict              0\n",
       "fuelType                    0\n",
       "mileage                     0\n",
       "model_name                  0\n",
       "numberOfDoors               0\n",
       "price                   34686\n",
       "vehicleTransmission         0\n",
       "Владельцы                   0\n",
       "ПТС                         0\n",
       "Привод                      0\n",
       "Руль                        0\n",
       "private                     0\n",
       "showroom                    0\n",
       "ageModel                    0\n",
       "ageProd                     0\n",
       "volume                      0\n",
       "year_parsed                 0\n",
       "test                        0\n",
       "sell_id                126610\n",
       "dtype: int64"
      ]
     },
     "execution_count": 41,
     "metadata": {},
     "output_type": "execute_result"
    }
   ],
   "source": [
    "# подсчитаем нули и пропуски\n",
    "df.isnull().sum()"
   ]
  },
  {
   "cell_type": "markdown",
   "metadata": {},
   "source": [
    "price, sell_id - очевидно, что не должны присутствовать в test. Так что с ними все ок."
   ]
  },
  {
   "cell_type": "markdown",
   "metadata": {},
   "source": [
    "## 2.6. Сортировка признаков по типам"
   ]
  },
  {
   "cell_type": "code",
   "execution_count": 42,
   "metadata": {},
   "outputs": [],
   "source": [
    "target_name = 'price'\n",
    "not_predictors = {'year_parsed', 'test', 'sell_id', target_name}\n",
    "num_features = {'enginePower', 'volume', 'mileage',  'Владельцы', 'ageModel', 'ageProd'}\n",
    "categ_features = {'numberOfDoors', 'bodyType', 'brand', 'color', 'fuelType', 'model_name', 'vehicleTransmission', 'Привод'}\n",
    "\n",
    "\n",
    "bin_features = set(df.columns).\\\n",
    "                difference(num_features).\\\n",
    "                difference(categ_features).\\\n",
    "                difference(not_predictors).difference({'equipment_dict'})"
   ]
  },
  {
   "cell_type": "code",
   "execution_count": 43,
   "metadata": {},
   "outputs": [],
   "source": [
    "def ShowScatter(df, xFeature, yFeature):\n",
    "    plt.figure(figsize=(8, 5))\n",
    "    g1 = sns.boxplot(y=yFeature, x=xFeature,  data=df[df.test==0], color='darkgreen')\n",
    "    g1.set_title(\"{}({})\".format(yFeature, xFeature), fontsize=20)\n",
    "    g1.set_ylabel(yFeature, fontsize=15)\n",
    "    g1.set_xticklabels(g1.get_xticklabels(),rotation=45)\n",
    "    plt.show()"
   ]
  },
  {
   "cell_type": "markdown",
   "metadata": {},
   "source": [
    "## Логарифмируем таргет"
   ]
  },
  {
   "cell_type": "markdown",
   "metadata": {},
   "source": [
    "это позволит уменьшить влияние выбросов на обучение модели"
   ]
  },
  {
   "cell_type": "code",
   "execution_count": 44,
   "metadata": {},
   "outputs": [
    {
     "data": {
      "text/plain": [
       "<matplotlib.axes._subplots.AxesSubplot at 0x1a30a437af0>"
      ]
     },
     "execution_count": 44,
     "metadata": {},
     "output_type": "execute_result"
    },
    {
     "data": {
      "image/png": "[encoded data removed]",
      "text/plain": [
       "<Figure size 432x288 with 1 Axes>"
      ]
     },
     "metadata": {
      "needs_background": "light"
     },
     "output_type": "display_data"
    }
   ],
   "source": [
    "df.loc[df.test==0, target_name].hist(bins=30)"
   ]
  },
  {
   "cell_type": "code",
   "execution_count": 45,
   "metadata": {},
   "outputs": [
    {
     "data": {
      "text/plain": [
       "<matplotlib.axes._subplots.AxesSubplot at 0x1a30a4db100>"
      ]
     },
     "execution_count": 45,
     "metadata": {},
     "output_type": "execute_result"
    },
    {
     "data": {
      "image/png": "[encoded data removed]",
      "text/plain": [
       "<Figure size 432x288 with 1 Axes>"
      ]
     },
     "metadata": {
      "needs_background": "light"
     },
     "output_type": "display_data"
    }
   ],
   "source": [
    "df.loc[df.test==0, target_name] = df.loc[df.test==0, target_name].apply(lambda x: np.log(x))\n",
    "df.loc[df.test==0, target_name].hist(bins=30)"
   ]
  },
  {
   "cell_type": "markdown",
   "metadata": {},
   "source": [
    "## немного Feature engineering'а"
   ]
  },
  {
   "cell_type": "code",
   "execution_count": 46,
   "metadata": {},
   "outputs": [],
   "source": [
    "def FEng(df, vals, label):\n",
    "    global num_features \n",
    "    num_features = num_features.union({label})\n",
    "    matplotlib.pyplot.scatter(vals, df.price, color='darkgreen')\n",
    "    df[label] = vals\n",
    "    return df"
   ]
  },
  {
   "cell_type": "code",
   "execution_count": 47,
   "metadata": {},
   "outputs": [
    {
     "data": {
      "image/png": "[encoded data removed]",
      "text/plain": [
       "<Figure size 432x288 with 1 Axes>"
      ]
     },
     "metadata": {
      "needs_background": "light"
     },
     "output_type": "display_data"
    },
    {
     "data": {
      "image/png": "[encoded data removed]",
      "text/plain": [
       "<Figure size 576x360 with 1 Axes>"
      ]
     },
     "metadata": {
      "needs_background": "light"
     },
     "output_type": "display_data"
    }
   ],
   "source": [
    "df['Владельцы'].hist(bins=30)\n",
    "ShowScatter(df, 'Владельцы', 'price')"
   ]
  },
  {
   "cell_type": "code",
   "execution_count": 48,
   "metadata": {},
   "outputs": [
    {
     "data": {
      "text/plain": [
       "<matplotlib.axes._subplots.AxesSubplot at 0x1a30cec1610>"
      ]
     },
     "execution_count": 48,
     "metadata": {},
     "output_type": "execute_result"
    },
    {
     "data": {
      "image/png": "[encoded data removed]",
      "text/plain": [
       "<Figure size 432x288 with 1 Axes>"
      ]
     },
     "metadata": {
      "needs_background": "light"
     },
     "output_type": "display_data"
    }
   ],
   "source": [
    "df['enginePower'].hist(bins=30)"
   ]
  },
  {
   "cell_type": "code",
   "execution_count": 49,
   "metadata": {},
   "outputs": [
    {
     "data": {
      "text/plain": [
       "<matplotlib.collections.PathCollection at 0x1a30408ad00>"
      ]
     },
     "execution_count": 49,
     "metadata": {},
     "output_type": "execute_result"
    },
    {
     "data": {
      "image/png": "[encoded data removed]",
      "text/plain": [
       "<Figure size 432x288 with 1 Axes>"
      ]
     },
     "metadata": {
      "needs_background": "light"
     },
     "output_type": "display_data"
    }
   ],
   "source": [
    "matplotlib.pyplot.scatter(df.enginePower, df.price, color='darkgreen')"
   ]
  },
  {
   "cell_type": "code",
   "execution_count": 50,
   "metadata": {},
   "outputs": [
    {
     "data": {
      "text/plain": [
       "<matplotlib.axes._subplots.AxesSubplot at 0x1a30b88f250>"
      ]
     },
     "execution_count": 50,
     "metadata": {},
     "output_type": "execute_result"
    },
    {
     "data": {
      "image/png": "[encoded data removed]",
      "text/plain": [
       "<Figure size 432x288 with 1 Axes>"
      ]
     },
     "metadata": {
      "needs_background": "light"
     },
     "output_type": "display_data"
    }
   ],
   "source": [
    "df.mileage = df.mileage.apply(lambda x: 1000 if x < 100 else x) #Даже у новых машин 1 км это мало. заменим на 1000\n",
    "df.mileage.hist(bins=30)"
   ]
  },
  {
   "cell_type": "code",
   "execution_count": 51,
   "metadata": {},
   "outputs": [
    {
     "data": {
      "text/plain": [
       "<matplotlib.collections.PathCollection at 0x1a30b8ab4c0>"
      ]
     },
     "execution_count": 51,
     "metadata": {},
     "output_type": "execute_result"
    },
    {
     "data": {
      "image/png": "[encoded data removed]",
      "text/plain": [
       "<Figure size 432x288 with 1 Axes>"
      ]
     },
     "metadata": {
      "needs_background": "light"
     },
     "output_type": "display_data"
    }
   ],
   "source": [
    "matplotlib.pyplot.scatter(df.mileage, df.price, color='darkgreen')\n"
   ]
  },
  {
   "cell_type": "code",
   "execution_count": 52,
   "metadata": {},
   "outputs": [
    {
     "data": {
      "text/plain": [
       "<matplotlib.axes._subplots.AxesSubplot at 0x1a30a0ac580>"
      ]
     },
     "execution_count": 52,
     "metadata": {},
     "output_type": "execute_result"
    },
    {
     "data": {
      "image/png": "[encoded data removed]",
      "text/plain": [
       "<Figure size 432x288 with 1 Axes>"
      ]
     },
     "metadata": {
      "needs_background": "light"
     },
     "output_type": "display_data"
    }
   ],
   "source": [
    "df.ageModel = df.ageModel.apply(lambda x: 1 if x < 1 else x) \n",
    "df.ageModel.hist(bins=30)"
   ]
  },
  {
   "cell_type": "code",
   "execution_count": 53,
   "metadata": {},
   "outputs": [
    {
     "data": {
      "text/plain": [
       "<matplotlib.collections.PathCollection at 0x1a309a661f0>"
      ]
     },
     "execution_count": 53,
     "metadata": {},
     "output_type": "execute_result"
    },
    {
     "data": {
      "image/png": "[encoded data removed]",
      "text/plain": [
       "<Figure size 432x288 with 1 Axes>"
      ]
     },
     "metadata": {
      "needs_background": "light"
     },
     "output_type": "display_data"
    }
   ],
   "source": [
    "matplotlib.pyplot.scatter(df.ageModel, df.price, color='darkgreen')"
   ]
  },
  {
   "cell_type": "code",
   "execution_count": 54,
   "metadata": {},
   "outputs": [
    {
     "data": {
      "image/png": "[encoded data removed]",
      "text/plain": [
       "<Figure size 432x288 with 1 Axes>"
      ]
     },
     "metadata": {
      "needs_background": "light"
     },
     "output_type": "display_data"
    }
   ],
   "source": [
    "df = FEng(df, df.ageModel**0.5 / np.log(df.mileage), 'df.ageModel / np.log(df.mileage)')"
   ]
  },
  {
   "cell_type": "code",
   "execution_count": 55,
   "metadata": {},
   "outputs": [
    {
     "data": {
      "image/png": "[encoded data removed]",
      "text/plain": [
       "<Figure size 432x288 with 1 Axes>"
      ]
     },
     "metadata": {
      "needs_background": "light"
     },
     "output_type": "display_data"
    }
   ],
   "source": [
    "df = FEng(df, np.log(df.mileage) / df.enginePower**0.5, 'np.log(df.mileage) / df.enginePower')"
   ]
  },
  {
   "cell_type": "code",
   "execution_count": 56,
   "metadata": {},
   "outputs": [
    {
     "data": {
      "image/png": "[encoded data removed]",
      "text/plain": [
       "<Figure size 432x288 with 1 Axes>"
      ]
     },
     "metadata": {
      "needs_background": "light"
     },
     "output_type": "display_data"
    }
   ],
   "source": [
    "df = FEng(df, df.ageModel**0.5/df.enginePower**0.5, 'df.ageModel/df.enginePower')"
   ]
  },
  {
   "cell_type": "code",
   "execution_count": 57,
   "metadata": {},
   "outputs": [
    {
     "data": {
      "image/png": "[encoded data removed]",
      "text/plain": [
       "<Figure size 432x288 with 1 Axes>"
      ]
     },
     "metadata": {
      "needs_background": "light"
     },
     "output_type": "display_data"
    }
   ],
   "source": [
    "df = FEng(df, df.enginePower**0.5/df.ageModel**0.5/np.log(df.mileage)**0.5, 'df.enginePower**0.5/df.ageModel**0.5/np.log(df.mileage)**0.5')"
   ]
  },
  {
   "cell_type": "code",
   "execution_count": 58,
   "metadata": {},
   "outputs": [
    {
     "data": {
      "image/png": "[encoded data removed]",
      "text/plain": [
       "<Figure size 432x288 with 1 Axes>"
      ]
     },
     "metadata": {
      "needs_background": "light"
     },
     "output_type": "display_data"
    }
   ],
   "source": [
    "categ_features = categ_features.union(['age_intervals'])\n",
    "bins = [-1, 3, 6, 13, 20, 35, 116]\n",
    "numbers = ['3', '6','13','20','35', '116']\n",
    "df['age_intervals']=pd.cut(df['ageProd'],bins,labels=numbers)\n",
    "df['age_intervals'].hist(bins=30)\n",
    "df.age_intervals = df.age_intervals.fillna('116')"
   ]
  },
  {
   "cell_type": "code",
   "execution_count": 59,
   "metadata": {},
   "outputs": [
    {
     "data": {
      "image/png": "[encoded data removed]",
      "text/plain": [
       "<Figure size 576x360 with 1 Axes>"
      ]
     },
     "metadata": {
      "needs_background": "light"
     },
     "output_type": "display_data"
    }
   ],
   "source": [
    "ShowScatter(df, 'age_intervals', 'price')"
   ]
  },
  {
   "cell_type": "code",
   "execution_count": 60,
   "metadata": {},
   "outputs": [
    {
     "data": {
      "image/png": "[encoded data removed]",
      "text/plain": [
       "<Figure size 432x288 with 1 Axes>"
      ]
     },
     "metadata": {
      "needs_background": "light"
     },
     "output_type": "display_data"
    }
   ],
   "source": [
    "df = FEng(df, df.volume/df.enginePower, 'df.enginePower/df.volume')"
   ]
  },
  {
   "cell_type": "code",
   "execution_count": 61,
   "metadata": {},
   "outputs": [
    {
     "data": {
      "text/plain": [
       "{'ageModel',\n",
       " 'ageProd',\n",
       " 'df.ageModel / np.log(df.mileage)',\n",
       " 'df.ageModel/df.enginePower',\n",
       " 'df.enginePower**0.5/df.ageModel**0.5/np.log(df.mileage)**0.5',\n",
       " 'df.enginePower/df.volume',\n",
       " 'enginePower',\n",
       " 'mileage',\n",
       " 'np.log(df.mileage) / df.enginePower',\n",
       " 'volume',\n",
       " 'Владельцы'}"
      ]
     },
     "execution_count": 61,
     "metadata": {},
     "output_type": "execute_result"
    }
   ],
   "source": [
    "num_features"
   ]
  },
  {
   "cell_type": "code",
   "execution_count": 62,
   "metadata": {},
   "outputs": [
    {
     "data": {
      "text/plain": [
       "{'age_intervals',\n",
       " 'bodyType',\n",
       " 'brand',\n",
       " 'color',\n",
       " 'fuelType',\n",
       " 'model_name',\n",
       " 'numberOfDoors',\n",
       " 'vehicleTransmission',\n",
       " 'Привод'}"
      ]
     },
     "execution_count": 62,
     "metadata": {},
     "output_type": "execute_result"
    }
   ],
   "source": [
    "categ_features"
   ]
  },
  {
   "cell_type": "code",
   "execution_count": 63,
   "metadata": {},
   "outputs": [
    {
     "data": {
      "text/plain": [
       "{'private', 'showroom', 'ПТС', 'Руль'}"
      ]
     },
     "execution_count": 63,
     "metadata": {},
     "output_type": "execute_result"
    }
   ],
   "source": [
    "bin_features"
   ]
  },
  {
   "cell_type": "code",
   "execution_count": 64,
   "metadata": {},
   "outputs": [],
   "source": [
    "# feature engineering флагов ТТХ\n",
    "def ExtractJson(x):\n",
    "    try: \n",
    "        return json.loads(x) \n",
    "    except: \n",
    "        return {}\n",
    "\n",
    "df.equipment_dict  = df.equipment_dict.apply(lambda x: x.replace(\"'\",\"\\\"\").replace(\": True\", \": \\\"True\\\"\"))\n",
    "equipment_df = pd.DataFrame(list(df.equipment_dict.apply(lambda x: ExtractJson(x))))\n",
    "equipment_df.fillna(0, inplace=True)\n",
    "equipment_df.replace('True', 1, inplace=True)\n",
    "equipment_df.replace(True, 1, inplace=True)\n",
    "equipment_df = equipment_df.astype('uint8')\n",
    "\n",
    "bin_features = bin_features.union(equipment_df.columns)\n",
    "#а теперь склеим все воедино\n",
    "df = df.reset_index(drop=True)\n",
    "df = df.join(equipment_df)\n",
    "df = df.drop(['equipment_dict'], axis=1) #все словари мы \"оформили\". больше нам это не понадобится"
   ]
  },
  {
   "cell_type": "markdown",
   "metadata": {},
   "source": [
    "## Фильтрация мультиколлинеарных и низковариативных признаков "
   ]
  },
  {
   "cell_type": "code",
   "execution_count": 65,
   "metadata": {},
   "outputs": [],
   "source": [
    "#кодирует катег. признаки\n",
    "def OneHotEncode(df, categ_features):\n",
    "    encoded_features = set()\n",
    "    df = df.reset_index(drop=True)\n",
    "    for column in categ_features:\n",
    "        print('encoding ', column)\n",
    "        tempdf = pd.get_dummies(df[column], prefix=column)\n",
    "        encoded_features = encoded_features.union(list(tempdf.columns))\n",
    "        df = pd.merge(\n",
    "            left=df,\n",
    "            right=tempdf,\n",
    "            left_index=True,\n",
    "            right_index=True,\n",
    "        )\n",
    "    return df, encoded_features\n",
    "\n",
    "\n",
    "#отфильтровать фичи с высокой взаимной корреляцией\n",
    "def GetHighCorrFeatures(df, target_vals, corrlim = CORR_ABS_MAX_LIMIT):\n",
    "    cm = df.corr()\n",
    "    cm_val = cm.values\n",
    "    print(cm.shape[0], 'признаков')\n",
    "    bad_features = set()\n",
    "    for i in range(0, cm.shape[0]):\n",
    "        for j in range(0, i):\n",
    "            if i==j:\n",
    "                continue\n",
    "            if abs(cm_val[i, j]) > corrlim:\n",
    "                feature_1 = cm.index[i]\n",
    "                feature_2 = cm.index[j]\n",
    "                print('высокая корреляция', feature_1, '<->', feature_2)\n",
    "                if feature_1 == target_name:\n",
    "                    bad_features.add(feature_2)\n",
    "                elif feature_2 == target_name:\n",
    "                    bad_features.add(feature_1)\n",
    "                else:\n",
    "                    corr_target_1 = abs(np.corrcoef(df[feature_1], target_vals)[0,1])\n",
    "                    corr_target_2 = abs(np.corrcoef(df[feature_2], target_vals)[0,1])\n",
    "                    if corr_target_1 > corr_target_2:\n",
    "                        bad_features.add(feature_2)\n",
    "                    else:\n",
    "                        bad_features.add(feature_1)\n",
    "\n",
    "    print('к удалению: ', bad_features)    \n",
    "    return bad_features, cm\n",
    "\n",
    "# отфильтровать фичи с низкой вариативностью.\n",
    "#вариативность низка, если объем выборки альтернативных самому частому значению не превышает TAIL_DISTR_MIN_SAMPLE_SIZE наблюдений\n",
    "def GetLowVarianceFeatures(df, cutlim = TAIL_DISTR_MIN_SAMPLE_SIZE):\n",
    "    const_features = set()\n",
    "    for c in bin_features.union(categ_features):\n",
    "        counts = df[c].value_counts()\n",
    "        minor_sample_size = counts[counts < counts.max()].sum()\n",
    "        if minor_sample_size < cutlim:\n",
    "            #print('низкая вариативность фичи {} (альтернатива на {} наблюдений) Удаляем!'.format(c, minor_sample_size))\n",
    "            const_features.add(c)\n",
    "    return const_features"
   ]
  },
  {
   "cell_type": "code",
   "execution_count": 66,
   "metadata": {},
   "outputs": [
    {
     "name": "stdout",
     "output_type": "stream",
     "text": [
      "encoding  Привод\n",
      "encoding  brand\n",
      "encoding  bodyType\n",
      "encoding  fuelType\n",
      "encoding  vehicleTransmission\n",
      "encoding  numberOfDoors\n",
      "encoding  model_name\n",
      "encoding  age_intervals\n",
      "encoding  color\n"
     ]
    }
   ],
   "source": [
    "#кодируем катег. признаки\n",
    "df, encoded_features = OneHotEncode(df, categ_features)\n",
    "bin_features = bin_features.union(encoded_features)"
   ]
  },
  {
   "cell_type": "markdown",
   "metadata": {},
   "source": [
    "## Анализ вариативности. Цель - отсеять почти константные фичи"
   ]
  },
  {
   "cell_type": "code",
   "execution_count": 67,
   "metadata": {},
   "outputs": [
    {
     "name": "stdout",
     "output_type": "stream",
     "text": [
      "низкая вариативность фич {'model_name_kimo (a1)', 'model_name_forte', 'model_name_r1', 'model_name_slc klasse', 'L5C', 'model_name_gallardo', 'model_name_kimo', 'model_name_kalos', 'model_name_vita', 'model_name_z', '824', 'model_name_eclipse cross', 'model_name_fto', 'model_name_crew', 'model_name_hurac?n', 'model_name_maybach gls', 'model_name_cayman', 'model_name_arteon', 'model_name_model s', 'model_name_trafic', 'model_name_slc amg', 'brand_gac', 'model_name_azera', 'model_name_probox', 'model_name_ltd crown victoria', 'model_name_h 1', 'model_name_lantis', 'model_name_slc', 'model_name_hover m2', 'model_name_208 gti', 'model_name_txl', 'model_name_noah', 'model_name_zest', 'model_name_arrizo7', 'model_name_q', 'model_name_samurai', 'model_name_passat (north america)', 'model_name_delica d2', 'model_name_sauvana', 'model_name_tacuma', 'model_name_compass', 'model_name_focus rs', 'KA2', 'model_name_town and country', 'model_name_mr2', 'model_name_190 sl', 'model_name_verisa', 'model_name_echo', 'model_name_modus', 'model_name_model 3', 'rcta', 'model_name_adam', 'model_name_405', 'model_name_ct6', 'model_name_sts', 'model_name_commander', '9S3', 'model_name_c8', 'model_name_crossroad', '513', 'model_name_gt r', 'model_name_rs 7', 'model_name_aventador', 'model_name_zephyr', 'model_name_vaneo', 'model_name_ux', 'airbag-2', 'model_name_3110 «волга»', 'model_name_veracruz', 'model_name_brevis', 'model_name_olympia', 'model_name_205', 'model_name_eqc', 'model_name_hover m4', 'model_name_v5', 'model_name_cavalier', 'model_name_gle klasse amg', 'model_name_millenia', '927', 'model_name_grand hiace', 'model_name_slk класс amg', 'model_name_wish', 'model_name_460', '4UE', 'model_name_edge', 'model_name_h2', 'model_name_bonus 3', 'model_name_range rover velar', 'model_name_rc f', 'model_name_321', 'model_name_sienta', 'model_name_cls amg', 'model_name_model a', 'model_name_proceed levante', 'model_name_fj cruiser', 'model_name_cedric', 'model_name_tiburon', '03B', 'model_name_avella', 'model_name_xterra', 'model_name_smily', 'model_name_cts v', 'R01', 'model_name_previa', 'model_name_2008', '23-inch-wheels', 'model_name_corolla spacio', 'model_name_gl klasse amg', 'model_name_toppo', 'model_name_escort', 'model_name_hunter', 'model_name_mr s', 'model_name_ek wagon', 'model_name_wingle up', 'model_name_cla klasse amg', 'model_name_armada', 'model_name_autozam az3', 'model_name_charger', 'model_name_duet', 'model_name_emgrand 7', 'RAB', 'model_name_priusplus', 'model_name_nova', 'model_name_ioniq', 'model_name_beat', 'model_name_x4 m', 'model_name_gt86', 'model_name_rasheen', 'bodyType_фастбек', 'model_name_f7x', 'model_name_curren', 'model_name_mx 5', 'model_name_saratoga', 'model_name_cr z', 'model_name_hs', 'model_name_presea', 'model_name_sq5', 'model_name_vanette', 'model_name_avenger', 'model_name_verna', 'model_name_bassara', 'model_name_navara (frontier)', 'model_name_avensis verso', 'RVR', 'model_name_gv80', 'model_name_xsara', 'model_name_silvia', '17U', 'numberOfDoors_0.0_дверей', 'model_name_z3 m', 'model_name_3102 «волга»', 'model_name_opa', 'model_name_murman (820)', 'model_name_korando sports', 'model_name_clipper rio', 'brand_foton', 'model_name_hover h3', 'model_name_2120 надежда', 'model_name_lantra', 'model_name_2102', 'model_name_918 spyder', 'model_name_glb klasse', 'model_name_econoline', \"model_name_r'nessa\", 'model_name_f 2', 'model_name_3151', 'model_name_safe', 'model_name_rdx', 'model_name_joice', 'model_name_sedona', 'model_name_cabrio', 'model_name_amg glc coupe', 'model_name_ct', 'model_name_tiggo (t11)', 'model_name_z3', 'model_name_w114', 'brand_bentley', 'model_name_rs3', 'model_name_m11', 'model_name_golf r', 'model_name_rsq3', 'model_name_venture', 'model_name_lafesta', 'model_name_ignis', 'model_name_morning', 'brand_zis', 'model_name_cls klasse amg', 'model_name_logo', 'model_name_primastar', 'model_name_succeed', '24-inch-wheels', 'model_name_ds4', 'model_name_x50', 'model_name_tracker', 'model_name_master ace surf', 'model_name_h5', 'model_name_journey', 'model_name_california', 'model_name_fabia rs', 'model_name_deer', 'model_name_concorde', 'model_name_2', 'model_name_s3', 'model_name_kadett', 'model_name_pride', 'model_name_series iii', 'model_name_s6', 'model_name_origin', 'model_name_tingo', '431', 'model_name_kluger', 'model_name_h6', 'model_name_terrano regulus', 'model_name_nemo', 'model_name_gla class amg', 'model_name_favorit', 'model_name_mk cross', 'model_name_dayz roox', 'model_name_31105 «волга»', 'model_name_mustang mach e', 'model_name_forenza', '9P5', 'model_name_combo', 'model_name_c2', 'model_name_cougar', 'model_name_mx 6', 'model_name_volt', 'model_name_carol', 'model_name_symbol', 'model_name_neon', 'brand_isuzu', 'model_name_glc coupe amg', 'model_name_starlet', 'H06', 'model_name_coolray', '883', 'model_name_tino', 'model_name_taunus', 'model_name_xjr', 'model_name_paseo', 'model_name_insight', 'model_name_ck', 'model_name_minica', 'model_name_vellfire', 'WVA', 'model_name_datsun', 'model_name_62', 'model_name_type 3', '9S6', 'model_name_cebrium (720)', '889', 'model_name_prairie', 'model_name_mulsanne', 'model_name_xt6', 'model_name_kizashi', 'model_name_x60', 'model_name_rx 7', 'model_name_palisade', 'model_name_x70', 'model_name_altima', 'model_name_ka', 'model_name_3mps', 'model_name_xg', 'model_name_sailor', 'model_name_grandland x', 'model_name_clarus', 'model_name_vega', 'model_name_yaris verso', '9R1', 'brand_lamborghini', 'model_name_durango', 'model_name_gt', 'model_name_minicab', '1N1', 'model_name_civic ferio', 'model_name_208', 'model_name_elysion', 'model_name_twizy', 'model_name_istana', 'model_name_corolla ii', 'model_name_avante', 'model_name_c6', 'model_name_proceed', 'model_name_r2', 'model_name_corolla verso', 'model_name_stepwgn', 'passenger-seat-manual', 'model_name_escort (north america)', 'B63', 'model_name_masterace surf', 'model_name_slk класс', 'brand_ig', 'model_name_c elysee', 'model_name_eqv', 'model_name_920', '249', 'model_name_talisman', 'model_name_sprinter carib', 'model_name_lucino', 'model_name_libero', 'model_name_sc', 'model_name_75', 'model_name_urvan', 'model_name_bx', 'model_name_dawn', 'model_name_acty', 'model_name_corsica', 'model_name_cami', 'model_name_ractis', 'model_name_cima', 'model_name_105, 120', 'model_name_bel air', 'model_name_lancer ralliart', 'model_name_pickup', 'model_name_raum', 'model_name_bronco ii', 'model_name_funcargo', 'model_name_airwave', 'model_name_avantime', 'model_name_ds', 'brand_luaz', 'model_name_350z', 'model_name_passport', 'model_name_rogue', 'model_name_tiggo 5', 'model_name_vel satis', 'model_name_hustler', 'model_name_volga siber', 'model_name_pao', 'model_name_presage', 'P44', 'R66', 'model_name_scepter', 'model_name_every', 'model_name_sens', 'model_name_hover h6', 'model_name_nubira', 'model_name_xt5', 'model_name_safari', 'model_name_e tron', 'model_name_admiral', 'model_name_5008', '500', '27-inch-wheels', 'model_name_k3', 'model_name_stavic', 'model_name_3162 simbir', 'model_name_57', 'model_name_otti', 'model_name_porte', '28-inch-wheels', '882', 'model_name_gaia', 'model_name_v50', 'model_name_fleetwood', 'model_name_sidekick', 'model_name_100nx', 'model_name_v60 cross country', 'model_name_wrx', 'model_name_urus', 'model_name_focus st', 'model_name_jumpy', 'model_name_a класс amg', 'model_name_h9', 'model_name_president', '881', 'model_name_jade', 'model_name_avalon', 'model_name_super six', 'model_name_corsa opc', 'model_name_sls amg', '4R2', 'model_name_20', 'model_name_306', 'UI4', 'model_name_gle amg', 'model_name_phantom', 'model_name_bls', '7B2', 'model_name_440', 'model_name_is f', 'brand_ram', 'model_name_popular', 'model_name_h6 coupe', '810', 'model_name_catera', 'brand_maybach', 'model_name_pajero mini', 'immobiliser-not-standard', '3L5', 'airbag-6', 'brand_genesis', 'model_name_b7', 'model_name_i pace', 'model_name_969', 'model_name_avenir', 'model_name_leganza', 'model_name_genesis coupe', 'model_name_dion', 'model_name_vamos', 'model_name_impreza wrx sti', 'model_name_fairlady z', 'model_name_fuga', 'model_name_ixion', 'model_name_on do', 'model_name_sierra', 'model_name_space gear', 'model_name_blade', 'model_name_r8', 'model_name_scepter sedan', 'model_name_280zx', 'brand_changan', '728', 'model_name_300 letter series', 'model_name_cabriolet', '8T6', 'model_name_326', 'model_name_pregio', 'model_name_concerto', 'model_name_albea', 'model_name_isis', 'model_name_b6', 'model_name_largo', 'model_name_dayz', 'model_name_safrane', 'model_name_rodius', 'model_name_santamo', 'model_name_tercel', '989', 'model_name_sprinter', 'model_name_lhs', 'model_name_zafira opc', 'model_name_protege', 'model_name_monza', 'model_name_300zx', 'brand_seat', 'model_name_hilux surf', 'model_name_edix', 'model_name_sc7', 'model_name_69', 'model_name_atenza', 'model_name_mi do', '4R3', 'brand_jac', 'model_name_raider', 'rear-seat-memory', 'model_name_viva', 'model_name_rcz', 'model_name_clc класс', 'brand_moscvich', 'model_name_carina ed', 'model_name_contour', 'bodyType_лимузин', 'model_name_l400', 'model_name_efini ms 8', 'model_name_m6', 'model_name_x klasse', 'model_name_impala', 'model_name_space runner', 'model_name_gla amg', 'model_name_will cypha', 'model_name_106', 'model_name_rvr', 'model_name_cowry', 'model_name_fortwo', 'model_name_corolla levin', 'model_name_challenger', 'model_name_fr v', 'model_name_s 10 pickup', 'model_name_windom', 'model_name_excursion', 'model_name_tiggo 2', 'model_name_b series', 'model_name_s60 cross country', 'model_name_astra opc', 'model_name_indis (s18d)', 'model_name_paceman', 'model_name_passo', 'model_name_rc', 'model_name_02', 'model_name_508', 'model_name_cruze hr', 'model_name_sl klasse amg', 'airbag-4', 'model_name_nv350 caravan', 'model_name_polo gti', 'model_name_lumina apv', 'bodyType_внедорожник открытый', 'brand_tagaz', '3B3', 'brand_zaz', '270', 'model_name_musso', 'model_name_rs 3', 'model_name_lc', 'PX2', 'model_name_clc klasse', 'model_name_mobilio spike', 'model_name_metris', 'model_name_968', 'model_name_atos', 'model_name_l300', 'model_name_gl класс amg', 'model_name_santana', 'model_name_chairman', 'model_name_silverado', 'model_name_verossa', 'model_name_tribeca', 'model_name_monterey', 'model_name_tank', 'brand_brilliance', 'model_name_opirus', 'model_name_lavita', 'model_name_22 «волга»', 'model_name_will', 'model_name_clipper', 'model_name_prius alpha', 'model_name_model t', 'model_name_model f', 'model_name_s660', 'model_name_expedition', 'model_name_pegasus', 'model_name_type 1', 'model_name_alto', 'model_name_doblo', 'model_name_taro', 'model_name_2329', 'S7N', 'model_name_allion', 'model_name_bt 50', 'model_name_quest', 'model_name_g90', 'model_name_jolion', 'model_name_expert', 'model_name_gloria', 'model_name_kix', 'model_name_qx4', 'model_name_endeavor', 'model_name_sephia', 'PL2', '235', 'model_name_rs 6', 'model_name_cr x', 'model_name_mistral', 'model_name_g70', 'brand_saturn', 'brand_fiat', 'model_name_simplex', 'model_name_140', 'model_name_hover', 'model_name_2grandtourer', 'model_name_continental gt', 'model_name_c3 aircross', '9AB', 'model_name_607', 'model_name_180sx', 'model_name_verso s', 'model_name_m1', '501', '6XE', 'brand_haima', 'model_name_spade', 'model_name_diamante', 'model_name_911 gt3', 'model_name_odyssey', 'model_name_crown majesta', 'model_name_i', 'model_name_rnessa', 'model_name_eurovan', 'model_name_crossfire', 'model_name_cortina', 'model_name_gls amg', 'model_name_versa', 'model_name_brz', 'model_name_s2000', 'model_name_sprinter trueno', 'model_name_h200', 'model_name_wingroad', 'model_name_aspire', 'model_name_retona', 'passenger-seat-memory', 'model_name_605', 'model_name_titan', 'model_name_w136', 'model_name_dakota', '448', 'model_name_le baron', 'PW1', 'model_name_dingo', 'model_name_slr klasse', 'model_name_bluebird sylphy', 'model_name_19', 'model_name_esteem', 'model_name_seville', 'model_name_monte carlo', 'model_name_commodore', 'model_name_slc klasse amg', 'model_name_clk класс amg', 'model_name_2 серии', 'model_name_iq', 'model_name_ds3', 'model_name_senator', 'model_name_golf r32', 'model_name_roomy', 'model_name_ipsum', 'model_name_vue', 'brand_maserati', 'model_name_c3 picasso', 'model_name_n one', 'model_name_ghost', 'model_name_203', 'model_name_element', 'model_name_suburban', '16U', 'brand_cheryexeed', 'model_name_esquire', 'model_name_megane rs', 'model_name_sprinter marino', 'model_name_evanda', 'brand_tatra', 'model_name_d5', '6NQ', 'model_name_regiusace', 'model_name_bentayga', 'model_name_t600', 'model_name_300m', 'E0P', 'model_name_rs 4', 'model_name_v60', 'model_name_s mx', 'model_name_aerio', 'DZ9', 'model_name_sintra', 'model_name_torneo', 'model_name_familia', 'model_name_eos', 'model_name_korando', 'model_name_justy', 'brand_smart', 'model_name_glc amg', 'model_name_zafira life', 'P29', 'model_name_rekord', 'model_name_24 «волга»', 'model_name_mark x', 'model_name_ats', '776', 'model_name_reno', 'model_name_progres', 'model_name_gc6', 'model_name_mx 30', 'model_name_forfour', 'model_name_м 20 «победа»', 'model_name_platz', 'model_name_x3 m', 'model_name_929', 'model_name_domani', 'model_name_explorer sport trac', 'model_name_c1', 'model_name_2103', 'model_name_corolla rumion', 'model_name_110', 'model_name_s type', 'airbag-1', 'model_name_a2', '475', 'brand_zotye', 'model_name_fox', 'model_name_very', 'model_name_spectron', 'model_name_amulet (a15)', 'model_name_lancer cargo', '51U', 'model_name_chance', 'model_name_nv100 clipper', 'model_name_emgrand ec7', '873', 'model_name_thunderbird', 'model_name_latitude', 'model_name_90', 'model_name_proace', 'brand_datsun', 'model_name_supra', 'model_name_vanguard', 'wheel-configuration3', 'model_name_924', 'model_name_espace', 'model_name_k900', '772', 'model_name_latio', 'model_name_ranger (north america)', 'model_name_orthia', 'model_name_c4 aircross', 'model_name_120', 'model_name_karmann ghia', 'model_name_qq6 (s21)', 'model_name_xkr', '4A3', 'model_name_s5 (eagle)', 'model_name_cross eastar', 'model_name_xk', 'model_name_renegade', 'model_name_g80', 'model_name_ds5', 'halogen', 'model_name_mobilio', 'model_name_allex', 'model_name_eldorado', 'model_name_glb', 'model_name_cultus', 'model_name_ceed gt', 'model_name_e3', 'model_name_xedos 9', 'model_name_cs35', 'model_name_clubman', 'model_name_domingo', 'model_name_vivaro', 'model_name_w111', 'model_name_de ville', 'brand_vortex', 'P17', 'model_name_944', 'model_name_i10', 'model_name_avancier', 'model_name_spacetourer', 'model_name_damas', 'driver-seat-manual', 'U09', 'model_name_legacy lancaster', 'model_name_picnic', 'model_name_cmatiz', 'model_name_baleno', 'model_name_rush', 'model_name_biante', 'model_name_windstar', 'model_name_qx30', 'model_name_altea', 'model_name_storm', 'model_name_focus na', 'model_name_c hr', 'model_name_regius', 'model_name_traverse', 'model_name_ghibli', 'model_name_vento', 'model_name_leon', 'model_name_vigor', 'model_name_traveller', 'model_name_2 серии active tourer', 'model_name_model y', 'model_name_grandeur', 'model_name_freestyle', 'model_name_bronco', 'model_name_rs 5', 'model_name_twingo', 'model_name_q30', 'model_name_sambar', 'model_name_metro', 'model_name_rs5', 'model_name_veloster', 'brand_hafei', '9T1', 'model_name_2activetourer', 'model_name_transit connect', 'electro-seat', 'model_name_brio', 'model_name_bongo', 'model_name_type 2', 'model_name_juke nismo', '871', '3NZ', 'model_name_gls klasse amg', 'model_name_ssr', 'model_name_21 «волга»', 'model_name_qq', 'model_name_ad', 'numberOfDoors_0_дверей', 'model_name_intrepid', '3Q6', 'model_name_xceed', 'model_name_2141', '364', 'model_name_coolbear', 'model_name_tacoma', 'model_name_hover h5', 'model_name_bb', 'model_name_manta', 'brand_tesla', 'model_name_t613', 'model_name_magnus', 'model_name_insignia opc', 'model_name_giulietta', 'model_name_500', 'model_name_sparky', 'model_name_odyssey na', 'model_name_ascot', 'brand_rover', 'model_name_aristo', 'model_name_mark x zio', 'model_name_calibra', 'model_name_stagea', 'model_name_blizzard', 'PN0', 'model_name_corvette', 'model_name_2126 «ода»', 'PNQ', 'model_name_807', 'model_name_1500', 'model_name_fusion na', 'model_name_inspire', 'brand_hummer', 'model_name_200', 'model_name_moco', 'model_name_diplomat', 'model_name_fora (a21)', 'model_name_lumina', 'model_name_nadia', 'model_name_levante', 'model_name_356', 'model_name_cla amg', 'model_name_nv200', 'model_name_equinox', 'model_name_sigma', 'model_name_cx 3', 'model_name_corona exiv', 'model_name_tourneo custom', 'model_name_caravan coach', 'model_name_hhr', 'model_name_road partner', 'model_name_rs4', 'model_name_actyon sports', 'model_name_4008', 'model_name_up!', 'model_name_festiva', 'model_name_voxy', 'model_name_760', 'model_name_almera tino', 'model_name_e pace', 'model_name_elgrand', 'model_name_premacy', 'model_name_dokker', 'model_name_wagon r plus', 'model_name_axela', 'model_name_m8', 'model_name_panda', 'model_name_q60', '4I2', 'model_name_cynos', 'climate-control-3', 'model_name_city', 'model_name_a klasse amg', 'model_name_blazer', 'model_name_agila', 'model_name_custom', 'model_name_pixis van', 'model_name_tiggo 3', 'model_name_viper', 'model_name_tico', 'model_name_magnum', 'model_name_s4', '4UC', 'model_name_odyssey (north america)', 'model_name_москвич 412', '6XD', 'model_name_tigra', 'model_name_d max', 'model_name_integra', 'model_name_lm', 'model_name_traviq', 'model_name_sq7', 'model_name_nitro', 'model_name_xantia', 'model_name_w189', '274', 'model_name_fiesta st', 'model_name_airtrek', 'model_name_citan', 'advanced-frontlighting-system', 'model_name_quattroporte', 'model_name_vision', 'model_name_orion', 'model_name_cl класс amg', 'model_name_aygo', 'model_name_n wgn', 'model_name_celsior', 'model_name_svx', 'model_name_sq8', '4D3', 'model_name_emgrand gt', '551', '7AA', 'model_name_taurus', 'model_name_wrx sti', 'model_name_espero', 'model_name_2 серии gran tourer', 'model_name_town & country', 'model_name_600', 'model_name_golf country', 'model_name_xm', 'model_name_model x', 'model_name_w186', 'model_name_rs7', 'model_name_lupo', 'model_name_sl класс amg', 'model_name_xfr', 'model_name_xjs', 'model_name_bluebird', 'model_name_v8', 'model_name_n box', 'model_name_f type', 'model_name_grace', 'model_name_8 серии', 'model_name_freda', 'model_name_florid', 'model_name_chariot', 'P31', 'model_name_tiggo 7', 'model_name_928', 'model_name_atlas', 'model_name_windstorm', 'model_name_f7', 'model_name_saber', 'model_name_granturismo', 'model_name_mdx', 'model_name_libety na', 'brand_acura', 'model_name_340', 'model_name_caprice', 'model_name_cl klasse amg', 'model_name_eunos 100', 'model_name_click', 'model_name_sera', '242', 'model_name_dart', 'model_name_100 series', 'model_name_granada', 'model_name_taycan', 'model_name_oriental son', 'model_name_escudo', 'model_name_granvia', 'model_name_tts', 'model_name_i30 n', 'model_name_2er', 'brand_gaz', 'model_name_rafaga', 'bodyType_тарга', 'model_name_solio', 'model_name_malibu', 'model_name_capa', 'model_name_ridgeline', 'model_name_3 mps', 'model_name_clio rs', 'model_name_z3m', 'model_name_tager', 'model_name_myway', 'model_name_pixis epoch', 'model_name_aqua', 'brand_haval', 'model_name_200sx', 'model_name_mondeo st', 'model_name_r класс', 'model_name_121', 'model_name_w188', '6R1', 'model_name_splash', 'model_name_xe', 'model_name_mx 3', 'model_name_signum', 'model_name_aerostar', 'audiosystem', 'model_name_cirrus', 'B16', 'model_name_liberty', 'model_name_s7', '14U', 'model_name_rs6', 'model_name_z1', 'brand_geo', 'model_name_emeraude', '351', 'U22', '2C5', 'model_name_crown victoria', 'model_name_m4', '25-inch-wheels', 'model_name_cx 30', 'model_name_gn8', 'model_name_sl класс', 'model_name_tuscani', 'model_name_ist', 'model_name_laser', 'model_name_new yorker', 'model_name_tiggo 4', 'model_name_qq6', 'model_name_xedos 6', 'model_name_q3 sportback', 'brand_alpina', 'model_name_tt rs', 'model_name_avalanche', 'climate-control', 'model_name_soarer', '807', 'model_name_wagon r', 'model_name_proceed marvie', 'model_name_stella', 'model_name_camry solara', 'model_name_zx', 'model_name_e tron sportback', 'model_name_glc klasse amg', 'model_name_cs35plus', 'PB0', 'model_name_corrado', 'model_name_240 series', '246', 'model_name_peri', 'model_name_m2', 'model_name_life', 'model_name_boxster', 'brand_alfa_romeo', 'model_name_bongo friendee', 'model_name_capella', 'model_name_wraith', 'model_name_cs75', 'model_name_pacifica', 'model_name_slk klasse amg', 'model_name_hoverh6', '367', 'model_name_mega cruiser', 'model_name_van', 'model_name_alero', 'model_name_focus (north america)', 'model_name_w110', 'model_name_i miev', 'model_name_mirage', 'brand_rolls_royce', 'model_name_1007', 'model_name_kei', 'model_name_vectra opc', 'model_name_w128', 'model_name_i8', 'model_name_liberta villa', 'model_name_pulsar', 'model_name_seltos', 'model_name_probe', 'model_name_806', 'model_name_k5 blazer', 'model_name_6 mps', 'model_name_premio', 'model_name_ray', 'model_name_astro', 'model_name_solano', 'model_name_vezel', 'model_name_delica d 5', '670', 'model_name_cressida', 'model_name_rs q3', 'model_name_fusion (north america)', 'model_name_el camino', 'model_name_bonus'}\n"
     ]
    }
   ],
   "source": [
    "bad_bin_features = GetLowVarianceFeatures(df, TAIL_DISTR_MIN_SAMPLE_SIZE)\n",
    "\n",
    "if len(bad_bin_features)>0:\n",
    "    print('низкая вариативность фич', bad_bin_features)\n",
    "    df = df.drop(bad_bin_features, axis=1)   \n",
    "\n",
    "    for c in bad_bin_features:\n",
    "        num_features = num_features.difference({c})\n",
    "        categ_features = categ_features.difference({c})\n",
    "        bin_features = bin_features.difference({c})        "
   ]
  },
  {
   "cell_type": "markdown",
   "metadata": {},
   "source": [
    "## избавляемся от численных фич с высокой корреляцией"
   ]
  },
  {
   "cell_type": "code",
   "execution_count": 68,
   "metadata": {},
   "outputs": [
    {
     "name": "stdout",
     "output_type": "stream",
     "text": [
      "11 признаков\n",
      "к удалению:  set()\n"
     ]
    },
    {
     "data": {
      "image/png": "[encoded data removed]",
      "text/plain": [
       "<Figure size 1296x1296 with 2 Axes>"
      ]
     },
     "metadata": {},
     "output_type": "display_data"
    }
   ],
   "source": [
    "bad_num_features, cm = GetHighCorrFeatures(df[num_features], df[target_name], CORR_ABS_MAX_LIMIT)\n",
    "\n",
    "sns.set(font_scale=1)\n",
    "plt.subplots(figsize=(18, 18))\n",
    "sns.heatmap(np.vectorize(lambda x: abs(x))(cm.values), square=True, fmt=\".1f\", cmap=\"coolwarm\")\n",
    "\n",
    "df = df.drop(bad_num_features, axis=1)\n",
    "num_features = num_features.difference(bad_num_features)"
   ]
  },
  {
   "cell_type": "code",
   "execution_count": 69,
   "metadata": {},
   "outputs": [],
   "source": [
    "#bad_bin_features, cm = GetHighCorrFeatures(df[bin_features], df[target_name], CORR_ABS_MAX_LIMIT)\n",
    "#долго считается. рез-т расчета:\n",
    "bad_bin_features = ['fuelType_бензин', 'rain-sensor', 'abs',  'airbag-driver']\n",
    "df = df.drop(bad_bin_features, axis=1)\n",
    "bin_features = bin_features.difference(bad_bin_features)        "
   ]
  },
  {
   "cell_type": "markdown",
   "metadata": {},
   "source": [
    "# устранение выбросов из train2021"
   ]
  },
  {
   "cell_type": "code",
   "execution_count": 70,
   "metadata": {},
   "outputs": [],
   "source": [
    "#обрезатель выбросов по 3sigma. только для нормально-подобных распределений.\n",
    "def CutOutlinersDf(df, feature, kSigma=3):\n",
    "    if feature not in df.columns:\n",
    "        return df\n",
    "    M = df[feature].median()\n",
    "    sigma = df[feature].std()\n",
    "    num_bad = len(df[(df[feature] < M-kSigma*sigma) | (df[feature] > M+kSigma*sigma)])\n",
    "    print('отсеяно аномальных наблюдений по признаку {}: {}'.format(feature, num_bad))\n",
    "    return df[(df[feature]>= M-kSigma*sigma) & (df[feature]<= M+kSigma*sigma)]\n",
    "\n",
    "def CutOutlinersIsolationForest(df, features):\n",
    "    V = df[features].values\n",
    "    clf = IsolationForest(random_state=42).fit(V)\n",
    "    mask = clf.predict(V)==1\n",
    "    print('IsolationForest отсеял {} наблюдений'.format(len(mask) - mask.astype(int).sum()))\n",
    "    df = df[mask]    \n",
    "    return df"
   ]
  },
  {
   "cell_type": "code",
   "execution_count": 71,
   "metadata": {},
   "outputs": [],
   "source": [
    "dftrain = df[(df.test == 0)]\n",
    "dftest = df[(df.test == 1)]\n",
    "df2020 = dftrain[dftrain.year_parsed==2020]\n",
    "df2021 = dftrain[dftrain.year_parsed==2021]"
   ]
  },
  {
   "cell_type": "code",
   "execution_count": 72,
   "metadata": {},
   "outputs": [
    {
     "name": "stdout",
     "output_type": "stream",
     "text": [
      "по числовым предикторам отсеяно 10742 наблюдений\n",
      "по числовым предикторам отсеяно 7642 наблюдений\n"
     ]
    }
   ],
   "source": [
    "df2020 = CutOutlinersIsolationForest(df2020, num_features.difference({'volume'})) #признак volume в 2020 не представлен в должном качестве\n",
    "df2021 = CutOutlinersIsolationForest(df2021, num_features)"
   ]
  },
  {
   "cell_type": "code",
   "execution_count": 73,
   "metadata": {},
   "outputs": [
    {
     "name": "stdout",
     "output_type": "stream",
     "text": [
      "отсеяно аномальных наблюдений по признаку price: 848\n",
      "отсеяно аномальных наблюдений по признаку price: 624\n"
     ]
    }
   ],
   "source": [
    "df2020 = CutOutlinersDf(df2020, target_name, K_SIGMA)\n",
    "df2021 = CutOutlinersDf(df2021, target_name, K_SIGMA)"
   ]
  },
  {
   "cell_type": "markdown",
   "metadata": {},
   "source": [
    "ML helpers"
   ]
  },
  {
   "cell_type": "code",
   "execution_count": 74,
   "metadata": {},
   "outputs": [],
   "source": [
    "TEST_SIZE = 0.2\n",
    "\n",
    "# получаем матрицу из ДФ, стандартизуем\n",
    "def GetXMatrix(df, num_features, bin_features, categ_features, usePoly=False):\n",
    "    # Результат применения PolynomialFeatures неудовлетворительный. Рост MAPE.\n",
    "    for c in categ_features.intersection(set(df.columns)): \n",
    "        df = df.drop(columns=c, axis=1)   #df подается с уже One-hot закодированными признаками. Так что просто удаляем, если не удалили ранее\n",
    "    if usePoly:\n",
    "        poly_f = PolynomialFeatures(2).fit_transform(df[num_features].values)  \n",
    "        return StandardScaler().fit_transform(np.hstack(\n",
    "            [\n",
    "                df[num_features].values, \n",
    "                poly_f, \n",
    "                df[bin_features].values.astype(np.int8, copy=False)\n",
    "             ]))\n",
    "    return np.hstack([StandardScaler().fit_transform(df[num_features].values) , df[bin_features].values.astype(np.int8, copy=False)])\n",
    "\n",
    "# ML training, testing showing MAPE \n",
    "def Evaluate(X, y, model, name_experiment='', test_size=TEST_SIZE):    \n",
    "    X_train, X_test, y_train, y_test = train_test_split(X, y, test_size=test_size,  shuffle=True, random_state=42)\n",
    "    model.fit(X_train, y_train)\n",
    "    y_test_pred = np.exp(model.predict(X_test))\n",
    "    y_train_pred = np.exp(model.predict(X_train))\n",
    "    MAPE_train = mean_absolute_percentage_error(np.exp(y_train), y_train_pred)\n",
    "    MAPE_test = mean_absolute_percentage_error(np.exp(y_test), y_test_pred)\n",
    "    print(name_experiment,':')\n",
    "    print('[train] MAPE = {:.4f} %'.format(100 * MAPE_train))\n",
    "    print('[test] MAPE = {:.4f} %'.format(100* MAPE_test))\n",
    "    print('overfiting tendence, {:.0f} %'.format(100* (MAPE_test - MAPE_train) / MAPE_test)) #чисто любительский подход к оценке переобучения - восколько раз отличается метрика на трейне и на тесте\n",
    "    print('----------------------')\n",
    "    \n",
    "def VizZeros(vals):\n",
    "    sns.set(font_scale=1)\n",
    "    plt.subplots(figsize=(18, 18))\n",
    "    sns.heatmap(np.vectorize(lambda x: 1 if x else 0)(vals), square=True, fmt=\".1f\", cmap=\"coolwarm\")    "
   ]
  },
  {
   "cell_type": "code",
   "execution_count": 75,
   "metadata": {},
   "outputs": [],
   "source": [
    "X = GetXMatrix(df2021, num_features, bin_features, categ_features, usePoly=USE_POLY)\n",
    "X_sub = GetXMatrix(dftest, num_features, bin_features, categ_features, usePoly=USE_POLY)\n",
    "y = df2021.price.values"
   ]
  },
  {
   "cell_type": "code",
   "execution_count": 76,
   "metadata": {},
   "outputs": [
    {
     "data": {
      "text/plain": [
       "(42946, 777)"
      ]
     },
     "execution_count": 76,
     "metadata": {},
     "output_type": "execute_result"
    }
   ],
   "source": [
    "X.shape"
   ]
  },
  {
   "cell_type": "code",
   "execution_count": 77,
   "metadata": {},
   "outputs": [
    {
     "data": {
      "text/plain": [
       "(34686, 777)"
      ]
     },
     "execution_count": 77,
     "metadata": {},
     "output_type": "execute_result"
    }
   ],
   "source": [
    "X_sub.shape"
   ]
  },
  {
   "cell_type": "code",
   "execution_count": 78,
   "metadata": {},
   "outputs": [
    {
     "data": {
      "text/plain": [
       "(42946,)"
      ]
     },
     "execution_count": 78,
     "metadata": {},
     "output_type": "execute_result"
    }
   ],
   "source": [
    "y.shape"
   ]
  },
  {
   "cell_type": "code",
   "execution_count": 79,
   "metadata": {},
   "outputs": [
    {
     "name": "stdout",
     "output_type": "stream",
     "text": [
      "RidgeCV :\n",
      "[train] MAPE = 12.2650 %\n",
      "[test] MAPE = 12.6376 %\n",
      "overfiting tendence, 3 %\n",
      "----------------------\n"
     ]
    }
   ],
   "source": [
    "model1 = RidgeCV(alphas=[1e-6, 1e-5, 1e-4, 1e-3, 1e-2, 1e-1, 1, 10, 100]) \n",
    "Evaluate(X, y, model1, 'RidgeCV')"
   ]
  },
  {
   "cell_type": "code",
   "execution_count": 80,
   "metadata": {},
   "outputs": [
    {
     "name": "stdout",
     "output_type": "stream",
     "text": [
      "PoissonRegressor :\n",
      "[train] MAPE = 12.3328 %\n",
      "[test] MAPE = 12.6799 %\n",
      "overfiting tendence, 3 %\n",
      "----------------------\n"
     ]
    }
   ],
   "source": [
    "model2 = linear_model.PoissonRegressor(max_iter=1000, alpha=0)\n",
    "Evaluate(X, y, model2, 'PoissonRegressor')"
   ]
  },
  {
   "cell_type": "code",
   "execution_count": 81,
   "metadata": {},
   "outputs": [],
   "source": [
    "# ищем Грааль\n",
    "model = LGBMRegressor(n_estimators=1500, n_jobs=-1, random_state=42)\n",
    "param_grid = [\n",
    "    {\n",
    "        'max_depth': [3,4,5,6],\n",
    "        'learning_rate' : [0.05, 0.08, 0.09, 0.1, 0.15]\n",
    "    }\n",
    "]\n",
    "\n",
    "gs = GridSearchCV(estimator=model, param_grid=param_grid, scoring='neg_mean_absolute_percentage_error', verbose=6)\n",
    "#gs.fit(X, y)\n",
    "#gs.grid_scores_\n",
    "#gs.best_params_"
   ]
  },
  {
   "cell_type": "code",
   "execution_count": 82,
   "metadata": {},
   "outputs": [
    {
     "name": "stdout",
     "output_type": "stream",
     "text": [
      "LGBMRegressor :\n",
      "[train] MAPE = 9.5496 %\n",
      "[test] MAPE = 11.3680 %\n",
      "overfiting tendence, 16 %\n",
      "----------------------\n"
     ]
    }
   ],
   "source": [
    "model3 = LGBMRegressor(n_estimators=1500, max_depth=4, learning_rate=0.1, n_jobs=-1, random_state=42)\n",
    "Evaluate(X, y, model3, 'LGBMRegressor')"
   ]
  },
  {
   "cell_type": "markdown",
   "metadata": {},
   "source": [
    "LGBMRegressor :\n",
    "[train] MAPE = 10.2235 %\n",
    "[test] MAPE = 12.1556 %\n",
    "overfiting tendence, 16 %"
   ]
  },
  {
   "cell_type": "code",
   "execution_count": 83,
   "metadata": {},
   "outputs": [
    {
     "name": "stdout",
     "output_type": "stream",
     "text": [
      "OrthogonalMatchingPursuit :\n",
      "[train] MAPE = 14.5019 %\n",
      "[test] MAPE = 14.6917 %\n",
      "overfiting tendence, 1 %\n",
      "----------------------\n"
     ]
    }
   ],
   "source": [
    "from sklearn.linear_model import OrthogonalMatchingPursuit\n",
    "model5 = OrthogonalMatchingPursuit()\n",
    "Evaluate(X, y, model5, 'OrthogonalMatchingPursuit')"
   ]
  },
  {
   "cell_type": "code",
   "execution_count": 84,
   "metadata": {},
   "outputs": [],
   "source": [
    "def get_base_models():\n",
    "    models = dict()\n",
    "    models['LGBMRegressor'] = model3\n",
    "    models['OrthogonalMatchingPursuit'] = model5\n",
    "    models['RidgeCV'] = model1\n",
    "    return models\n",
    "\n",
    "def get_stacking():\n",
    "    level0 = list()\n",
    "    for name, model in get_base_models().items():\n",
    "        level0.append((name, model))\n",
    "    return StackingRegressor(estimators=level0, final_estimator=LinearRegression(n_jobs=-1), cv=5, n_jobs=-1, verbose=6)\n",
    "     \n",
    "\n",
    "def get_models():\n",
    "    models = get_base_models()\n",
    "    models['stacking'] = get_stacking()\n",
    "    return models\n",
    "\n",
    "sc = 'neg_mean_squared_error' #'neg_mean_absolute_percentage_error' only in sklearn local runtime \n",
    "def evaluate_model(model, X, y):\n",
    "    cv = RepeatedKFold(n_splits=5, n_repeats=3, random_state=42)\n",
    "    return cross_val_score(model, X, y, scoring=sc, cv=cv, n_jobs=-1, error_score='raise')\n",
    "\n",
    "def CreateStacking():\n",
    "    models = get_models()\n",
    "    results, names = list(), list()\n",
    "    for name, model in models.items():\n",
    "        print('evaluating', name)\n",
    "        scores = evaluate_model(model, X, y)\n",
    "        results.append(scores)\n",
    "        names.append(name)\n",
    "        print('{} {}: {:.4f} +-{:.4f}'.format(name, sc, -100*statistics.mean(scores), 100*statistics.stdev(scores)))\n",
    "\n",
    "    pyplot.boxplot(results, labels=names, showmeans=True)\n",
    "    pyplot.show()\n",
    "    return models['stacking']"
   ]
  },
  {
   "cell_type": "code",
   "execution_count": 85,
   "metadata": {},
   "outputs": [
    {
     "name": "stdout",
     "output_type": "stream",
     "text": [
      "stacking :\n",
      "[train] MAPE = 9.5496 %\n",
      "[test] MAPE = 11.3680 %\n",
      "overfiting tendence, 16 %\n",
      "----------------------\n"
     ]
    }
   ],
   "source": [
    "model = CreateStacking()\n",
    "Evaluate(X, y, model, 'stacking')"
   ]
  },
  {
   "cell_type": "markdown",
   "metadata": {},
   "source": [
    "## гипотеза на инфляцию"
   ]
  },
  {
   "cell_type": "code",
   "execution_count": 120,
   "metadata": {},
   "outputs": [
    {
     "name": "stdout",
     "output_type": "stream",
     "text": [
      "infl_year =  1.5349311301154025\n",
      "infl_half_year =  1.5349311301154025\n"
     ]
    },
    {
     "data": {
      "image/png": "[encoded data removed]",
      "text/plain": [
       "<Figure size 432x288 with 1 Axes>"
      ]
     },
     "metadata": {},
     "output_type": "display_data"
    }
   ],
   "source": [
    "df2020.price.hist(bins=30)\n",
    "df2021.price.hist(bins=30)\n",
    "med20 = df2020.price.apply(lambda x: np.exp(x)).mean() \n",
    "med21 = df2021.price.apply(lambda x: np.exp(x)).mean()\n",
    "infl_year = med21 / med20\n",
    "#infl_half_year = 1 + (((med21 / med20)-1) * 0.5)\n",
    "print('infl_year = ', infl_year) \n",
    "#print('infl_half_year = ', infl_half_year) "
   ]
  },
  {
   "cell_type": "code",
   "execution_count": 121,
   "metadata": {},
   "outputs": [
    {
     "data": {
      "text/plain": [
       "<matplotlib.axes._subplots.AxesSubplot at 0x1a3240de8e0>"
      ]
     },
     "execution_count": 121,
     "metadata": {},
     "output_type": "execute_result"
    },
    {
     "data": {
      "image/png": "[encoded data removed]",
      "text/plain": [
       "<Figure size 432x288 with 1 Axes>"
      ]
     },
     "metadata": {},
     "output_type": "display_data"
    }
   ],
   "source": [
    "df2020.price.apply(lambda x: np.log(np.exp(x)*infl_year)).hist(bins=30)\n",
    "df2021.price.hist(bins=30)"
   ]
  },
  {
   "cell_type": "markdown",
   "metadata": {},
   "source": [
    "# 7. Submission"
   ]
  },
  {
   "cell_type": "code",
   "execution_count": 122,
   "metadata": {},
   "outputs": [],
   "source": [
    "VERSION = 'local12'"
   ]
  },
  {
   "cell_type": "code",
   "execution_count": 123,
   "metadata": {},
   "outputs": [
    {
     "data": {
      "text/html": [
       "<div>\n",
       "<style scoped>\n",
       "    .dataframe tbody tr th:only-of-type {\n",
       "        vertical-align: middle;\n",
       "    }\n",
       "\n",
       "    .dataframe tbody tr th {\n",
       "        vertical-align: top;\n",
       "    }\n",
       "\n",
       "    .dataframe thead th {\n",
       "        text-align: right;\n",
       "    }\n",
       "</style>\n",
       "<table border=\"1\" class=\"dataframe\">\n",
       "  <thead>\n",
       "    <tr style=\"text-align: right;\">\n",
       "      <th></th>\n",
       "      <th>sell_id</th>\n",
       "      <th>price</th>\n",
       "    </tr>\n",
       "  </thead>\n",
       "  <tbody>\n",
       "    <tr>\n",
       "      <th>126610</th>\n",
       "      <td>1100575026</td>\n",
       "      <td>440000.0</td>\n",
       "    </tr>\n",
       "    <tr>\n",
       "      <th>126611</th>\n",
       "      <td>1100549428</td>\n",
       "      <td>710000.0</td>\n",
       "    </tr>\n",
       "    <tr>\n",
       "      <th>126612</th>\n",
       "      <td>1100658222</td>\n",
       "      <td>720000.0</td>\n",
       "    </tr>\n",
       "    <tr>\n",
       "      <th>126613</th>\n",
       "      <td>1100937408</td>\n",
       "      <td>580000.0</td>\n",
       "    </tr>\n",
       "    <tr>\n",
       "      <th>126614</th>\n",
       "      <td>1101037972</td>\n",
       "      <td>540000.0</td>\n",
       "    </tr>\n",
       "    <tr>\n",
       "      <th>126615</th>\n",
       "      <td>1100912634</td>\n",
       "      <td>570000.0</td>\n",
       "    </tr>\n",
       "    <tr>\n",
       "      <th>126616</th>\n",
       "      <td>1101228730</td>\n",
       "      <td>610000.0</td>\n",
       "    </tr>\n",
       "    <tr>\n",
       "      <th>126617</th>\n",
       "      <td>1100165896</td>\n",
       "      <td>340000.0</td>\n",
       "    </tr>\n",
       "    <tr>\n",
       "      <th>126618</th>\n",
       "      <td>1100768262</td>\n",
       "      <td>1220000.0</td>\n",
       "    </tr>\n",
       "    <tr>\n",
       "      <th>126619</th>\n",
       "      <td>1101218501</td>\n",
       "      <td>640000.0</td>\n",
       "    </tr>\n",
       "  </tbody>\n",
       "</table>\n",
       "</div>"
      ],
      "text/plain": [
       "           sell_id     price\n",
       "126610  1100575026  440000.0\n",
       "126611  1100549428  710000.0\n",
       "126612  1100658222  720000.0\n",
       "126613  1100937408  580000.0\n",
       "126614  1101037972  540000.0\n",
       "126615  1100912634  570000.0\n",
       "126616  1101228730  610000.0\n",
       "126617  1100165896  340000.0\n",
       "126618  1100768262 1220000.0\n",
       "126619  1101218501  640000.0"
      ]
     },
     "execution_count": 123,
     "metadata": {},
     "output_type": "execute_result"
    }
   ],
   "source": [
    "predict_submission = np.round(np.exp(model.predict(X_sub))/infl_year,-4)\n",
    "df_submit = pd.DataFrame(df[df.test == 1]['sell_id']).astype(int)\n",
    "df_submit['price'] = predict_submission\n",
    "df_submit.to_csv(f'submission_v{VERSION}.csv', index=False)\n",
    "df_submit.head(10) \n"
   ]
  },
  {
   "cell_type": "code",
   "execution_count": 117,
   "metadata": {},
   "outputs": [
    {
     "data": {
      "text/plain": [
       "<matplotlib.axes._subplots.AxesSubplot at 0x1a323a65370>"
      ]
     },
     "execution_count": 117,
     "metadata": {},
     "output_type": "execute_result"
    },
    {
     "data": {
      "image/png": "[encoded data removed]",
      "text/plain": [
       "<Figure size 432x288 with 1 Axes>"
      ]
     },
     "metadata": {},
     "output_type": "display_data"
    }
   ],
   "source": [
    "df_submit[df_submit.price<2000000]['price'].hist(bins=50)\n"
   ]
  },
  {
   "cell_type": "code",
   "execution_count": 124,
   "metadata": {},
   "outputs": [
    {
     "data": {
      "text/plain": [
       "<matplotlib.axes._subplots.AxesSubplot at 0x1a323fbc910>"
      ]
     },
     "execution_count": 124,
     "metadata": {},
     "output_type": "execute_result"
    },
    {
     "data": {
      "image/png": "[encoded data removed]",
      "text/plain": [
       "<Figure size 432x288 with 1 Axes>"
      ]
     },
     "metadata": {},
     "output_type": "display_data"
    }
   ],
   "source": [
    "df[(df.test==0) & (df.year_parsed==2020) & (np.exp(df.price)<2000000)]['price'].apply(lambda x: np.exp(x)).hist(bins=50)\n"
   ]
  },
  {
   "cell_type": "code",
   "execution_count": 125,
   "metadata": {},
   "outputs": [
    {
     "data": {
      "text/plain": [
       "<matplotlib.axes._subplots.AxesSubplot at 0x1a32915c400>"
      ]
     },
     "execution_count": 125,
     "metadata": {},
     "output_type": "execute_result"
    },
    {
     "data": {
      "image/png": "[encoded data removed]",
      "text/plain": [
       "<Figure size 432x288 with 1 Axes>"
      ]
     },
     "metadata": {},
     "output_type": "display_data"
    }
   ],
   "source": [
    "df[(df.test==0) & (df.year_parsed==2021) & (np.exp(df.price)<2000000)]['price'].apply(lambda x: np.exp(x)).hist(bins=50)"
   ]
  },
  {
   "cell_type": "markdown",
   "metadata": {
    "papermill": {
     "duration": 0.087712,
     "end_time": "2020-10-26T12:48:14.104388",
     "exception": false,
     "start_time": "2020-10-26T12:48:14.016676",
     "status": "completed"
    },
    "tags": []
   },
   "source": [
    "#### What's next?\n",
    "Что еще можно сделать, чтобы улучшить результат:\n",
    "\n",
    "* Посмотреть, что можно извлечь из признаков или как еще можно обработать признаки\n",
    "* Попробовать другие алгоритмы и библиотеки ML\n",
    "* Использование Blending & Stacking не принесло ожидаемого улучшеня качества предсказани. Наилучший результат имело применение Random Forest с регуляризацией."
   ]
  },
  {
   "cell_type": "markdown",
   "metadata": {},
   "source": [
    "Подробный чек лист: https://docs.google.com/spreadsheets/d/1I_ErM3U0Cs7Rs1obyZbIEGtVn-H47pHNCi4xdDgUmXY/edit?usp=sharing"
   ]
  }
 ],
 "metadata": {
  "kernelspec": {
   "display_name": "Python 3 (ipykernel)",
   "language": "python",
   "name": "python3"
  },
  "language_info": {
   "codemirror_mode": {
    "name": "ipython",
    "version": 3
   },
   "file_extension": ".py",
   "mimetype": "text/x-python",
   "name": "python",
   "nbconvert_exporter": "python",
   "pygments_lexer": "ipython3",
   "version": "3.8.3"
  },
  "varInspector": {
   "cols": {
    "lenName": 16,
    "lenType": 16,
    "lenVar": 40
   },
   "kernels_config": {
    "python": {
     "delete_cmd_postfix": "",
     "delete_cmd_prefix": "del ",
     "library": "var_list.py",
     "varRefreshCmd": "print(var_dic_list())"
    },
    "r": {
     "delete_cmd_postfix": ") ",
     "delete_cmd_prefix": "rm(",
     "library": "var_list.r",
     "varRefreshCmd": "cat(var_dic_list()) "
    }
   },
   "types_to_exclude": [
    "module",
    "function",
    "builtin_function_or_method",
    "instance",
    "_Feature"
   ],
   "window_display": false
  }
 },
 "nbformat": 4,
 "nbformat_minor": 4
}
