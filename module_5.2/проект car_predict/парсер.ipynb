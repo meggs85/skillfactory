{
 "cells": [
  {
   "cell_type": "code",
   "execution_count": 1,
   "metadata": {},
   "outputs": [
    {
     "ename": "ModuleNotFoundError",
     "evalue": "No module named 'google'",
     "output_type": "error",
     "traceback": [
      "\u001b[1;31m---------------------------------------------------------------------------\u001b[0m",
      "\u001b[1;31mModuleNotFoundError\u001b[0m                       Traceback (most recent call last)",
      "\u001b[1;32m<ipython-input-1-c527749f7f1e>\u001b[0m in \u001b[0;36m<module>\u001b[1;34m\u001b[0m\n\u001b[0;32m      6\u001b[0m \u001b[1;32mimport\u001b[0m \u001b[0mre\u001b[0m\u001b[1;33m\u001b[0m\u001b[1;33m\u001b[0m\u001b[0m\n\u001b[0;32m      7\u001b[0m \u001b[1;32mimport\u001b[0m \u001b[0mpandas\u001b[0m \u001b[1;32mas\u001b[0m \u001b[0mpd\u001b[0m\u001b[1;33m\u001b[0m\u001b[1;33m\u001b[0m\u001b[0m\n\u001b[1;32m----> 8\u001b[1;33m \u001b[1;32mfrom\u001b[0m \u001b[0mgoogle\u001b[0m\u001b[1;33m.\u001b[0m\u001b[0mcolab\u001b[0m \u001b[1;32mimport\u001b[0m \u001b[0mdrive\u001b[0m\u001b[1;33m\u001b[0m\u001b[1;33m\u001b[0m\u001b[0m\n\u001b[0m\u001b[0;32m      9\u001b[0m \u001b[0mdrive\u001b[0m\u001b[1;33m.\u001b[0m\u001b[0mmount\u001b[0m\u001b[1;33m(\u001b[0m\u001b[1;34m'/drive'\u001b[0m\u001b[1;33m)\u001b[0m\u001b[1;33m\u001b[0m\u001b[1;33m\u001b[0m\u001b[0m\n\u001b[0;32m     10\u001b[0m \u001b[1;32mdef\u001b[0m \u001b[0mgetPagesCount\u001b[0m\u001b[1;33m(\u001b[0m\u001b[1;33m)\u001b[0m\u001b[1;33m:\u001b[0m\u001b[1;33m\u001b[0m\u001b[1;33m\u001b[0m\u001b[0m\n",
      "\u001b[1;31mModuleNotFoundError\u001b[0m: No module named 'google'"
     ]
    }
   ],
   "source": [
    "import requests\n",
    "from bs4 import BeautifulSoup\n",
    "import csv\n",
    "import time\n",
    "import json\n",
    "import re\n",
    "import pandas as pd\n",
    "from google.colab import drive\n",
    "drive.mount('/drive')\n",
    "def getPagesCount():\n",
    "    first_page = 'https://auto.ru/cars/all/?damage_group=ANY&customs_state_group=DOESNT_MATTER&has_image=false&currency=RUR&output_type=list&page_num_offers=1'\n",
    "    response_list_ads = requests.get(first_page)\n",
    "    response_list_ads.encoding = 'utf-8'\n",
    "    page_list_ads = BeautifulSoup(response_list_ads.text, 'html.parser')\n",
    "    ads_total = page_list_ads.find('button', class_='Button Button_color_blue Button_size_m Button_type_button Button_width_full')\\\n",
    "    .find('span', class_='ButtonWithLoader__content').text\n",
    "    ads_total = ads_total.replace(u'\\xa0', u' ').split()[1:3]\n",
    "    ads_total = int(''.join(ads_total)) - 20000 # exclude bottom 20k ads\n",
    "    number_of_pages = int(ads_total / 38) # 38 ads on one page\n",
    "    return number_of_pages\n",
    "def getLinks():\n",
    "    # collect all links from range of pages\n",
    "    base_url = 'https://auto.ru/cars/all/?damage_group=ANY&customs_state_group=DOESNT_MATTER&has_image=false&currency=RUR&output_type=list&page_num_offers='\n",
    "    number_of_pages = getPagesCount()\n",
    "    all_ads = []\n",
    "    for i in range(1, number_of_pages): # Number of pages you want to parse\n",
    "        print('Page in progress:', i, 'Total Pages:', number_of_pages)\n",
    "        url_with_list_of_ads = base_url + str(i)\n",
    "        response_list_ads = requests.get(url_with_list_of_ads)\n",
    "        response_list_ads.encoding = 'utf-8'\n",
    "        page_list_ads = BeautifulSoup(response_list_ads.text, 'html.parser')\n",
    "        cars_from_page = page_list_ads.find_all('a', class_='Link ListingItemTitle__link')\n",
    "        cars_from_page_list = [elem.get('href') for elem in cars_from_page]\n",
    "        with open('/drive/My Drive/all_ads.csv', 'a') as myfile:\n",
    "            wr = csv.writer(myfile)\n",
    "            for elem in cars_from_page_list:\n",
    "                wr.writerow([elem])\n",
    "                all_ads.append(elem)\n",
    "    return all_ads\n",
    "all_ads = getLinks()"
   ]
  },
  {
   "cell_type": "code",
   "execution_count": null,
   "metadata": {},
   "outputs": [],
   "source": []
  }
 ],
 "metadata": {
  "kernelspec": {
   "display_name": "Python 3",
   "language": "python",
   "name": "python3"
  },
  "language_info": {
   "codemirror_mode": {
    "name": "ipython",
    "version": 3
   },
   "file_extension": ".py",
   "mimetype": "text/x-python",
   "name": "python",
   "nbconvert_exporter": "python",
   "pygments_lexer": "ipython3",
   "version": "3.8.3"
  },
  "varInspector": {
   "cols": {
    "lenName": 16,
    "lenType": 16,
    "lenVar": 40
   },
   "kernels_config": {
    "python": {
     "delete_cmd_postfix": "",
     "delete_cmd_prefix": "del ",
     "library": "var_list.py",
     "varRefreshCmd": "print(var_dic_list())"
    },
    "r": {
     "delete_cmd_postfix": ") ",
     "delete_cmd_prefix": "rm(",
     "library": "var_list.r",
     "varRefreshCmd": "cat(var_dic_list()) "
    }
   },
   "types_to_exclude": [
    "module",
    "function",
    "builtin_function_or_method",
    "instance",
    "_Feature"
   ],
   "window_display": false
  }
 },
 "nbformat": 4,
 "nbformat_minor": 4
}
